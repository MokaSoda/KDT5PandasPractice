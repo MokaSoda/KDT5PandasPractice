{
 "cells": [
  {
   "cell_type": "markdown",
   "source": [
    "## 시리즈 연습하기"
   ],
   "metadata": {
    "collapsed": false
   },
   "id": "5481080277c685c"
  },
  {
   "cell_type": "code",
   "outputs": [],
   "source": [
    "import pandas as pd\n",
    "import numpy as np"
   ],
   "metadata": {
    "collapsed": false,
    "ExecuteTime": {
     "end_time": "2024-01-14T01:46:50.179707100Z",
     "start_time": "2024-01-14T01:46:49.692519100Z"
    }
   },
   "id": "16ee88a4521ba6a",
   "execution_count": 1
  },
  {
   "cell_type": "code",
   "outputs": [
    {
     "data": {
      "text/plain": "Series([], dtype: int8)"
     },
     "execution_count": 4,
     "metadata": {},
     "output_type": "execute_result"
    }
   ],
   "source": [
    "pd.Series(dtype='int8')"
   ],
   "metadata": {
    "collapsed": false,
    "ExecuteTime": {
     "end_time": "2024-01-14T01:47:02.796262400Z",
     "start_time": "2024-01-14T01:47:02.785226100Z"
    }
   },
   "id": "365ab0353d3fba6f",
   "execution_count": 4
  },
  {
   "cell_type": "code",
   "outputs": [
    {
     "data": {
      "text/plain": "0     Chocolate\n1       Vanilla\n2    Strawberry\n3    Rum Raisin\ndtype: object"
     },
     "execution_count": 5,
     "metadata": {},
     "output_type": "execute_result"
    }
   ],
   "source": [
    "ice크림맛들 = [\n",
    "    \"Chocolate\",\n",
    "    \"Vanilla\",\n",
    "    \"Strawberry\",\n",
    "    \"Rum Raisin\",\n",
    "]\n",
    "pd.Series(ice크림맛들)"
   ],
   "metadata": {
    "collapsed": false,
    "ExecuteTime": {
     "end_time": "2024-01-14T01:47:19.818082600Z",
     "start_time": "2024-01-14T01:47:19.798941400Z"
    }
   },
   "id": "362dc7cdd2abc558",
   "execution_count": 5
  },
  {
   "cell_type": "code",
   "outputs": [
    {
     "data": {
      "text/plain": "0     Chocolate\n1       Vanilla\n2    Strawberry\n3    Rum Raisin\ndtype: object"
     },
     "execution_count": 6,
     "metadata": {},
     "output_type": "execute_result"
    }
   ],
   "source": [
    "pd.Series(data=ice크림맛들)"
   ],
   "metadata": {
    "collapsed": false,
    "ExecuteTime": {
     "end_time": "2024-01-14T01:47:34.992803400Z",
     "start_time": "2024-01-14T01:47:34.982559400Z"
    }
   },
   "id": "c794925b87526b65",
   "execution_count": 6
  },
  {
   "cell_type": "code",
   "outputs": [
    {
     "data": {
      "text/plain": "월요일     Chocolate\n수요일       Vanilla\n금요일    Strawberry\n토요일    Rum Raisin\ndtype: object"
     },
     "execution_count": 7,
     "metadata": {},
     "output_type": "execute_result"
    }
   ],
   "source": [
    "days요일들 = (\"월요일\", '수요일', '금요일', '토요일')\n",
    "\n",
    "pd.Series(data=ice크림맛들, index=days요일들)"
   ],
   "metadata": {
    "collapsed": false,
    "ExecuteTime": {
     "end_time": "2024-01-14T01:48:19.994212900Z",
     "start_time": "2024-01-14T01:48:19.983704500Z"
    }
   },
   "id": "1d88401ea9a52443",
   "execution_count": 7
  },
  {
   "cell_type": "code",
   "outputs": [
    {
     "data": {
      "text/plain": "0     True\n1    False\n2    False\ndtype: bool"
     },
     "execution_count": 8,
     "metadata": {},
     "output_type": "execute_result"
    }
   ],
   "source": [
    "bool참거짓데이터 = [True, False, False]\n",
    "pd.Series(bool참거짓데이터)"
   ],
   "metadata": {
    "collapsed": false,
    "ExecuteTime": {
     "end_time": "2024-01-14T01:49:00.154623300Z",
     "start_time": "2024-01-14T01:49:00.137341100Z"
    }
   },
   "id": "dd953afc0422f7c",
   "execution_count": 8
  },
  {
   "cell_type": "code",
   "outputs": [
    {
     "data": {
      "text/plain": "장시작    123.4\n장종료    512.3\ndtype: float64"
     },
     "execution_count": 9,
     "metadata": {},
     "output_type": "execute_result"
    }
   ],
   "source": [
    "stock_주식가격 = [123.4,512.3]\n",
    "stock_장시작좀료 = ('장시작', '장종료')\n",
    "\n",
    "pd.Series(stock_주식가격,stock_장시작좀료)"
   ],
   "metadata": {
    "collapsed": false,
    "ExecuteTime": {
     "end_time": "2024-01-14T01:49:47.493600900Z",
     "start_time": "2024-01-14T01:49:47.475190300Z"
    }
   },
   "id": "3571d1aa4694e3e9",
   "execution_count": 9
  },
  {
   "cell_type": "code",
   "outputs": [
    {
     "data": {
      "text/plain": "0      1\n1      4\n2      7\n3     10\n4     13\n5     16\n6     19\n7     22\n8     25\n9     28\n10    31\n11    34\n12    37\n13    40\n14    43\n15    46\n16    49\ndtype: int64"
     },
     "execution_count": 11,
     "metadata": {},
     "output_type": "execute_result"
    }
   ],
   "source": [
    "lucky_낫랜덤번호 = list(range(1,50,3))\n",
    "pd.Series(lucky_낫랜덤번호)"
   ],
   "metadata": {
    "collapsed": false,
    "ExecuteTime": {
     "end_time": "2024-01-14T01:50:22.995648500Z",
     "start_time": "2024-01-14T01:50:22.974292400Z"
    }
   },
   "id": "35ba71c6c943ddfa",
   "execution_count": 11
  },
  {
   "cell_type": "code",
   "outputs": [
    {
     "data": {
      "text/plain": "0      1.0\n1      4.0\n2      7.0\n3     10.0\n4     13.0\n5     16.0\n6     19.0\n7     22.0\n8     25.0\n9     28.0\n10    31.0\n11    34.0\n12    37.0\n13    40.0\n14    43.0\n15    46.0\n16    49.0\ndtype: float64"
     },
     "execution_count": 12,
     "metadata": {},
     "output_type": "execute_result"
    }
   ],
   "source": [
    "pd.Series(data=lucky_낫랜덤번호, dtype='float')"
   ],
   "metadata": {
    "collapsed": false,
    "ExecuteTime": {
     "end_time": "2024-01-14T01:50:48.435788900Z",
     "start_time": "2024-01-14T01:50:48.410079700Z"
    }
   },
   "id": "78c07fe5271860bd",
   "execution_count": 12
  },
  {
   "cell_type": "code",
   "outputs": [
    {
     "data": {
      "text/plain": "0    93.0\n1    31.0\n2    23.0\n3     NaN\n4    11.0\n5    22.0\ndtype: float64"
     },
     "execution_count": 13,
     "metadata": {},
     "output_type": "execute_result"
    }
   ],
   "source": [
    "# np.nan 사용하기\n",
    "\n",
    "temp_온도데이터 = [93,31,23,np.nan, 11,22]\n",
    "pd.Series(temp_온도데이터)"
   ],
   "metadata": {
    "collapsed": false,
    "ExecuteTime": {
     "end_time": "2024-01-14T01:51:20.330855300Z",
     "start_time": "2024-01-14T01:51:20.306151500Z"
    }
   },
   "id": "6d51aa4edb24f08c",
   "execution_count": 13
  },
  {
   "cell_type": "code",
   "outputs": [
    {
     "data": {
      "text/plain": "시리얼      125\n시리얼2    1125\n시리얼3    3125\ndtype: int64"
     },
     "execution_count": 16,
     "metadata": {},
     "output_type": "execute_result"
    }
   ],
   "source": [
    "data_딕셔너리={\n",
    "   '시리얼' : 125,\n",
    "    '시리얼2' : 1125,\n",
    "    '시리얼3' : 3125,\n",
    "}\n",
    "\n",
    "diet = pd.Series(data=data_딕셔너리)\n",
    "diet"
   ],
   "metadata": {
    "collapsed": false,
    "ExecuteTime": {
     "end_time": "2024-01-14T01:52:06.144578800Z",
     "start_time": "2024-01-14T01:52:06.134802100Z"
    }
   },
   "id": "996537a909c87d3e",
   "execution_count": 16
  },
  {
   "cell_type": "code",
   "outputs": [
    {
     "data": {
      "text/plain": "0    빨강\n1    조황\n2    검정\ndtype: object"
     },
     "execution_count": 17,
     "metadata": {},
     "output_type": "execute_result"
    }
   ],
   "source": [
    "pd.Series(data = (\"빨강\", \"조황\",\"검정\"))\n"
   ],
   "metadata": {
    "collapsed": false,
    "ExecuteTime": {
     "end_time": "2024-01-14T01:52:23.519485200Z",
     "start_time": "2024-01-14T01:52:23.509267600Z"
    }
   },
   "id": "dd66cb066c47e2d8",
   "execution_count": 17
  },
  {
   "cell_type": "code",
   "outputs": [
    {
     "data": {
      "text/plain": "0     (12, 31, 23)\n1    (15, 23, 111)\ndtype: object"
     },
     "execution_count": 18,
     "metadata": {},
     "output_type": "execute_result"
    }
   ],
   "source": [
    "rgb삼원색 = [\n",
    "    (12,31,23),\n",
    "    (15,23,111)\n",
    "]\n",
    "pd.Series(data= rgb삼원색)"
   ],
   "metadata": {
    "collapsed": false,
    "ExecuteTime": {
     "end_time": "2024-01-14T01:52:54.189631800Z",
     "start_time": "2024-01-14T01:52:54.163466700Z"
    }
   },
   "id": "85fe0440600f896a",
   "execution_count": 18
  },
  {
   "cell_type": "code",
   "outputs": [
    {
     "name": "stdout",
     "output_type": "stream",
     "text": [
      "세트는 사용못함\n",
      "0    3123\n",
      "1      12\n",
      "dtype: int64\n"
     ]
    }
   ],
   "source": [
    "# 셋트는 리스트 변환후 사용해야함\n",
    "myset = {12,3123,3123}\n",
    "try:\n",
    "    pd.Series(myset)\n",
    "except:\n",
    "    print(\"세트는 사용못함\")\n",
    "print(pd.Series(list(myset)))"
   ],
   "metadata": {
    "collapsed": false,
    "ExecuteTime": {
     "end_time": "2024-01-14T01:53:50.298395Z",
     "start_time": "2024-01-14T01:53:50.272451200Z"
    }
   },
   "id": "a37a9acf1416138c",
   "execution_count": 20
  },
  {
   "cell_type": "code",
   "outputs": [
    {
     "data": {
      "text/plain": "0     71\n1     57\n2     57\n3     28\n4     88\n5     47\n6     66\n7     59\n8     88\n9     38\n10    57\ndtype: int32"
     },
     "execution_count": 21,
     "metadata": {},
     "output_type": "execute_result"
    }
   ],
   "source": [
    "r랜덤데이터 = np.random.randint(1,100,11)\n",
    "pd.Series(data=r랜덤데이터)"
   ],
   "metadata": {
    "collapsed": false,
    "ExecuteTime": {
     "end_time": "2024-01-14T01:54:27.111226300Z",
     "start_time": "2024-01-14T01:54:27.092273Z"
    }
   },
   "id": "27b4c37ba3c1269b",
   "execution_count": 21
  },
  {
   "cell_type": "code",
   "outputs": [
    {
     "data": {
      "text/plain": "array([ 125, 1125, 3125], dtype=int64)"
     },
     "execution_count": 22,
     "metadata": {},
     "output_type": "execute_result"
    }
   ],
   "source": [
    "diet.values"
   ],
   "metadata": {
    "collapsed": false,
    "ExecuteTime": {
     "end_time": "2024-01-14T01:54:43.525353700Z",
     "start_time": "2024-01-14T01:54:43.511105400Z"
    }
   },
   "id": "356394a4c8d4490f",
   "execution_count": 22
  },
  {
   "cell_type": "code",
   "outputs": [
    {
     "data": {
      "text/plain": "numpy.ndarray"
     },
     "execution_count": 23,
     "metadata": {},
     "output_type": "execute_result"
    }
   ],
   "source": [
    "type(diet.values)"
   ],
   "metadata": {
    "collapsed": false,
    "ExecuteTime": {
     "end_time": "2024-01-14T01:55:02.432349100Z",
     "start_time": "2024-01-14T01:55:02.407358800Z"
    }
   },
   "id": "deb4df0888ae803",
   "execution_count": 23
  },
  {
   "cell_type": "code",
   "outputs": [
    {
     "data": {
      "text/plain": "Index(['시리얼', '시리얼2', '시리얼3'], dtype='object')"
     },
     "execution_count": 24,
     "metadata": {},
     "output_type": "execute_result"
    }
   ],
   "source": [
    "diet.index"
   ],
   "metadata": {
    "collapsed": false,
    "ExecuteTime": {
     "end_time": "2024-01-14T01:55:06.585057400Z",
     "start_time": "2024-01-14T01:55:06.554095300Z"
    }
   },
   "id": "4ce7e9c21bcbd99a",
   "execution_count": 24
  },
  {
   "cell_type": "code",
   "outputs": [
    {
     "data": {
      "text/plain": "pandas.core.indexes.base.Index"
     },
     "execution_count": 25,
     "metadata": {},
     "output_type": "execute_result"
    }
   ],
   "source": [
    "type(diet.index)"
   ],
   "metadata": {
    "collapsed": false,
    "ExecuteTime": {
     "end_time": "2024-01-14T01:55:15.870112400Z",
     "start_time": "2024-01-14T01:55:15.842533200Z"
    }
   },
   "id": "8eae56dae14b9039",
   "execution_count": 25
  },
  {
   "cell_type": "code",
   "outputs": [
    {
     "data": {
      "text/plain": "dtype('int64')"
     },
     "execution_count": 26,
     "metadata": {},
     "output_type": "execute_result"
    }
   ],
   "source": [
    "diet.dtype"
   ],
   "metadata": {
    "collapsed": false,
    "ExecuteTime": {
     "end_time": "2024-01-14T01:55:23.309156400Z",
     "start_time": "2024-01-14T01:55:23.296842300Z"
    }
   },
   "id": "27a0058e4f4a9146",
   "execution_count": 26
  },
  {
   "cell_type": "code",
   "outputs": [
    {
     "data": {
      "text/plain": "3"
     },
     "execution_count": 27,
     "metadata": {},
     "output_type": "execute_result"
    }
   ],
   "source": [
    "diet.size"
   ],
   "metadata": {
    "collapsed": false,
    "ExecuteTime": {
     "end_time": "2024-01-14T01:55:31.207764200Z",
     "start_time": "2024-01-14T01:55:31.179067100Z"
    }
   },
   "id": "b6789434f590f498",
   "execution_count": 27
  },
  {
   "cell_type": "code",
   "outputs": [
    {
     "data": {
      "text/plain": "(3,)"
     },
     "execution_count": 28,
     "metadata": {},
     "output_type": "execute_result"
    }
   ],
   "source": [
    "diet.shape"
   ],
   "metadata": {
    "collapsed": false,
    "ExecuteTime": {
     "end_time": "2024-01-14T01:55:34.665640Z",
     "start_time": "2024-01-14T01:55:34.648310600Z"
    }
   },
   "id": "aaf80e5b0cf0e84",
   "execution_count": 28
  },
  {
   "cell_type": "code",
   "outputs": [
    {
     "data": {
      "text/plain": "True"
     },
     "execution_count": 29,
     "metadata": {},
     "output_type": "execute_result"
    }
   ],
   "source": [
    "diet.is_unique"
   ],
   "metadata": {
    "collapsed": false,
    "ExecuteTime": {
     "end_time": "2024-01-14T01:55:41.062224Z",
     "start_time": "2024-01-14T01:55:41.048861200Z"
    }
   },
   "id": "2d726194f5e397b",
   "execution_count": 29
  },
  {
   "cell_type": "code",
   "outputs": [
    {
     "data": {
      "text/plain": "False"
     },
     "execution_count": 30,
     "metadata": {},
     "output_type": "execute_result"
    }
   ],
   "source": [
    "pd.Series(data=[1,2,1]).is_unique"
   ],
   "metadata": {
    "collapsed": false,
    "ExecuteTime": {
     "end_time": "2024-01-14T01:55:56.803616100Z",
     "start_time": "2024-01-14T01:55:56.775922800Z"
    }
   },
   "id": "856699705b6dd7f3",
   "execution_count": 30
  },
  {
   "cell_type": "code",
   "outputs": [
    {
     "data": {
      "text/plain": "True"
     },
     "execution_count": 31,
     "metadata": {},
     "output_type": "execute_result"
    }
   ],
   "source": [
    "pd.Series(data=[1,2,3]).is_monotonic_increasing"
   ],
   "metadata": {
    "collapsed": false,
    "ExecuteTime": {
     "end_time": "2024-01-14T01:56:06.440071300Z",
     "start_time": "2024-01-14T01:56:06.407824Z"
    }
   },
   "id": "a65de02d782014bb",
   "execution_count": 31
  },
  {
   "cell_type": "code",
   "outputs": [
    {
     "data": {
      "text/plain": "False"
     },
     "execution_count": 32,
     "metadata": {},
     "output_type": "execute_result"
    }
   ],
   "source": [
    "pd.Series(data=[1,2,3]).is_monotonic_decreasing"
   ],
   "metadata": {
    "collapsed": false,
    "ExecuteTime": {
     "end_time": "2024-01-14T01:56:16.277446300Z",
     "start_time": "2024-01-14T01:56:16.243860500Z"
    }
   },
   "id": "f56e7de4306d4916",
   "execution_count": 32
  },
  {
   "cell_type": "code",
   "outputs": [
    {
     "data": {
      "text/plain": "False"
     },
     "execution_count": 33,
     "metadata": {},
     "output_type": "execute_result"
    }
   ],
   "source": [
    "pd.Series(data=[121.3,1,23,123,12]).is_monotonic_decreasing"
   ],
   "metadata": {
    "collapsed": false,
    "ExecuteTime": {
     "end_time": "2024-01-14T01:56:27.493476400Z",
     "start_time": "2024-01-14T01:56:27.459577900Z"
    }
   },
   "id": "c3f058dbff743b68",
   "execution_count": 33
  },
  {
   "cell_type": "code",
   "outputs": [
    {
     "data": {
      "text/plain": "False"
     },
     "execution_count": 34,
     "metadata": {},
     "output_type": "execute_result"
    }
   ],
   "source": [
    "pd.Series(data=[121.3,1,23,123,12]).is_monotonic_increasing"
   ],
   "metadata": {
    "collapsed": false,
    "ExecuteTime": {
     "end_time": "2024-01-14T01:56:34.216041200Z",
     "start_time": "2024-01-14T01:56:34.185455300Z"
    }
   },
   "id": "db19711772656bd6",
   "execution_count": 34
  },
  {
   "cell_type": "code",
   "outputs": [
    {
     "data": {
      "text/plain": "0       0\n1       5\n2      10\n3      15\n4      20\n     ... \n95    475\n96    480\n97    485\n98    490\n99    495\nLength: 100, dtype: int64"
     },
     "execution_count": 36,
     "metadata": {},
     "output_type": "execute_result"
    }
   ],
   "source": [
    "v값들 = range(0,500,5)\n",
    "nums = pd.Series(data=v값들)\n",
    "nums"
   ],
   "metadata": {
    "collapsed": false,
    "ExecuteTime": {
     "end_time": "2024-01-14T01:57:08.835786600Z",
     "start_time": "2024-01-14T01:57:08.826603500Z"
    }
   },
   "id": "33edcfaf7909cc1",
   "execution_count": 36
  },
  {
   "cell_type": "code",
   "outputs": [
    {
     "data": {
      "text/plain": "0     0\n1     5\n2    10\n3    15\n4    20\ndtype: int64"
     },
     "execution_count": 37,
     "metadata": {},
     "output_type": "execute_result"
    }
   ],
   "source": [
    "nums.head(5)"
   ],
   "metadata": {
    "collapsed": false,
    "ExecuteTime": {
     "end_time": "2024-01-14T01:57:17.866509200Z",
     "start_time": "2024-01-14T01:57:17.844580Z"
    }
   },
   "id": "dad3c05b1f3f7051",
   "execution_count": 37
  },
  {
   "cell_type": "code",
   "outputs": [
    {
     "data": {
      "text/plain": "0     0\n1     5\n2    10\n3    15\n4    20\ndtype: int64"
     },
     "execution_count": 38,
     "metadata": {},
     "output_type": "execute_result"
    }
   ],
   "source": [
    "nums.head() # 기본값 5개"
   ],
   "metadata": {
    "collapsed": false,
    "ExecuteTime": {
     "end_time": "2024-01-14T01:57:22.512756Z",
     "start_time": "2024-01-14T01:57:22.430233900Z"
    }
   },
   "id": "e97ac60c00d08160",
   "execution_count": 38
  },
  {
   "cell_type": "code",
   "outputs": [
    {
     "data": {
      "text/plain": "95    475\n96    480\n97    485\n98    490\n99    495\ndtype: int64"
     },
     "execution_count": 39,
     "metadata": {},
     "output_type": "execute_result"
    }
   ],
   "source": [
    "nums.tail()"
   ],
   "metadata": {
    "collapsed": false,
    "ExecuteTime": {
     "end_time": "2024-01-14T01:57:39.891910300Z",
     "start_time": "2024-01-14T01:57:39.859875300Z"
    }
   },
   "id": "c278b6e38eb9da9e",
   "execution_count": 39
  },
  {
   "cell_type": "code",
   "outputs": [
    {
     "data": {
      "text/plain": "97    485\n98    490\n99    495\ndtype: int64"
     },
     "execution_count": 40,
     "metadata": {},
     "output_type": "execute_result"
    }
   ],
   "source": [
    "nums.tail(3)"
   ],
   "metadata": {
    "collapsed": false,
    "ExecuteTime": {
     "end_time": "2024-01-14T01:57:47.025548800Z",
     "start_time": "2024-01-14T01:57:46.980810500Z"
    }
   },
   "id": "ab688f0562cd9430",
   "execution_count": 40
  },
  {
   "cell_type": "code",
   "outputs": [
    {
     "data": {
      "text/plain": "0    1.0\n1    2.0\n2    3.0\n3    NaN\n4    4.0\n5    5.0\ndtype: float64"
     },
     "execution_count": 41,
     "metadata": {},
     "output_type": "execute_result"
    }
   ],
   "source": [
    "numbers = pd.Series([1, 2, 3, np.nan, 4, 5])\n",
    "numbers"
   ],
   "metadata": {
    "collapsed": false,
    "ExecuteTime": {
     "end_time": "2024-01-14T01:57:58.292783400Z",
     "start_time": "2024-01-14T01:57:58.243278300Z"
    }
   },
   "id": "87a5263719775c05",
   "execution_count": 41
  },
  {
   "cell_type": "code",
   "outputs": [
    {
     "data": {
      "text/plain": "5"
     },
     "execution_count": 42,
     "metadata": {},
     "output_type": "execute_result"
    }
   ],
   "source": [
    "numbers.count()"
   ],
   "metadata": {
    "collapsed": false,
    "ExecuteTime": {
     "end_time": "2024-01-14T01:58:02.729532400Z",
     "start_time": "2024-01-14T01:58:02.689573700Z"
    }
   },
   "id": "4352fd5abd08ebaa",
   "execution_count": 42
  },
  {
   "cell_type": "code",
   "outputs": [
    {
     "data": {
      "text/plain": "15.0"
     },
     "execution_count": 43,
     "metadata": {},
     "output_type": "execute_result"
    }
   ],
   "source": [
    "numbers.sum()"
   ],
   "metadata": {
    "collapsed": false,
    "ExecuteTime": {
     "end_time": "2024-01-14T01:58:07.015949700Z",
     "start_time": "2024-01-14T01:58:06.983207100Z"
    }
   },
   "id": "97febbce51594b4d",
   "execution_count": 43
  },
  {
   "cell_type": "code",
   "outputs": [
    {
     "data": {
      "text/plain": "nan"
     },
     "execution_count": 44,
     "metadata": {},
     "output_type": "execute_result"
    }
   ],
   "source": [
    "numbers.sum(skipna = False)"
   ],
   "metadata": {
    "collapsed": false,
    "ExecuteTime": {
     "end_time": "2024-01-14T01:58:20.778199700Z",
     "start_time": "2024-01-14T01:58:20.744021800Z"
    }
   },
   "id": "dd87cfc45c73ca10",
   "execution_count": 44
  },
  {
   "cell_type": "code",
   "outputs": [
    {
     "data": {
      "text/plain": "15.0"
     },
     "execution_count": 45,
     "metadata": {},
     "output_type": "execute_result"
    }
   ],
   "source": [
    "# 얼마나 유효값이 있어야하는지 지정\n",
    "numbers.sum(min_count = 3)"
   ],
   "metadata": {
    "collapsed": false,
    "ExecuteTime": {
     "end_time": "2024-01-14T01:58:36.001472500Z",
     "start_time": "2024-01-14T01:58:35.981973100Z"
    }
   },
   "id": "d053b7da2bf2570e",
   "execution_count": 45
  },
  {
   "cell_type": "code",
   "outputs": [
    {
     "data": {
      "text/plain": "nan"
     },
     "execution_count": 46,
     "metadata": {},
     "output_type": "execute_result"
    }
   ],
   "source": [
    "numbers.sum(min_count = np.inf)"
   ],
   "metadata": {
    "collapsed": false,
    "ExecuteTime": {
     "end_time": "2024-01-14T01:59:23.060150400Z",
     "start_time": "2024-01-14T01:59:23.037197900Z"
    }
   },
   "id": "dcef647d1d0a24e6",
   "execution_count": 46
  },
  {
   "cell_type": "code",
   "outputs": [
    {
     "data": {
      "text/plain": "nan"
     },
     "execution_count": 47,
     "metadata": {},
     "output_type": "execute_result"
    }
   ],
   "source": [
    "numbers.sum(min_count = np.inf, skipna = True)"
   ],
   "metadata": {
    "collapsed": false,
    "ExecuteTime": {
     "end_time": "2024-01-14T01:59:42.912710900Z",
     "start_time": "2024-01-14T01:59:42.868682300Z"
    }
   },
   "id": "ff3aa83b2886672b",
   "execution_count": 47
  },
  {
   "cell_type": "code",
   "outputs": [
    {
     "data": {
      "text/plain": "120.0"
     },
     "execution_count": 48,
     "metadata": {},
     "output_type": "execute_result"
    }
   ],
   "source": [
    "numbers.product()"
   ],
   "metadata": {
    "collapsed": false,
    "ExecuteTime": {
     "end_time": "2024-01-14T02:00:08.921111Z",
     "start_time": "2024-01-14T02:00:08.891295900Z"
    }
   },
   "id": "3c3d28806e573aca",
   "execution_count": 48
  },
  {
   "cell_type": "code",
   "outputs": [
    {
     "data": {
      "text/plain": "nan"
     },
     "execution_count": 49,
     "metadata": {},
     "output_type": "execute_result"
    }
   ],
   "source": [
    "numbers.product(skipna=False)"
   ],
   "metadata": {
    "collapsed": false,
    "ExecuteTime": {
     "end_time": "2024-01-14T02:00:21.167112900Z",
     "start_time": "2024-01-14T02:00:21.127440900Z"
    }
   },
   "id": "c6854219a9f644be",
   "execution_count": 49
  },
  {
   "cell_type": "code",
   "outputs": [
    {
     "data": {
      "text/plain": "120.0"
     },
     "execution_count": 50,
     "metadata": {},
     "output_type": "execute_result"
    }
   ],
   "source": [
    "numbers.product(min_count=4)"
   ],
   "metadata": {
    "collapsed": false,
    "ExecuteTime": {
     "end_time": "2024-01-14T02:00:35.576848900Z",
     "start_time": "2024-01-14T02:00:35.535184Z"
    }
   },
   "id": "41867eb85da1f337",
   "execution_count": 50
  },
  {
   "cell_type": "code",
   "outputs": [
    {
     "data": {
      "text/plain": "nan"
     },
     "execution_count": 51,
     "metadata": {},
     "output_type": "execute_result"
    }
   ],
   "source": [
    "numbers.product(min_count=np.inf)"
   ],
   "metadata": {
    "collapsed": false,
    "ExecuteTime": {
     "end_time": "2024-01-14T02:00:44.144895300Z",
     "start_time": "2024-01-14T02:00:44.116875800Z"
    }
   },
   "id": "53fa92bd0813d347",
   "execution_count": 51
  },
  {
   "cell_type": "code",
   "outputs": [
    {
     "data": {
      "text/plain": "0      1.0\n1      2.0\n2      6.0\n3      NaN\n4     24.0\n5    120.0\ndtype: float64"
     },
     "execution_count": 52,
     "metadata": {},
     "output_type": "execute_result"
    }
   ],
   "source": [
    "numbers.cumprod()"
   ],
   "metadata": {
    "collapsed": false,
    "ExecuteTime": {
     "end_time": "2024-01-14T02:00:55.399109800Z",
     "start_time": "2024-01-14T02:00:55.375626400Z"
    }
   },
   "id": "89cd802928deedb2",
   "execution_count": 52
  },
  {
   "cell_type": "code",
   "outputs": [
    {
     "data": {
      "text/plain": "0    1.0\n1    2.0\n2    3.0\n3    NaN\n4    4.0\n5    5.0\ndtype: float64"
     },
     "execution_count": 53,
     "metadata": {},
     "output_type": "execute_result"
    }
   ],
   "source": [
    "numbers.cummax()"
   ],
   "metadata": {
    "collapsed": false,
    "ExecuteTime": {
     "end_time": "2024-01-14T02:01:02.910560100Z",
     "start_time": "2024-01-14T02:01:02.864702100Z"
    }
   },
   "id": "52c67cae229a0fba",
   "execution_count": 53
  },
  {
   "cell_type": "code",
   "outputs": [
    {
     "name": "stderr",
     "output_type": "stream",
     "text": [
      "C:\\Users\\Administrator\\AppData\\Local\\Temp\\ipykernel_15312\\463408457.py:1: FutureWarning: The default fill_method='pad' in Series.pct_change is deprecated and will be removed in a future version. Either fill in any non-leading NA values prior to calling pct_change or specify 'fill_method=None' to not fill NA values.\n",
      "  numbers.pct_change()\n"
     ]
    },
    {
     "data": {
      "text/plain": "0         NaN\n1    1.000000\n2    0.500000\n3    0.000000\n4    0.333333\n5    0.250000\ndtype: float64"
     },
     "execution_count": 54,
     "metadata": {},
     "output_type": "execute_result"
    }
   ],
   "source": [
    "numbers.pct_change()"
   ],
   "metadata": {
    "collapsed": false,
    "ExecuteTime": {
     "end_time": "2024-01-14T02:01:22.507925200Z",
     "start_time": "2024-01-14T02:01:22.472082600Z"
    }
   },
   "id": "18f76ca91a65ee1a",
   "execution_count": 54
  },
  {
   "cell_type": "code",
   "outputs": [
    {
     "name": "stderr",
     "output_type": "stream",
     "text": [
      "C:\\Users\\Administrator\\AppData\\Local\\Temp\\ipykernel_15312\\3250896556.py:1: FutureWarning: The 'fill_method' keyword being not None and the 'limit' keyword in Series.pct_change are deprecated and will be removed in a future version. Either fill in any non-leading NA values prior to calling pct_change or specify 'fill_method=None' to not fill NA values.\n",
      "  numbers.pct_change(fill_method=\"pad\")\n"
     ]
    },
    {
     "data": {
      "text/plain": "0         NaN\n1    1.000000\n2    0.500000\n3    0.000000\n4    0.333333\n5    0.250000\ndtype: float64"
     },
     "execution_count": 55,
     "metadata": {},
     "output_type": "execute_result"
    }
   ],
   "source": [
    "numbers.pct_change(fill_method=\"pad\")"
   ],
   "metadata": {
    "collapsed": false,
    "ExecuteTime": {
     "end_time": "2024-01-14T02:01:45.173832500Z",
     "start_time": "2024-01-14T02:01:45.149155900Z"
    }
   },
   "id": "f1553be998270c9d",
   "execution_count": 55
  },
  {
   "cell_type": "code",
   "outputs": [
    {
     "name": "stderr",
     "output_type": "stream",
     "text": [
      "C:\\Users\\Administrator\\AppData\\Local\\Temp\\ipykernel_15312\\2920631834.py:1: FutureWarning: The 'fill_method' keyword being not None and the 'limit' keyword in Series.pct_change are deprecated and will be removed in a future version. Either fill in any non-leading NA values prior to calling pct_change or specify 'fill_method=None' to not fill NA values.\n",
      "  numbers.pct_change(fill_method='ffill')\n"
     ]
    },
    {
     "data": {
      "text/plain": "0         NaN\n1    1.000000\n2    0.500000\n3    0.000000\n4    0.333333\n5    0.250000\ndtype: float64"
     },
     "execution_count": 56,
     "metadata": {},
     "output_type": "execute_result"
    }
   ],
   "source": [
    "numbers.pct_change(fill_method='ffill')"
   ],
   "metadata": {
    "collapsed": false,
    "ExecuteTime": {
     "end_time": "2024-01-14T02:01:53.543019200Z",
     "start_time": "2024-01-14T02:01:53.508883800Z"
    }
   },
   "id": "32f41fa0db6133ca",
   "execution_count": 56
  },
  {
   "cell_type": "code",
   "outputs": [
    {
     "name": "stderr",
     "output_type": "stream",
     "text": [
      "C:\\Users\\Administrator\\AppData\\Local\\Temp\\ipykernel_15312\\3937815382.py:1: FutureWarning: The 'fill_method' keyword being not None and the 'limit' keyword in Series.pct_change are deprecated and will be removed in a future version. Either fill in any non-leading NA values prior to calling pct_change or specify 'fill_method=None' to not fill NA values.\n",
      "  numbers.pct_change(fill_method= 'bfill')\n"
     ]
    },
    {
     "data": {
      "text/plain": "0         NaN\n1    1.000000\n2    0.500000\n3    0.333333\n4    0.000000\n5    0.250000\ndtype: float64"
     },
     "execution_count": 57,
     "metadata": {},
     "output_type": "execute_result"
    }
   ],
   "source": [
    "numbers.pct_change(fill_method= 'bfill')"
   ],
   "metadata": {
    "collapsed": false,
    "ExecuteTime": {
     "end_time": "2024-01-14T02:02:18.660672200Z",
     "start_time": "2024-01-14T02:02:18.628887400Z"
    }
   },
   "id": "66c8162f19ce1cc1",
   "execution_count": 57
  },
  {
   "cell_type": "code",
   "outputs": [
    {
     "data": {
      "text/plain": "3.0"
     },
     "execution_count": 58,
     "metadata": {},
     "output_type": "execute_result"
    }
   ],
   "source": [
    "numbers.mean()"
   ],
   "metadata": {
    "collapsed": false,
    "ExecuteTime": {
     "end_time": "2024-01-14T02:02:43.241628400Z",
     "start_time": "2024-01-14T02:02:43.209364700Z"
    }
   },
   "id": "8d2bb85730019877",
   "execution_count": 58
  },
  {
   "cell_type": "code",
   "outputs": [
    {
     "data": {
      "text/plain": "3.0"
     },
     "execution_count": 59,
     "metadata": {},
     "output_type": "execute_result"
    }
   ],
   "source": [
    "numbers.median()"
   ],
   "metadata": {
    "collapsed": false,
    "ExecuteTime": {
     "end_time": "2024-01-14T02:02:48.850359500Z",
     "start_time": "2024-01-14T02:02:48.817913Z"
    }
   },
   "id": "d01c1e7ea48184f6",
   "execution_count": 59
  },
  {
   "cell_type": "code",
   "outputs": [
    {
     "data": {
      "text/plain": "1.5811388300841898"
     },
     "execution_count": 60,
     "metadata": {},
     "output_type": "execute_result"
    }
   ],
   "source": [
    "numbers.std()"
   ],
   "metadata": {
    "collapsed": false,
    "ExecuteTime": {
     "end_time": "2024-01-14T02:02:58.564876100Z",
     "start_time": "2024-01-14T02:02:58.529135500Z"
    }
   },
   "id": "10b8f5af1ccbb640",
   "execution_count": 60
  },
  {
   "cell_type": "code",
   "outputs": [
    {
     "data": {
      "text/plain": "5.0"
     },
     "execution_count": 61,
     "metadata": {},
     "output_type": "execute_result"
    }
   ],
   "source": [
    "numbers.max()"
   ],
   "metadata": {
    "collapsed": false,
    "ExecuteTime": {
     "end_time": "2024-01-14T02:03:02.536458900Z",
     "start_time": "2024-01-14T02:03:02.494093200Z"
    }
   },
   "id": "ebdf03c8fedabb14",
   "execution_count": 61
  },
  {
   "cell_type": "code",
   "outputs": [
    {
     "data": {
      "text/plain": "1.0"
     },
     "execution_count": 62,
     "metadata": {},
     "output_type": "execute_result"
    }
   ],
   "source": [
    "numbers.min()"
   ],
   "metadata": {
    "collapsed": false,
    "ExecuteTime": {
     "end_time": "2024-01-14T02:03:05.668541600Z",
     "start_time": "2024-01-14T02:03:05.641682500Z"
    }
   },
   "id": "3d70c3f58dcd36b4",
   "execution_count": 62
  },
  {
   "cell_type": "code",
   "outputs": [
    {
     "data": {
      "text/plain": "0      코알라\n1    아드카보노\n2      지브라\ndtype: object"
     },
     "execution_count": 63,
     "metadata": {},
     "output_type": "execute_result"
    }
   ],
   "source": [
    "animas = pd.Series(['코알라', '아드카보노','지브라'])\n",
    "animas"
   ],
   "metadata": {
    "collapsed": false,
    "ExecuteTime": {
     "end_time": "2024-01-14T02:03:24.927074800Z",
     "start_time": "2024-01-14T02:03:24.880642200Z"
    }
   },
   "id": "724aa5f3dd66e632",
   "execution_count": 63
  },
  {
   "cell_type": "code",
   "outputs": [
    {
     "data": {
      "text/plain": "'코알라'"
     },
     "execution_count": 64,
     "metadata": {},
     "output_type": "execute_result"
    }
   ],
   "source": [
    "animas.max()"
   ],
   "metadata": {
    "collapsed": false,
    "ExecuteTime": {
     "end_time": "2024-01-14T02:03:32.161469600Z",
     "start_time": "2024-01-14T02:03:32.131698600Z"
    }
   },
   "id": "41fda90567d1e1b2",
   "execution_count": 64
  },
  {
   "cell_type": "code",
   "outputs": [
    {
     "data": {
      "text/plain": "'아드카보노'"
     },
     "execution_count": 65,
     "metadata": {},
     "output_type": "execute_result"
    }
   ],
   "source": [
    "animas.min()"
   ],
   "metadata": {
    "collapsed": false,
    "ExecuteTime": {
     "end_time": "2024-01-14T02:03:39.681961700Z",
     "start_time": "2024-01-14T02:03:39.651320500Z"
    }
   },
   "id": "aa7a762a696b4d37",
   "execution_count": 65
  },
  {
   "cell_type": "code",
   "outputs": [
    {
     "data": {
      "text/plain": "count    5.000000\nmean     3.000000\nstd      1.581139\nmin      1.000000\n25%      2.000000\n50%      3.000000\n75%      4.000000\nmax      5.000000\ndtype: float64"
     },
     "execution_count": 66,
     "metadata": {},
     "output_type": "execute_result"
    }
   ],
   "source": [
    "numbers.describe()"
   ],
   "metadata": {
    "collapsed": false,
    "ExecuteTime": {
     "end_time": "2024-01-14T02:03:46.749997200Z",
     "start_time": "2024-01-14T02:03:46.706384Z"
    }
   },
   "id": "6990a94c5a19b064",
   "execution_count": 66
  },
  {
   "cell_type": "code",
   "outputs": [
    {
     "data": {
      "text/plain": "count    5.000000\nmean     3.000000\nstd      1.581139\nmin      1.000000\n25%      2.000000\n50%      3.000000\n75%      4.000000\nmax      5.000000\ndtype: float64"
     },
     "execution_count": 69,
     "metadata": {},
     "output_type": "execute_result"
    }
   ],
   "source": [
    "numbers.describe(include='all')"
   ],
   "metadata": {
    "collapsed": false,
    "ExecuteTime": {
     "end_time": "2024-01-14T02:07:41.333522400Z",
     "start_time": "2024-01-14T02:07:41.292992700Z"
    }
   },
   "id": "a730db7ed5bc1fc4",
   "execution_count": 69
  },
  {
   "cell_type": "code",
   "outputs": [
    {
     "data": {
      "text/plain": "4    4.0\n5    5.0\ndtype: float64"
     },
     "execution_count": 70,
     "metadata": {},
     "output_type": "execute_result"
    }
   ],
   "source": [
    "numbers.sample(2)"
   ],
   "metadata": {
    "collapsed": false,
    "ExecuteTime": {
     "end_time": "2024-01-14T02:07:49.139241700Z",
     "start_time": "2024-01-14T02:07:49.111225100Z"
    }
   },
   "id": "c93fd18d81fdf391",
   "execution_count": 70
  },
  {
   "cell_type": "code",
   "outputs": [
    {
     "data": {
      "text/plain": "array(['해밍웨이', '오웰', 'Dostoevsky', 'Fitzgerald', 'orwell'], dtype=object)"
     },
     "execution_count": 71,
     "metadata": {},
     "output_type": "execute_result"
    }
   ],
   "source": [
    "authors = pd.Series(\n",
    "    [\n",
    "        \"해밍웨이\",\n",
    "        '오웰',\n",
    "        'Dostoevsky',\n",
    "        'Fitzgerald',\n",
    "        'orwell'\n",
    "    ]\n",
    ")\n",
    "authors.unique()"
   ],
   "metadata": {
    "collapsed": false,
    "ExecuteTime": {
     "end_time": "2024-01-14T02:08:32.478790800Z",
     "start_time": "2024-01-14T02:08:32.456840100Z"
    }
   },
   "id": "d1c51c47b664e82a",
   "execution_count": 71
  },
  {
   "cell_type": "code",
   "outputs": [
    {
     "data": {
      "text/plain": "5"
     },
     "execution_count": 72,
     "metadata": {},
     "output_type": "execute_result"
    }
   ],
   "source": [
    "authors.nunique()"
   ],
   "metadata": {
    "collapsed": false,
    "ExecuteTime": {
     "end_time": "2024-01-14T02:08:48.375449600Z",
     "start_time": "2024-01-14T02:08:48.338639900Z"
    }
   },
   "id": "d4db0623e8fd2a31",
   "execution_count": 72
  },
  {
   "cell_type": "code",
   "outputs": [
    {
     "data": {
      "text/plain": "A     5.0\nB     NaN\nC    15.0\ndtype: float64"
     },
     "execution_count": 73,
     "metadata": {},
     "output_type": "execute_result"
    }
   ],
   "source": [
    "s1 = pd.Series(data = [5, np.nan, 15], index = [\"A\", \"B\", \"C\"])\n",
    "s1"
   ],
   "metadata": {
    "collapsed": false,
    "ExecuteTime": {
     "end_time": "2024-01-14T02:09:00.501533800Z",
     "start_time": "2024-01-14T02:09:00.460606Z"
    }
   },
   "id": "3f3b19382a904ce3",
   "execution_count": 73
  },
  {
   "cell_type": "code",
   "outputs": [
    {
     "data": {
      "text/plain": "A     8.0\nB     NaN\nC    18.0\ndtype: float64"
     },
     "execution_count": 74,
     "metadata": {},
     "output_type": "execute_result"
    }
   ],
   "source": [
    "s1 + 3"
   ],
   "metadata": {
    "collapsed": false,
    "ExecuteTime": {
     "end_time": "2024-01-14T02:09:03.458996700Z",
     "start_time": "2024-01-14T02:09:03.424752Z"
    }
   },
   "id": "8ec616df6b666037",
   "execution_count": 74
  },
  {
   "cell_type": "code",
   "outputs": [
    {
     "data": {
      "text/plain": "A     8.0\nB     NaN\nC    18.0\ndtype: float64"
     },
     "execution_count": 75,
     "metadata": {},
     "output_type": "execute_result"
    }
   ],
   "source": [
    "s1.add(3)"
   ],
   "metadata": {
    "collapsed": false,
    "ExecuteTime": {
     "end_time": "2024-01-14T02:09:08.720004900Z",
     "start_time": "2024-01-14T02:09:08.645052500Z"
    }
   },
   "id": "eb5e8544301ec4df",
   "execution_count": 75
  },
  {
   "cell_type": "code",
   "outputs": [
    {
     "data": {
      "text/plain": "A     0.0\nB     NaN\nC    10.0\ndtype: float64"
     },
     "execution_count": 76,
     "metadata": {},
     "output_type": "execute_result"
    }
   ],
   "source": [
    "s1 - 5"
   ],
   "metadata": {
    "collapsed": false,
    "ExecuteTime": {
     "end_time": "2024-01-14T02:09:14.441888500Z",
     "start_time": "2024-01-14T02:09:14.419052200Z"
    }
   },
   "id": "d3c5fe80a1706340",
   "execution_count": 76
  },
  {
   "cell_type": "code",
   "outputs": [
    {
     "data": {
      "text/plain": "A     0.0\nB     NaN\nC    10.0\ndtype: float64"
     },
     "execution_count": 77,
     "metadata": {},
     "output_type": "execute_result"
    }
   ],
   "source": [
    "s1.sub(5)"
   ],
   "metadata": {
    "collapsed": false,
    "ExecuteTime": {
     "end_time": "2024-01-14T02:09:18.629772Z",
     "start_time": "2024-01-14T02:09:18.590608700Z"
    }
   },
   "id": "7976129c5258531e",
   "execution_count": 77
  },
  {
   "cell_type": "code",
   "outputs": [
    {
     "data": {
      "text/plain": "A     0.0\nB     NaN\nC    10.0\ndtype: float64"
     },
     "execution_count": 78,
     "metadata": {},
     "output_type": "execute_result"
    }
   ],
   "source": [
    "s1.subtract(5)"
   ],
   "metadata": {
    "collapsed": false,
    "ExecuteTime": {
     "end_time": "2024-01-14T02:09:22.898729700Z",
     "start_time": "2024-01-14T02:09:22.864017700Z"
    }
   },
   "id": "e4bcc12421a91f21",
   "execution_count": 78
  },
  {
   "cell_type": "code",
   "outputs": [
    {
     "data": {
      "text/plain": "A     0.0\nB    -5.0\nC    10.0\ndtype: float64"
     },
     "execution_count": 80,
     "metadata": {},
     "output_type": "execute_result"
    }
   ],
   "source": [
    "s1.subtract(5, fill_value=0)"
   ],
   "metadata": {
    "collapsed": false,
    "ExecuteTime": {
     "end_time": "2024-01-14T02:10:21.906257Z",
     "start_time": "2024-01-14T02:10:21.884656600Z"
    }
   },
   "id": "b139610b6581763b",
   "execution_count": 80
  },
  {
   "cell_type": "code",
   "outputs": [
    {
     "data": {
      "text/plain": "A    2.5\nB    NaN\nC    7.5\ndtype: float64"
     },
     "execution_count": 81,
     "metadata": {},
     "output_type": "execute_result"
    }
   ],
   "source": [
    "s1 / 2"
   ],
   "metadata": {
    "collapsed": false,
    "ExecuteTime": {
     "end_time": "2024-01-14T02:10:30.556436200Z",
     "start_time": "2024-01-14T02:10:30.507755400Z"
    }
   },
   "id": "5d56083e2c7343",
   "execution_count": 81
  },
  {
   "cell_type": "code",
   "outputs": [
    {
     "data": {
      "text/plain": "A    2.5\nB    NaN\nC    7.5\ndtype: float64"
     },
     "execution_count": 82,
     "metadata": {},
     "output_type": "execute_result"
    }
   ],
   "source": [
    "s1.div(2)"
   ],
   "metadata": {
    "collapsed": false,
    "ExecuteTime": {
     "end_time": "2024-01-14T02:10:34.526155200Z",
     "start_time": "2024-01-14T02:10:34.493751200Z"
    }
   },
   "id": "4732d544f6f14de2",
   "execution_count": 82
  },
  {
   "cell_type": "code",
   "outputs": [
    {
     "data": {
      "text/plain": "A    2.5\nB    NaN\nC    7.5\ndtype: float64"
     },
     "execution_count": 83,
     "metadata": {},
     "output_type": "execute_result"
    }
   ],
   "source": [
    "s1.divide(2)"
   ],
   "metadata": {
    "collapsed": false,
    "ExecuteTime": {
     "end_time": "2024-01-14T02:10:37.376125600Z",
     "start_time": "2024-01-14T02:10:37.336743800Z"
    }
   },
   "id": "d7ed96ec3c81c68b",
   "execution_count": 83
  },
  {
   "cell_type": "code",
   "outputs": [
    {
     "data": {
      "text/plain": "A    1.0\nB    NaN\nC    3.0\ndtype: float64"
     },
     "execution_count": 84,
     "metadata": {},
     "output_type": "execute_result"
    }
   ],
   "source": [
    "s1 // 4"
   ],
   "metadata": {
    "collapsed": false,
    "ExecuteTime": {
     "end_time": "2024-01-14T02:10:41.857374300Z",
     "start_time": "2024-01-14T02:10:41.822972800Z"
    }
   },
   "id": "93f4621151d20a2c",
   "execution_count": 84
  },
  {
   "cell_type": "code",
   "outputs": [
    {
     "data": {
      "text/plain": "A    1.0\nB    NaN\nC    3.0\ndtype: float64"
     },
     "execution_count": 85,
     "metadata": {},
     "output_type": "execute_result"
    }
   ],
   "source": [
    "s1.floordiv(4)"
   ],
   "metadata": {
    "collapsed": false,
    "ExecuteTime": {
     "end_time": "2024-01-14T02:10:47.060884900Z",
     "start_time": "2024-01-14T02:10:47.026075500Z"
    }
   },
   "id": "75bd2c3c781b8928",
   "execution_count": 85
  },
  {
   "cell_type": "code",
   "outputs": [
    {
     "data": {
      "text/plain": "A    2.0\nB    NaN\nC    0.0\ndtype: float64"
     },
     "execution_count": 86,
     "metadata": {},
     "output_type": "execute_result"
    }
   ],
   "source": [
    "s1 % 3"
   ],
   "metadata": {
    "collapsed": false,
    "ExecuteTime": {
     "end_time": "2024-01-14T02:10:52.631160800Z",
     "start_time": "2024-01-14T02:10:52.595770500Z"
    }
   },
   "id": "124524f6be69f125",
   "execution_count": 86
  },
  {
   "cell_type": "code",
   "outputs": [
    {
     "data": {
      "text/plain": "A    2.0\nB    1.0\nC    0.0\ndtype: float64"
     },
     "execution_count": 87,
     "metadata": {},
     "output_type": "execute_result"
    }
   ],
   "source": [
    "s1.mod(3, fill_value=1)"
   ],
   "metadata": {
    "collapsed": false,
    "ExecuteTime": {
     "end_time": "2024-01-14T02:11:01.124248400Z",
     "start_time": "2024-01-14T02:11:01.029521400Z"
    }
   },
   "id": "a9ce291f4d7c4f21",
   "execution_count": 87
  },
  {
   "cell_type": "code",
   "outputs": [],
   "source": [
    "s1 = pd.Series([1, 2, 3], index = [\"A\", \"B\", \"C\"])\n",
    "s2 = pd.Series([4, 5, 6], index = [\"A\", \"B\", \"C\"])"
   ],
   "metadata": {
    "collapsed": false,
    "ExecuteTime": {
     "end_time": "2024-01-14T02:11:07.748936300Z",
     "start_time": "2024-01-14T02:11:07.713441500Z"
    }
   },
   "id": "b880302d50e2b28a",
   "execution_count": 88
  },
  {
   "cell_type": "code",
   "outputs": [
    {
     "data": {
      "text/plain": "A    5\nB    7\nC    9\ndtype: int64"
     },
     "execution_count": 89,
     "metadata": {},
     "output_type": "execute_result"
    }
   ],
   "source": [
    "s1 + s2 "
   ],
   "metadata": {
    "collapsed": false,
    "ExecuteTime": {
     "end_time": "2024-01-14T02:11:12.085046200Z",
     "start_time": "2024-01-14T02:11:12.044828300Z"
    }
   },
   "id": "aedc9ff9b83429cd",
   "execution_count": 89
  },
  {
   "cell_type": "code",
   "outputs": [
    {
     "data": {
      "text/plain": "0    False\n1     True\n2    False\n3     True\ndtype: bool"
     },
     "execution_count": 91,
     "metadata": {},
     "output_type": "execute_result"
    }
   ],
   "source": [
    "s1 = pd.Series(data = [3, 6, np.nan, 12])\n",
    "s2 = pd.Series(data = [2, 6, np.nan, 12])\n",
    "s1 == s2\n"
   ],
   "metadata": {
    "collapsed": false,
    "ExecuteTime": {
     "end_time": "2024-01-14T02:11:42.823602200Z",
     "start_time": "2024-01-14T02:11:42.780700100Z"
    }
   },
   "id": "83933ceb1c20682e",
   "execution_count": 91
  },
  {
   "cell_type": "code",
   "outputs": [
    {
     "data": {
      "text/plain": "0     True\n1    False\n2     True\n3    False\ndtype: bool"
     },
     "execution_count": 92,
     "metadata": {},
     "output_type": "execute_result"
    }
   ],
   "source": [
    "s1 != s2"
   ],
   "metadata": {
    "collapsed": false,
    "ExecuteTime": {
     "end_time": "2024-01-14T02:11:50.065804200Z",
     "start_time": "2024-01-14T02:11:50.032663200Z"
    }
   },
   "id": "5670780b3fe9c5ad",
   "execution_count": 92
  },
  {
   "cell_type": "code",
   "outputs": [],
   "source": [
    "s1 = pd.Series(\n",
    "    data = [5, 10, 15], index = [\"A\", \"B\", \"C\"]\n",
    ")\n",
    "\n",
    "s2 = pd.Series(\n",
    "    data = [4, 8, 12, 14], index = [\"B\", \"C\", \"D\", \"E\"]\n",
    ")"
   ],
   "metadata": {
    "collapsed": false,
    "ExecuteTime": {
     "end_time": "2024-01-14T02:12:06.223841900Z",
     "start_time": "2024-01-14T02:12:06.184136300Z"
    }
   },
   "id": "10bf5edefe36847",
   "execution_count": 93
  },
  {
   "cell_type": "code",
   "outputs": [
    {
     "data": {
      "text/plain": "A     NaN\nB    14.0\nC    23.0\nD     NaN\nE     NaN\ndtype: float64"
     },
     "execution_count": 94,
     "metadata": {},
     "output_type": "execute_result"
    }
   ],
   "source": [
    "s1 + s2"
   ],
   "metadata": {
    "collapsed": false,
    "ExecuteTime": {
     "end_time": "2024-01-14T02:12:08.991453400Z",
     "start_time": "2024-01-14T02:12:08.949135600Z"
    }
   },
   "id": "892014eec87a1cf",
   "execution_count": 94
  },
  {
   "cell_type": "code",
   "outputs": [
    {
     "data": {
      "text/plain": "4"
     },
     "execution_count": 95,
     "metadata": {},
     "output_type": "execute_result"
    }
   ],
   "source": [
    "cities = pd.Series([\"센프란시트코\", '로스산토스', '라스베가스', np.nan])\n",
    "len(cities)"
   ],
   "metadata": {
    "collapsed": false,
    "ExecuteTime": {
     "end_time": "2024-01-14T02:12:43.349711700Z",
     "start_time": "2024-01-14T02:12:43.292743800Z"
    }
   },
   "id": "1828a1ddd8bc8d6a",
   "execution_count": 95
  },
  {
   "cell_type": "code",
   "outputs": [
    {
     "data": {
      "text/plain": "pandas.core.series.Series"
     },
     "execution_count": 96,
     "metadata": {},
     "output_type": "execute_result"
    }
   ],
   "source": [
    "type(cities)"
   ],
   "metadata": {
    "collapsed": false,
    "ExecuteTime": {
     "end_time": "2024-01-14T02:12:46.682337100Z",
     "start_time": "2024-01-14T02:12:46.644065200Z"
    }
   },
   "id": "ad60bb5aa0a1b266",
   "execution_count": 96
  },
  {
   "cell_type": "code",
   "outputs": [
    {
     "data": {
      "text/plain": "['T',\n '_AXIS_LEN',\n '_AXIS_ORDERS',\n '_AXIS_TO_AXIS_NUMBER',\n '_HANDLED_TYPES',\n '__abs__',\n '__add__',\n '__and__',\n '__annotations__',\n '__array__',\n '__array_priority__',\n '__array_ufunc__',\n '__bool__',\n '__class__',\n '__column_consortium_standard__',\n '__contains__',\n '__copy__',\n '__deepcopy__',\n '__delattr__',\n '__delitem__',\n '__dict__',\n '__dir__',\n '__divmod__',\n '__doc__',\n '__eq__',\n '__finalize__',\n '__float__',\n '__floordiv__',\n '__format__',\n '__ge__',\n '__getattr__',\n '__getattribute__',\n '__getitem__',\n '__getstate__',\n '__gt__',\n '__hash__',\n '__iadd__',\n '__iand__',\n '__ifloordiv__',\n '__imod__',\n '__imul__',\n '__init__',\n '__init_subclass__',\n '__int__',\n '__invert__',\n '__ior__',\n '__ipow__',\n '__isub__',\n '__iter__',\n '__itruediv__',\n '__ixor__',\n '__le__',\n '__len__',\n '__lt__',\n '__matmul__',\n '__mod__',\n '__module__',\n '__mul__',\n '__ne__',\n '__neg__',\n '__new__',\n '__nonzero__',\n '__or__',\n '__pandas_priority__',\n '__pos__',\n '__pow__',\n '__radd__',\n '__rand__',\n '__rdivmod__',\n '__reduce__',\n '__reduce_ex__',\n '__repr__',\n '__rfloordiv__',\n '__rmatmul__',\n '__rmod__',\n '__rmul__',\n '__ror__',\n '__round__',\n '__rpow__',\n '__rsub__',\n '__rtruediv__',\n '__rxor__',\n '__setattr__',\n '__setitem__',\n '__setstate__',\n '__sizeof__',\n '__str__',\n '__sub__',\n '__subclasshook__',\n '__truediv__',\n '__weakref__',\n '__xor__',\n '_accessors',\n '_accum_func',\n '_agg_examples_doc',\n '_agg_see_also_doc',\n '_align_for_op',\n '_align_frame',\n '_align_series',\n '_append',\n '_arith_method',\n '_as_manager',\n '_attrs',\n '_binop',\n '_can_hold_na',\n '_check_inplace_and_allows_duplicate_labels',\n '_check_is_chained_assignment_possible',\n '_check_label_or_level_ambiguity',\n '_check_setitem_copy',\n '_clear_item_cache',\n '_clip_with_one_bound',\n '_clip_with_scalar',\n '_cmp_method',\n '_consolidate',\n '_consolidate_inplace',\n '_construct_axes_dict',\n '_construct_result',\n '_constructor',\n '_constructor_expanddim',\n '_constructor_expanddim_from_mgr',\n '_constructor_from_mgr',\n '_convert_dtypes',\n '_data',\n '_deprecate_downcast',\n '_dir_additions',\n '_dir_deletions',\n '_drop_axis',\n '_drop_labels_or_levels',\n '_duplicated',\n '_expanddim_from_mgr',\n '_find_valid_index',\n '_flags',\n '_flex_method',\n '_from_mgr',\n '_get_axis',\n '_get_axis_name',\n '_get_axis_number',\n '_get_axis_resolvers',\n '_get_block_manager_axis',\n '_get_bool_data',\n '_get_cacher',\n '_get_cleaned_column_resolvers',\n '_get_index_resolvers',\n '_get_label_or_level_values',\n '_get_numeric_data',\n '_get_rows_with_mask',\n '_get_value',\n '_get_values_tuple',\n '_get_with',\n '_getitem_slice',\n '_gotitem',\n '_hidden_attrs',\n '_indexed_same',\n '_info_axis',\n '_info_axis_name',\n '_info_axis_number',\n '_init_dict',\n '_init_mgr',\n '_inplace_method',\n '_internal_names',\n '_internal_names_set',\n '_is_cached',\n '_is_copy',\n '_is_label_or_level_reference',\n '_is_label_reference',\n '_is_level_reference',\n '_is_mixed_type',\n '_is_view',\n '_item_cache',\n '_ixs',\n '_logical_func',\n '_logical_method',\n '_map_values',\n '_maybe_update_cacher',\n '_memory_usage',\n '_metadata',\n '_mgr',\n '_min_count_stat_function',\n '_name',\n '_needs_reindex_multi',\n '_pad_or_backfill',\n '_protect_consolidate',\n '_reduce',\n '_references',\n '_reindex_axes',\n '_reindex_indexer',\n '_reindex_multi',\n '_reindex_with_indexers',\n '_rename',\n '_replace_single',\n '_repr_data_resource_',\n '_repr_latex_',\n '_reset_cache',\n '_reset_cacher',\n '_set_as_cached',\n '_set_axis',\n '_set_axis_name',\n '_set_axis_nocheck',\n '_set_is_copy',\n '_set_labels',\n '_set_name',\n '_set_value',\n '_set_values',\n '_set_with',\n '_set_with_engine',\n '_shift_with_freq',\n '_slice',\n '_stat_function',\n '_stat_function_ddof',\n '_take_with_is_copy',\n '_to_latex_via_styler',\n '_typ',\n '_update_inplace',\n '_validate_dtype',\n '_values',\n '_where',\n 'abs',\n 'add',\n 'add_prefix',\n 'add_suffix',\n 'agg',\n 'aggregate',\n 'align',\n 'all',\n 'any',\n 'apply',\n 'argmax',\n 'argmin',\n 'argsort',\n 'array',\n 'asfreq',\n 'asof',\n 'astype',\n 'at',\n 'at_time',\n 'attrs',\n 'autocorr',\n 'axes',\n 'backfill',\n 'between',\n 'between_time',\n 'bfill',\n 'bool',\n 'clip',\n 'combine',\n 'combine_first',\n 'compare',\n 'convert_dtypes',\n 'copy',\n 'corr',\n 'count',\n 'cov',\n 'cummax',\n 'cummin',\n 'cumprod',\n 'cumsum',\n 'describe',\n 'diff',\n 'div',\n 'divide',\n 'divmod',\n 'dot',\n 'drop',\n 'drop_duplicates',\n 'droplevel',\n 'dropna',\n 'dtype',\n 'dtypes',\n 'duplicated',\n 'empty',\n 'eq',\n 'equals',\n 'ewm',\n 'expanding',\n 'explode',\n 'factorize',\n 'ffill',\n 'fillna',\n 'filter',\n 'first',\n 'first_valid_index',\n 'flags',\n 'floordiv',\n 'ge',\n 'get',\n 'groupby',\n 'gt',\n 'hasnans',\n 'head',\n 'hist',\n 'iat',\n 'idxmax',\n 'idxmin',\n 'iloc',\n 'index',\n 'infer_objects',\n 'info',\n 'interpolate',\n 'is_monotonic_decreasing',\n 'is_monotonic_increasing',\n 'is_unique',\n 'isin',\n 'isna',\n 'isnull',\n 'item',\n 'items',\n 'keys',\n 'kurt',\n 'kurtosis',\n 'last',\n 'last_valid_index',\n 'le',\n 'loc',\n 'lt',\n 'map',\n 'mask',\n 'max',\n 'mean',\n 'median',\n 'memory_usage',\n 'min',\n 'mod',\n 'mode',\n 'mul',\n 'multiply',\n 'name',\n 'nbytes',\n 'ndim',\n 'ne',\n 'nlargest',\n 'notna',\n 'notnull',\n 'nsmallest',\n 'nunique',\n 'pad',\n 'pct_change',\n 'pipe',\n 'plot',\n 'pop',\n 'pow',\n 'prod',\n 'product',\n 'quantile',\n 'radd',\n 'rank',\n 'ravel',\n 'rdiv',\n 'rdivmod',\n 'reindex',\n 'reindex_like',\n 'rename',\n 'rename_axis',\n 'reorder_levels',\n 'repeat',\n 'replace',\n 'resample',\n 'reset_index',\n 'rfloordiv',\n 'rmod',\n 'rmul',\n 'rolling',\n 'round',\n 'rpow',\n 'rsub',\n 'rtruediv',\n 'sample',\n 'searchsorted',\n 'sem',\n 'set_axis',\n 'set_flags',\n 'shape',\n 'shift',\n 'size',\n 'skew',\n 'sort_index',\n 'sort_values',\n 'squeeze',\n 'std',\n 'str',\n 'sub',\n 'subtract',\n 'sum',\n 'swapaxes',\n 'swaplevel',\n 'tail',\n 'take',\n 'to_clipboard',\n 'to_csv',\n 'to_dict',\n 'to_excel',\n 'to_frame',\n 'to_hdf',\n 'to_json',\n 'to_latex',\n 'to_list',\n 'to_markdown',\n 'to_numpy',\n 'to_period',\n 'to_pickle',\n 'to_sql',\n 'to_string',\n 'to_timestamp',\n 'to_xarray',\n 'transform',\n 'transpose',\n 'truediv',\n 'truncate',\n 'tz_convert',\n 'tz_localize',\n 'unique',\n 'unstack',\n 'update',\n 'value_counts',\n 'values',\n 'var',\n 'view',\n 'where',\n 'xs']"
     },
     "execution_count": 97,
     "metadata": {},
     "output_type": "execute_result"
    }
   ],
   "source": [
    "dir(cities)"
   ],
   "metadata": {
    "collapsed": false,
    "ExecuteTime": {
     "end_time": "2024-01-14T02:12:52.325647700Z",
     "start_time": "2024-01-14T02:12:52.292964200Z"
    }
   },
   "id": "bdf316af083b21be",
   "execution_count": 97
  },
  {
   "cell_type": "code",
   "outputs": [
    {
     "data": {
      "text/plain": "['센프란시트코', '로스산토스', '라스베가스', nan]"
     },
     "execution_count": 98,
     "metadata": {},
     "output_type": "execute_result"
    }
   ],
   "source": [
    "list(cities)"
   ],
   "metadata": {
    "collapsed": false,
    "ExecuteTime": {
     "end_time": "2024-01-14T02:13:02.592539700Z",
     "start_time": "2024-01-14T02:13:02.560764300Z"
    }
   },
   "id": "c9913d7ab052da8e",
   "execution_count": 98
  },
  {
   "cell_type": "code",
   "outputs": [
    {
     "data": {
      "text/plain": "{0: '센프란시트코', 1: '로스산토스', 2: '라스베가스', 3: nan}"
     },
     "execution_count": 99,
     "metadata": {},
     "output_type": "execute_result"
    }
   ],
   "source": [
    "dict(cities)"
   ],
   "metadata": {
    "collapsed": false,
    "ExecuteTime": {
     "end_time": "2024-01-14T02:13:06.637199900Z",
     "start_time": "2024-01-14T02:13:06.594362900Z"
    }
   },
   "id": "80344debe477ea2d",
   "execution_count": 99
  },
  {
   "cell_type": "code",
   "outputs": [
    {
     "data": {
      "text/plain": "False"
     },
     "execution_count": 100,
     "metadata": {},
     "output_type": "execute_result"
    }
   ],
   "source": [
    "\"로스산토스\" in cities"
   ],
   "metadata": {
    "collapsed": false,
    "ExecuteTime": {
     "end_time": "2024-01-14T02:13:21.983438200Z",
     "start_time": "2024-01-14T02:13:21.954542200Z"
    }
   },
   "id": "6eab57a4808b693b",
   "execution_count": 100
  },
  {
   "cell_type": "code",
   "outputs": [
    {
     "data": {
      "text/plain": "True"
     },
     "execution_count": 101,
     "metadata": {},
     "output_type": "execute_result"
    }
   ],
   "source": [
    "2 in cities"
   ],
   "metadata": {
    "collapsed": false,
    "ExecuteTime": {
     "end_time": "2024-01-14T02:13:35.253547900Z",
     "start_time": "2024-01-14T02:13:35.223384500Z"
    }
   },
   "id": "5bfea4b779a8c1b5",
   "execution_count": 101
  },
  {
   "cell_type": "code",
   "outputs": [
    {
     "data": {
      "text/plain": "True"
     },
     "execution_count": 102,
     "metadata": {},
     "output_type": "execute_result"
    }
   ],
   "source": [
    "\"로스산토스\" in cities.values"
   ],
   "metadata": {
    "collapsed": false,
    "ExecuteTime": {
     "end_time": "2024-01-14T02:13:46.013978200Z",
     "start_time": "2024-01-14T02:13:45.974411300Z"
    }
   },
   "id": "edbb4a47c736b3ac",
   "execution_count": 102
  },
  {
   "cell_type": "code",
   "outputs": [
    {
     "data": {
      "text/plain": "True"
     },
     "execution_count": 104,
     "metadata": {},
     "output_type": "execute_result"
    }
   ],
   "source": [
    "100 not in cities"
   ],
   "metadata": {
    "collapsed": false,
    "ExecuteTime": {
     "end_time": "2024-01-14T02:13:55.819052Z",
     "start_time": "2024-01-14T02:13:55.776055800Z"
    }
   },
   "id": "466d6651d179ee98",
   "execution_count": 104
  },
  {
   "cell_type": "code",
   "outputs": [
    {
     "data": {
      "text/plain": "True"
     },
     "execution_count": 106,
     "metadata": {},
     "output_type": "execute_result"
    }
   ],
   "source": [
    "\"rat\" not in cities.values"
   ],
   "metadata": {
    "collapsed": false,
    "ExecuteTime": {
     "end_time": "2024-01-14T02:14:09.274623100Z",
     "start_time": "2024-01-14T02:14:09.262023900Z"
    }
   },
   "id": "1c46e990895217c2",
   "execution_count": 106
  },
  {
   "cell_type": "code",
   "outputs": [],
   "source": [
    "superheroes = [\n",
    "\"Batman\",\n",
    "\"Superman\",\n",
    "\"Spider-Man\",\n",
    "\"Iron Man\",\n",
    "\"Captain America\",\n",
    "\"Wonder Woman\"\n",
    "]\n",
    "strength_levels = (100, 120, 90, 95, 110, 120)"
   ],
   "metadata": {
    "collapsed": false,
    "ExecuteTime": {
     "end_time": "2024-01-14T02:15:03.393547200Z",
     "start_time": "2024-01-14T02:15:03.348947200Z"
    }
   },
   "id": "224ea816c7b4995d",
   "execution_count": 110
  },
  {
   "cell_type": "code",
   "outputs": [
    {
     "data": {
      "text/plain": "0             Batman\n1           Superman\n2         Spider-Man\n3           Iron Man\n4    Captain America\n5       Wonder Woman\ndtype: object"
     },
     "execution_count": 122,
     "metadata": {},
     "output_type": "execute_result"
    }
   ],
   "source": [
    "heros_onlyname = pd.Series(superheroes)\n",
    "heros_onlyname"
   ],
   "metadata": {
    "collapsed": false,
    "ExecuteTime": {
     "end_time": "2024-01-14T02:19:03.450227100Z",
     "start_time": "2024-01-14T02:19:03.401958Z"
    }
   },
   "id": "f62431bb6a3aca0d",
   "execution_count": 122
  },
  {
   "cell_type": "code",
   "outputs": [
    {
     "data": {
      "text/plain": "0    100\n1    120\n2     90\n3     95\n4    110\n5    120\ndtype: int64"
     },
     "execution_count": 115,
     "metadata": {},
     "output_type": "execute_result"
    }
   ],
   "source": [
    "heros힘 = pd.Series(strength_levels)\n",
    "heros힘"
   ],
   "metadata": {
    "collapsed": false,
    "ExecuteTime": {
     "end_time": "2024-01-14T02:15:53.929022300Z",
     "start_time": "2024-01-14T02:15:53.901385700Z"
    }
   },
   "id": "523f5e8666b4cd66",
   "execution_count": 115
  },
  {
   "cell_type": "code",
   "outputs": [
    {
     "data": {
      "text/plain": "Batman             100\nSuperman           120\nSpider-Man          90\nIron Man            95\nCaptain America    110\nWonder Woman       120\nName: 체력, dtype: int64"
     },
     "execution_count": 124,
     "metadata": {},
     "output_type": "execute_result"
    }
   ],
   "source": [
    "heros = pd.Series(data=strength_levels, index=superheroes, name='체력')\n",
    "heros"
   ],
   "metadata": {
    "collapsed": false,
    "ExecuteTime": {
     "end_time": "2024-01-14T02:19:32.516120500Z",
     "start_time": "2024-01-14T02:19:32.482729800Z"
    }
   },
   "id": "8d4342e365d5e762",
   "execution_count": 124
  },
  {
   "cell_type": "code",
   "outputs": [
    {
     "data": {
      "text/plain": "Batman      100\nSuperman    120\nName: 체력, dtype: int64"
     },
     "execution_count": 126,
     "metadata": {},
     "output_type": "execute_result"
    }
   ],
   "source": [
    "heros.head(2)"
   ],
   "metadata": {
    "collapsed": false,
    "ExecuteTime": {
     "end_time": "2024-01-14T02:20:01.638944400Z",
     "start_time": "2024-01-14T02:20:01.604942800Z"
    }
   },
   "id": "d5bc59077ef1cc02",
   "execution_count": 126
  },
  {
   "cell_type": "code",
   "outputs": [
    {
     "data": {
      "text/plain": "Spider-Man          90\nIron Man            95\nCaptain America    110\nWonder Woman       120\nName: 체력, dtype: int64"
     },
     "execution_count": 127,
     "metadata": {},
     "output_type": "execute_result"
    }
   ],
   "source": [
    "heros.tail(4)"
   ],
   "metadata": {
    "collapsed": false,
    "ExecuteTime": {
     "end_time": "2024-01-14T02:20:10.343353500Z",
     "start_time": "2024-01-14T02:20:10.299313900Z"
    }
   },
   "id": "482ece2edb11b1d0",
   "execution_count": 127
  },
  {
   "cell_type": "code",
   "outputs": [
    {
     "data": {
      "text/plain": "5"
     },
     "execution_count": 128,
     "metadata": {},
     "output_type": "execute_result"
    }
   ],
   "source": [
    "heros.nunique()"
   ],
   "metadata": {
    "collapsed": false,
    "ExecuteTime": {
     "end_time": "2024-01-14T02:20:19.067073400Z",
     "start_time": "2024-01-14T02:20:19.015210800Z"
    }
   },
   "id": "7baa29a1943c21cc",
   "execution_count": 128
  },
  {
   "cell_type": "code",
   "outputs": [
    {
     "name": "stdout",
     "output_type": "stream",
     "text": [
      "105.83\n"
     ]
    }
   ],
   "source": [
    "print(f\"{heros.mean():.2f}\")"
   ],
   "metadata": {
    "collapsed": false,
    "ExecuteTime": {
     "end_time": "2024-01-14T02:21:11.057400500Z",
     "start_time": "2024-01-14T02:21:10.984300300Z"
    }
   },
   "id": "b2dc508dcbed4afb",
   "execution_count": 130
  },
  {
   "cell_type": "code",
   "outputs": [
    {
     "name": "stdout",
     "output_type": "stream",
     "text": [
      "max = 120 min = 90\n"
     ]
    }
   ],
   "source": [
    "print(f\"max = {heros.max()} min = {heros.min()}\")"
   ],
   "metadata": {
    "collapsed": false,
    "ExecuteTime": {
     "end_time": "2024-01-14T02:21:42.068052Z",
     "start_time": "2024-01-14T02:21:42.028124800Z"
    }
   },
   "id": "8ed7d1b356453cfe",
   "execution_count": 131
  },
  {
   "cell_type": "code",
   "outputs": [
    {
     "data": {
      "text/plain": "Batman             200\nSuperman           240\nSpider-Man         180\nIron Man           190\nCaptain America    220\nWonder Woman       240\nName: 체력, dtype: int64"
     },
     "execution_count": 132,
     "metadata": {},
     "output_type": "execute_result"
    }
   ],
   "source": [
    "heros.multiply(2)"
   ],
   "metadata": {
    "collapsed": false,
    "ExecuteTime": {
     "end_time": "2024-01-14T02:22:02.071283700Z",
     "start_time": "2024-01-14T02:22:02.023319600Z"
    }
   },
   "id": "f6a28091bef9fb21",
   "execution_count": 132
  },
  {
   "cell_type": "code",
   "outputs": [
    {
     "data": {
      "text/plain": "{'Batman': 100,\n 'Superman': 120,\n 'Spider-Man': 90,\n 'Iron Man': 95,\n 'Captain America': 110,\n 'Wonder Woman': 120}"
     },
     "execution_count": 133,
     "metadata": {},
     "output_type": "execute_result"
    }
   ],
   "source": [
    "dict(heros)"
   ],
   "metadata": {
    "collapsed": false,
    "ExecuteTime": {
     "end_time": "2024-01-14T02:22:11.293546500Z",
     "start_time": "2024-01-14T02:22:11.250278900Z"
    }
   },
   "id": "db6f9125299ec6f7",
   "execution_count": 133
  },
  {
   "cell_type": "markdown",
   "source": [
    "## Series Method"
   ],
   "metadata": {
    "collapsed": false
   },
   "id": "a106ead966b425ae"
  },
  {
   "cell_type": "code",
   "outputs": [
    {
     "data": {
      "text/plain": "         Pokemon            Type\n0      Bulbasaur  Grass / Poison\n1        Ivysaur  Grass / Poison\n2       Venusaur  Grass / Poison\n3     Charmander            Fire\n4     Charmeleon            Fire\n..           ...             ...\n804    Stakataka    Rock / Steel\n805  Blacephalon    Fire / Ghost\n806      Zeraora        Electric\n807       Meltan           Steel\n808     Melmetal           Steel\n\n[809 rows x 2 columns]",
      "text/html": "<div>\n<style scoped>\n    .dataframe tbody tr th:only-of-type {\n        vertical-align: middle;\n    }\n\n    .dataframe tbody tr th {\n        vertical-align: top;\n    }\n\n    .dataframe thead th {\n        text-align: right;\n    }\n</style>\n<table border=\"1\" class=\"dataframe\">\n  <thead>\n    <tr style=\"text-align: right;\">\n      <th></th>\n      <th>Pokemon</th>\n      <th>Type</th>\n    </tr>\n  </thead>\n  <tbody>\n    <tr>\n      <th>0</th>\n      <td>Bulbasaur</td>\n      <td>Grass / Poison</td>\n    </tr>\n    <tr>\n      <th>1</th>\n      <td>Ivysaur</td>\n      <td>Grass / Poison</td>\n    </tr>\n    <tr>\n      <th>2</th>\n      <td>Venusaur</td>\n      <td>Grass / Poison</td>\n    </tr>\n    <tr>\n      <th>3</th>\n      <td>Charmander</td>\n      <td>Fire</td>\n    </tr>\n    <tr>\n      <th>4</th>\n      <td>Charmeleon</td>\n      <td>Fire</td>\n    </tr>\n    <tr>\n      <th>...</th>\n      <td>...</td>\n      <td>...</td>\n    </tr>\n    <tr>\n      <th>804</th>\n      <td>Stakataka</td>\n      <td>Rock / Steel</td>\n    </tr>\n    <tr>\n      <th>805</th>\n      <td>Blacephalon</td>\n      <td>Fire / Ghost</td>\n    </tr>\n    <tr>\n      <th>806</th>\n      <td>Zeraora</td>\n      <td>Electric</td>\n    </tr>\n    <tr>\n      <th>807</th>\n      <td>Meltan</td>\n      <td>Steel</td>\n    </tr>\n    <tr>\n      <th>808</th>\n      <td>Melmetal</td>\n      <td>Steel</td>\n    </tr>\n  </tbody>\n</table>\n<p>809 rows × 2 columns</p>\n</div>"
     },
     "execution_count": 135,
     "metadata": {},
     "output_type": "execute_result"
    }
   ],
   "source": [
    "pd.read_csv(filepath_or_buffer= '../DATA/pokemon.csv')"
   ],
   "metadata": {
    "collapsed": false,
    "ExecuteTime": {
     "end_time": "2024-01-14T02:23:31.130124500Z",
     "start_time": "2024-01-14T02:23:31.090583300Z"
    }
   },
   "id": "56e357d82c85294e",
   "execution_count": 135
  },
  {
   "cell_type": "code",
   "outputs": [
    {
     "data": {
      "text/plain": "         Pokemon            Type\n0      Bulbasaur  Grass / Poison\n1        Ivysaur  Grass / Poison\n2       Venusaur  Grass / Poison\n3     Charmander            Fire\n4     Charmeleon            Fire\n..           ...             ...\n804    Stakataka    Rock / Steel\n805  Blacephalon    Fire / Ghost\n806      Zeraora        Electric\n807       Meltan           Steel\n808     Melmetal           Steel\n\n[809 rows x 2 columns]",
      "text/html": "<div>\n<style scoped>\n    .dataframe tbody tr th:only-of-type {\n        vertical-align: middle;\n    }\n\n    .dataframe tbody tr th {\n        vertical-align: top;\n    }\n\n    .dataframe thead th {\n        text-align: right;\n    }\n</style>\n<table border=\"1\" class=\"dataframe\">\n  <thead>\n    <tr style=\"text-align: right;\">\n      <th></th>\n      <th>Pokemon</th>\n      <th>Type</th>\n    </tr>\n  </thead>\n  <tbody>\n    <tr>\n      <th>0</th>\n      <td>Bulbasaur</td>\n      <td>Grass / Poison</td>\n    </tr>\n    <tr>\n      <th>1</th>\n      <td>Ivysaur</td>\n      <td>Grass / Poison</td>\n    </tr>\n    <tr>\n      <th>2</th>\n      <td>Venusaur</td>\n      <td>Grass / Poison</td>\n    </tr>\n    <tr>\n      <th>3</th>\n      <td>Charmander</td>\n      <td>Fire</td>\n    </tr>\n    <tr>\n      <th>4</th>\n      <td>Charmeleon</td>\n      <td>Fire</td>\n    </tr>\n    <tr>\n      <th>...</th>\n      <td>...</td>\n      <td>...</td>\n    </tr>\n    <tr>\n      <th>804</th>\n      <td>Stakataka</td>\n      <td>Rock / Steel</td>\n    </tr>\n    <tr>\n      <th>805</th>\n      <td>Blacephalon</td>\n      <td>Fire / Ghost</td>\n    </tr>\n    <tr>\n      <th>806</th>\n      <td>Zeraora</td>\n      <td>Electric</td>\n    </tr>\n    <tr>\n      <th>807</th>\n      <td>Meltan</td>\n      <td>Steel</td>\n    </tr>\n    <tr>\n      <th>808</th>\n      <td>Melmetal</td>\n      <td>Steel</td>\n    </tr>\n  </tbody>\n</table>\n<p>809 rows × 2 columns</p>\n</div>"
     },
     "execution_count": 136,
     "metadata": {},
     "output_type": "execute_result"
    }
   ],
   "source": [
    "pd.read_csv('../DATA/pokemon.csv')"
   ],
   "metadata": {
    "collapsed": false,
    "ExecuteTime": {
     "end_time": "2024-01-14T02:23:41.318724300Z",
     "start_time": "2024-01-14T02:23:41.271949300Z"
    }
   },
   "id": "39ffa15ee366889",
   "execution_count": 136
  },
  {
   "cell_type": "code",
   "outputs": [
    {
     "data": {
      "text/plain": "                       Type\nPokemon                    \nBulbasaur    Grass / Poison\nIvysaur      Grass / Poison\nVenusaur     Grass / Poison\nCharmander             Fire\nCharmeleon             Fire\n...                     ...\nStakataka      Rock / Steel\nBlacephalon    Fire / Ghost\nZeraora            Electric\nMeltan                Steel\nMelmetal              Steel\n\n[809 rows x 1 columns]",
      "text/html": "<div>\n<style scoped>\n    .dataframe tbody tr th:only-of-type {\n        vertical-align: middle;\n    }\n\n    .dataframe tbody tr th {\n        vertical-align: top;\n    }\n\n    .dataframe thead th {\n        text-align: right;\n    }\n</style>\n<table border=\"1\" class=\"dataframe\">\n  <thead>\n    <tr style=\"text-align: right;\">\n      <th></th>\n      <th>Type</th>\n    </tr>\n    <tr>\n      <th>Pokemon</th>\n      <th></th>\n    </tr>\n  </thead>\n  <tbody>\n    <tr>\n      <th>Bulbasaur</th>\n      <td>Grass / Poison</td>\n    </tr>\n    <tr>\n      <th>Ivysaur</th>\n      <td>Grass / Poison</td>\n    </tr>\n    <tr>\n      <th>Venusaur</th>\n      <td>Grass / Poison</td>\n    </tr>\n    <tr>\n      <th>Charmander</th>\n      <td>Fire</td>\n    </tr>\n    <tr>\n      <th>Charmeleon</th>\n      <td>Fire</td>\n    </tr>\n    <tr>\n      <th>...</th>\n      <td>...</td>\n    </tr>\n    <tr>\n      <th>Stakataka</th>\n      <td>Rock / Steel</td>\n    </tr>\n    <tr>\n      <th>Blacephalon</th>\n      <td>Fire / Ghost</td>\n    </tr>\n    <tr>\n      <th>Zeraora</th>\n      <td>Electric</td>\n    </tr>\n    <tr>\n      <th>Meltan</th>\n      <td>Steel</td>\n    </tr>\n    <tr>\n      <th>Melmetal</th>\n      <td>Steel</td>\n    </tr>\n  </tbody>\n</table>\n<p>809 rows × 1 columns</p>\n</div>"
     },
     "execution_count": 137,
     "metadata": {},
     "output_type": "execute_result"
    }
   ],
   "source": [
    "pd.read_csv('../DATA/pokemon.csv',index_col='Pokemon')"
   ],
   "metadata": {
    "collapsed": false,
    "ExecuteTime": {
     "end_time": "2024-01-14T02:23:58.052662400Z",
     "start_time": "2024-01-14T02:23:58.006698400Z"
    }
   },
   "id": "71c9822b081280c1",
   "execution_count": 137
  },
  {
   "cell_type": "code",
   "outputs": [],
   "source": [
    "# pd.read_csv('../DATA/pokemon.csv', index_col='Pokemon', squeeze = True) deprecated"
   ],
   "metadata": {
    "collapsed": false,
    "ExecuteTime": {
     "end_time": "2024-01-14T02:24:59.875194100Z",
     "start_time": "2024-01-14T02:24:59.831409100Z"
    }
   },
   "id": "b21071d63d00bf3d",
   "execution_count": 139
  },
  {
   "cell_type": "code",
   "outputs": [
    {
     "data": {
      "text/plain": "            Date    Close\n3820  2019-10-22  1242.80\n3821  2019-10-23  1259.13\n3822  2019-10-24  1260.99\n3823  2019-10-25  1265.13",
      "text/html": "<div>\n<style scoped>\n    .dataframe tbody tr th:only-of-type {\n        vertical-align: middle;\n    }\n\n    .dataframe tbody tr th {\n        vertical-align: top;\n    }\n\n    .dataframe thead th {\n        text-align: right;\n    }\n</style>\n<table border=\"1\" class=\"dataframe\">\n  <thead>\n    <tr style=\"text-align: right;\">\n      <th></th>\n      <th>Date</th>\n      <th>Close</th>\n    </tr>\n  </thead>\n  <tbody>\n    <tr>\n      <th>3820</th>\n      <td>2019-10-22</td>\n      <td>1242.80</td>\n    </tr>\n    <tr>\n      <th>3821</th>\n      <td>2019-10-23</td>\n      <td>1259.13</td>\n    </tr>\n    <tr>\n      <th>3822</th>\n      <td>2019-10-24</td>\n      <td>1260.99</td>\n    </tr>\n    <tr>\n      <th>3823</th>\n      <td>2019-10-25</td>\n      <td>1265.13</td>\n    </tr>\n  </tbody>\n</table>\n</div>"
     },
     "execution_count": 140,
     "metadata": {},
     "output_type": "execute_result"
    }
   ],
   "source": [
    "pd.read_csv('../DATA/google_stocks.csv').tail(4)"
   ],
   "metadata": {
    "collapsed": false,
    "ExecuteTime": {
     "end_time": "2024-01-14T02:25:25.847398200Z",
     "start_time": "2024-01-14T02:25:25.798497100Z"
    }
   },
   "id": "6289325392f24b02",
   "execution_count": 140
  },
  {
   "cell_type": "code",
   "outputs": [
    {
     "data": {
      "text/plain": "              Close\nDate               \n2004-08-19    49.98\n2004-08-20    53.95\n2004-08-23    54.50\n2004-08-24    52.24\n2004-08-25    52.80\n...             ...\n2019-10-21  1246.15\n2019-10-22  1242.80\n2019-10-23  1259.13\n2019-10-24  1260.99\n2019-10-25  1265.13\n\n[3824 rows x 1 columns]",
      "text/html": "<div>\n<style scoped>\n    .dataframe tbody tr th:only-of-type {\n        vertical-align: middle;\n    }\n\n    .dataframe tbody tr th {\n        vertical-align: top;\n    }\n\n    .dataframe thead th {\n        text-align: right;\n    }\n</style>\n<table border=\"1\" class=\"dataframe\">\n  <thead>\n    <tr style=\"text-align: right;\">\n      <th></th>\n      <th>Close</th>\n    </tr>\n    <tr>\n      <th>Date</th>\n      <th></th>\n    </tr>\n  </thead>\n  <tbody>\n    <tr>\n      <th>2004-08-19</th>\n      <td>49.98</td>\n    </tr>\n    <tr>\n      <th>2004-08-20</th>\n      <td>53.95</td>\n    </tr>\n    <tr>\n      <th>2004-08-23</th>\n      <td>54.50</td>\n    </tr>\n    <tr>\n      <th>2004-08-24</th>\n      <td>52.24</td>\n    </tr>\n    <tr>\n      <th>2004-08-25</th>\n      <td>52.80</td>\n    </tr>\n    <tr>\n      <th>...</th>\n      <td>...</td>\n    </tr>\n    <tr>\n      <th>2019-10-21</th>\n      <td>1246.15</td>\n    </tr>\n    <tr>\n      <th>2019-10-22</th>\n      <td>1242.80</td>\n    </tr>\n    <tr>\n      <th>2019-10-23</th>\n      <td>1259.13</td>\n    </tr>\n    <tr>\n      <th>2019-10-24</th>\n      <td>1260.99</td>\n    </tr>\n    <tr>\n      <th>2019-10-25</th>\n      <td>1265.13</td>\n    </tr>\n  </tbody>\n</table>\n<p>3824 rows × 1 columns</p>\n</div>"
     },
     "execution_count": 141,
     "metadata": {},
     "output_type": "execute_result"
    }
   ],
   "source": [
    "pd.read_csv('../DATA/google_stocks.csv', parse_dates=[\"Date\"], index_col='Date')"
   ],
   "metadata": {
    "collapsed": false,
    "ExecuteTime": {
     "end_time": "2024-01-14T02:25:58.502675600Z",
     "start_time": "2024-01-14T02:25:58.457038900Z"
    }
   },
   "id": "f8f7bda55d16890",
   "execution_count": 141
  },
  {
   "cell_type": "code",
   "outputs": [
    {
     "data": {
      "text/plain": "                        Battle  Start Date     State\n229  Action of 18 October 1782  10/18/1782       NaN\n230  Action of 6 December 1782   12/6/1782       NaN\n231  Action of 22 January 1783   1/22/1783  Virginia",
      "text/html": "<div>\n<style scoped>\n    .dataframe tbody tr th:only-of-type {\n        vertical-align: middle;\n    }\n\n    .dataframe tbody tr th {\n        vertical-align: top;\n    }\n\n    .dataframe thead th {\n        text-align: right;\n    }\n</style>\n<table border=\"1\" class=\"dataframe\">\n  <thead>\n    <tr style=\"text-align: right;\">\n      <th></th>\n      <th>Battle</th>\n      <th>Start Date</th>\n      <th>State</th>\n    </tr>\n  </thead>\n  <tbody>\n    <tr>\n      <th>229</th>\n      <td>Action of 18 October 1782</td>\n      <td>10/18/1782</td>\n      <td>NaN</td>\n    </tr>\n    <tr>\n      <th>230</th>\n      <td>Action of 6 December 1782</td>\n      <td>12/6/1782</td>\n      <td>NaN</td>\n    </tr>\n    <tr>\n      <th>231</th>\n      <td>Action of 22 January 1783</td>\n      <td>1/22/1783</td>\n      <td>Virginia</td>\n    </tr>\n  </tbody>\n</table>\n</div>"
     },
     "execution_count": 142,
     "metadata": {},
     "output_type": "execute_result"
    }
   ],
   "source": [
    "pd.read_csv('../DATA/revolutionary_war.csv').tail(3)"
   ],
   "metadata": {
    "collapsed": false,
    "ExecuteTime": {
     "end_time": "2024-01-14T02:26:24.651599900Z",
     "start_time": "2024-01-14T02:26:24.604989Z"
    }
   },
   "id": "387fcc234cb63e15",
   "execution_count": 142
  },
  {
   "cell_type": "code",
   "outputs": [
    {
     "data": {
      "text/plain": "                               Battle     State\nStart Date                                     \n1782-10-18  Action of 18 October 1782       NaN\n1782-12-06  Action of 6 December 1782       NaN\n1783-01-22  Action of 22 January 1783  Virginia",
      "text/html": "<div>\n<style scoped>\n    .dataframe tbody tr th:only-of-type {\n        vertical-align: middle;\n    }\n\n    .dataframe tbody tr th {\n        vertical-align: top;\n    }\n\n    .dataframe thead th {\n        text-align: right;\n    }\n</style>\n<table border=\"1\" class=\"dataframe\">\n  <thead>\n    <tr style=\"text-align: right;\">\n      <th></th>\n      <th>Battle</th>\n      <th>State</th>\n    </tr>\n    <tr>\n      <th>Start Date</th>\n      <th></th>\n      <th></th>\n    </tr>\n  </thead>\n  <tbody>\n    <tr>\n      <th>1782-10-18</th>\n      <td>Action of 18 October 1782</td>\n      <td>NaN</td>\n    </tr>\n    <tr>\n      <th>1782-12-06</th>\n      <td>Action of 6 December 1782</td>\n      <td>NaN</td>\n    </tr>\n    <tr>\n      <th>1783-01-22</th>\n      <td>Action of 22 January 1783</td>\n      <td>Virginia</td>\n    </tr>\n  </tbody>\n</table>\n</div>"
     },
     "execution_count": 145,
     "metadata": {},
     "output_type": "execute_result"
    }
   ],
   "source": [
    "pd.read_csv('../DATA/revolutionary_war.csv', index_col='Start Date', parse_dates=['Start Date']).tail(3)"
   ],
   "metadata": {
    "collapsed": false,
    "ExecuteTime": {
     "end_time": "2024-01-14T02:27:22.687116100Z",
     "start_time": "2024-01-14T02:27:22.637894Z"
    }
   },
   "id": "4a6d4df1e616f786",
   "execution_count": 145
  },
  {
   "cell_type": "code",
   "outputs": [
    {
     "data": {
      "text/plain": "                    State\nStart Date               \n1774-09-01  Massachusetts\n1774-12-14  New Hampshire\n1775-04-19  Massachusetts\n1775-04-19  Massachusetts\n1775-04-20       Virginia\n...                   ...\n1782-09-11       Virginia\n1782-09-13            NaN\n1782-10-18            NaN\n1782-12-06            NaN\n1783-01-22       Virginia\n\n[232 rows x 1 columns]",
      "text/html": "<div>\n<style scoped>\n    .dataframe tbody tr th:only-of-type {\n        vertical-align: middle;\n    }\n\n    .dataframe tbody tr th {\n        vertical-align: top;\n    }\n\n    .dataframe thead th {\n        text-align: right;\n    }\n</style>\n<table border=\"1\" class=\"dataframe\">\n  <thead>\n    <tr style=\"text-align: right;\">\n      <th></th>\n      <th>State</th>\n    </tr>\n    <tr>\n      <th>Start Date</th>\n      <th></th>\n    </tr>\n  </thead>\n  <tbody>\n    <tr>\n      <th>1774-09-01</th>\n      <td>Massachusetts</td>\n    </tr>\n    <tr>\n      <th>1774-12-14</th>\n      <td>New Hampshire</td>\n    </tr>\n    <tr>\n      <th>1775-04-19</th>\n      <td>Massachusetts</td>\n    </tr>\n    <tr>\n      <th>1775-04-19</th>\n      <td>Massachusetts</td>\n    </tr>\n    <tr>\n      <th>1775-04-20</th>\n      <td>Virginia</td>\n    </tr>\n    <tr>\n      <th>...</th>\n      <td>...</td>\n    </tr>\n    <tr>\n      <th>1782-09-11</th>\n      <td>Virginia</td>\n    </tr>\n    <tr>\n      <th>1782-09-13</th>\n      <td>NaN</td>\n    </tr>\n    <tr>\n      <th>1782-10-18</th>\n      <td>NaN</td>\n    </tr>\n    <tr>\n      <th>1782-12-06</th>\n      <td>NaN</td>\n    </tr>\n    <tr>\n      <th>1783-01-22</th>\n      <td>Virginia</td>\n    </tr>\n  </tbody>\n</table>\n<p>232 rows × 1 columns</p>\n</div>"
     },
     "execution_count": 147,
     "metadata": {},
     "output_type": "execute_result"
    }
   ],
   "source": [
    "pd.read_csv(\n",
    "    '../DATA/revolutionary_war.csv',\n",
    "    index_col= 'Start Date',\n",
    "    parse_dates= ['Start Date'],\n",
    "    usecols=['State', 'Start Date'],\n",
    ")"
   ],
   "metadata": {
    "collapsed": false,
    "ExecuteTime": {
     "end_time": "2024-01-14T02:28:15.119904600Z",
     "start_time": "2024-01-14T02:28:14.964635400Z"
    }
   },
   "id": "49817ea7980cc8af",
   "execution_count": 147
  },
  {
   "cell_type": "code",
   "outputs": [],
   "source": [
    "google = pd.read_csv('../DATA/google_stocks.csv', parse_dates=['Date'], index_col='Date')\n"
   ],
   "metadata": {
    "collapsed": false,
    "ExecuteTime": {
     "end_time": "2024-01-14T02:29:47.651235400Z",
     "start_time": "2024-01-14T02:29:47.610369200Z"
    }
   },
   "id": "f734d262a6750458",
   "execution_count": 150
  },
  {
   "cell_type": "code",
   "outputs": [
    {
     "data": {
      "text/plain": "              Close\nDate               \n2004-08-19    49.98\n2004-08-20    53.95\n2004-08-23    54.50\n2004-08-24    52.24\n2004-08-25    52.80\n...             ...\n2019-10-21  1246.15\n2019-10-22  1242.80\n2019-10-23  1259.13\n2019-10-24  1260.99\n2019-10-25  1265.13\n\n[3824 rows x 1 columns]",
      "text/html": "<div>\n<style scoped>\n    .dataframe tbody tr th:only-of-type {\n        vertical-align: middle;\n    }\n\n    .dataframe tbody tr th {\n        vertical-align: top;\n    }\n\n    .dataframe thead th {\n        text-align: right;\n    }\n</style>\n<table border=\"1\" class=\"dataframe\">\n  <thead>\n    <tr style=\"text-align: right;\">\n      <th></th>\n      <th>Close</th>\n    </tr>\n    <tr>\n      <th>Date</th>\n      <th></th>\n    </tr>\n  </thead>\n  <tbody>\n    <tr>\n      <th>2004-08-19</th>\n      <td>49.98</td>\n    </tr>\n    <tr>\n      <th>2004-08-20</th>\n      <td>53.95</td>\n    </tr>\n    <tr>\n      <th>2004-08-23</th>\n      <td>54.50</td>\n    </tr>\n    <tr>\n      <th>2004-08-24</th>\n      <td>52.24</td>\n    </tr>\n    <tr>\n      <th>2004-08-25</th>\n      <td>52.80</td>\n    </tr>\n    <tr>\n      <th>...</th>\n      <td>...</td>\n    </tr>\n    <tr>\n      <th>2019-10-21</th>\n      <td>1246.15</td>\n    </tr>\n    <tr>\n      <th>2019-10-22</th>\n      <td>1242.80</td>\n    </tr>\n    <tr>\n      <th>2019-10-23</th>\n      <td>1259.13</td>\n    </tr>\n    <tr>\n      <th>2019-10-24</th>\n      <td>1260.99</td>\n    </tr>\n    <tr>\n      <th>2019-10-25</th>\n      <td>1265.13</td>\n    </tr>\n  </tbody>\n</table>\n<p>3824 rows × 1 columns</p>\n</div>"
     },
     "execution_count": 151,
     "metadata": {},
     "output_type": "execute_result"
    }
   ],
   "source": [
    "google"
   ],
   "metadata": {
    "collapsed": false,
    "ExecuteTime": {
     "end_time": "2024-01-14T02:29:49.792609300Z",
     "start_time": "2024-01-14T02:29:49.756019600Z"
    }
   },
   "id": "662325d4d583fa8a",
   "execution_count": 151
  },
  {
   "cell_type": "code",
   "outputs": [
    {
     "data": {
      "text/plain": "              Close\nDate               \n2004-09-03    49.82\n2004-09-01    49.94\n2004-08-19    49.98\n2004-09-02    50.57\n2004-09-07    50.60\n...             ...\n2019-04-23  1264.55\n2019-10-25  1265.13\n2018-07-26  1268.33\n2019-04-26  1272.18\n2019-04-29  1287.58\n\n[3824 rows x 1 columns]",
      "text/html": "<div>\n<style scoped>\n    .dataframe tbody tr th:only-of-type {\n        vertical-align: middle;\n    }\n\n    .dataframe tbody tr th {\n        vertical-align: top;\n    }\n\n    .dataframe thead th {\n        text-align: right;\n    }\n</style>\n<table border=\"1\" class=\"dataframe\">\n  <thead>\n    <tr style=\"text-align: right;\">\n      <th></th>\n      <th>Close</th>\n    </tr>\n    <tr>\n      <th>Date</th>\n      <th></th>\n    </tr>\n  </thead>\n  <tbody>\n    <tr>\n      <th>2004-09-03</th>\n      <td>49.82</td>\n    </tr>\n    <tr>\n      <th>2004-09-01</th>\n      <td>49.94</td>\n    </tr>\n    <tr>\n      <th>2004-08-19</th>\n      <td>49.98</td>\n    </tr>\n    <tr>\n      <th>2004-09-02</th>\n      <td>50.57</td>\n    </tr>\n    <tr>\n      <th>2004-09-07</th>\n      <td>50.60</td>\n    </tr>\n    <tr>\n      <th>...</th>\n      <td>...</td>\n    </tr>\n    <tr>\n      <th>2019-04-23</th>\n      <td>1264.55</td>\n    </tr>\n    <tr>\n      <th>2019-10-25</th>\n      <td>1265.13</td>\n    </tr>\n    <tr>\n      <th>2018-07-26</th>\n      <td>1268.33</td>\n    </tr>\n    <tr>\n      <th>2019-04-26</th>\n      <td>1272.18</td>\n    </tr>\n    <tr>\n      <th>2019-04-29</th>\n      <td>1287.58</td>\n    </tr>\n  </tbody>\n</table>\n<p>3824 rows × 1 columns</p>\n</div>"
     },
     "execution_count": 153,
     "metadata": {},
     "output_type": "execute_result"
    }
   ],
   "source": [
    "google.sort_values(by = 'Close')"
   ],
   "metadata": {
    "collapsed": false,
    "ExecuteTime": {
     "end_time": "2024-01-14T02:30:48.087405300Z",
     "start_time": "2024-01-14T02:30:48.048550900Z"
    }
   },
   "id": "dd0202e31f386de7",
   "execution_count": 153
  },
  {
   "cell_type": "code",
   "outputs": [
    {
     "data": {
      "text/plain": "                       Type\nPokemon                    \nBulbasaur    Grass / Poison\nIvysaur      Grass / Poison\nVenusaur     Grass / Poison\nCharmander             Fire\nCharmeleon             Fire\n...                     ...\nStakataka      Rock / Steel\nBlacephalon    Fire / Ghost\nZeraora            Electric\nMeltan                Steel\nMelmetal              Steel\n\n[809 rows x 1 columns]",
      "text/html": "<div>\n<style scoped>\n    .dataframe tbody tr th:only-of-type {\n        vertical-align: middle;\n    }\n\n    .dataframe tbody tr th {\n        vertical-align: top;\n    }\n\n    .dataframe thead th {\n        text-align: right;\n    }\n</style>\n<table border=\"1\" class=\"dataframe\">\n  <thead>\n    <tr style=\"text-align: right;\">\n      <th></th>\n      <th>Type</th>\n    </tr>\n    <tr>\n      <th>Pokemon</th>\n      <th></th>\n    </tr>\n  </thead>\n  <tbody>\n    <tr>\n      <th>Bulbasaur</th>\n      <td>Grass / Poison</td>\n    </tr>\n    <tr>\n      <th>Ivysaur</th>\n      <td>Grass / Poison</td>\n    </tr>\n    <tr>\n      <th>Venusaur</th>\n      <td>Grass / Poison</td>\n    </tr>\n    <tr>\n      <th>Charmander</th>\n      <td>Fire</td>\n    </tr>\n    <tr>\n      <th>Charmeleon</th>\n      <td>Fire</td>\n    </tr>\n    <tr>\n      <th>...</th>\n      <td>...</td>\n    </tr>\n    <tr>\n      <th>Stakataka</th>\n      <td>Rock / Steel</td>\n    </tr>\n    <tr>\n      <th>Blacephalon</th>\n      <td>Fire / Ghost</td>\n    </tr>\n    <tr>\n      <th>Zeraora</th>\n      <td>Electric</td>\n    </tr>\n    <tr>\n      <th>Meltan</th>\n      <td>Steel</td>\n    </tr>\n    <tr>\n      <th>Melmetal</th>\n      <td>Steel</td>\n    </tr>\n  </tbody>\n</table>\n<p>809 rows × 1 columns</p>\n</div>"
     },
     "execution_count": 155,
     "metadata": {},
     "output_type": "execute_result"
    }
   ],
   "source": [
    "pokemon = pd.read_csv('../DATA/pokemon.csv', index_col='Pokemon')\n",
    "pokemon"
   ],
   "metadata": {
    "collapsed": false,
    "ExecuteTime": {
     "end_time": "2024-01-14T02:31:52.291869Z",
     "start_time": "2024-01-14T02:31:52.234199Z"
    }
   },
   "id": "7a7c1967bf81002",
   "execution_count": 155
  },
  {
   "cell_type": "code",
   "outputs": [
    {
     "data": {
      "text/plain": "                      Type\nPokemon                   \nZygarde    Dragon / Ground\nZweilous     Dark / Dragon\nZubat      Poison / Flying\nZorua                 Dark\nZoroark               Dark\n...                    ...\nAegislash    Steel / Ghost\nAccelgor               Bug\nAbsol                 Dark\nAbra               Psychic\nAbomasnow      Grass / Ice\n\n[809 rows x 1 columns]",
      "text/html": "<div>\n<style scoped>\n    .dataframe tbody tr th:only-of-type {\n        vertical-align: middle;\n    }\n\n    .dataframe tbody tr th {\n        vertical-align: top;\n    }\n\n    .dataframe thead th {\n        text-align: right;\n    }\n</style>\n<table border=\"1\" class=\"dataframe\">\n  <thead>\n    <tr style=\"text-align: right;\">\n      <th></th>\n      <th>Type</th>\n    </tr>\n    <tr>\n      <th>Pokemon</th>\n      <th></th>\n    </tr>\n  </thead>\n  <tbody>\n    <tr>\n      <th>Zygarde</th>\n      <td>Dragon / Ground</td>\n    </tr>\n    <tr>\n      <th>Zweilous</th>\n      <td>Dark / Dragon</td>\n    </tr>\n    <tr>\n      <th>Zubat</th>\n      <td>Poison / Flying</td>\n    </tr>\n    <tr>\n      <th>Zorua</th>\n      <td>Dark</td>\n    </tr>\n    <tr>\n      <th>Zoroark</th>\n      <td>Dark</td>\n    </tr>\n    <tr>\n      <th>...</th>\n      <td>...</td>\n    </tr>\n    <tr>\n      <th>Aegislash</th>\n      <td>Steel / Ghost</td>\n    </tr>\n    <tr>\n      <th>Accelgor</th>\n      <td>Bug</td>\n    </tr>\n    <tr>\n      <th>Absol</th>\n      <td>Dark</td>\n    </tr>\n    <tr>\n      <th>Abra</th>\n      <td>Psychic</td>\n    </tr>\n    <tr>\n      <th>Abomasnow</th>\n      <td>Grass / Ice</td>\n    </tr>\n  </tbody>\n</table>\n<p>809 rows × 1 columns</p>\n</div>"
     },
     "execution_count": 157,
     "metadata": {},
     "output_type": "execute_result"
    }
   ],
   "source": [
    "pokemon.sort_values('Pokemon', ascending=False)"
   ],
   "metadata": {
    "collapsed": false,
    "ExecuteTime": {
     "end_time": "2024-01-14T02:32:18.168839900Z",
     "start_time": "2024-01-14T02:32:18.120260600Z"
    }
   },
   "id": "9fbab762614c59c0",
   "execution_count": 157
  },
  {
   "cell_type": "code",
   "outputs": [
    {
     "data": {
      "text/plain": "              Close\nDate               \n2019-04-29  1287.58\n2019-04-26  1272.18\n2018-07-26  1268.33",
      "text/html": "<div>\n<style scoped>\n    .dataframe tbody tr th:only-of-type {\n        vertical-align: middle;\n    }\n\n    .dataframe tbody tr th {\n        vertical-align: top;\n    }\n\n    .dataframe thead th {\n        text-align: right;\n    }\n</style>\n<table border=\"1\" class=\"dataframe\">\n  <thead>\n    <tr style=\"text-align: right;\">\n      <th></th>\n      <th>Close</th>\n    </tr>\n    <tr>\n      <th>Date</th>\n      <th></th>\n    </tr>\n  </thead>\n  <tbody>\n    <tr>\n      <th>2019-04-29</th>\n      <td>1287.58</td>\n    </tr>\n    <tr>\n      <th>2019-04-26</th>\n      <td>1272.18</td>\n    </tr>\n    <tr>\n      <th>2018-07-26</th>\n      <td>1268.33</td>\n    </tr>\n  </tbody>\n</table>\n</div>"
     },
     "execution_count": 160,
     "metadata": {},
     "output_type": "execute_result"
    }
   ],
   "source": [
    "google.sort_values(by = 'Close', ascending= False).head(3)"
   ],
   "metadata": {
    "collapsed": false,
    "ExecuteTime": {
     "end_time": "2024-01-14T02:33:00.475381200Z",
     "start_time": "2024-01-14T02:33:00.409778100Z"
    }
   },
   "id": "e4dc7ad129db28fc",
   "execution_count": 160
  },
  {
   "cell_type": "code",
   "outputs": [
    {
     "data": {
      "text/plain": "                                   Start Date          State\nBattle                                                      \nPowder Alarm                         9/1/1774  Massachusetts\nStorming of Fort William and Mary  12/14/1774  New Hampshire\nBattles of Lexington and Concord    4/19/1775  Massachusetts\nSiege of Boston                     4/19/1775  Massachusetts\nGunpowder Incident                  4/20/1775       Virginia\n...                                       ...            ...\nSiege of Fort Henry                 9/11/1782       Virginia\nGrand Assault on Gibraltar          9/13/1782            NaN\nAction of 18 October 1782          10/18/1782            NaN\nAction of 6 December 1782           12/6/1782            NaN\nAction of 22 January 1783           1/22/1783       Virginia\n\n[232 rows x 2 columns]",
      "text/html": "<div>\n<style scoped>\n    .dataframe tbody tr th:only-of-type {\n        vertical-align: middle;\n    }\n\n    .dataframe tbody tr th {\n        vertical-align: top;\n    }\n\n    .dataframe thead th {\n        text-align: right;\n    }\n</style>\n<table border=\"1\" class=\"dataframe\">\n  <thead>\n    <tr style=\"text-align: right;\">\n      <th></th>\n      <th>Start Date</th>\n      <th>State</th>\n    </tr>\n    <tr>\n      <th>Battle</th>\n      <th></th>\n      <th></th>\n    </tr>\n  </thead>\n  <tbody>\n    <tr>\n      <th>Powder Alarm</th>\n      <td>9/1/1774</td>\n      <td>Massachusetts</td>\n    </tr>\n    <tr>\n      <th>Storming of Fort William and Mary</th>\n      <td>12/14/1774</td>\n      <td>New Hampshire</td>\n    </tr>\n    <tr>\n      <th>Battles of Lexington and Concord</th>\n      <td>4/19/1775</td>\n      <td>Massachusetts</td>\n    </tr>\n    <tr>\n      <th>Siege of Boston</th>\n      <td>4/19/1775</td>\n      <td>Massachusetts</td>\n    </tr>\n    <tr>\n      <th>Gunpowder Incident</th>\n      <td>4/20/1775</td>\n      <td>Virginia</td>\n    </tr>\n    <tr>\n      <th>...</th>\n      <td>...</td>\n      <td>...</td>\n    </tr>\n    <tr>\n      <th>Siege of Fort Henry</th>\n      <td>9/11/1782</td>\n      <td>Virginia</td>\n    </tr>\n    <tr>\n      <th>Grand Assault on Gibraltar</th>\n      <td>9/13/1782</td>\n      <td>NaN</td>\n    </tr>\n    <tr>\n      <th>Action of 18 October 1782</th>\n      <td>10/18/1782</td>\n      <td>NaN</td>\n    </tr>\n    <tr>\n      <th>Action of 6 December 1782</th>\n      <td>12/6/1782</td>\n      <td>NaN</td>\n    </tr>\n    <tr>\n      <th>Action of 22 January 1783</th>\n      <td>1/22/1783</td>\n      <td>Virginia</td>\n    </tr>\n  </tbody>\n</table>\n<p>232 rows × 2 columns</p>\n</div>"
     },
     "execution_count": 164,
     "metadata": {},
     "output_type": "execute_result"
    }
   ],
   "source": [
    "battles = pd.read_csv('../DATA/revolutionary_war.csv')\n",
    "battles.set_index(\"Battle\", inplace=True)\n",
    "battles"
   ],
   "metadata": {
    "collapsed": false,
    "ExecuteTime": {
     "end_time": "2024-01-14T02:34:39.645149900Z",
     "start_time": "2024-01-14T02:34:39.580153400Z"
    }
   },
   "id": "c6b96688352a381",
   "execution_count": 164
  },
  {
   "cell_type": "code",
   "outputs": [
    {
     "data": {
      "text/plain": "                              Start Date     State\nBattle                                            \nSiege of Fort St. Jean         9/17/1775       NaN\nBattle of Quebec              12/31/1775       NaN\nBattle of Nassau                3/3/1776       NaN\nBattle of Saint-Pierre         3/25/1776       NaN\nBattle of The Cedars           5/18/1776       NaN\n...                                  ...       ...\nBattle of Green Spring          7/6/1781  Virginia\nFrancisco's Fight               7/1/1781  Virginia\nBattle of Spencer's Ordinary   6/26/1781  Virginia\nBattle of Blandford            4/25/1781  Virginia\nAction of 22 January 1783      1/22/1783  Virginia\n\n[232 rows x 2 columns]",
      "text/html": "<div>\n<style scoped>\n    .dataframe tbody tr th:only-of-type {\n        vertical-align: middle;\n    }\n\n    .dataframe tbody tr th {\n        vertical-align: top;\n    }\n\n    .dataframe thead th {\n        text-align: right;\n    }\n</style>\n<table border=\"1\" class=\"dataframe\">\n  <thead>\n    <tr style=\"text-align: right;\">\n      <th></th>\n      <th>Start Date</th>\n      <th>State</th>\n    </tr>\n    <tr>\n      <th>Battle</th>\n      <th></th>\n      <th></th>\n    </tr>\n  </thead>\n  <tbody>\n    <tr>\n      <th>Siege of Fort St. Jean</th>\n      <td>9/17/1775</td>\n      <td>NaN</td>\n    </tr>\n    <tr>\n      <th>Battle of Quebec</th>\n      <td>12/31/1775</td>\n      <td>NaN</td>\n    </tr>\n    <tr>\n      <th>Battle of Nassau</th>\n      <td>3/3/1776</td>\n      <td>NaN</td>\n    </tr>\n    <tr>\n      <th>Battle of Saint-Pierre</th>\n      <td>3/25/1776</td>\n      <td>NaN</td>\n    </tr>\n    <tr>\n      <th>Battle of The Cedars</th>\n      <td>5/18/1776</td>\n      <td>NaN</td>\n    </tr>\n    <tr>\n      <th>...</th>\n      <td>...</td>\n      <td>...</td>\n    </tr>\n    <tr>\n      <th>Battle of Green Spring</th>\n      <td>7/6/1781</td>\n      <td>Virginia</td>\n    </tr>\n    <tr>\n      <th>Francisco's Fight</th>\n      <td>7/1/1781</td>\n      <td>Virginia</td>\n    </tr>\n    <tr>\n      <th>Battle of Spencer's Ordinary</th>\n      <td>6/26/1781</td>\n      <td>Virginia</td>\n    </tr>\n    <tr>\n      <th>Battle of Blandford</th>\n      <td>4/25/1781</td>\n      <td>Virginia</td>\n    </tr>\n    <tr>\n      <th>Action of 22 January 1783</th>\n      <td>1/22/1783</td>\n      <td>Virginia</td>\n    </tr>\n  </tbody>\n</table>\n<p>232 rows × 2 columns</p>\n</div>"
     },
     "execution_count": 166,
     "metadata": {},
     "output_type": "execute_result"
    }
   ],
   "source": [
    "battles.sort_values(by = 'State', na_position='first')"
   ],
   "metadata": {
    "collapsed": false,
    "ExecuteTime": {
     "end_time": "2024-01-14T02:35:02.739178Z",
     "start_time": "2024-01-14T02:35:02.691803100Z"
    }
   },
   "id": "ac165a8bbc5c7d4c",
   "execution_count": 166
  },
  {
   "cell_type": "code",
   "outputs": [
    {
     "data": {
      "text/plain": "                            Start Date        State\nBattle                                             \nBattle of Groton Heights      9/6/1781  Connecticut\nTryon's raid                  7/5/1779  Connecticut\nBattle of Ridgefield         4/27/1777  Connecticut\nBattle of Cooch's Bridge      9/3/1777     Delaware\nBattle of Thomas Creek       5/17/1777      Florida\n...                                ...          ...\nHudson Bay Expedition         8/8/1782          NaN\nBattle of Trincomalee        8/25/1782          NaN\nGrand Assault on Gibraltar   9/13/1782          NaN\nAction of 18 October 1782   10/18/1782          NaN\nAction of 6 December 1782    12/6/1782          NaN\n\n[232 rows x 2 columns]",
      "text/html": "<div>\n<style scoped>\n    .dataframe tbody tr th:only-of-type {\n        vertical-align: middle;\n    }\n\n    .dataframe tbody tr th {\n        vertical-align: top;\n    }\n\n    .dataframe thead th {\n        text-align: right;\n    }\n</style>\n<table border=\"1\" class=\"dataframe\">\n  <thead>\n    <tr style=\"text-align: right;\">\n      <th></th>\n      <th>Start Date</th>\n      <th>State</th>\n    </tr>\n    <tr>\n      <th>Battle</th>\n      <th></th>\n      <th></th>\n    </tr>\n  </thead>\n  <tbody>\n    <tr>\n      <th>Battle of Groton Heights</th>\n      <td>9/6/1781</td>\n      <td>Connecticut</td>\n    </tr>\n    <tr>\n      <th>Tryon's raid</th>\n      <td>7/5/1779</td>\n      <td>Connecticut</td>\n    </tr>\n    <tr>\n      <th>Battle of Ridgefield</th>\n      <td>4/27/1777</td>\n      <td>Connecticut</td>\n    </tr>\n    <tr>\n      <th>Battle of Cooch's Bridge</th>\n      <td>9/3/1777</td>\n      <td>Delaware</td>\n    </tr>\n    <tr>\n      <th>Battle of Thomas Creek</th>\n      <td>5/17/1777</td>\n      <td>Florida</td>\n    </tr>\n    <tr>\n      <th>...</th>\n      <td>...</td>\n      <td>...</td>\n    </tr>\n    <tr>\n      <th>Hudson Bay Expedition</th>\n      <td>8/8/1782</td>\n      <td>NaN</td>\n    </tr>\n    <tr>\n      <th>Battle of Trincomalee</th>\n      <td>8/25/1782</td>\n      <td>NaN</td>\n    </tr>\n    <tr>\n      <th>Grand Assault on Gibraltar</th>\n      <td>9/13/1782</td>\n      <td>NaN</td>\n    </tr>\n    <tr>\n      <th>Action of 18 October 1782</th>\n      <td>10/18/1782</td>\n      <td>NaN</td>\n    </tr>\n    <tr>\n      <th>Action of 6 December 1782</th>\n      <td>12/6/1782</td>\n      <td>NaN</td>\n    </tr>\n  </tbody>\n</table>\n<p>232 rows × 2 columns</p>\n</div>"
     },
     "execution_count": 171,
     "metadata": {},
     "output_type": "execute_result"
    }
   ],
   "source": [
    "battles.sort_values(by = 'State', na_position='last')"
   ],
   "metadata": {
    "collapsed": false,
    "ExecuteTime": {
     "end_time": "2024-01-14T02:36:00.191365100Z",
     "start_time": "2024-01-14T02:36:00.154929500Z"
    }
   },
   "id": "fd277f2622f8d434",
   "execution_count": 171
  },
  {
   "cell_type": "code",
   "outputs": [
    {
     "data": {
      "text/plain": "                             Start Date        State\nBattle                                              \nBattle of Ridgefield          4/27/1777  Connecticut\nTryon's raid                   7/5/1779  Connecticut\nBattle of Groton Heights       9/6/1781  Connecticut\nBattle of Cooch's Bridge       9/3/1777     Delaware\nBattle of Lake Pontchartrain  9/10/1779      Florida\n...                                 ...          ...\nBattle of Blandford           4/25/1781     Virginia\nBattle of Cape Henry          3/16/1781     Virginia\nBurning of Norfolk             1/1/1776     Virginia\nSiege of Yorktown             9/28/1781     Virginia\nAction of 22 January 1783     1/22/1783     Virginia\n\n[160 rows x 2 columns]",
      "text/html": "<div>\n<style scoped>\n    .dataframe tbody tr th:only-of-type {\n        vertical-align: middle;\n    }\n\n    .dataframe tbody tr th {\n        vertical-align: top;\n    }\n\n    .dataframe thead th {\n        text-align: right;\n    }\n</style>\n<table border=\"1\" class=\"dataframe\">\n  <thead>\n    <tr style=\"text-align: right;\">\n      <th></th>\n      <th>Start Date</th>\n      <th>State</th>\n    </tr>\n    <tr>\n      <th>Battle</th>\n      <th></th>\n      <th></th>\n    </tr>\n  </thead>\n  <tbody>\n    <tr>\n      <th>Battle of Ridgefield</th>\n      <td>4/27/1777</td>\n      <td>Connecticut</td>\n    </tr>\n    <tr>\n      <th>Tryon's raid</th>\n      <td>7/5/1779</td>\n      <td>Connecticut</td>\n    </tr>\n    <tr>\n      <th>Battle of Groton Heights</th>\n      <td>9/6/1781</td>\n      <td>Connecticut</td>\n    </tr>\n    <tr>\n      <th>Battle of Cooch's Bridge</th>\n      <td>9/3/1777</td>\n      <td>Delaware</td>\n    </tr>\n    <tr>\n      <th>Battle of Lake Pontchartrain</th>\n      <td>9/10/1779</td>\n      <td>Florida</td>\n    </tr>\n    <tr>\n      <th>...</th>\n      <td>...</td>\n      <td>...</td>\n    </tr>\n    <tr>\n      <th>Battle of Blandford</th>\n      <td>4/25/1781</td>\n      <td>Virginia</td>\n    </tr>\n    <tr>\n      <th>Battle of Cape Henry</th>\n      <td>3/16/1781</td>\n      <td>Virginia</td>\n    </tr>\n    <tr>\n      <th>Burning of Norfolk</th>\n      <td>1/1/1776</td>\n      <td>Virginia</td>\n    </tr>\n    <tr>\n      <th>Siege of Yorktown</th>\n      <td>9/28/1781</td>\n      <td>Virginia</td>\n    </tr>\n    <tr>\n      <th>Action of 22 January 1783</th>\n      <td>1/22/1783</td>\n      <td>Virginia</td>\n    </tr>\n  </tbody>\n</table>\n<p>160 rows × 2 columns</p>\n</div>"
     },
     "execution_count": 172,
     "metadata": {},
     "output_type": "execute_result"
    }
   ],
   "source": [
    "battles.dropna().sort_values(by = 'State')"
   ],
   "metadata": {
    "collapsed": false,
    "ExecuteTime": {
     "end_time": "2024-01-14T02:36:00.472457600Z",
     "start_time": "2024-01-14T02:36:00.398429500Z"
    }
   },
   "id": "d665fd204ca234cf",
   "execution_count": 172
  },
  {
   "cell_type": "code",
   "outputs": [
    {
     "data": {
      "text/plain": "              Close\nDate               \n2019-04-29  1287.58\n2019-04-26  1272.18\n2018-07-26  1268.33\n2019-10-25  1265.13\n2019-04-23  1264.55",
      "text/html": "<div>\n<style scoped>\n    .dataframe tbody tr th:only-of-type {\n        vertical-align: middle;\n    }\n\n    .dataframe tbody tr th {\n        vertical-align: top;\n    }\n\n    .dataframe thead th {\n        text-align: right;\n    }\n</style>\n<table border=\"1\" class=\"dataframe\">\n  <thead>\n    <tr style=\"text-align: right;\">\n      <th></th>\n      <th>Close</th>\n    </tr>\n    <tr>\n      <th>Date</th>\n      <th></th>\n    </tr>\n  </thead>\n  <tbody>\n    <tr>\n      <th>2019-04-29</th>\n      <td>1287.58</td>\n    </tr>\n    <tr>\n      <th>2019-04-26</th>\n      <td>1272.18</td>\n    </tr>\n    <tr>\n      <th>2018-07-26</th>\n      <td>1268.33</td>\n    </tr>\n    <tr>\n      <th>2019-10-25</th>\n      <td>1265.13</td>\n    </tr>\n    <tr>\n      <th>2019-04-23</th>\n      <td>1264.55</td>\n    </tr>\n  </tbody>\n</table>\n</div>"
     },
     "execution_count": 175,
     "metadata": {},
     "output_type": "execute_result"
    }
   ],
   "source": [
    "google.nlargest(columns='Close', n=5)"
   ],
   "metadata": {
    "collapsed": false,
    "ExecuteTime": {
     "end_time": "2024-01-14T02:36:57.605106400Z",
     "start_time": "2024-01-14T02:36:57.554872400Z"
    }
   },
   "id": "1e2529237c16a912",
   "execution_count": 175
  },
  {
   "cell_type": "code",
   "outputs": [
    {
     "data": {
      "text/plain": "              Close\nDate               \n2019-04-29  1287.58\n2019-04-26  1272.18\n2018-07-26  1268.33",
      "text/html": "<div>\n<style scoped>\n    .dataframe tbody tr th:only-of-type {\n        vertical-align: middle;\n    }\n\n    .dataframe tbody tr th {\n        vertical-align: top;\n    }\n\n    .dataframe thead th {\n        text-align: right;\n    }\n</style>\n<table border=\"1\" class=\"dataframe\">\n  <thead>\n    <tr style=\"text-align: right;\">\n      <th></th>\n      <th>Close</th>\n    </tr>\n    <tr>\n      <th>Date</th>\n      <th></th>\n    </tr>\n  </thead>\n  <tbody>\n    <tr>\n      <th>2019-04-29</th>\n      <td>1287.58</td>\n    </tr>\n    <tr>\n      <th>2019-04-26</th>\n      <td>1272.18</td>\n    </tr>\n    <tr>\n      <th>2018-07-26</th>\n      <td>1268.33</td>\n    </tr>\n  </tbody>\n</table>\n</div>"
     },
     "execution_count": 176,
     "metadata": {},
     "output_type": "execute_result"
    }
   ],
   "source": [
    "google.nlargest(columns='Close', n=3)"
   ],
   "metadata": {
    "collapsed": false,
    "ExecuteTime": {
     "end_time": "2024-01-14T02:37:01.829093900Z",
     "start_time": "2024-01-14T02:37:01.769820900Z"
    }
   },
   "id": "80b0dee0ec859d48",
   "execution_count": 176
  },
  {
   "cell_type": "code",
   "outputs": [
    {
     "data": {
      "text/plain": "            Close\nDate             \n2004-09-03  49.82\n2004-09-01  49.94\n2004-08-19  49.98",
      "text/html": "<div>\n<style scoped>\n    .dataframe tbody tr th:only-of-type {\n        vertical-align: middle;\n    }\n\n    .dataframe tbody tr th {\n        vertical-align: top;\n    }\n\n    .dataframe thead th {\n        text-align: right;\n    }\n</style>\n<table border=\"1\" class=\"dataframe\">\n  <thead>\n    <tr style=\"text-align: right;\">\n      <th></th>\n      <th>Close</th>\n    </tr>\n    <tr>\n      <th>Date</th>\n      <th></th>\n    </tr>\n  </thead>\n  <tbody>\n    <tr>\n      <th>2004-09-03</th>\n      <td>49.82</td>\n    </tr>\n    <tr>\n      <th>2004-09-01</th>\n      <td>49.94</td>\n    </tr>\n    <tr>\n      <th>2004-08-19</th>\n      <td>49.98</td>\n    </tr>\n  </tbody>\n</table>\n</div>"
     },
     "execution_count": 177,
     "metadata": {},
     "output_type": "execute_result"
    }
   ],
   "source": [
    "google.nsmallest(columns='Close', n = 3)"
   ],
   "metadata": {
    "collapsed": false,
    "ExecuteTime": {
     "end_time": "2024-01-14T02:37:20.132343700Z",
     "start_time": "2024-01-14T02:37:20.069240800Z"
    }
   },
   "id": "3ee4fcbbb4015595",
   "execution_count": 177
  },
  {
   "cell_type": "code",
   "outputs": [
    {
     "data": {
      "text/plain": "                                   Start Date          State\nBattle                                                      \nPowder Alarm                         9/1/1774  Massachusetts\nStorming of Fort William and Mary  12/14/1774  New Hampshire\nBattles of Lexington and Concord    4/19/1775  Massachusetts",
      "text/html": "<div>\n<style scoped>\n    .dataframe tbody tr th:only-of-type {\n        vertical-align: middle;\n    }\n\n    .dataframe tbody tr th {\n        vertical-align: top;\n    }\n\n    .dataframe thead th {\n        text-align: right;\n    }\n</style>\n<table border=\"1\" class=\"dataframe\">\n  <thead>\n    <tr style=\"text-align: right;\">\n      <th></th>\n      <th>Start Date</th>\n      <th>State</th>\n    </tr>\n    <tr>\n      <th>Battle</th>\n      <th></th>\n      <th></th>\n    </tr>\n  </thead>\n  <tbody>\n    <tr>\n      <th>Powder Alarm</th>\n      <td>9/1/1774</td>\n      <td>Massachusetts</td>\n    </tr>\n    <tr>\n      <th>Storming of Fort William and Mary</th>\n      <td>12/14/1774</td>\n      <td>New Hampshire</td>\n    </tr>\n    <tr>\n      <th>Battles of Lexington and Concord</th>\n      <td>4/19/1775</td>\n      <td>Massachusetts</td>\n    </tr>\n  </tbody>\n</table>\n</div>"
     },
     "execution_count": 178,
     "metadata": {},
     "output_type": "execute_result"
    }
   ],
   "source": [
    "battles.head(3)"
   ],
   "metadata": {
    "collapsed": false,
    "ExecuteTime": {
     "end_time": "2024-01-14T02:38:04.666065600Z",
     "start_time": "2024-01-14T02:38:04.586454400Z"
    }
   },
   "id": "5d322841cff226be",
   "execution_count": 178
  },
  {
   "cell_type": "code",
   "outputs": [
    {
     "data": {
      "text/plain": "                             Start Date State\nBattle                                       \nAction of 1 May 1781           5/1/1781   NaN\nAction of 11 November 1779   11/11/1779   NaN\nAction of 14 September 1779   9/14/1779   NaN",
      "text/html": "<div>\n<style scoped>\n    .dataframe tbody tr th:only-of-type {\n        vertical-align: middle;\n    }\n\n    .dataframe tbody tr th {\n        vertical-align: top;\n    }\n\n    .dataframe thead th {\n        text-align: right;\n    }\n</style>\n<table border=\"1\" class=\"dataframe\">\n  <thead>\n    <tr style=\"text-align: right;\">\n      <th></th>\n      <th>Start Date</th>\n      <th>State</th>\n    </tr>\n    <tr>\n      <th>Battle</th>\n      <th></th>\n      <th></th>\n    </tr>\n  </thead>\n  <tbody>\n    <tr>\n      <th>Action of 1 May 1781</th>\n      <td>5/1/1781</td>\n      <td>NaN</td>\n    </tr>\n    <tr>\n      <th>Action of 11 November 1779</th>\n      <td>11/11/1779</td>\n      <td>NaN</td>\n    </tr>\n    <tr>\n      <th>Action of 14 September 1779</th>\n      <td>9/14/1779</td>\n      <td>NaN</td>\n    </tr>\n  </tbody>\n</table>\n</div>"
     },
     "execution_count": 181,
     "metadata": {},
     "output_type": "execute_result"
    }
   ],
   "source": [
    "battles.sort_index().head(3)"
   ],
   "metadata": {
    "collapsed": false,
    "ExecuteTime": {
     "end_time": "2024-01-14T02:39:10.553043800Z",
     "start_time": "2024-01-14T02:39:10.478912100Z"
    }
   },
   "id": "971a6ca1ba641a4c",
   "execution_count": 181
  },
  {
   "cell_type": "code",
   "outputs": [
    {
     "data": {
      "text/plain": "                                   Start Date          State\nBattle                                                      \nPowder Alarm                         9/1/1774  Massachusetts\nStorming of Fort William and Mary  12/14/1774  New Hampshire\nBattles of Lexington and Concord    4/19/1775  Massachusetts",
      "text/html": "<div>\n<style scoped>\n    .dataframe tbody tr th:only-of-type {\n        vertical-align: middle;\n    }\n\n    .dataframe tbody tr th {\n        vertical-align: top;\n    }\n\n    .dataframe thead th {\n        text-align: right;\n    }\n</style>\n<table border=\"1\" class=\"dataframe\">\n  <thead>\n    <tr style=\"text-align: right;\">\n      <th></th>\n      <th>Start Date</th>\n      <th>State</th>\n    </tr>\n    <tr>\n      <th>Battle</th>\n      <th></th>\n      <th></th>\n    </tr>\n  </thead>\n  <tbody>\n    <tr>\n      <th>Powder Alarm</th>\n      <td>9/1/1774</td>\n      <td>Massachusetts</td>\n    </tr>\n    <tr>\n      <th>Storming of Fort William and Mary</th>\n      <td>12/14/1774</td>\n      <td>New Hampshire</td>\n    </tr>\n    <tr>\n      <th>Battles of Lexington and Concord</th>\n      <td>4/19/1775</td>\n      <td>Massachusetts</td>\n    </tr>\n  </tbody>\n</table>\n</div>"
     },
     "execution_count": 183,
     "metadata": {},
     "output_type": "execute_result"
    }
   ],
   "source": [
    "battles.head(3)"
   ],
   "metadata": {
    "collapsed": false,
    "ExecuteTime": {
     "end_time": "2024-01-14T02:39:53.563568Z",
     "start_time": "2024-01-14T02:39:53.496772300Z"
    }
   },
   "id": "49f9025df55a0316",
   "execution_count": 183
  },
  {
   "cell_type": "code",
   "outputs": [
    {
     "data": {
      "text/plain": "                        Start Date     State\nBattle                                      \nBurning of Norfolk        1/1/1776  Virginia\nSiege of Brimstone Hill  1/11/1782       NaN\nCapture of Trincomalee   1/11/1782       NaN",
      "text/html": "<div>\n<style scoped>\n    .dataframe tbody tr th:only-of-type {\n        vertical-align: middle;\n    }\n\n    .dataframe tbody tr th {\n        vertical-align: top;\n    }\n\n    .dataframe thead th {\n        text-align: right;\n    }\n</style>\n<table border=\"1\" class=\"dataframe\">\n  <thead>\n    <tr style=\"text-align: right;\">\n      <th></th>\n      <th>Start Date</th>\n      <th>State</th>\n    </tr>\n    <tr>\n      <th>Battle</th>\n      <th></th>\n      <th></th>\n    </tr>\n  </thead>\n  <tbody>\n    <tr>\n      <th>Burning of Norfolk</th>\n      <td>1/1/1776</td>\n      <td>Virginia</td>\n    </tr>\n    <tr>\n      <th>Siege of Brimstone Hill</th>\n      <td>1/11/1782</td>\n      <td>NaN</td>\n    </tr>\n    <tr>\n      <th>Capture of Trincomalee</th>\n      <td>1/11/1782</td>\n      <td>NaN</td>\n    </tr>\n  </tbody>\n</table>\n</div>"
     },
     "execution_count": 184,
     "metadata": {},
     "output_type": "execute_result"
    }
   ],
   "source": [
    "battles.sort_values(by='Start Date',inplace=True)\n",
    "battles.head(3)"
   ],
   "metadata": {
    "collapsed": false,
    "ExecuteTime": {
     "end_time": "2024-01-14T02:39:54.715524600Z",
     "start_time": "2024-01-14T02:39:54.667024800Z"
    }
   },
   "id": "e752577a0217fb29",
   "execution_count": 184
  },
  {
   "cell_type": "code",
   "outputs": [
    {
     "data": {
      "text/plain": "                      Type\nPokemon                   \nBulbasaur   Grass / Poison\nIvysaur     Grass / Poison\nVenusaur    Grass / Poison\nCharmander            Fire\nCharmeleon            Fire",
      "text/html": "<div>\n<style scoped>\n    .dataframe tbody tr th:only-of-type {\n        vertical-align: middle;\n    }\n\n    .dataframe tbody tr th {\n        vertical-align: top;\n    }\n\n    .dataframe thead th {\n        text-align: right;\n    }\n</style>\n<table border=\"1\" class=\"dataframe\">\n  <thead>\n    <tr style=\"text-align: right;\">\n      <th></th>\n      <th>Type</th>\n    </tr>\n    <tr>\n      <th>Pokemon</th>\n      <th></th>\n    </tr>\n  </thead>\n  <tbody>\n    <tr>\n      <th>Bulbasaur</th>\n      <td>Grass / Poison</td>\n    </tr>\n    <tr>\n      <th>Ivysaur</th>\n      <td>Grass / Poison</td>\n    </tr>\n    <tr>\n      <th>Venusaur</th>\n      <td>Grass / Poison</td>\n    </tr>\n    <tr>\n      <th>Charmander</th>\n      <td>Fire</td>\n    </tr>\n    <tr>\n      <th>Charmeleon</th>\n      <td>Fire</td>\n    </tr>\n  </tbody>\n</table>\n</div>"
     },
     "execution_count": 185,
     "metadata": {},
     "output_type": "execute_result"
    }
   ],
   "source": [
    "pokemon.head()"
   ],
   "metadata": {
    "collapsed": false,
    "ExecuteTime": {
     "end_time": "2024-01-14T02:40:13.359183Z",
     "start_time": "2024-01-14T02:40:13.264665500Z"
    }
   },
   "id": "b2323447dd1a3277",
   "execution_count": 185
  },
  {
   "cell_type": "code",
   "outputs": [
    {
     "data": {
      "text/plain": "159"
     },
     "execution_count": 186,
     "metadata": {},
     "output_type": "execute_result"
    }
   ],
   "source": [
    "len(pokemon.value_counts())"
   ],
   "metadata": {
    "collapsed": false,
    "ExecuteTime": {
     "end_time": "2024-01-14T02:40:31.511758900Z",
     "start_time": "2024-01-14T02:40:31.452692200Z"
    }
   },
   "id": "4ca215ab8c0488b7",
   "execution_count": 186
  },
  {
   "cell_type": "code",
   "outputs": [
    {
     "data": {
      "text/plain": "Type    159\ndtype: int64"
     },
     "execution_count": 187,
     "metadata": {},
     "output_type": "execute_result"
    }
   ],
   "source": [
    "pokemon.nunique()"
   ],
   "metadata": {
    "collapsed": false,
    "ExecuteTime": {
     "end_time": "2024-01-14T02:40:37.714852900Z",
     "start_time": "2024-01-14T02:40:37.630193800Z"
    }
   },
   "id": "656aaa919a6a40a4",
   "execution_count": 187
  },
  {
   "cell_type": "code",
   "outputs": [
    {
     "data": {
      "text/plain": "Type           \nNormal             65\nWater              61\nGrass              38\nPsychic            35\nFire               30\n                   ..\nFire / Rock         1\nRock / Fighting     1\nNormal / Dragon     1\nFire / Ghost        1\nWater / Steel       1\nName: count, Length: 159, dtype: int64"
     },
     "execution_count": 188,
     "metadata": {},
     "output_type": "execute_result"
    }
   ],
   "source": [
    "pokemon.value_counts(ascending= False)"
   ],
   "metadata": {
    "collapsed": false,
    "ExecuteTime": {
     "end_time": "2024-01-14T02:40:51.786971600Z",
     "start_time": "2024-01-14T02:40:51.704541600Z"
    }
   },
   "id": "145546d5caf8dc95",
   "execution_count": 188
  },
  {
   "cell_type": "code",
   "outputs": [
    {
     "data": {
      "text/plain": "Type   \nNormal     8.034611\nWater      7.540173\nGrass      4.697157\nPsychic    4.326329\nFire       3.708282\nName: proportion, dtype: float64"
     },
     "execution_count": 190,
     "metadata": {},
     "output_type": "execute_result"
    }
   ],
   "source": [
    "pokemon.value_counts(normalize=True).head() * 100"
   ],
   "metadata": {
    "collapsed": false,
    "ExecuteTime": {
     "end_time": "2024-01-14T02:41:24.836633500Z",
     "start_time": "2024-01-14T02:41:24.776504600Z"
    }
   },
   "id": "e2583dc199c2ea49",
   "execution_count": 190
  },
  {
   "cell_type": "code",
   "outputs": [
    {
     "data": {
      "text/plain": "Type   \nNormal     8.03\nWater      7.54\nGrass      4.70\nPsychic    4.33\nFire       3.71\nName: proportion, dtype: float64"
     },
     "execution_count": 191,
     "metadata": {},
     "output_type": "execute_result"
    }
   ],
   "source": [
    "pokemon.value_counts(normalize=True).head().round(4) * 100"
   ],
   "metadata": {
    "collapsed": false,
    "ExecuteTime": {
     "end_time": "2024-01-14T02:41:54.879169500Z",
     "start_time": "2024-01-14T02:41:54.801797100Z"
    }
   },
   "id": "ad0ad2b720586e8e",
   "execution_count": 191
  },
  {
   "cell_type": "code",
   "outputs": [
    {
     "data": {
      "text/plain": "Close \n290.41    3\n237.04    3\n287.68    3\n307.10    3\n194.27    3\nName: count, dtype: int64"
     },
     "execution_count": 192,
     "metadata": {},
     "output_type": "execute_result"
    }
   ],
   "source": [
    "google.value_counts().head()"
   ],
   "metadata": {
    "collapsed": false,
    "ExecuteTime": {
     "end_time": "2024-01-14T02:42:12.101141800Z",
     "start_time": "2024-01-14T02:42:12.021960100Z"
    }
   },
   "id": "2f184e910238d81",
   "execution_count": 192
  },
  {
   "cell_type": "code",
   "outputs": [
    {
     "data": {
      "text/plain": "Close    1287.58\ndtype: float64"
     },
     "execution_count": 193,
     "metadata": {},
     "output_type": "execute_result"
    }
   ],
   "source": [
    "google.max()"
   ],
   "metadata": {
    "collapsed": false,
    "ExecuteTime": {
     "end_time": "2024-01-14T02:42:19.726373100Z",
     "start_time": "2024-01-14T02:42:19.664569400Z"
    }
   },
   "id": "a8da171b8643d466",
   "execution_count": 193
  },
  {
   "cell_type": "code",
   "outputs": [
    {
     "data": {
      "text/plain": "Close    49.82\ndtype: float64"
     },
     "execution_count": 194,
     "metadata": {},
     "output_type": "execute_result"
    }
   ],
   "source": [
    "google.min()"
   ],
   "metadata": {
    "collapsed": false,
    "ExecuteTime": {
     "end_time": "2024-01-14T02:42:23.280944900Z",
     "start_time": "2024-01-14T02:42:23.224697300Z"
    }
   },
   "id": "aaf78d102cdf8374",
   "execution_count": 194
  },
  {
   "cell_type": "code",
   "outputs": [
    {
     "data": {
      "text/plain": "Start Date  State         \n8/18/1780   South Carolina    2\n8/22/1777   New York          2\n4/19/1775   Massachusetts     2\n1/1/1776    Virginia          1\n7/24/1779   Massachusetts     1\nName: count, dtype: int64"
     },
     "execution_count": 202,
     "metadata": {},
     "output_type": "execute_result"
    }
   ],
   "source": [
    "battles.value_counts().head()"
   ],
   "metadata": {
    "collapsed": false,
    "ExecuteTime": {
     "end_time": "2024-01-14T02:47:59.330640400Z",
     "start_time": "2024-01-14T02:47:59.256308200Z"
    }
   },
   "id": "db72a9a633987e54",
   "execution_count": 202
  },
  {
   "cell_type": "code",
   "outputs": [
    {
     "data": {
      "text/plain": "Start Date  State         \nNaN         NaN               2\n8/22/1777   New York          2\n4/19/1775   Massachusetts     2\n3/16/1782   NaN               2\n8/18/1780   South Carolina    2\nName: count, dtype: int64"
     },
     "execution_count": 203,
     "metadata": {},
     "output_type": "execute_result"
    }
   ],
   "source": [
    "battles.value_counts(dropna = False).head()"
   ],
   "metadata": {
    "collapsed": false,
    "ExecuteTime": {
     "end_time": "2024-01-14T02:48:18.405740200Z",
     "start_time": "2024-01-14T02:48:18.296184900Z"
    }
   },
   "id": "d684423b9df55c0f",
   "execution_count": 203
  },
  {
   "cell_type": "code",
   "outputs": [
    {
     "data": {
      "text/plain": "Index(['Burning of Norfolk', 'Siege of Brimstone Hill',\n       'Capture of Trincomalee', 'Battle of Cape St. Vincent',\n       'Battle of Cowpens', 'Second Battle of Trenton',\n       'Battle of Videau's Bridge', 'Battle of Millstone',\n       'Capture of Demerara and Essequibo', 'Action of 22 January 1783',\n       ...\n       'Battle of the Chesapeake', 'Battle of Groton Heights',\n       'Siege of Boonesborough', 'Invasion of Dominica',\n       'Capture of Fort Bute', 'Battle of Eutaw Springs', 'Forage War',\n       'First Siege of Fort Henry', 'San Juan Expedition',\n       'Battle of the Black River'],\n      dtype='object', name='Battle', length=232)"
     },
     "execution_count": 204,
     "metadata": {},
     "output_type": "execute_result"
    }
   ],
   "source": [
    "battles.index"
   ],
   "metadata": {
    "collapsed": false,
    "ExecuteTime": {
     "end_time": "2024-01-14T02:48:29.438074300Z",
     "start_time": "2024-01-14T02:48:29.339324700Z"
    }
   },
   "id": "965d1c8630bbf748",
   "execution_count": 204
  },
  {
   "cell_type": "code",
   "outputs": [
    {
     "name": "stdout",
     "output_type": "stream",
     "text": [
      "3824\n",
      "Close\n",
      "Close\n"
     ]
    }
   ],
   "source": [
    "funcs = [len , max, min]\n",
    "\n",
    "\n",
    "for func in funcs:\n",
    "    print(func(google))"
   ],
   "metadata": {
    "collapsed": false,
    "ExecuteTime": {
     "end_time": "2024-01-14T02:49:19.061446500Z",
     "start_time": "2024-01-14T02:49:18.990381Z"
    }
   },
   "id": "43be931ab17b1ab3",
   "execution_count": 205
  },
  {
   "cell_type": "code",
   "outputs": [
    {
     "data": {
      "text/plain": "             Close\nDate              \n2004-08-19    50.0\n2004-08-20    54.0\n2004-08-23    54.0\n2004-08-24    52.0\n2004-08-25    53.0\n...            ...\n2019-10-21  1246.0\n2019-10-22  1243.0\n2019-10-23  1259.0\n2019-10-24  1261.0\n2019-10-25  1265.0\n\n[3824 rows x 1 columns]",
      "text/html": "<div>\n<style scoped>\n    .dataframe tbody tr th:only-of-type {\n        vertical-align: middle;\n    }\n\n    .dataframe tbody tr th {\n        vertical-align: top;\n    }\n\n    .dataframe thead th {\n        text-align: right;\n    }\n</style>\n<table border=\"1\" class=\"dataframe\">\n  <thead>\n    <tr style=\"text-align: right;\">\n      <th></th>\n      <th>Close</th>\n    </tr>\n    <tr>\n      <th>Date</th>\n      <th></th>\n    </tr>\n  </thead>\n  <tbody>\n    <tr>\n      <th>2004-08-19</th>\n      <td>50.0</td>\n    </tr>\n    <tr>\n      <th>2004-08-20</th>\n      <td>54.0</td>\n    </tr>\n    <tr>\n      <th>2004-08-23</th>\n      <td>54.0</td>\n    </tr>\n    <tr>\n      <th>2004-08-24</th>\n      <td>52.0</td>\n    </tr>\n    <tr>\n      <th>2004-08-25</th>\n      <td>53.0</td>\n    </tr>\n    <tr>\n      <th>...</th>\n      <td>...</td>\n    </tr>\n    <tr>\n      <th>2019-10-21</th>\n      <td>1246.0</td>\n    </tr>\n    <tr>\n      <th>2019-10-22</th>\n      <td>1243.0</td>\n    </tr>\n    <tr>\n      <th>2019-10-23</th>\n      <td>1259.0</td>\n    </tr>\n    <tr>\n      <th>2019-10-24</th>\n      <td>1261.0</td>\n    </tr>\n    <tr>\n      <th>2019-10-25</th>\n      <td>1265.0</td>\n    </tr>\n  </tbody>\n</table>\n<p>3824 rows × 1 columns</p>\n</div>"
     },
     "execution_count": 206,
     "metadata": {},
     "output_type": "execute_result"
    }
   ],
   "source": [
    "google.apply(func = round)"
   ],
   "metadata": {
    "collapsed": false,
    "ExecuteTime": {
     "end_time": "2024-01-14T02:50:03.693740500Z",
     "start_time": "2024-01-14T02:50:03.643616600Z"
    }
   },
   "id": "f499bb17dacfef88",
   "execution_count": 206
  },
  {
   "cell_type": "code",
   "outputs": [],
   "source": [
    "singMulti = lambda x : \"Multi\" if str(x).find('/') > 0 else \"Single\"\n"
   ],
   "metadata": {
    "collapsed": false,
    "ExecuteTime": {
     "end_time": "2024-01-14T03:03:13.173658800Z",
     "start_time": "2024-01-14T03:03:13.126232400Z"
    }
   },
   "id": "b2547d8dfa807283",
   "execution_count": 234
  },
  {
   "cell_type": "code",
   "outputs": [
    {
     "data": {
      "text/plain": "'Multi'"
     },
     "execution_count": 235,
     "metadata": {},
     "output_type": "execute_result"
    }
   ],
   "source": [
    "\n",
    "poketype = pokemon.apply(singMulti, axis='columns')\n",
    "\n",
    "poketype.loc['Ivysaur']"
   ],
   "metadata": {
    "collapsed": false,
    "ExecuteTime": {
     "end_time": "2024-01-14T03:03:14.976348500Z",
     "start_time": "2024-01-14T03:03:14.910505300Z"
    }
   },
   "id": "a3598bc43124ed58",
   "execution_count": 235
  },
  {
   "cell_type": "code",
   "outputs": [
    {
     "data": {
      "text/plain": "Multi     405\nSingle    404\nName: count, dtype: int64"
     },
     "execution_count": 236,
     "metadata": {},
     "output_type": "execute_result"
    }
   ],
   "source": [
    "poketype.value_counts()"
   ],
   "metadata": {
    "collapsed": false,
    "ExecuteTime": {
     "end_time": "2024-01-14T03:03:54.945375900Z",
     "start_time": "2024-01-14T03:03:54.885276Z"
    }
   },
   "id": "49e942d95744f21e",
   "execution_count": 236
  },
  {
   "cell_type": "code",
   "outputs": [],
   "source": [
    "wars = pd.read_csv(\n",
    "    '../DATA/revolutionary_war.csv',\n",
    "    index_col='Battle',\n",
    "    parse_dates=['Start Date'],\n",
    "    usecols=['Battle', 'Start Date']\n",
    ")\n"
   ],
   "metadata": {
    "collapsed": false,
    "ExecuteTime": {
     "end_time": "2024-01-14T03:16:19.652821600Z",
     "start_time": "2024-01-14T03:16:19.573325600Z"
    }
   },
   "id": "feeb05a70b96e3df",
   "execution_count": 257
  },
  {
   "cell_type": "code",
   "outputs": [
    {
     "data": {
      "text/plain": "datetime.datetime"
     },
     "execution_count": 276,
     "metadata": {},
     "output_type": "execute_result"
    }
   ],
   "source": [
    "import datetime as dt\n",
    "test = wars['Start Date'].iloc[0]\n",
    "type(test.to_pydatetime() )\n"
   ],
   "metadata": {
    "collapsed": false,
    "ExecuteTime": {
     "end_time": "2024-01-14T03:24:35.942980300Z",
     "start_time": "2024-01-14T03:24:35.892001500Z"
    }
   },
   "id": "2cc2da081d738cac",
   "execution_count": 276
  },
  {
   "cell_type": "code",
   "outputs": [],
   "source": [
    "wars_to_days = wars.apply(lambda x : x.iloc[0].to_pydatetime().strftime(\"%A\") if type(x.iloc[0]) == pd._libs.tslibs.timestamps.Timestamp else np.nan, axis='columns')"
   ],
   "metadata": {
    "collapsed": false,
    "ExecuteTime": {
     "end_time": "2024-01-14T03:26:11.557916400Z",
     "start_time": "2024-01-14T03:26:11.510176500Z"
    }
   },
   "id": "de8384350096e252",
   "execution_count": 280
  },
  {
   "cell_type": "code",
   "outputs": [
    {
     "data": {
      "text/plain": "Saturday     39\nFriday       39\nWednesday    32\nThursday     31\nSunday       31\nTuesday      29\nMonday       27\nName: count, dtype: int64"
     },
     "execution_count": 286,
     "metadata": {},
     "output_type": "execute_result"
    }
   ],
   "source": [
    "result = wars_to_days.value_counts()\n",
    "result"
   ],
   "metadata": {
    "collapsed": false,
    "ExecuteTime": {
     "end_time": "2024-01-14T03:28:39.823062800Z",
     "start_time": "2024-01-14T03:28:39.774006800Z"
    }
   },
   "id": "87ea672f0300cced",
   "execution_count": 286
  },
  {
   "cell_type": "code",
   "outputs": [
    {
     "data": {
      "text/plain": "Saturday     39\nFriday       39\nWednesday    32\nThursday     31\nSunday       31\nTuesday      29\nMonday       27\nName: count, dtype: int64"
     },
     "execution_count": 288,
     "metadata": {},
     "output_type": "execute_result"
    }
   ],
   "source": [
    "wars.dropna().apply(lambda x : x.iloc[0].to_pydatetime().strftime(\"%A\"), axis='columns').value_counts()"
   ],
   "metadata": {
    "collapsed": false,
    "ExecuteTime": {
     "end_time": "2024-01-14T03:30:51.121547400Z",
     "start_time": "2024-01-14T03:30:51.068540700Z"
    }
   },
   "id": "e5f944bae7f6ce8f",
   "execution_count": 288
  },
  {
   "cell_type": "markdown",
   "source": [
    "## DataFrame"
   ],
   "metadata": {
    "collapsed": false
   },
   "id": "ff64bfd2aff70609"
  },
  {
   "cell_type": "code",
   "outputs": [
    {
     "data": {
      "text/plain": "            City        Country  Population\n0  New York City  United States     8600000\n1          Paris         France     2141000\n2      Barcelona          Spain     5515000\n3           Rome          Italy     2873000",
      "text/html": "<div>\n<style scoped>\n    .dataframe tbody tr th:only-of-type {\n        vertical-align: middle;\n    }\n\n    .dataframe tbody tr th {\n        vertical-align: top;\n    }\n\n    .dataframe thead th {\n        text-align: right;\n    }\n</style>\n<table border=\"1\" class=\"dataframe\">\n  <thead>\n    <tr style=\"text-align: right;\">\n      <th></th>\n      <th>City</th>\n      <th>Country</th>\n      <th>Population</th>\n    </tr>\n  </thead>\n  <tbody>\n    <tr>\n      <th>0</th>\n      <td>New York City</td>\n      <td>United States</td>\n      <td>8600000</td>\n    </tr>\n    <tr>\n      <th>1</th>\n      <td>Paris</td>\n      <td>France</td>\n      <td>2141000</td>\n    </tr>\n    <tr>\n      <th>2</th>\n      <td>Barcelona</td>\n      <td>Spain</td>\n      <td>5515000</td>\n    </tr>\n    <tr>\n      <th>3</th>\n      <td>Rome</td>\n      <td>Italy</td>\n      <td>2873000</td>\n    </tr>\n  </tbody>\n</table>\n</div>"
     },
     "execution_count": 289,
     "metadata": {},
     "output_type": "execute_result"
    }
   ],
   "source": [
    "city_data = {\n",
    "    \"City\": [\"New York City\", \"Paris\", \"Barcelona\", \"Rome\"],\n",
    "    \"Country\": [\"United States\", \"France\", \"Spain\", \"Italy\"],\n",
    "    \"Population\": pd.Series([8600000, 2141000, 5515000, 2873000])\n",
    "}\n",
    "\n",
    "cities = pd.DataFrame(city_data)\n",
    "cities"
   ],
   "metadata": {
    "collapsed": false,
    "ExecuteTime": {
     "end_time": "2024-01-14T03:33:06.024947100Z",
     "start_time": "2024-01-14T03:33:05.919496500Z"
    }
   },
   "id": "c953fed964b43415",
   "execution_count": 289
  },
  {
   "cell_type": "code",
   "outputs": [
    {
     "data": {
      "text/plain": "                        0        1          2        3\nCity        New York City    Paris  Barcelona     Rome\nCountry     United States   France      Spain    Italy\nPopulation        8600000  2141000    5515000  2873000",
      "text/html": "<div>\n<style scoped>\n    .dataframe tbody tr th:only-of-type {\n        vertical-align: middle;\n    }\n\n    .dataframe tbody tr th {\n        vertical-align: top;\n    }\n\n    .dataframe thead th {\n        text-align: right;\n    }\n</style>\n<table border=\"1\" class=\"dataframe\">\n  <thead>\n    <tr style=\"text-align: right;\">\n      <th></th>\n      <th>0</th>\n      <th>1</th>\n      <th>2</th>\n      <th>3</th>\n    </tr>\n  </thead>\n  <tbody>\n    <tr>\n      <th>City</th>\n      <td>New York City</td>\n      <td>Paris</td>\n      <td>Barcelona</td>\n      <td>Rome</td>\n    </tr>\n    <tr>\n      <th>Country</th>\n      <td>United States</td>\n      <td>France</td>\n      <td>Spain</td>\n      <td>Italy</td>\n    </tr>\n    <tr>\n      <th>Population</th>\n      <td>8600000</td>\n      <td>2141000</td>\n      <td>5515000</td>\n      <td>2873000</td>\n    </tr>\n  </tbody>\n</table>\n</div>"
     },
     "execution_count": 290,
     "metadata": {},
     "output_type": "execute_result"
    }
   ],
   "source": [
    "cities.T"
   ],
   "metadata": {
    "collapsed": false,
    "ExecuteTime": {
     "end_time": "2024-01-14T03:33:14.106801100Z",
     "start_time": "2024-01-14T03:33:14.046378700Z"
    }
   },
   "id": "8a6730d4542fb72",
   "execution_count": 290
  },
  {
   "cell_type": "code",
   "outputs": [
    {
     "data": {
      "text/plain": "                        0        1          2        3\nCity        New York City    Paris  Barcelona     Rome\nCountry     United States   France      Spain    Italy\nPopulation        8600000  2141000    5515000  2873000",
      "text/html": "<div>\n<style scoped>\n    .dataframe tbody tr th:only-of-type {\n        vertical-align: middle;\n    }\n\n    .dataframe tbody tr th {\n        vertical-align: top;\n    }\n\n    .dataframe thead th {\n        text-align: right;\n    }\n</style>\n<table border=\"1\" class=\"dataframe\">\n  <thead>\n    <tr style=\"text-align: right;\">\n      <th></th>\n      <th>0</th>\n      <th>1</th>\n      <th>2</th>\n      <th>3</th>\n    </tr>\n  </thead>\n  <tbody>\n    <tr>\n      <th>City</th>\n      <td>New York City</td>\n      <td>Paris</td>\n      <td>Barcelona</td>\n      <td>Rome</td>\n    </tr>\n    <tr>\n      <th>Country</th>\n      <td>United States</td>\n      <td>France</td>\n      <td>Spain</td>\n      <td>Italy</td>\n    </tr>\n    <tr>\n      <th>Population</th>\n      <td>8600000</td>\n      <td>2141000</td>\n      <td>5515000</td>\n      <td>2873000</td>\n    </tr>\n  </tbody>\n</table>\n</div>"
     },
     "execution_count": 291,
     "metadata": {},
     "output_type": "execute_result"
    }
   ],
   "source": [
    "cities.transpose()"
   ],
   "metadata": {
    "collapsed": false,
    "ExecuteTime": {
     "end_time": "2024-01-14T03:33:17.884507800Z",
     "start_time": "2024-01-14T03:33:17.830481600Z"
    }
   },
   "id": "fef22ecd3bbe34b9",
   "execution_count": 291
  },
  {
   "cell_type": "code",
   "outputs": [
    {
     "data": {
      "text/plain": "array([[71, 20, 49, 72, 35],\n       [29, 92, 61, 73, 43],\n       [66, 68, 50, 57,  9]])"
     },
     "execution_count": 294,
     "metadata": {},
     "output_type": "execute_result"
    }
   ],
   "source": [
    "random_data = np.random.randint(1, 101, (3, 5)\n",
    "                                )\n",
    "random_data"
   ],
   "metadata": {
    "collapsed": false,
    "ExecuteTime": {
     "end_time": "2024-01-14T03:34:00.984657100Z",
     "start_time": "2024-01-14T03:34:00.914390100Z"
    }
   },
   "id": "2829e0221e3ede42",
   "execution_count": 294
  },
  {
   "cell_type": "code",
   "outputs": [
    {
     "data": {
      "text/plain": "    0   1   2   3   4\n0  71  20  49  72  35\n1  29  92  61  73  43\n2  66  68  50  57   9",
      "text/html": "<div>\n<style scoped>\n    .dataframe tbody tr th:only-of-type {\n        vertical-align: middle;\n    }\n\n    .dataframe tbody tr th {\n        vertical-align: top;\n    }\n\n    .dataframe thead th {\n        text-align: right;\n    }\n</style>\n<table border=\"1\" class=\"dataframe\">\n  <thead>\n    <tr style=\"text-align: right;\">\n      <th></th>\n      <th>0</th>\n      <th>1</th>\n      <th>2</th>\n      <th>3</th>\n      <th>4</th>\n    </tr>\n  </thead>\n  <tbody>\n    <tr>\n      <th>0</th>\n      <td>71</td>\n      <td>20</td>\n      <td>49</td>\n      <td>72</td>\n      <td>35</td>\n    </tr>\n    <tr>\n      <th>1</th>\n      <td>29</td>\n      <td>92</td>\n      <td>61</td>\n      <td>73</td>\n      <td>43</td>\n    </tr>\n    <tr>\n      <th>2</th>\n      <td>66</td>\n      <td>68</td>\n      <td>50</td>\n      <td>57</td>\n      <td>9</td>\n    </tr>\n  </tbody>\n</table>\n</div>"
     },
     "execution_count": 295,
     "metadata": {},
     "output_type": "execute_result"
    }
   ],
   "source": [
    "pd.DataFrame(data=random_data)"
   ],
   "metadata": {
    "collapsed": false,
    "ExecuteTime": {
     "end_time": "2024-01-14T03:34:01.271464300Z",
     "start_time": "2024-01-14T03:34:01.214580100Z"
    }
   },
   "id": "5dd238bbb9997f07",
   "execution_count": 295
  },
  {
   "cell_type": "code",
   "outputs": [
    {
     "data": {
      "text/plain": "     0   1   2   3   4\n아침  71  20  49  72  35\n점심  29  92  61  73  43\n저녁  66  68  50  57   9",
      "text/html": "<div>\n<style scoped>\n    .dataframe tbody tr th:only-of-type {\n        vertical-align: middle;\n    }\n\n    .dataframe tbody tr th {\n        vertical-align: top;\n    }\n\n    .dataframe thead th {\n        text-align: right;\n    }\n</style>\n<table border=\"1\" class=\"dataframe\">\n  <thead>\n    <tr style=\"text-align: right;\">\n      <th></th>\n      <th>0</th>\n      <th>1</th>\n      <th>2</th>\n      <th>3</th>\n      <th>4</th>\n    </tr>\n  </thead>\n  <tbody>\n    <tr>\n      <th>아침</th>\n      <td>71</td>\n      <td>20</td>\n      <td>49</td>\n      <td>72</td>\n      <td>35</td>\n    </tr>\n    <tr>\n      <th>점심</th>\n      <td>29</td>\n      <td>92</td>\n      <td>61</td>\n      <td>73</td>\n      <td>43</td>\n    </tr>\n    <tr>\n      <th>저녁</th>\n      <td>66</td>\n      <td>68</td>\n      <td>50</td>\n      <td>57</td>\n      <td>9</td>\n    </tr>\n  </tbody>\n</table>\n</div>"
     },
     "execution_count": 296,
     "metadata": {},
     "output_type": "execute_result"
    }
   ],
   "source": [
    "row_labels = ('아침', '점심', '저녁')\n",
    "temp_온도데이터_DF = pd.DataFrame(data=random_data, index=row_labels)\n",
    "temp_온도데이터_DF"
   ],
   "metadata": {
    "collapsed": false,
    "ExecuteTime": {
     "end_time": "2024-01-14T03:35:01.187124300Z",
     "start_time": "2024-01-14T03:35:01.112156800Z"
    }
   },
   "id": "b5eedc39aabb79ca",
   "execution_count": 296
  },
  {
   "cell_type": "code",
   "outputs": [],
   "source": [
    "row_labels = [\"Morning\", \"Afternoon\", \"Evening\"]\n",
    "column_labels = (\n",
    "    \"Monday\",\n",
    "    \"Tuesday\",\n",
    "    \"Wednesday\",\n",
    "    \"Thursday\",\n",
    "    \"Friday\"\n",
    ")"
   ],
   "metadata": {
    "collapsed": false,
    "ExecuteTime": {
     "end_time": "2024-01-14T03:35:11.635556100Z",
     "start_time": "2024-01-14T03:35:11.572372900Z"
    }
   },
   "id": "2fc4d99fdbd59fa1",
   "execution_count": 297
  },
  {
   "cell_type": "code",
   "outputs": [
    {
     "data": {
      "text/plain": "           Monday  Tuesday  Wednesday  Thursday  Friday\nMorning        71       20         49        72      35\nAfternoon      29       92         61        73      43\nEvening        66       68         50        57       9",
      "text/html": "<div>\n<style scoped>\n    .dataframe tbody tr th:only-of-type {\n        vertical-align: middle;\n    }\n\n    .dataframe tbody tr th {\n        vertical-align: top;\n    }\n\n    .dataframe thead th {\n        text-align: right;\n    }\n</style>\n<table border=\"1\" class=\"dataframe\">\n  <thead>\n    <tr style=\"text-align: right;\">\n      <th></th>\n      <th>Monday</th>\n      <th>Tuesday</th>\n      <th>Wednesday</th>\n      <th>Thursday</th>\n      <th>Friday</th>\n    </tr>\n  </thead>\n  <tbody>\n    <tr>\n      <th>Morning</th>\n      <td>71</td>\n      <td>20</td>\n      <td>49</td>\n      <td>72</td>\n      <td>35</td>\n    </tr>\n    <tr>\n      <th>Afternoon</th>\n      <td>29</td>\n      <td>92</td>\n      <td>61</td>\n      <td>73</td>\n      <td>43</td>\n    </tr>\n    <tr>\n      <th>Evening</th>\n      <td>66</td>\n      <td>68</td>\n      <td>50</td>\n      <td>57</td>\n      <td>9</td>\n    </tr>\n  </tbody>\n</table>\n</div>"
     },
     "execution_count": 299,
     "metadata": {},
     "output_type": "execute_result"
    }
   ],
   "source": [
    "pd.DataFrame(\n",
    "    data = random_data,\n",
    "    index = row_labels,\n",
    "    columns = column_labels,\n",
    ")"
   ],
   "metadata": {
    "collapsed": false,
    "ExecuteTime": {
     "end_time": "2024-01-14T03:35:30.963140300Z",
     "start_time": "2024-01-14T03:35:30.877429700Z"
    }
   },
   "id": "56bdf5389b8df801",
   "execution_count": 299
  },
  {
   "cell_type": "code",
   "outputs": [
    {
     "data": {
      "text/plain": "               Name                 Team Position  Birthday    Salary\n0      Shake Milton   Philadelphia 76ers       SG   9/26/96   1445697\n1    Christian Wood      Detroit Pistons       PF   9/27/95   1645357\n2     PJ Washington    Charlotte Hornets       PF   8/23/98   3831840\n3      Derrick Rose      Detroit Pistons       PG   10/4/88   7317074\n4     Marial Shayok   Philadelphia 76ers        G   7/26/95     79568\n..              ...                  ...      ...       ...       ...\n445   Austin Rivers      Houston Rockets       PG    8/1/92   2174310\n446     Harry Giles     Sacramento Kings       PF   4/22/98   2578800\n447     Robin Lopez      Milwaukee Bucks        C    4/1/88   4767000\n448   Collin Sexton  Cleveland Cavaliers       PG    1/4/99   4764960\n449     Ricky Rubio         Phoenix Suns       PG  10/21/90  16200000\n\n[450 rows x 5 columns]",
      "text/html": "<div>\n<style scoped>\n    .dataframe tbody tr th:only-of-type {\n        vertical-align: middle;\n    }\n\n    .dataframe tbody tr th {\n        vertical-align: top;\n    }\n\n    .dataframe thead th {\n        text-align: right;\n    }\n</style>\n<table border=\"1\" class=\"dataframe\">\n  <thead>\n    <tr style=\"text-align: right;\">\n      <th></th>\n      <th>Name</th>\n      <th>Team</th>\n      <th>Position</th>\n      <th>Birthday</th>\n      <th>Salary</th>\n    </tr>\n  </thead>\n  <tbody>\n    <tr>\n      <th>0</th>\n      <td>Shake Milton</td>\n      <td>Philadelphia 76ers</td>\n      <td>SG</td>\n      <td>9/26/96</td>\n      <td>1445697</td>\n    </tr>\n    <tr>\n      <th>1</th>\n      <td>Christian Wood</td>\n      <td>Detroit Pistons</td>\n      <td>PF</td>\n      <td>9/27/95</td>\n      <td>1645357</td>\n    </tr>\n    <tr>\n      <th>2</th>\n      <td>PJ Washington</td>\n      <td>Charlotte Hornets</td>\n      <td>PF</td>\n      <td>8/23/98</td>\n      <td>3831840</td>\n    </tr>\n    <tr>\n      <th>3</th>\n      <td>Derrick Rose</td>\n      <td>Detroit Pistons</td>\n      <td>PG</td>\n      <td>10/4/88</td>\n      <td>7317074</td>\n    </tr>\n    <tr>\n      <th>4</th>\n      <td>Marial Shayok</td>\n      <td>Philadelphia 76ers</td>\n      <td>G</td>\n      <td>7/26/95</td>\n      <td>79568</td>\n    </tr>\n    <tr>\n      <th>...</th>\n      <td>...</td>\n      <td>...</td>\n      <td>...</td>\n      <td>...</td>\n      <td>...</td>\n    </tr>\n    <tr>\n      <th>445</th>\n      <td>Austin Rivers</td>\n      <td>Houston Rockets</td>\n      <td>PG</td>\n      <td>8/1/92</td>\n      <td>2174310</td>\n    </tr>\n    <tr>\n      <th>446</th>\n      <td>Harry Giles</td>\n      <td>Sacramento Kings</td>\n      <td>PF</td>\n      <td>4/22/98</td>\n      <td>2578800</td>\n    </tr>\n    <tr>\n      <th>447</th>\n      <td>Robin Lopez</td>\n      <td>Milwaukee Bucks</td>\n      <td>C</td>\n      <td>4/1/88</td>\n      <td>4767000</td>\n    </tr>\n    <tr>\n      <th>448</th>\n      <td>Collin Sexton</td>\n      <td>Cleveland Cavaliers</td>\n      <td>PG</td>\n      <td>1/4/99</td>\n      <td>4764960</td>\n    </tr>\n    <tr>\n      <th>449</th>\n      <td>Ricky Rubio</td>\n      <td>Phoenix Suns</td>\n      <td>PG</td>\n      <td>10/21/90</td>\n      <td>16200000</td>\n    </tr>\n  </tbody>\n</table>\n<p>450 rows × 5 columns</p>\n</div>"
     },
     "execution_count": 300,
     "metadata": {},
     "output_type": "execute_result"
    }
   ],
   "source": [
    "pd.read_csv('../DATA/nba.csv')"
   ],
   "metadata": {
    "collapsed": false,
    "ExecuteTime": {
     "end_time": "2024-01-14T03:35:37.312449400Z",
     "start_time": "2024-01-14T03:35:37.241358400Z"
    }
   },
   "id": "4bbcd9e85bff2c7b",
   "execution_count": 300
  },
  {
   "cell_type": "code",
   "outputs": [
    {
     "name": "stderr",
     "output_type": "stream",
     "text": [
      "C:\\Users\\Administrator\\AppData\\Local\\Temp\\ipykernel_15312\\3284200645.py:1: UserWarning: Could not infer format, so each element will be parsed individually, falling back to `dateutil`. To ensure parsing is consistent and as-expected, please specify a format.\n",
      "  pd.read_csv(\"../DATA/nba.csv\",\n"
     ]
    },
    {
     "data": {
      "text/plain": "               Name                 Team Position   Birthday    Salary\n0      Shake Milton   Philadelphia 76ers       SG 1996-09-26   1445697\n1    Christian Wood      Detroit Pistons       PF 1995-09-27   1645357\n2     PJ Washington    Charlotte Hornets       PF 1998-08-23   3831840\n3      Derrick Rose      Detroit Pistons       PG 1988-10-04   7317074\n4     Marial Shayok   Philadelphia 76ers        G 1995-07-26     79568\n..              ...                  ...      ...        ...       ...\n445   Austin Rivers      Houston Rockets       PG 1992-08-01   2174310\n446     Harry Giles     Sacramento Kings       PF 1998-04-22   2578800\n447     Robin Lopez      Milwaukee Bucks        C 1988-04-01   4767000\n448   Collin Sexton  Cleveland Cavaliers       PG 1999-01-04   4764960\n449     Ricky Rubio         Phoenix Suns       PG 1990-10-21  16200000\n\n[450 rows x 5 columns]",
      "text/html": "<div>\n<style scoped>\n    .dataframe tbody tr th:only-of-type {\n        vertical-align: middle;\n    }\n\n    .dataframe tbody tr th {\n        vertical-align: top;\n    }\n\n    .dataframe thead th {\n        text-align: right;\n    }\n</style>\n<table border=\"1\" class=\"dataframe\">\n  <thead>\n    <tr style=\"text-align: right;\">\n      <th></th>\n      <th>Name</th>\n      <th>Team</th>\n      <th>Position</th>\n      <th>Birthday</th>\n      <th>Salary</th>\n    </tr>\n  </thead>\n  <tbody>\n    <tr>\n      <th>0</th>\n      <td>Shake Milton</td>\n      <td>Philadelphia 76ers</td>\n      <td>SG</td>\n      <td>1996-09-26</td>\n      <td>1445697</td>\n    </tr>\n    <tr>\n      <th>1</th>\n      <td>Christian Wood</td>\n      <td>Detroit Pistons</td>\n      <td>PF</td>\n      <td>1995-09-27</td>\n      <td>1645357</td>\n    </tr>\n    <tr>\n      <th>2</th>\n      <td>PJ Washington</td>\n      <td>Charlotte Hornets</td>\n      <td>PF</td>\n      <td>1998-08-23</td>\n      <td>3831840</td>\n    </tr>\n    <tr>\n      <th>3</th>\n      <td>Derrick Rose</td>\n      <td>Detroit Pistons</td>\n      <td>PG</td>\n      <td>1988-10-04</td>\n      <td>7317074</td>\n    </tr>\n    <tr>\n      <th>4</th>\n      <td>Marial Shayok</td>\n      <td>Philadelphia 76ers</td>\n      <td>G</td>\n      <td>1995-07-26</td>\n      <td>79568</td>\n    </tr>\n    <tr>\n      <th>...</th>\n      <td>...</td>\n      <td>...</td>\n      <td>...</td>\n      <td>...</td>\n      <td>...</td>\n    </tr>\n    <tr>\n      <th>445</th>\n      <td>Austin Rivers</td>\n      <td>Houston Rockets</td>\n      <td>PG</td>\n      <td>1992-08-01</td>\n      <td>2174310</td>\n    </tr>\n    <tr>\n      <th>446</th>\n      <td>Harry Giles</td>\n      <td>Sacramento Kings</td>\n      <td>PF</td>\n      <td>1998-04-22</td>\n      <td>2578800</td>\n    </tr>\n    <tr>\n      <th>447</th>\n      <td>Robin Lopez</td>\n      <td>Milwaukee Bucks</td>\n      <td>C</td>\n      <td>1988-04-01</td>\n      <td>4767000</td>\n    </tr>\n    <tr>\n      <th>448</th>\n      <td>Collin Sexton</td>\n      <td>Cleveland Cavaliers</td>\n      <td>PG</td>\n      <td>1999-01-04</td>\n      <td>4764960</td>\n    </tr>\n    <tr>\n      <th>449</th>\n      <td>Ricky Rubio</td>\n      <td>Phoenix Suns</td>\n      <td>PG</td>\n      <td>1990-10-21</td>\n      <td>16200000</td>\n    </tr>\n  </tbody>\n</table>\n<p>450 rows × 5 columns</p>\n</div>"
     },
     "execution_count": 303,
     "metadata": {},
     "output_type": "execute_result"
    }
   ],
   "source": [
    "pd.read_csv(\"../DATA/nba.csv\",\n",
    "            parse_dates=['Birthday'])"
   ],
   "metadata": {
    "collapsed": false,
    "ExecuteTime": {
     "end_time": "2024-01-14T03:36:31.574448600Z",
     "start_time": "2024-01-14T03:36:31.470411900Z"
    }
   },
   "id": "6e4be4e647b8718f",
   "execution_count": 303
  },
  {
   "cell_type": "code",
   "outputs": [
    {
     "name": "stderr",
     "output_type": "stream",
     "text": [
      "C:\\Users\\Administrator\\AppData\\Local\\Temp\\ipykernel_15312\\3219956350.py:1: UserWarning: Could not infer format, so each element will be parsed individually, falling back to `dateutil`. To ensure parsing is consistent and as-expected, please specify a format.\n",
      "  nba = pd.read_csv(\"../DATA/nba.csv\", parse_dates= ['Birthday'])\n"
     ]
    }
   ],
   "source": [
    "nba = pd.read_csv(\"../DATA/nba.csv\", parse_dates= ['Birthday'])"
   ],
   "metadata": {
    "collapsed": false,
    "ExecuteTime": {
     "end_time": "2024-01-14T03:37:16.717805400Z",
     "start_time": "2024-01-14T03:37:16.663168500Z"
    }
   },
   "id": "8736d5fed3968249",
   "execution_count": 305
  },
  {
   "cell_type": "code",
   "outputs": [
    {
     "data": {
      "text/plain": "dtype('int64')"
     },
     "execution_count": 306,
     "metadata": {},
     "output_type": "execute_result"
    }
   ],
   "source": [
    "pd.Series([1,2,3]).dtype"
   ],
   "metadata": {
    "collapsed": false,
    "ExecuteTime": {
     "end_time": "2024-01-14T03:37:33.498025100Z",
     "start_time": "2024-01-14T03:37:33.398972800Z"
    }
   },
   "id": "1c34b6d4b10a16ef",
   "execution_count": 306
  },
  {
   "cell_type": "code",
   "outputs": [
    {
     "data": {
      "text/plain": "Name                object\nTeam                object\nPosition            object\nBirthday    datetime64[ns]\nSalary               int64\ndtype: object"
     },
     "execution_count": 307,
     "metadata": {},
     "output_type": "execute_result"
    }
   ],
   "source": [
    "nba.dtypes"
   ],
   "metadata": {
    "collapsed": false,
    "ExecuteTime": {
     "end_time": "2024-01-14T03:37:38.030838900Z",
     "start_time": "2024-01-14T03:37:37.968257200Z"
    }
   },
   "id": "59d2530c3978548e",
   "execution_count": 307
  },
  {
   "cell_type": "code",
   "outputs": [
    {
     "data": {
      "text/plain": "object            3\ndatetime64[ns]    1\nint64             1\nName: count, dtype: int64"
     },
     "execution_count": 308,
     "metadata": {},
     "output_type": "execute_result"
    }
   ],
   "source": [
    "nba.dtypes.value_counts()"
   ],
   "metadata": {
    "collapsed": false,
    "ExecuteTime": {
     "end_time": "2024-01-14T03:37:46.639037300Z",
     "start_time": "2024-01-14T03:37:46.561444600Z"
    }
   },
   "id": "d7be9d8e9ec3c31e",
   "execution_count": 308
  },
  {
   "cell_type": "code",
   "outputs": [
    {
     "data": {
      "text/plain": "RangeIndex(start=0, stop=450, step=1)"
     },
     "execution_count": 309,
     "metadata": {},
     "output_type": "execute_result"
    }
   ],
   "source": [
    "nba.index"
   ],
   "metadata": {
    "collapsed": false,
    "ExecuteTime": {
     "end_time": "2024-01-14T03:37:56.987164300Z",
     "start_time": "2024-01-14T03:37:56.921197400Z"
    }
   },
   "id": "1e8a0d2d85e3d5f9",
   "execution_count": 309
  },
  {
   "cell_type": "code",
   "outputs": [
    {
     "data": {
      "text/plain": "Index(['Name', 'Team', 'Position', 'Birthday', 'Salary'], dtype='object')"
     },
     "execution_count": 310,
     "metadata": {},
     "output_type": "execute_result"
    }
   ],
   "source": [
    "nba.columns"
   ],
   "metadata": {
    "collapsed": false,
    "ExecuteTime": {
     "end_time": "2024-01-14T03:38:03.235045700Z",
     "start_time": "2024-01-14T03:38:03.170322700Z"
    }
   },
   "id": "444dd950a8f6b8c5",
   "execution_count": 310
  },
  {
   "cell_type": "code",
   "outputs": [
    {
     "data": {
      "text/plain": "2"
     },
     "execution_count": 311,
     "metadata": {},
     "output_type": "execute_result"
    }
   ],
   "source": [
    "nba.ndim"
   ],
   "metadata": {
    "collapsed": false,
    "ExecuteTime": {
     "end_time": "2024-01-14T03:38:07.383724400Z",
     "start_time": "2024-01-14T03:38:07.282329900Z"
    }
   },
   "id": "4c694ae3242d5872",
   "execution_count": 311
  },
  {
   "cell_type": "code",
   "outputs": [
    {
     "data": {
      "text/plain": "(450, 5)"
     },
     "execution_count": 312,
     "metadata": {},
     "output_type": "execute_result"
    }
   ],
   "source": [
    "nba.shape"
   ],
   "metadata": {
    "collapsed": false,
    "ExecuteTime": {
     "end_time": "2024-01-14T03:38:13.723724700Z",
     "start_time": "2024-01-14T03:38:13.661227500Z"
    }
   },
   "id": "4f7f4cbf41ef9f35",
   "execution_count": 312
  },
  {
   "cell_type": "code",
   "outputs": [
    {
     "data": {
      "text/plain": "2250"
     },
     "execution_count": 313,
     "metadata": {},
     "output_type": "execute_result"
    }
   ],
   "source": [
    "nba.size"
   ],
   "metadata": {
    "collapsed": false,
    "ExecuteTime": {
     "end_time": "2024-01-14T03:38:16.478109200Z",
     "start_time": "2024-01-14T03:38:16.396465200Z"
    }
   },
   "id": "1a361c0a4454965c",
   "execution_count": 313
  },
  {
   "cell_type": "code",
   "outputs": [
    {
     "data": {
      "text/plain": "Name        450\nTeam        450\nPosition    450\nBirthday    450\nSalary      450\ndtype: int64"
     },
     "execution_count": 314,
     "metadata": {},
     "output_type": "execute_result"
    }
   ],
   "source": [
    "nba.count()"
   ],
   "metadata": {
    "collapsed": false,
    "ExecuteTime": {
     "end_time": "2024-01-14T03:38:22.183056Z",
     "start_time": "2024-01-14T03:38:22.117725600Z"
    }
   },
   "id": "bc513eafc7c65b16",
   "execution_count": 314
  },
  {
   "cell_type": "code",
   "outputs": [
    {
     "data": {
      "text/plain": "2250"
     },
     "execution_count": 315,
     "metadata": {},
     "output_type": "execute_result"
    }
   ],
   "source": [
    "nba.count().sum()"
   ],
   "metadata": {
    "collapsed": false,
    "ExecuteTime": {
     "end_time": "2024-01-14T03:38:33.415405Z",
     "start_time": "2024-01-14T03:38:33.358704Z"
    }
   },
   "id": "b95a8f662c04cbe6",
   "execution_count": 315
  },
  {
   "cell_type": "code",
   "outputs": [
    {
     "data": {
      "text/plain": "     A  B\n0  1.0  2\n1  NaN  3",
      "text/html": "<div>\n<style scoped>\n    .dataframe tbody tr th:only-of-type {\n        vertical-align: middle;\n    }\n\n    .dataframe tbody tr th {\n        vertical-align: top;\n    }\n\n    .dataframe thead th {\n        text-align: right;\n    }\n</style>\n<table border=\"1\" class=\"dataframe\">\n  <thead>\n    <tr style=\"text-align: right;\">\n      <th></th>\n      <th>A</th>\n      <th>B</th>\n    </tr>\n  </thead>\n  <tbody>\n    <tr>\n      <th>0</th>\n      <td>1.0</td>\n      <td>2</td>\n    </tr>\n    <tr>\n      <th>1</th>\n      <td>NaN</td>\n      <td>3</td>\n    </tr>\n  </tbody>\n</table>\n</div>"
     },
     "execution_count": 317,
     "metadata": {},
     "output_type": "execute_result"
    }
   ],
   "source": [
    "data = {\n",
    "    \"A\" : [1, np.nan],\n",
    "    \"B\" : [2, 3]\n",
    "}\n",
    "\n",
    "df = pd.DataFrame(data)\n",
    "df"
   ],
   "metadata": {
    "collapsed": false,
    "ExecuteTime": {
     "end_time": "2024-01-14T03:39:10.876385500Z",
     "start_time": "2024-01-14T03:39:10.810154500Z"
    }
   },
   "id": "a360f8c8b24ecdea",
   "execution_count": 317
  },
  {
   "cell_type": "code",
   "outputs": [
    {
     "data": {
      "text/plain": "4"
     },
     "execution_count": 318,
     "metadata": {},
     "output_type": "execute_result"
    }
   ],
   "source": [
    "df.size"
   ],
   "metadata": {
    "collapsed": false,
    "ExecuteTime": {
     "end_time": "2024-01-14T03:39:15.965757100Z",
     "start_time": "2024-01-14T03:39:15.863702900Z"
    }
   },
   "id": "b25fdb5335fa3976",
   "execution_count": 318
  },
  {
   "cell_type": "code",
   "outputs": [
    {
     "data": {
      "text/plain": "A    1\nB    2\ndtype: int64"
     },
     "execution_count": 319,
     "metadata": {},
     "output_type": "execute_result"
    }
   ],
   "source": [
    "df.count()"
   ],
   "metadata": {
    "collapsed": false,
    "ExecuteTime": {
     "end_time": "2024-01-14T03:39:18.898394900Z",
     "start_time": "2024-01-14T03:39:18.833262900Z"
    }
   },
   "id": "3a29cee9432321e8",
   "execution_count": 319
  },
  {
   "cell_type": "code",
   "outputs": [
    {
     "data": {
      "text/plain": "3"
     },
     "execution_count": 320,
     "metadata": {},
     "output_type": "execute_result"
    }
   ],
   "source": [
    "df.count().sum()"
   ],
   "metadata": {
    "collapsed": false,
    "ExecuteTime": {
     "end_time": "2024-01-14T03:39:30.974128900Z",
     "start_time": "2024-01-14T03:39:30.914029300Z"
    }
   },
   "id": "86562562c2b2dc02",
   "execution_count": 320
  },
  {
   "cell_type": "code",
   "outputs": [
    {
     "data": {
      "text/plain": "             Name                Team Position   Birthday   Salary\n0    Shake Milton  Philadelphia 76ers       SG 1996-09-26  1445697\n1  Christian Wood     Detroit Pistons       PF 1995-09-27  1645357",
      "text/html": "<div>\n<style scoped>\n    .dataframe tbody tr th:only-of-type {\n        vertical-align: middle;\n    }\n\n    .dataframe tbody tr th {\n        vertical-align: top;\n    }\n\n    .dataframe thead th {\n        text-align: right;\n    }\n</style>\n<table border=\"1\" class=\"dataframe\">\n  <thead>\n    <tr style=\"text-align: right;\">\n      <th></th>\n      <th>Name</th>\n      <th>Team</th>\n      <th>Position</th>\n      <th>Birthday</th>\n      <th>Salary</th>\n    </tr>\n  </thead>\n  <tbody>\n    <tr>\n      <th>0</th>\n      <td>Shake Milton</td>\n      <td>Philadelphia 76ers</td>\n      <td>SG</td>\n      <td>1996-09-26</td>\n      <td>1445697</td>\n    </tr>\n    <tr>\n      <th>1</th>\n      <td>Christian Wood</td>\n      <td>Detroit Pistons</td>\n      <td>PF</td>\n      <td>1995-09-27</td>\n      <td>1645357</td>\n    </tr>\n  </tbody>\n</table>\n</div>"
     },
     "execution_count": 321,
     "metadata": {},
     "output_type": "execute_result"
    }
   ],
   "source": [
    "nba.head(2)"
   ],
   "metadata": {
    "collapsed": false,
    "ExecuteTime": {
     "end_time": "2024-01-14T03:39:37.989633400Z",
     "start_time": "2024-01-14T03:39:37.904084500Z"
    }
   },
   "id": "ba35e8f0d359db0b",
   "execution_count": 321
  },
  {
   "cell_type": "code",
   "outputs": [
    {
     "data": {
      "text/plain": "              Name                 Team Position   Birthday    Salary\n447    Robin Lopez      Milwaukee Bucks        C 1988-04-01   4767000\n448  Collin Sexton  Cleveland Cavaliers       PG 1999-01-04   4764960\n449    Ricky Rubio         Phoenix Suns       PG 1990-10-21  16200000",
      "text/html": "<div>\n<style scoped>\n    .dataframe tbody tr th:only-of-type {\n        vertical-align: middle;\n    }\n\n    .dataframe tbody tr th {\n        vertical-align: top;\n    }\n\n    .dataframe thead th {\n        text-align: right;\n    }\n</style>\n<table border=\"1\" class=\"dataframe\">\n  <thead>\n    <tr style=\"text-align: right;\">\n      <th></th>\n      <th>Name</th>\n      <th>Team</th>\n      <th>Position</th>\n      <th>Birthday</th>\n      <th>Salary</th>\n    </tr>\n  </thead>\n  <tbody>\n    <tr>\n      <th>447</th>\n      <td>Robin Lopez</td>\n      <td>Milwaukee Bucks</td>\n      <td>C</td>\n      <td>1988-04-01</td>\n      <td>4767000</td>\n    </tr>\n    <tr>\n      <th>448</th>\n      <td>Collin Sexton</td>\n      <td>Cleveland Cavaliers</td>\n      <td>PG</td>\n      <td>1999-01-04</td>\n      <td>4764960</td>\n    </tr>\n    <tr>\n      <th>449</th>\n      <td>Ricky Rubio</td>\n      <td>Phoenix Suns</td>\n      <td>PG</td>\n      <td>1990-10-21</td>\n      <td>16200000</td>\n    </tr>\n  </tbody>\n</table>\n</div>"
     },
     "execution_count": 322,
     "metadata": {},
     "output_type": "execute_result"
    }
   ],
   "source": [
    "nba.tail(3)"
   ],
   "metadata": {
    "collapsed": false,
    "ExecuteTime": {
     "end_time": "2024-01-14T03:39:43.290917400Z",
     "start_time": "2024-01-14T03:39:43.223395500Z"
    }
   },
   "id": "af3bb0183d491d79",
   "execution_count": 322
  },
  {
   "cell_type": "code",
   "outputs": [
    {
     "data": {
      "text/plain": "              Name                 Team Position   Birthday    Salary\n445  Austin Rivers      Houston Rockets       PG 1992-08-01   2174310\n446    Harry Giles     Sacramento Kings       PF 1998-04-22   2578800\n447    Robin Lopez      Milwaukee Bucks        C 1988-04-01   4767000\n448  Collin Sexton  Cleveland Cavaliers       PG 1999-01-04   4764960\n449    Ricky Rubio         Phoenix Suns       PG 1990-10-21  16200000",
      "text/html": "<div>\n<style scoped>\n    .dataframe tbody tr th:only-of-type {\n        vertical-align: middle;\n    }\n\n    .dataframe tbody tr th {\n        vertical-align: top;\n    }\n\n    .dataframe thead th {\n        text-align: right;\n    }\n</style>\n<table border=\"1\" class=\"dataframe\">\n  <thead>\n    <tr style=\"text-align: right;\">\n      <th></th>\n      <th>Name</th>\n      <th>Team</th>\n      <th>Position</th>\n      <th>Birthday</th>\n      <th>Salary</th>\n    </tr>\n  </thead>\n  <tbody>\n    <tr>\n      <th>445</th>\n      <td>Austin Rivers</td>\n      <td>Houston Rockets</td>\n      <td>PG</td>\n      <td>1992-08-01</td>\n      <td>2174310</td>\n    </tr>\n    <tr>\n      <th>446</th>\n      <td>Harry Giles</td>\n      <td>Sacramento Kings</td>\n      <td>PF</td>\n      <td>1998-04-22</td>\n      <td>2578800</td>\n    </tr>\n    <tr>\n      <th>447</th>\n      <td>Robin Lopez</td>\n      <td>Milwaukee Bucks</td>\n      <td>C</td>\n      <td>1988-04-01</td>\n      <td>4767000</td>\n    </tr>\n    <tr>\n      <th>448</th>\n      <td>Collin Sexton</td>\n      <td>Cleveland Cavaliers</td>\n      <td>PG</td>\n      <td>1999-01-04</td>\n      <td>4764960</td>\n    </tr>\n    <tr>\n      <th>449</th>\n      <td>Ricky Rubio</td>\n      <td>Phoenix Suns</td>\n      <td>PG</td>\n      <td>1990-10-21</td>\n      <td>16200000</td>\n    </tr>\n  </tbody>\n</table>\n</div>"
     },
     "execution_count": 323,
     "metadata": {},
     "output_type": "execute_result"
    }
   ],
   "source": [
    "nba.tail()"
   ],
   "metadata": {
    "collapsed": false,
    "ExecuteTime": {
     "end_time": "2024-01-14T03:39:48.825862300Z",
     "start_time": "2024-01-14T03:39:48.745274100Z"
    }
   },
   "id": "5d03f9b0d915ed85",
   "execution_count": 323
  },
  {
   "cell_type": "code",
   "outputs": [
    {
     "data": {
      "text/plain": "                    Name                   Team Position   Birthday    Salary\n371  Willie Cauley-Stein  Golden State Warriors        C 1993-08-18   2177483\n356        Mason Plumlee         Denver Nuggets        C 1990-03-05  14041096\n33        Furkan Korkmaz     Philadelphia 76ers       SG 1997-07-24   1620564\n387        Landry Shamet   Los Angeles Clippers       SG 1997-03-13   1995120\n290       Tyrone Wallace          Atlanta Hawks       PG 1994-06-10   1620564\n58            Marc Gasol        Toronto Raptors        C 1985-01-29  25595700\n220         Tony Bradley              Utah Jazz        C 1998-01-08   1962360\n311          Cody Martin      Charlotte Hornets       SF 1995-09-28   1173310\n146           OG Anunoby        Toronto Raptors       SF 1997-07-17   2281800\n361     Bojan Bogdanovic              Utah Jazz       SF 1989-04-18  17000000\n243       Brandon Clarke      Memphis Grizzlies       PF 1996-09-19   2478840",
      "text/html": "<div>\n<style scoped>\n    .dataframe tbody tr th:only-of-type {\n        vertical-align: middle;\n    }\n\n    .dataframe tbody tr th {\n        vertical-align: top;\n    }\n\n    .dataframe thead th {\n        text-align: right;\n    }\n</style>\n<table border=\"1\" class=\"dataframe\">\n  <thead>\n    <tr style=\"text-align: right;\">\n      <th></th>\n      <th>Name</th>\n      <th>Team</th>\n      <th>Position</th>\n      <th>Birthday</th>\n      <th>Salary</th>\n    </tr>\n  </thead>\n  <tbody>\n    <tr>\n      <th>371</th>\n      <td>Willie Cauley-Stein</td>\n      <td>Golden State Warriors</td>\n      <td>C</td>\n      <td>1993-08-18</td>\n      <td>2177483</td>\n    </tr>\n    <tr>\n      <th>356</th>\n      <td>Mason Plumlee</td>\n      <td>Denver Nuggets</td>\n      <td>C</td>\n      <td>1990-03-05</td>\n      <td>14041096</td>\n    </tr>\n    <tr>\n      <th>33</th>\n      <td>Furkan Korkmaz</td>\n      <td>Philadelphia 76ers</td>\n      <td>SG</td>\n      <td>1997-07-24</td>\n      <td>1620564</td>\n    </tr>\n    <tr>\n      <th>387</th>\n      <td>Landry Shamet</td>\n      <td>Los Angeles Clippers</td>\n      <td>SG</td>\n      <td>1997-03-13</td>\n      <td>1995120</td>\n    </tr>\n    <tr>\n      <th>290</th>\n      <td>Tyrone Wallace</td>\n      <td>Atlanta Hawks</td>\n      <td>PG</td>\n      <td>1994-06-10</td>\n      <td>1620564</td>\n    </tr>\n    <tr>\n      <th>58</th>\n      <td>Marc Gasol</td>\n      <td>Toronto Raptors</td>\n      <td>C</td>\n      <td>1985-01-29</td>\n      <td>25595700</td>\n    </tr>\n    <tr>\n      <th>220</th>\n      <td>Tony Bradley</td>\n      <td>Utah Jazz</td>\n      <td>C</td>\n      <td>1998-01-08</td>\n      <td>1962360</td>\n    </tr>\n    <tr>\n      <th>311</th>\n      <td>Cody Martin</td>\n      <td>Charlotte Hornets</td>\n      <td>SF</td>\n      <td>1995-09-28</td>\n      <td>1173310</td>\n    </tr>\n    <tr>\n      <th>146</th>\n      <td>OG Anunoby</td>\n      <td>Toronto Raptors</td>\n      <td>SF</td>\n      <td>1997-07-17</td>\n      <td>2281800</td>\n    </tr>\n    <tr>\n      <th>361</th>\n      <td>Bojan Bogdanovic</td>\n      <td>Utah Jazz</td>\n      <td>SF</td>\n      <td>1989-04-18</td>\n      <td>17000000</td>\n    </tr>\n    <tr>\n      <th>243</th>\n      <td>Brandon Clarke</td>\n      <td>Memphis Grizzlies</td>\n      <td>PF</td>\n      <td>1996-09-19</td>\n      <td>2478840</td>\n    </tr>\n  </tbody>\n</table>\n</div>"
     },
     "execution_count": 325,
     "metadata": {},
     "output_type": "execute_result"
    }
   ],
   "source": [
    "nba.sample(11)"
   ],
   "metadata": {
    "collapsed": false,
    "ExecuteTime": {
     "end_time": "2024-01-14T03:39:55.174846100Z",
     "start_time": "2024-01-14T03:39:55.098045800Z"
    }
   },
   "id": "c2d458a78dae8fc2",
   "execution_count": 325
  },
  {
   "cell_type": "code",
   "outputs": [
    {
     "data": {
      "text/plain": "Name        450\nTeam         30\nPosition      9\nBirthday    430\nSalary      269\ndtype: int64"
     },
     "execution_count": 326,
     "metadata": {},
     "output_type": "execute_result"
    }
   ],
   "source": [
    "nba.nunique()"
   ],
   "metadata": {
    "collapsed": false,
    "ExecuteTime": {
     "end_time": "2024-01-14T03:40:01.284285200Z",
     "start_time": "2024-01-14T03:40:01.226372900Z"
    }
   },
   "id": "6d7c475a563105b9",
   "execution_count": 326
  },
  {
   "cell_type": "code",
   "outputs": [
    {
     "data": {
      "text/plain": "Name             Zylan Cheatham\nTeam         Washington Wizards\nPosition                     SG\nBirthday    2000-12-23 00:00:00\nSalary                 40231758\ndtype: object"
     },
     "execution_count": 327,
     "metadata": {},
     "output_type": "execute_result"
    }
   ],
   "source": [
    "nba.max()"
   ],
   "metadata": {
    "collapsed": false,
    "ExecuteTime": {
     "end_time": "2024-01-14T03:40:06.910626100Z",
     "start_time": "2024-01-14T03:40:06.843938200Z"
    }
   },
   "id": "bf9de006825434a4",
   "execution_count": 327
  },
  {
   "cell_type": "code",
   "outputs": [
    {
     "data": {
      "text/plain": "Name               Aaron Gordon\nTeam              Atlanta Hawks\nPosition                      C\nBirthday    1977-01-26 00:00:00\nSalary                    79568\ndtype: object"
     },
     "execution_count": 328,
     "metadata": {},
     "output_type": "execute_result"
    }
   ],
   "source": [
    "nba.min()"
   ],
   "metadata": {
    "collapsed": false,
    "ExecuteTime": {
     "end_time": "2024-01-14T03:40:14.071209300Z",
     "start_time": "2024-01-14T03:40:13.967497200Z"
    }
   },
   "id": "859207bfa5fa27de",
   "execution_count": 328
  },
  {
   "cell_type": "code",
   "outputs": [
    {
     "data": {
      "text/plain": "                  Name                   Team Position   Birthday    Salary\n205      Stephen Curry  Golden State Warriors       PG 1988-03-14  40231758\n38          Chris Paul  Oklahoma City Thunder       PG 1985-05-06  38506482\n219  Russell Westbrook        Houston Rockets       PG 1988-11-12  38506482\n251          John Wall     Washington Wizards       PG 1990-09-06  38199000",
      "text/html": "<div>\n<style scoped>\n    .dataframe tbody tr th:only-of-type {\n        vertical-align: middle;\n    }\n\n    .dataframe tbody tr th {\n        vertical-align: top;\n    }\n\n    .dataframe thead th {\n        text-align: right;\n    }\n</style>\n<table border=\"1\" class=\"dataframe\">\n  <thead>\n    <tr style=\"text-align: right;\">\n      <th></th>\n      <th>Name</th>\n      <th>Team</th>\n      <th>Position</th>\n      <th>Birthday</th>\n      <th>Salary</th>\n    </tr>\n  </thead>\n  <tbody>\n    <tr>\n      <th>205</th>\n      <td>Stephen Curry</td>\n      <td>Golden State Warriors</td>\n      <td>PG</td>\n      <td>1988-03-14</td>\n      <td>40231758</td>\n    </tr>\n    <tr>\n      <th>38</th>\n      <td>Chris Paul</td>\n      <td>Oklahoma City Thunder</td>\n      <td>PG</td>\n      <td>1985-05-06</td>\n      <td>38506482</td>\n    </tr>\n    <tr>\n      <th>219</th>\n      <td>Russell Westbrook</td>\n      <td>Houston Rockets</td>\n      <td>PG</td>\n      <td>1988-11-12</td>\n      <td>38506482</td>\n    </tr>\n    <tr>\n      <th>251</th>\n      <td>John Wall</td>\n      <td>Washington Wizards</td>\n      <td>PG</td>\n      <td>1990-09-06</td>\n      <td>38199000</td>\n    </tr>\n  </tbody>\n</table>\n</div>"
     },
     "execution_count": 329,
     "metadata": {},
     "output_type": "execute_result"
    }
   ],
   "source": [
    "nba.nlargest(4, columns='Salary')"
   ],
   "metadata": {
    "collapsed": false,
    "ExecuteTime": {
     "end_time": "2024-01-14T03:40:30.119661500Z",
     "start_time": "2024-01-14T03:40:30.008903900Z"
    }
   },
   "id": "2a9414e32966fdd",
   "execution_count": 329
  },
  {
   "cell_type": "code",
   "outputs": [
    {
     "data": {
      "text/plain": "              Name             Team Position   Birthday   Salary\n98    Vince Carter    Atlanta Hawks       PF 1977-01-26  2564753\n196  Udonis Haslem       Miami Heat        C 1980-06-09  2564753\n262    Kyle Korver  Milwaukee Bucks       PF 1981-03-17  6004753",
      "text/html": "<div>\n<style scoped>\n    .dataframe tbody tr th:only-of-type {\n        vertical-align: middle;\n    }\n\n    .dataframe tbody tr th {\n        vertical-align: top;\n    }\n\n    .dataframe thead th {\n        text-align: right;\n    }\n</style>\n<table border=\"1\" class=\"dataframe\">\n  <thead>\n    <tr style=\"text-align: right;\">\n      <th></th>\n      <th>Name</th>\n      <th>Team</th>\n      <th>Position</th>\n      <th>Birthday</th>\n      <th>Salary</th>\n    </tr>\n  </thead>\n  <tbody>\n    <tr>\n      <th>98</th>\n      <td>Vince Carter</td>\n      <td>Atlanta Hawks</td>\n      <td>PF</td>\n      <td>1977-01-26</td>\n      <td>2564753</td>\n    </tr>\n    <tr>\n      <th>196</th>\n      <td>Udonis Haslem</td>\n      <td>Miami Heat</td>\n      <td>C</td>\n      <td>1980-06-09</td>\n      <td>2564753</td>\n    </tr>\n    <tr>\n      <th>262</th>\n      <td>Kyle Korver</td>\n      <td>Milwaukee Bucks</td>\n      <td>PF</td>\n      <td>1981-03-17</td>\n      <td>6004753</td>\n    </tr>\n  </tbody>\n</table>\n</div>"
     },
     "execution_count": 330,
     "metadata": {},
     "output_type": "execute_result"
    }
   ],
   "source": [
    "nba.nsmallest(3, columns=[\"Birthday\"])"
   ],
   "metadata": {
    "collapsed": false,
    "ExecuteTime": {
     "end_time": "2024-01-14T03:40:42.528401900Z",
     "start_time": "2024-01-14T03:40:42.448552900Z"
    }
   },
   "id": "5c39e30c8d138f7e",
   "execution_count": 330
  },
  {
   "cell_type": "code",
   "outputs": [
    {
     "data": {
      "text/plain": "Salary    3444112694\ndtype: int64"
     },
     "execution_count": 333,
     "metadata": {},
     "output_type": "execute_result"
    }
   ],
   "source": [
    "nba.sum(numeric_only = True)"
   ],
   "metadata": {
    "collapsed": false,
    "ExecuteTime": {
     "end_time": "2024-01-14T03:41:15.482270Z",
     "start_time": "2024-01-14T03:41:15.406698Z"
    }
   },
   "id": "69ed7a61248b7fea",
   "execution_count": 333
  },
  {
   "cell_type": "code",
   "outputs": [
    {
     "data": {
      "text/plain": "Salary    7.653584e+06\ndtype: float64"
     },
     "execution_count": 334,
     "metadata": {},
     "output_type": "execute_result"
    }
   ],
   "source": [
    "nba.mean(numeric_only=True)"
   ],
   "metadata": {
    "collapsed": false,
    "ExecuteTime": {
     "end_time": "2024-01-14T03:41:31.587510200Z",
     "start_time": "2024-01-14T03:41:31.519259300Z"
    }
   },
   "id": "6ddbe6595f9aec77",
   "execution_count": 334
  },
  {
   "cell_type": "code",
   "outputs": [
    {
     "data": {
      "text/plain": "   Salary\n0   79568",
      "text/html": "<div>\n<style scoped>\n    .dataframe tbody tr th:only-of-type {\n        vertical-align: middle;\n    }\n\n    .dataframe tbody tr th {\n        vertical-align: top;\n    }\n\n    .dataframe thead th {\n        text-align: right;\n    }\n</style>\n<table border=\"1\" class=\"dataframe\">\n  <thead>\n    <tr style=\"text-align: right;\">\n      <th></th>\n      <th>Salary</th>\n    </tr>\n  </thead>\n  <tbody>\n    <tr>\n      <th>0</th>\n      <td>79568</td>\n    </tr>\n  </tbody>\n</table>\n</div>"
     },
     "execution_count": 335,
     "metadata": {},
     "output_type": "execute_result"
    }
   ],
   "source": [
    "nba.mode(numeric_only=True)"
   ],
   "metadata": {
    "collapsed": false,
    "ExecuteTime": {
     "end_time": "2024-01-14T03:41:41.315973100Z",
     "start_time": "2024-01-14T03:41:41.234748500Z"
    }
   },
   "id": "e0183e0c92d480d3",
   "execution_count": 335
  },
  {
   "cell_type": "code",
   "outputs": [
    {
     "data": {
      "text/plain": "Salary    9.288810e+06\ndtype: float64"
     },
     "execution_count": 337,
     "metadata": {},
     "output_type": "execute_result"
    }
   ],
   "source": [
    "nba.std(numeric_only=True)"
   ],
   "metadata": {
    "collapsed": false,
    "ExecuteTime": {
     "end_time": "2024-01-14T03:42:03.871956900Z",
     "start_time": "2024-01-14T03:42:03.732020200Z"
    }
   },
   "id": "411700838739577f",
   "execution_count": 337
  },
  {
   "cell_type": "code",
   "outputs": [
    {
     "data": {
      "text/plain": "                  Name                   Team Position   Birthday    Salary\n52        Aaron Gordon          Orlando Magic       PF 1995-09-16  19863636\n101      Aaron Holiday         Indiana Pacers       PG 1996-09-30   2239200\n437        Abdel Nader  Oklahoma City Thunder       SF 1993-09-25   1618520\n81         Adam Mokoka          Chicago Bulls        G 1998-07-18     79568\n399  Admiral Schofield     Washington Wizards       SF 1997-03-30   1000000\n..                 ...                    ...      ...        ...       ...\n159        Zach LaVine          Chicago Bulls       PG 1995-03-10  19500000\n302       Zach Norvell     Los Angeles Lakers       SG 1997-12-09     79568\n312       Zhaire Smith     Philadelphia 76ers       SG 1999-06-04   3058800\n137    Zion Williamson   New Orleans Pelicans        F 2000-07-06   9757440\n248     Zylan Cheatham   New Orleans Pelicans       SF 1995-11-17     79568\n\n[450 rows x 5 columns]",
      "text/html": "<div>\n<style scoped>\n    .dataframe tbody tr th:only-of-type {\n        vertical-align: middle;\n    }\n\n    .dataframe tbody tr th {\n        vertical-align: top;\n    }\n\n    .dataframe thead th {\n        text-align: right;\n    }\n</style>\n<table border=\"1\" class=\"dataframe\">\n  <thead>\n    <tr style=\"text-align: right;\">\n      <th></th>\n      <th>Name</th>\n      <th>Team</th>\n      <th>Position</th>\n      <th>Birthday</th>\n      <th>Salary</th>\n    </tr>\n  </thead>\n  <tbody>\n    <tr>\n      <th>52</th>\n      <td>Aaron Gordon</td>\n      <td>Orlando Magic</td>\n      <td>PF</td>\n      <td>1995-09-16</td>\n      <td>19863636</td>\n    </tr>\n    <tr>\n      <th>101</th>\n      <td>Aaron Holiday</td>\n      <td>Indiana Pacers</td>\n      <td>PG</td>\n      <td>1996-09-30</td>\n      <td>2239200</td>\n    </tr>\n    <tr>\n      <th>437</th>\n      <td>Abdel Nader</td>\n      <td>Oklahoma City Thunder</td>\n      <td>SF</td>\n      <td>1993-09-25</td>\n      <td>1618520</td>\n    </tr>\n    <tr>\n      <th>81</th>\n      <td>Adam Mokoka</td>\n      <td>Chicago Bulls</td>\n      <td>G</td>\n      <td>1998-07-18</td>\n      <td>79568</td>\n    </tr>\n    <tr>\n      <th>399</th>\n      <td>Admiral Schofield</td>\n      <td>Washington Wizards</td>\n      <td>SF</td>\n      <td>1997-03-30</td>\n      <td>1000000</td>\n    </tr>\n    <tr>\n      <th>...</th>\n      <td>...</td>\n      <td>...</td>\n      <td>...</td>\n      <td>...</td>\n      <td>...</td>\n    </tr>\n    <tr>\n      <th>159</th>\n      <td>Zach LaVine</td>\n      <td>Chicago Bulls</td>\n      <td>PG</td>\n      <td>1995-03-10</td>\n      <td>19500000</td>\n    </tr>\n    <tr>\n      <th>302</th>\n      <td>Zach Norvell</td>\n      <td>Los Angeles Lakers</td>\n      <td>SG</td>\n      <td>1997-12-09</td>\n      <td>79568</td>\n    </tr>\n    <tr>\n      <th>312</th>\n      <td>Zhaire Smith</td>\n      <td>Philadelphia 76ers</td>\n      <td>SG</td>\n      <td>1999-06-04</td>\n      <td>3058800</td>\n    </tr>\n    <tr>\n      <th>137</th>\n      <td>Zion Williamson</td>\n      <td>New Orleans Pelicans</td>\n      <td>F</td>\n      <td>2000-07-06</td>\n      <td>9757440</td>\n    </tr>\n    <tr>\n      <th>248</th>\n      <td>Zylan Cheatham</td>\n      <td>New Orleans Pelicans</td>\n      <td>SF</td>\n      <td>1995-11-17</td>\n      <td>79568</td>\n    </tr>\n  </tbody>\n</table>\n<p>450 rows × 5 columns</p>\n</div>"
     },
     "execution_count": 338,
     "metadata": {},
     "output_type": "execute_result"
    }
   ],
   "source": [
    "nba.sort_values(\"Name\")"
   ],
   "metadata": {
    "collapsed": false,
    "ExecuteTime": {
     "end_time": "2024-01-14T03:42:13.111152600Z",
     "start_time": "2024-01-14T03:42:12.967034200Z"
    }
   },
   "id": "f05821ecb65cb832",
   "execution_count": 338
  },
  {
   "cell_type": "code",
   "outputs": [
    {
     "data": {
      "text/plain": "                  Name                   Team Position   Birthday    Salary\n52        Aaron Gordon          Orlando Magic       PF 1995-09-16  19863636\n101      Aaron Holiday         Indiana Pacers       PG 1996-09-30   2239200\n437        Abdel Nader  Oklahoma City Thunder       SF 1993-09-25   1618520\n81         Adam Mokoka          Chicago Bulls        G 1998-07-18     79568\n399  Admiral Schofield     Washington Wizards       SF 1997-03-30   1000000\n..                 ...                    ...      ...        ...       ...\n159        Zach LaVine          Chicago Bulls       PG 1995-03-10  19500000\n302       Zach Norvell     Los Angeles Lakers       SG 1997-12-09     79568\n312       Zhaire Smith     Philadelphia 76ers       SG 1999-06-04   3058800\n137    Zion Williamson   New Orleans Pelicans        F 2000-07-06   9757440\n248     Zylan Cheatham   New Orleans Pelicans       SF 1995-11-17     79568\n\n[450 rows x 5 columns]",
      "text/html": "<div>\n<style scoped>\n    .dataframe tbody tr th:only-of-type {\n        vertical-align: middle;\n    }\n\n    .dataframe tbody tr th {\n        vertical-align: top;\n    }\n\n    .dataframe thead th {\n        text-align: right;\n    }\n</style>\n<table border=\"1\" class=\"dataframe\">\n  <thead>\n    <tr style=\"text-align: right;\">\n      <th></th>\n      <th>Name</th>\n      <th>Team</th>\n      <th>Position</th>\n      <th>Birthday</th>\n      <th>Salary</th>\n    </tr>\n  </thead>\n  <tbody>\n    <tr>\n      <th>52</th>\n      <td>Aaron Gordon</td>\n      <td>Orlando Magic</td>\n      <td>PF</td>\n      <td>1995-09-16</td>\n      <td>19863636</td>\n    </tr>\n    <tr>\n      <th>101</th>\n      <td>Aaron Holiday</td>\n      <td>Indiana Pacers</td>\n      <td>PG</td>\n      <td>1996-09-30</td>\n      <td>2239200</td>\n    </tr>\n    <tr>\n      <th>437</th>\n      <td>Abdel Nader</td>\n      <td>Oklahoma City Thunder</td>\n      <td>SF</td>\n      <td>1993-09-25</td>\n      <td>1618520</td>\n    </tr>\n    <tr>\n      <th>81</th>\n      <td>Adam Mokoka</td>\n      <td>Chicago Bulls</td>\n      <td>G</td>\n      <td>1998-07-18</td>\n      <td>79568</td>\n    </tr>\n    <tr>\n      <th>399</th>\n      <td>Admiral Schofield</td>\n      <td>Washington Wizards</td>\n      <td>SF</td>\n      <td>1997-03-30</td>\n      <td>1000000</td>\n    </tr>\n    <tr>\n      <th>...</th>\n      <td>...</td>\n      <td>...</td>\n      <td>...</td>\n      <td>...</td>\n      <td>...</td>\n    </tr>\n    <tr>\n      <th>159</th>\n      <td>Zach LaVine</td>\n      <td>Chicago Bulls</td>\n      <td>PG</td>\n      <td>1995-03-10</td>\n      <td>19500000</td>\n    </tr>\n    <tr>\n      <th>302</th>\n      <td>Zach Norvell</td>\n      <td>Los Angeles Lakers</td>\n      <td>SG</td>\n      <td>1997-12-09</td>\n      <td>79568</td>\n    </tr>\n    <tr>\n      <th>312</th>\n      <td>Zhaire Smith</td>\n      <td>Philadelphia 76ers</td>\n      <td>SG</td>\n      <td>1999-06-04</td>\n      <td>3058800</td>\n    </tr>\n    <tr>\n      <th>137</th>\n      <td>Zion Williamson</td>\n      <td>New Orleans Pelicans</td>\n      <td>F</td>\n      <td>2000-07-06</td>\n      <td>9757440</td>\n    </tr>\n    <tr>\n      <th>248</th>\n      <td>Zylan Cheatham</td>\n      <td>New Orleans Pelicans</td>\n      <td>SF</td>\n      <td>1995-11-17</td>\n      <td>79568</td>\n    </tr>\n  </tbody>\n</table>\n<p>450 rows × 5 columns</p>\n</div>"
     },
     "execution_count": 339,
     "metadata": {},
     "output_type": "execute_result"
    }
   ],
   "source": [
    "nba.sort_values(by = \"Name\")"
   ],
   "metadata": {
    "collapsed": false,
    "ExecuteTime": {
     "end_time": "2024-01-14T03:42:20.061292300Z",
     "start_time": "2024-01-14T03:42:19.992228900Z"
    }
   },
   "id": "3bab9a667732dd92",
   "execution_count": 339
  },
  {
   "cell_type": "code",
   "outputs": [
    {
     "data": {
      "text/plain": "                Name                  Team Position   Birthday    Salary\n248   Zylan Cheatham  New Orleans Pelicans       SF 1995-11-17     79568\n137  Zion Williamson  New Orleans Pelicans        F 2000-07-06   9757440\n312     Zhaire Smith    Philadelphia 76ers       SG 1999-06-04   3058800\n302     Zach Norvell    Los Angeles Lakers       SG 1997-12-09     79568\n159      Zach LaVine         Chicago Bulls       PG 1995-03-10  19500000",
      "text/html": "<div>\n<style scoped>\n    .dataframe tbody tr th:only-of-type {\n        vertical-align: middle;\n    }\n\n    .dataframe tbody tr th {\n        vertical-align: top;\n    }\n\n    .dataframe thead th {\n        text-align: right;\n    }\n</style>\n<table border=\"1\" class=\"dataframe\">\n  <thead>\n    <tr style=\"text-align: right;\">\n      <th></th>\n      <th>Name</th>\n      <th>Team</th>\n      <th>Position</th>\n      <th>Birthday</th>\n      <th>Salary</th>\n    </tr>\n  </thead>\n  <tbody>\n    <tr>\n      <th>248</th>\n      <td>Zylan Cheatham</td>\n      <td>New Orleans Pelicans</td>\n      <td>SF</td>\n      <td>1995-11-17</td>\n      <td>79568</td>\n    </tr>\n    <tr>\n      <th>137</th>\n      <td>Zion Williamson</td>\n      <td>New Orleans Pelicans</td>\n      <td>F</td>\n      <td>2000-07-06</td>\n      <td>9757440</td>\n    </tr>\n    <tr>\n      <th>312</th>\n      <td>Zhaire Smith</td>\n      <td>Philadelphia 76ers</td>\n      <td>SG</td>\n      <td>1999-06-04</td>\n      <td>3058800</td>\n    </tr>\n    <tr>\n      <th>302</th>\n      <td>Zach Norvell</td>\n      <td>Los Angeles Lakers</td>\n      <td>SG</td>\n      <td>1997-12-09</td>\n      <td>79568</td>\n    </tr>\n    <tr>\n      <th>159</th>\n      <td>Zach LaVine</td>\n      <td>Chicago Bulls</td>\n      <td>PG</td>\n      <td>1995-03-10</td>\n      <td>19500000</td>\n    </tr>\n  </tbody>\n</table>\n</div>"
     },
     "execution_count": 341,
     "metadata": {},
     "output_type": "execute_result"
    }
   ],
   "source": [
    "nba.sort_values(\"Name\", ascending=  False).head()"
   ],
   "metadata": {
    "collapsed": false,
    "ExecuteTime": {
     "end_time": "2024-01-14T03:42:45.611864600Z",
     "start_time": "2024-01-14T03:42:45.545036900Z"
    }
   },
   "id": "73c7b729c17326d8",
   "execution_count": 341
  },
  {
   "cell_type": "code",
   "outputs": [
    {
     "data": {
      "text/plain": "                    Name                   Team Position   Birthday   Salary\n136      Sekou Doumbouya        Detroit Pistons       SF 2000-12-23  3285120\n432  Talen Horton-Tucker     Los Angeles Lakers       GF 2000-11-25   898310\n137      Zion Williamson   New Orleans Pelicans        F 2000-07-06  9757440\n313           RJ Barrett        New York Knicks       SG 2000-06-14  7839960\n392         Jalen Lecque           Phoenix Suns        G 2000-06-13   898310\n44         Darius Bazley  Oklahoma City Thunder       PF 2000-06-12  2284800",
      "text/html": "<div>\n<style scoped>\n    .dataframe tbody tr th:only-of-type {\n        vertical-align: middle;\n    }\n\n    .dataframe tbody tr th {\n        vertical-align: top;\n    }\n\n    .dataframe thead th {\n        text-align: right;\n    }\n</style>\n<table border=\"1\" class=\"dataframe\">\n  <thead>\n    <tr style=\"text-align: right;\">\n      <th></th>\n      <th>Name</th>\n      <th>Team</th>\n      <th>Position</th>\n      <th>Birthday</th>\n      <th>Salary</th>\n    </tr>\n  </thead>\n  <tbody>\n    <tr>\n      <th>136</th>\n      <td>Sekou Doumbouya</td>\n      <td>Detroit Pistons</td>\n      <td>SF</td>\n      <td>2000-12-23</td>\n      <td>3285120</td>\n    </tr>\n    <tr>\n      <th>432</th>\n      <td>Talen Horton-Tucker</td>\n      <td>Los Angeles Lakers</td>\n      <td>GF</td>\n      <td>2000-11-25</td>\n      <td>898310</td>\n    </tr>\n    <tr>\n      <th>137</th>\n      <td>Zion Williamson</td>\n      <td>New Orleans Pelicans</td>\n      <td>F</td>\n      <td>2000-07-06</td>\n      <td>9757440</td>\n    </tr>\n    <tr>\n      <th>313</th>\n      <td>RJ Barrett</td>\n      <td>New York Knicks</td>\n      <td>SG</td>\n      <td>2000-06-14</td>\n      <td>7839960</td>\n    </tr>\n    <tr>\n      <th>392</th>\n      <td>Jalen Lecque</td>\n      <td>Phoenix Suns</td>\n      <td>G</td>\n      <td>2000-06-13</td>\n      <td>898310</td>\n    </tr>\n    <tr>\n      <th>44</th>\n      <td>Darius Bazley</td>\n      <td>Oklahoma City Thunder</td>\n      <td>PF</td>\n      <td>2000-06-12</td>\n      <td>2284800</td>\n    </tr>\n  </tbody>\n</table>\n</div>"
     },
     "execution_count": 342,
     "metadata": {},
     "output_type": "execute_result"
    }
   ],
   "source": [
    "nba.sort_values(\"Birthday\", ascending=False).head(6)"
   ],
   "metadata": {
    "collapsed": false,
    "ExecuteTime": {
     "end_time": "2024-01-14T03:43:05.464703800Z",
     "start_time": "2024-01-14T03:43:05.384575Z"
    }
   },
   "id": "a27cae1048c1c6da",
   "execution_count": 342
  },
  {
   "cell_type": "code",
   "outputs": [
    {
     "data": {
      "text/plain": "                Name                Team Position   Birthday    Salary\n359         Alex Len       Atlanta Hawks        C 1993-06-16   4160000\n167     Allen Crabbe       Atlanta Hawks       SG 1992-04-09  18500000\n276  Brandon Goodwin       Atlanta Hawks       PG 1995-10-02     79568\n438   Bruno Fernando       Atlanta Hawks        C 1998-08-15   1400000\n194      Cam Reddish       Atlanta Hawks       SF 1999-09-01   4245720\n..               ...                 ...      ...        ...       ...\n418     Jordan McRae  Washington Wizards       PG 1991-03-28   1645357\n273  Justin Robinson  Washington Wizards       PG 1997-10-12    898310\n428    Moritz Wagner  Washington Wizards        C 1997-04-26   2063520\n21     Rui Hachimura  Washington Wizards       PF 1998-02-08   4469160\n36     Thomas Bryant  Washington Wizards        C 1997-07-31   8000000\n\n[450 rows x 5 columns]",
      "text/html": "<div>\n<style scoped>\n    .dataframe tbody tr th:only-of-type {\n        vertical-align: middle;\n    }\n\n    .dataframe tbody tr th {\n        vertical-align: top;\n    }\n\n    .dataframe thead th {\n        text-align: right;\n    }\n</style>\n<table border=\"1\" class=\"dataframe\">\n  <thead>\n    <tr style=\"text-align: right;\">\n      <th></th>\n      <th>Name</th>\n      <th>Team</th>\n      <th>Position</th>\n      <th>Birthday</th>\n      <th>Salary</th>\n    </tr>\n  </thead>\n  <tbody>\n    <tr>\n      <th>359</th>\n      <td>Alex Len</td>\n      <td>Atlanta Hawks</td>\n      <td>C</td>\n      <td>1993-06-16</td>\n      <td>4160000</td>\n    </tr>\n    <tr>\n      <th>167</th>\n      <td>Allen Crabbe</td>\n      <td>Atlanta Hawks</td>\n      <td>SG</td>\n      <td>1992-04-09</td>\n      <td>18500000</td>\n    </tr>\n    <tr>\n      <th>276</th>\n      <td>Brandon Goodwin</td>\n      <td>Atlanta Hawks</td>\n      <td>PG</td>\n      <td>1995-10-02</td>\n      <td>79568</td>\n    </tr>\n    <tr>\n      <th>438</th>\n      <td>Bruno Fernando</td>\n      <td>Atlanta Hawks</td>\n      <td>C</td>\n      <td>1998-08-15</td>\n      <td>1400000</td>\n    </tr>\n    <tr>\n      <th>194</th>\n      <td>Cam Reddish</td>\n      <td>Atlanta Hawks</td>\n      <td>SF</td>\n      <td>1999-09-01</td>\n      <td>4245720</td>\n    </tr>\n    <tr>\n      <th>...</th>\n      <td>...</td>\n      <td>...</td>\n      <td>...</td>\n      <td>...</td>\n      <td>...</td>\n    </tr>\n    <tr>\n      <th>418</th>\n      <td>Jordan McRae</td>\n      <td>Washington Wizards</td>\n      <td>PG</td>\n      <td>1991-03-28</td>\n      <td>1645357</td>\n    </tr>\n    <tr>\n      <th>273</th>\n      <td>Justin Robinson</td>\n      <td>Washington Wizards</td>\n      <td>PG</td>\n      <td>1997-10-12</td>\n      <td>898310</td>\n    </tr>\n    <tr>\n      <th>428</th>\n      <td>Moritz Wagner</td>\n      <td>Washington Wizards</td>\n      <td>C</td>\n      <td>1997-04-26</td>\n      <td>2063520</td>\n    </tr>\n    <tr>\n      <th>21</th>\n      <td>Rui Hachimura</td>\n      <td>Washington Wizards</td>\n      <td>PF</td>\n      <td>1998-02-08</td>\n      <td>4469160</td>\n    </tr>\n    <tr>\n      <th>36</th>\n      <td>Thomas Bryant</td>\n      <td>Washington Wizards</td>\n      <td>C</td>\n      <td>1997-07-31</td>\n      <td>8000000</td>\n    </tr>\n  </tbody>\n</table>\n<p>450 rows × 5 columns</p>\n</div>"
     },
     "execution_count": 343,
     "metadata": {},
     "output_type": "execute_result"
    }
   ],
   "source": [
    "nba.sort_values([\"Team\", \"Name\"])"
   ],
   "metadata": {
    "collapsed": false,
    "ExecuteTime": {
     "end_time": "2024-01-14T03:43:26.796352500Z",
     "start_time": "2024-01-14T03:43:26.702587800Z"
    }
   },
   "id": "5db89e20d2201d7c",
   "execution_count": 343
  },
  {
   "cell_type": "code",
   "outputs": [
    {
     "data": {
      "text/plain": "                Name                Team Position   Birthday    Salary\n36     Thomas Bryant  Washington Wizards        C 1997-07-31   8000000\n21     Rui Hachimura  Washington Wizards       PF 1998-02-08   4469160\n428    Moritz Wagner  Washington Wizards        C 1997-04-26   2063520\n273  Justin Robinson  Washington Wizards       PG 1997-10-12    898310\n418     Jordan McRae  Washington Wizards       PG 1991-03-28   1645357\n..               ...                 ...      ...        ...       ...\n194      Cam Reddish       Atlanta Hawks       SF 1999-09-01   4245720\n438   Bruno Fernando       Atlanta Hawks        C 1998-08-15   1400000\n276  Brandon Goodwin       Atlanta Hawks       PG 1995-10-02     79568\n167     Allen Crabbe       Atlanta Hawks       SG 1992-04-09  18500000\n359         Alex Len       Atlanta Hawks        C 1993-06-16   4160000\n\n[450 rows x 5 columns]",
      "text/html": "<div>\n<style scoped>\n    .dataframe tbody tr th:only-of-type {\n        vertical-align: middle;\n    }\n\n    .dataframe tbody tr th {\n        vertical-align: top;\n    }\n\n    .dataframe thead th {\n        text-align: right;\n    }\n</style>\n<table border=\"1\" class=\"dataframe\">\n  <thead>\n    <tr style=\"text-align: right;\">\n      <th></th>\n      <th>Name</th>\n      <th>Team</th>\n      <th>Position</th>\n      <th>Birthday</th>\n      <th>Salary</th>\n    </tr>\n  </thead>\n  <tbody>\n    <tr>\n      <th>36</th>\n      <td>Thomas Bryant</td>\n      <td>Washington Wizards</td>\n      <td>C</td>\n      <td>1997-07-31</td>\n      <td>8000000</td>\n    </tr>\n    <tr>\n      <th>21</th>\n      <td>Rui Hachimura</td>\n      <td>Washington Wizards</td>\n      <td>PF</td>\n      <td>1998-02-08</td>\n      <td>4469160</td>\n    </tr>\n    <tr>\n      <th>428</th>\n      <td>Moritz Wagner</td>\n      <td>Washington Wizards</td>\n      <td>C</td>\n      <td>1997-04-26</td>\n      <td>2063520</td>\n    </tr>\n    <tr>\n      <th>273</th>\n      <td>Justin Robinson</td>\n      <td>Washington Wizards</td>\n      <td>PG</td>\n      <td>1997-10-12</td>\n      <td>898310</td>\n    </tr>\n    <tr>\n      <th>418</th>\n      <td>Jordan McRae</td>\n      <td>Washington Wizards</td>\n      <td>PG</td>\n      <td>1991-03-28</td>\n      <td>1645357</td>\n    </tr>\n    <tr>\n      <th>...</th>\n      <td>...</td>\n      <td>...</td>\n      <td>...</td>\n      <td>...</td>\n      <td>...</td>\n    </tr>\n    <tr>\n      <th>194</th>\n      <td>Cam Reddish</td>\n      <td>Atlanta Hawks</td>\n      <td>SF</td>\n      <td>1999-09-01</td>\n      <td>4245720</td>\n    </tr>\n    <tr>\n      <th>438</th>\n      <td>Bruno Fernando</td>\n      <td>Atlanta Hawks</td>\n      <td>C</td>\n      <td>1998-08-15</td>\n      <td>1400000</td>\n    </tr>\n    <tr>\n      <th>276</th>\n      <td>Brandon Goodwin</td>\n      <td>Atlanta Hawks</td>\n      <td>PG</td>\n      <td>1995-10-02</td>\n      <td>79568</td>\n    </tr>\n    <tr>\n      <th>167</th>\n      <td>Allen Crabbe</td>\n      <td>Atlanta Hawks</td>\n      <td>SG</td>\n      <td>1992-04-09</td>\n      <td>18500000</td>\n    </tr>\n    <tr>\n      <th>359</th>\n      <td>Alex Len</td>\n      <td>Atlanta Hawks</td>\n      <td>C</td>\n      <td>1993-06-16</td>\n      <td>4160000</td>\n    </tr>\n  </tbody>\n</table>\n<p>450 rows × 5 columns</p>\n</div>"
     },
     "execution_count": 344,
     "metadata": {},
     "output_type": "execute_result"
    }
   ],
   "source": [
    "nba.sort_values([\"Team\", \"Name\"], ascending=False)"
   ],
   "metadata": {
    "collapsed": false,
    "ExecuteTime": {
     "end_time": "2024-01-14T03:43:39.483829800Z",
     "start_time": "2024-01-14T03:43:39.419940700Z"
    }
   },
   "id": "d13bb0a7a6094268",
   "execution_count": 344
  },
  {
   "cell_type": "code",
   "outputs": [
    {
     "data": {
      "text/plain": "                  Name                Team Position   Birthday    Salary\n111   Chandler Parsons       Atlanta Hawks       SF 1988-10-25  25102512\n28         Evan Turner       Atlanta Hawks       PG 1988-10-27  18606556\n167       Allen Crabbe       Atlanta Hawks       SG 1992-04-09  18500000\n213    De'Andre Hunter       Atlanta Hawks       SF 1997-12-02   7068360\n339      Jabari Parker       Atlanta Hawks       PF 1995-03-15   6500000\n..                 ...                 ...      ...        ...       ...\n80         Isaac Bonga  Washington Wizards       PG 1999-11-08   1416852\n399  Admiral Schofield  Washington Wizards       SF 1997-03-30   1000000\n273    Justin Robinson  Washington Wizards       PG 1997-10-12    898310\n283   Garrison Mathews  Washington Wizards       SG 1996-10-24     79568\n353      Chris Chiozza  Washington Wizards       PG 1995-11-21     79568\n\n[450 rows x 5 columns]",
      "text/html": "<div>\n<style scoped>\n    .dataframe tbody tr th:only-of-type {\n        vertical-align: middle;\n    }\n\n    .dataframe tbody tr th {\n        vertical-align: top;\n    }\n\n    .dataframe thead th {\n        text-align: right;\n    }\n</style>\n<table border=\"1\" class=\"dataframe\">\n  <thead>\n    <tr style=\"text-align: right;\">\n      <th></th>\n      <th>Name</th>\n      <th>Team</th>\n      <th>Position</th>\n      <th>Birthday</th>\n      <th>Salary</th>\n    </tr>\n  </thead>\n  <tbody>\n    <tr>\n      <th>111</th>\n      <td>Chandler Parsons</td>\n      <td>Atlanta Hawks</td>\n      <td>SF</td>\n      <td>1988-10-25</td>\n      <td>25102512</td>\n    </tr>\n    <tr>\n      <th>28</th>\n      <td>Evan Turner</td>\n      <td>Atlanta Hawks</td>\n      <td>PG</td>\n      <td>1988-10-27</td>\n      <td>18606556</td>\n    </tr>\n    <tr>\n      <th>167</th>\n      <td>Allen Crabbe</td>\n      <td>Atlanta Hawks</td>\n      <td>SG</td>\n      <td>1992-04-09</td>\n      <td>18500000</td>\n    </tr>\n    <tr>\n      <th>213</th>\n      <td>De'Andre Hunter</td>\n      <td>Atlanta Hawks</td>\n      <td>SF</td>\n      <td>1997-12-02</td>\n      <td>7068360</td>\n    </tr>\n    <tr>\n      <th>339</th>\n      <td>Jabari Parker</td>\n      <td>Atlanta Hawks</td>\n      <td>PF</td>\n      <td>1995-03-15</td>\n      <td>6500000</td>\n    </tr>\n    <tr>\n      <th>...</th>\n      <td>...</td>\n      <td>...</td>\n      <td>...</td>\n      <td>...</td>\n      <td>...</td>\n    </tr>\n    <tr>\n      <th>80</th>\n      <td>Isaac Bonga</td>\n      <td>Washington Wizards</td>\n      <td>PG</td>\n      <td>1999-11-08</td>\n      <td>1416852</td>\n    </tr>\n    <tr>\n      <th>399</th>\n      <td>Admiral Schofield</td>\n      <td>Washington Wizards</td>\n      <td>SF</td>\n      <td>1997-03-30</td>\n      <td>1000000</td>\n    </tr>\n    <tr>\n      <th>273</th>\n      <td>Justin Robinson</td>\n      <td>Washington Wizards</td>\n      <td>PG</td>\n      <td>1997-10-12</td>\n      <td>898310</td>\n    </tr>\n    <tr>\n      <th>283</th>\n      <td>Garrison Mathews</td>\n      <td>Washington Wizards</td>\n      <td>SG</td>\n      <td>1996-10-24</td>\n      <td>79568</td>\n    </tr>\n    <tr>\n      <th>353</th>\n      <td>Chris Chiozza</td>\n      <td>Washington Wizards</td>\n      <td>PG</td>\n      <td>1995-11-21</td>\n      <td>79568</td>\n    </tr>\n  </tbody>\n</table>\n<p>450 rows × 5 columns</p>\n</div>"
     },
     "execution_count": 345,
     "metadata": {},
     "output_type": "execute_result"
    }
   ],
   "source": [
    "nba.sort_values([\"Team\",\"Salary\"], ascending=[True,False])"
   ],
   "metadata": {
    "collapsed": false,
    "ExecuteTime": {
     "end_time": "2024-01-14T03:44:04.720799500Z",
     "start_time": "2024-01-14T03:44:04.659035200Z"
    }
   },
   "id": "1f688357f604b83a",
   "execution_count": 345
  },
  {
   "cell_type": "code",
   "outputs": [
    {
     "data": {
      "text/plain": "             Name                Team Position   Birthday   Salary\n0    Shake Milton  Philadelphia 76ers       SG 1996-09-26  1445697\n1  Christian Wood     Detroit Pistons       PF 1995-09-27  1645357\n2   PJ Washington   Charlotte Hornets       PF 1998-08-23  3831840\n3    Derrick Rose     Detroit Pistons       PG 1988-10-04  7317074\n4   Marial Shayok  Philadelphia 76ers        G 1995-07-26    79568",
      "text/html": "<div>\n<style scoped>\n    .dataframe tbody tr th:only-of-type {\n        vertical-align: middle;\n    }\n\n    .dataframe tbody tr th {\n        vertical-align: top;\n    }\n\n    .dataframe thead th {\n        text-align: right;\n    }\n</style>\n<table border=\"1\" class=\"dataframe\">\n  <thead>\n    <tr style=\"text-align: right;\">\n      <th></th>\n      <th>Name</th>\n      <th>Team</th>\n      <th>Position</th>\n      <th>Birthday</th>\n      <th>Salary</th>\n    </tr>\n  </thead>\n  <tbody>\n    <tr>\n      <th>0</th>\n      <td>Shake Milton</td>\n      <td>Philadelphia 76ers</td>\n      <td>SG</td>\n      <td>1996-09-26</td>\n      <td>1445697</td>\n    </tr>\n    <tr>\n      <th>1</th>\n      <td>Christian Wood</td>\n      <td>Detroit Pistons</td>\n      <td>PF</td>\n      <td>1995-09-27</td>\n      <td>1645357</td>\n    </tr>\n    <tr>\n      <th>2</th>\n      <td>PJ Washington</td>\n      <td>Charlotte Hornets</td>\n      <td>PF</td>\n      <td>1998-08-23</td>\n      <td>3831840</td>\n    </tr>\n    <tr>\n      <th>3</th>\n      <td>Derrick Rose</td>\n      <td>Detroit Pistons</td>\n      <td>PG</td>\n      <td>1988-10-04</td>\n      <td>7317074</td>\n    </tr>\n    <tr>\n      <th>4</th>\n      <td>Marial Shayok</td>\n      <td>Philadelphia 76ers</td>\n      <td>G</td>\n      <td>1995-07-26</td>\n      <td>79568</td>\n    </tr>\n  </tbody>\n</table>\n</div>"
     },
     "execution_count": 346,
     "metadata": {},
     "output_type": "execute_result"
    }
   ],
   "source": [
    "nba.head()"
   ],
   "metadata": {
    "collapsed": false,
    "ExecuteTime": {
     "end_time": "2024-01-14T03:44:26.845192700Z",
     "start_time": "2024-01-14T03:44:26.786809Z"
    }
   },
   "id": "99cf5827867ee1bc",
   "execution_count": 346
  },
  {
   "cell_type": "code",
   "outputs": [
    {
     "data": {
      "text/plain": "             Name                Team Position   Birthday   Salary\n0    Shake Milton  Philadelphia 76ers       SG 1996-09-26  1445697\n1  Christian Wood     Detroit Pistons       PF 1995-09-27  1645357\n2   PJ Washington   Charlotte Hornets       PF 1998-08-23  3831840\n3    Derrick Rose     Detroit Pistons       PG 1988-10-04  7317074",
      "text/html": "<div>\n<style scoped>\n    .dataframe tbody tr th:only-of-type {\n        vertical-align: middle;\n    }\n\n    .dataframe tbody tr th {\n        vertical-align: top;\n    }\n\n    .dataframe thead th {\n        text-align: right;\n    }\n</style>\n<table border=\"1\" class=\"dataframe\">\n  <thead>\n    <tr style=\"text-align: right;\">\n      <th></th>\n      <th>Name</th>\n      <th>Team</th>\n      <th>Position</th>\n      <th>Birthday</th>\n      <th>Salary</th>\n    </tr>\n  </thead>\n  <tbody>\n    <tr>\n      <th>0</th>\n      <td>Shake Milton</td>\n      <td>Philadelphia 76ers</td>\n      <td>SG</td>\n      <td>1996-09-26</td>\n      <td>1445697</td>\n    </tr>\n    <tr>\n      <th>1</th>\n      <td>Christian Wood</td>\n      <td>Detroit Pistons</td>\n      <td>PF</td>\n      <td>1995-09-27</td>\n      <td>1645357</td>\n    </tr>\n    <tr>\n      <th>2</th>\n      <td>PJ Washington</td>\n      <td>Charlotte Hornets</td>\n      <td>PF</td>\n      <td>1998-08-23</td>\n      <td>3831840</td>\n    </tr>\n    <tr>\n      <th>3</th>\n      <td>Derrick Rose</td>\n      <td>Detroit Pistons</td>\n      <td>PG</td>\n      <td>1988-10-04</td>\n      <td>7317074</td>\n    </tr>\n  </tbody>\n</table>\n</div>"
     },
     "execution_count": 347,
     "metadata": {},
     "output_type": "execute_result"
    }
   ],
   "source": [
    "nba.sort_index().head(4)"
   ],
   "metadata": {
    "collapsed": false,
    "ExecuteTime": {
     "end_time": "2024-01-14T03:44:36.887067300Z",
     "start_time": "2024-01-14T03:44:36.766830900Z"
    }
   },
   "id": "d229b01a0883c3b8",
   "execution_count": 347
  },
  {
   "cell_type": "code",
   "outputs": [
    {
     "data": {
      "text/plain": "              Name                 Team Position   Birthday    Salary\n449    Ricky Rubio         Phoenix Suns       PG 1990-10-21  16200000\n448  Collin Sexton  Cleveland Cavaliers       PG 1999-01-04   4764960\n447    Robin Lopez      Milwaukee Bucks        C 1988-04-01   4767000\n446    Harry Giles     Sacramento Kings       PF 1998-04-22   2578800\n445  Austin Rivers      Houston Rockets       PG 1992-08-01   2174310",
      "text/html": "<div>\n<style scoped>\n    .dataframe tbody tr th:only-of-type {\n        vertical-align: middle;\n    }\n\n    .dataframe tbody tr th {\n        vertical-align: top;\n    }\n\n    .dataframe thead th {\n        text-align: right;\n    }\n</style>\n<table border=\"1\" class=\"dataframe\">\n  <thead>\n    <tr style=\"text-align: right;\">\n      <th></th>\n      <th>Name</th>\n      <th>Team</th>\n      <th>Position</th>\n      <th>Birthday</th>\n      <th>Salary</th>\n    </tr>\n  </thead>\n  <tbody>\n    <tr>\n      <th>449</th>\n      <td>Ricky Rubio</td>\n      <td>Phoenix Suns</td>\n      <td>PG</td>\n      <td>1990-10-21</td>\n      <td>16200000</td>\n    </tr>\n    <tr>\n      <th>448</th>\n      <td>Collin Sexton</td>\n      <td>Cleveland Cavaliers</td>\n      <td>PG</td>\n      <td>1999-01-04</td>\n      <td>4764960</td>\n    </tr>\n    <tr>\n      <th>447</th>\n      <td>Robin Lopez</td>\n      <td>Milwaukee Bucks</td>\n      <td>C</td>\n      <td>1988-04-01</td>\n      <td>4767000</td>\n    </tr>\n    <tr>\n      <th>446</th>\n      <td>Harry Giles</td>\n      <td>Sacramento Kings</td>\n      <td>PF</td>\n      <td>1998-04-22</td>\n      <td>2578800</td>\n    </tr>\n    <tr>\n      <th>445</th>\n      <td>Austin Rivers</td>\n      <td>Houston Rockets</td>\n      <td>PG</td>\n      <td>1992-08-01</td>\n      <td>2174310</td>\n    </tr>\n  </tbody>\n</table>\n</div>"
     },
     "execution_count": 348,
     "metadata": {},
     "output_type": "execute_result"
    }
   ],
   "source": [
    "nba.sort_index(ascending=False).head()"
   ],
   "metadata": {
    "collapsed": false,
    "ExecuteTime": {
     "end_time": "2024-01-14T03:44:48.512199300Z",
     "start_time": "2024-01-14T03:44:48.404240100Z"
    }
   },
   "id": "892e076cea11959e",
   "execution_count": 348
  },
  {
   "cell_type": "code",
   "outputs": [
    {
     "data": {
      "text/plain": "    Birthday            Name Position   Salary                Team\n0 1996-09-26    Shake Milton       SG  1445697  Philadelphia 76ers\n1 1995-09-27  Christian Wood       PF  1645357     Detroit Pistons\n2 1998-08-23   PJ Washington       PF  3831840   Charlotte Hornets\n3 1988-10-04    Derrick Rose       PG  7317074     Detroit Pistons\n4 1995-07-26   Marial Shayok        G    79568  Philadelphia 76ers",
      "text/html": "<div>\n<style scoped>\n    .dataframe tbody tr th:only-of-type {\n        vertical-align: middle;\n    }\n\n    .dataframe tbody tr th {\n        vertical-align: top;\n    }\n\n    .dataframe thead th {\n        text-align: right;\n    }\n</style>\n<table border=\"1\" class=\"dataframe\">\n  <thead>\n    <tr style=\"text-align: right;\">\n      <th></th>\n      <th>Birthday</th>\n      <th>Name</th>\n      <th>Position</th>\n      <th>Salary</th>\n      <th>Team</th>\n    </tr>\n  </thead>\n  <tbody>\n    <tr>\n      <th>0</th>\n      <td>1996-09-26</td>\n      <td>Shake Milton</td>\n      <td>SG</td>\n      <td>1445697</td>\n      <td>Philadelphia 76ers</td>\n    </tr>\n    <tr>\n      <th>1</th>\n      <td>1995-09-27</td>\n      <td>Christian Wood</td>\n      <td>PF</td>\n      <td>1645357</td>\n      <td>Detroit Pistons</td>\n    </tr>\n    <tr>\n      <th>2</th>\n      <td>1998-08-23</td>\n      <td>PJ Washington</td>\n      <td>PF</td>\n      <td>3831840</td>\n      <td>Charlotte Hornets</td>\n    </tr>\n    <tr>\n      <th>3</th>\n      <td>1988-10-04</td>\n      <td>Derrick Rose</td>\n      <td>PG</td>\n      <td>7317074</td>\n      <td>Detroit Pistons</td>\n    </tr>\n    <tr>\n      <th>4</th>\n      <td>1995-07-26</td>\n      <td>Marial Shayok</td>\n      <td>G</td>\n      <td>79568</td>\n      <td>Philadelphia 76ers</td>\n    </tr>\n  </tbody>\n</table>\n</div>"
     },
     "execution_count": 349,
     "metadata": {},
     "output_type": "execute_result"
    }
   ],
   "source": [
    "nba.sort_index(axis='columns').head()"
   ],
   "metadata": {
    "collapsed": false,
    "ExecuteTime": {
     "end_time": "2024-01-14T03:45:04.270873700Z",
     "start_time": "2024-01-14T03:45:04.199057400Z"
    }
   },
   "id": "11852188f7b09905",
   "execution_count": 349
  },
  {
   "cell_type": "code",
   "outputs": [
    {
     "data": {
      "text/plain": "    Birthday            Name Position    Salary                   Team\n0 1996-09-26    Shake Milton       SG   1445697     Philadelphia 76ers\n1 1995-09-27  Christian Wood       PF   1645357        Detroit Pistons\n2 1998-08-23   PJ Washington       PF   3831840      Charlotte Hornets\n3 1988-10-04    Derrick Rose       PG   7317074        Detroit Pistons\n4 1995-07-26   Marial Shayok        G     79568     Philadelphia 76ers\n5 1990-03-04  Draymond Green       PF  18539130  Golden State Warriors\n6 1995-08-03   Kendrick Nunn       SG   1416852             Miami Heat\n7 1995-04-08      Cedi Osman       SF   2907143    Cleveland Cavaliers\n8 1988-04-01     Brook Lopez        C  12093024        Milwaukee Bucks\n9 1990-12-19    Torrey Craig       SF   2000000         Denver Nuggets",
      "text/html": "<div>\n<style scoped>\n    .dataframe tbody tr th:only-of-type {\n        vertical-align: middle;\n    }\n\n    .dataframe tbody tr th {\n        vertical-align: top;\n    }\n\n    .dataframe thead th {\n        text-align: right;\n    }\n</style>\n<table border=\"1\" class=\"dataframe\">\n  <thead>\n    <tr style=\"text-align: right;\">\n      <th></th>\n      <th>Birthday</th>\n      <th>Name</th>\n      <th>Position</th>\n      <th>Salary</th>\n      <th>Team</th>\n    </tr>\n  </thead>\n  <tbody>\n    <tr>\n      <th>0</th>\n      <td>1996-09-26</td>\n      <td>Shake Milton</td>\n      <td>SG</td>\n      <td>1445697</td>\n      <td>Philadelphia 76ers</td>\n    </tr>\n    <tr>\n      <th>1</th>\n      <td>1995-09-27</td>\n      <td>Christian Wood</td>\n      <td>PF</td>\n      <td>1645357</td>\n      <td>Detroit Pistons</td>\n    </tr>\n    <tr>\n      <th>2</th>\n      <td>1998-08-23</td>\n      <td>PJ Washington</td>\n      <td>PF</td>\n      <td>3831840</td>\n      <td>Charlotte Hornets</td>\n    </tr>\n    <tr>\n      <th>3</th>\n      <td>1988-10-04</td>\n      <td>Derrick Rose</td>\n      <td>PG</td>\n      <td>7317074</td>\n      <td>Detroit Pistons</td>\n    </tr>\n    <tr>\n      <th>4</th>\n      <td>1995-07-26</td>\n      <td>Marial Shayok</td>\n      <td>G</td>\n      <td>79568</td>\n      <td>Philadelphia 76ers</td>\n    </tr>\n    <tr>\n      <th>5</th>\n      <td>1990-03-04</td>\n      <td>Draymond Green</td>\n      <td>PF</td>\n      <td>18539130</td>\n      <td>Golden State Warriors</td>\n    </tr>\n    <tr>\n      <th>6</th>\n      <td>1995-08-03</td>\n      <td>Kendrick Nunn</td>\n      <td>SG</td>\n      <td>1416852</td>\n      <td>Miami Heat</td>\n    </tr>\n    <tr>\n      <th>7</th>\n      <td>1995-04-08</td>\n      <td>Cedi Osman</td>\n      <td>SF</td>\n      <td>2907143</td>\n      <td>Cleveland Cavaliers</td>\n    </tr>\n    <tr>\n      <th>8</th>\n      <td>1988-04-01</td>\n      <td>Brook Lopez</td>\n      <td>C</td>\n      <td>12093024</td>\n      <td>Milwaukee Bucks</td>\n    </tr>\n    <tr>\n      <th>9</th>\n      <td>1990-12-19</td>\n      <td>Torrey Craig</td>\n      <td>SF</td>\n      <td>2000000</td>\n      <td>Denver Nuggets</td>\n    </tr>\n  </tbody>\n</table>\n</div>"
     },
     "execution_count": 350,
     "metadata": {},
     "output_type": "execute_result"
    }
   ],
   "source": [
    "nba.sort_index(axis=1).head(10)"
   ],
   "metadata": {
    "collapsed": false,
    "ExecuteTime": {
     "end_time": "2024-01-14T03:45:17.197552500Z",
     "start_time": "2024-01-14T03:45:17.110959200Z"
    }
   },
   "id": "6cf19f3e88a59597",
   "execution_count": 350
  },
  {
   "cell_type": "code",
   "outputs": [
    {
     "data": {
      "text/plain": "                               Team Position   Birthday    Salary\nName                                                             \nShake Milton     Philadelphia 76ers       SG 1996-09-26   1445697\nChristian Wood      Detroit Pistons       PF 1995-09-27   1645357\nPJ Washington     Charlotte Hornets       PF 1998-08-23   3831840\nDerrick Rose        Detroit Pistons       PG 1988-10-04   7317074\nMarial Shayok    Philadelphia 76ers        G 1995-07-26     79568\n...                             ...      ...        ...       ...\nAustin Rivers       Houston Rockets       PG 1992-08-01   2174310\nHarry Giles        Sacramento Kings       PF 1998-04-22   2578800\nRobin Lopez         Milwaukee Bucks        C 1988-04-01   4767000\nCollin Sexton   Cleveland Cavaliers       PG 1999-01-04   4764960\nRicky Rubio            Phoenix Suns       PG 1990-10-21  16200000\n\n[450 rows x 4 columns]",
      "text/html": "<div>\n<style scoped>\n    .dataframe tbody tr th:only-of-type {\n        vertical-align: middle;\n    }\n\n    .dataframe tbody tr th {\n        vertical-align: top;\n    }\n\n    .dataframe thead th {\n        text-align: right;\n    }\n</style>\n<table border=\"1\" class=\"dataframe\">\n  <thead>\n    <tr style=\"text-align: right;\">\n      <th></th>\n      <th>Team</th>\n      <th>Position</th>\n      <th>Birthday</th>\n      <th>Salary</th>\n    </tr>\n    <tr>\n      <th>Name</th>\n      <th></th>\n      <th></th>\n      <th></th>\n      <th></th>\n    </tr>\n  </thead>\n  <tbody>\n    <tr>\n      <th>Shake Milton</th>\n      <td>Philadelphia 76ers</td>\n      <td>SG</td>\n      <td>1996-09-26</td>\n      <td>1445697</td>\n    </tr>\n    <tr>\n      <th>Christian Wood</th>\n      <td>Detroit Pistons</td>\n      <td>PF</td>\n      <td>1995-09-27</td>\n      <td>1645357</td>\n    </tr>\n    <tr>\n      <th>PJ Washington</th>\n      <td>Charlotte Hornets</td>\n      <td>PF</td>\n      <td>1998-08-23</td>\n      <td>3831840</td>\n    </tr>\n    <tr>\n      <th>Derrick Rose</th>\n      <td>Detroit Pistons</td>\n      <td>PG</td>\n      <td>1988-10-04</td>\n      <td>7317074</td>\n    </tr>\n    <tr>\n      <th>Marial Shayok</th>\n      <td>Philadelphia 76ers</td>\n      <td>G</td>\n      <td>1995-07-26</td>\n      <td>79568</td>\n    </tr>\n    <tr>\n      <th>...</th>\n      <td>...</td>\n      <td>...</td>\n      <td>...</td>\n      <td>...</td>\n    </tr>\n    <tr>\n      <th>Austin Rivers</th>\n      <td>Houston Rockets</td>\n      <td>PG</td>\n      <td>1992-08-01</td>\n      <td>2174310</td>\n    </tr>\n    <tr>\n      <th>Harry Giles</th>\n      <td>Sacramento Kings</td>\n      <td>PF</td>\n      <td>1998-04-22</td>\n      <td>2578800</td>\n    </tr>\n    <tr>\n      <th>Robin Lopez</th>\n      <td>Milwaukee Bucks</td>\n      <td>C</td>\n      <td>1988-04-01</td>\n      <td>4767000</td>\n    </tr>\n    <tr>\n      <th>Collin Sexton</th>\n      <td>Cleveland Cavaliers</td>\n      <td>PG</td>\n      <td>1999-01-04</td>\n      <td>4764960</td>\n    </tr>\n    <tr>\n      <th>Ricky Rubio</th>\n      <td>Phoenix Suns</td>\n      <td>PG</td>\n      <td>1990-10-21</td>\n      <td>16200000</td>\n    </tr>\n  </tbody>\n</table>\n<p>450 rows × 4 columns</p>\n</div>"
     },
     "execution_count": 352,
     "metadata": {},
     "output_type": "execute_result"
    }
   ],
   "source": [
    "nba.set_index(keys = 'Name')"
   ],
   "metadata": {
    "collapsed": false,
    "ExecuteTime": {
     "end_time": "2024-01-14T03:45:40.865711700Z",
     "start_time": "2024-01-14T03:45:40.703071300Z"
    }
   },
   "id": "b69b8843d660b52b",
   "execution_count": 352
  },
  {
   "cell_type": "code",
   "outputs": [
    {
     "data": {
      "text/plain": "                               Team Position   Birthday    Salary\nName                                                             \nShake Milton     Philadelphia 76ers       SG 1996-09-26   1445697\nChristian Wood      Detroit Pistons       PF 1995-09-27   1645357\nPJ Washington     Charlotte Hornets       PF 1998-08-23   3831840\nDerrick Rose        Detroit Pistons       PG 1988-10-04   7317074\nMarial Shayok    Philadelphia 76ers        G 1995-07-26     79568\n...                             ...      ...        ...       ...\nAustin Rivers       Houston Rockets       PG 1992-08-01   2174310\nHarry Giles        Sacramento Kings       PF 1998-04-22   2578800\nRobin Lopez         Milwaukee Bucks        C 1988-04-01   4767000\nCollin Sexton   Cleveland Cavaliers       PG 1999-01-04   4764960\nRicky Rubio            Phoenix Suns       PG 1990-10-21  16200000\n\n[450 rows x 4 columns]",
      "text/html": "<div>\n<style scoped>\n    .dataframe tbody tr th:only-of-type {\n        vertical-align: middle;\n    }\n\n    .dataframe tbody tr th {\n        vertical-align: top;\n    }\n\n    .dataframe thead th {\n        text-align: right;\n    }\n</style>\n<table border=\"1\" class=\"dataframe\">\n  <thead>\n    <tr style=\"text-align: right;\">\n      <th></th>\n      <th>Team</th>\n      <th>Position</th>\n      <th>Birthday</th>\n      <th>Salary</th>\n    </tr>\n    <tr>\n      <th>Name</th>\n      <th></th>\n      <th></th>\n      <th></th>\n      <th></th>\n    </tr>\n  </thead>\n  <tbody>\n    <tr>\n      <th>Shake Milton</th>\n      <td>Philadelphia 76ers</td>\n      <td>SG</td>\n      <td>1996-09-26</td>\n      <td>1445697</td>\n    </tr>\n    <tr>\n      <th>Christian Wood</th>\n      <td>Detroit Pistons</td>\n      <td>PF</td>\n      <td>1995-09-27</td>\n      <td>1645357</td>\n    </tr>\n    <tr>\n      <th>PJ Washington</th>\n      <td>Charlotte Hornets</td>\n      <td>PF</td>\n      <td>1998-08-23</td>\n      <td>3831840</td>\n    </tr>\n    <tr>\n      <th>Derrick Rose</th>\n      <td>Detroit Pistons</td>\n      <td>PG</td>\n      <td>1988-10-04</td>\n      <td>7317074</td>\n    </tr>\n    <tr>\n      <th>Marial Shayok</th>\n      <td>Philadelphia 76ers</td>\n      <td>G</td>\n      <td>1995-07-26</td>\n      <td>79568</td>\n    </tr>\n    <tr>\n      <th>...</th>\n      <td>...</td>\n      <td>...</td>\n      <td>...</td>\n      <td>...</td>\n    </tr>\n    <tr>\n      <th>Austin Rivers</th>\n      <td>Houston Rockets</td>\n      <td>PG</td>\n      <td>1992-08-01</td>\n      <td>2174310</td>\n    </tr>\n    <tr>\n      <th>Harry Giles</th>\n      <td>Sacramento Kings</td>\n      <td>PF</td>\n      <td>1998-04-22</td>\n      <td>2578800</td>\n    </tr>\n    <tr>\n      <th>Robin Lopez</th>\n      <td>Milwaukee Bucks</td>\n      <td>C</td>\n      <td>1988-04-01</td>\n      <td>4767000</td>\n    </tr>\n    <tr>\n      <th>Collin Sexton</th>\n      <td>Cleveland Cavaliers</td>\n      <td>PG</td>\n      <td>1999-01-04</td>\n      <td>4764960</td>\n    </tr>\n    <tr>\n      <th>Ricky Rubio</th>\n      <td>Phoenix Suns</td>\n      <td>PG</td>\n      <td>1990-10-21</td>\n      <td>16200000</td>\n    </tr>\n  </tbody>\n</table>\n<p>450 rows × 4 columns</p>\n</div>"
     },
     "execution_count": 354,
     "metadata": {},
     "output_type": "execute_result"
    }
   ],
   "source": [
    "nba_nameindex = nba.set_index(keys='Name')\n",
    "nba_nameindex"
   ],
   "metadata": {
    "collapsed": false,
    "ExecuteTime": {
     "end_time": "2024-01-14T03:46:11.793853Z",
     "start_time": "2024-01-14T03:46:11.725423200Z"
    }
   },
   "id": "4afb8e1d2e2edef1",
   "execution_count": 354
  },
  {
   "cell_type": "code",
   "outputs": [
    {
     "name": "stderr",
     "output_type": "stream",
     "text": [
      "C:\\Users\\Administrator\\AppData\\Local\\Temp\\ipykernel_15312\\1477967159.py:1: UserWarning: Could not infer format, so each element will be parsed individually, falling back to `dateutil`. To ensure parsing is consistent and as-expected, please specify a format.\n",
      "  nba_nameindex_csv = pd.read_csv(\"../DATA/nba.csv\",\n"
     ]
    },
    {
     "data": {
      "text/plain": "                               Team Position   Birthday    Salary\nName                                                             \nShake Milton     Philadelphia 76ers       SG 1996-09-26   1445697\nChristian Wood      Detroit Pistons       PF 1995-09-27   1645357\nPJ Washington     Charlotte Hornets       PF 1998-08-23   3831840\nDerrick Rose        Detroit Pistons       PG 1988-10-04   7317074\nMarial Shayok    Philadelphia 76ers        G 1995-07-26     79568\n...                             ...      ...        ...       ...\nAustin Rivers       Houston Rockets       PG 1992-08-01   2174310\nHarry Giles        Sacramento Kings       PF 1998-04-22   2578800\nRobin Lopez         Milwaukee Bucks        C 1988-04-01   4767000\nCollin Sexton   Cleveland Cavaliers       PG 1999-01-04   4764960\nRicky Rubio            Phoenix Suns       PG 1990-10-21  16200000\n\n[450 rows x 4 columns]",
      "text/html": "<div>\n<style scoped>\n    .dataframe tbody tr th:only-of-type {\n        vertical-align: middle;\n    }\n\n    .dataframe tbody tr th {\n        vertical-align: top;\n    }\n\n    .dataframe thead th {\n        text-align: right;\n    }\n</style>\n<table border=\"1\" class=\"dataframe\">\n  <thead>\n    <tr style=\"text-align: right;\">\n      <th></th>\n      <th>Team</th>\n      <th>Position</th>\n      <th>Birthday</th>\n      <th>Salary</th>\n    </tr>\n    <tr>\n      <th>Name</th>\n      <th></th>\n      <th></th>\n      <th></th>\n      <th></th>\n    </tr>\n  </thead>\n  <tbody>\n    <tr>\n      <th>Shake Milton</th>\n      <td>Philadelphia 76ers</td>\n      <td>SG</td>\n      <td>1996-09-26</td>\n      <td>1445697</td>\n    </tr>\n    <tr>\n      <th>Christian Wood</th>\n      <td>Detroit Pistons</td>\n      <td>PF</td>\n      <td>1995-09-27</td>\n      <td>1645357</td>\n    </tr>\n    <tr>\n      <th>PJ Washington</th>\n      <td>Charlotte Hornets</td>\n      <td>PF</td>\n      <td>1998-08-23</td>\n      <td>3831840</td>\n    </tr>\n    <tr>\n      <th>Derrick Rose</th>\n      <td>Detroit Pistons</td>\n      <td>PG</td>\n      <td>1988-10-04</td>\n      <td>7317074</td>\n    </tr>\n    <tr>\n      <th>Marial Shayok</th>\n      <td>Philadelphia 76ers</td>\n      <td>G</td>\n      <td>1995-07-26</td>\n      <td>79568</td>\n    </tr>\n    <tr>\n      <th>...</th>\n      <td>...</td>\n      <td>...</td>\n      <td>...</td>\n      <td>...</td>\n    </tr>\n    <tr>\n      <th>Austin Rivers</th>\n      <td>Houston Rockets</td>\n      <td>PG</td>\n      <td>1992-08-01</td>\n      <td>2174310</td>\n    </tr>\n    <tr>\n      <th>Harry Giles</th>\n      <td>Sacramento Kings</td>\n      <td>PF</td>\n      <td>1998-04-22</td>\n      <td>2578800</td>\n    </tr>\n    <tr>\n      <th>Robin Lopez</th>\n      <td>Milwaukee Bucks</td>\n      <td>C</td>\n      <td>1988-04-01</td>\n      <td>4767000</td>\n    </tr>\n    <tr>\n      <th>Collin Sexton</th>\n      <td>Cleveland Cavaliers</td>\n      <td>PG</td>\n      <td>1999-01-04</td>\n      <td>4764960</td>\n    </tr>\n    <tr>\n      <th>Ricky Rubio</th>\n      <td>Phoenix Suns</td>\n      <td>PG</td>\n      <td>1990-10-21</td>\n      <td>16200000</td>\n    </tr>\n  </tbody>\n</table>\n<p>450 rows × 4 columns</p>\n</div>"
     },
     "execution_count": 355,
     "metadata": {},
     "output_type": "execute_result"
    }
   ],
   "source": [
    "nba_nameindex_csv = pd.read_csv(\"../DATA/nba.csv\",\n",
    "                                parse_dates=[\"Birthday\"],\n",
    "                                index_col=\"Name\")\n",
    "nba_nameindex_csv"
   ],
   "metadata": {
    "collapsed": false,
    "ExecuteTime": {
     "end_time": "2024-01-14T03:46:55.676552200Z",
     "start_time": "2024-01-14T03:46:55.575970700Z"
    }
   },
   "id": "7497ea3a6da98934",
   "execution_count": 355
  },
  {
   "cell_type": "code",
   "outputs": [
    {
     "data": {
      "text/plain": "0       1445697\n1       1645357\n2       3831840\n3       7317074\n4         79568\n         ...   \n445     2174310\n446     2578800\n447     4767000\n448     4764960\n449    16200000\nName: Salary, Length: 450, dtype: int64"
     },
     "execution_count": 356,
     "metadata": {},
     "output_type": "execute_result"
    }
   ],
   "source": [
    "nba.Salary"
   ],
   "metadata": {
    "collapsed": false,
    "ExecuteTime": {
     "end_time": "2024-01-14T03:47:04.046055600Z",
     "start_time": "2024-01-14T03:47:03.979344200Z"
    }
   },
   "id": "49e083fdeed7e83e",
   "execution_count": 356
  },
  {
   "cell_type": "code",
   "outputs": [
    {
     "data": {
      "text/plain": "0      SG\n1      PF\n2      PF\n3      PG\n4       G\n       ..\n445    PG\n446    PF\n447     C\n448    PG\n449    PG\nName: Position, Length: 450, dtype: object"
     },
     "execution_count": 357,
     "metadata": {},
     "output_type": "execute_result"
    }
   ],
   "source": [
    "nba[\"Position\"]"
   ],
   "metadata": {
    "collapsed": false,
    "ExecuteTime": {
     "end_time": "2024-01-14T03:47:11.104931900Z",
     "start_time": "2024-01-14T03:47:11.042087500Z"
    }
   },
   "id": "15277139c378e910",
   "execution_count": 357
  },
  {
   "cell_type": "code",
   "outputs": [
    {
     "data": {
      "text/plain": "    Salary   Birthday\n0  1445697 1996-09-26\n1  1645357 1995-09-27\n2  3831840 1998-08-23\n3  7317074 1988-10-04\n4    79568 1995-07-26",
      "text/html": "<div>\n<style scoped>\n    .dataframe tbody tr th:only-of-type {\n        vertical-align: middle;\n    }\n\n    .dataframe tbody tr th {\n        vertical-align: top;\n    }\n\n    .dataframe thead th {\n        text-align: right;\n    }\n</style>\n<table border=\"1\" class=\"dataframe\">\n  <thead>\n    <tr style=\"text-align: right;\">\n      <th></th>\n      <th>Salary</th>\n      <th>Birthday</th>\n    </tr>\n  </thead>\n  <tbody>\n    <tr>\n      <th>0</th>\n      <td>1445697</td>\n      <td>1996-09-26</td>\n    </tr>\n    <tr>\n      <th>1</th>\n      <td>1645357</td>\n      <td>1995-09-27</td>\n    </tr>\n    <tr>\n      <th>2</th>\n      <td>3831840</td>\n      <td>1998-08-23</td>\n    </tr>\n    <tr>\n      <th>3</th>\n      <td>7317074</td>\n      <td>1988-10-04</td>\n    </tr>\n    <tr>\n      <th>4</th>\n      <td>79568</td>\n      <td>1995-07-26</td>\n    </tr>\n  </tbody>\n</table>\n</div>"
     },
     "execution_count": 358,
     "metadata": {},
     "output_type": "execute_result"
    }
   ],
   "source": [
    "nba[[\"Salary\",\"Birthday\"]].head()"
   ],
   "metadata": {
    "collapsed": false,
    "ExecuteTime": {
     "end_time": "2024-01-14T03:47:27.128047400Z",
     "start_time": "2024-01-14T03:47:27.062848600Z"
    }
   },
   "id": "13fb21f299054b91",
   "execution_count": 358
  },
  {
   "cell_type": "code",
   "outputs": [
    {
     "data": {
      "text/plain": "               Name                 Team Position\n0      Shake Milton   Philadelphia 76ers       SG\n1    Christian Wood      Detroit Pistons       PF\n2     PJ Washington    Charlotte Hornets       PF\n3      Derrick Rose      Detroit Pistons       PG\n4     Marial Shayok   Philadelphia 76ers        G\n..              ...                  ...      ...\n445   Austin Rivers      Houston Rockets       PG\n446     Harry Giles     Sacramento Kings       PF\n447     Robin Lopez      Milwaukee Bucks        C\n448   Collin Sexton  Cleveland Cavaliers       PG\n449     Ricky Rubio         Phoenix Suns       PG\n\n[450 rows x 3 columns]",
      "text/html": "<div>\n<style scoped>\n    .dataframe tbody tr th:only-of-type {\n        vertical-align: middle;\n    }\n\n    .dataframe tbody tr th {\n        vertical-align: top;\n    }\n\n    .dataframe thead th {\n        text-align: right;\n    }\n</style>\n<table border=\"1\" class=\"dataframe\">\n  <thead>\n    <tr style=\"text-align: right;\">\n      <th></th>\n      <th>Name</th>\n      <th>Team</th>\n      <th>Position</th>\n    </tr>\n  </thead>\n  <tbody>\n    <tr>\n      <th>0</th>\n      <td>Shake Milton</td>\n      <td>Philadelphia 76ers</td>\n      <td>SG</td>\n    </tr>\n    <tr>\n      <th>1</th>\n      <td>Christian Wood</td>\n      <td>Detroit Pistons</td>\n      <td>PF</td>\n    </tr>\n    <tr>\n      <th>2</th>\n      <td>PJ Washington</td>\n      <td>Charlotte Hornets</td>\n      <td>PF</td>\n    </tr>\n    <tr>\n      <th>3</th>\n      <td>Derrick Rose</td>\n      <td>Detroit Pistons</td>\n      <td>PG</td>\n    </tr>\n    <tr>\n      <th>4</th>\n      <td>Marial Shayok</td>\n      <td>Philadelphia 76ers</td>\n      <td>G</td>\n    </tr>\n    <tr>\n      <th>...</th>\n      <td>...</td>\n      <td>...</td>\n      <td>...</td>\n    </tr>\n    <tr>\n      <th>445</th>\n      <td>Austin Rivers</td>\n      <td>Houston Rockets</td>\n      <td>PG</td>\n    </tr>\n    <tr>\n      <th>446</th>\n      <td>Harry Giles</td>\n      <td>Sacramento Kings</td>\n      <td>PF</td>\n    </tr>\n    <tr>\n      <th>447</th>\n      <td>Robin Lopez</td>\n      <td>Milwaukee Bucks</td>\n      <td>C</td>\n    </tr>\n    <tr>\n      <th>448</th>\n      <td>Collin Sexton</td>\n      <td>Cleveland Cavaliers</td>\n      <td>PG</td>\n    </tr>\n    <tr>\n      <th>449</th>\n      <td>Ricky Rubio</td>\n      <td>Phoenix Suns</td>\n      <td>PG</td>\n    </tr>\n  </tbody>\n</table>\n<p>450 rows × 3 columns</p>\n</div>"
     },
     "execution_count": 359,
     "metadata": {},
     "output_type": "execute_result"
    }
   ],
   "source": [
    "nba.select_dtypes(include=\"object\")"
   ],
   "metadata": {
    "collapsed": false,
    "ExecuteTime": {
     "end_time": "2024-01-14T03:47:41.491093900Z",
     "start_time": "2024-01-14T03:47:41.407089800Z"
    }
   },
   "id": "40b9b12c808e84c4",
   "execution_count": 359
  },
  {
   "cell_type": "code",
   "outputs": [
    {
     "data": {
      "text/plain": "      Birthday\n0   1996-09-26\n1   1995-09-27\n2   1998-08-23\n3   1988-10-04\n4   1995-07-26\n..         ...\n445 1992-08-01\n446 1998-04-22\n447 1988-04-01\n448 1999-01-04\n449 1990-10-21\n\n[450 rows x 1 columns]",
      "text/html": "<div>\n<style scoped>\n    .dataframe tbody tr th:only-of-type {\n        vertical-align: middle;\n    }\n\n    .dataframe tbody tr th {\n        vertical-align: top;\n    }\n\n    .dataframe thead th {\n        text-align: right;\n    }\n</style>\n<table border=\"1\" class=\"dataframe\">\n  <thead>\n    <tr style=\"text-align: right;\">\n      <th></th>\n      <th>Birthday</th>\n    </tr>\n  </thead>\n  <tbody>\n    <tr>\n      <th>0</th>\n      <td>1996-09-26</td>\n    </tr>\n    <tr>\n      <th>1</th>\n      <td>1995-09-27</td>\n    </tr>\n    <tr>\n      <th>2</th>\n      <td>1998-08-23</td>\n    </tr>\n    <tr>\n      <th>3</th>\n      <td>1988-10-04</td>\n    </tr>\n    <tr>\n      <th>4</th>\n      <td>1995-07-26</td>\n    </tr>\n    <tr>\n      <th>...</th>\n      <td>...</td>\n    </tr>\n    <tr>\n      <th>445</th>\n      <td>1992-08-01</td>\n    </tr>\n    <tr>\n      <th>446</th>\n      <td>1998-04-22</td>\n    </tr>\n    <tr>\n      <th>447</th>\n      <td>1988-04-01</td>\n    </tr>\n    <tr>\n      <th>448</th>\n      <td>1999-01-04</td>\n    </tr>\n    <tr>\n      <th>449</th>\n      <td>1990-10-21</td>\n    </tr>\n  </tbody>\n</table>\n<p>450 rows × 1 columns</p>\n</div>"
     },
     "execution_count": 360,
     "metadata": {},
     "output_type": "execute_result"
    }
   ],
   "source": [
    "nba.select_dtypes(exclude=['object','int'])"
   ],
   "metadata": {
    "collapsed": false,
    "ExecuteTime": {
     "end_time": "2024-01-14T03:47:58.724371900Z",
     "start_time": "2024-01-14T03:47:58.658709800Z"
    }
   },
   "id": "b85945ae92cc4eb7",
   "execution_count": 360
  },
  {
   "cell_type": "code",
   "outputs": [
    {
     "data": {
      "text/plain": "Team         Los Angeles Lakers\nPosition                     PF\nBirthday    1984-12-30 00:00:00\nSalary                 37436858\nName: LeBron James, dtype: object"
     },
     "execution_count": 362,
     "metadata": {},
     "output_type": "execute_result"
    }
   ],
   "source": [
    "nba_nameindex.loc[\"LeBron James\"]"
   ],
   "metadata": {
    "collapsed": false,
    "ExecuteTime": {
     "end_time": "2024-01-14T03:48:56.018383400Z",
     "start_time": "2024-01-14T03:48:55.935089900Z"
    }
   },
   "id": "30d0c6c0479f0fd5",
   "execution_count": 362
  },
  {
   "cell_type": "code",
   "outputs": [
    {
     "data": {
      "text/plain": "                               Team Position   Birthday    Salary\nName                                                             \nKawhi Leonard  Los Angeles Clippers       SF 1991-06-29  32742000\nPaul George    Los Angeles Clippers       SF 1990-05-02  33005556",
      "text/html": "<div>\n<style scoped>\n    .dataframe tbody tr th:only-of-type {\n        vertical-align: middle;\n    }\n\n    .dataframe tbody tr th {\n        vertical-align: top;\n    }\n\n    .dataframe thead th {\n        text-align: right;\n    }\n</style>\n<table border=\"1\" class=\"dataframe\">\n  <thead>\n    <tr style=\"text-align: right;\">\n      <th></th>\n      <th>Team</th>\n      <th>Position</th>\n      <th>Birthday</th>\n      <th>Salary</th>\n    </tr>\n    <tr>\n      <th>Name</th>\n      <th></th>\n      <th></th>\n      <th></th>\n      <th></th>\n    </tr>\n  </thead>\n  <tbody>\n    <tr>\n      <th>Kawhi Leonard</th>\n      <td>Los Angeles Clippers</td>\n      <td>SF</td>\n      <td>1991-06-29</td>\n      <td>32742000</td>\n    </tr>\n    <tr>\n      <th>Paul George</th>\n      <td>Los Angeles Clippers</td>\n      <td>SF</td>\n      <td>1990-05-02</td>\n      <td>33005556</td>\n    </tr>\n  </tbody>\n</table>\n</div>"
     },
     "execution_count": 364,
     "metadata": {},
     "output_type": "execute_result"
    }
   ],
   "source": [
    "nba_nameindex.loc[[\"Kawhi Leonard\", \"Paul George\"]]"
   ],
   "metadata": {
    "collapsed": false,
    "ExecuteTime": {
     "end_time": "2024-01-14T03:49:39.347754700Z",
     "start_time": "2024-01-14T03:49:39.271250800Z"
    }
   },
   "id": "b18d9ddbca121a9e",
   "execution_count": 364
  },
  {
   "cell_type": "code",
   "outputs": [
    {
     "data": {
      "text/plain": "                               Team Position   Birthday    Salary\nName                                                             \nPaul George    Los Angeles Clippers       SF 1990-05-02  33005556\nKawhi Leonard  Los Angeles Clippers       SF 1991-06-29  32742000",
      "text/html": "<div>\n<style scoped>\n    .dataframe tbody tr th:only-of-type {\n        vertical-align: middle;\n    }\n\n    .dataframe tbody tr th {\n        vertical-align: top;\n    }\n\n    .dataframe thead th {\n        text-align: right;\n    }\n</style>\n<table border=\"1\" class=\"dataframe\">\n  <thead>\n    <tr style=\"text-align: right;\">\n      <th></th>\n      <th>Team</th>\n      <th>Position</th>\n      <th>Birthday</th>\n      <th>Salary</th>\n    </tr>\n    <tr>\n      <th>Name</th>\n      <th></th>\n      <th></th>\n      <th></th>\n      <th></th>\n    </tr>\n  </thead>\n  <tbody>\n    <tr>\n      <th>Paul George</th>\n      <td>Los Angeles Clippers</td>\n      <td>SF</td>\n      <td>1990-05-02</td>\n      <td>33005556</td>\n    </tr>\n    <tr>\n      <th>Kawhi Leonard</th>\n      <td>Los Angeles Clippers</td>\n      <td>SF</td>\n      <td>1991-06-29</td>\n      <td>32742000</td>\n    </tr>\n  </tbody>\n</table>\n</div>"
     },
     "execution_count": 366,
     "metadata": {},
     "output_type": "execute_result"
    }
   ],
   "source": [
    "nba_nameindex.loc[[\"Paul George\", \"Kawhi Leonard\"]]"
   ],
   "metadata": {
    "collapsed": false,
    "ExecuteTime": {
     "end_time": "2024-01-14T03:50:00.788768200Z",
     "start_time": "2024-01-14T03:50:00.699529Z"
    }
   },
   "id": "3557457542abc514",
   "execution_count": 366
  },
  {
   "cell_type": "code",
   "outputs": [
    {
     "data": {
      "text/plain": "                                  Team Position   Birthday    Salary\nName                                                                \nOtto Porter              Chicago Bulls       SF 1993-06-03  27250576\nPJ Dozier               Denver Nuggets       PG 1996-10-25     79568\nPJ Washington        Charlotte Hornets       PF 1998-08-23   3831840\nPascal Siakam          Toronto Raptors       PF 1994-04-02   2351838\nPat Connaughton        Milwaukee Bucks       SG 1993-01-06   1723050\nPatrick Beverley  Los Angeles Clippers       PG 1988-07-12  12345680",
      "text/html": "<div>\n<style scoped>\n    .dataframe tbody tr th:only-of-type {\n        vertical-align: middle;\n    }\n\n    .dataframe tbody tr th {\n        vertical-align: top;\n    }\n\n    .dataframe thead th {\n        text-align: right;\n    }\n</style>\n<table border=\"1\" class=\"dataframe\">\n  <thead>\n    <tr style=\"text-align: right;\">\n      <th></th>\n      <th>Team</th>\n      <th>Position</th>\n      <th>Birthday</th>\n      <th>Salary</th>\n    </tr>\n    <tr>\n      <th>Name</th>\n      <th></th>\n      <th></th>\n      <th></th>\n      <th></th>\n    </tr>\n  </thead>\n  <tbody>\n    <tr>\n      <th>Otto Porter</th>\n      <td>Chicago Bulls</td>\n      <td>SF</td>\n      <td>1993-06-03</td>\n      <td>27250576</td>\n    </tr>\n    <tr>\n      <th>PJ Dozier</th>\n      <td>Denver Nuggets</td>\n      <td>PG</td>\n      <td>1996-10-25</td>\n      <td>79568</td>\n    </tr>\n    <tr>\n      <th>PJ Washington</th>\n      <td>Charlotte Hornets</td>\n      <td>PF</td>\n      <td>1998-08-23</td>\n      <td>3831840</td>\n    </tr>\n    <tr>\n      <th>Pascal Siakam</th>\n      <td>Toronto Raptors</td>\n      <td>PF</td>\n      <td>1994-04-02</td>\n      <td>2351838</td>\n    </tr>\n    <tr>\n      <th>Pat Connaughton</th>\n      <td>Milwaukee Bucks</td>\n      <td>SG</td>\n      <td>1993-01-06</td>\n      <td>1723050</td>\n    </tr>\n    <tr>\n      <th>Patrick Beverley</th>\n      <td>Los Angeles Clippers</td>\n      <td>PG</td>\n      <td>1988-07-12</td>\n      <td>12345680</td>\n    </tr>\n  </tbody>\n</table>\n</div>"
     },
     "execution_count": 367,
     "metadata": {},
     "output_type": "execute_result"
    }
   ],
   "source": [
    "nba_nameindex.sort_index().loc[\"Otto Porter\":\"Patrick Beverley\"]"
   ],
   "metadata": {
    "collapsed": false,
    "ExecuteTime": {
     "end_time": "2024-01-14T03:50:11.827624100Z",
     "start_time": "2024-01-14T03:50:11.741913Z"
    }
   },
   "id": "f20af84b18e7f523",
   "execution_count": 367
  },
  {
   "cell_type": "code",
   "outputs": [
    {
     "data": {
      "text/plain": "['Otto Porter', 'PJ Dozier']"
     },
     "execution_count": 368,
     "metadata": {},
     "output_type": "execute_result"
    }
   ],
   "source": [
    "players = [\"Otto Porter\", \"PJ Dozier\", \"PJ Washington\"]\n",
    "players[0:2]"
   ],
   "metadata": {
    "collapsed": false,
    "ExecuteTime": {
     "end_time": "2024-01-14T03:50:17.642460200Z",
     "start_time": "2024-01-14T03:50:17.549948800Z"
    }
   },
   "id": "74eccf28a602387b",
   "execution_count": 368
  },
  {
   "cell_type": "code",
   "outputs": [
    {
     "data": {
      "text/plain": "                                   Team Position   Birthday    Salary\nName                                                                 \nZach Collins     Portland Trail Blazers        C 1997-11-19   4240200\nZach LaVine               Chicago Bulls       PG 1995-03-10  19500000\nZach Norvell         Los Angeles Lakers       SG 1997-12-09     79568\nZhaire Smith         Philadelphia 76ers       SG 1999-06-04   3058800\nZion Williamson    New Orleans Pelicans        F 2000-07-06   9757440\nZylan Cheatham     New Orleans Pelicans       SF 1995-11-17     79568",
      "text/html": "<div>\n<style scoped>\n    .dataframe tbody tr th:only-of-type {\n        vertical-align: middle;\n    }\n\n    .dataframe tbody tr th {\n        vertical-align: top;\n    }\n\n    .dataframe thead th {\n        text-align: right;\n    }\n</style>\n<table border=\"1\" class=\"dataframe\">\n  <thead>\n    <tr style=\"text-align: right;\">\n      <th></th>\n      <th>Team</th>\n      <th>Position</th>\n      <th>Birthday</th>\n      <th>Salary</th>\n    </tr>\n    <tr>\n      <th>Name</th>\n      <th></th>\n      <th></th>\n      <th></th>\n      <th></th>\n    </tr>\n  </thead>\n  <tbody>\n    <tr>\n      <th>Zach Collins</th>\n      <td>Portland Trail Blazers</td>\n      <td>C</td>\n      <td>1997-11-19</td>\n      <td>4240200</td>\n    </tr>\n    <tr>\n      <th>Zach LaVine</th>\n      <td>Chicago Bulls</td>\n      <td>PG</td>\n      <td>1995-03-10</td>\n      <td>19500000</td>\n    </tr>\n    <tr>\n      <th>Zach Norvell</th>\n      <td>Los Angeles Lakers</td>\n      <td>SG</td>\n      <td>1997-12-09</td>\n      <td>79568</td>\n    </tr>\n    <tr>\n      <th>Zhaire Smith</th>\n      <td>Philadelphia 76ers</td>\n      <td>SG</td>\n      <td>1999-06-04</td>\n      <td>3058800</td>\n    </tr>\n    <tr>\n      <th>Zion Williamson</th>\n      <td>New Orleans Pelicans</td>\n      <td>F</td>\n      <td>2000-07-06</td>\n      <td>9757440</td>\n    </tr>\n    <tr>\n      <th>Zylan Cheatham</th>\n      <td>New Orleans Pelicans</td>\n      <td>SF</td>\n      <td>1995-11-17</td>\n      <td>79568</td>\n    </tr>\n  </tbody>\n</table>\n</div>"
     },
     "execution_count": 369,
     "metadata": {},
     "output_type": "execute_result"
    }
   ],
   "source": [
    "nba_nameindex.sort_index().loc[\"Zach Collins\":]"
   ],
   "metadata": {
    "collapsed": false,
    "ExecuteTime": {
     "end_time": "2024-01-14T03:50:34.248057500Z",
     "start_time": "2024-01-14T03:50:34.143404700Z"
    }
   },
   "id": "5a5277abe4b838e9",
   "execution_count": 369
  },
  {
   "cell_type": "code",
   "outputs": [
    {
     "data": {
      "text/plain": "                                    Team Position   Birthday    Salary\nName                                                                  \nAaron Gordon               Orlando Magic       PF 1995-09-16  19863636\nAaron Holiday             Indiana Pacers       PG 1996-09-30   2239200\nAbdel Nader        Oklahoma City Thunder       SF 1993-09-25   1618520\nAdam Mokoka                Chicago Bulls        G 1998-07-18     79568\nAdmiral Schofield     Washington Wizards       SF 1997-03-30   1000000\nAl Horford            Philadelphia 76ers        C 1986-06-03  28000000",
      "text/html": "<div>\n<style scoped>\n    .dataframe tbody tr th:only-of-type {\n        vertical-align: middle;\n    }\n\n    .dataframe tbody tr th {\n        vertical-align: top;\n    }\n\n    .dataframe thead th {\n        text-align: right;\n    }\n</style>\n<table border=\"1\" class=\"dataframe\">\n  <thead>\n    <tr style=\"text-align: right;\">\n      <th></th>\n      <th>Team</th>\n      <th>Position</th>\n      <th>Birthday</th>\n      <th>Salary</th>\n    </tr>\n    <tr>\n      <th>Name</th>\n      <th></th>\n      <th></th>\n      <th></th>\n      <th></th>\n    </tr>\n  </thead>\n  <tbody>\n    <tr>\n      <th>Aaron Gordon</th>\n      <td>Orlando Magic</td>\n      <td>PF</td>\n      <td>1995-09-16</td>\n      <td>19863636</td>\n    </tr>\n    <tr>\n      <th>Aaron Holiday</th>\n      <td>Indiana Pacers</td>\n      <td>PG</td>\n      <td>1996-09-30</td>\n      <td>2239200</td>\n    </tr>\n    <tr>\n      <th>Abdel Nader</th>\n      <td>Oklahoma City Thunder</td>\n      <td>SF</td>\n      <td>1993-09-25</td>\n      <td>1618520</td>\n    </tr>\n    <tr>\n      <th>Adam Mokoka</th>\n      <td>Chicago Bulls</td>\n      <td>G</td>\n      <td>1998-07-18</td>\n      <td>79568</td>\n    </tr>\n    <tr>\n      <th>Admiral Schofield</th>\n      <td>Washington Wizards</td>\n      <td>SF</td>\n      <td>1997-03-30</td>\n      <td>1000000</td>\n    </tr>\n    <tr>\n      <th>Al Horford</th>\n      <td>Philadelphia 76ers</td>\n      <td>C</td>\n      <td>1986-06-03</td>\n      <td>28000000</td>\n    </tr>\n  </tbody>\n</table>\n</div>"
     },
     "execution_count": 370,
     "metadata": {},
     "output_type": "execute_result"
    }
   ],
   "source": [
    "nba_nameindex.sort_index().loc[:\"Al Horford\"]"
   ],
   "metadata": {
    "collapsed": false,
    "ExecuteTime": {
     "end_time": "2024-01-14T03:50:52.439418800Z",
     "start_time": "2024-01-14T03:50:52.349854900Z"
    }
   },
   "id": "e48d14643c1a52db",
   "execution_count": 370
  },
  {
   "cell_type": "code",
   "outputs": [
    {
     "data": {
      "text/plain": "Name          Jarred Vanderbilt\nTeam             Denver Nuggets\nPosition                     PF\nBirthday    1999-04-03 00:00:00\nSalary                  1416852\nName: 300, dtype: object"
     },
     "execution_count": 371,
     "metadata": {},
     "output_type": "execute_result"
    }
   ],
   "source": [
    "nba.iloc[300]"
   ],
   "metadata": {
    "collapsed": false,
    "ExecuteTime": {
     "end_time": "2024-01-14T03:51:03.273751600Z",
     "start_time": "2024-01-14T03:51:03.190306800Z"
    }
   },
   "id": "e992fcc8f305adbd",
   "execution_count": 371
  },
  {
   "cell_type": "code",
   "outputs": [
    {
     "data": {
      "text/plain": "                  Name               Team Position   Birthday   Salary\n100        Brian Bowen     Indiana Pacers       SG 1998-10-02    79568\n200    Marco Belinelli  San Antonio Spurs       SF 1986-03-25  5846154\n300  Jarred Vanderbilt     Denver Nuggets       PF 1999-04-03  1416852\n400         Louis King    Detroit Pistons        F 1999-04-06    79568",
      "text/html": "<div>\n<style scoped>\n    .dataframe tbody tr th:only-of-type {\n        vertical-align: middle;\n    }\n\n    .dataframe tbody tr th {\n        vertical-align: top;\n    }\n\n    .dataframe thead th {\n        text-align: right;\n    }\n</style>\n<table border=\"1\" class=\"dataframe\">\n  <thead>\n    <tr style=\"text-align: right;\">\n      <th></th>\n      <th>Name</th>\n      <th>Team</th>\n      <th>Position</th>\n      <th>Birthday</th>\n      <th>Salary</th>\n    </tr>\n  </thead>\n  <tbody>\n    <tr>\n      <th>100</th>\n      <td>Brian Bowen</td>\n      <td>Indiana Pacers</td>\n      <td>SG</td>\n      <td>1998-10-02</td>\n      <td>79568</td>\n    </tr>\n    <tr>\n      <th>200</th>\n      <td>Marco Belinelli</td>\n      <td>San Antonio Spurs</td>\n      <td>SF</td>\n      <td>1986-03-25</td>\n      <td>5846154</td>\n    </tr>\n    <tr>\n      <th>300</th>\n      <td>Jarred Vanderbilt</td>\n      <td>Denver Nuggets</td>\n      <td>PF</td>\n      <td>1999-04-03</td>\n      <td>1416852</td>\n    </tr>\n    <tr>\n      <th>400</th>\n      <td>Louis King</td>\n      <td>Detroit Pistons</td>\n      <td>F</td>\n      <td>1999-04-06</td>\n      <td>79568</td>\n    </tr>\n  </tbody>\n</table>\n</div>"
     },
     "execution_count": 372,
     "metadata": {},
     "output_type": "execute_result"
    }
   ],
   "source": [
    "nba.iloc[[100,200,300,400]]"
   ],
   "metadata": {
    "collapsed": false,
    "ExecuteTime": {
     "end_time": "2024-01-14T03:51:18.621146500Z",
     "start_time": "2024-01-14T03:51:18.545113900Z"
    }
   },
   "id": "ebc1644e296ac387",
   "execution_count": 372
  },
  {
   "cell_type": "code",
   "outputs": [
    {
     "data": {
      "text/plain": "                     Name                Team Position   Birthday    Salary\n400            Louis King     Detroit Pistons        F 1999-04-06     79568\n401  Kostas Antetokounmpo  Los Angeles Lakers       PF 1997-11-20     79568\n402        Rodions Kurucs       Brooklyn Nets       PF 1998-02-05   1699236\n403     Spencer Dinwiddie       Brooklyn Nets       PG 1993-04-06  10605600",
      "text/html": "<div>\n<style scoped>\n    .dataframe tbody tr th:only-of-type {\n        vertical-align: middle;\n    }\n\n    .dataframe tbody tr th {\n        vertical-align: top;\n    }\n\n    .dataframe thead th {\n        text-align: right;\n    }\n</style>\n<table border=\"1\" class=\"dataframe\">\n  <thead>\n    <tr style=\"text-align: right;\">\n      <th></th>\n      <th>Name</th>\n      <th>Team</th>\n      <th>Position</th>\n      <th>Birthday</th>\n      <th>Salary</th>\n    </tr>\n  </thead>\n  <tbody>\n    <tr>\n      <th>400</th>\n      <td>Louis King</td>\n      <td>Detroit Pistons</td>\n      <td>F</td>\n      <td>1999-04-06</td>\n      <td>79568</td>\n    </tr>\n    <tr>\n      <th>401</th>\n      <td>Kostas Antetokounmpo</td>\n      <td>Los Angeles Lakers</td>\n      <td>PF</td>\n      <td>1997-11-20</td>\n      <td>79568</td>\n    </tr>\n    <tr>\n      <th>402</th>\n      <td>Rodions Kurucs</td>\n      <td>Brooklyn Nets</td>\n      <td>PF</td>\n      <td>1998-02-05</td>\n      <td>1699236</td>\n    </tr>\n    <tr>\n      <th>403</th>\n      <td>Spencer Dinwiddie</td>\n      <td>Brooklyn Nets</td>\n      <td>PG</td>\n      <td>1993-04-06</td>\n      <td>10605600</td>\n    </tr>\n  </tbody>\n</table>\n</div>"
     },
     "execution_count": 373,
     "metadata": {},
     "output_type": "execute_result"
    }
   ],
   "source": [
    "nba.iloc[400:404]"
   ],
   "metadata": {
    "collapsed": false,
    "ExecuteTime": {
     "end_time": "2024-01-14T03:51:26.732248300Z",
     "start_time": "2024-01-14T03:51:26.597191200Z"
    }
   },
   "id": "4089eba92103a11d",
   "execution_count": 373
  },
  {
   "cell_type": "code",
   "outputs": [
    {
     "data": {
      "text/plain": "             Name                Team Position   Birthday   Salary\n0    Shake Milton  Philadelphia 76ers       SG 1996-09-26  1445697\n1  Christian Wood     Detroit Pistons       PF 1995-09-27  1645357",
      "text/html": "<div>\n<style scoped>\n    .dataframe tbody tr th:only-of-type {\n        vertical-align: middle;\n    }\n\n    .dataframe tbody tr th {\n        vertical-align: top;\n    }\n\n    .dataframe thead th {\n        text-align: right;\n    }\n</style>\n<table border=\"1\" class=\"dataframe\">\n  <thead>\n    <tr style=\"text-align: right;\">\n      <th></th>\n      <th>Name</th>\n      <th>Team</th>\n      <th>Position</th>\n      <th>Birthday</th>\n      <th>Salary</th>\n    </tr>\n  </thead>\n  <tbody>\n    <tr>\n      <th>0</th>\n      <td>Shake Milton</td>\n      <td>Philadelphia 76ers</td>\n      <td>SG</td>\n      <td>1996-09-26</td>\n      <td>1445697</td>\n    </tr>\n    <tr>\n      <th>1</th>\n      <td>Christian Wood</td>\n      <td>Detroit Pistons</td>\n      <td>PF</td>\n      <td>1995-09-27</td>\n      <td>1645357</td>\n    </tr>\n  </tbody>\n</table>\n</div>"
     },
     "execution_count": 374,
     "metadata": {},
     "output_type": "execute_result"
    }
   ],
   "source": [
    "nba.iloc[:2]"
   ],
   "metadata": {
    "collapsed": false,
    "ExecuteTime": {
     "end_time": "2024-01-14T03:51:32.744177Z",
     "start_time": "2024-01-14T03:51:32.653973300Z"
    }
   },
   "id": "36062c22a81ee741",
   "execution_count": 374
  },
  {
   "cell_type": "code",
   "outputs": [
    {
     "data": {
      "text/plain": "              Name                 Team Position   Birthday    Salary\n447    Robin Lopez      Milwaukee Bucks        C 1988-04-01   4767000\n448  Collin Sexton  Cleveland Cavaliers       PG 1999-01-04   4764960\n449    Ricky Rubio         Phoenix Suns       PG 1990-10-21  16200000",
      "text/html": "<div>\n<style scoped>\n    .dataframe tbody tr th:only-of-type {\n        vertical-align: middle;\n    }\n\n    .dataframe tbody tr th {\n        vertical-align: top;\n    }\n\n    .dataframe thead th {\n        text-align: right;\n    }\n</style>\n<table border=\"1\" class=\"dataframe\">\n  <thead>\n    <tr style=\"text-align: right;\">\n      <th></th>\n      <th>Name</th>\n      <th>Team</th>\n      <th>Position</th>\n      <th>Birthday</th>\n      <th>Salary</th>\n    </tr>\n  </thead>\n  <tbody>\n    <tr>\n      <th>447</th>\n      <td>Robin Lopez</td>\n      <td>Milwaukee Bucks</td>\n      <td>C</td>\n      <td>1988-04-01</td>\n      <td>4767000</td>\n    </tr>\n    <tr>\n      <th>448</th>\n      <td>Collin Sexton</td>\n      <td>Cleveland Cavaliers</td>\n      <td>PG</td>\n      <td>1999-01-04</td>\n      <td>4764960</td>\n    </tr>\n    <tr>\n      <th>449</th>\n      <td>Ricky Rubio</td>\n      <td>Phoenix Suns</td>\n      <td>PG</td>\n      <td>1990-10-21</td>\n      <td>16200000</td>\n    </tr>\n  </tbody>\n</table>\n</div>"
     },
     "execution_count": 375,
     "metadata": {},
     "output_type": "execute_result"
    }
   ],
   "source": [
    "nba.iloc[447:]"
   ],
   "metadata": {
    "collapsed": false,
    "ExecuteTime": {
     "end_time": "2024-01-14T03:51:39.557465400Z",
     "start_time": "2024-01-14T03:51:39.459567200Z"
    }
   },
   "id": "793e74dc2768de66",
   "execution_count": 375
  },
  {
   "cell_type": "code",
   "outputs": [
    {
     "data": {
      "text/plain": "                  Name                   Team Position   Birthday   Salary\n440       Jared Dudley     Los Angeles Lakers       PF 1985-07-10  2564753\n441          Max Strus          Chicago Bulls       SG 1996-03-28    79568\n442       Kevon Looney  Golden State Warriors        C 1996-02-06  4464286\n443  Willy Hernangomez      Charlotte Hornets        C 1994-05-27  1557250",
      "text/html": "<div>\n<style scoped>\n    .dataframe tbody tr th:only-of-type {\n        vertical-align: middle;\n    }\n\n    .dataframe tbody tr th {\n        vertical-align: top;\n    }\n\n    .dataframe thead th {\n        text-align: right;\n    }\n</style>\n<table border=\"1\" class=\"dataframe\">\n  <thead>\n    <tr style=\"text-align: right;\">\n      <th></th>\n      <th>Name</th>\n      <th>Team</th>\n      <th>Position</th>\n      <th>Birthday</th>\n      <th>Salary</th>\n    </tr>\n  </thead>\n  <tbody>\n    <tr>\n      <th>440</th>\n      <td>Jared Dudley</td>\n      <td>Los Angeles Lakers</td>\n      <td>PF</td>\n      <td>1985-07-10</td>\n      <td>2564753</td>\n    </tr>\n    <tr>\n      <th>441</th>\n      <td>Max Strus</td>\n      <td>Chicago Bulls</td>\n      <td>SG</td>\n      <td>1996-03-28</td>\n      <td>79568</td>\n    </tr>\n    <tr>\n      <th>442</th>\n      <td>Kevon Looney</td>\n      <td>Golden State Warriors</td>\n      <td>C</td>\n      <td>1996-02-06</td>\n      <td>4464286</td>\n    </tr>\n    <tr>\n      <th>443</th>\n      <td>Willy Hernangomez</td>\n      <td>Charlotte Hornets</td>\n      <td>C</td>\n      <td>1994-05-27</td>\n      <td>1557250</td>\n    </tr>\n  </tbody>\n</table>\n</div>"
     },
     "execution_count": 376,
     "metadata": {},
     "output_type": "execute_result"
    }
   ],
   "source": [
    "nba.iloc[-10:-6]"
   ],
   "metadata": {
    "collapsed": false,
    "ExecuteTime": {
     "end_time": "2024-01-14T03:51:45.422681Z",
     "start_time": "2024-01-14T03:51:45.332748900Z"
    }
   },
   "id": "6e41d6e7666b40e2",
   "execution_count": 376
  },
  {
   "cell_type": "code",
   "outputs": [
    {
     "data": {
      "text/plain": "            Name                Team Position   Birthday    Salary\n0   Shake Milton  Philadelphia 76ers       SG 1996-09-26   1445697\n2  PJ Washington   Charlotte Hornets       PF 1998-08-23   3831840\n4  Marial Shayok  Philadelphia 76ers        G 1995-07-26     79568\n6  Kendrick Nunn          Miami Heat       SG 1995-08-03   1416852\n8    Brook Lopez     Milwaukee Bucks        C 1988-04-01  12093024",
      "text/html": "<div>\n<style scoped>\n    .dataframe tbody tr th:only-of-type {\n        vertical-align: middle;\n    }\n\n    .dataframe tbody tr th {\n        vertical-align: top;\n    }\n\n    .dataframe thead th {\n        text-align: right;\n    }\n</style>\n<table border=\"1\" class=\"dataframe\">\n  <thead>\n    <tr style=\"text-align: right;\">\n      <th></th>\n      <th>Name</th>\n      <th>Team</th>\n      <th>Position</th>\n      <th>Birthday</th>\n      <th>Salary</th>\n    </tr>\n  </thead>\n  <tbody>\n    <tr>\n      <th>0</th>\n      <td>Shake Milton</td>\n      <td>Philadelphia 76ers</td>\n      <td>SG</td>\n      <td>1996-09-26</td>\n      <td>1445697</td>\n    </tr>\n    <tr>\n      <th>2</th>\n      <td>PJ Washington</td>\n      <td>Charlotte Hornets</td>\n      <td>PF</td>\n      <td>1998-08-23</td>\n      <td>3831840</td>\n    </tr>\n    <tr>\n      <th>4</th>\n      <td>Marial Shayok</td>\n      <td>Philadelphia 76ers</td>\n      <td>G</td>\n      <td>1995-07-26</td>\n      <td>79568</td>\n    </tr>\n    <tr>\n      <th>6</th>\n      <td>Kendrick Nunn</td>\n      <td>Miami Heat</td>\n      <td>SG</td>\n      <td>1995-08-03</td>\n      <td>1416852</td>\n    </tr>\n    <tr>\n      <th>8</th>\n      <td>Brook Lopez</td>\n      <td>Milwaukee Bucks</td>\n      <td>C</td>\n      <td>1988-04-01</td>\n      <td>12093024</td>\n    </tr>\n  </tbody>\n</table>\n</div>"
     },
     "execution_count": 377,
     "metadata": {},
     "output_type": "execute_result"
    }
   ],
   "source": [
    "nba.iloc[0:10:2]"
   ],
   "metadata": {
    "collapsed": false,
    "ExecuteTime": {
     "end_time": "2024-01-14T03:51:55.037662800Z",
     "start_time": "2024-01-14T03:51:54.952612800Z"
    }
   },
   "id": "1737afcb28b28727",
   "execution_count": 377
  },
  {
   "cell_type": "code",
   "outputs": [
    {
     "data": {
      "text/plain": "'Milwaukee Bucks'"
     },
     "execution_count": 378,
     "metadata": {},
     "output_type": "execute_result"
    }
   ],
   "source": [
    "nba_nameindex.loc[\"Giannis Antetokounmpo\", \"Team\"]"
   ],
   "metadata": {
    "collapsed": false,
    "ExecuteTime": {
     "end_time": "2024-01-14T03:52:31.443950800Z",
     "start_time": "2024-01-14T03:52:31.359929900Z"
    }
   },
   "id": "727a87f2f453b5ca",
   "execution_count": 378
  },
  {
   "cell_type": "code",
   "outputs": [
    {
     "data": {
      "text/plain": "Position                     PG\nBirthday    1989-08-26 00:00:00\nName: James Harden, dtype: object"
     },
     "execution_count": 379,
     "metadata": {},
     "output_type": "execute_result"
    }
   ],
   "source": [
    "nba_nameindex.loc[\"James Harden\", [\"Position\", \"Birthday\"]]"
   ],
   "metadata": {
    "collapsed": false,
    "ExecuteTime": {
     "end_time": "2024-01-14T03:52:46.506565Z",
     "start_time": "2024-01-14T03:52:46.397303100Z"
    }
   },
   "id": "cb1f4ec9049b2b4f",
   "execution_count": 379
  },
  {
   "cell_type": "code",
   "outputs": [
    {
     "data": {
      "text/plain": "                                 Team    Salary\nName                                           \nRussell Westbrook     Houston Rockets  38506482\nAnthony Davis      Los Angeles Lakers  27093019",
      "text/html": "<div>\n<style scoped>\n    .dataframe tbody tr th:only-of-type {\n        vertical-align: middle;\n    }\n\n    .dataframe tbody tr th {\n        vertical-align: top;\n    }\n\n    .dataframe thead th {\n        text-align: right;\n    }\n</style>\n<table border=\"1\" class=\"dataframe\">\n  <thead>\n    <tr style=\"text-align: right;\">\n      <th></th>\n      <th>Team</th>\n      <th>Salary</th>\n    </tr>\n    <tr>\n      <th>Name</th>\n      <th></th>\n      <th></th>\n    </tr>\n  </thead>\n  <tbody>\n    <tr>\n      <th>Russell Westbrook</th>\n      <td>Houston Rockets</td>\n      <td>38506482</td>\n    </tr>\n    <tr>\n      <th>Anthony Davis</th>\n      <td>Los Angeles Lakers</td>\n      <td>27093019</td>\n    </tr>\n  </tbody>\n</table>\n</div>"
     },
     "execution_count": 380,
     "metadata": {},
     "output_type": "execute_result"
    }
   ],
   "source": [
    "nba_nameindex.loc[\n",
    "    [\"Russell Westbrook\", \"Anthony Davis\"],\n",
    "    [\"Team\", \"Salary\"]\n",
    "]"
   ],
   "metadata": {
    "collapsed": false,
    "ExecuteTime": {
     "end_time": "2024-01-14T03:52:54.347097300Z",
     "start_time": "2024-01-14T03:52:54.266966700Z"
    }
   },
   "id": "495fb5097cae2bf8",
   "execution_count": 380
  },
  {
   "cell_type": "code",
   "outputs": [
    {
     "data": {
      "text/plain": "Position                      C\nBirthday    1994-03-16 00:00:00\nSalary                 27504630\nName: Joel Embiid, dtype: object"
     },
     "execution_count": 381,
     "metadata": {},
     "output_type": "execute_result"
    }
   ],
   "source": [
    "nba_nameindex.loc[\"Joel Embiid\", \"Position\":\"Salary\"]"
   ],
   "metadata": {
    "collapsed": false,
    "ExecuteTime": {
     "end_time": "2024-01-14T03:53:18.853586300Z",
     "start_time": "2024-01-14T03:53:18.749916200Z"
    }
   },
   "id": "73fdd91f01eb74b3",
   "execution_count": 381
  },
  {
   "cell_type": "code",
   "outputs": [
    {
     "data": {
      "text/plain": "Series([], Name: Joel Embiid, dtype: object)"
     },
     "execution_count": 382,
     "metadata": {},
     "output_type": "execute_result"
    }
   ],
   "source": [
    "nba_nameindex.loc[\"Joel Embiid\", \"Salary\":\"Position\"]"
   ],
   "metadata": {
    "collapsed": false,
    "ExecuteTime": {
     "end_time": "2024-01-14T03:53:46.696119200Z",
     "start_time": "2024-01-14T03:53:46.568818200Z"
    }
   },
   "id": "6679b95eb6e95181",
   "execution_count": 382
  },
  {
   "cell_type": "code",
   "outputs": [
    {
     "data": {
      "text/plain": "Timestamp('1997-04-17 00:00:00')"
     },
     "execution_count": 383,
     "metadata": {},
     "output_type": "execute_result"
    }
   ],
   "source": [
    "nba.iloc[57, 3]"
   ],
   "metadata": {
    "collapsed": false,
    "ExecuteTime": {
     "end_time": "2024-01-14T03:54:06.065198500Z",
     "start_time": "2024-01-14T03:54:05.982512200Z"
    }
   },
   "id": "44ac7bb7315bd9f2",
   "execution_count": 383
  },
  {
   "cell_type": "code",
   "outputs": [
    {
     "data": {
      "text/plain": "              Name                Team Position\n100    Brian Bowen      Indiana Pacers       SG\n101  Aaron Holiday      Indiana Pacers       PG\n102   Troy Daniels  Los Angeles Lakers       SG\n103    Buddy Hield    Sacramento Kings       SG",
      "text/html": "<div>\n<style scoped>\n    .dataframe tbody tr th:only-of-type {\n        vertical-align: middle;\n    }\n\n    .dataframe tbody tr th {\n        vertical-align: top;\n    }\n\n    .dataframe thead th {\n        text-align: right;\n    }\n</style>\n<table border=\"1\" class=\"dataframe\">\n  <thead>\n    <tr style=\"text-align: right;\">\n      <th></th>\n      <th>Name</th>\n      <th>Team</th>\n      <th>Position</th>\n    </tr>\n  </thead>\n  <tbody>\n    <tr>\n      <th>100</th>\n      <td>Brian Bowen</td>\n      <td>Indiana Pacers</td>\n      <td>SG</td>\n    </tr>\n    <tr>\n      <th>101</th>\n      <td>Aaron Holiday</td>\n      <td>Indiana Pacers</td>\n      <td>PG</td>\n    </tr>\n    <tr>\n      <th>102</th>\n      <td>Troy Daniels</td>\n      <td>Los Angeles Lakers</td>\n      <td>SG</td>\n    </tr>\n    <tr>\n      <th>103</th>\n      <td>Buddy Hield</td>\n      <td>Sacramento Kings</td>\n      <td>SG</td>\n    </tr>\n  </tbody>\n</table>\n</div>"
     },
     "execution_count": 384,
     "metadata": {},
     "output_type": "execute_result"
    }
   ],
   "source": [
    "nba.iloc[100:104, :3]"
   ],
   "metadata": {
    "collapsed": false,
    "ExecuteTime": {
     "end_time": "2024-01-14T03:54:15.988158700Z",
     "start_time": "2024-01-14T03:54:15.905847500Z"
    }
   },
   "id": "bb89425e29627c4e",
   "execution_count": 384
  },
  {
   "cell_type": "code",
   "outputs": [
    {
     "data": {
      "text/plain": "Timestamp('1992-08-01 00:00:00')"
     },
     "execution_count": 385,
     "metadata": {},
     "output_type": "execute_result"
    }
   ],
   "source": [
    "nba_nameindex.at[\"Austin Rivers\", \"Birthday\"]"
   ],
   "metadata": {
    "collapsed": false,
    "ExecuteTime": {
     "end_time": "2024-01-14T03:54:35.314143200Z",
     "start_time": "2024-01-14T03:54:35.189946700Z"
    }
   },
   "id": "e43f1fe126398467",
   "execution_count": 385
  },
  {
   "cell_type": "code",
   "outputs": [
    {
     "data": {
      "text/plain": "'Orlando Magic'"
     },
     "execution_count": 386,
     "metadata": {},
     "output_type": "execute_result"
    }
   ],
   "source": [
    "nba.iat[263,1]"
   ],
   "metadata": {
    "collapsed": false,
    "ExecuteTime": {
     "end_time": "2024-01-14T03:54:41.483320600Z",
     "start_time": "2024-01-14T03:54:41.403755800Z"
    }
   },
   "id": "fcc5b8eca971cbe3",
   "execution_count": 386
  },
  {
   "cell_type": "code",
   "outputs": [
    {
     "name": "stdout",
     "output_type": "stream",
     "text": [
      "5.24 µs ± 468 ns per loop (mean ± std. dev. of 7 runs, 100,000 loops each)\n"
     ]
    }
   ],
   "source": [
    "%%timeit\n",
    "nba_nameindex.at[\"Austin Rivers\", \"Birthday\"]"
   ],
   "metadata": {
    "collapsed": false,
    "ExecuteTime": {
     "end_time": "2024-01-14T03:55:12.228671Z",
     "start_time": "2024-01-14T03:55:07.810204300Z"
    }
   },
   "id": "bdc37f4d7bb503ca",
   "execution_count": 388
  },
  {
   "cell_type": "code",
   "outputs": [
    {
     "name": "stdout",
     "output_type": "stream",
     "text": [
      "7.27 µs ± 168 ns per loop (mean ± std. dev. of 7 runs, 100,000 loops each)\n"
     ]
    }
   ],
   "source": [
    "%%timeit\n",
    "nba_nameindex.loc[\"Austin Rivers\", \"Birthday\"]"
   ],
   "metadata": {
    "collapsed": false,
    "ExecuteTime": {
     "end_time": "2024-01-14T03:55:33.911239400Z",
     "start_time": "2024-01-14T03:55:27.687999900Z"
    }
   },
   "id": "7d627bd9696c30e7",
   "execution_count": 390
  },
  {
   "cell_type": "code",
   "outputs": [
    {
     "name": "stdout",
     "output_type": "stream",
     "text": [
      "8.57 µs ± 145 ns per loop (mean ± std. dev. of 7 runs, 100,000 loops each)\n"
     ]
    }
   ],
   "source": [
    "%%timeit\n",
    "nba.iat[263, 1]"
   ],
   "metadata": {
    "collapsed": false,
    "ExecuteTime": {
     "end_time": "2024-01-14T03:56:09.907964300Z",
     "start_time": "2024-01-14T03:56:02.681802700Z"
    }
   },
   "id": "a021511e5d20b5c3",
   "execution_count": 391
  },
  {
   "cell_type": "code",
   "outputs": [
    {
     "name": "stdout",
     "output_type": "stream",
     "text": [
      "10.7 µs ± 192 ns per loop (mean ± std. dev. of 7 runs, 100,000 loops each)\n"
     ]
    }
   ],
   "source": [
    "%%timeit\n",
    "nba.iloc[263, 1]"
   ],
   "metadata": {
    "collapsed": false,
    "ExecuteTime": {
     "end_time": "2024-01-14T03:56:20.513800500Z",
     "start_time": "2024-01-14T03:56:11.468481500Z"
    }
   },
   "id": "f1d93e230bfda9b1",
   "execution_count": 392
  },
  {
   "cell_type": "code",
   "outputs": [
    {
     "data": {
      "text/plain": "29802321"
     },
     "execution_count": 394,
     "metadata": {},
     "output_type": "execute_result"
    }
   ],
   "source": [
    "nba_nameindex[\"Salary\"].loc[\"Damian Lillard\"]"
   ],
   "metadata": {
    "collapsed": false,
    "ExecuteTime": {
     "end_time": "2024-01-14T03:56:42.772141500Z",
     "start_time": "2024-01-14T03:56:42.678444400Z"
    }
   },
   "id": "be1bb6794e1e8f33",
   "execution_count": 394
  },
  {
   "cell_type": "code",
   "outputs": [
    {
     "data": {
      "text/plain": "29802321"
     },
     "execution_count": 395,
     "metadata": {},
     "output_type": "execute_result"
    }
   ],
   "source": [
    "nba_nameindex[\"Salary\"].at[\"Damian Lillard\"]"
   ],
   "metadata": {
    "collapsed": false,
    "ExecuteTime": {
     "end_time": "2024-01-14T03:57:04.843144900Z",
     "start_time": "2024-01-14T03:57:04.711250800Z"
    }
   },
   "id": "751f7d675f269ee",
   "execution_count": 395
  },
  {
   "cell_type": "code",
   "outputs": [
    {
     "data": {
      "text/plain": "2033160"
     },
     "execution_count": 396,
     "metadata": {},
     "output_type": "execute_result"
    }
   ],
   "source": [
    "nba[\"Salary\"].iloc[234]"
   ],
   "metadata": {
    "collapsed": false,
    "ExecuteTime": {
     "end_time": "2024-01-14T03:57:17.328920400Z",
     "start_time": "2024-01-14T03:57:17.246673700Z"
    }
   },
   "id": "d85a2fd2faa81d51",
   "execution_count": 396
  },
  {
   "cell_type": "code",
   "outputs": [
    {
     "data": {
      "text/plain": "2033160"
     },
     "execution_count": 397,
     "metadata": {},
     "output_type": "execute_result"
    }
   ],
   "source": [
    "nba[\"Salary\"].iloc[234]"
   ],
   "metadata": {
    "collapsed": false,
    "ExecuteTime": {
     "end_time": "2024-01-14T03:57:28.372490500Z",
     "start_time": "2024-01-14T03:57:28.261766600Z"
    }
   },
   "id": "46e3f4c7fc9e23a6",
   "execution_count": 397
  },
  {
   "cell_type": "code",
   "outputs": [
    {
     "data": {
      "text/plain": "Index(['Team', 'Position', 'Birthday', 'Salary'], dtype='object')"
     },
     "execution_count": 398,
     "metadata": {},
     "output_type": "execute_result"
    }
   ],
   "source": [
    "nba_nameindex.columns"
   ],
   "metadata": {
    "collapsed": false,
    "ExecuteTime": {
     "end_time": "2024-01-14T03:57:37.103471200Z",
     "start_time": "2024-01-14T03:57:36.997082Z"
    }
   },
   "id": "5541b78e29bee57e",
   "execution_count": 398
  },
  {
   "cell_type": "code",
   "outputs": [
    {
     "data": {
      "text/plain": "                                 팀 포지션       생년월일       급여\nName                                                      \nShake Milton    Philadelphia 76ers  SG 1996-09-26  1445697\nChristian Wood     Detroit Pistons  PF 1995-09-27  1645357\nPJ Washington    Charlotte Hornets  PF 1998-08-23  3831840",
      "text/html": "<div>\n<style scoped>\n    .dataframe tbody tr th:only-of-type {\n        vertical-align: middle;\n    }\n\n    .dataframe tbody tr th {\n        vertical-align: top;\n    }\n\n    .dataframe thead th {\n        text-align: right;\n    }\n</style>\n<table border=\"1\" class=\"dataframe\">\n  <thead>\n    <tr style=\"text-align: right;\">\n      <th></th>\n      <th>팀</th>\n      <th>포지션</th>\n      <th>생년월일</th>\n      <th>급여</th>\n    </tr>\n    <tr>\n      <th>Name</th>\n      <th></th>\n      <th></th>\n      <th></th>\n      <th></th>\n    </tr>\n  </thead>\n  <tbody>\n    <tr>\n      <th>Shake Milton</th>\n      <td>Philadelphia 76ers</td>\n      <td>SG</td>\n      <td>1996-09-26</td>\n      <td>1445697</td>\n    </tr>\n    <tr>\n      <th>Christian Wood</th>\n      <td>Detroit Pistons</td>\n      <td>PF</td>\n      <td>1995-09-27</td>\n      <td>1645357</td>\n    </tr>\n    <tr>\n      <th>PJ Washington</th>\n      <td>Charlotte Hornets</td>\n      <td>PF</td>\n      <td>1998-08-23</td>\n      <td>3831840</td>\n    </tr>\n  </tbody>\n</table>\n</div>"
     },
     "execution_count": 399,
     "metadata": {},
     "output_type": "execute_result"
    }
   ],
   "source": [
    "nba_nameindex.columns = [\"팀\", \"포지션\", '생년월일', '급여']\n",
    "nba_nameindex.head(3)"
   ],
   "metadata": {
    "collapsed": false,
    "ExecuteTime": {
     "end_time": "2024-01-14T03:58:16.238524100Z",
     "start_time": "2024-01-14T03:58:16.117205700Z"
    }
   },
   "id": "4eea9355a1647ac2",
   "execution_count": 399
  },
  {
   "cell_type": "code",
   "outputs": [
    {
     "data": {
      "text/plain": "                                  팀 포지션   Birthday        급여\nName                                                        \nShake Milton     Philadelphia 76ers  SG 1996-09-26   1445697\nChristian Wood      Detroit Pistons  PF 1995-09-27   1645357\nPJ Washington     Charlotte Hornets  PF 1998-08-23   3831840\nDerrick Rose        Detroit Pistons  PG 1988-10-04   7317074\nMarial Shayok    Philadelphia 76ers   G 1995-07-26     79568\n...                             ...  ..        ...       ...\nAustin Rivers       Houston Rockets  PG 1992-08-01   2174310\nHarry Giles        Sacramento Kings  PF 1998-04-22   2578800\nRobin Lopez         Milwaukee Bucks   C 1988-04-01   4767000\nCollin Sexton   Cleveland Cavaliers  PG 1999-01-04   4764960\nRicky Rubio            Phoenix Suns  PG 1990-10-21  16200000\n\n[450 rows x 4 columns]",
      "text/html": "<div>\n<style scoped>\n    .dataframe tbody tr th:only-of-type {\n        vertical-align: middle;\n    }\n\n    .dataframe tbody tr th {\n        vertical-align: top;\n    }\n\n    .dataframe thead th {\n        text-align: right;\n    }\n</style>\n<table border=\"1\" class=\"dataframe\">\n  <thead>\n    <tr style=\"text-align: right;\">\n      <th></th>\n      <th>팀</th>\n      <th>포지션</th>\n      <th>Birthday</th>\n      <th>급여</th>\n    </tr>\n    <tr>\n      <th>Name</th>\n      <th></th>\n      <th></th>\n      <th></th>\n      <th></th>\n    </tr>\n  </thead>\n  <tbody>\n    <tr>\n      <th>Shake Milton</th>\n      <td>Philadelphia 76ers</td>\n      <td>SG</td>\n      <td>1996-09-26</td>\n      <td>1445697</td>\n    </tr>\n    <tr>\n      <th>Christian Wood</th>\n      <td>Detroit Pistons</td>\n      <td>PF</td>\n      <td>1995-09-27</td>\n      <td>1645357</td>\n    </tr>\n    <tr>\n      <th>PJ Washington</th>\n      <td>Charlotte Hornets</td>\n      <td>PF</td>\n      <td>1998-08-23</td>\n      <td>3831840</td>\n    </tr>\n    <tr>\n      <th>Derrick Rose</th>\n      <td>Detroit Pistons</td>\n      <td>PG</td>\n      <td>1988-10-04</td>\n      <td>7317074</td>\n    </tr>\n    <tr>\n      <th>Marial Shayok</th>\n      <td>Philadelphia 76ers</td>\n      <td>G</td>\n      <td>1995-07-26</td>\n      <td>79568</td>\n    </tr>\n    <tr>\n      <th>...</th>\n      <td>...</td>\n      <td>...</td>\n      <td>...</td>\n      <td>...</td>\n    </tr>\n    <tr>\n      <th>Austin Rivers</th>\n      <td>Houston Rockets</td>\n      <td>PG</td>\n      <td>1992-08-01</td>\n      <td>2174310</td>\n    </tr>\n    <tr>\n      <th>Harry Giles</th>\n      <td>Sacramento Kings</td>\n      <td>PF</td>\n      <td>1998-04-22</td>\n      <td>2578800</td>\n    </tr>\n    <tr>\n      <th>Robin Lopez</th>\n      <td>Milwaukee Bucks</td>\n      <td>C</td>\n      <td>1988-04-01</td>\n      <td>4767000</td>\n    </tr>\n    <tr>\n      <th>Collin Sexton</th>\n      <td>Cleveland Cavaliers</td>\n      <td>PG</td>\n      <td>1999-01-04</td>\n      <td>4764960</td>\n    </tr>\n    <tr>\n      <th>Ricky Rubio</th>\n      <td>Phoenix Suns</td>\n      <td>PG</td>\n      <td>1990-10-21</td>\n      <td>16200000</td>\n    </tr>\n  </tbody>\n</table>\n<p>450 rows × 4 columns</p>\n</div>"
     },
     "execution_count": 401,
     "metadata": {},
     "output_type": "execute_result"
    }
   ],
   "source": [
    "nba_nameindex.rename(columns= {\n",
    "    \"생년월일\" : \"Birthday\"\n",
    "}, inplace=True)\n",
    "nba_nameindex"
   ],
   "metadata": {
    "collapsed": false,
    "ExecuteTime": {
     "end_time": "2024-01-14T03:59:02.951467800Z",
     "start_time": "2024-01-14T03:59:02.834614400Z"
    }
   },
   "id": "eb430a5ade5b478b",
   "execution_count": 401
  },
  {
   "cell_type": "code",
   "outputs": [
    {
     "data": {
      "text/plain": "팀               Milwaukee Bucks\n포지션                          PF\nBirthday    1994-12-06 00:00:00\n급여                     25842697\nName: Giannis Antetokounmpo, dtype: object"
     },
     "execution_count": 402,
     "metadata": {},
     "output_type": "execute_result"
    }
   ],
   "source": [
    "nba_nameindex.loc[\"Giannis Antetokounmpo\"]"
   ],
   "metadata": {
    "collapsed": false,
    "ExecuteTime": {
     "end_time": "2024-01-14T03:59:41.266435600Z",
     "start_time": "2024-01-14T03:59:41.180674400Z"
    }
   },
   "id": "25dc9a4224ccc942",
   "execution_count": 402
  },
  {
   "cell_type": "code",
   "outputs": [
    {
     "data": {
      "text/plain": "팀               Milwaukee Bucks\n포지션                          PF\nBirthday    1994-12-06 00:00:00\n급여                     25842697\nName: Greek Freak, dtype: object"
     },
     "execution_count": 405,
     "metadata": {},
     "output_type": "execute_result"
    }
   ],
   "source": [
    "nba_nameindex.rename(index={\n",
    "    \"Giannis Antetokounmpo\": \"Greek Freak\"\n",
    "}, inplace=True)\n",
    "nba_nameindex.loc[\"Greek Freak\"]\n"
   ],
   "metadata": {
    "collapsed": false,
    "ExecuteTime": {
     "end_time": "2024-01-14T04:00:53.465121100Z",
     "start_time": "2024-01-14T04:00:53.363646700Z"
    }
   },
   "id": "cbc46a7d4495d716",
   "execution_count": 405
  },
  {
   "cell_type": "code",
   "outputs": [
    {
     "data": {
      "text/plain": "                   포지션   Birthday       급여\n팀                                         \nPhiladelphia 76ers  SG 1996-09-26  1445697\nDetroit Pistons     PF 1995-09-27  1645357\nCharlotte Hornets   PF 1998-08-23  3831840\nDetroit Pistons     PG 1988-10-04  7317074\nPhiladelphia 76ers   G 1995-07-26    79568",
      "text/html": "<div>\n<style scoped>\n    .dataframe tbody tr th:only-of-type {\n        vertical-align: middle;\n    }\n\n    .dataframe tbody tr th {\n        vertical-align: top;\n    }\n\n    .dataframe thead th {\n        text-align: right;\n    }\n</style>\n<table border=\"1\" class=\"dataframe\">\n  <thead>\n    <tr style=\"text-align: right;\">\n      <th></th>\n      <th>포지션</th>\n      <th>Birthday</th>\n      <th>급여</th>\n    </tr>\n    <tr>\n      <th>팀</th>\n      <th></th>\n      <th></th>\n      <th></th>\n    </tr>\n  </thead>\n  <tbody>\n    <tr>\n      <th>Philadelphia 76ers</th>\n      <td>SG</td>\n      <td>1996-09-26</td>\n      <td>1445697</td>\n    </tr>\n    <tr>\n      <th>Detroit Pistons</th>\n      <td>PF</td>\n      <td>1995-09-27</td>\n      <td>1645357</td>\n    </tr>\n    <tr>\n      <th>Charlotte Hornets</th>\n      <td>PF</td>\n      <td>1998-08-23</td>\n      <td>3831840</td>\n    </tr>\n    <tr>\n      <th>Detroit Pistons</th>\n      <td>PG</td>\n      <td>1988-10-04</td>\n      <td>7317074</td>\n    </tr>\n    <tr>\n      <th>Philadelphia 76ers</th>\n      <td>G</td>\n      <td>1995-07-26</td>\n      <td>79568</td>\n    </tr>\n  </tbody>\n</table>\n</div>"
     },
     "execution_count": 408,
     "metadata": {},
     "output_type": "execute_result"
    }
   ],
   "source": [
    "nba_nameindex.set_index(\"팀\").head()"
   ],
   "metadata": {
    "collapsed": false,
    "ExecuteTime": {
     "end_time": "2024-01-14T04:01:42.040448100Z",
     "start_time": "2024-01-14T04:01:41.855871Z"
    }
   },
   "id": "af217ba387d46f49",
   "execution_count": 408
  },
  {
   "cell_type": "code",
   "outputs": [
    {
     "data": {
      "text/plain": "             Name                   팀 포지션   Birthday       급여\n0    Shake Milton  Philadelphia 76ers  SG 1996-09-26  1445697\n1  Christian Wood     Detroit Pistons  PF 1995-09-27  1645357\n2   PJ Washington   Charlotte Hornets  PF 1998-08-23  3831840\n3    Derrick Rose     Detroit Pistons  PG 1988-10-04  7317074\n4   Marial Shayok  Philadelphia 76ers   G 1995-07-26    79568",
      "text/html": "<div>\n<style scoped>\n    .dataframe tbody tr th:only-of-type {\n        vertical-align: middle;\n    }\n\n    .dataframe tbody tr th {\n        vertical-align: top;\n    }\n\n    .dataframe thead th {\n        text-align: right;\n    }\n</style>\n<table border=\"1\" class=\"dataframe\">\n  <thead>\n    <tr style=\"text-align: right;\">\n      <th></th>\n      <th>Name</th>\n      <th>팀</th>\n      <th>포지션</th>\n      <th>Birthday</th>\n      <th>급여</th>\n    </tr>\n  </thead>\n  <tbody>\n    <tr>\n      <th>0</th>\n      <td>Shake Milton</td>\n      <td>Philadelphia 76ers</td>\n      <td>SG</td>\n      <td>1996-09-26</td>\n      <td>1445697</td>\n    </tr>\n    <tr>\n      <th>1</th>\n      <td>Christian Wood</td>\n      <td>Detroit Pistons</td>\n      <td>PF</td>\n      <td>1995-09-27</td>\n      <td>1645357</td>\n    </tr>\n    <tr>\n      <th>2</th>\n      <td>PJ Washington</td>\n      <td>Charlotte Hornets</td>\n      <td>PF</td>\n      <td>1998-08-23</td>\n      <td>3831840</td>\n    </tr>\n    <tr>\n      <th>3</th>\n      <td>Derrick Rose</td>\n      <td>Detroit Pistons</td>\n      <td>PG</td>\n      <td>1988-10-04</td>\n      <td>7317074</td>\n    </tr>\n    <tr>\n      <th>4</th>\n      <td>Marial Shayok</td>\n      <td>Philadelphia 76ers</td>\n      <td>G</td>\n      <td>1995-07-26</td>\n      <td>79568</td>\n    </tr>\n  </tbody>\n</table>\n</div>"
     },
     "execution_count": 409,
     "metadata": {},
     "output_type": "execute_result"
    }
   ],
   "source": [
    "nba_nameindex.reset_index().head()"
   ],
   "metadata": {
    "collapsed": false,
    "ExecuteTime": {
     "end_time": "2024-01-14T04:01:53.756819300Z",
     "start_time": "2024-01-14T04:01:53.668151800Z"
    }
   },
   "id": "30bef55c0e021aff",
   "execution_count": 409
  },
  {
   "cell_type": "code",
   "outputs": [
    {
     "data": {
      "text/plain": "                              Name 포지션   Birthday       급여\n팀                                                         \nPhiladelphia 76ers    Shake Milton  SG 1996-09-26  1445697\nDetroit Pistons     Christian Wood  PF 1995-09-27  1645357\nCharlotte Hornets    PJ Washington  PF 1998-08-23  3831840\nDetroit Pistons       Derrick Rose  PG 1988-10-04  7317074\nPhiladelphia 76ers   Marial Shayok   G 1995-07-26    79568",
      "text/html": "<div>\n<style scoped>\n    .dataframe tbody tr th:only-of-type {\n        vertical-align: middle;\n    }\n\n    .dataframe tbody tr th {\n        vertical-align: top;\n    }\n\n    .dataframe thead th {\n        text-align: right;\n    }\n</style>\n<table border=\"1\" class=\"dataframe\">\n  <thead>\n    <tr style=\"text-align: right;\">\n      <th></th>\n      <th>Name</th>\n      <th>포지션</th>\n      <th>Birthday</th>\n      <th>급여</th>\n    </tr>\n    <tr>\n      <th>팀</th>\n      <th></th>\n      <th></th>\n      <th></th>\n      <th></th>\n    </tr>\n  </thead>\n  <tbody>\n    <tr>\n      <th>Philadelphia 76ers</th>\n      <td>Shake Milton</td>\n      <td>SG</td>\n      <td>1996-09-26</td>\n      <td>1445697</td>\n    </tr>\n    <tr>\n      <th>Detroit Pistons</th>\n      <td>Christian Wood</td>\n      <td>PF</td>\n      <td>1995-09-27</td>\n      <td>1645357</td>\n    </tr>\n    <tr>\n      <th>Charlotte Hornets</th>\n      <td>PJ Washington</td>\n      <td>PF</td>\n      <td>1998-08-23</td>\n      <td>3831840</td>\n    </tr>\n    <tr>\n      <th>Detroit Pistons</th>\n      <td>Derrick Rose</td>\n      <td>PG</td>\n      <td>1988-10-04</td>\n      <td>7317074</td>\n    </tr>\n    <tr>\n      <th>Philadelphia 76ers</th>\n      <td>Marial Shayok</td>\n      <td>G</td>\n      <td>1995-07-26</td>\n      <td>79568</td>\n    </tr>\n  </tbody>\n</table>\n</div>"
     },
     "execution_count": 410,
     "metadata": {},
     "output_type": "execute_result"
    }
   ],
   "source": [
    "nba_nameindex.reset_index().set_index(\"팀\").head()"
   ],
   "metadata": {
    "collapsed": false,
    "ExecuteTime": {
     "end_time": "2024-01-14T04:02:34.632762700Z",
     "start_time": "2024-01-14T04:02:34.403131200Z"
    }
   },
   "id": "b671b8b62f4b976e",
   "execution_count": 410
  },
  {
   "cell_type": "code",
   "outputs": [
    {
     "data": {
      "text/plain": "                                    Team Position   Birthday   Salary\nName                                                                 \nTremon Smith         Philadelphia Eagles       RB 1996-07-20   570000\nShawn Williams        Cincinnati Bengals       SS 1991-05-13  3500000\nAdam Butler         New England Patriots       DT 1994-04-12   645000\nDerek Wolfe               Denver Broncos       DE 1990-02-24  8000000\nJake Ryan           Jacksonville Jaguars      OLB 1992-02-27  1000000\n...                                  ...      ...        ...      ...\nBashaud Breeland      Kansas City Chiefs       CB 1992-01-30   805000\nCraig James          Philadelphia Eagles       CB 1996-04-29   570000\nJonotthan Harrison         New York Jets        C 1991-08-25  1500000\nChuma Edoga                New York Jets       OT 1997-05-25   495000\nTajae Sharpe            Tennessee Titans       WR 1994-12-23  2025000\n\n[1655 rows x 4 columns]",
      "text/html": "<div>\n<style scoped>\n    .dataframe tbody tr th:only-of-type {\n        vertical-align: middle;\n    }\n\n    .dataframe tbody tr th {\n        vertical-align: top;\n    }\n\n    .dataframe thead th {\n        text-align: right;\n    }\n</style>\n<table border=\"1\" class=\"dataframe\">\n  <thead>\n    <tr style=\"text-align: right;\">\n      <th></th>\n      <th>Team</th>\n      <th>Position</th>\n      <th>Birthday</th>\n      <th>Salary</th>\n    </tr>\n    <tr>\n      <th>Name</th>\n      <th></th>\n      <th></th>\n      <th></th>\n      <th></th>\n    </tr>\n  </thead>\n  <tbody>\n    <tr>\n      <th>Tremon Smith</th>\n      <td>Philadelphia Eagles</td>\n      <td>RB</td>\n      <td>1996-07-20</td>\n      <td>570000</td>\n    </tr>\n    <tr>\n      <th>Shawn Williams</th>\n      <td>Cincinnati Bengals</td>\n      <td>SS</td>\n      <td>1991-05-13</td>\n      <td>3500000</td>\n    </tr>\n    <tr>\n      <th>Adam Butler</th>\n      <td>New England Patriots</td>\n      <td>DT</td>\n      <td>1994-04-12</td>\n      <td>645000</td>\n    </tr>\n    <tr>\n      <th>Derek Wolfe</th>\n      <td>Denver Broncos</td>\n      <td>DE</td>\n      <td>1990-02-24</td>\n      <td>8000000</td>\n    </tr>\n    <tr>\n      <th>Jake Ryan</th>\n      <td>Jacksonville Jaguars</td>\n      <td>OLB</td>\n      <td>1992-02-27</td>\n      <td>1000000</td>\n    </tr>\n    <tr>\n      <th>...</th>\n      <td>...</td>\n      <td>...</td>\n      <td>...</td>\n      <td>...</td>\n    </tr>\n    <tr>\n      <th>Bashaud Breeland</th>\n      <td>Kansas City Chiefs</td>\n      <td>CB</td>\n      <td>1992-01-30</td>\n      <td>805000</td>\n    </tr>\n    <tr>\n      <th>Craig James</th>\n      <td>Philadelphia Eagles</td>\n      <td>CB</td>\n      <td>1996-04-29</td>\n      <td>570000</td>\n    </tr>\n    <tr>\n      <th>Jonotthan Harrison</th>\n      <td>New York Jets</td>\n      <td>C</td>\n      <td>1991-08-25</td>\n      <td>1500000</td>\n    </tr>\n    <tr>\n      <th>Chuma Edoga</th>\n      <td>New York Jets</td>\n      <td>OT</td>\n      <td>1997-05-25</td>\n      <td>495000</td>\n    </tr>\n    <tr>\n      <th>Tajae Sharpe</th>\n      <td>Tennessee Titans</td>\n      <td>WR</td>\n      <td>1994-12-23</td>\n      <td>2025000</td>\n    </tr>\n  </tbody>\n</table>\n<p>1655 rows × 4 columns</p>\n</div>"
     },
     "execution_count": 412,
     "metadata": {},
     "output_type": "execute_result"
    }
   ],
   "source": [
    "nfl = pd.read_csv(\n",
    "    \"../DATA/nfl.csv\",\n",
    "    parse_dates=[\"Birthday\"],\n",
    "    index_col=\"Name\",\n",
    ")\n",
    "nfl"
   ],
   "metadata": {
    "collapsed": false,
    "ExecuteTime": {
     "end_time": "2024-01-14T04:07:10.293310300Z",
     "start_time": "2024-01-14T04:07:10.138891500Z"
    }
   },
   "id": "f51414ef02e110fb",
   "execution_count": 412
  },
  {
   "cell_type": "code",
   "outputs": [],
   "source": [
    "nfl.reset_index(inplace=True)\n",
    "nfl.set_index(\"Name\",inplace=True)"
   ],
   "metadata": {
    "collapsed": false,
    "ExecuteTime": {
     "end_time": "2024-01-14T04:08:29.360854800Z",
     "start_time": "2024-01-14T04:08:29.247121100Z"
    }
   },
   "id": "27dc9d8d69fbfb11",
   "execution_count": 416
  },
  {
   "cell_type": "code",
   "outputs": [
    {
     "data": {
      "text/plain": "Team                \nNew York Jets           58\nWashington Redskins     56\nKansas City Chiefs      56\nSan Francisco 49Ers     55\nNew Orleans Saints      55\nDenver Broncos          54\nMinnesota Vikings       54\nLos Angeles Chargers    54\nDallas Cowboys          53\nChicago Bears           53\nDetroit Lions           53\nSeattle Seahawks        53\nBuffalo Bills           53\nAtlanta Falcons         53\nHouston Texans          52\nPhiladelphia Eagles     52\nLos Angeles Rams        52\nNew York Giants         52\nOakland Raiders         51\nArizona Cardinals       51\nCincinnati Bengals      51\nGreen Bay Packers       51\nJacksonville Jaguars    50\nCleveland Browns        49\nCarolina Panthers       49\nMiami Dolphins          49\nIndianapolis Colts      49\nNew England Patriots    49\nBaltimore Ravens        48\nPittsburgh Steelers     47\nTampa Bay Buccaneers    47\nTennessee Titans        46\nName: count, dtype: int64"
     },
     "execution_count": 417,
     "metadata": {},
     "output_type": "execute_result"
    }
   ],
   "source": [
    "nfl.value_counts([\"Team\"])"
   ],
   "metadata": {
    "collapsed": false,
    "ExecuteTime": {
     "end_time": "2024-01-14T04:08:51.851446100Z",
     "start_time": "2024-01-14T04:08:51.727604300Z"
    }
   },
   "id": "9eab28b618e092e",
   "execution_count": 417
  },
  {
   "cell_type": "code",
   "outputs": [
    {
     "data": {
      "text/plain": "                                 Team Position   Birthday    Salary\nName                                                               \nKirk Cousins        Minnesota Vikings       QB 1988-08-19  27500000\nJameis Winston   Tampa Bay Buccaneers       QB 1994-01-06  20922000\nMarcus Mariota       Tennessee Titans       QB 1993-10-30  20922000\nDerek Carr            Oakland Raiders       QB 1991-03-28  19900000\nJimmy Garoppolo   San Francisco 49Ers       QB 1991-11-02  17200000",
      "text/html": "<div>\n<style scoped>\n    .dataframe tbody tr th:only-of-type {\n        vertical-align: middle;\n    }\n\n    .dataframe tbody tr th {\n        vertical-align: top;\n    }\n\n    .dataframe thead th {\n        text-align: right;\n    }\n</style>\n<table border=\"1\" class=\"dataframe\">\n  <thead>\n    <tr style=\"text-align: right;\">\n      <th></th>\n      <th>Team</th>\n      <th>Position</th>\n      <th>Birthday</th>\n      <th>Salary</th>\n    </tr>\n    <tr>\n      <th>Name</th>\n      <th></th>\n      <th></th>\n      <th></th>\n      <th></th>\n    </tr>\n  </thead>\n  <tbody>\n    <tr>\n      <th>Kirk Cousins</th>\n      <td>Minnesota Vikings</td>\n      <td>QB</td>\n      <td>1988-08-19</td>\n      <td>27500000</td>\n    </tr>\n    <tr>\n      <th>Jameis Winston</th>\n      <td>Tampa Bay Buccaneers</td>\n      <td>QB</td>\n      <td>1994-01-06</td>\n      <td>20922000</td>\n    </tr>\n    <tr>\n      <th>Marcus Mariota</th>\n      <td>Tennessee Titans</td>\n      <td>QB</td>\n      <td>1993-10-30</td>\n      <td>20922000</td>\n    </tr>\n    <tr>\n      <th>Derek Carr</th>\n      <td>Oakland Raiders</td>\n      <td>QB</td>\n      <td>1991-03-28</td>\n      <td>19900000</td>\n    </tr>\n    <tr>\n      <th>Jimmy Garoppolo</th>\n      <td>San Francisco 49Ers</td>\n      <td>QB</td>\n      <td>1991-11-02</td>\n      <td>17200000</td>\n    </tr>\n  </tbody>\n</table>\n</div>"
     },
     "execution_count": 419,
     "metadata": {},
     "output_type": "execute_result"
    }
   ],
   "source": [
    "nfl.sort_values(by = \"Salary\", ascending=False).head(5)"
   ],
   "metadata": {
    "collapsed": false,
    "ExecuteTime": {
     "end_time": "2024-01-14T04:10:10.288284400Z",
     "start_time": "2024-01-14T04:10:10.185082100Z"
    }
   },
   "id": "6a15b8c8dee88dfe",
   "execution_count": 419
  },
  {
   "cell_type": "code",
   "outputs": [
    {
     "data": {
      "text/plain": "                                   Team Position   Birthday    Salary\nName                                                                 \nChandler Jones        Arizona Cardinals      OLB 1990-02-27  16500000\nPatrick Peterson      Arizona Cardinals       CB 1990-07-11  11000000\nLarry Fitzgerald      Arizona Cardinals       WR 1983-08-31  11000000\nDavid Johnson         Arizona Cardinals       RB 1991-12-16   5700000\nJustin Pugh           Arizona Cardinals        G 1990-08-15   5000000\n...                                 ...      ...        ...       ...\nRoss Pierschbacher  Washington Redskins        C 1995-05-05    495000\nKelvin Harmon       Washington Redskins       WR 1996-12-15    495000\nWes Martin          Washington Redskins        G 1996-05-09    495000\nJimmy Moreland      Washington Redskins       CB 1995-08-26    495000\nJeremy Reaves       Washington Redskins       SS 1996-08-29    495000\n\n[1655 rows x 4 columns]",
      "text/html": "<div>\n<style scoped>\n    .dataframe tbody tr th:only-of-type {\n        vertical-align: middle;\n    }\n\n    .dataframe tbody tr th {\n        vertical-align: top;\n    }\n\n    .dataframe thead th {\n        text-align: right;\n    }\n</style>\n<table border=\"1\" class=\"dataframe\">\n  <thead>\n    <tr style=\"text-align: right;\">\n      <th></th>\n      <th>Team</th>\n      <th>Position</th>\n      <th>Birthday</th>\n      <th>Salary</th>\n    </tr>\n    <tr>\n      <th>Name</th>\n      <th></th>\n      <th></th>\n      <th></th>\n      <th></th>\n    </tr>\n  </thead>\n  <tbody>\n    <tr>\n      <th>Chandler Jones</th>\n      <td>Arizona Cardinals</td>\n      <td>OLB</td>\n      <td>1990-02-27</td>\n      <td>16500000</td>\n    </tr>\n    <tr>\n      <th>Patrick Peterson</th>\n      <td>Arizona Cardinals</td>\n      <td>CB</td>\n      <td>1990-07-11</td>\n      <td>11000000</td>\n    </tr>\n    <tr>\n      <th>Larry Fitzgerald</th>\n      <td>Arizona Cardinals</td>\n      <td>WR</td>\n      <td>1983-08-31</td>\n      <td>11000000</td>\n    </tr>\n    <tr>\n      <th>David Johnson</th>\n      <td>Arizona Cardinals</td>\n      <td>RB</td>\n      <td>1991-12-16</td>\n      <td>5700000</td>\n    </tr>\n    <tr>\n      <th>Justin Pugh</th>\n      <td>Arizona Cardinals</td>\n      <td>G</td>\n      <td>1990-08-15</td>\n      <td>5000000</td>\n    </tr>\n    <tr>\n      <th>...</th>\n      <td>...</td>\n      <td>...</td>\n      <td>...</td>\n      <td>...</td>\n    </tr>\n    <tr>\n      <th>Ross Pierschbacher</th>\n      <td>Washington Redskins</td>\n      <td>C</td>\n      <td>1995-05-05</td>\n      <td>495000</td>\n    </tr>\n    <tr>\n      <th>Kelvin Harmon</th>\n      <td>Washington Redskins</td>\n      <td>WR</td>\n      <td>1996-12-15</td>\n      <td>495000</td>\n    </tr>\n    <tr>\n      <th>Wes Martin</th>\n      <td>Washington Redskins</td>\n      <td>G</td>\n      <td>1996-05-09</td>\n      <td>495000</td>\n    </tr>\n    <tr>\n      <th>Jimmy Moreland</th>\n      <td>Washington Redskins</td>\n      <td>CB</td>\n      <td>1995-08-26</td>\n      <td>495000</td>\n    </tr>\n    <tr>\n      <th>Jeremy Reaves</th>\n      <td>Washington Redskins</td>\n      <td>SS</td>\n      <td>1996-08-29</td>\n      <td>495000</td>\n    </tr>\n  </tbody>\n</table>\n<p>1655 rows × 4 columns</p>\n</div>"
     },
     "execution_count": 420,
     "metadata": {},
     "output_type": "execute_result"
    }
   ],
   "source": [
    "nfl.sort_values(by = [\"Team\", \"Salary\"], ascending=[True, False])"
   ],
   "metadata": {
    "collapsed": false,
    "ExecuteTime": {
     "end_time": "2024-01-14T04:11:12.107455800Z",
     "start_time": "2024-01-14T04:11:11.897843800Z"
    }
   },
   "id": "57b935a9de9d961c",
   "execution_count": 420
  },
  {
   "cell_type": "code",
   "outputs": [
    {
     "data": {
      "text/plain": "'Tom Brady'"
     },
     "execution_count": 422,
     "metadata": {},
     "output_type": "execute_result"
    }
   ],
   "source": [
    "nfl.sort_values(by = \"Birthday\" , ascending=True).head(1).index[0]"
   ],
   "metadata": {
    "collapsed": false,
    "ExecuteTime": {
     "end_time": "2024-01-14T04:12:43.152960300Z",
     "start_time": "2024-01-14T04:12:42.996115600Z"
    }
   },
   "id": "b701d854cad4bce3",
   "execution_count": 422
  },
  {
   "cell_type": "code",
   "outputs": [
    {
     "data": {
      "text/plain": "Timestamp('1977-08-03 00:00:00')"
     },
     "execution_count": 425,
     "metadata": {},
     "output_type": "execute_result"
    }
   ],
   "source": [
    "nfl.sort_values(by = \"Birthday\" , ascending=True).head(1).Birthday.iloc[0]"
   ],
   "metadata": {
    "collapsed": false,
    "ExecuteTime": {
     "end_time": "2024-01-14T04:13:52.997197100Z",
     "start_time": "2024-01-14T04:13:52.811190200Z"
    }
   },
   "id": "93e938cef0c4f6af",
   "execution_count": 425
  },
  {
   "cell_type": "code",
   "outputs": [],
   "source": [],
   "metadata": {
    "collapsed": false
   },
   "id": "562e22ef2c2985b3"
  }
 ],
 "metadata": {
  "kernelspec": {
   "display_name": "Python 3",
   "language": "python",
   "name": "python3"
  },
  "language_info": {
   "codemirror_mode": {
    "name": "ipython",
    "version": 2
   },
   "file_extension": ".py",
   "mimetype": "text/x-python",
   "name": "python",
   "nbconvert_exporter": "python",
   "pygments_lexer": "ipython2",
   "version": "2.7.6"
  }
 },
 "nbformat": 4,
 "nbformat_minor": 5
}
