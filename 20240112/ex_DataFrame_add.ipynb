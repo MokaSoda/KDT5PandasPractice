{
 "cells": [
  {
   "cell_type": "markdown",
   "source": [
    "## [DataFrame 에 행/열 추가]"
   ],
   "metadata": {
    "collapsed": false
   },
   "id": "10e7a0c33dd5d936"
  },
  {
   "cell_type": "markdown",
   "source": [
    "(1) 모듈 로딩 <hr>"
   ],
   "metadata": {
    "collapsed": false
   },
   "id": "a9d41ee432c552e0"
  },
  {
   "cell_type": "code",
   "outputs": [],
   "source": [
    "import pandas as pd\n",
    "import random"
   ],
   "metadata": {
    "collapsed": false,
    "ExecuteTime": {
     "end_time": "2024-01-12T01:29:26.267060300Z",
     "start_time": "2024-01-12T01:29:26.218589500Z"
    }
   },
   "id": "1649afe0f48b8e9b",
   "execution_count": 53
  },
  {
   "cell_type": "markdown",
   "source": [
    "(2) 데이터준비 <hr>"
   ],
   "metadata": {
    "collapsed": false
   },
   "id": "37feffdf07bde883"
  },
  {
   "cell_type": "code",
   "outputs": [],
   "source": [
    "# dict 타입의 데이터를 준비\n",
    "def genRandomScore(i = 5, start = 60, end = 100):\n",
    "    return [x for x in random.sample(range(start, end + 1),i)]\n",
    "exam = {\n",
    "    'name' : ['가나다',\n",
    "              '마바사',\n",
    "              '아자차',\n",
    "              '차카파',\n",
    "              '타파하',\n",
    "              ],\n",
    "    'math' : genRandomScore(),\n",
    "    'korean' : genRandomScore(),\n",
    "    'art' : genRandomScore(),\n",
    "    'gym' : genRandomScore(),\n",
    "}"
   ],
   "metadata": {
    "collapsed": false,
    "ExecuteTime": {
     "end_time": "2024-01-12T01:29:26.351652900Z",
     "start_time": "2024-01-12T01:29:26.306138100Z"
    }
   },
   "id": "f07db16ef8916d4",
   "execution_count": 54
  },
  {
   "cell_type": "code",
   "outputs": [
    {
     "data": {
      "text/plain": "  name  math  korean  art  gym\n0  가나다    82      72   67   78\n1  마바사    69      73   85   84\n2  아자차    61      68   78   87\n3  차카파    91      84   72   92\n4  타파하    70      88   63   70",
      "text/html": "<div>\n<style scoped>\n    .dataframe tbody tr th:only-of-type {\n        vertical-align: middle;\n    }\n\n    .dataframe tbody tr th {\n        vertical-align: top;\n    }\n\n    .dataframe thead th {\n        text-align: right;\n    }\n</style>\n<table border=\"1\" class=\"dataframe\">\n  <thead>\n    <tr style=\"text-align: right;\">\n      <th></th>\n      <th>name</th>\n      <th>math</th>\n      <th>korean</th>\n      <th>art</th>\n      <th>gym</th>\n    </tr>\n  </thead>\n  <tbody>\n    <tr>\n      <th>0</th>\n      <td>가나다</td>\n      <td>82</td>\n      <td>72</td>\n      <td>67</td>\n      <td>78</td>\n    </tr>\n    <tr>\n      <th>1</th>\n      <td>마바사</td>\n      <td>69</td>\n      <td>73</td>\n      <td>85</td>\n      <td>84</td>\n    </tr>\n    <tr>\n      <th>2</th>\n      <td>아자차</td>\n      <td>61</td>\n      <td>68</td>\n      <td>78</td>\n      <td>87</td>\n    </tr>\n    <tr>\n      <th>3</th>\n      <td>차카파</td>\n      <td>91</td>\n      <td>84</td>\n      <td>72</td>\n      <td>92</td>\n    </tr>\n    <tr>\n      <th>4</th>\n      <td>타파하</td>\n      <td>70</td>\n      <td>88</td>\n      <td>63</td>\n      <td>70</td>\n    </tr>\n  </tbody>\n</table>\n</div>"
     },
     "execution_count": 55,
     "metadata": {},
     "output_type": "execute_result"
    }
   ],
   "source": [
    "examDF = pd.DataFrame(exam)\n",
    "examDF"
   ],
   "metadata": {
    "collapsed": false,
    "ExecuteTime": {
     "end_time": "2024-01-12T01:29:26.355645Z",
     "start_time": "2024-01-12T01:29:26.332200700Z"
    }
   },
   "id": "280fe1275a35da58",
   "execution_count": 55
  },
  {
   "cell_type": "markdown",
   "source": [
    "(4) 저장된 데이터 속성 확인 <hr> "
   ],
   "metadata": {
    "collapsed": false
   },
   "id": "afb52180af5957f3"
  },
  {
   "cell_type": "code",
   "outputs": [
    {
     "name": "stdout",
     "output_type": "stream",
     "text": [
      "index\n",
      "====> RangeIndex(start=0, stop=5, step=1)\n",
      "columns\n",
      "====> Index(['name', 'math', 'korean', 'art', 'gym'], dtype='object')\n",
      "shape\n",
      "====> (5, 5)\n",
      "dim\n",
      "====> 2\n",
      "type\n",
      "====> name      object\n",
      "math       int64\n",
      "korean     int64\n",
      "art        int64\n",
      "gym        int64\n",
      "dtype: object\n"
     ]
    }
   ],
   "source": [
    "def dfPropertyPrint(DF):\n",
    "    print(f\"index\"\n",
    "    f\"\\n====> {DF.index}\"\n",
    "    f\"\\ncolumns\"\n",
    "    f\"\\n====> {DF.columns}\"\n",
    "    f\"\\nshape\"\n",
    "    f\"\\n====> {DF.shape}\"\n",
    "    f\"\\ndim\"\n",
    "    f\"\\n====> {DF.ndim}\"\n",
    "    f\"\\ntype\"\n",
    "    f\"\\n====> {DF.dtypes}\")\n",
    "\n",
    "dfPropertyPrint(examDF)"
   ],
   "metadata": {
    "collapsed": false,
    "ExecuteTime": {
     "end_time": "2024-01-12T01:29:26.373674400Z",
     "start_time": "2024-01-12T01:29:26.357638300Z"
    }
   },
   "id": "f567e025342bf6c9",
   "execution_count": 56
  },
  {
   "cell_type": "code",
   "outputs": [
    {
     "data": {
      "text/plain": "  name  math  korean  art  gym\n0  가나다    82      72   67   78\n1  마바사    69      73   85   84\n2  아자차    61      68   78   87\n3  차카파    91      84   72   92\n4  타파하    70      88   63   70",
      "text/html": "<div>\n<style scoped>\n    .dataframe tbody tr th:only-of-type {\n        vertical-align: middle;\n    }\n\n    .dataframe tbody tr th {\n        vertical-align: top;\n    }\n\n    .dataframe thead th {\n        text-align: right;\n    }\n</style>\n<table border=\"1\" class=\"dataframe\">\n  <thead>\n    <tr style=\"text-align: right;\">\n      <th></th>\n      <th>name</th>\n      <th>math</th>\n      <th>korean</th>\n      <th>art</th>\n      <th>gym</th>\n    </tr>\n  </thead>\n  <tbody>\n    <tr>\n      <th>0</th>\n      <td>가나다</td>\n      <td>82</td>\n      <td>72</td>\n      <td>67</td>\n      <td>78</td>\n    </tr>\n    <tr>\n      <th>1</th>\n      <td>마바사</td>\n      <td>69</td>\n      <td>73</td>\n      <td>85</td>\n      <td>84</td>\n    </tr>\n    <tr>\n      <th>2</th>\n      <td>아자차</td>\n      <td>61</td>\n      <td>68</td>\n      <td>78</td>\n      <td>87</td>\n    </tr>\n    <tr>\n      <th>3</th>\n      <td>차카파</td>\n      <td>91</td>\n      <td>84</td>\n      <td>72</td>\n      <td>92</td>\n    </tr>\n    <tr>\n      <th>4</th>\n      <td>타파하</td>\n      <td>70</td>\n      <td>88</td>\n      <td>63</td>\n      <td>70</td>\n    </tr>\n  </tbody>\n</table>\n</div>"
     },
     "execution_count": 57,
     "metadata": {},
     "output_type": "execute_result"
    }
   ],
   "source": [
    "examDF"
   ],
   "metadata": {
    "collapsed": false,
    "ExecuteTime": {
     "end_time": "2024-01-12T01:29:26.428856300Z",
     "start_time": "2024-01-12T01:29:26.379653900Z"
    }
   },
   "id": "e3c1077f938c5296",
   "execution_count": 57
  },
  {
   "cell_type": "markdown",
   "source": [
    "#### (5) 데이터프레임에 컬럼 추가\n",
    "- 방법 : DF객체변수명[새로운컬럼명] = 값\n",
    "\n"
   ],
   "metadata": {
    "collapsed": false
   },
   "id": "d0856731cf3a158a"
  },
  {
   "cell_type": "code",
   "outputs": [
    {
     "data": {
      "text/plain": "Index(['name', 'math', 'korean', 'art', 'gym'], dtype='object')"
     },
     "execution_count": 58,
     "metadata": {},
     "output_type": "execute_result"
    }
   ],
   "source": [
    "examDF.columns"
   ],
   "metadata": {
    "collapsed": false,
    "ExecuteTime": {
     "end_time": "2024-01-12T01:29:26.468880900Z",
     "start_time": "2024-01-12T01:29:26.399033100Z"
    }
   },
   "id": "7685295fa6e50880",
   "execution_count": 58
  },
  {
   "cell_type": "code",
   "outputs": [
    {
     "data": {
      "text/plain": "  name  math  korean  art  gym  eng\n0  가나다    82      72   67   78   66\n1  마바사    69      73   85   84   81\n2  아자차    61      68   78   87   98\n3  차카파    91      84   72   92   88\n4  타파하    70      88   63   70   84",
      "text/html": "<div>\n<style scoped>\n    .dataframe tbody tr th:only-of-type {\n        vertical-align: middle;\n    }\n\n    .dataframe tbody tr th {\n        vertical-align: top;\n    }\n\n    .dataframe thead th {\n        text-align: right;\n    }\n</style>\n<table border=\"1\" class=\"dataframe\">\n  <thead>\n    <tr style=\"text-align: right;\">\n      <th></th>\n      <th>name</th>\n      <th>math</th>\n      <th>korean</th>\n      <th>art</th>\n      <th>gym</th>\n      <th>eng</th>\n    </tr>\n  </thead>\n  <tbody>\n    <tr>\n      <th>0</th>\n      <td>가나다</td>\n      <td>82</td>\n      <td>72</td>\n      <td>67</td>\n      <td>78</td>\n      <td>66</td>\n    </tr>\n    <tr>\n      <th>1</th>\n      <td>마바사</td>\n      <td>69</td>\n      <td>73</td>\n      <td>85</td>\n      <td>84</td>\n      <td>81</td>\n    </tr>\n    <tr>\n      <th>2</th>\n      <td>아자차</td>\n      <td>61</td>\n      <td>68</td>\n      <td>78</td>\n      <td>87</td>\n      <td>98</td>\n    </tr>\n    <tr>\n      <th>3</th>\n      <td>차카파</td>\n      <td>91</td>\n      <td>84</td>\n      <td>72</td>\n      <td>92</td>\n      <td>88</td>\n    </tr>\n    <tr>\n      <th>4</th>\n      <td>타파하</td>\n      <td>70</td>\n      <td>88</td>\n      <td>63</td>\n      <td>70</td>\n      <td>84</td>\n    </tr>\n  </tbody>\n</table>\n</div>"
     },
     "execution_count": 59,
     "metadata": {},
     "output_type": "execute_result"
    }
   ],
   "source": [
    "# 행 갯수만큼 값 추가\n",
    "examDF['eng'] = genRandomScore(5)\n",
    "examDF"
   ],
   "metadata": {
    "collapsed": false,
    "ExecuteTime": {
     "end_time": "2024-01-12T01:29:26.514972800Z",
     "start_time": "2024-01-12T01:29:26.418730Z"
    }
   },
   "id": "972fa91b3e1cef15",
   "execution_count": 59
  },
  {
   "cell_type": "code",
   "outputs": [
    {
     "data": {
      "text/plain": "  name  math  korean  art  gym  eng  sci\n0  가나다    82      72   67   78   66   85\n1  마바사    69      73   85   84   81   85\n2  아자차    61      68   78   87   98   85\n3  차카파    91      84   72   92   88   85\n4  타파하    70      88   63   70   84   85",
      "text/html": "<div>\n<style scoped>\n    .dataframe tbody tr th:only-of-type {\n        vertical-align: middle;\n    }\n\n    .dataframe tbody tr th {\n        vertical-align: top;\n    }\n\n    .dataframe thead th {\n        text-align: right;\n    }\n</style>\n<table border=\"1\" class=\"dataframe\">\n  <thead>\n    <tr style=\"text-align: right;\">\n      <th></th>\n      <th>name</th>\n      <th>math</th>\n      <th>korean</th>\n      <th>art</th>\n      <th>gym</th>\n      <th>eng</th>\n      <th>sci</th>\n    </tr>\n  </thead>\n  <tbody>\n    <tr>\n      <th>0</th>\n      <td>가나다</td>\n      <td>82</td>\n      <td>72</td>\n      <td>67</td>\n      <td>78</td>\n      <td>66</td>\n      <td>85</td>\n    </tr>\n    <tr>\n      <th>1</th>\n      <td>마바사</td>\n      <td>69</td>\n      <td>73</td>\n      <td>85</td>\n      <td>84</td>\n      <td>81</td>\n      <td>85</td>\n    </tr>\n    <tr>\n      <th>2</th>\n      <td>아자차</td>\n      <td>61</td>\n      <td>68</td>\n      <td>78</td>\n      <td>87</td>\n      <td>98</td>\n      <td>85</td>\n    </tr>\n    <tr>\n      <th>3</th>\n      <td>차카파</td>\n      <td>91</td>\n      <td>84</td>\n      <td>72</td>\n      <td>92</td>\n      <td>88</td>\n      <td>85</td>\n    </tr>\n    <tr>\n      <th>4</th>\n      <td>타파하</td>\n      <td>70</td>\n      <td>88</td>\n      <td>63</td>\n      <td>70</td>\n      <td>84</td>\n      <td>85</td>\n    </tr>\n  </tbody>\n</table>\n</div>"
     },
     "execution_count": 60,
     "metadata": {},
     "output_type": "execute_result"
    }
   ],
   "source": [
    "# 1개의 데이터 즉 값 추가시 모든 행에 동일 값으로 저장\n",
    "examDF['sci'] = 85\n",
    "examDF"
   ],
   "metadata": {
    "collapsed": false,
    "ExecuteTime": {
     "end_time": "2024-01-12T01:29:26.532959700Z",
     "start_time": "2024-01-12T01:29:26.478190Z"
    }
   },
   "id": "6e2f7e77e61c7d31",
   "execution_count": 60
  },
  {
   "cell_type": "code",
   "outputs": [],
   "source": [
    "# 만약 여러개의 데이터를 추가하는 경우 index의 갯수와 동일하게 추가해야함\n",
    "# examDF['comp'] = 89, 10\n",
    "# 이 코드 역시 1개만 지정하였기 떄문에 에러가 발생함\n",
    "# examDF['comp'] = [88]\n",
    "# "
   ],
   "metadata": {
    "collapsed": false,
    "ExecuteTime": {
     "end_time": "2024-01-12T01:29:26.653399200Z",
     "start_time": "2024-01-12T01:29:26.535948600Z"
    }
   },
   "id": "17dc3f9c72e33284",
   "execution_count": 61
  },
  {
   "cell_type": "markdown",
   "source": [
    "(6) DataFrame의 행(row) 추가  \n",
    "\n",
    "- 방법 : DF객체변수명.loc[새로운 행 인덱스] = [컬럼 수 만큼 데이터]\n",
    "- 방법2 : DF객체변수명.loc[새로운 행 인덱스] = 데이터\n",
    "- 불가 방법 : DF객체변수명.iloc[행 인덱스] = 데이터 => 데이터 존재해야지 인덱스 할당됨"
   ],
   "metadata": {
    "collapsed": false
   },
   "id": "a7b8e0105ee03a91"
  },
  {
   "cell_type": "code",
   "outputs": [
    {
     "data": {
      "text/plain": "RangeIndex(start=0, stop=5, step=1)"
     },
     "execution_count": 62,
     "metadata": {},
     "output_type": "execute_result"
    }
   ],
   "source": [
    "examDF.index"
   ],
   "metadata": {
    "collapsed": false,
    "ExecuteTime": {
     "end_time": "2024-01-12T01:29:26.716509400Z",
     "start_time": "2024-01-12T01:29:26.609608200Z"
    }
   },
   "id": "2fea7f0d47130ea8",
   "execution_count": 62
  },
  {
   "cell_type": "code",
   "outputs": [],
   "source": [
    "# 컬럼 수 만큼의 데이터를 가진 행을 추가\n",
    "examDF.loc[len(examDF.index)] = ['Anons'] + genRandomScore(6)"
   ],
   "metadata": {
    "collapsed": false,
    "ExecuteTime": {
     "end_time": "2024-01-12T01:29:26.736569Z",
     "start_time": "2024-01-12T01:29:26.669903600Z"
    }
   },
   "id": "2b0c14ae224e620b",
   "execution_count": 63
  },
  {
   "cell_type": "code",
   "outputs": [
    {
     "data": {
      "text/plain": "    name  math  korean  art  gym  eng  sci\n0    가나다    82      72   67   78   66   85\n1    마바사    69      73   85   84   81   85\n2    아자차    61      68   78   87   98   85\n3    차카파    91      84   72   92   88   85\n4    타파하    70      88   63   70   84   85\n5  Anons    95      68   66   83   86   63",
      "text/html": "<div>\n<style scoped>\n    .dataframe tbody tr th:only-of-type {\n        vertical-align: middle;\n    }\n\n    .dataframe tbody tr th {\n        vertical-align: top;\n    }\n\n    .dataframe thead th {\n        text-align: right;\n    }\n</style>\n<table border=\"1\" class=\"dataframe\">\n  <thead>\n    <tr style=\"text-align: right;\">\n      <th></th>\n      <th>name</th>\n      <th>math</th>\n      <th>korean</th>\n      <th>art</th>\n      <th>gym</th>\n      <th>eng</th>\n      <th>sci</th>\n    </tr>\n  </thead>\n  <tbody>\n    <tr>\n      <th>0</th>\n      <td>가나다</td>\n      <td>82</td>\n      <td>72</td>\n      <td>67</td>\n      <td>78</td>\n      <td>66</td>\n      <td>85</td>\n    </tr>\n    <tr>\n      <th>1</th>\n      <td>마바사</td>\n      <td>69</td>\n      <td>73</td>\n      <td>85</td>\n      <td>84</td>\n      <td>81</td>\n      <td>85</td>\n    </tr>\n    <tr>\n      <th>2</th>\n      <td>아자차</td>\n      <td>61</td>\n      <td>68</td>\n      <td>78</td>\n      <td>87</td>\n      <td>98</td>\n      <td>85</td>\n    </tr>\n    <tr>\n      <th>3</th>\n      <td>차카파</td>\n      <td>91</td>\n      <td>84</td>\n      <td>72</td>\n      <td>92</td>\n      <td>88</td>\n      <td>85</td>\n    </tr>\n    <tr>\n      <th>4</th>\n      <td>타파하</td>\n      <td>70</td>\n      <td>88</td>\n      <td>63</td>\n      <td>70</td>\n      <td>84</td>\n      <td>85</td>\n    </tr>\n    <tr>\n      <th>5</th>\n      <td>Anons</td>\n      <td>95</td>\n      <td>68</td>\n      <td>66</td>\n      <td>83</td>\n      <td>86</td>\n      <td>63</td>\n    </tr>\n  </tbody>\n</table>\n</div>"
     },
     "execution_count": 64,
     "metadata": {},
     "output_type": "execute_result"
    }
   ],
   "source": [
    "examDF"
   ],
   "metadata": {
    "collapsed": false,
    "ExecuteTime": {
     "end_time": "2024-01-12T01:29:26.770533800Z",
     "start_time": "2024-01-12T01:29:26.744032800Z"
    }
   },
   "id": "7bfb526a7e3306e2",
   "execution_count": 64
  },
  {
   "cell_type": "code",
   "outputs": [],
   "source": [
    "# examDF.iloc[len(examDF.index)] = ['SuperMan'] + genRandomScore(6)\n",
    "# IndexError: iloc cannot enlarge its target object\n",
    "# iloc 방식은 기존에 데이터가 있는 경우만 가능 추가시 절대 사용 금지\n",
    "# iloc 방식의 경우 데이터 수에 맞게 인덱스가 지정\n",
    "# 현재 인덱스에 없는 인덱스로 불가\n"
   ],
   "metadata": {
    "collapsed": false,
    "ExecuteTime": {
     "end_time": "2024-01-12T01:29:26.814912100Z",
     "start_time": "2024-01-12T01:29:26.772890900Z"
    }
   },
   "id": "a13365a03f743a4d",
   "execution_count": 65
  },
  {
   "cell_type": "code",
   "outputs": [
    {
     "data": {
      "text/plain": "    name math korean  art  gym  eng  sci\n0    가나다   82     72   67   78   66   85\n1    마바사   69     73   85   84   81   85\n2    아자차   61     68   78   87   98   85\n3    차카파   91     84   72   92   88   85\n4    타파하   70     88   63   70   84   85\n5  Anons   95     68   66   83   86   63\n6    슈퍼맨  슈퍼맨    슈퍼맨  슈퍼맨  슈퍼맨  슈퍼맨  슈퍼맨",
      "text/html": "<div>\n<style scoped>\n    .dataframe tbody tr th:only-of-type {\n        vertical-align: middle;\n    }\n\n    .dataframe tbody tr th {\n        vertical-align: top;\n    }\n\n    .dataframe thead th {\n        text-align: right;\n    }\n</style>\n<table border=\"1\" class=\"dataframe\">\n  <thead>\n    <tr style=\"text-align: right;\">\n      <th></th>\n      <th>name</th>\n      <th>math</th>\n      <th>korean</th>\n      <th>art</th>\n      <th>gym</th>\n      <th>eng</th>\n      <th>sci</th>\n    </tr>\n  </thead>\n  <tbody>\n    <tr>\n      <th>0</th>\n      <td>가나다</td>\n      <td>82</td>\n      <td>72</td>\n      <td>67</td>\n      <td>78</td>\n      <td>66</td>\n      <td>85</td>\n    </tr>\n    <tr>\n      <th>1</th>\n      <td>마바사</td>\n      <td>69</td>\n      <td>73</td>\n      <td>85</td>\n      <td>84</td>\n      <td>81</td>\n      <td>85</td>\n    </tr>\n    <tr>\n      <th>2</th>\n      <td>아자차</td>\n      <td>61</td>\n      <td>68</td>\n      <td>78</td>\n      <td>87</td>\n      <td>98</td>\n      <td>85</td>\n    </tr>\n    <tr>\n      <th>3</th>\n      <td>차카파</td>\n      <td>91</td>\n      <td>84</td>\n      <td>72</td>\n      <td>92</td>\n      <td>88</td>\n      <td>85</td>\n    </tr>\n    <tr>\n      <th>4</th>\n      <td>타파하</td>\n      <td>70</td>\n      <td>88</td>\n      <td>63</td>\n      <td>70</td>\n      <td>84</td>\n      <td>85</td>\n    </tr>\n    <tr>\n      <th>5</th>\n      <td>Anons</td>\n      <td>95</td>\n      <td>68</td>\n      <td>66</td>\n      <td>83</td>\n      <td>86</td>\n      <td>63</td>\n    </tr>\n    <tr>\n      <th>6</th>\n      <td>슈퍼맨</td>\n      <td>슈퍼맨</td>\n      <td>슈퍼맨</td>\n      <td>슈퍼맨</td>\n      <td>슈퍼맨</td>\n      <td>슈퍼맨</td>\n      <td>슈퍼맨</td>\n    </tr>\n  </tbody>\n</table>\n</div>"
     },
     "execution_count": 66,
     "metadata": {},
     "output_type": "execute_result"
    }
   ],
   "source": [
    "# 1개의 데이터를 가진 행 추가\n",
    "examDF.loc[len(examDF.index)] = '슈퍼맨'\n",
    "examDF\n",
    "# 이 경우에도 1개만 넣을 경우 슈퍼맨만 추가해준다."
   ],
   "metadata": {
    "collapsed": false,
    "ExecuteTime": {
     "end_time": "2024-01-12T01:29:26.857562600Z",
     "start_time": "2024-01-12T01:29:26.790856900Z"
    }
   },
   "id": "7f29a51a4a58f2d4",
   "execution_count": 66
  },
  {
   "cell_type": "markdown",
   "source": [],
   "metadata": {
    "collapsed": false
   },
   "id": "26a4e76887f4f4f3"
  },
  {
   "cell_type": "code",
   "outputs": [],
   "source": [],
   "metadata": {
    "collapsed": false,
    "ExecuteTime": {
     "end_time": "2024-01-12T01:29:26.861670800Z",
     "start_time": "2024-01-12T01:29:26.817900Z"
    }
   },
   "id": "c6d8b914be9ef0d8",
   "execution_count": 66
  },
  {
   "cell_type": "code",
   "outputs": [],
   "source": [],
   "metadata": {
    "collapsed": false,
    "ExecuteTime": {
     "end_time": "2024-01-12T01:29:26.931849300Z",
     "start_time": "2024-01-12T01:29:26.863657800Z"
    }
   },
   "id": "ca01277489aea304",
   "execution_count": 66
  }
 ],
 "metadata": {
  "kernelspec": {
   "display_name": "Python 3",
   "language": "python",
   "name": "python3"
  },
  "language_info": {
   "codemirror_mode": {
    "name": "ipython",
    "version": 2
   },
   "file_extension": ".py",
   "mimetype": "text/x-python",
   "name": "python",
   "nbconvert_exporter": "python",
   "pygments_lexer": "ipython2",
   "version": "2.7.6"
  }
 },
 "nbformat": 4,
 "nbformat_minor": 5
}
