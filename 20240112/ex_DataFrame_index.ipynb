{
 "cells": [
  {
   "cell_type": "markdown",
   "source": [
    "## [DataFrame 인덱스 다루기]"
   ],
   "metadata": {
    "collapsed": false
   },
   "id": "c6d6db4186e91489"
  },
  {
   "cell_type": "markdown",
   "source": [
    "(1) 모듈로딩 <hr>\n"
   ],
   "metadata": {
    "collapsed": false
   },
   "id": "1622638e5628a038"
  },
  {
   "cell_type": "code",
   "outputs": [],
   "source": [
    "import pandas as pd\n",
    "import random"
   ],
   "metadata": {
    "collapsed": false,
    "ExecuteTime": {
     "end_time": "2024-01-12T02:27:17.092721800Z",
     "start_time": "2024-01-12T02:27:17.040022700Z"
    }
   },
   "id": "6b70cb4779995412",
   "execution_count": 50
  },
  {
   "cell_type": "markdown",
   "source": [
    "(2) 데이터 준비 <hr>"
   ],
   "metadata": {
    "collapsed": false
   },
   "id": "95590d0e86de5de"
  },
  {
   "cell_type": "code",
   "outputs": [],
   "source": [
    "# dict 타입의 데이터를 준비\n",
    "def genRandomScore(i = 5, start = 60, end = 100):\n",
    "    return [x for x in random.sample(range(start, end + 1),i)]\n",
    "exam = {\n",
    "    'name' : ['가나다',\n",
    "              '마바사',\n",
    "              '아자차',\n",
    "              '차카파',\n",
    "              '타파하',\n",
    "              ],\n",
    "    'math' : genRandomScore(),\n",
    "    'korean' : genRandomScore(),\n",
    "    'art' : genRandomScore(),\n",
    "    'gym' : genRandomScore(),\n",
    "}"
   ],
   "metadata": {
    "collapsed": false,
    "ExecuteTime": {
     "end_time": "2024-01-12T02:27:17.094785600Z",
     "start_time": "2024-01-12T02:27:17.064268600Z"
    }
   },
   "id": "7a480f48d0296a4f",
   "execution_count": 51
  },
  {
   "cell_type": "markdown",
   "source": [
    "(3) 데이터 저장 <hr> "
   ],
   "metadata": {
    "collapsed": false
   },
   "id": "9945ed2ac4be66be"
  },
  {
   "cell_type": "code",
   "outputs": [],
   "source": [
    "examDF = pd.DataFrame(exam)\n"
   ],
   "metadata": {
    "collapsed": false,
    "ExecuteTime": {
     "end_time": "2024-01-12T02:27:17.129651800Z",
     "start_time": "2024-01-12T02:27:17.098920200Z"
    }
   },
   "id": "1fcec31bf2ba83b5",
   "execution_count": 52
  },
  {
   "cell_type": "markdown",
   "source": [
    "(4) 데이터 확인 <hr>"
   ],
   "metadata": {
    "collapsed": false
   },
   "id": "5749260092992e02"
  },
  {
   "cell_type": "code",
   "outputs": [
    {
     "data": {
      "text/plain": "  name  math  korean  art  gym\n0  가나다   100      84   95   94\n1  마바사    73      87   96   64\n2  아자차    70      93   69   71\n3  차카파    93      65   94   75\n4  타파하    84      92   82   89",
      "text/html": "<div>\n<style scoped>\n    .dataframe tbody tr th:only-of-type {\n        vertical-align: middle;\n    }\n\n    .dataframe tbody tr th {\n        vertical-align: top;\n    }\n\n    .dataframe thead th {\n        text-align: right;\n    }\n</style>\n<table border=\"1\" class=\"dataframe\">\n  <thead>\n    <tr style=\"text-align: right;\">\n      <th></th>\n      <th>name</th>\n      <th>math</th>\n      <th>korean</th>\n      <th>art</th>\n      <th>gym</th>\n    </tr>\n  </thead>\n  <tbody>\n    <tr>\n      <th>0</th>\n      <td>가나다</td>\n      <td>100</td>\n      <td>84</td>\n      <td>95</td>\n      <td>94</td>\n    </tr>\n    <tr>\n      <th>1</th>\n      <td>마바사</td>\n      <td>73</td>\n      <td>87</td>\n      <td>96</td>\n      <td>64</td>\n    </tr>\n    <tr>\n      <th>2</th>\n      <td>아자차</td>\n      <td>70</td>\n      <td>93</td>\n      <td>69</td>\n      <td>71</td>\n    </tr>\n    <tr>\n      <th>3</th>\n      <td>차카파</td>\n      <td>93</td>\n      <td>65</td>\n      <td>94</td>\n      <td>75</td>\n    </tr>\n    <tr>\n      <th>4</th>\n      <td>타파하</td>\n      <td>84</td>\n      <td>92</td>\n      <td>82</td>\n      <td>89</td>\n    </tr>\n  </tbody>\n</table>\n</div>"
     },
     "execution_count": 53,
     "metadata": {},
     "output_type": "execute_result"
    }
   ],
   "source": [
    "examDF"
   ],
   "metadata": {
    "collapsed": false,
    "ExecuteTime": {
     "end_time": "2024-01-12T02:27:17.158562400Z",
     "start_time": "2024-01-12T02:27:17.120342200Z"
    }
   },
   "id": "a346a26002ba4f50",
   "execution_count": 53
  },
  {
   "cell_type": "markdown",
   "source": [
    "(5) 새로운 인덱스 설정 : 컬럼 ===> 방법1 : 인덱스의 일부 변경.rename() <hr>\n",
    "\n",
    "inplace 매개변수/파라미터 ==> 원본 DataFrame에 변경 여부 결정, 기본은 원본 변경 안함 False!!"
   ],
   "metadata": {
    "collapsed": false
   },
   "id": "39eb2c68e478b88b"
  },
  {
   "cell_type": "code",
   "outputs": [
    {
     "data": {
      "text/plain": "     name  math  korean  art  gym\nZero  가나다   100      84   95   94\n1     마바사    73      87   96   64\n2     아자차    70      93   69   71\n3     차카파    93      65   94   75\n4     타파하    84      92   82   89",
      "text/html": "<div>\n<style scoped>\n    .dataframe tbody tr th:only-of-type {\n        vertical-align: middle;\n    }\n\n    .dataframe tbody tr th {\n        vertical-align: top;\n    }\n\n    .dataframe thead th {\n        text-align: right;\n    }\n</style>\n<table border=\"1\" class=\"dataframe\">\n  <thead>\n    <tr style=\"text-align: right;\">\n      <th></th>\n      <th>name</th>\n      <th>math</th>\n      <th>korean</th>\n      <th>art</th>\n      <th>gym</th>\n    </tr>\n  </thead>\n  <tbody>\n    <tr>\n      <th>Zero</th>\n      <td>가나다</td>\n      <td>100</td>\n      <td>84</td>\n      <td>95</td>\n      <td>94</td>\n    </tr>\n    <tr>\n      <th>1</th>\n      <td>마바사</td>\n      <td>73</td>\n      <td>87</td>\n      <td>96</td>\n      <td>64</td>\n    </tr>\n    <tr>\n      <th>2</th>\n      <td>아자차</td>\n      <td>70</td>\n      <td>93</td>\n      <td>69</td>\n      <td>71</td>\n    </tr>\n    <tr>\n      <th>3</th>\n      <td>차카파</td>\n      <td>93</td>\n      <td>65</td>\n      <td>94</td>\n      <td>75</td>\n    </tr>\n    <tr>\n      <th>4</th>\n      <td>타파하</td>\n      <td>84</td>\n      <td>92</td>\n      <td>82</td>\n      <td>89</td>\n    </tr>\n  </tbody>\n</table>\n</div>"
     },
     "execution_count": 54,
     "metadata": {},
     "output_type": "execute_result"
    }
   ],
   "source": [
    "# 행 인덱스 일부 변경 => 기존인덱스:새로운 인덱스\n",
    "examDF.rename(index={\n",
    "    0 : 'Zero'\n",
    "})\n",
    "# 바꿔지긴 하나 복사본이 바뀌는 것임, inplace를 지정해주어야 함"
   ],
   "metadata": {
    "collapsed": false,
    "ExecuteTime": {
     "end_time": "2024-01-12T02:27:17.159559200Z",
     "start_time": "2024-01-12T02:27:17.134835600Z"
    }
   },
   "id": "6416639f3a58ede5",
   "execution_count": 54
  },
  {
   "cell_type": "code",
   "outputs": [
    {
     "data": {
      "text/plain": "  name  math  korean  art  gym\n0  가나다   100      84   95   94\n1  마바사    73      87   96   64\n2  아자차    70      93   69   71\n3  차카파    93      65   94   75\n4  타파하    84      92   82   89",
      "text/html": "<div>\n<style scoped>\n    .dataframe tbody tr th:only-of-type {\n        vertical-align: middle;\n    }\n\n    .dataframe tbody tr th {\n        vertical-align: top;\n    }\n\n    .dataframe thead th {\n        text-align: right;\n    }\n</style>\n<table border=\"1\" class=\"dataframe\">\n  <thead>\n    <tr style=\"text-align: right;\">\n      <th></th>\n      <th>name</th>\n      <th>math</th>\n      <th>korean</th>\n      <th>art</th>\n      <th>gym</th>\n    </tr>\n  </thead>\n  <tbody>\n    <tr>\n      <th>0</th>\n      <td>가나다</td>\n      <td>100</td>\n      <td>84</td>\n      <td>95</td>\n      <td>94</td>\n    </tr>\n    <tr>\n      <th>1</th>\n      <td>마바사</td>\n      <td>73</td>\n      <td>87</td>\n      <td>96</td>\n      <td>64</td>\n    </tr>\n    <tr>\n      <th>2</th>\n      <td>아자차</td>\n      <td>70</td>\n      <td>93</td>\n      <td>69</td>\n      <td>71</td>\n    </tr>\n    <tr>\n      <th>3</th>\n      <td>차카파</td>\n      <td>93</td>\n      <td>65</td>\n      <td>94</td>\n      <td>75</td>\n    </tr>\n    <tr>\n      <th>4</th>\n      <td>타파하</td>\n      <td>84</td>\n      <td>92</td>\n      <td>82</td>\n      <td>89</td>\n    </tr>\n  </tbody>\n</table>\n</div>"
     },
     "execution_count": 55,
     "metadata": {},
     "output_type": "execute_result"
    }
   ],
   "source": [
    "examDF"
   ],
   "metadata": {
    "collapsed": false,
    "ExecuteTime": {
     "end_time": "2024-01-12T02:27:17.195649500Z",
     "start_time": "2024-01-12T02:27:17.150358200Z"
    }
   },
   "id": "c266634401fc0eaa",
   "execution_count": 55
  },
  {
   "cell_type": "code",
   "outputs": [
    {
     "data": {
      "text/plain": "     name  math  korean  art  gym\nZero  가나다   100      84   95   94\n1     마바사    73      87   96   64\n2     아자차    70      93   69   71\n3     차카파    93      65   94   75\n4     타파하    84      92   82   89",
      "text/html": "<div>\n<style scoped>\n    .dataframe tbody tr th:only-of-type {\n        vertical-align: middle;\n    }\n\n    .dataframe tbody tr th {\n        vertical-align: top;\n    }\n\n    .dataframe thead th {\n        text-align: right;\n    }\n</style>\n<table border=\"1\" class=\"dataframe\">\n  <thead>\n    <tr style=\"text-align: right;\">\n      <th></th>\n      <th>name</th>\n      <th>math</th>\n      <th>korean</th>\n      <th>art</th>\n      <th>gym</th>\n    </tr>\n  </thead>\n  <tbody>\n    <tr>\n      <th>Zero</th>\n      <td>가나다</td>\n      <td>100</td>\n      <td>84</td>\n      <td>95</td>\n      <td>94</td>\n    </tr>\n    <tr>\n      <th>1</th>\n      <td>마바사</td>\n      <td>73</td>\n      <td>87</td>\n      <td>96</td>\n      <td>64</td>\n    </tr>\n    <tr>\n      <th>2</th>\n      <td>아자차</td>\n      <td>70</td>\n      <td>93</td>\n      <td>69</td>\n      <td>71</td>\n    </tr>\n    <tr>\n      <th>3</th>\n      <td>차카파</td>\n      <td>93</td>\n      <td>65</td>\n      <td>94</td>\n      <td>75</td>\n    </tr>\n    <tr>\n      <th>4</th>\n      <td>타파하</td>\n      <td>84</td>\n      <td>92</td>\n      <td>82</td>\n      <td>89</td>\n    </tr>\n  </tbody>\n</table>\n</div>"
     },
     "execution_count": 56,
     "metadata": {},
     "output_type": "execute_result"
    }
   ],
   "source": [
    "examDF.rename({\n",
    "    0 : 'Zero'\n",
    "}, inplace=True)\n",
    "examDF\n",
    "# 이렇게 원본 데이터가 바뀌는 것을 확인해볼 수 있음\n"
   ],
   "metadata": {
    "collapsed": false,
    "ExecuteTime": {
     "end_time": "2024-01-12T02:27:17.271176Z",
     "start_time": "2024-01-12T02:27:17.166784800Z"
    }
   },
   "id": "3ca5ae5f51164263",
   "execution_count": 56
  },
  {
   "cell_type": "code",
   "outputs": [
    {
     "data": {
      "text/plain": "     name  math  korean  art  music\nZero  가나다   100      84   95     94\n1     마바사    73      87   96     64\n2     아자차    70      93   69     71\n3     차카파    93      65   94     75\n4     타파하    84      92   82     89",
      "text/html": "<div>\n<style scoped>\n    .dataframe tbody tr th:only-of-type {\n        vertical-align: middle;\n    }\n\n    .dataframe tbody tr th {\n        vertical-align: top;\n    }\n\n    .dataframe thead th {\n        text-align: right;\n    }\n</style>\n<table border=\"1\" class=\"dataframe\">\n  <thead>\n    <tr style=\"text-align: right;\">\n      <th></th>\n      <th>name</th>\n      <th>math</th>\n      <th>korean</th>\n      <th>art</th>\n      <th>music</th>\n    </tr>\n  </thead>\n  <tbody>\n    <tr>\n      <th>Zero</th>\n      <td>가나다</td>\n      <td>100</td>\n      <td>84</td>\n      <td>95</td>\n      <td>94</td>\n    </tr>\n    <tr>\n      <th>1</th>\n      <td>마바사</td>\n      <td>73</td>\n      <td>87</td>\n      <td>96</td>\n      <td>64</td>\n    </tr>\n    <tr>\n      <th>2</th>\n      <td>아자차</td>\n      <td>70</td>\n      <td>93</td>\n      <td>69</td>\n      <td>71</td>\n    </tr>\n    <tr>\n      <th>3</th>\n      <td>차카파</td>\n      <td>93</td>\n      <td>65</td>\n      <td>94</td>\n      <td>75</td>\n    </tr>\n    <tr>\n      <th>4</th>\n      <td>타파하</td>\n      <td>84</td>\n      <td>92</td>\n      <td>82</td>\n      <td>89</td>\n    </tr>\n  </tbody>\n</table>\n</div>"
     },
     "execution_count": 57,
     "metadata": {},
     "output_type": "execute_result"
    }
   ],
   "source": [
    "# 열 이름 인덱스 일부 변경 => column = {기존인덱스:새로운인덱스}\n",
    "\n",
    "examDF.rename(columns={\n",
    "    'gym' : 'music'\n",
    "}, inplace=1)\n",
    "\n",
    "examDF"
   ],
   "metadata": {
    "collapsed": false,
    "ExecuteTime": {
     "end_time": "2024-01-12T02:27:17.306144600Z",
     "start_time": "2024-01-12T02:27:17.182214Z"
    }
   },
   "id": "8095e5b388b764fb",
   "execution_count": 57
  },
  {
   "cell_type": "markdown",
   "source": [
    "(5) 새로운 인덱스 설정 - 방법2: 특정 컬럼 => 인덱스 :"
   ],
   "metadata": {
    "collapsed": false
   },
   "id": "6f793f64516ef54a"
  },
  {
   "cell_type": "code",
   "outputs": [
    {
     "data": {
      "text/plain": "Index(['Zero', 1, 2, 3, 4], dtype='object')"
     },
     "execution_count": 58,
     "metadata": {},
     "output_type": "execute_result"
    }
   ],
   "source": [
    "# 현재 기본 0 ~ => 이름 컬럼 인덱스로 설정\n",
    "examDF.index"
   ],
   "metadata": {
    "collapsed": false,
    "ExecuteTime": {
     "end_time": "2024-01-12T02:27:17.338095600Z",
     "start_time": "2024-01-12T02:27:17.199709900Z"
    }
   },
   "id": "179a22e3ac7da487",
   "execution_count": 58
  },
  {
   "cell_type": "code",
   "outputs": [
    {
     "data": {
      "text/plain": "      math  korean  art  music\nname                          \n가나다    100      84   95     94\n마바사     73      87   96     64\n아자차     70      93   69     71\n차카파     93      65   94     75\n타파하     84      92   82     89",
      "text/html": "<div>\n<style scoped>\n    .dataframe tbody tr th:only-of-type {\n        vertical-align: middle;\n    }\n\n    .dataframe tbody tr th {\n        vertical-align: top;\n    }\n\n    .dataframe thead th {\n        text-align: right;\n    }\n</style>\n<table border=\"1\" class=\"dataframe\">\n  <thead>\n    <tr style=\"text-align: right;\">\n      <th></th>\n      <th>math</th>\n      <th>korean</th>\n      <th>art</th>\n      <th>music</th>\n    </tr>\n    <tr>\n      <th>name</th>\n      <th></th>\n      <th></th>\n      <th></th>\n      <th></th>\n    </tr>\n  </thead>\n  <tbody>\n    <tr>\n      <th>가나다</th>\n      <td>100</td>\n      <td>84</td>\n      <td>95</td>\n      <td>94</td>\n    </tr>\n    <tr>\n      <th>마바사</th>\n      <td>73</td>\n      <td>87</td>\n      <td>96</td>\n      <td>64</td>\n    </tr>\n    <tr>\n      <th>아자차</th>\n      <td>70</td>\n      <td>93</td>\n      <td>69</td>\n      <td>71</td>\n    </tr>\n    <tr>\n      <th>차카파</th>\n      <td>93</td>\n      <td>65</td>\n      <td>94</td>\n      <td>75</td>\n    </tr>\n    <tr>\n      <th>타파하</th>\n      <td>84</td>\n      <td>92</td>\n      <td>82</td>\n      <td>89</td>\n    </tr>\n  </tbody>\n</table>\n</div>"
     },
     "execution_count": 59,
     "metadata": {},
     "output_type": "execute_result"
    }
   ],
   "source": [
    "# 1개 컬럼을 인덱스로 설정, 단 inplace 파라메터가 False로 원본 적용 안됨\n",
    "examDF.set_index('name', inplace=False)\n",
    "# examDF"
   ],
   "metadata": {
    "collapsed": false,
    "ExecuteTime": {
     "end_time": "2024-01-12T02:27:17.521082200Z",
     "start_time": "2024-01-12T02:27:17.315446800Z"
    }
   },
   "id": "9d50c95a148e96d",
   "execution_count": 59
  },
  {
   "cell_type": "code",
   "outputs": [
    {
     "data": {
      "text/plain": "                  art  music\nname math korean            \n가나다  100  84       95     94\n마바사  73   87       96     64\n아자차  70   93       69     71\n차카파  93   65       94     75\n타파하  84   92       82     89",
      "text/html": "<div>\n<style scoped>\n    .dataframe tbody tr th:only-of-type {\n        vertical-align: middle;\n    }\n\n    .dataframe tbody tr th {\n        vertical-align: top;\n    }\n\n    .dataframe thead th {\n        text-align: right;\n    }\n</style>\n<table border=\"1\" class=\"dataframe\">\n  <thead>\n    <tr style=\"text-align: right;\">\n      <th></th>\n      <th></th>\n      <th></th>\n      <th>art</th>\n      <th>music</th>\n    </tr>\n    <tr>\n      <th>name</th>\n      <th>math</th>\n      <th>korean</th>\n      <th></th>\n      <th></th>\n    </tr>\n  </thead>\n  <tbody>\n    <tr>\n      <th>가나다</th>\n      <th>100</th>\n      <th>84</th>\n      <td>95</td>\n      <td>94</td>\n    </tr>\n    <tr>\n      <th>마바사</th>\n      <th>73</th>\n      <th>87</th>\n      <td>96</td>\n      <td>64</td>\n    </tr>\n    <tr>\n      <th>아자차</th>\n      <th>70</th>\n      <th>93</th>\n      <td>69</td>\n      <td>71</td>\n    </tr>\n    <tr>\n      <th>차카파</th>\n      <th>93</th>\n      <th>65</th>\n      <td>94</td>\n      <td>75</td>\n    </tr>\n    <tr>\n      <th>타파하</th>\n      <th>84</th>\n      <th>92</th>\n      <td>82</td>\n      <td>89</td>\n    </tr>\n  </tbody>\n</table>\n</div>"
     },
     "execution_count": 60,
     "metadata": {},
     "output_type": "execute_result"
    }
   ],
   "source": [
    "multiindex = examDF.set_index(['name', 'math', 'korean'])\n",
    "multiindex"
   ],
   "metadata": {
    "collapsed": false,
    "ExecuteTime": {
     "end_time": "2024-01-12T02:27:17.594576100Z",
     "start_time": "2024-01-12T02:27:17.485647100Z"
    }
   },
   "id": "d0b59f02cdff68b6",
   "execution_count": 60
  },
  {
   "cell_type": "code",
   "outputs": [
    {
     "data": {
      "text/plain": "MultiIndex([('가나다', 100, 84),\n            ('마바사',  73, 87),\n            ('아자차',  70, 93),\n            ('차카파',  93, 65),\n            ('타파하',  84, 92)],\n           names=['name', 'math', 'korean'])"
     },
     "execution_count": 61,
     "metadata": {},
     "output_type": "execute_result"
    }
   ],
   "source": [
    "multiindex.index"
   ],
   "metadata": {
    "collapsed": false,
    "ExecuteTime": {
     "end_time": "2024-01-12T02:27:17.685595800Z",
     "start_time": "2024-01-12T02:27:17.581242900Z"
    }
   },
   "id": "6fc3384a02ed76c4",
   "execution_count": 61
  },
  {
   "cell_type": "code",
   "outputs": [
    {
     "data": {
      "text/plain": "             art  music\nmath korean            \n100  84       95     94",
      "text/html": "<div>\n<style scoped>\n    .dataframe tbody tr th:only-of-type {\n        vertical-align: middle;\n    }\n\n    .dataframe tbody tr th {\n        vertical-align: top;\n    }\n\n    .dataframe thead th {\n        text-align: right;\n    }\n</style>\n<table border=\"1\" class=\"dataframe\">\n  <thead>\n    <tr style=\"text-align: right;\">\n      <th></th>\n      <th></th>\n      <th>art</th>\n      <th>music</th>\n    </tr>\n    <tr>\n      <th>math</th>\n      <th>korean</th>\n      <th></th>\n      <th></th>\n    </tr>\n  </thead>\n  <tbody>\n    <tr>\n      <th>100</th>\n      <th>84</th>\n      <td>95</td>\n      <td>94</td>\n    </tr>\n  </tbody>\n</table>\n</div>"
     },
     "execution_count": 62,
     "metadata": {},
     "output_type": "execute_result"
    }
   ],
   "source": [
    "multiindex.loc['가나다']\n",
    "# 인덱스중 일부만 조회할 경우 데이터프레임으로 인덱스가 포함된 값만 나옴"
   ],
   "metadata": {
    "collapsed": false,
    "ExecuteTime": {
     "end_time": "2024-01-12T02:27:17.755783Z",
     "start_time": "2024-01-12T02:27:17.638847400Z"
    }
   },
   "id": "839d4a40d21e0cab",
   "execution_count": 62
  },
  {
   "cell_type": "code",
   "outputs": [
    {
     "data": {
      "text/plain": "        art  music\nkorean            \n84       95     94",
      "text/html": "<div>\n<style scoped>\n    .dataframe tbody tr th:only-of-type {\n        vertical-align: middle;\n    }\n\n    .dataframe tbody tr th {\n        vertical-align: top;\n    }\n\n    .dataframe thead th {\n        text-align: right;\n    }\n</style>\n<table border=\"1\" class=\"dataframe\">\n  <thead>\n    <tr style=\"text-align: right;\">\n      <th></th>\n      <th>art</th>\n      <th>music</th>\n    </tr>\n    <tr>\n      <th>korean</th>\n      <th></th>\n      <th></th>\n    </tr>\n  </thead>\n  <tbody>\n    <tr>\n      <th>84</th>\n      <td>95</td>\n      <td>94</td>\n    </tr>\n  </tbody>\n</table>\n</div>"
     },
     "execution_count": 63,
     "metadata": {},
     "output_type": "execute_result"
    }
   ],
   "source": [
    "multiindex.loc[('가나다', multiindex.index[0][1])]"
   ],
   "metadata": {
    "collapsed": false,
    "ExecuteTime": {
     "end_time": "2024-01-12T02:27:17.835459200Z",
     "start_time": "2024-01-12T02:27:17.716631Z"
    }
   },
   "id": "3045aa76b0b17e35",
   "execution_count": 63
  },
  {
   "cell_type": "code",
   "outputs": [
    {
     "data": {
      "text/plain": "art      95\nmusic    94\nName: (가나다, 100, 84), dtype: int64"
     },
     "execution_count": 64,
     "metadata": {},
     "output_type": "execute_result"
    }
   ],
   "source": [
    "multiindex.loc[(multiindex.index[0][0], multiindex.index[0][1], multiindex.index[0][2])]"
   ],
   "metadata": {
    "collapsed": false,
    "ExecuteTime": {
     "end_time": "2024-01-12T02:27:17.920293800Z",
     "start_time": "2024-01-12T02:27:17.811610600Z"
    }
   },
   "id": "d48478031a39a574",
   "execution_count": 64
  },
  {
   "cell_type": "markdown",
   "source": [
    "(5) 새로운 인덱스 설정 - 방법3: 인덱스 제거하기"
   ],
   "metadata": {
    "collapsed": false
   },
   "id": "40b89bd3af386683"
  },
  {
   "cell_type": "code",
   "outputs": [
    {
     "data": {
      "text/plain": "      math  korean  art  music\nname                          \n가나다    100      84   95     94\n마바사     73      87   96     64\n아자차     70      93   69     71\n차카파     93      65   94     75\n타파하     84      92   82     89",
      "text/html": "<div>\n<style scoped>\n    .dataframe tbody tr th:only-of-type {\n        vertical-align: middle;\n    }\n\n    .dataframe tbody tr th {\n        vertical-align: top;\n    }\n\n    .dataframe thead th {\n        text-align: right;\n    }\n</style>\n<table border=\"1\" class=\"dataframe\">\n  <thead>\n    <tr style=\"text-align: right;\">\n      <th></th>\n      <th>math</th>\n      <th>korean</th>\n      <th>art</th>\n      <th>music</th>\n    </tr>\n    <tr>\n      <th>name</th>\n      <th></th>\n      <th></th>\n      <th></th>\n      <th></th>\n    </tr>\n  </thead>\n  <tbody>\n    <tr>\n      <th>가나다</th>\n      <td>100</td>\n      <td>84</td>\n      <td>95</td>\n      <td>94</td>\n    </tr>\n    <tr>\n      <th>마바사</th>\n      <td>73</td>\n      <td>87</td>\n      <td>96</td>\n      <td>64</td>\n    </tr>\n    <tr>\n      <th>아자차</th>\n      <td>70</td>\n      <td>93</td>\n      <td>69</td>\n      <td>71</td>\n    </tr>\n    <tr>\n      <th>차카파</th>\n      <td>93</td>\n      <td>65</td>\n      <td>94</td>\n      <td>75</td>\n    </tr>\n    <tr>\n      <th>타파하</th>\n      <td>84</td>\n      <td>92</td>\n      <td>82</td>\n      <td>89</td>\n    </tr>\n  </tbody>\n</table>\n</div>"
     },
     "execution_count": 66,
     "metadata": {},
     "output_type": "execute_result"
    }
   ],
   "source": [
    "examDF.set_index('name', inplace=True)\n",
    "examDF\n"
   ],
   "metadata": {
    "collapsed": false,
    "ExecuteTime": {
     "end_time": "2024-01-12T02:28:50.914380800Z",
     "start_time": "2024-01-12T02:28:50.903925600Z"
    }
   },
   "id": "267ac855b0ad4ff9",
   "execution_count": 66
  },
  {
   "cell_type": "code",
   "outputs": [
    {
     "data": {
      "text/plain": "  name  math  korean  art  music\n0  가나다   100      84   95     94\n1  마바사    73      87   96     64\n2  아자차    70      93   69     71\n3  차카파    93      65   94     75\n4  타파하    84      92   82     89",
      "text/html": "<div>\n<style scoped>\n    .dataframe tbody tr th:only-of-type {\n        vertical-align: middle;\n    }\n\n    .dataframe tbody tr th {\n        vertical-align: top;\n    }\n\n    .dataframe thead th {\n        text-align: right;\n    }\n</style>\n<table border=\"1\" class=\"dataframe\">\n  <thead>\n    <tr style=\"text-align: right;\">\n      <th></th>\n      <th>name</th>\n      <th>math</th>\n      <th>korean</th>\n      <th>art</th>\n      <th>music</th>\n    </tr>\n  </thead>\n  <tbody>\n    <tr>\n      <th>0</th>\n      <td>가나다</td>\n      <td>100</td>\n      <td>84</td>\n      <td>95</td>\n      <td>94</td>\n    </tr>\n    <tr>\n      <th>1</th>\n      <td>마바사</td>\n      <td>73</td>\n      <td>87</td>\n      <td>96</td>\n      <td>64</td>\n    </tr>\n    <tr>\n      <th>2</th>\n      <td>아자차</td>\n      <td>70</td>\n      <td>93</td>\n      <td>69</td>\n      <td>71</td>\n    </tr>\n    <tr>\n      <th>3</th>\n      <td>차카파</td>\n      <td>93</td>\n      <td>65</td>\n      <td>94</td>\n      <td>75</td>\n    </tr>\n    <tr>\n      <th>4</th>\n      <td>타파하</td>\n      <td>84</td>\n      <td>92</td>\n      <td>82</td>\n      <td>89</td>\n    </tr>\n  </tbody>\n</table>\n</div>"
     },
     "execution_count": 70,
     "metadata": {},
     "output_type": "execute_result"
    }
   ],
   "source": [
    "# inplace은 기본적으로 False로 설정되어 있다.\n",
    "examDF.reset_index()"
   ],
   "metadata": {
    "collapsed": false,
    "ExecuteTime": {
     "end_time": "2024-01-12T02:30:40.571331600Z",
     "start_time": "2024-01-12T02:30:40.554697400Z"
    }
   },
   "id": "30b581159dcb54f6",
   "execution_count": 70
  },
  {
   "cell_type": "code",
   "outputs": [
    {
     "data": {
      "text/plain": "   level_0  index name  math  korean  art  music\n0        0      0  가나다   100      84   95     94\n1        1      1  마바사    73      87   96     64\n2        2      2  아자차    70      93   69     71\n3        3      3  차카파    93      65   94     75\n4        4      4  타파하    84      92   82     89",
      "text/html": "<div>\n<style scoped>\n    .dataframe tbody tr th:only-of-type {\n        vertical-align: middle;\n    }\n\n    .dataframe tbody tr th {\n        vertical-align: top;\n    }\n\n    .dataframe thead th {\n        text-align: right;\n    }\n</style>\n<table border=\"1\" class=\"dataframe\">\n  <thead>\n    <tr style=\"text-align: right;\">\n      <th></th>\n      <th>level_0</th>\n      <th>index</th>\n      <th>name</th>\n      <th>math</th>\n      <th>korean</th>\n      <th>art</th>\n      <th>music</th>\n    </tr>\n  </thead>\n  <tbody>\n    <tr>\n      <th>0</th>\n      <td>0</td>\n      <td>0</td>\n      <td>가나다</td>\n      <td>100</td>\n      <td>84</td>\n      <td>95</td>\n      <td>94</td>\n    </tr>\n    <tr>\n      <th>1</th>\n      <td>1</td>\n      <td>1</td>\n      <td>마바사</td>\n      <td>73</td>\n      <td>87</td>\n      <td>96</td>\n      <td>64</td>\n    </tr>\n    <tr>\n      <th>2</th>\n      <td>2</td>\n      <td>2</td>\n      <td>아자차</td>\n      <td>70</td>\n      <td>93</td>\n      <td>69</td>\n      <td>71</td>\n    </tr>\n    <tr>\n      <th>3</th>\n      <td>3</td>\n      <td>3</td>\n      <td>차카파</td>\n      <td>93</td>\n      <td>65</td>\n      <td>94</td>\n      <td>75</td>\n    </tr>\n    <tr>\n      <th>4</th>\n      <td>4</td>\n      <td>4</td>\n      <td>타파하</td>\n      <td>84</td>\n      <td>92</td>\n      <td>82</td>\n      <td>89</td>\n    </tr>\n  </tbody>\n</table>\n</div>"
     },
     "execution_count": 71,
     "metadata": {},
     "output_type": "execute_result"
    }
   ],
   "source": [
    "\n",
    "examDF.reset_index().reset_index().reset_index()"
   ],
   "metadata": {
    "collapsed": false,
    "ExecuteTime": {
     "end_time": "2024-01-12T02:31:01.471150400Z",
     "start_time": "2024-01-12T02:31:01.452494300Z"
    }
   },
   "id": "9deeafdbfef69afa",
   "execution_count": 71
  },
  {
   "cell_type": "code",
   "outputs": [
    {
     "data": {
      "text/plain": "   level_0  index name  math  korean  art  music\n0        0      0  가나다   100      84   95     94\n1        1      1  마바사    73      87   96     64\n2        2      2  아자차    70      93   69     71\n3        3      3  차카파    93      65   94     75\n4        4      4  타파하    84      92   82     89",
      "text/html": "<div>\n<style scoped>\n    .dataframe tbody tr th:only-of-type {\n        vertical-align: middle;\n    }\n\n    .dataframe tbody tr th {\n        vertical-align: top;\n    }\n\n    .dataframe thead th {\n        text-align: right;\n    }\n</style>\n<table border=\"1\" class=\"dataframe\">\n  <thead>\n    <tr style=\"text-align: right;\">\n      <th></th>\n      <th>level_0</th>\n      <th>index</th>\n      <th>name</th>\n      <th>math</th>\n      <th>korean</th>\n      <th>art</th>\n      <th>music</th>\n    </tr>\n  </thead>\n  <tbody>\n    <tr>\n      <th>0</th>\n      <td>0</td>\n      <td>0</td>\n      <td>가나다</td>\n      <td>100</td>\n      <td>84</td>\n      <td>95</td>\n      <td>94</td>\n    </tr>\n    <tr>\n      <th>1</th>\n      <td>1</td>\n      <td>1</td>\n      <td>마바사</td>\n      <td>73</td>\n      <td>87</td>\n      <td>96</td>\n      <td>64</td>\n    </tr>\n    <tr>\n      <th>2</th>\n      <td>2</td>\n      <td>2</td>\n      <td>아자차</td>\n      <td>70</td>\n      <td>93</td>\n      <td>69</td>\n      <td>71</td>\n    </tr>\n    <tr>\n      <th>3</th>\n      <td>3</td>\n      <td>3</td>\n      <td>차카파</td>\n      <td>93</td>\n      <td>65</td>\n      <td>94</td>\n      <td>75</td>\n    </tr>\n    <tr>\n      <th>4</th>\n      <td>4</td>\n      <td>4</td>\n      <td>타파하</td>\n      <td>84</td>\n      <td>92</td>\n      <td>82</td>\n      <td>89</td>\n    </tr>\n  </tbody>\n</table>\n</div>"
     },
     "execution_count": 73,
     "metadata": {},
     "output_type": "execute_result"
    }
   ],
   "source": [
    "# 현재 행 인덱스를 컴럼에 추가 하지 않고 삭제 => drop 파라미터를 True로 설정 \n",
    "examDF.reset_index().reset_index().reset_index().reset_index(drop=True).reset_index(drop=True).reset_index(drop=True)"
   ],
   "metadata": {
    "collapsed": false,
    "ExecuteTime": {
     "end_time": "2024-01-12T02:34:31.244373800Z",
     "start_time": "2024-01-12T02:34:31.225470500Z"
    }
   },
   "id": "65346bb97b14df9d",
   "execution_count": 73
  },
  {
   "cell_type": "code",
   "outputs": [],
   "source": [],
   "metadata": {
    "collapsed": false
   },
   "id": "6746e045c6295f39"
  }
 ],
 "metadata": {
  "kernelspec": {
   "display_name": "Python 3",
   "language": "python",
   "name": "python3"
  },
  "language_info": {
   "codemirror_mode": {
    "name": "ipython",
    "version": 2
   },
   "file_extension": ".py",
   "mimetype": "text/x-python",
   "name": "python",
   "nbconvert_exporter": "python",
   "pygments_lexer": "ipython2",
   "version": "2.7.6"
  }
 },
 "nbformat": 4,
 "nbformat_minor": 5
}
