{
 "cells": [
  {
   "cell_type": "markdown",
   "source": [
    "## [DataFrame 인덱스 다루기]"
   ],
   "metadata": {
    "collapsed": false
   },
   "id": "c6d6db4186e91489"
  },
  {
   "cell_type": "markdown",
   "source": [
    "(1) 모듈로딩 <hr>\n"
   ],
   "metadata": {
    "collapsed": false
   },
   "id": "1622638e5628a038"
  },
  {
   "cell_type": "code",
   "outputs": [],
   "source": [
    "import pandas as pd\n",
    "import random"
   ],
   "metadata": {
    "collapsed": false,
    "ExecuteTime": {
     "end_time": "2024-01-12T04:27:29.857438Z",
     "start_time": "2024-01-12T04:27:29.829873400Z"
    }
   },
   "id": "6b70cb4779995412",
   "execution_count": 28
  },
  {
   "cell_type": "markdown",
   "source": [
    "(2) 데이터 준비 <hr>"
   ],
   "metadata": {
    "collapsed": false
   },
   "id": "95590d0e86de5de"
  },
  {
   "cell_type": "code",
   "outputs": [],
   "source": [
    "# dict 타입의 데이터를 준비\n",
    "def genRandomScore(i = 5, start = 60, end = 100):\n",
    "    return [x for x in random.sample(range(start, end + 1),i)]\n",
    "exam = {\n",
    "    '이름' : ['가나다',\n",
    "              '마바사',\n",
    "              '아자차',\n",
    "              '차카파',\n",
    "              '가나다',\n",
    "              '가나다'],\n",
    "    '국어' : [98,79,99,100,98,98],\n",
    "    '미술' : [70,99,87,80,50,87],\n",
    "    '수학' : [77,70,98,72,60,70],\n",
    "    '체육' : [77,83,69,91,77,91],\n",
    "}\n",
    "\n"
   ],
   "metadata": {
    "collapsed": false,
    "ExecuteTime": {
     "end_time": "2024-01-12T04:27:29.875583300Z",
     "start_time": "2024-01-12T04:27:29.861730900Z"
    }
   },
   "id": "7a480f48d0296a4f",
   "execution_count": 29
  },
  {
   "cell_type": "markdown",
   "source": [
    "(3) 데이터 저장 <hr> "
   ],
   "metadata": {
    "collapsed": false
   },
   "id": "9945ed2ac4be66be"
  },
  {
   "cell_type": "code",
   "outputs": [],
   "source": [
    "examDF = pd.DataFrame(exam)\n"
   ],
   "metadata": {
    "collapsed": false,
    "ExecuteTime": {
     "end_time": "2024-01-12T04:27:29.906540300Z",
     "start_time": "2024-01-12T04:27:29.878088400Z"
    }
   },
   "id": "1fcec31bf2ba83b5",
   "execution_count": 30
  },
  {
   "cell_type": "markdown",
   "source": [
    "(4) 데이터 확인 <hr>"
   ],
   "metadata": {
    "collapsed": false
   },
   "id": "5749260092992e02"
  },
  {
   "cell_type": "code",
   "outputs": [
    {
     "data": {
      "text/plain": "    이름   국어  미술  수학  체육\n0  가나다   98  70  77  77\n1  마바사   79  99  70  83\n2  아자차   99  87  98  69\n3  차카파  100  80  72  91\n4  가나다   98  50  60  77\n5  가나다   98  87  70  91",
      "text/html": "<div>\n<style scoped>\n    .dataframe tbody tr th:only-of-type {\n        vertical-align: middle;\n    }\n\n    .dataframe tbody tr th {\n        vertical-align: top;\n    }\n\n    .dataframe thead th {\n        text-align: right;\n    }\n</style>\n<table border=\"1\" class=\"dataframe\">\n  <thead>\n    <tr style=\"text-align: right;\">\n      <th></th>\n      <th>이름</th>\n      <th>국어</th>\n      <th>미술</th>\n      <th>수학</th>\n      <th>체육</th>\n    </tr>\n  </thead>\n  <tbody>\n    <tr>\n      <th>0</th>\n      <td>가나다</td>\n      <td>98</td>\n      <td>70</td>\n      <td>77</td>\n      <td>77</td>\n    </tr>\n    <tr>\n      <th>1</th>\n      <td>마바사</td>\n      <td>79</td>\n      <td>99</td>\n      <td>70</td>\n      <td>83</td>\n    </tr>\n    <tr>\n      <th>2</th>\n      <td>아자차</td>\n      <td>99</td>\n      <td>87</td>\n      <td>98</td>\n      <td>69</td>\n    </tr>\n    <tr>\n      <th>3</th>\n      <td>차카파</td>\n      <td>100</td>\n      <td>80</td>\n      <td>72</td>\n      <td>91</td>\n    </tr>\n    <tr>\n      <th>4</th>\n      <td>가나다</td>\n      <td>98</td>\n      <td>50</td>\n      <td>60</td>\n      <td>77</td>\n    </tr>\n    <tr>\n      <th>5</th>\n      <td>가나다</td>\n      <td>98</td>\n      <td>87</td>\n      <td>70</td>\n      <td>91</td>\n    </tr>\n  </tbody>\n</table>\n</div>"
     },
     "execution_count": 31,
     "metadata": {},
     "output_type": "execute_result"
    }
   ],
   "source": [
    "examDF"
   ],
   "metadata": {
    "collapsed": false,
    "ExecuteTime": {
     "end_time": "2024-01-12T04:27:29.907562500Z",
     "start_time": "2024-01-12T04:27:29.894914900Z"
    }
   },
   "id": "3d831c6e90ad3276",
   "execution_count": 31
  },
  {
   "cell_type": "markdown",
   "source": [
    "(5) 새로운 인덱스 설정 방법 3 : 멀티인덱스 제어 DF.set_index([하나,둘,셋,..])"
   ],
   "metadata": {
    "collapsed": false
   },
   "id": "a3f5b0c534c3c816"
  },
  {
   "cell_type": "code",
   "outputs": [],
   "source": [
    "modified = examDF.set_index(['이름', '국어', '수학'])"
   ],
   "metadata": {
    "collapsed": false,
    "ExecuteTime": {
     "end_time": "2024-01-12T04:27:29.932667900Z",
     "start_time": "2024-01-12T04:27:29.910152700Z"
    }
   },
   "id": "6c44f819759be817",
   "execution_count": 32
  },
  {
   "cell_type": "code",
   "outputs": [
    {
     "data": {
      "text/plain": "MultiIndex([('가나다',  98, 77),\n            ('마바사',  79, 70),\n            ('아자차',  99, 98),\n            ('차카파', 100, 72),\n            ('가나다',  98, 60),\n            ('가나다',  98, 70)],\n           names=['이름', '국어', '수학'])"
     },
     "execution_count": 33,
     "metadata": {},
     "output_type": "execute_result"
    }
   ],
   "source": [
    "modified.index"
   ],
   "metadata": {
    "collapsed": false,
    "ExecuteTime": {
     "end_time": "2024-01-12T04:27:29.968701900Z",
     "start_time": "2024-01-12T04:27:29.924459600Z"
    }
   },
   "id": "7729b23c32f9098c",
   "execution_count": 33
  },
  {
   "cell_type": "markdown",
   "source": [
    "- 행 데이터 선택 : DF객체변수명.loc[행레이블]/DF객체변수명.iloc[위치인덱스]"
   ],
   "metadata": {
    "collapsed": false
   },
   "id": "c7f253ab7c62f2b9"
  },
  {
   "cell_type": "code",
   "outputs": [
    {
     "data": {
      "text/plain": "미술    70\n체육    77\nName: (가나다, 98, 77), dtype: int64"
     },
     "execution_count": 34,
     "metadata": {},
     "output_type": "execute_result"
    }
   ],
   "source": [
    "modified.loc[('가나다', 98, 77)]"
   ],
   "metadata": {
    "collapsed": false,
    "ExecuteTime": {
     "end_time": "2024-01-12T04:27:30.006539500Z",
     "start_time": "2024-01-12T04:27:29.941350800Z"
    }
   },
   "id": "5f13839309764430",
   "execution_count": 34
  },
  {
   "cell_type": "code",
   "outputs": [
    {
     "data": {
      "text/plain": "미술    50\n체육    77\nName: (가나다, 98, 60), dtype: int64"
     },
     "execution_count": 35,
     "metadata": {},
     "output_type": "execute_result"
    }
   ],
   "source": [
    "modified.loc[('가나다', 98, 60)]"
   ],
   "metadata": {
    "collapsed": false,
    "ExecuteTime": {
     "end_time": "2024-01-12T04:27:30.006539500Z",
     "start_time": "2024-01-12T04:27:29.954383600Z"
    }
   },
   "id": "7c6f873acd4cc70b",
   "execution_count": 35
  },
  {
   "cell_type": "code",
   "outputs": [],
   "source": [
    "# modified.loc[98]\n",
    "# 키에러 발생\n"
   ],
   "metadata": {
    "collapsed": false,
    "ExecuteTime": {
     "end_time": "2024-01-12T04:29:32.052616800Z",
     "start_time": "2024-01-12T04:29:32.041512100Z"
    }
   },
   "id": "5f5c3a1cb85c0473",
   "execution_count": 37
  },
  {
   "cell_type": "markdown",
   "source": [
    "- 멀티인덱스의 인덱스의 일부분을 기준으로 행을 선택 : xs()\n",
    "    * 예) '마징가' 98 77 => Level 0 1 2\n",
    "    * "
   ],
   "metadata": {
    "collapsed": false
   },
   "id": "672ab1c1c6f69ebf"
  },
  {
   "cell_type": "code",
   "outputs": [
    {
     "data": {
      "text/plain": "       미술  체육\n국어 수학        \n98 77  70  77\n   60  50  77\n   70  87  91",
      "text/html": "<div>\n<style scoped>\n    .dataframe tbody tr th:only-of-type {\n        vertical-align: middle;\n    }\n\n    .dataframe tbody tr th {\n        vertical-align: top;\n    }\n\n    .dataframe thead th {\n        text-align: right;\n    }\n</style>\n<table border=\"1\" class=\"dataframe\">\n  <thead>\n    <tr style=\"text-align: right;\">\n      <th></th>\n      <th></th>\n      <th>미술</th>\n      <th>체육</th>\n    </tr>\n    <tr>\n      <th>국어</th>\n      <th>수학</th>\n      <th></th>\n      <th></th>\n    </tr>\n  </thead>\n  <tbody>\n    <tr>\n      <th rowspan=\"3\" valign=\"top\">98</th>\n      <th>77</th>\n      <td>70</td>\n      <td>77</td>\n    </tr>\n    <tr>\n      <th>60</th>\n      <td>50</td>\n      <td>77</td>\n    </tr>\n    <tr>\n      <th>70</th>\n      <td>87</td>\n      <td>91</td>\n    </tr>\n  </tbody>\n</table>\n</div>"
     },
     "execution_count": 42,
     "metadata": {},
     "output_type": "execute_result"
    }
   ],
   "source": [
    "modified.xs('가나다', level=0)"
   ],
   "metadata": {
    "collapsed": false,
    "ExecuteTime": {
     "end_time": "2024-01-12T04:33:10.787807400Z",
     "start_time": "2024-01-12T04:33:10.766440600Z"
    }
   },
   "id": "f5a41e51e4893e53",
   "execution_count": 42
  },
  {
   "cell_type": "code",
   "outputs": [],
   "source": [
    "# modified.xs(98)\n",
    "# xs라고 하더라도 레벨을 지정하지 않으면\n",
    "# 찾지 못함"
   ],
   "metadata": {
    "collapsed": false,
    "ExecuteTime": {
     "end_time": "2024-01-12T04:33:38.612452100Z",
     "start_time": "2024-01-12T04:33:38.595988200Z"
    }
   },
   "id": "d3b102028919521a",
   "execution_count": 44
  },
  {
   "cell_type": "code",
   "outputs": [
    {
     "data": {
      "text/plain": "        미술  체육\n이름  수학        \n가나다 77  70  77\n    60  50  77\n    70  87  91",
      "text/html": "<div>\n<style scoped>\n    .dataframe tbody tr th:only-of-type {\n        vertical-align: middle;\n    }\n\n    .dataframe tbody tr th {\n        vertical-align: top;\n    }\n\n    .dataframe thead th {\n        text-align: right;\n    }\n</style>\n<table border=\"1\" class=\"dataframe\">\n  <thead>\n    <tr style=\"text-align: right;\">\n      <th></th>\n      <th></th>\n      <th>미술</th>\n      <th>체육</th>\n    </tr>\n    <tr>\n      <th>이름</th>\n      <th>수학</th>\n      <th></th>\n      <th></th>\n    </tr>\n  </thead>\n  <tbody>\n    <tr>\n      <th rowspan=\"3\" valign=\"top\">가나다</th>\n      <th>77</th>\n      <td>70</td>\n      <td>77</td>\n    </tr>\n    <tr>\n      <th>60</th>\n      <td>50</td>\n      <td>77</td>\n    </tr>\n    <tr>\n      <th>70</th>\n      <td>87</td>\n      <td>91</td>\n    </tr>\n  </tbody>\n</table>\n</div>"
     },
     "execution_count": 45,
     "metadata": {},
     "output_type": "execute_result"
    }
   ],
   "source": [
    "modified.xs(98, level=1)"
   ],
   "metadata": {
    "collapsed": false,
    "ExecuteTime": {
     "end_time": "2024-01-12T04:33:47.787563300Z",
     "start_time": "2024-01-12T04:33:47.766631700Z"
    }
   },
   "id": "c6fd3b788eae00c7",
   "execution_count": 45
  },
  {
   "cell_type": "code",
   "outputs": [
    {
     "data": {
      "text/plain": "        미술  체육\n이름  국어        \n마바사 79  99  83\n가나다 98  87  91",
      "text/html": "<div>\n<style scoped>\n    .dataframe tbody tr th:only-of-type {\n        vertical-align: middle;\n    }\n\n    .dataframe tbody tr th {\n        vertical-align: top;\n    }\n\n    .dataframe thead th {\n        text-align: right;\n    }\n</style>\n<table border=\"1\" class=\"dataframe\">\n  <thead>\n    <tr style=\"text-align: right;\">\n      <th></th>\n      <th></th>\n      <th>미술</th>\n      <th>체육</th>\n    </tr>\n    <tr>\n      <th>이름</th>\n      <th>국어</th>\n      <th></th>\n      <th></th>\n    </tr>\n  </thead>\n  <tbody>\n    <tr>\n      <th>마바사</th>\n      <th>79</th>\n      <td>99</td>\n      <td>83</td>\n    </tr>\n    <tr>\n      <th>가나다</th>\n      <th>98</th>\n      <td>87</td>\n      <td>91</td>\n    </tr>\n  </tbody>\n</table>\n</div>"
     },
     "execution_count": 47,
     "metadata": {},
     "output_type": "execute_result"
    }
   ],
   "source": [
    "modified.xs(70, level=2)"
   ],
   "metadata": {
    "collapsed": false,
    "ExecuteTime": {
     "end_time": "2024-01-12T04:34:50.862647700Z",
     "start_time": "2024-01-12T04:34:50.853674300Z"
    }
   },
   "id": "be3245c570fa4663",
   "execution_count": 47
  },
  {
   "cell_type": "markdown",
   "source": [
    "- ('가나다',  98, 77), ('차카파', 100, 72) 행 가져오기"
   ],
   "metadata": {
    "collapsed": false
   },
   "id": "fd1c627ee40619a9"
  },
  {
   "cell_type": "code",
   "outputs": [
    {
     "data": {
      "text/plain": "            미술  체육\n이름  국어  수학        \n가나다 98  77  70  77\n차카파 100 72  80  91",
      "text/html": "<div>\n<style scoped>\n    .dataframe tbody tr th:only-of-type {\n        vertical-align: middle;\n    }\n\n    .dataframe tbody tr th {\n        vertical-align: top;\n    }\n\n    .dataframe thead th {\n        text-align: right;\n    }\n</style>\n<table border=\"1\" class=\"dataframe\">\n  <thead>\n    <tr style=\"text-align: right;\">\n      <th></th>\n      <th></th>\n      <th></th>\n      <th>미술</th>\n      <th>체육</th>\n    </tr>\n    <tr>\n      <th>이름</th>\n      <th>국어</th>\n      <th>수학</th>\n      <th></th>\n      <th></th>\n    </tr>\n  </thead>\n  <tbody>\n    <tr>\n      <th>가나다</th>\n      <th>98</th>\n      <th>77</th>\n      <td>70</td>\n      <td>77</td>\n    </tr>\n    <tr>\n      <th>차카파</th>\n      <th>100</th>\n      <th>72</th>\n      <td>80</td>\n      <td>91</td>\n    </tr>\n  </tbody>\n</table>\n</div>"
     },
     "execution_count": 53,
     "metadata": {},
     "output_type": "execute_result"
    }
   ],
   "source": [
    "modified.loc[[('가나다', 98, 77), ('차카파', 100, 72) ]]"
   ],
   "metadata": {
    "collapsed": false,
    "ExecuteTime": {
     "end_time": "2024-01-12T04:41:50.369255Z",
     "start_time": "2024-01-12T04:41:50.347812700Z"
    }
   },
   "id": "c94dbd9ac7b04b28",
   "execution_count": 53
  },
  {
   "cell_type": "markdown",
   "source": [
    "(5) 인덱스 재배치 : 행/열 인덱스를 원하는 순서대로 재배치 + 존재하지 않는 행/열 추가  \n",
    "- DF.reindex()"
   ],
   "metadata": {
    "collapsed": false
   },
   "id": "b480e1110ba35772"
  },
  {
   "cell_type": "code",
   "outputs": [
    {
     "name": "stdout",
     "output_type": "stream",
     "text": [
      "RangeIndex(start=0, stop=6, step=1)\n",
      "\n",
      "Index(['이름', '국어', '미술', '수학', '체육'], dtype='object')\n"
     ]
    }
   ],
   "source": [
    "print(examDF.index, examDF.columns, sep = '\\n\\n')\n"
   ],
   "metadata": {
    "collapsed": false,
    "ExecuteTime": {
     "end_time": "2024-01-12T04:53:06.486363700Z",
     "start_time": "2024-01-12T04:53:06.467153300Z"
    }
   },
   "id": "c20ca68ed3973aa5",
   "execution_count": 59
  },
  {
   "cell_type": "markdown",
   "source": [
    "- 컬럼명 순서 변경 ==> '체육', '미술', '국어', '수학'"
   ],
   "metadata": {
    "collapsed": false
   },
   "id": "ed596007a763f011"
  },
  {
   "cell_type": "code",
   "outputs": [
    {
     "data": {
      "text/plain": "   체육  미술   국어  수학  총합\n0  77  70   98  77   0\n1  83  99   79  70   0\n2  69  87   99  98   0\n3  91  80  100  72   0\n4  77  50   98  60   0\n5  91  87   98  70   0",
      "text/html": "<div>\n<style scoped>\n    .dataframe tbody tr th:only-of-type {\n        vertical-align: middle;\n    }\n\n    .dataframe tbody tr th {\n        vertical-align: top;\n    }\n\n    .dataframe thead th {\n        text-align: right;\n    }\n</style>\n<table border=\"1\" class=\"dataframe\">\n  <thead>\n    <tr style=\"text-align: right;\">\n      <th></th>\n      <th>체육</th>\n      <th>미술</th>\n      <th>국어</th>\n      <th>수학</th>\n      <th>총합</th>\n    </tr>\n  </thead>\n  <tbody>\n    <tr>\n      <th>0</th>\n      <td>77</td>\n      <td>70</td>\n      <td>98</td>\n      <td>77</td>\n      <td>0</td>\n    </tr>\n    <tr>\n      <th>1</th>\n      <td>83</td>\n      <td>99</td>\n      <td>79</td>\n      <td>70</td>\n      <td>0</td>\n    </tr>\n    <tr>\n      <th>2</th>\n      <td>69</td>\n      <td>87</td>\n      <td>99</td>\n      <td>98</td>\n      <td>0</td>\n    </tr>\n    <tr>\n      <th>3</th>\n      <td>91</td>\n      <td>80</td>\n      <td>100</td>\n      <td>72</td>\n      <td>0</td>\n    </tr>\n    <tr>\n      <th>4</th>\n      <td>77</td>\n      <td>50</td>\n      <td>98</td>\n      <td>60</td>\n      <td>0</td>\n    </tr>\n    <tr>\n      <th>5</th>\n      <td>91</td>\n      <td>87</td>\n      <td>98</td>\n      <td>70</td>\n      <td>0</td>\n    </tr>\n  </tbody>\n</table>\n</div>"
     },
     "execution_count": 60,
     "metadata": {},
     "output_type": "execute_result"
    }
   ],
   "source": [
    "examDF.reindex(['체육', '미술', '국어', '수학', '총합'], axis='columns', fill_value=0)"
   ],
   "metadata": {
    "collapsed": false,
    "ExecuteTime": {
     "end_time": "2024-01-12T04:54:18.677867900Z",
     "start_time": "2024-01-12T04:54:18.643056600Z"
    }
   },
   "id": "60e0519fd5cf1860",
   "execution_count": 60
  },
  {
   "cell_type": "code",
   "outputs": [
    {
     "data": {
      "text/plain": "    이름   국어  미술  수학  체육\n0  가나다   98  70  77  77\n2  아자차   99  87  98  69\n4  가나다   98  50  60  77\n1  마바사   79  99  70  83\n3  차카파  100  80  72  91\n5  가나다   98  87  70  91",
      "text/html": "<div>\n<style scoped>\n    .dataframe tbody tr th:only-of-type {\n        vertical-align: middle;\n    }\n\n    .dataframe tbody tr th {\n        vertical-align: top;\n    }\n\n    .dataframe thead th {\n        text-align: right;\n    }\n</style>\n<table border=\"1\" class=\"dataframe\">\n  <thead>\n    <tr style=\"text-align: right;\">\n      <th></th>\n      <th>이름</th>\n      <th>국어</th>\n      <th>미술</th>\n      <th>수학</th>\n      <th>체육</th>\n    </tr>\n  </thead>\n  <tbody>\n    <tr>\n      <th>0</th>\n      <td>가나다</td>\n      <td>98</td>\n      <td>70</td>\n      <td>77</td>\n      <td>77</td>\n    </tr>\n    <tr>\n      <th>2</th>\n      <td>아자차</td>\n      <td>99</td>\n      <td>87</td>\n      <td>98</td>\n      <td>69</td>\n    </tr>\n    <tr>\n      <th>4</th>\n      <td>가나다</td>\n      <td>98</td>\n      <td>50</td>\n      <td>60</td>\n      <td>77</td>\n    </tr>\n    <tr>\n      <th>1</th>\n      <td>마바사</td>\n      <td>79</td>\n      <td>99</td>\n      <td>70</td>\n      <td>83</td>\n    </tr>\n    <tr>\n      <th>3</th>\n      <td>차카파</td>\n      <td>100</td>\n      <td>80</td>\n      <td>72</td>\n      <td>91</td>\n    </tr>\n    <tr>\n      <th>5</th>\n      <td>가나다</td>\n      <td>98</td>\n      <td>87</td>\n      <td>70</td>\n      <td>91</td>\n    </tr>\n  </tbody>\n</table>\n</div>"
     },
     "execution_count": 61,
     "metadata": {},
     "output_type": "execute_result"
    }
   ],
   "source": [
    "examDF.reindex([0,2,4,1,3,5], axis='index', fill_value='0')"
   ],
   "metadata": {
    "collapsed": false,
    "ExecuteTime": {
     "end_time": "2024-01-12T04:56:34.281499300Z",
     "start_time": "2024-01-12T04:56:34.251570400Z"
    }
   },
   "id": "ec7bdd6a00736130",
   "execution_count": 61
  },
  {
   "cell_type": "markdown",
   "source": [
    "- 컬럼명 순서 변경 ==> '체육', '미술', '국어', '수학', '총합' + 행인덱스 => \n",
    "- 점"
   ],
   "metadata": {
    "collapsed": false
   },
   "id": "c756325b1af31ba0"
  },
  {
   "cell_type": "code",
   "outputs": [
    {
     "data": {
      "text/plain": "   체육  미술   국어  수학 총합\n0  77  70   98  77  0\n2  69  87   99  98  0\n4  77  50   98  60  0\n1  83  99   79  70  0\n3  91  80  100  72  0\n5  91  87   98  70  0",
      "text/html": "<div>\n<style scoped>\n    .dataframe tbody tr th:only-of-type {\n        vertical-align: middle;\n    }\n\n    .dataframe tbody tr th {\n        vertical-align: top;\n    }\n\n    .dataframe thead th {\n        text-align: right;\n    }\n</style>\n<table border=\"1\" class=\"dataframe\">\n  <thead>\n    <tr style=\"text-align: right;\">\n      <th></th>\n      <th>체육</th>\n      <th>미술</th>\n      <th>국어</th>\n      <th>수학</th>\n      <th>총합</th>\n    </tr>\n  </thead>\n  <tbody>\n    <tr>\n      <th>0</th>\n      <td>77</td>\n      <td>70</td>\n      <td>98</td>\n      <td>77</td>\n      <td>0</td>\n    </tr>\n    <tr>\n      <th>2</th>\n      <td>69</td>\n      <td>87</td>\n      <td>99</td>\n      <td>98</td>\n      <td>0</td>\n    </tr>\n    <tr>\n      <th>4</th>\n      <td>77</td>\n      <td>50</td>\n      <td>98</td>\n      <td>60</td>\n      <td>0</td>\n    </tr>\n    <tr>\n      <th>1</th>\n      <td>83</td>\n      <td>99</td>\n      <td>79</td>\n      <td>70</td>\n      <td>0</td>\n    </tr>\n    <tr>\n      <th>3</th>\n      <td>91</td>\n      <td>80</td>\n      <td>100</td>\n      <td>72</td>\n      <td>0</td>\n    </tr>\n    <tr>\n      <th>5</th>\n      <td>91</td>\n      <td>87</td>\n      <td>98</td>\n      <td>70</td>\n      <td>0</td>\n    </tr>\n  </tbody>\n</table>\n</div>"
     },
     "execution_count": 63,
     "metadata": {},
     "output_type": "execute_result"
    }
   ],
   "source": [
    "examDF.reindex(index = [0,2,4,1,3,5], columns=['체육', '미술', '국어', '수학', '총합'], fill_value='0')"
   ],
   "metadata": {
    "collapsed": false,
    "ExecuteTime": {
     "end_time": "2024-01-12T04:59:07.939371300Z",
     "start_time": "2024-01-12T04:59:07.919460800Z"
    }
   },
   "id": "f23a8f78f95787ce",
   "execution_count": 63
  },
  {
   "cell_type": "code",
   "outputs": [],
   "source": [],
   "metadata": {
    "collapsed": false
   },
   "id": "22739169ecac485"
  }
 ],
 "metadata": {
  "kernelspec": {
   "display_name": "Python 3",
   "language": "python",
   "name": "python3"
  },
  "language_info": {
   "codemirror_mode": {
    "name": "ipython",
    "version": 2
   },
   "file_extension": ".py",
   "mimetype": "text/x-python",
   "name": "python",
   "nbconvert_exporter": "python",
   "pygments_lexer": "ipython2",
   "version": "2.7.6"
  }
 },
 "nbformat": 4,
 "nbformat_minor": 5
}
