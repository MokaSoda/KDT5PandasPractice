{
 "cells": [
  {
   "cell_type": "markdown",
   "source": [
    "## [ Series 데이터 연산 ]"
   ],
   "metadata": {
    "collapsed": false
   },
   "id": "4b10758d60ebb8f9"
  },
  {
   "cell_type": "markdown",
   "source": [
    "(1) 모듈 로딩 <hr>\n"
   ],
   "metadata": {
    "collapsed": false
   },
   "id": "655d9c5be3251263"
  },
  {
   "cell_type": "code",
   "outputs": [],
   "source": [
    "import pandas as pd\n",
    "import numpy as np"
   ],
   "metadata": {
    "collapsed": false,
    "ExecuteTime": {
     "end_time": "2024-01-12T06:42:06.776688300Z",
     "start_time": "2024-01-12T06:42:06.689668800Z"
    }
   },
   "id": "647411c5e3a52dd3",
   "execution_count": 29
  },
  {
   "cell_type": "markdown",
   "source": [
    "(2) 데이터 준비 <hr>"
   ],
   "metadata": {
    "collapsed": false
   },
   "id": "4f44e3e627f553f9"
  },
  {
   "cell_type": "code",
   "outputs": [],
   "source": [
    "data = [5, 7, np.nan, 9, 11]\n",
    "# 1줄짜리 데이터 : 1차원 데이터\n",
    "# nan에 의해 기본값은 float64"
   ],
   "metadata": {
    "collapsed": false,
    "ExecuteTime": {
     "end_time": "2024-01-12T06:42:06.794364700Z",
     "start_time": "2024-01-12T06:42:06.779764600Z"
    }
   },
   "id": "83c3f1774420f422",
   "execution_count": 30
  },
  {
   "cell_type": "markdown",
   "source": [
    "(3) 데이터 저장 ===> 1차원 데이터로 Series에 저장 <hr>"
   ],
   "metadata": {
    "collapsed": false
   },
   "id": "afab528faed5d67f"
  },
  {
   "cell_type": "code",
   "outputs": [],
   "source": [
    "sr = pd.Series(data)"
   ],
   "metadata": {
    "collapsed": false,
    "ExecuteTime": {
     "end_time": "2024-01-12T06:42:06.814181Z",
     "start_time": "2024-01-12T06:42:06.798628200Z"
    }
   },
   "id": "8e1e92ccada081c",
   "execution_count": 31
  },
  {
   "cell_type": "markdown",
   "source": [
    "(4) 데이터 확인 <hr>\n"
   ],
   "metadata": {
    "collapsed": false
   },
   "id": "41234db6fe4f550f"
  },
  {
   "cell_type": "code",
   "outputs": [
    {
     "data": {
      "text/plain": "(RangeIndex(start=0, stop=5, step=1), (5,), 1, dtype('float64'))"
     },
     "execution_count": 32,
     "metadata": {},
     "output_type": "execute_result"
    }
   ],
   "source": [
    "sr.index, sr.shape, sr.ndim, sr.dtype"
   ],
   "metadata": {
    "collapsed": false,
    "ExecuteTime": {
     "end_time": "2024-01-12T06:42:06.858704300Z",
     "start_time": "2024-01-12T06:42:06.816272500Z"
    }
   },
   "id": "903516d842a2ee89",
   "execution_count": 32
  },
  {
   "cell_type": "code",
   "outputs": [
    {
     "data": {
      "text/plain": "array([ 5.,  7., nan,  9., 11.])"
     },
     "execution_count": 33,
     "metadata": {},
     "output_type": "execute_result"
    }
   ],
   "source": [
    "sr.values"
   ],
   "metadata": {
    "collapsed": false,
    "ExecuteTime": {
     "end_time": "2024-01-12T06:42:06.860755400Z",
     "start_time": "2024-01-12T06:42:06.831787800Z"
    }
   },
   "id": "48d8f6f2ddacd168",
   "execution_count": 33
  },
  {
   "cell_type": "markdown",
   "source": [
    "(5) 연산 수행 => Series 객체 - 연산자 - 숫자\n"
   ],
   "metadata": {
    "collapsed": false
   },
   "id": "9bab0befdd93ec80"
  },
  {
   "cell_type": "code",
   "outputs": [
    {
     "data": {
      "text/plain": "0    10.0\n1    12.0\n2     NaN\n3    14.0\n4    16.0\ndtype: float64"
     },
     "execution_count": 34,
     "metadata": {},
     "output_type": "execute_result"
    }
   ],
   "source": [
    "sr + 5"
   ],
   "metadata": {
    "collapsed": false,
    "ExecuteTime": {
     "end_time": "2024-01-12T06:42:06.879336700Z",
     "start_time": "2024-01-12T06:42:06.846264Z"
    }
   },
   "id": "9954fa5dff74d62a",
   "execution_count": 34
  },
  {
   "cell_type": "code",
   "outputs": [
    {
     "data": {
      "text/plain": "0    0.0\n1    2.0\n2    NaN\n3    4.0\n4    6.0\ndtype: float64"
     },
     "execution_count": 35,
     "metadata": {},
     "output_type": "execute_result"
    }
   ],
   "source": [
    "sr - 5"
   ],
   "metadata": {
    "collapsed": false,
    "ExecuteTime": {
     "end_time": "2024-01-12T06:42:06.880352800Z",
     "start_time": "2024-01-12T06:42:06.863798500Z"
    }
   },
   "id": "10875523e2c3404f",
   "execution_count": 35
  },
  {
   "cell_type": "code",
   "outputs": [
    {
     "data": {
      "text/plain": "0    25.0\n1    35.0\n2     NaN\n3    45.0\n4    55.0\ndtype: float64"
     },
     "execution_count": 36,
     "metadata": {},
     "output_type": "execute_result"
    }
   ],
   "source": [
    "sr * 5"
   ],
   "metadata": {
    "collapsed": false,
    "ExecuteTime": {
     "end_time": "2024-01-12T06:42:06.904113900Z",
     "start_time": "2024-01-12T06:42:06.878266600Z"
    }
   },
   "id": "da038b0117e9592e",
   "execution_count": 36
  },
  {
   "cell_type": "code",
   "outputs": [
    {
     "data": {
      "text/plain": "0    inf\n1    inf\n2    NaN\n3    inf\n4    inf\ndtype: float64"
     },
     "execution_count": 37,
     "metadata": {},
     "output_type": "execute_result"
    }
   ],
   "source": [
    "sr / 0"
   ],
   "metadata": {
    "collapsed": false,
    "ExecuteTime": {
     "end_time": "2024-01-12T06:42:06.914440100Z",
     "start_time": "2024-01-12T06:42:06.893730600Z"
    }
   },
   "id": "cef0b49ebd6994ac",
   "execution_count": 37
  },
  {
   "cell_type": "code",
   "outputs": [
    {
     "data": {
      "text/plain": "0    1.0\n1    1.0\n2    NaN\n3    2.0\n4    2.0\ndtype: float64"
     },
     "execution_count": 38,
     "metadata": {},
     "output_type": "execute_result"
    }
   ],
   "source": [
    "sr // 4"
   ],
   "metadata": {
    "collapsed": false,
    "ExecuteTime": {
     "end_time": "2024-01-12T06:42:06.931027600Z",
     "start_time": "2024-01-12T06:42:06.911411400Z"
    }
   },
   "id": "45331e3e831b3ec0",
   "execution_count": 38
  },
  {
   "cell_type": "code",
   "outputs": [
    {
     "data": {
      "text/plain": "0    0.0\n1    2.0\n2    NaN\n3    4.0\n4    1.0\ndtype: float64"
     },
     "execution_count": 39,
     "metadata": {},
     "output_type": "execute_result"
    }
   ],
   "source": [
    "sr % 5"
   ],
   "metadata": {
    "collapsed": false,
    "ExecuteTime": {
     "end_time": "2024-01-12T06:42:06.939301300Z",
     "start_time": "2024-01-12T06:42:06.923745400Z"
    }
   },
   "id": "7369ad7d7120fd92",
   "execution_count": 39
  },
  {
   "cell_type": "code",
   "outputs": [
    {
     "data": {
      "text/plain": "0    False\n1     True\n2    False\n3     True\n4     True\ndtype: bool"
     },
     "execution_count": 40,
     "metadata": {},
     "output_type": "execute_result"
    }
   ],
   "source": [
    "sr > 5"
   ],
   "metadata": {
    "collapsed": false,
    "ExecuteTime": {
     "end_time": "2024-01-12T06:42:06.960857100Z",
     "start_time": "2024-01-12T06:42:06.940328600Z"
    }
   },
   "id": "c6d86cc9967c0389",
   "execution_count": 40
  },
  {
   "cell_type": "code",
   "outputs": [
    {
     "data": {
      "text/plain": "0     True\n1    False\n2    False\n3    False\n4    False\ndtype: bool"
     },
     "execution_count": 43,
     "metadata": {},
     "output_type": "execute_result"
    }
   ],
   "source": [
    "sr == 5."
   ],
   "metadata": {
    "collapsed": false,
    "ExecuteTime": {
     "end_time": "2024-01-12T06:43:14.494316500Z",
     "start_time": "2024-01-12T06:43:14.470249400Z"
    }
   },
   "id": "f811e010a59951f5",
   "execution_count": 43
  },
  {
   "cell_type": "code",
   "outputs": [
    {
     "data": {
      "text/plain": "0     True\n1     True\n2    False\n3     True\n4    False\ndtype: bool"
     },
     "execution_count": 44,
     "metadata": {},
     "output_type": "execute_result"
    }
   ],
   "source": [
    "sr < 10"
   ],
   "metadata": {
    "collapsed": false,
    "ExecuteTime": {
     "end_time": "2024-01-12T06:43:38.118844600Z",
     "start_time": "2024-01-12T06:43:38.109000900Z"
    }
   },
   "id": "e7d1da5d5bcec1d3",
   "execution_count": 44
  },
  {
   "cell_type": "markdown",
   "source": [
    "- 논리연산 => & : and 연산, | : or 연산 , ~ : not 연산"
   ],
   "metadata": {
    "collapsed": false
   },
   "id": "fcae5d845e4c493d"
  },
  {
   "cell_type": "code",
   "outputs": [
    {
     "data": {
      "text/plain": "0    False\n1     True\n2    False\n3     True\n4    False\ndtype: bool"
     },
     "execution_count": 49,
     "metadata": {},
     "output_type": "execute_result"
    }
   ],
   "source": [
    "(sr > 5) & (sr < 10)"
   ],
   "metadata": {
    "collapsed": false,
    "ExecuteTime": {
     "end_time": "2024-01-12T06:44:44.028455200Z",
     "start_time": "2024-01-12T06:44:44.014640100Z"
    }
   },
   "id": "e93eff87573d130d",
   "execution_count": 49
  },
  {
   "cell_type": "code",
   "outputs": [
    {
     "data": {
      "text/plain": "0     True\n1     True\n2    False\n3     True\n4     True\ndtype: bool"
     },
     "execution_count": 50,
     "metadata": {},
     "output_type": "execute_result"
    }
   ],
   "source": [
    "(sr > 5) | (sr < 10)"
   ],
   "metadata": {
    "collapsed": false,
    "ExecuteTime": {
     "end_time": "2024-01-12T06:45:18.478049800Z",
     "start_time": "2024-01-12T06:45:18.466628400Z"
    }
   },
   "id": "e2f3b85816f11c3a",
   "execution_count": 50
  },
  {
   "cell_type": "code",
   "outputs": [
    {
     "data": {
      "text/plain": "0     True\n1    False\n2     True\n3    False\n4    False\ndtype: bool"
     },
     "execution_count": 53,
     "metadata": {},
     "output_type": "execute_result"
    }
   ],
   "source": [
    "~(sr > 5)"
   ],
   "metadata": {
    "collapsed": false,
    "ExecuteTime": {
     "end_time": "2024-01-12T06:47:28.673824300Z",
     "start_time": "2024-01-12T06:47:28.660338800Z"
    }
   },
   "id": "7c5e86e438c36b0e",
   "execution_count": 53
  },
  {
   "cell_type": "markdown",
   "source": [
    "(5) 연산 수행 => Series 객체 + Series 객체 <hr>"
   ],
   "metadata": {
    "collapsed": false
   },
   "id": "dc7f32efd4aa9e83"
  },
  {
   "cell_type": "code",
   "outputs": [],
   "source": [
    "data2 = [2,4,6,8,9]\n",
    "sr2 = pd.Series(data2)"
   ],
   "metadata": {
    "collapsed": false,
    "ExecuteTime": {
     "end_time": "2024-01-12T06:49:57.080559800Z",
     "start_time": "2024-01-12T06:49:57.055851100Z"
    }
   },
   "id": "ac9ec9a12f4763b9",
   "execution_count": 54
  },
  {
   "cell_type": "code",
   "outputs": [
    {
     "name": "stdout",
     "output_type": "stream",
     "text": [
      "0     7.0\n",
      "1    11.0\n",
      "2     NaN\n",
      "3    17.0\n",
      "4    20.0\n",
      "dtype: float64\n",
      "\n",
      "0    3.0\n",
      "1    3.0\n",
      "2    NaN\n",
      "3    1.0\n",
      "4    2.0\n",
      "dtype: float64\n",
      "\n",
      "0    10.0\n",
      "1    28.0\n",
      "2     NaN\n",
      "3    72.0\n",
      "4    99.0\n",
      "dtype: float64\n",
      "\n",
      "0    2.500000\n",
      "1    1.750000\n",
      "2         NaN\n",
      "3    1.125000\n",
      "4    1.222222\n",
      "dtype: float64\n",
      "\n",
      "0    1.0\n",
      "1    3.0\n",
      "2    NaN\n",
      "3    1.0\n",
      "4    2.0\n",
      "dtype: float64\n"
     ]
    }
   ],
   "source": [
    "print(sr + sr2, sr-sr2,sr*sr2,sr/sr2, sr % sr2, sep=\"\\n\\n\")"
   ],
   "metadata": {
    "collapsed": false,
    "ExecuteTime": {
     "end_time": "2024-01-12T06:51:02.847508200Z",
     "start_time": "2024-01-12T06:51:02.831933900Z"
    }
   },
   "id": "20b2ad099fdca50d",
   "execution_count": 57
  },
  {
   "cell_type": "code",
   "outputs": [
    {
     "name": "stdout",
     "output_type": "stream",
     "text": [
      "0     True\n",
      "1     True\n",
      "2    False\n",
      "3     True\n",
      "4     True\n",
      "dtype: bool\n",
      "\n",
      "0    False\n",
      "1    False\n",
      "2    False\n",
      "3    False\n",
      "4    False\n",
      "dtype: bool\n",
      "\n",
      "0    False\n",
      "1    False\n",
      "2    False\n",
      "3    False\n",
      "4    False\n",
      "dtype: bool\n",
      "\n",
      "0    True\n",
      "1    True\n",
      "2    True\n",
      "3    True\n",
      "4    True\n",
      "dtype: bool\n",
      "\n",
      "0     True\n",
      "1     True\n",
      "2    False\n",
      "3     True\n",
      "4     True\n",
      "dtype: bool\n"
     ]
    }
   ],
   "source": [
    "print(sr>sr2, sr<sr2,sr==sr2,sr!=sr2, sr>= sr2, sep=\"\\n\\n\")"
   ],
   "metadata": {
    "collapsed": false,
    "ExecuteTime": {
     "end_time": "2024-01-12T06:51:59.486653600Z",
     "start_time": "2024-01-12T06:51:59.468495800Z"
    }
   },
   "id": "d5e06689de58b7f8",
   "execution_count": 58
  },
  {
   "cell_type": "code",
   "outputs": [
    {
     "data": {
      "text/plain": "2    2\n3    4\n4    6\n5    8\n6    9\ndtype: int64"
     },
     "execution_count": 59,
     "metadata": {},
     "output_type": "execute_result"
    }
   ],
   "source": [
    "sr2.index = list(range(2,7))\n",
    "sr2"
   ],
   "metadata": {
    "collapsed": false,
    "ExecuteTime": {
     "end_time": "2024-01-12T06:52:36.465168900Z",
     "start_time": "2024-01-12T06:52:36.455850600Z"
    }
   },
   "id": "d9dca2e400f7dd83",
   "execution_count": 59
  },
  {
   "cell_type": "code",
   "outputs": [
    {
     "name": "stdout",
     "output_type": "stream",
     "text": [
      "0     NaN\n",
      "1     NaN\n",
      "2     NaN\n",
      "3    13.0\n",
      "4    17.0\n",
      "5     NaN\n",
      "6     NaN\n",
      "dtype: float64\n",
      "\n",
      "0    NaN\n",
      "1    NaN\n",
      "2    NaN\n",
      "3    5.0\n",
      "4    5.0\n",
      "5    NaN\n",
      "6    NaN\n",
      "dtype: float64\n",
      "\n",
      "0     NaN\n",
      "1     NaN\n",
      "2     NaN\n",
      "3    36.0\n",
      "4    66.0\n",
      "5     NaN\n",
      "6     NaN\n",
      "dtype: float64\n",
      "\n",
      "0         NaN\n",
      "1         NaN\n",
      "2         NaN\n",
      "3    2.250000\n",
      "4    1.833333\n",
      "5         NaN\n",
      "6         NaN\n",
      "dtype: float64\n",
      "\n",
      "0    NaN\n",
      "1    NaN\n",
      "2    NaN\n",
      "3    1.0\n",
      "4    5.0\n",
      "5    NaN\n",
      "6    NaN\n",
      "dtype: float64\n"
     ]
    }
   ],
   "source": [
    "# 인덱스가 동일한 값 끼리 가능함 \n",
    "print(sr + sr2, sr-sr2,sr*sr2,sr/sr2, sr % sr2, sep=\"\\n\\n\")"
   ],
   "metadata": {
    "collapsed": false,
    "ExecuteTime": {
     "end_time": "2024-01-12T06:53:05.839576300Z",
     "start_time": "2024-01-12T06:53:05.816621900Z"
    }
   },
   "id": "7cee4aa382d93636",
   "execution_count": 60
  },
  {
   "cell_type": "code",
   "outputs": [
    {
     "data": {
      "text/plain": "0     7.0\n1    11.0\n2     NaN\n3    17.0\n4    20.0\ndtype: float64"
     },
     "execution_count": 64,
     "metadata": {},
     "output_type": "execute_result"
    }
   ],
   "source": [
    "sr2.reset_index(drop=True) + sr"
   ],
   "metadata": {
    "collapsed": false,
    "ExecuteTime": {
     "end_time": "2024-01-12T06:57:06.140866500Z",
     "start_time": "2024-01-12T06:57:06.127611700Z"
    }
   },
   "id": "7265e989c1121450",
   "execution_count": 64
  },
  {
   "cell_type": "code",
   "outputs": [
    {
     "data": {
      "text/plain": "2    2\n3    4\n4    6\n5    8\n6    9\ndtype: int64"
     },
     "execution_count": 62,
     "metadata": {},
     "output_type": "execute_result"
    }
   ],
   "source": [
    "sr2"
   ],
   "metadata": {
    "collapsed": false,
    "ExecuteTime": {
     "end_time": "2024-01-12T06:56:55.477711400Z",
     "start_time": "2024-01-12T06:56:55.466207700Z"
    }
   },
   "id": "e7c5e0e692117d6e",
   "execution_count": 62
  },
  {
   "cell_type": "markdown",
   "source": [
    "(5) Series 연산수행 => 전용 메서드 <hr>\n",
    "\n",
    "fill_value=0 을 지정하여 NaN을 처리할 수 있음"
   ],
   "metadata": {
    "collapsed": false
   },
   "id": "735716e4e0e45e00"
  },
  {
   "cell_type": "code",
   "outputs": [
    {
     "data": {
      "text/plain": "0    10.0\n1    12.0\n2     5.0\n3    14.0\n4    16.0\ndtype: float64"
     },
     "execution_count": 68,
     "metadata": {},
     "output_type": "execute_result"
    }
   ],
   "source": [
    "sr.add(5, fill_value=0)"
   ],
   "metadata": {
    "collapsed": false,
    "ExecuteTime": {
     "end_time": "2024-01-12T07:01:30.009651900Z",
     "start_time": "2024-01-12T07:01:29.989963200Z"
    }
   },
   "id": "7866a2b7557882d4",
   "execution_count": 68
  },
  {
   "cell_type": "code",
   "outputs": [
    {
     "data": {
      "text/plain": "0    5.0\n1    7.0\n2   -2.0\n3    5.0\n4    5.0\n5   -8.0\n6   -9.0\ndtype: float64"
     },
     "execution_count": 71,
     "metadata": {},
     "output_type": "execute_result"
    }
   ],
   "source": [
    "sr.sub(sr2, fill_value=0)"
   ],
   "metadata": {
    "collapsed": false,
    "ExecuteTime": {
     "end_time": "2024-01-12T07:02:18.790914300Z",
     "start_time": "2024-01-12T07:02:18.761779600Z"
    }
   },
   "id": "28cc3f2bb0ed97fc",
   "execution_count": 71
  },
  {
   "cell_type": "code",
   "outputs": [],
   "source": [
    "addSR = sr.add(sr2,fill_value=0)\n",
    "subSR = sr.sub(sr2,fill_value=0)\n",
    "divSR = sr.div(sr2,fill_value=0)\n",
    "mulSR = sr.mul(sr2,fill_value=0)\n"
   ],
   "metadata": {
    "collapsed": false,
    "ExecuteTime": {
     "end_time": "2024-01-12T07:05:47.697739200Z",
     "start_time": "2024-01-12T07:05:47.675990Z"
    }
   },
   "id": "3852a13dc82ebbf9",
   "execution_count": 74
  },
  {
   "cell_type": "markdown",
   "source": [
    "(6) DataFrame 연산 수행 <hr>"
   ],
   "metadata": {
    "collapsed": false
   },
   "id": "ccb5d4047fe7f988"
  },
  {
   "cell_type": "code",
   "outputs": [
    {
     "data": {
      "text/plain": "       0    1    2      3          4    5    6\nadd  5.0  7.0  2.0  13.00  17.000000  8.0  9.0\nsub  5.0  7.0 -2.0   5.00   5.000000 -8.0 -9.0\nmul  0.0  0.0  0.0  36.00  66.000000  0.0  0.0\ndiv  inf  inf  0.0   2.25   1.833333  0.0  0.0",
      "text/html": "<div>\n<style scoped>\n    .dataframe tbody tr th:only-of-type {\n        vertical-align: middle;\n    }\n\n    .dataframe tbody tr th {\n        vertical-align: top;\n    }\n\n    .dataframe thead th {\n        text-align: right;\n    }\n</style>\n<table border=\"1\" class=\"dataframe\">\n  <thead>\n    <tr style=\"text-align: right;\">\n      <th></th>\n      <th>0</th>\n      <th>1</th>\n      <th>2</th>\n      <th>3</th>\n      <th>4</th>\n      <th>5</th>\n      <th>6</th>\n    </tr>\n  </thead>\n  <tbody>\n    <tr>\n      <th>add</th>\n      <td>5.0</td>\n      <td>7.0</td>\n      <td>2.0</td>\n      <td>13.00</td>\n      <td>17.000000</td>\n      <td>8.0</td>\n      <td>9.0</td>\n    </tr>\n    <tr>\n      <th>sub</th>\n      <td>5.0</td>\n      <td>7.0</td>\n      <td>-2.0</td>\n      <td>5.00</td>\n      <td>5.000000</td>\n      <td>-8.0</td>\n      <td>-9.0</td>\n    </tr>\n    <tr>\n      <th>mul</th>\n      <td>0.0</td>\n      <td>0.0</td>\n      <td>0.0</td>\n      <td>36.00</td>\n      <td>66.000000</td>\n      <td>0.0</td>\n      <td>0.0</td>\n    </tr>\n    <tr>\n      <th>div</th>\n      <td>inf</td>\n      <td>inf</td>\n      <td>0.0</td>\n      <td>2.25</td>\n      <td>1.833333</td>\n      <td>0.0</td>\n      <td>0.0</td>\n    </tr>\n  </tbody>\n</table>\n</div>"
     },
     "execution_count": 78,
     "metadata": {},
     "output_type": "execute_result"
    }
   ],
   "source": [
    "df = pd.DataFrame([addSR,subSR,mulSR,divSR], index=['add','sub','mul','div'])\n",
    "df"
   ],
   "metadata": {
    "collapsed": false,
    "ExecuteTime": {
     "end_time": "2024-01-12T07:33:10.738226900Z",
     "start_time": "2024-01-12T07:33:10.735116500Z"
    }
   },
   "id": "ea62a50833cc7ec",
   "execution_count": 78
  },
  {
   "cell_type": "markdown",
   "source": [
    "- DataFrame와 숫자 연산 수행"
   ],
   "metadata": {
    "collapsed": false
   },
   "id": "584dffc5bc3dcabb"
  },
  {
   "cell_type": "code",
   "outputs": [
    {
     "name": "stdout",
     "output_type": "stream",
     "text": [
      "        0     1    2      3          4     5     6\n",
      "add  10.0  12.0  7.0  18.00  22.000000  13.0  14.0\n",
      "sub  10.0  12.0  3.0  10.00  10.000000  -3.0  -4.0\n",
      "mul   5.0   5.0  5.0  41.00  71.000000   5.0   5.0\n",
      "div   inf   inf  5.0   7.25   6.833333   5.0   5.0\n",
      "\n",
      "       0    1    2      3          4     5     6\n",
      "add  0.0  2.0 -3.0   8.00  12.000000   3.0   4.0\n",
      "sub  0.0  2.0 -7.0   0.00   0.000000 -13.0 -14.0\n",
      "mul -5.0 -5.0 -5.0  31.00  61.000000  -5.0  -5.0\n",
      "div  inf  inf -5.0  -2.75  -3.166667  -5.0  -5.0\n"
     ]
    }
   ],
   "source": [
    "print(df+5, df-5, sep='\\n\\n')"
   ],
   "metadata": {
    "collapsed": false,
    "ExecuteTime": {
     "end_time": "2024-01-12T07:34:18.900589700Z",
     "start_time": "2024-01-12T07:34:18.851652200Z"
    }
   },
   "id": "e1a196d8490a6aeb",
   "execution_count": 79
  },
  {
   "cell_type": "code",
   "outputs": [
    {
     "name": "stdout",
     "output_type": "stream",
     "text": [
      "         0      1      2      3      4      5      6\n",
      "add  False   True  False   True   True   True   True\n",
      "sub  False   True  False  False  False  False  False\n",
      "mul  False  False  False   True   True  False  False\n",
      "div   True   True  False  False  False  False  False\n",
      "\n",
      "         0      1     2      3      4      5      6\n",
      "add  False  False  True  False  False  False  False\n",
      "sub  False  False  True  False  False   True   True\n",
      "mul   True   True  True  False  False   True   True\n",
      "div  False  False  True   True   True   True   True\n"
     ]
    }
   ],
   "source": [
    "print(df>5, df<5, sep='\\n\\n')"
   ],
   "metadata": {
    "collapsed": false,
    "ExecuteTime": {
     "end_time": "2024-01-12T07:35:51.660554100Z",
     "start_time": "2024-01-12T07:35:51.616509900Z"
    }
   },
   "id": "8c65c2eb19f06f1b",
   "execution_count": 80
  },
  {
   "cell_type": "markdown",
   "source": [
    "- DataFrame과 DataFrame 연산 수행 => 동일 위치에 원소끼리 연산 수행"
   ],
   "metadata": {
    "collapsed": false
   },
   "id": "d8ec7240379150a1"
  },
  {
   "cell_type": "code",
   "outputs": [
    {
     "data": {
      "text/plain": "        0     1     2      3           4     5     6\nadd  50.0  70.0  20.0  130.0  170.000000  80.0  90.0\nsub  50.0  70.0 -20.0   50.0   50.000000 -80.0 -90.0\nmul   0.0   0.0   0.0  360.0  660.000000   0.0   0.0\ndiv   inf   inf   0.0   22.5   18.333333   0.0   0.0",
      "text/html": "<div>\n<style scoped>\n    .dataframe tbody tr th:only-of-type {\n        vertical-align: middle;\n    }\n\n    .dataframe tbody tr th {\n        vertical-align: top;\n    }\n\n    .dataframe thead th {\n        text-align: right;\n    }\n</style>\n<table border=\"1\" class=\"dataframe\">\n  <thead>\n    <tr style=\"text-align: right;\">\n      <th></th>\n      <th>0</th>\n      <th>1</th>\n      <th>2</th>\n      <th>3</th>\n      <th>4</th>\n      <th>5</th>\n      <th>6</th>\n    </tr>\n  </thead>\n  <tbody>\n    <tr>\n      <th>add</th>\n      <td>50.0</td>\n      <td>70.0</td>\n      <td>20.0</td>\n      <td>130.0</td>\n      <td>170.000000</td>\n      <td>80.0</td>\n      <td>90.0</td>\n    </tr>\n    <tr>\n      <th>sub</th>\n      <td>50.0</td>\n      <td>70.0</td>\n      <td>-20.0</td>\n      <td>50.0</td>\n      <td>50.000000</td>\n      <td>-80.0</td>\n      <td>-90.0</td>\n    </tr>\n    <tr>\n      <th>mul</th>\n      <td>0.0</td>\n      <td>0.0</td>\n      <td>0.0</td>\n      <td>360.0</td>\n      <td>660.000000</td>\n      <td>0.0</td>\n      <td>0.0</td>\n    </tr>\n    <tr>\n      <th>div</th>\n      <td>inf</td>\n      <td>inf</td>\n      <td>0.0</td>\n      <td>22.5</td>\n      <td>18.333333</td>\n      <td>0.0</td>\n      <td>0.0</td>\n    </tr>\n  </tbody>\n</table>\n</div>"
     },
     "execution_count": 85,
     "metadata": {},
     "output_type": "execute_result"
    }
   ],
   "source": [
    "df2 = df * 10\n",
    "df2"
   ],
   "metadata": {
    "collapsed": false,
    "ExecuteTime": {
     "end_time": "2024-01-12T07:38:16.615565100Z",
     "start_time": "2024-01-12T07:38:16.591421100Z"
    }
   },
   "id": "2266a0788717f002",
   "execution_count": 85
  },
  {
   "cell_type": "code",
   "outputs": [
    {
     "name": "stdout",
     "output_type": "stream",
     "text": [
      "        0     1     2       3           4     5     6\n",
      "add  55.0  77.0  22.0  143.00  187.000000  88.0  99.0\n",
      "sub  55.0  77.0 -22.0   55.00   55.000000 -88.0 -99.0\n",
      "mul   0.0   0.0   0.0  396.00  726.000000   0.0   0.0\n",
      "div   inf   inf   0.0   24.75   20.166667   0.0   0.0\n",
      "\n",
      "         0      1     2          3             4      5      6\n",
      "add  250.0  490.0  40.0   1690.000   2890.000000  640.0  810.0\n",
      "sub  250.0  490.0  40.0    250.000    250.000000  640.0  810.0\n",
      "mul    0.0    0.0   0.0  12960.000  43560.000000    0.0    0.0\n",
      "div    inf    inf   0.0     50.625     33.611111    0.0    0.0\n",
      "\n",
      "       0    1    2    3    4    5    6\n",
      "add  0.0  0.0  0.0  0.0  0.0  0.0  0.0\n",
      "sub  0.0  0.0 -0.0  0.0  0.0 -0.0 -0.0\n",
      "mul  0.0  0.0  0.0  0.0  0.0  0.0  0.0\n",
      "div  NaN  NaN  0.0  0.0  0.0  0.0  0.0\n"
     ]
    }
   ],
   "source": [
    "print(df+df2, df*df2, df / np.inf, sep='\\n\\n')"
   ],
   "metadata": {
    "collapsed": false,
    "ExecuteTime": {
     "end_time": "2024-01-12T07:39:22.557052Z",
     "start_time": "2024-01-12T07:39:22.525977600Z"
    }
   },
   "id": "8b6059987de651b8",
   "execution_count": 89
  },
  {
   "cell_type": "code",
   "outputs": [
    {
     "name": "stdout",
     "output_type": "stream",
     "text": [
      "        0     1     2      3      4     5     6\n",
      "/     NaN   NaN   NaN    NaN    NaN   NaN   NaN\n",
      "add  55.0  77.0  22.0  143.0  187.0  88.0  99.0\n",
      "div   NaN   NaN   NaN    NaN    NaN   NaN   NaN\n",
      "mul   0.0   0.0   0.0  396.0  726.0   0.0   0.0\n",
      "sub  55.0  77.0 -22.0   55.0   55.0 -88.0 -99.0\n",
      "\n",
      "         0      1     2        3        4      5      6\n",
      "/      NaN    NaN   NaN      NaN      NaN    NaN    NaN\n",
      "add  250.0  490.0  40.0   1690.0   2890.0  640.0  810.0\n",
      "div    NaN    NaN   NaN      NaN      NaN    NaN    NaN\n",
      "mul    0.0    0.0   0.0  12960.0  43560.0    0.0    0.0\n",
      "sub  250.0  490.0  40.0    250.0    250.0  640.0  810.0\n"
     ]
    }
   ],
   "source": [
    "df2.index = ['add','sub', 'mul', '/']\n",
    "print(df+df2, df*df2, sep='\\n\\n')"
   ],
   "metadata": {
    "collapsed": false,
    "ExecuteTime": {
     "end_time": "2024-01-12T07:43:46.577584200Z",
     "start_time": "2024-01-12T07:43:46.559733Z"
    }
   },
   "id": "86b0b9b45aa262d2",
   "execution_count": 93
  },
  {
   "cell_type": "markdown",
   "source": [
    "- 연산 수행 매소드 활용 => 결측치 즉 NaN 빈칸에 대한 처리를 수행 가능\n",
    "    * fill_value 파라미터에 값 설정\n"
   ],
   "metadata": {
    "collapsed": false
   },
   "id": "8a6cb5da75437fbb"
  },
  {
   "cell_type": "code",
   "outputs": [
    {
     "data": {
      "text/plain": "        0     1     2       3           4     5     6\n/     inf   inf   0.0   22.50   18.333333   0.0   0.0\nadd  55.0  77.0  22.0  143.00  187.000000  88.0  99.0\ndiv   inf   inf   0.0    2.25    1.833333   0.0   0.0\nmul   0.0   0.0   0.0  396.00  726.000000   0.0   0.0\nsub  55.0  77.0 -22.0   55.00   55.000000 -88.0 -99.0",
      "text/html": "<div>\n<style scoped>\n    .dataframe tbody tr th:only-of-type {\n        vertical-align: middle;\n    }\n\n    .dataframe tbody tr th {\n        vertical-align: top;\n    }\n\n    .dataframe thead th {\n        text-align: right;\n    }\n</style>\n<table border=\"1\" class=\"dataframe\">\n  <thead>\n    <tr style=\"text-align: right;\">\n      <th></th>\n      <th>0</th>\n      <th>1</th>\n      <th>2</th>\n      <th>3</th>\n      <th>4</th>\n      <th>5</th>\n      <th>6</th>\n    </tr>\n  </thead>\n  <tbody>\n    <tr>\n      <th>/</th>\n      <td>inf</td>\n      <td>inf</td>\n      <td>0.0</td>\n      <td>22.50</td>\n      <td>18.333333</td>\n      <td>0.0</td>\n      <td>0.0</td>\n    </tr>\n    <tr>\n      <th>add</th>\n      <td>55.0</td>\n      <td>77.0</td>\n      <td>22.0</td>\n      <td>143.00</td>\n      <td>187.000000</td>\n      <td>88.0</td>\n      <td>99.0</td>\n    </tr>\n    <tr>\n      <th>div</th>\n      <td>inf</td>\n      <td>inf</td>\n      <td>0.0</td>\n      <td>2.25</td>\n      <td>1.833333</td>\n      <td>0.0</td>\n      <td>0.0</td>\n    </tr>\n    <tr>\n      <th>mul</th>\n      <td>0.0</td>\n      <td>0.0</td>\n      <td>0.0</td>\n      <td>396.00</td>\n      <td>726.000000</td>\n      <td>0.0</td>\n      <td>0.0</td>\n    </tr>\n    <tr>\n      <th>sub</th>\n      <td>55.0</td>\n      <td>77.0</td>\n      <td>-22.0</td>\n      <td>55.00</td>\n      <td>55.000000</td>\n      <td>-88.0</td>\n      <td>-99.0</td>\n    </tr>\n  </tbody>\n</table>\n</div>"
     },
     "execution_count": 94,
     "metadata": {},
     "output_type": "execute_result"
    }
   ],
   "source": [
    "df.add(df2, fill_value=0)"
   ],
   "metadata": {
    "collapsed": false,
    "ExecuteTime": {
     "end_time": "2024-01-12T07:44:44.887324200Z",
     "start_time": "2024-01-12T07:44:44.847731200Z"
    }
   },
   "id": "84fc22d47fa3cba0",
   "execution_count": 94
  },
  {
   "cell_type": "code",
   "outputs": [],
   "source": [],
   "metadata": {
    "collapsed": false
   },
   "id": "e4b251b16f3b04c4"
  }
 ],
 "metadata": {
  "kernelspec": {
   "display_name": "Python 3",
   "language": "python",
   "name": "python3"
  },
  "language_info": {
   "codemirror_mode": {
    "name": "ipython",
    "version": 2
   },
   "file_extension": ".py",
   "mimetype": "text/x-python",
   "name": "python",
   "nbconvert_exporter": "python",
   "pygments_lexer": "ipython2",
   "version": "2.7.6"
  }
 },
 "nbformat": 4,
 "nbformat_minor": 5
}
