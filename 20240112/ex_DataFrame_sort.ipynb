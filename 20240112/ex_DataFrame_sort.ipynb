{
 "cells": [
  {
   "cell_type": "markdown",
   "source": [
    "## [ DataFrame 정렬]\n",
    "\n",
    "- 종류 => 인덱스기반 정렬, 데이터/값 기반 정렬"
   ],
   "metadata": {
    "collapsed": false
   },
   "id": "396af8b5a1c43625"
  },
  {
   "cell_type": "markdown",
   "source": [
    "(1) 모듈 로딩 <hr>\n"
   ],
   "metadata": {
    "collapsed": false
   },
   "id": "ff718dc07a68a1c0"
  },
  {
   "cell_type": "code",
   "outputs": [],
   "source": [
    "import pandas as pd"
   ],
   "metadata": {
    "collapsed": false,
    "ExecuteTime": {
     "end_time": "2024-01-12T05:22:45.268912900Z",
     "start_time": "2024-01-12T05:22:45.255383100Z"
    }
   },
   "id": "6356e6763ee22fa5",
   "execution_count": 7
  },
  {
   "cell_type": "markdown",
   "source": [
    "(2) 데이터 준비<hr>"
   ],
   "metadata": {
    "collapsed": false
   },
   "id": "f503f6845ea6929"
  },
  {
   "cell_type": "markdown",
   "source": [
    "(3) 데이터 저장 => DataFrame\n",
    "\n",
    "- 파일 데이터 읽어서 저장 => pandas.read_파일확장자() --> 반환 : DataFrame"
   ],
   "metadata": {
    "collapsed": false
   },
   "id": "cd786503912ef5f"
  },
  {
   "cell_type": "code",
   "outputs": [],
   "source": [
    "movieDF = pd.read_csv('../DATA/movies.csv')"
   ],
   "metadata": {
    "collapsed": false,
    "ExecuteTime": {
     "end_time": "2024-01-12T05:23:08.339407300Z",
     "start_time": "2024-01-12T05:23:08.325432800Z"
    }
   },
   "id": "78090de9e7173935",
   "execution_count": 9
  },
  {
   "cell_type": "markdown",
   "source": [
    "(4) 데이터 확인 <hr>"
   ],
   "metadata": {
    "collapsed": false
   },
   "id": "3022971195c12252"
  },
  {
   "cell_type": "code",
   "outputs": [
    {
     "data": {
      "text/plain": "     Rank                         Title           Studio       Gross  Year\n0       1             Avengers: Endgame      Buena Vista  $2,796.30   2019\n1       2                        Avatar              Fox  $2,789.70   2009\n2       3                       Titanic        Paramount  $2,187.50   1997\n3       4  Star Wars: The Force Awakens      Buena Vista  $2,068.20   2015\n4       5        Avengers: Infinity War      Buena Vista  $2,048.40   2018\n..    ...                           ...              ...         ...   ...\n777   778                     Yogi Bear  Warner Brothers    $201.60   2010\n778   779           Garfield: The Movie              Fox    $200.80   2004\n779   780                   Cats & Dogs  Warner Brothers    $200.70   2001\n780   781      The Hunt for Red October        Paramount    $200.50   1990\n781   782                      Valkyrie              MGM    $200.30   2008\n\n[782 rows x 5 columns]",
      "text/html": "<div>\n<style scoped>\n    .dataframe tbody tr th:only-of-type {\n        vertical-align: middle;\n    }\n\n    .dataframe tbody tr th {\n        vertical-align: top;\n    }\n\n    .dataframe thead th {\n        text-align: right;\n    }\n</style>\n<table border=\"1\" class=\"dataframe\">\n  <thead>\n    <tr style=\"text-align: right;\">\n      <th></th>\n      <th>Rank</th>\n      <th>Title</th>\n      <th>Studio</th>\n      <th>Gross</th>\n      <th>Year</th>\n    </tr>\n  </thead>\n  <tbody>\n    <tr>\n      <th>0</th>\n      <td>1</td>\n      <td>Avengers: Endgame</td>\n      <td>Buena Vista</td>\n      <td>$2,796.30</td>\n      <td>2019</td>\n    </tr>\n    <tr>\n      <th>1</th>\n      <td>2</td>\n      <td>Avatar</td>\n      <td>Fox</td>\n      <td>$2,789.70</td>\n      <td>2009</td>\n    </tr>\n    <tr>\n      <th>2</th>\n      <td>3</td>\n      <td>Titanic</td>\n      <td>Paramount</td>\n      <td>$2,187.50</td>\n      <td>1997</td>\n    </tr>\n    <tr>\n      <th>3</th>\n      <td>4</td>\n      <td>Star Wars: The Force Awakens</td>\n      <td>Buena Vista</td>\n      <td>$2,068.20</td>\n      <td>2015</td>\n    </tr>\n    <tr>\n      <th>4</th>\n      <td>5</td>\n      <td>Avengers: Infinity War</td>\n      <td>Buena Vista</td>\n      <td>$2,048.40</td>\n      <td>2018</td>\n    </tr>\n    <tr>\n      <th>...</th>\n      <td>...</td>\n      <td>...</td>\n      <td>...</td>\n      <td>...</td>\n      <td>...</td>\n    </tr>\n    <tr>\n      <th>777</th>\n      <td>778</td>\n      <td>Yogi Bear</td>\n      <td>Warner Brothers</td>\n      <td>$201.60</td>\n      <td>2010</td>\n    </tr>\n    <tr>\n      <th>778</th>\n      <td>779</td>\n      <td>Garfield: The Movie</td>\n      <td>Fox</td>\n      <td>$200.80</td>\n      <td>2004</td>\n    </tr>\n    <tr>\n      <th>779</th>\n      <td>780</td>\n      <td>Cats &amp; Dogs</td>\n      <td>Warner Brothers</td>\n      <td>$200.70</td>\n      <td>2001</td>\n    </tr>\n    <tr>\n      <th>780</th>\n      <td>781</td>\n      <td>The Hunt for Red October</td>\n      <td>Paramount</td>\n      <td>$200.50</td>\n      <td>1990</td>\n    </tr>\n    <tr>\n      <th>781</th>\n      <td>782</td>\n      <td>Valkyrie</td>\n      <td>MGM</td>\n      <td>$200.30</td>\n      <td>2008</td>\n    </tr>\n  </tbody>\n</table>\n<p>782 rows × 5 columns</p>\n</div>"
     },
     "execution_count": 10,
     "metadata": {},
     "output_type": "execute_result"
    }
   ],
   "source": [
    "movieDF"
   ],
   "metadata": {
    "collapsed": false,
    "ExecuteTime": {
     "end_time": "2024-01-12T05:23:09.042642600Z",
     "start_time": "2024-01-12T05:23:09.009552400Z"
    }
   },
   "id": "f5d072b51f021781",
   "execution_count": 10
  },
  {
   "cell_type": "markdown",
   "source": [
    "- 데이터 확인 관련 메서드 .info()\n",
    "\n",
    "데이터의 전체구조 확인 및 대이터 종류 요약"
   ],
   "metadata": {
    "collapsed": false
   },
   "id": "f2a25f988698122c"
  },
  {
   "cell_type": "code",
   "outputs": [
    {
     "name": "stdout",
     "output_type": "stream",
     "text": [
      "<class 'pandas.core.frame.DataFrame'>\n",
      "RangeIndex: 782 entries, 0 to 781\n",
      "Data columns (total 5 columns):\n",
      " #   Column  Non-Null Count  Dtype \n",
      "---  ------  --------------  ----- \n",
      " 0   Rank    782 non-null    int64 \n",
      " 1   Title   782 non-null    object\n",
      " 2   Studio  782 non-null    object\n",
      " 3   Gross   782 non-null    object\n",
      " 4   Year    782 non-null    int64 \n",
      "dtypes: int64(2), object(3)\n",
      "memory usage: 30.7+ KB\n"
     ]
    }
   ],
   "source": [
    "movieDF.info()"
   ],
   "metadata": {
    "collapsed": false,
    "ExecuteTime": {
     "end_time": "2024-01-12T05:23:37.309532900Z",
     "start_time": "2024-01-12T05:23:37.302209900Z"
    }
   },
   "id": "f19178a5dad69c8",
   "execution_count": 11
  },
  {
   "cell_type": "code",
   "outputs": [
    {
     "data": {
      "text/plain": "             Rank         Year\ncount  782.000000   782.000000\nmean   391.500000  2006.620205\nstd    225.888247    10.026227\nmin      1.000000  1939.000000\n25%    196.250000  2001.000000\n50%    391.500000  2009.000000\n75%    586.750000  2014.000000\nmax    782.000000  2019.000000",
      "text/html": "<div>\n<style scoped>\n    .dataframe tbody tr th:only-of-type {\n        vertical-align: middle;\n    }\n\n    .dataframe tbody tr th {\n        vertical-align: top;\n    }\n\n    .dataframe thead th {\n        text-align: right;\n    }\n</style>\n<table border=\"1\" class=\"dataframe\">\n  <thead>\n    <tr style=\"text-align: right;\">\n      <th></th>\n      <th>Rank</th>\n      <th>Year</th>\n    </tr>\n  </thead>\n  <tbody>\n    <tr>\n      <th>count</th>\n      <td>782.000000</td>\n      <td>782.000000</td>\n    </tr>\n    <tr>\n      <th>mean</th>\n      <td>391.500000</td>\n      <td>2006.620205</td>\n    </tr>\n    <tr>\n      <th>std</th>\n      <td>225.888247</td>\n      <td>10.026227</td>\n    </tr>\n    <tr>\n      <th>min</th>\n      <td>1.000000</td>\n      <td>1939.000000</td>\n    </tr>\n    <tr>\n      <th>25%</th>\n      <td>196.250000</td>\n      <td>2001.000000</td>\n    </tr>\n    <tr>\n      <th>50%</th>\n      <td>391.500000</td>\n      <td>2009.000000</td>\n    </tr>\n    <tr>\n      <th>75%</th>\n      <td>586.750000</td>\n      <td>2014.000000</td>\n    </tr>\n    <tr>\n      <th>max</th>\n      <td>782.000000</td>\n      <td>2019.000000</td>\n    </tr>\n  </tbody>\n</table>\n</div>"
     },
     "execution_count": 17,
     "metadata": {},
     "output_type": "execute_result"
    }
   ],
   "source": [
    "# 컬럼별 통계적인 데이터 정보를 제공\n",
    "statistic = movieDF.describe()\n",
    "statistic"
   ],
   "metadata": {
    "collapsed": false,
    "ExecuteTime": {
     "end_time": "2024-01-12T05:29:11.590377Z",
     "start_time": "2024-01-12T05:29:11.568546700Z"
    }
   },
   "id": "88506bb106f1db8f",
   "execution_count": 17
  },
  {
   "cell_type": "code",
   "outputs": [
    {
     "data": {
      "text/plain": "         min     max         mean\nRank     1.0   782.0   391.500000\nYear  1939.0  2019.0  2006.620205",
      "text/html": "<div>\n<style scoped>\n    .dataframe tbody tr th:only-of-type {\n        vertical-align: middle;\n    }\n\n    .dataframe tbody tr th {\n        vertical-align: top;\n    }\n\n    .dataframe thead th {\n        text-align: right;\n    }\n</style>\n<table border=\"1\" class=\"dataframe\">\n  <thead>\n    <tr style=\"text-align: right;\">\n      <th></th>\n      <th>min</th>\n      <th>max</th>\n      <th>mean</th>\n    </tr>\n  </thead>\n  <tbody>\n    <tr>\n      <th>Rank</th>\n      <td>1.0</td>\n      <td>782.0</td>\n      <td>391.500000</td>\n    </tr>\n    <tr>\n      <th>Year</th>\n      <td>1939.0</td>\n      <td>2019.0</td>\n      <td>2006.620205</td>\n    </tr>\n  </tbody>\n</table>\n</div>"
     },
     "execution_count": 21,
     "metadata": {},
     "output_type": "execute_result"
    }
   ],
   "source": [
    "# 수치 컬럼의 최소, 최대, 평균 데이터 추출\n",
    "# for x in statistic.columns:\n",
    "#     print(f\"{x}의 최소값 : {statistic[x].loc['min']}\", end=', ')\n",
    "#     print(f\"{x}의 최대값 : {statistic[x].loc['max']}\", end=', ')\n",
    "#     print(f\"{x}의 평균값 : {statistic[x].loc['mean']:.2f}\", end='\\n')\n",
    "\n",
    "statistic.loc[['min','max','mean']].transpose()\n"
   ],
   "metadata": {
    "collapsed": false,
    "ExecuteTime": {
     "end_time": "2024-01-12T05:34:19.220420100Z",
     "start_time": "2024-01-12T05:34:19.192713400Z"
    }
   },
   "id": "175a541ab3d8f9c4",
   "execution_count": 21
  },
  {
   "cell_type": "markdown",
   "source": [
    "## 행 => 열, 열 => 행 치환 가능 속성 및 메서드\n",
    "\n",
    "- 속성 : DF객체변수명.T (원본 데이터가 바뀌지 않음)\n",
    "- 메서드 : DF객체변수명.transpose() (inplace 없으므로 반드시 따로 저장)\n"
   ],
   "metadata": {
    "collapsed": false
   },
   "id": "604837609b8ca7d1"
  },
  {
   "cell_type": "code",
   "outputs": [
    {
     "data": {
      "text/plain": "      count         mean         std     min      25%     50%      75%     max\nRank  782.0   391.500000  225.888247     1.0   196.25   391.5   586.75   782.0\nYear  782.0  2006.620205   10.026227  1939.0  2001.00  2009.0  2014.00  2019.0",
      "text/html": "<div>\n<style scoped>\n    .dataframe tbody tr th:only-of-type {\n        vertical-align: middle;\n    }\n\n    .dataframe tbody tr th {\n        vertical-align: top;\n    }\n\n    .dataframe thead th {\n        text-align: right;\n    }\n</style>\n<table border=\"1\" class=\"dataframe\">\n  <thead>\n    <tr style=\"text-align: right;\">\n      <th></th>\n      <th>count</th>\n      <th>mean</th>\n      <th>std</th>\n      <th>min</th>\n      <th>25%</th>\n      <th>50%</th>\n      <th>75%</th>\n      <th>max</th>\n    </tr>\n  </thead>\n  <tbody>\n    <tr>\n      <th>Rank</th>\n      <td>782.0</td>\n      <td>391.500000</td>\n      <td>225.888247</td>\n      <td>1.0</td>\n      <td>196.25</td>\n      <td>391.5</td>\n      <td>586.75</td>\n      <td>782.0</td>\n    </tr>\n    <tr>\n      <th>Year</th>\n      <td>782.0</td>\n      <td>2006.620205</td>\n      <td>10.026227</td>\n      <td>1939.0</td>\n      <td>2001.00</td>\n      <td>2009.0</td>\n      <td>2014.00</td>\n      <td>2019.0</td>\n    </tr>\n  </tbody>\n</table>\n</div>"
     },
     "execution_count": 30,
     "metadata": {},
     "output_type": "execute_result"
    }
   ],
   "source": [
    "pd.DataFrame([statistic.Rank.values, statistic.Year.values], columns=statistic.index, index=statistic.columns)"
   ],
   "metadata": {
    "collapsed": false,
    "ExecuteTime": {
     "end_time": "2024-01-12T05:43:44.303319400Z",
     "start_time": "2024-01-12T05:43:44.275424Z"
    }
   },
   "id": "c41d983c1761d0c5",
   "execution_count": 30
  },
  {
   "cell_type": "code",
   "outputs": [
    {
     "data": {
      "text/plain": "      count         mean         std     min      25%     50%      75%     max\nRank  782.0   391.500000  225.888247     1.0   196.25   391.5   586.75   782.0\nYear  782.0  2006.620205   10.026227  1939.0  2001.00  2009.0  2014.00  2019.0",
      "text/html": "<div>\n<style scoped>\n    .dataframe tbody tr th:only-of-type {\n        vertical-align: middle;\n    }\n\n    .dataframe tbody tr th {\n        vertical-align: top;\n    }\n\n    .dataframe thead th {\n        text-align: right;\n    }\n</style>\n<table border=\"1\" class=\"dataframe\">\n  <thead>\n    <tr style=\"text-align: right;\">\n      <th></th>\n      <th>count</th>\n      <th>mean</th>\n      <th>std</th>\n      <th>min</th>\n      <th>25%</th>\n      <th>50%</th>\n      <th>75%</th>\n      <th>max</th>\n    </tr>\n  </thead>\n  <tbody>\n    <tr>\n      <th>Rank</th>\n      <td>782.0</td>\n      <td>391.500000</td>\n      <td>225.888247</td>\n      <td>1.0</td>\n      <td>196.25</td>\n      <td>391.5</td>\n      <td>586.75</td>\n      <td>782.0</td>\n    </tr>\n    <tr>\n      <th>Year</th>\n      <td>782.0</td>\n      <td>2006.620205</td>\n      <td>10.026227</td>\n      <td>1939.0</td>\n      <td>2001.00</td>\n      <td>2009.0</td>\n      <td>2014.00</td>\n      <td>2019.0</td>\n    </tr>\n  </tbody>\n</table>\n</div>"
     },
     "execution_count": 31,
     "metadata": {},
     "output_type": "execute_result"
    }
   ],
   "source": [
    "statistic.T"
   ],
   "metadata": {
    "collapsed": false,
    "ExecuteTime": {
     "end_time": "2024-01-12T05:43:44.476364600Z",
     "start_time": "2024-01-12T05:43:44.452095Z"
    }
   },
   "id": "3798b14bc2284376",
   "execution_count": 31
  },
  {
   "cell_type": "code",
   "outputs": [
    {
     "data": {
      "text/plain": "      count         mean         std     min      25%     50%      75%     max\nRank  782.0   391.500000  225.888247     1.0   196.25   391.5   586.75   782.0\nYear  782.0  2006.620205   10.026227  1939.0  2001.00  2009.0  2014.00  2019.0",
      "text/html": "<div>\n<style scoped>\n    .dataframe tbody tr th:only-of-type {\n        vertical-align: middle;\n    }\n\n    .dataframe tbody tr th {\n        vertical-align: top;\n    }\n\n    .dataframe thead th {\n        text-align: right;\n    }\n</style>\n<table border=\"1\" class=\"dataframe\">\n  <thead>\n    <tr style=\"text-align: right;\">\n      <th></th>\n      <th>count</th>\n      <th>mean</th>\n      <th>std</th>\n      <th>min</th>\n      <th>25%</th>\n      <th>50%</th>\n      <th>75%</th>\n      <th>max</th>\n    </tr>\n  </thead>\n  <tbody>\n    <tr>\n      <th>Rank</th>\n      <td>782.0</td>\n      <td>391.500000</td>\n      <td>225.888247</td>\n      <td>1.0</td>\n      <td>196.25</td>\n      <td>391.5</td>\n      <td>586.75</td>\n      <td>782.0</td>\n    </tr>\n    <tr>\n      <th>Year</th>\n      <td>782.0</td>\n      <td>2006.620205</td>\n      <td>10.026227</td>\n      <td>1939.0</td>\n      <td>2001.00</td>\n      <td>2009.0</td>\n      <td>2014.00</td>\n      <td>2019.0</td>\n    </tr>\n  </tbody>\n</table>\n</div>"
     },
     "execution_count": 32,
     "metadata": {},
     "output_type": "execute_result"
    }
   ],
   "source": [
    "statistic.transpose()"
   ],
   "metadata": {
    "collapsed": false,
    "ExecuteTime": {
     "end_time": "2024-01-12T05:43:44.634473700Z",
     "start_time": "2024-01-12T05:43:44.611552500Z"
    }
   },
   "id": "53d978b252e71f37",
   "execution_count": 32
  },
  {
   "cell_type": "code",
   "outputs": [
    {
     "data": {
      "text/plain": "              Rank                 Title           Studio     Gross  \\\ncount   782.000000                   782              782       782   \nunique         NaN                   773               37       701   \ntop            NaN  Beauty and the Beast  Warner Brothers  $225.90    \nfreq           NaN                     2              132         3   \nmean    391.500000                   NaN              NaN       NaN   \nstd     225.888247                   NaN              NaN       NaN   \nmin       1.000000                   NaN              NaN       NaN   \n25%     196.250000                   NaN              NaN       NaN   \n50%     391.500000                   NaN              NaN       NaN   \n75%     586.750000                   NaN              NaN       NaN   \nmax     782.000000                   NaN              NaN       NaN   \n\n               Year  \ncount    782.000000  \nunique          NaN  \ntop             NaN  \nfreq            NaN  \nmean    2006.620205  \nstd       10.026227  \nmin     1939.000000  \n25%     2001.000000  \n50%     2009.000000  \n75%     2014.000000  \nmax     2019.000000  ",
      "text/html": "<div>\n<style scoped>\n    .dataframe tbody tr th:only-of-type {\n        vertical-align: middle;\n    }\n\n    .dataframe tbody tr th {\n        vertical-align: top;\n    }\n\n    .dataframe thead th {\n        text-align: right;\n    }\n</style>\n<table border=\"1\" class=\"dataframe\">\n  <thead>\n    <tr style=\"text-align: right;\">\n      <th></th>\n      <th>Rank</th>\n      <th>Title</th>\n      <th>Studio</th>\n      <th>Gross</th>\n      <th>Year</th>\n    </tr>\n  </thead>\n  <tbody>\n    <tr>\n      <th>count</th>\n      <td>782.000000</td>\n      <td>782</td>\n      <td>782</td>\n      <td>782</td>\n      <td>782.000000</td>\n    </tr>\n    <tr>\n      <th>unique</th>\n      <td>NaN</td>\n      <td>773</td>\n      <td>37</td>\n      <td>701</td>\n      <td>NaN</td>\n    </tr>\n    <tr>\n      <th>top</th>\n      <td>NaN</td>\n      <td>Beauty and the Beast</td>\n      <td>Warner Brothers</td>\n      <td>$225.90</td>\n      <td>NaN</td>\n    </tr>\n    <tr>\n      <th>freq</th>\n      <td>NaN</td>\n      <td>2</td>\n      <td>132</td>\n      <td>3</td>\n      <td>NaN</td>\n    </tr>\n    <tr>\n      <th>mean</th>\n      <td>391.500000</td>\n      <td>NaN</td>\n      <td>NaN</td>\n      <td>NaN</td>\n      <td>2006.620205</td>\n    </tr>\n    <tr>\n      <th>std</th>\n      <td>225.888247</td>\n      <td>NaN</td>\n      <td>NaN</td>\n      <td>NaN</td>\n      <td>10.026227</td>\n    </tr>\n    <tr>\n      <th>min</th>\n      <td>1.000000</td>\n      <td>NaN</td>\n      <td>NaN</td>\n      <td>NaN</td>\n      <td>1939.000000</td>\n    </tr>\n    <tr>\n      <th>25%</th>\n      <td>196.250000</td>\n      <td>NaN</td>\n      <td>NaN</td>\n      <td>NaN</td>\n      <td>2001.000000</td>\n    </tr>\n    <tr>\n      <th>50%</th>\n      <td>391.500000</td>\n      <td>NaN</td>\n      <td>NaN</td>\n      <td>NaN</td>\n      <td>2009.000000</td>\n    </tr>\n    <tr>\n      <th>75%</th>\n      <td>586.750000</td>\n      <td>NaN</td>\n      <td>NaN</td>\n      <td>NaN</td>\n      <td>2014.000000</td>\n    </tr>\n    <tr>\n      <th>max</th>\n      <td>782.000000</td>\n      <td>NaN</td>\n      <td>NaN</td>\n      <td>NaN</td>\n      <td>2019.000000</td>\n    </tr>\n  </tbody>\n</table>\n</div>"
     },
     "execution_count": 35,
     "metadata": {},
     "output_type": "execute_result"
    }
   ],
   "source": [
    "statistic_all = movieDF.describe(include='all')\n",
    "statistic_all"
   ],
   "metadata": {
    "collapsed": false,
    "ExecuteTime": {
     "end_time": "2024-01-12T05:44:16.816493900Z",
     "start_time": "2024-01-12T05:44:16.790112700Z"
    }
   },
   "id": "4a9f3585761173c2",
   "execution_count": 35
  },
  {
   "cell_type": "markdown",
   "source": [
    "- (5) 데이터 정렬\n",
    "    * 인덱스 기반 정렬 => 행인덱스 / 열인덱스\n"
   ],
   "metadata": {
    "collapsed": false
   },
   "id": "4a9020fc2952ff3b"
  },
  {
   "cell_type": "code",
   "outputs": [
    {
     "data": {
      "text/plain": "     Rank                         Title           Studio       Gross  Year\n781   782                      Valkyrie              MGM    $200.30   2008\n780   781      The Hunt for Red October        Paramount    $200.50   1990\n779   780                   Cats & Dogs  Warner Brothers    $200.70   2001\n778   779           Garfield: The Movie              Fox    $200.80   2004\n777   778                     Yogi Bear  Warner Brothers    $201.60   2010\n..    ...                           ...              ...         ...   ...\n4       5        Avengers: Infinity War      Buena Vista  $2,048.40   2018\n3       4  Star Wars: The Force Awakens      Buena Vista  $2,068.20   2015\n2       3                       Titanic        Paramount  $2,187.50   1997\n1       2                        Avatar              Fox  $2,789.70   2009\n0       1             Avengers: Endgame      Buena Vista  $2,796.30   2019\n\n[782 rows x 5 columns]",
      "text/html": "<div>\n<style scoped>\n    .dataframe tbody tr th:only-of-type {\n        vertical-align: middle;\n    }\n\n    .dataframe tbody tr th {\n        vertical-align: top;\n    }\n\n    .dataframe thead th {\n        text-align: right;\n    }\n</style>\n<table border=\"1\" class=\"dataframe\">\n  <thead>\n    <tr style=\"text-align: right;\">\n      <th></th>\n      <th>Rank</th>\n      <th>Title</th>\n      <th>Studio</th>\n      <th>Gross</th>\n      <th>Year</th>\n    </tr>\n  </thead>\n  <tbody>\n    <tr>\n      <th>781</th>\n      <td>782</td>\n      <td>Valkyrie</td>\n      <td>MGM</td>\n      <td>$200.30</td>\n      <td>2008</td>\n    </tr>\n    <tr>\n      <th>780</th>\n      <td>781</td>\n      <td>The Hunt for Red October</td>\n      <td>Paramount</td>\n      <td>$200.50</td>\n      <td>1990</td>\n    </tr>\n    <tr>\n      <th>779</th>\n      <td>780</td>\n      <td>Cats &amp; Dogs</td>\n      <td>Warner Brothers</td>\n      <td>$200.70</td>\n      <td>2001</td>\n    </tr>\n    <tr>\n      <th>778</th>\n      <td>779</td>\n      <td>Garfield: The Movie</td>\n      <td>Fox</td>\n      <td>$200.80</td>\n      <td>2004</td>\n    </tr>\n    <tr>\n      <th>777</th>\n      <td>778</td>\n      <td>Yogi Bear</td>\n      <td>Warner Brothers</td>\n      <td>$201.60</td>\n      <td>2010</td>\n    </tr>\n    <tr>\n      <th>...</th>\n      <td>...</td>\n      <td>...</td>\n      <td>...</td>\n      <td>...</td>\n      <td>...</td>\n    </tr>\n    <tr>\n      <th>4</th>\n      <td>5</td>\n      <td>Avengers: Infinity War</td>\n      <td>Buena Vista</td>\n      <td>$2,048.40</td>\n      <td>2018</td>\n    </tr>\n    <tr>\n      <th>3</th>\n      <td>4</td>\n      <td>Star Wars: The Force Awakens</td>\n      <td>Buena Vista</td>\n      <td>$2,068.20</td>\n      <td>2015</td>\n    </tr>\n    <tr>\n      <th>2</th>\n      <td>3</td>\n      <td>Titanic</td>\n      <td>Paramount</td>\n      <td>$2,187.50</td>\n      <td>1997</td>\n    </tr>\n    <tr>\n      <th>1</th>\n      <td>2</td>\n      <td>Avatar</td>\n      <td>Fox</td>\n      <td>$2,789.70</td>\n      <td>2009</td>\n    </tr>\n    <tr>\n      <th>0</th>\n      <td>1</td>\n      <td>Avengers: Endgame</td>\n      <td>Buena Vista</td>\n      <td>$2,796.30</td>\n      <td>2019</td>\n    </tr>\n  </tbody>\n</table>\n<p>782 rows × 5 columns</p>\n</div>"
     },
     "execution_count": 36,
     "metadata": {},
     "output_type": "execute_result"
    }
   ],
   "source": [
    "# 행 인덱스 기반 정렬 => DF.sort_index()\n",
    "movieDF.sort_index(ascending=False)"
   ],
   "metadata": {
    "collapsed": false,
    "ExecuteTime": {
     "end_time": "2024-01-12T05:53:32.551723Z",
     "start_time": "2024-01-12T05:53:32.519709500Z"
    }
   },
   "id": "65fc04722591e9f1",
   "execution_count": 36
  },
  {
   "cell_type": "code",
   "outputs": [
    {
     "data": {
      "text/plain": "          Gross  Rank           Studio                         Title  Year\n0    $2,796.30      1      Buena Vista             Avengers: Endgame  2019\n1    $2,789.70      2              Fox                        Avatar  2009\n2    $2,187.50      3        Paramount                       Titanic  1997\n3    $2,068.20      4      Buena Vista  Star Wars: The Force Awakens  2015\n4    $2,048.40      5      Buena Vista        Avengers: Infinity War  2018\n..          ...   ...              ...                           ...   ...\n777    $201.60    778  Warner Brothers                     Yogi Bear  2010\n778    $200.80    779              Fox           Garfield: The Movie  2004\n779    $200.70    780  Warner Brothers                   Cats & Dogs  2001\n780    $200.50    781        Paramount      The Hunt for Red October  1990\n781    $200.30    782              MGM                      Valkyrie  2008\n\n[782 rows x 5 columns]",
      "text/html": "<div>\n<style scoped>\n    .dataframe tbody tr th:only-of-type {\n        vertical-align: middle;\n    }\n\n    .dataframe tbody tr th {\n        vertical-align: top;\n    }\n\n    .dataframe thead th {\n        text-align: right;\n    }\n</style>\n<table border=\"1\" class=\"dataframe\">\n  <thead>\n    <tr style=\"text-align: right;\">\n      <th></th>\n      <th>Gross</th>\n      <th>Rank</th>\n      <th>Studio</th>\n      <th>Title</th>\n      <th>Year</th>\n    </tr>\n  </thead>\n  <tbody>\n    <tr>\n      <th>0</th>\n      <td>$2,796.30</td>\n      <td>1</td>\n      <td>Buena Vista</td>\n      <td>Avengers: Endgame</td>\n      <td>2019</td>\n    </tr>\n    <tr>\n      <th>1</th>\n      <td>$2,789.70</td>\n      <td>2</td>\n      <td>Fox</td>\n      <td>Avatar</td>\n      <td>2009</td>\n    </tr>\n    <tr>\n      <th>2</th>\n      <td>$2,187.50</td>\n      <td>3</td>\n      <td>Paramount</td>\n      <td>Titanic</td>\n      <td>1997</td>\n    </tr>\n    <tr>\n      <th>3</th>\n      <td>$2,068.20</td>\n      <td>4</td>\n      <td>Buena Vista</td>\n      <td>Star Wars: The Force Awakens</td>\n      <td>2015</td>\n    </tr>\n    <tr>\n      <th>4</th>\n      <td>$2,048.40</td>\n      <td>5</td>\n      <td>Buena Vista</td>\n      <td>Avengers: Infinity War</td>\n      <td>2018</td>\n    </tr>\n    <tr>\n      <th>...</th>\n      <td>...</td>\n      <td>...</td>\n      <td>...</td>\n      <td>...</td>\n      <td>...</td>\n    </tr>\n    <tr>\n      <th>777</th>\n      <td>$201.60</td>\n      <td>778</td>\n      <td>Warner Brothers</td>\n      <td>Yogi Bear</td>\n      <td>2010</td>\n    </tr>\n    <tr>\n      <th>778</th>\n      <td>$200.80</td>\n      <td>779</td>\n      <td>Fox</td>\n      <td>Garfield: The Movie</td>\n      <td>2004</td>\n    </tr>\n    <tr>\n      <th>779</th>\n      <td>$200.70</td>\n      <td>780</td>\n      <td>Warner Brothers</td>\n      <td>Cats &amp; Dogs</td>\n      <td>2001</td>\n    </tr>\n    <tr>\n      <th>780</th>\n      <td>$200.50</td>\n      <td>781</td>\n      <td>Paramount</td>\n      <td>The Hunt for Red October</td>\n      <td>1990</td>\n    </tr>\n    <tr>\n      <th>781</th>\n      <td>$200.30</td>\n      <td>782</td>\n      <td>MGM</td>\n      <td>Valkyrie</td>\n      <td>2008</td>\n    </tr>\n  </tbody>\n</table>\n<p>782 rows × 5 columns</p>\n</div>"
     },
     "execution_count": 41,
     "metadata": {},
     "output_type": "execute_result"
    }
   ],
   "source": [
    "# 컬럼 인덱스 기반 정렬 => 내림차순\n",
    "\n",
    "movieDF.sort_index(axis='columns')"
   ],
   "metadata": {
    "collapsed": false,
    "ExecuteTime": {
     "end_time": "2024-01-12T05:57:29.091564700Z",
     "start_time": "2024-01-12T05:57:29.062507800Z"
    }
   },
   "id": "5933cc8682d8dcbe",
   "execution_count": 41
  },
  {
   "cell_type": "code",
   "outputs": [
    {
     "data": {
      "text/plain": "     Rank                      Title                  Studio     Gross  Year\n571   572                         Us               Universal  $254.70   2019\n197   198                Toy Story 4             Buena Vista  $519.80   2019\n113   114        The Wandering Earth  China Film Corporation  $699.80   2019\n669   670  The Secret Life of Pets 2               Universal  $225.90   2019\n339   340                    Shazam!         Warner Brothers  $364.10   2019\n..    ...                        ...                     ...       ...   ...\n603   604              The Godfather               Paramount  $245.10   1972\n754   755            The Jungle Book             Buena Vista  $205.80   1967\n707   708             101 Dalmatians             Buena Vista  $215.90   1961\n539   540                      Bambi                     RKO  $267.40   1942\n287   288         Gone with the Wind                     MGM  $402.40   1939\n\n[782 rows x 5 columns]",
      "text/html": "<div>\n<style scoped>\n    .dataframe tbody tr th:only-of-type {\n        vertical-align: middle;\n    }\n\n    .dataframe tbody tr th {\n        vertical-align: top;\n    }\n\n    .dataframe thead th {\n        text-align: right;\n    }\n</style>\n<table border=\"1\" class=\"dataframe\">\n  <thead>\n    <tr style=\"text-align: right;\">\n      <th></th>\n      <th>Rank</th>\n      <th>Title</th>\n      <th>Studio</th>\n      <th>Gross</th>\n      <th>Year</th>\n    </tr>\n  </thead>\n  <tbody>\n    <tr>\n      <th>571</th>\n      <td>572</td>\n      <td>Us</td>\n      <td>Universal</td>\n      <td>$254.70</td>\n      <td>2019</td>\n    </tr>\n    <tr>\n      <th>197</th>\n      <td>198</td>\n      <td>Toy Story 4</td>\n      <td>Buena Vista</td>\n      <td>$519.80</td>\n      <td>2019</td>\n    </tr>\n    <tr>\n      <th>113</th>\n      <td>114</td>\n      <td>The Wandering Earth</td>\n      <td>China Film Corporation</td>\n      <td>$699.80</td>\n      <td>2019</td>\n    </tr>\n    <tr>\n      <th>669</th>\n      <td>670</td>\n      <td>The Secret Life of Pets 2</td>\n      <td>Universal</td>\n      <td>$225.90</td>\n      <td>2019</td>\n    </tr>\n    <tr>\n      <th>339</th>\n      <td>340</td>\n      <td>Shazam!</td>\n      <td>Warner Brothers</td>\n      <td>$364.10</td>\n      <td>2019</td>\n    </tr>\n    <tr>\n      <th>...</th>\n      <td>...</td>\n      <td>...</td>\n      <td>...</td>\n      <td>...</td>\n      <td>...</td>\n    </tr>\n    <tr>\n      <th>603</th>\n      <td>604</td>\n      <td>The Godfather</td>\n      <td>Paramount</td>\n      <td>$245.10</td>\n      <td>1972</td>\n    </tr>\n    <tr>\n      <th>754</th>\n      <td>755</td>\n      <td>The Jungle Book</td>\n      <td>Buena Vista</td>\n      <td>$205.80</td>\n      <td>1967</td>\n    </tr>\n    <tr>\n      <th>707</th>\n      <td>708</td>\n      <td>101 Dalmatians</td>\n      <td>Buena Vista</td>\n      <td>$215.90</td>\n      <td>1961</td>\n    </tr>\n    <tr>\n      <th>539</th>\n      <td>540</td>\n      <td>Bambi</td>\n      <td>RKO</td>\n      <td>$267.40</td>\n      <td>1942</td>\n    </tr>\n    <tr>\n      <th>287</th>\n      <td>288</td>\n      <td>Gone with the Wind</td>\n      <td>MGM</td>\n      <td>$402.40</td>\n      <td>1939</td>\n    </tr>\n  </tbody>\n</table>\n<p>782 rows × 5 columns</p>\n</div>"
     },
     "execution_count": 49,
     "metadata": {},
     "output_type": "execute_result"
    }
   ],
   "source": [
    "movieDF.sort_values(by=['Year','Title'], axis='index', ascending=False)"
   ],
   "metadata": {
    "collapsed": false,
    "ExecuteTime": {
     "end_time": "2024-01-12T06:04:04.335651300Z",
     "start_time": "2024-01-12T06:04:04.305107900Z"
    }
   },
   "id": "3f7eb6c5739e81cf",
   "execution_count": 49
  },
  {
   "cell_type": "markdown",
   "source": [
    "- [실습] 다양한 정렬"
   ],
   "metadata": {
    "collapsed": false
   },
   "id": "8cb859e0705cd5ae"
  },
  {
   "cell_type": "code",
   "outputs": [],
   "source": [
    "# import numpy as np\n",
    "from math import nan\n",
    "\n",
    "data = {\n",
    "    'col1' : ['A', 'A', 'B', nan, 'D', 'C'],\n",
    "    'col2' : [2,1,9,8,7,4],\n",
    "    'col3' : [0,1,9,4,2,3],\n",
    "    'col4' : ['a','B','c','D','e','F'],\n",
    "}"
   ],
   "metadata": {
    "collapsed": false,
    "ExecuteTime": {
     "end_time": "2024-01-12T06:18:42.328662400Z",
     "start_time": "2024-01-12T06:18:42.314218800Z"
    }
   },
   "id": "ea0d1400b54b4c21",
   "execution_count": 51
  },
  {
   "cell_type": "code",
   "outputs": [
    {
     "data": {
      "text/plain": "  col1  col2  col3 col4\n0    A     2     0    a\n1    A     1     1    B\n2    B     9     9    c\n3  NaN     8     4    D\n4    D     7     2    e\n5    C     4     3    F",
      "text/html": "<div>\n<style scoped>\n    .dataframe tbody tr th:only-of-type {\n        vertical-align: middle;\n    }\n\n    .dataframe tbody tr th {\n        vertical-align: top;\n    }\n\n    .dataframe thead th {\n        text-align: right;\n    }\n</style>\n<table border=\"1\" class=\"dataframe\">\n  <thead>\n    <tr style=\"text-align: right;\">\n      <th></th>\n      <th>col1</th>\n      <th>col2</th>\n      <th>col3</th>\n      <th>col4</th>\n    </tr>\n  </thead>\n  <tbody>\n    <tr>\n      <th>0</th>\n      <td>A</td>\n      <td>2</td>\n      <td>0</td>\n      <td>a</td>\n    </tr>\n    <tr>\n      <th>1</th>\n      <td>A</td>\n      <td>1</td>\n      <td>1</td>\n      <td>B</td>\n    </tr>\n    <tr>\n      <th>2</th>\n      <td>B</td>\n      <td>9</td>\n      <td>9</td>\n      <td>c</td>\n    </tr>\n    <tr>\n      <th>3</th>\n      <td>NaN</td>\n      <td>8</td>\n      <td>4</td>\n      <td>D</td>\n    </tr>\n    <tr>\n      <th>4</th>\n      <td>D</td>\n      <td>7</td>\n      <td>2</td>\n      <td>e</td>\n    </tr>\n    <tr>\n      <th>5</th>\n      <td>C</td>\n      <td>4</td>\n      <td>3</td>\n      <td>F</td>\n    </tr>\n  </tbody>\n</table>\n</div>"
     },
     "execution_count": 52,
     "metadata": {},
     "output_type": "execute_result"
    }
   ],
   "source": [
    "dataDF = pd.DataFrame(data)\n",
    "dataDF"
   ],
   "metadata": {
    "collapsed": false,
    "ExecuteTime": {
     "end_time": "2024-01-12T06:18:55.766079700Z",
     "start_time": "2024-01-12T06:18:55.753727900Z"
    }
   },
   "id": "a1afa7a24413424b",
   "execution_count": 52
  },
  {
   "cell_type": "code",
   "outputs": [
    {
     "data": {
      "text/plain": "  col1  col2  col3 col4\n0    A     2     0    a\n1    A     1     1    B\n2    B     9     9    c\n5    C     4     3    F\n4    D     7     2    e\n3  NaN     8     4    D",
      "text/html": "<div>\n<style scoped>\n    .dataframe tbody tr th:only-of-type {\n        vertical-align: middle;\n    }\n\n    .dataframe tbody tr th {\n        vertical-align: top;\n    }\n\n    .dataframe thead th {\n        text-align: right;\n    }\n</style>\n<table border=\"1\" class=\"dataframe\">\n  <thead>\n    <tr style=\"text-align: right;\">\n      <th></th>\n      <th>col1</th>\n      <th>col2</th>\n      <th>col3</th>\n      <th>col4</th>\n    </tr>\n  </thead>\n  <tbody>\n    <tr>\n      <th>0</th>\n      <td>A</td>\n      <td>2</td>\n      <td>0</td>\n      <td>a</td>\n    </tr>\n    <tr>\n      <th>1</th>\n      <td>A</td>\n      <td>1</td>\n      <td>1</td>\n      <td>B</td>\n    </tr>\n    <tr>\n      <th>2</th>\n      <td>B</td>\n      <td>9</td>\n      <td>9</td>\n      <td>c</td>\n    </tr>\n    <tr>\n      <th>5</th>\n      <td>C</td>\n      <td>4</td>\n      <td>3</td>\n      <td>F</td>\n    </tr>\n    <tr>\n      <th>4</th>\n      <td>D</td>\n      <td>7</td>\n      <td>2</td>\n      <td>e</td>\n    </tr>\n    <tr>\n      <th>3</th>\n      <td>NaN</td>\n      <td>8</td>\n      <td>4</td>\n      <td>D</td>\n    </tr>\n  </tbody>\n</table>\n</div>"
     },
     "execution_count": 58,
     "metadata": {},
     "output_type": "execute_result"
    }
   ],
   "source": [
    "# NaN 즉, 빈칸 데이터 (결측치) 값의 위치: (기) 파일 마지막\n",
    "dataDF.sort_values(by=['col1'], ascending=True)"
   ],
   "metadata": {
    "collapsed": false,
    "ExecuteTime": {
     "end_time": "2024-01-12T06:22:10.964628600Z",
     "start_time": "2024-01-12T06:22:10.941933800Z"
    }
   },
   "id": "47668e0775448fe7",
   "execution_count": 58
  },
  {
   "cell_type": "code",
   "outputs": [
    {
     "data": {
      "text/plain": "  col1  col2  col3 col4\n3  NaN     8     4    D\n0    A     2     0    a\n1    A     1     1    B\n2    B     9     9    c\n5    C     4     3    F\n4    D     7     2    e",
      "text/html": "<div>\n<style scoped>\n    .dataframe tbody tr th:only-of-type {\n        vertical-align: middle;\n    }\n\n    .dataframe tbody tr th {\n        vertical-align: top;\n    }\n\n    .dataframe thead th {\n        text-align: right;\n    }\n</style>\n<table border=\"1\" class=\"dataframe\">\n  <thead>\n    <tr style=\"text-align: right;\">\n      <th></th>\n      <th>col1</th>\n      <th>col2</th>\n      <th>col3</th>\n      <th>col4</th>\n    </tr>\n  </thead>\n  <tbody>\n    <tr>\n      <th>3</th>\n      <td>NaN</td>\n      <td>8</td>\n      <td>4</td>\n      <td>D</td>\n    </tr>\n    <tr>\n      <th>0</th>\n      <td>A</td>\n      <td>2</td>\n      <td>0</td>\n      <td>a</td>\n    </tr>\n    <tr>\n      <th>1</th>\n      <td>A</td>\n      <td>1</td>\n      <td>1</td>\n      <td>B</td>\n    </tr>\n    <tr>\n      <th>2</th>\n      <td>B</td>\n      <td>9</td>\n      <td>9</td>\n      <td>c</td>\n    </tr>\n    <tr>\n      <th>5</th>\n      <td>C</td>\n      <td>4</td>\n      <td>3</td>\n      <td>F</td>\n    </tr>\n    <tr>\n      <th>4</th>\n      <td>D</td>\n      <td>7</td>\n      <td>2</td>\n      <td>e</td>\n    </tr>\n  </tbody>\n</table>\n</div>"
     },
     "execution_count": 60,
     "metadata": {},
     "output_type": "execute_result"
    }
   ],
   "source": [
    "# NaN 즉, 빈칸 데이터 (결측치) 값의 위치 설정 => na_position 파라미터\n",
    "dataDF.sort_values(by=['col1'], ascending=True, na_position='first')"
   ],
   "metadata": {
    "collapsed": false,
    "ExecuteTime": {
     "end_time": "2024-01-12T06:27:37.021508300Z",
     "start_time": "2024-01-12T06:27:37.007981200Z"
    }
   },
   "id": "53273c30520a07a1",
   "execution_count": 60
  },
  {
   "cell_type": "code",
   "outputs": [
    {
     "data": {
      "text/plain": "  col1  col2  col3 col4\n0    A     2     0    a\n1    A     1     1    B\n2    B     9     9    c\n3  NaN     8     4    D\n4    D     7     2    e\n5    C     4     3    F",
      "text/html": "<div>\n<style scoped>\n    .dataframe tbody tr th:only-of-type {\n        vertical-align: middle;\n    }\n\n    .dataframe tbody tr th {\n        vertical-align: top;\n    }\n\n    .dataframe thead th {\n        text-align: right;\n    }\n</style>\n<table border=\"1\" class=\"dataframe\">\n  <thead>\n    <tr style=\"text-align: right;\">\n      <th></th>\n      <th>col1</th>\n      <th>col2</th>\n      <th>col3</th>\n      <th>col4</th>\n    </tr>\n  </thead>\n  <tbody>\n    <tr>\n      <th>0</th>\n      <td>A</td>\n      <td>2</td>\n      <td>0</td>\n      <td>a</td>\n    </tr>\n    <tr>\n      <th>1</th>\n      <td>A</td>\n      <td>1</td>\n      <td>1</td>\n      <td>B</td>\n    </tr>\n    <tr>\n      <th>2</th>\n      <td>B</td>\n      <td>9</td>\n      <td>9</td>\n      <td>c</td>\n    </tr>\n    <tr>\n      <th>3</th>\n      <td>NaN</td>\n      <td>8</td>\n      <td>4</td>\n      <td>D</td>\n    </tr>\n    <tr>\n      <th>4</th>\n      <td>D</td>\n      <td>7</td>\n      <td>2</td>\n      <td>e</td>\n    </tr>\n    <tr>\n      <th>5</th>\n      <td>C</td>\n      <td>4</td>\n      <td>3</td>\n      <td>F</td>\n    </tr>\n  </tbody>\n</table>\n</div>"
     },
     "execution_count": 64,
     "metadata": {},
     "output_type": "execute_result"
    }
   ],
   "source": [
    "# col4 컬럼을 기준으로 오름차순 정렬 \n",
    "dataDF.sort_values(by=['col4'], ascending=True, key = lambda x : x.str.upper())"
   ],
   "metadata": {
    "collapsed": false,
    "ExecuteTime": {
     "end_time": "2024-01-12T06:29:00.075270900Z",
     "start_time": "2024-01-12T06:29:00.064936400Z"
    }
   },
   "id": "bee7c03b23e6ecbb",
   "execution_count": 64
  },
  {
   "cell_type": "code",
   "outputs": [],
   "source": [],
   "metadata": {
    "collapsed": false
   },
   "id": "30fda506c986653a"
  }
 ],
 "metadata": {
  "kernelspec": {
   "display_name": "Python 3",
   "language": "python",
   "name": "python3"
  },
  "language_info": {
   "codemirror_mode": {
    "name": "ipython",
    "version": 2
   },
   "file_extension": ".py",
   "mimetype": "text/x-python",
   "name": "python",
   "nbconvert_exporter": "python",
   "pygments_lexer": "ipython2",
   "version": "2.7.6"
  }
 },
 "nbformat": 4,
 "nbformat_minor": 5
}
