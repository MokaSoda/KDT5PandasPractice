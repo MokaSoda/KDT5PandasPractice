{
 "cells": [
  {
   "cell_type": "markdown",
   "source": [
    "## [결측치 missing Value 정리]\n",
    "- 데이터 미입력 또는 데이터 저장 과정에서 지워진 데이터\n",
    "- 빈칸 의미\n",
    "- 표시 : NaN (Not A Number, NaT(Not a Text))\n",
    "- 표현 : numpy 모듈의 nan, math 모듈의 nan을 사용\n",
    "- "
   ],
   "metadata": {
    "collapsed": false
   },
   "id": "38ebe3e82e8c7c77"
  },
  {
   "cell_type": "markdown",
   "source": [
    "(1) 모듈 로딩 <hr>\n"
   ],
   "metadata": {
    "collapsed": false
   },
   "id": "8808b8ee5350ac15"
  },
  {
   "cell_type": "code",
   "outputs": [],
   "source": [
    "import pandas as pd"
   ],
   "metadata": {
    "collapsed": false,
    "ExecuteTime": {
     "end_time": "2024-01-16T00:11:10.650379800Z",
     "start_time": "2024-01-16T00:11:10.071108400Z"
    }
   },
   "id": "1daf18cb14509955",
   "execution_count": 1
  },
  {
   "cell_type": "markdown",
   "source": [
    "(2)데이터 준비<hr>"
   ],
   "metadata": {
    "collapsed": false
   },
   "id": "be95d79118a0bd7e"
  },
  {
   "cell_type": "code",
   "outputs": [],
   "source": [
    "file = \"../DATA/employees.csv\"\n"
   ],
   "metadata": {
    "collapsed": false,
    "ExecuteTime": {
     "end_time": "2024-01-16T00:11:38.556441300Z",
     "start_time": "2024-01-16T00:11:38.543440400Z"
    }
   },
   "id": "ec76ab7da5907f43",
   "execution_count": 2
  },
  {
   "cell_type": "markdown",
   "source": [
    "(3)데이터 저장 및 로드 csv >> dataframe<hr>"
   ],
   "metadata": {
    "collapsed": false
   },
   "id": "c40d8c3483cc2d63"
  },
  {
   "cell_type": "code",
   "outputs": [],
   "source": [
    "# 구분자 : ,   헤더: 첫번째줄 컬럼명\n",
    "empdf = pd.read_csv(file, header=0)"
   ],
   "metadata": {
    "collapsed": false,
    "ExecuteTime": {
     "end_time": "2024-01-16T00:16:25.970825900Z",
     "start_time": "2024-01-16T00:16:25.955824600Z"
    }
   },
   "id": "58ae71f894c50daa",
   "execution_count": 11
  },
  {
   "cell_type": "code",
   "outputs": [
    {
     "name": "stdout",
     "output_type": "stream",
     "text": [
      "<class 'pandas.core.frame.DataFrame'>\n",
      "RangeIndex: 1001 entries, 0 to 1000\n",
      "Data columns (total 6 columns):\n",
      " #   Column      Non-Null Count  Dtype         \n",
      "---  ------      --------------  -----         \n",
      " 0   First Name  933 non-null    object        \n",
      " 1   Gender      854 non-null    object        \n",
      " 2   Start Date  999 non-null    datetime64[ns]\n",
      " 3   Salary      999 non-null    float64       \n",
      " 4   Mgmt        933 non-null    object        \n",
      " 5   Team        957 non-null    object        \n",
      "dtypes: datetime64[ns](1), float64(1), object(4)\n",
      "memory usage: 47.0+ KB\n"
     ]
    }
   ],
   "source": [
    "# 데이터의 전반적인 요역정보 확인 => info() 메서드\n",
    "# -컬럼별 결측치 여부 확인\n",
    "# 컬럼별 dtype 확인\n",
    "empdf.info()\n",
    "empdf['Start Date'] = empdf['Start Date'].astype('datetime64[ns]')"
   ],
   "metadata": {
    "collapsed": false,
    "ExecuteTime": {
     "end_time": "2024-01-16T00:22:38.031375600Z",
     "start_time": "2024-01-16T00:22:37.986257900Z"
    }
   },
   "id": "4a513dd35174efc1",
   "execution_count": 26
  },
  {
   "cell_type": "code",
   "outputs": [
    {
     "data": {
      "text/plain": "                          Start Date         Salary\ncount                            999     999.000000\nmean   1998-12-14 23:19:38.378378496   90655.528529\nmin              1980-01-19 00:00:00   35013.000000\n25%              1990-07-21 00:00:00   62560.000000\n50%              1999-07-22 00:00:00   90427.000000\n75%              2007-10-01 00:00:00  118744.500000\nmax              2016-07-15 00:00:00  149908.000000\nstd                              NaN   32939.511615",
      "text/html": "<div>\n<style scoped>\n    .dataframe tbody tr th:only-of-type {\n        vertical-align: middle;\n    }\n\n    .dataframe tbody tr th {\n        vertical-align: top;\n    }\n\n    .dataframe thead th {\n        text-align: right;\n    }\n</style>\n<table border=\"1\" class=\"dataframe\">\n  <thead>\n    <tr style=\"text-align: right;\">\n      <th></th>\n      <th>Start Date</th>\n      <th>Salary</th>\n    </tr>\n  </thead>\n  <tbody>\n    <tr>\n      <th>count</th>\n      <td>999</td>\n      <td>999.000000</td>\n    </tr>\n    <tr>\n      <th>mean</th>\n      <td>1998-12-14 23:19:38.378378496</td>\n      <td>90655.528529</td>\n    </tr>\n    <tr>\n      <th>min</th>\n      <td>1980-01-19 00:00:00</td>\n      <td>35013.000000</td>\n    </tr>\n    <tr>\n      <th>25%</th>\n      <td>1990-07-21 00:00:00</td>\n      <td>62560.000000</td>\n    </tr>\n    <tr>\n      <th>50%</th>\n      <td>1999-07-22 00:00:00</td>\n      <td>90427.000000</td>\n    </tr>\n    <tr>\n      <th>75%</th>\n      <td>2007-10-01 00:00:00</td>\n      <td>118744.500000</td>\n    </tr>\n    <tr>\n      <th>max</th>\n      <td>2016-07-15 00:00:00</td>\n      <td>149908.000000</td>\n    </tr>\n    <tr>\n      <th>std</th>\n      <td>NaN</td>\n      <td>32939.511615</td>\n    </tr>\n  </tbody>\n</table>\n</div>"
     },
     "execution_count": 27,
     "metadata": {},
     "output_type": "execute_result"
    }
   ],
   "source": [
    "empdf.describe()"
   ],
   "metadata": {
    "collapsed": false,
    "ExecuteTime": {
     "end_time": "2024-01-16T00:22:39.599542800Z",
     "start_time": "2024-01-16T00:22:39.564542Z"
    }
   },
   "id": "48437d2e2219e1d5",
   "execution_count": 27
  },
  {
   "cell_type": "code",
   "outputs": [
    {
     "name": "stdout",
     "output_type": "stream",
     "text": [
      "     Salary\n",
      "0   86676.0\n",
      "1   91462.0\n",
      "2  121160.0\n",
      "3  145988.0\n",
      "4  147183.0\n",
      "\n",
      "Salary    90427.0\n",
      "dtype: float64\n",
      "\n",
      "Salary    90655.528529\n",
      "dtype: float64\n"
     ]
    }
   ],
   "source": [
    "# 최빈값 => mode(), 중앙값 => median()\n",
    "print(empdf.mode(numeric_only=True), empdf.median(numeric_only=True), empdf.mean(numeric_only=True),sep='\\n\\n')"
   ],
   "metadata": {
    "collapsed": false,
    "ExecuteTime": {
     "end_time": "2024-01-16T01:06:58.036469700Z",
     "start_time": "2024-01-16T01:06:57.992288600Z"
    }
   },
   "id": "a9851b9d003740a3",
   "execution_count": 29
  },
  {
   "cell_type": "markdown",
   "source": [
    "(4)데이터 전처리 중 결측치 처리 <hr>"
   ],
   "metadata": {
    "collapsed": false
   },
   "id": "f70e7031ce8a0e26"
  },
  {
   "cell_type": "markdown",
   "source": [
    "- 결측치 확인 ==> isna(), isnull() : 원소 단위로 검사 후 결측치 인 경우 True 반환"
   ],
   "metadata": {
    "collapsed": false
   },
   "id": "ce90ed93553aa27a"
  },
  {
   "cell_type": "code",
   "outputs": [
    {
     "data": {
      "text/plain": "Index(['First Name', 'Gender', 'Start Date', 'Salary', 'Mgmt', 'Team'], dtype='object')"
     },
     "execution_count": 30,
     "metadata": {},
     "output_type": "execute_result"
    }
   ],
   "source": [
    "empdf.columns\n"
   ],
   "metadata": {
    "collapsed": false,
    "ExecuteTime": {
     "end_time": "2024-01-16T01:08:07.956216800Z",
     "start_time": "2024-01-16T01:08:07.929752300Z"
    }
   },
   "id": "e3e5bb3115dc3410",
   "execution_count": 30
  },
  {
   "cell_type": "markdown",
   "source": [
    "전체 데이터의 컬럼별 결측치 확인"
   ],
   "metadata": {
    "collapsed": false
   },
   "id": "92ddcc79f8154b5e"
  },
  {
   "cell_type": "code",
   "outputs": [
    {
     "data": {
      "text/plain": "   First Name  Gender  Start Date  Salary   Mgmt   Team\n0       False   False       False    True  False  False\n1       False   False       False   False  False   True\n2       False   False        True   False  False  False\n3       False    True       False   False  False  False\n4       False   False       False   False  False  False",
      "text/html": "<div>\n<style scoped>\n    .dataframe tbody tr th:only-of-type {\n        vertical-align: middle;\n    }\n\n    .dataframe tbody tr th {\n        vertical-align: top;\n    }\n\n    .dataframe thead th {\n        text-align: right;\n    }\n</style>\n<table border=\"1\" class=\"dataframe\">\n  <thead>\n    <tr style=\"text-align: right;\">\n      <th></th>\n      <th>First Name</th>\n      <th>Gender</th>\n      <th>Start Date</th>\n      <th>Salary</th>\n      <th>Mgmt</th>\n      <th>Team</th>\n    </tr>\n  </thead>\n  <tbody>\n    <tr>\n      <th>0</th>\n      <td>False</td>\n      <td>False</td>\n      <td>False</td>\n      <td>True</td>\n      <td>False</td>\n      <td>False</td>\n    </tr>\n    <tr>\n      <th>1</th>\n      <td>False</td>\n      <td>False</td>\n      <td>False</td>\n      <td>False</td>\n      <td>False</td>\n      <td>True</td>\n    </tr>\n    <tr>\n      <th>2</th>\n      <td>False</td>\n      <td>False</td>\n      <td>True</td>\n      <td>False</td>\n      <td>False</td>\n      <td>False</td>\n    </tr>\n    <tr>\n      <th>3</th>\n      <td>False</td>\n      <td>True</td>\n      <td>False</td>\n      <td>False</td>\n      <td>False</td>\n      <td>False</td>\n    </tr>\n    <tr>\n      <th>4</th>\n      <td>False</td>\n      <td>False</td>\n      <td>False</td>\n      <td>False</td>\n      <td>False</td>\n      <td>False</td>\n    </tr>\n  </tbody>\n</table>\n</div>"
     },
     "execution_count": 34,
     "metadata": {},
     "output_type": "execute_result"
    }
   ],
   "source": [
    "empdf.isna().head()"
   ],
   "metadata": {
    "collapsed": false,
    "ExecuteTime": {
     "end_time": "2024-01-16T01:09:06.207205100Z",
     "start_time": "2024-01-16T01:09:06.199205Z"
    }
   },
   "id": "a5e1d71736fb39ec",
   "execution_count": 34
  },
  {
   "cell_type": "code",
   "outputs": [
    {
     "data": {
      "text/plain": "   First Name  Gender  Start Date  Salary   Mgmt   Team\n0       False   False       False    True  False  False\n1       False   False       False   False  False   True\n2       False   False        True   False  False  False\n3       False    True       False   False  False  False\n4       False   False       False   False  False  False",
      "text/html": "<div>\n<style scoped>\n    .dataframe tbody tr th:only-of-type {\n        vertical-align: middle;\n    }\n\n    .dataframe tbody tr th {\n        vertical-align: top;\n    }\n\n    .dataframe thead th {\n        text-align: right;\n    }\n</style>\n<table border=\"1\" class=\"dataframe\">\n  <thead>\n    <tr style=\"text-align: right;\">\n      <th></th>\n      <th>First Name</th>\n      <th>Gender</th>\n      <th>Start Date</th>\n      <th>Salary</th>\n      <th>Mgmt</th>\n      <th>Team</th>\n    </tr>\n  </thead>\n  <tbody>\n    <tr>\n      <th>0</th>\n      <td>False</td>\n      <td>False</td>\n      <td>False</td>\n      <td>True</td>\n      <td>False</td>\n      <td>False</td>\n    </tr>\n    <tr>\n      <th>1</th>\n      <td>False</td>\n      <td>False</td>\n      <td>False</td>\n      <td>False</td>\n      <td>False</td>\n      <td>True</td>\n    </tr>\n    <tr>\n      <th>2</th>\n      <td>False</td>\n      <td>False</td>\n      <td>True</td>\n      <td>False</td>\n      <td>False</td>\n      <td>False</td>\n    </tr>\n    <tr>\n      <th>3</th>\n      <td>False</td>\n      <td>True</td>\n      <td>False</td>\n      <td>False</td>\n      <td>False</td>\n      <td>False</td>\n    </tr>\n    <tr>\n      <th>4</th>\n      <td>False</td>\n      <td>False</td>\n      <td>False</td>\n      <td>False</td>\n      <td>False</td>\n      <td>False</td>\n    </tr>\n  </tbody>\n</table>\n</div>"
     },
     "execution_count": 36,
     "metadata": {},
     "output_type": "execute_result"
    }
   ],
   "source": [
    "empdf.isnull().head()"
   ],
   "metadata": {
    "collapsed": false,
    "ExecuteTime": {
     "end_time": "2024-01-16T01:09:16.110661700Z",
     "start_time": "2024-01-16T01:09:16.085875400Z"
    }
   },
   "id": "f655e134853e7da",
   "execution_count": 36
  },
  {
   "cell_type": "code",
   "outputs": [
    {
     "data": {
      "text/plain": "First Name     68\nGender        147\nStart Date      2\nSalary          2\nMgmt           68\nTeam           44\ndtype: int64"
     },
     "execution_count": 39,
     "metadata": {},
     "output_type": "execute_result"
    }
   ],
   "source": [
    "# 전체 데이터의 컬럼별 결측치 체크 후 갯수 파악 => 합계\n",
    "empdf.isnull().sum()"
   ],
   "metadata": {
    "collapsed": false,
    "ExecuteTime": {
     "end_time": "2024-01-16T01:10:13.665464500Z",
     "start_time": "2024-01-16T01:10:13.642463200Z"
    }
   },
   "id": "f1edb0ca8d47057c",
   "execution_count": 39
  },
  {
   "cell_type": "markdown",
   "source": [
    "- 결측치 확인 ==> notna() : 원소 단위로 검사 후 결측치가 아닌 경우 True 반환\n",
    "- notnull() : 결측치 제외한 데이터 전체 개수 반환"
   ],
   "metadata": {
    "collapsed": false
   },
   "id": "624b775fccb6277d"
  },
  {
   "cell_type": "code",
   "outputs": [
    {
     "name": "stdout",
     "output_type": "stream",
     "text": [
      "   First Name  Gender  Start Date  Salary  Mgmt   Team\n",
      "0        True    True        True   False  True   True\n",
      "1        True    True        True    True  True  False\n",
      "2        True    True       False    True  True   True\n",
      "3        True   False        True    True  True   True\n",
      "4        True    True        True    True  True   True\n",
      "\n",
      "\n",
      "   First Name  Gender  Start Date  Salary  Mgmt   Team\n",
      "0        True    True        True   False  True   True\n",
      "1        True    True        True    True  True  False\n",
      "2        True    True       False    True  True   True\n",
      "3        True   False        True    True  True   True\n",
      "4        True    True        True    True  True   True\n",
      "\n",
      "\n",
      "First Name    933\n",
      "Gender        854\n",
      "Start Date    999\n",
      "Salary        999\n",
      "Mgmt          933\n",
      "Team          957\n",
      "dtype: int64\n",
      "\n",
      "\n",
      "First Name    1001\n",
      "Gender        1001\n",
      "Start Date    1001\n",
      "Salary        1001\n",
      "Mgmt          1001\n",
      "Team          1001\n",
      "dtype: int64\n"
     ]
    }
   ],
   "source": [
    "print(empdf.notna().head(), empdf.notnull().head(), empdf.notna().sum(), empdf.notnull().count(), sep=\"\\n\\n\\n\")"
   ],
   "metadata": {
    "collapsed": false,
    "ExecuteTime": {
     "end_time": "2024-01-16T01:11:51.689567400Z",
     "start_time": "2024-01-16T01:11:51.665829700Z"
    }
   },
   "id": "9f988fbecdd73acc",
   "execution_count": 40
  },
  {
   "cell_type": "markdown",
   "source": [
    "- 결측치 처리 ==> (1) 삭제 : dropna()"
   ],
   "metadata": {
    "collapsed": false
   },
   "id": "24894360da04d2d7"
  },
  {
   "cell_type": "code",
   "outputs": [
    {
     "data": {
      "text/plain": "((1001, 6), (761, 6))"
     },
     "execution_count": 43,
     "metadata": {},
     "output_type": "execute_result"
    }
   ],
   "source": [
    "# 모든 행의 1개의 값이 nan이면 행 단위로 즉시 삭제\n",
    "# 결측치 제거 : dropna() : 결측치 제거 후 데이터 개수 반환\n",
    "# axis, replace 옵션이 달려 있음\n",
    "empdf.shape, empdf.dropna().shape"
   ],
   "metadata": {
    "collapsed": false,
    "ExecuteTime": {
     "end_time": "2024-01-16T01:16:34.980264400Z",
     "start_time": "2024-01-16T01:16:34.927209900Z"
    }
   },
   "id": "806da87a9936c808",
   "execution_count": 43
  },
  {
   "cell_type": "code",
   "outputs": [
    {
     "data": {
      "text/plain": "((1000, 6), (1001, 6))"
     },
     "execution_count": 48,
     "metadata": {},
     "output_type": "execute_result"
    }
   ],
   "source": [
    "## [설정] 모든 행이 NaN 이면 삭제\n",
    "empdf2 = empdf.dropna(how='all')\n",
    "empdf2.shape, empdf.shape"
   ],
   "metadata": {
    "collapsed": false,
    "ExecuteTime": {
     "end_time": "2024-01-16T01:22:06.169495Z",
     "start_time": "2024-01-16T01:22:06.145929700Z"
    }
   },
   "id": "39019c8beb282330",
   "execution_count": 48
  },
  {
   "cell_type": "code",
   "outputs": [
    {
     "data": {
      "text/plain": "((853, 6), (1001, 6))"
     },
     "execution_count": 52,
     "metadata": {},
     "output_type": "execute_result"
    }
   ],
   "source": [
    "# [설정] 특정 행이 NaN 이면 삭제\n",
    "# 성별에 따른 연봉 분석 ==> NaN 이면 분석이 불가능 컬럼을 지정\n",
    "empdf3 = empdf.dropna(subset=['Gender', 'Salary'])\n",
    "empdf3.shape, empdf.shape"
   ],
   "metadata": {
    "collapsed": false,
    "ExecuteTime": {
     "end_time": "2024-01-16T01:23:50.930806800Z",
     "start_time": "2024-01-16T01:23:50.903804Z"
    }
   },
   "id": "d368eeb98466ac50",
   "execution_count": 52
  },
  {
   "cell_type": "code",
   "outputs": [
    {
     "data": {
      "text/plain": "((1001, 5),\n (1001, 6),\n Index(['First Name', 'Start Date', 'Salary', 'Mgmt', 'Team'], dtype='object'))"
     },
     "execution_count": 71,
     "metadata": {},
     "output_type": "execute_result"
    }
   ],
   "source": [
    "# 컬럼별 정상 데이터 즉 NA가 아닌 데이터의 갯수를 지정 후, 해당 수 만큼 정상 데이터가 없는 경우 삭제\n",
    "empdf4 = empdf.dropna(thresh=900, axis='columns')\n",
    "empdf4.shape, empdf.shape, empdf4.columns"
   ],
   "metadata": {
    "collapsed": false,
    "ExecuteTime": {
     "end_time": "2024-01-16T01:31:56.551849600Z",
     "start_time": "2024-01-16T01:31:56.539847900Z"
    }
   },
   "id": "fe24b741bd9853d7",
   "execution_count": 71
  },
  {
   "cell_type": "markdown",
   "source": [
    "- 결측치 처리 ==> (2) 대체 : fillna()"
   ],
   "metadata": {
    "collapsed": false
   },
   "id": "bbe6c66e4f2710ff"
  },
  {
   "cell_type": "code",
   "outputs": [
    {
     "data": {
      "text/plain": "       First Name  Gender Start Date  Salary  Mgmt Team\ncount         933     854        999   999.0   933  957\nunique        200       2        NaN     NaN     2   10\ntop       Marilyn  Female        NaN     NaN  True   IT\nfreq           11     431        NaN     NaN   468  106",
      "text/html": "<div>\n<style scoped>\n    .dataframe tbody tr th:only-of-type {\n        vertical-align: middle;\n    }\n\n    .dataframe tbody tr th {\n        vertical-align: top;\n    }\n\n    .dataframe thead th {\n        text-align: right;\n    }\n</style>\n<table border=\"1\" class=\"dataframe\">\n  <thead>\n    <tr style=\"text-align: right;\">\n      <th></th>\n      <th>First Name</th>\n      <th>Gender</th>\n      <th>Start Date</th>\n      <th>Salary</th>\n      <th>Mgmt</th>\n      <th>Team</th>\n    </tr>\n  </thead>\n  <tbody>\n    <tr>\n      <th>count</th>\n      <td>933</td>\n      <td>854</td>\n      <td>999</td>\n      <td>999.0</td>\n      <td>933</td>\n      <td>957</td>\n    </tr>\n    <tr>\n      <th>unique</th>\n      <td>200</td>\n      <td>2</td>\n      <td>NaN</td>\n      <td>NaN</td>\n      <td>2</td>\n      <td>10</td>\n    </tr>\n    <tr>\n      <th>top</th>\n      <td>Marilyn</td>\n      <td>Female</td>\n      <td>NaN</td>\n      <td>NaN</td>\n      <td>True</td>\n      <td>IT</td>\n    </tr>\n    <tr>\n      <th>freq</th>\n      <td>11</td>\n      <td>431</td>\n      <td>NaN</td>\n      <td>NaN</td>\n      <td>468</td>\n      <td>106</td>\n    </tr>\n  </tbody>\n</table>\n</div>"
     },
     "execution_count": 74,
     "metadata": {},
     "output_type": "execute_result"
    }
   ],
   "source": [
    "# 결측치 대체 : fillna() : 결측치를 대체 값으로 치환\n",
    "# 대체 값 지정 : value 옵션\n",
    "# 대체 값 지정 : method 옵션\n",
    "# 대체 값 지정 : axis 옵션\n",
    "empdf.describe(include='all').head(4)"
   ],
   "metadata": {
    "collapsed": false,
    "ExecuteTime": {
     "end_time": "2024-01-16T01:37:57.137640700Z",
     "start_time": "2024-01-16T01:37:57.109377200Z"
    }
   },
   "id": "aebac8e5331aeff6",
   "execution_count": 74
  },
  {
   "cell_type": "code",
   "outputs": [
    {
     "data": {
      "text/plain": "0"
     },
     "execution_count": 79,
     "metadata": {},
     "output_type": "execute_result"
    }
   ],
   "source": [
    "# 최빈값으로 결측치를 치환\n",
    "\n",
    "genSR = empdf['Gender'].fillna(empdf['Gender'].mode()[0], inplace=False)\n",
    "genSR.isnull().sum()"
   ],
   "metadata": {
    "collapsed": false,
    "ExecuteTime": {
     "end_time": "2024-01-16T01:41:02.408244800Z",
     "start_time": "2024-01-16T01:41:02.379730500Z"
    }
   },
   "id": "11ccf7a2eebb6a38",
   "execution_count": 79
  },
  {
   "cell_type": "code",
   "outputs": [
    {
     "name": "stderr",
     "output_type": "stream",
     "text": [
      "C:\\Users\\Administrator\\AppData\\Local\\Temp\\ipykernel_10720\\4022749433.py:4: FutureWarning: Series.fillna with 'method' is deprecated and will raise in a future version. Use obj.ffill() or obj.bfill() instead.\n",
      "  empdf['Gender'].fillna(method='bfill', inplace=False).shape\n"
     ]
    },
    {
     "data": {
      "text/plain": "(1001,)"
     },
     "execution_count": 85,
     "metadata": {},
     "output_type": "execute_result"
    }
   ],
   "source": [
    "# 결측치를 보간법으로 대체\n",
    "# NA값을 이전과 이후 값으로 채우기 -> method='ffill', method='bfill'\n",
    "\n",
    "empdf['Gender'].fillna(method='ffill', inplace=False)\n"
   ],
   "metadata": {
    "collapsed": false,
    "ExecuteTime": {
     "end_time": "2024-01-16T01:47:10.886910500Z",
     "start_time": "2024-01-16T01:47:10.862911800Z"
    }
   },
   "id": "85784db4b49f47b",
   "execution_count": 85
  },
  {
   "cell_type": "code",
   "outputs": [
    {
     "data": {
      "text/plain": "     A    B    C    D\n0  0.0  2.0  0.0  0.0\n1  3.0  4.0  0.0  1.0\n2  0.0  0.0  0.0  0.0\n3  0.0  3.0  0.0  4.0",
      "text/html": "<div>\n<style scoped>\n    .dataframe tbody tr th:only-of-type {\n        vertical-align: middle;\n    }\n\n    .dataframe tbody tr th {\n        vertical-align: top;\n    }\n\n    .dataframe thead th {\n        text-align: right;\n    }\n</style>\n<table border=\"1\" class=\"dataframe\">\n  <thead>\n    <tr style=\"text-align: right;\">\n      <th></th>\n      <th>A</th>\n      <th>B</th>\n      <th>C</th>\n      <th>D</th>\n    </tr>\n  </thead>\n  <tbody>\n    <tr>\n      <th>0</th>\n      <td>0.0</td>\n      <td>2.0</td>\n      <td>0.0</td>\n      <td>0.0</td>\n    </tr>\n    <tr>\n      <th>1</th>\n      <td>3.0</td>\n      <td>4.0</td>\n      <td>0.0</td>\n      <td>1.0</td>\n    </tr>\n    <tr>\n      <th>2</th>\n      <td>0.0</td>\n      <td>0.0</td>\n      <td>0.0</td>\n      <td>0.0</td>\n    </tr>\n    <tr>\n      <th>3</th>\n      <td>0.0</td>\n      <td>3.0</td>\n      <td>0.0</td>\n      <td>4.0</td>\n    </tr>\n  </tbody>\n</table>\n</div>"
     },
     "execution_count": 92,
     "metadata": {},
     "output_type": "execute_result"
    }
   ],
   "source": [
    "import numpy as np\n",
    "df = pd.DataFrame([[np.nan, 2, np.nan, 0],\n",
    "                  [3, 4, np.nan, 1],\n",
    "                  [np.nan, np.nan, np.nan, np.nan],\n",
    "                  [np.nan, 3, np.nan, 4]],\n",
    "                 columns=list(\"ABCD\"))\n",
    "\n",
    "df2 = pd.DataFrame(np.zeros((4, 4)), columns=list(\"ABCD\"))\n",
    "df.fillna(df2)\n"
   ],
   "metadata": {
    "collapsed": false,
    "ExecuteTime": {
     "end_time": "2024-01-16T01:57:21.122566600Z",
     "start_time": "2024-01-16T01:57:21.099565200Z"
    }
   },
   "id": "d886d03b4a8d5765",
   "execution_count": 92
  },
  {
   "cell_type": "code",
   "outputs": [
    {
     "name": "stderr",
     "output_type": "stream",
     "text": [
      "C:\\Users\\Administrator\\AppData\\Local\\Temp\\ipykernel_10720\\2713353061.py:1: FutureWarning: Series.fillna with 'method' is deprecated and will raise in a future version. Use obj.ffill() or obj.bfill() instead.\n",
      "  df.A.fillna(method='ffill', limit=1)\n"
     ]
    },
    {
     "data": {
      "text/plain": "0    NaN\n1    3.0\n2    3.0\n3    NaN\nName: A, dtype: float64"
     },
     "execution_count": 90,
     "metadata": {},
     "output_type": "execute_result"
    }
   ],
   "source": [
    "df.A.fillna(method='ffill', limit=1)"
   ],
   "metadata": {
    "collapsed": false,
    "ExecuteTime": {
     "end_time": "2024-01-16T01:53:09.098038Z",
     "start_time": "2024-01-16T01:53:09.070224400Z"
    }
   },
   "id": "41d090b4f0761ba7",
   "execution_count": 90
  },
  {
   "cell_type": "code",
   "outputs": [
    {
     "data": {
      "text/plain": "0    2.0\n1    4.0\n2    3.0\n3    3.0\nName: B, dtype: float64"
     },
     "execution_count": 94,
     "metadata": {},
     "output_type": "execute_result"
    }
   ],
   "source": [
    "# B 컬럼과 D 컬럼을 평균으로 결측치를 대체하기\n",
    "df.B.fillna(df.B.mean())"
   ],
   "metadata": {
    "collapsed": false,
    "ExecuteTime": {
     "end_time": "2024-01-16T02:06:18.257689300Z",
     "start_time": "2024-01-16T02:06:18.250688Z"
    }
   },
   "id": "44f0904bc692ccb7",
   "execution_count": 94
  },
  {
   "cell_type": "code",
   "outputs": [
    {
     "data": {
      "text/plain": "0       False\n1       False\n2       False\n3       False\n4       False\n        ...  \n996     False\n997     False\n998     False\n999     False\n1000    False\nLength: 1001, dtype: bool"
     },
     "execution_count": 98,
     "metadata": {},
     "output_type": "execute_result"
    }
   ],
   "source": [
    "# df의 중복 확인\n",
    "empdf.duplicated()"
   ],
   "metadata": {
    "collapsed": false,
    "ExecuteTime": {
     "end_time": "2024-01-16T02:07:41.921176700Z",
     "start_time": "2024-01-16T02:07:41.909177300Z"
    }
   },
   "id": "4a416561149723db",
   "execution_count": 98
  },
  {
   "cell_type": "code",
   "outputs": [],
   "source": [],
   "metadata": {
    "collapsed": false
   },
   "id": "2c73fdaab54169dd"
  }
 ],
 "metadata": {
  "kernelspec": {
   "display_name": "Python 3",
   "language": "python",
   "name": "python3"
  },
  "language_info": {
   "codemirror_mode": {
    "name": "ipython",
    "version": 2
   },
   "file_extension": ".py",
   "mimetype": "text/x-python",
   "name": "python",
   "nbconvert_exporter": "python",
   "pygments_lexer": "ipython2",
   "version": "2.7.6"
  }
 },
 "nbformat": 4,
 "nbformat_minor": 5
}
