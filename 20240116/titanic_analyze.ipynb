{
 "cells": [
  {
   "cell_type": "code",
   "execution_count": 173,
   "id": "initial_id",
   "metadata": {
    "collapsed": true,
    "ExecuteTime": {
     "end_time": "2024-01-16T13:42:29.290229600Z",
     "start_time": "2024-01-16T13:42:29.248369700Z"
    }
   },
   "outputs": [],
   "source": [
    "import  pandas as pd\n"
   ]
  },
  {
   "cell_type": "code",
   "outputs": [],
   "source": [
    "titanic_file = './titanic.csv'"
   ],
   "metadata": {
    "collapsed": false,
    "ExecuteTime": {
     "end_time": "2024-01-16T13:42:29.291226200Z",
     "start_time": "2024-01-16T13:42:29.268303300Z"
    }
   },
   "id": "c51bfc54d220e0d2",
   "execution_count": 174
  },
  {
   "cell_type": "code",
   "outputs": [],
   "source": [
    "df = pd.read_csv(titanic_file)\n"
   ],
   "metadata": {
    "collapsed": false,
    "ExecuteTime": {
     "end_time": "2024-01-16T13:42:29.314158200Z",
     "start_time": "2024-01-16T13:42:29.294221800Z"
    }
   },
   "id": "6acd0c7cf2fbfadb",
   "execution_count": 175
  },
  {
   "cell_type": "code",
   "outputs": [
    {
     "data": {
      "text/plain": "   survived  pclass     sex   age  sibsp  parch     fare embarked  class  \\\n0         0       3    male  22.0      1      0   7.2500        S  Third   \n1         1       1  female  38.0      1      0  71.2833        C  First   \n2         1       3  female  26.0      0      0   7.9250        S  Third   \n3         1       1  female  35.0      1      0  53.1000        S  First   \n4         0       3    male  35.0      0      0   8.0500        S  Third   \n\n     who  adult_male deck  embark_town alive  alone  \n0    man        True  NaN  Southampton    no  False  \n1  woman       False    C    Cherbourg   yes  False  \n2  woman       False  NaN  Southampton   yes   True  \n3  woman       False    C  Southampton   yes  False  \n4    man        True  NaN  Southampton    no   True  ",
      "text/html": "<div>\n<style scoped>\n    .dataframe tbody tr th:only-of-type {\n        vertical-align: middle;\n    }\n\n    .dataframe tbody tr th {\n        vertical-align: top;\n    }\n\n    .dataframe thead th {\n        text-align: right;\n    }\n</style>\n<table border=\"1\" class=\"dataframe\">\n  <thead>\n    <tr style=\"text-align: right;\">\n      <th></th>\n      <th>survived</th>\n      <th>pclass</th>\n      <th>sex</th>\n      <th>age</th>\n      <th>sibsp</th>\n      <th>parch</th>\n      <th>fare</th>\n      <th>embarked</th>\n      <th>class</th>\n      <th>who</th>\n      <th>adult_male</th>\n      <th>deck</th>\n      <th>embark_town</th>\n      <th>alive</th>\n      <th>alone</th>\n    </tr>\n  </thead>\n  <tbody>\n    <tr>\n      <th>0</th>\n      <td>0</td>\n      <td>3</td>\n      <td>male</td>\n      <td>22.0</td>\n      <td>1</td>\n      <td>0</td>\n      <td>7.2500</td>\n      <td>S</td>\n      <td>Third</td>\n      <td>man</td>\n      <td>True</td>\n      <td>NaN</td>\n      <td>Southampton</td>\n      <td>no</td>\n      <td>False</td>\n    </tr>\n    <tr>\n      <th>1</th>\n      <td>1</td>\n      <td>1</td>\n      <td>female</td>\n      <td>38.0</td>\n      <td>1</td>\n      <td>0</td>\n      <td>71.2833</td>\n      <td>C</td>\n      <td>First</td>\n      <td>woman</td>\n      <td>False</td>\n      <td>C</td>\n      <td>Cherbourg</td>\n      <td>yes</td>\n      <td>False</td>\n    </tr>\n    <tr>\n      <th>2</th>\n      <td>1</td>\n      <td>3</td>\n      <td>female</td>\n      <td>26.0</td>\n      <td>0</td>\n      <td>0</td>\n      <td>7.9250</td>\n      <td>S</td>\n      <td>Third</td>\n      <td>woman</td>\n      <td>False</td>\n      <td>NaN</td>\n      <td>Southampton</td>\n      <td>yes</td>\n      <td>True</td>\n    </tr>\n    <tr>\n      <th>3</th>\n      <td>1</td>\n      <td>1</td>\n      <td>female</td>\n      <td>35.0</td>\n      <td>1</td>\n      <td>0</td>\n      <td>53.1000</td>\n      <td>S</td>\n      <td>First</td>\n      <td>woman</td>\n      <td>False</td>\n      <td>C</td>\n      <td>Southampton</td>\n      <td>yes</td>\n      <td>False</td>\n    </tr>\n    <tr>\n      <th>4</th>\n      <td>0</td>\n      <td>3</td>\n      <td>male</td>\n      <td>35.0</td>\n      <td>0</td>\n      <td>0</td>\n      <td>8.0500</td>\n      <td>S</td>\n      <td>Third</td>\n      <td>man</td>\n      <td>True</td>\n      <td>NaN</td>\n      <td>Southampton</td>\n      <td>no</td>\n      <td>True</td>\n    </tr>\n  </tbody>\n</table>\n</div>"
     },
     "execution_count": 176,
     "metadata": {},
     "output_type": "execute_result"
    }
   ],
   "source": [
    "df.head()\n"
   ],
   "metadata": {
    "collapsed": false,
    "ExecuteTime": {
     "end_time": "2024-01-16T13:42:29.352546700Z",
     "start_time": "2024-01-16T13:42:29.320142300Z"
    }
   },
   "id": "ded9ec5633c18f94",
   "execution_count": 176
  },
  {
   "cell_type": "code",
   "outputs": [
    {
     "name": "stdout",
     "output_type": "stream",
     "text": [
      "<class 'pandas.core.frame.DataFrame'>\n",
      "RangeIndex: 891 entries, 0 to 890\n",
      "Data columns (total 15 columns):\n",
      " #   Column       Non-Null Count  Dtype  \n",
      "---  ------       --------------  -----  \n",
      " 0   survived     891 non-null    int64  \n",
      " 1   pclass       891 non-null    int64  \n",
      " 2   sex          891 non-null    object \n",
      " 3   age          714 non-null    float64\n",
      " 4   sibsp        891 non-null    int64  \n",
      " 5   parch        891 non-null    int64  \n",
      " 6   fare         891 non-null    float64\n",
      " 7   embarked     889 non-null    object \n",
      " 8   class        891 non-null    object \n",
      " 9   who          891 non-null    object \n",
      " 10  adult_male   891 non-null    bool   \n",
      " 11  deck         203 non-null    object \n",
      " 12  embark_town  889 non-null    object \n",
      " 13  alive        891 non-null    object \n",
      " 14  alone        891 non-null    bool   \n",
      "dtypes: bool(2), float64(2), int64(4), object(7)\n",
      "memory usage: 92.4+ KB\n"
     ]
    }
   ],
   "source": [
    "df.info()\n"
   ],
   "metadata": {
    "collapsed": false,
    "ExecuteTime": {
     "end_time": "2024-01-16T13:42:29.384445800Z",
     "start_time": "2024-01-16T13:42:29.330621500Z"
    }
   },
   "id": "68db1ef53bab211f",
   "execution_count": 177
  },
  {
   "cell_type": "code",
   "outputs": [
    {
     "data": {
      "text/plain": "         survived      pclass         age       sibsp       parch        fare\ncount  891.000000  891.000000  714.000000  891.000000  891.000000  891.000000\nmean     0.383838    2.308642   29.699118    0.523008    0.381594   32.204208\nstd      0.486592    0.836071   14.526497    1.102743    0.806057   49.693429\nmin      0.000000    1.000000    0.420000    0.000000    0.000000    0.000000\n25%      0.000000    2.000000   20.125000    0.000000    0.000000    7.910400\n50%      0.000000    3.000000   28.000000    0.000000    0.000000   14.454200\n75%      1.000000    3.000000   38.000000    1.000000    0.000000   31.000000\nmax      1.000000    3.000000   80.000000    8.000000    6.000000  512.329200",
      "text/html": "<div>\n<style scoped>\n    .dataframe tbody tr th:only-of-type {\n        vertical-align: middle;\n    }\n\n    .dataframe tbody tr th {\n        vertical-align: top;\n    }\n\n    .dataframe thead th {\n        text-align: right;\n    }\n</style>\n<table border=\"1\" class=\"dataframe\">\n  <thead>\n    <tr style=\"text-align: right;\">\n      <th></th>\n      <th>survived</th>\n      <th>pclass</th>\n      <th>age</th>\n      <th>sibsp</th>\n      <th>parch</th>\n      <th>fare</th>\n    </tr>\n  </thead>\n  <tbody>\n    <tr>\n      <th>count</th>\n      <td>891.000000</td>\n      <td>891.000000</td>\n      <td>714.000000</td>\n      <td>891.000000</td>\n      <td>891.000000</td>\n      <td>891.000000</td>\n    </tr>\n    <tr>\n      <th>mean</th>\n      <td>0.383838</td>\n      <td>2.308642</td>\n      <td>29.699118</td>\n      <td>0.523008</td>\n      <td>0.381594</td>\n      <td>32.204208</td>\n    </tr>\n    <tr>\n      <th>std</th>\n      <td>0.486592</td>\n      <td>0.836071</td>\n      <td>14.526497</td>\n      <td>1.102743</td>\n      <td>0.806057</td>\n      <td>49.693429</td>\n    </tr>\n    <tr>\n      <th>min</th>\n      <td>0.000000</td>\n      <td>1.000000</td>\n      <td>0.420000</td>\n      <td>0.000000</td>\n      <td>0.000000</td>\n      <td>0.000000</td>\n    </tr>\n    <tr>\n      <th>25%</th>\n      <td>0.000000</td>\n      <td>2.000000</td>\n      <td>20.125000</td>\n      <td>0.000000</td>\n      <td>0.000000</td>\n      <td>7.910400</td>\n    </tr>\n    <tr>\n      <th>50%</th>\n      <td>0.000000</td>\n      <td>3.000000</td>\n      <td>28.000000</td>\n      <td>0.000000</td>\n      <td>0.000000</td>\n      <td>14.454200</td>\n    </tr>\n    <tr>\n      <th>75%</th>\n      <td>1.000000</td>\n      <td>3.000000</td>\n      <td>38.000000</td>\n      <td>1.000000</td>\n      <td>0.000000</td>\n      <td>31.000000</td>\n    </tr>\n    <tr>\n      <th>max</th>\n      <td>1.000000</td>\n      <td>3.000000</td>\n      <td>80.000000</td>\n      <td>8.000000</td>\n      <td>6.000000</td>\n      <td>512.329200</td>\n    </tr>\n  </tbody>\n</table>\n</div>"
     },
     "execution_count": 178,
     "metadata": {},
     "output_type": "execute_result"
    }
   ],
   "source": [
    "df.describe()\n"
   ],
   "metadata": {
    "collapsed": false,
    "ExecuteTime": {
     "end_time": "2024-01-16T13:42:29.406366900Z",
     "start_time": "2024-01-16T13:42:29.346567300Z"
    }
   },
   "id": "c27b7c9b13f8f5f7",
   "execution_count": 178
  },
  {
   "cell_type": "code",
   "outputs": [],
   "source": [
    "# show cols of df as dictionary\n",
    "save = df.columns.tolist()\n",
    "save_dtype = ['bool', 'category', 'category', 'float', 'int', 'int', 'float', 'category', 'category', 'category', 'bool','category','category', 'bool', 'bool']\n"
   ],
   "metadata": {
    "collapsed": false,
    "ExecuteTime": {
     "end_time": "2024-01-16T13:42:29.407364400Z",
     "start_time": "2024-01-16T13:42:29.361518600Z"
    }
   },
   "id": "41f6a20290aa35f7",
   "execution_count": 179
  },
  {
   "cell_type": "code",
   "outputs": [
    {
     "data": {
      "text/plain": "     survived pclass     sex   age  sibsp  parch     fare embarked   class  \\\n0       False      3    male  22.0      1      0   7.2500        S   Third   \n1        True      1  female  38.0      1      0  71.2833        C   First   \n2        True      3  female  26.0      0      0   7.9250        S   Third   \n3        True      1  female  35.0      1      0  53.1000        S   First   \n4       False      3    male  35.0      0      0   8.0500        S   Third   \n..        ...    ...     ...   ...    ...    ...      ...      ...     ...   \n886     False      2    male  27.0      0      0  13.0000        S  Second   \n887      True      1  female  19.0      0      0  30.0000        S   First   \n888     False      3  female   NaN      1      2  23.4500        S   Third   \n889      True      1    male  26.0      0      0  30.0000        C   First   \n890     False      3    male  32.0      0      0   7.7500        Q   Third   \n\n       who  adult_male deck  embark_town  alive  alone  \n0      man        True  NaN  Southampton   True  False  \n1    woman       False    C    Cherbourg   True  False  \n2    woman       False  NaN  Southampton   True   True  \n3    woman       False    C  Southampton   True  False  \n4      man        True  NaN  Southampton   True   True  \n..     ...         ...  ...          ...    ...    ...  \n886    man        True  NaN  Southampton   True   True  \n887  woman       False    B  Southampton   True   True  \n888  woman       False  NaN  Southampton   True  False  \n889    man        True    C    Cherbourg   True   True  \n890    man        True  NaN   Queenstown   True   True  \n\n[891 rows x 15 columns]",
      "text/html": "<div>\n<style scoped>\n    .dataframe tbody tr th:only-of-type {\n        vertical-align: middle;\n    }\n\n    .dataframe tbody tr th {\n        vertical-align: top;\n    }\n\n    .dataframe thead th {\n        text-align: right;\n    }\n</style>\n<table border=\"1\" class=\"dataframe\">\n  <thead>\n    <tr style=\"text-align: right;\">\n      <th></th>\n      <th>survived</th>\n      <th>pclass</th>\n      <th>sex</th>\n      <th>age</th>\n      <th>sibsp</th>\n      <th>parch</th>\n      <th>fare</th>\n      <th>embarked</th>\n      <th>class</th>\n      <th>who</th>\n      <th>adult_male</th>\n      <th>deck</th>\n      <th>embark_town</th>\n      <th>alive</th>\n      <th>alone</th>\n    </tr>\n  </thead>\n  <tbody>\n    <tr>\n      <th>0</th>\n      <td>False</td>\n      <td>3</td>\n      <td>male</td>\n      <td>22.0</td>\n      <td>1</td>\n      <td>0</td>\n      <td>7.2500</td>\n      <td>S</td>\n      <td>Third</td>\n      <td>man</td>\n      <td>True</td>\n      <td>NaN</td>\n      <td>Southampton</td>\n      <td>True</td>\n      <td>False</td>\n    </tr>\n    <tr>\n      <th>1</th>\n      <td>True</td>\n      <td>1</td>\n      <td>female</td>\n      <td>38.0</td>\n      <td>1</td>\n      <td>0</td>\n      <td>71.2833</td>\n      <td>C</td>\n      <td>First</td>\n      <td>woman</td>\n      <td>False</td>\n      <td>C</td>\n      <td>Cherbourg</td>\n      <td>True</td>\n      <td>False</td>\n    </tr>\n    <tr>\n      <th>2</th>\n      <td>True</td>\n      <td>3</td>\n      <td>female</td>\n      <td>26.0</td>\n      <td>0</td>\n      <td>0</td>\n      <td>7.9250</td>\n      <td>S</td>\n      <td>Third</td>\n      <td>woman</td>\n      <td>False</td>\n      <td>NaN</td>\n      <td>Southampton</td>\n      <td>True</td>\n      <td>True</td>\n    </tr>\n    <tr>\n      <th>3</th>\n      <td>True</td>\n      <td>1</td>\n      <td>female</td>\n      <td>35.0</td>\n      <td>1</td>\n      <td>0</td>\n      <td>53.1000</td>\n      <td>S</td>\n      <td>First</td>\n      <td>woman</td>\n      <td>False</td>\n      <td>C</td>\n      <td>Southampton</td>\n      <td>True</td>\n      <td>False</td>\n    </tr>\n    <tr>\n      <th>4</th>\n      <td>False</td>\n      <td>3</td>\n      <td>male</td>\n      <td>35.0</td>\n      <td>0</td>\n      <td>0</td>\n      <td>8.0500</td>\n      <td>S</td>\n      <td>Third</td>\n      <td>man</td>\n      <td>True</td>\n      <td>NaN</td>\n      <td>Southampton</td>\n      <td>True</td>\n      <td>True</td>\n    </tr>\n    <tr>\n      <th>...</th>\n      <td>...</td>\n      <td>...</td>\n      <td>...</td>\n      <td>...</td>\n      <td>...</td>\n      <td>...</td>\n      <td>...</td>\n      <td>...</td>\n      <td>...</td>\n      <td>...</td>\n      <td>...</td>\n      <td>...</td>\n      <td>...</td>\n      <td>...</td>\n      <td>...</td>\n    </tr>\n    <tr>\n      <th>886</th>\n      <td>False</td>\n      <td>2</td>\n      <td>male</td>\n      <td>27.0</td>\n      <td>0</td>\n      <td>0</td>\n      <td>13.0000</td>\n      <td>S</td>\n      <td>Second</td>\n      <td>man</td>\n      <td>True</td>\n      <td>NaN</td>\n      <td>Southampton</td>\n      <td>True</td>\n      <td>True</td>\n    </tr>\n    <tr>\n      <th>887</th>\n      <td>True</td>\n      <td>1</td>\n      <td>female</td>\n      <td>19.0</td>\n      <td>0</td>\n      <td>0</td>\n      <td>30.0000</td>\n      <td>S</td>\n      <td>First</td>\n      <td>woman</td>\n      <td>False</td>\n      <td>B</td>\n      <td>Southampton</td>\n      <td>True</td>\n      <td>True</td>\n    </tr>\n    <tr>\n      <th>888</th>\n      <td>False</td>\n      <td>3</td>\n      <td>female</td>\n      <td>NaN</td>\n      <td>1</td>\n      <td>2</td>\n      <td>23.4500</td>\n      <td>S</td>\n      <td>Third</td>\n      <td>woman</td>\n      <td>False</td>\n      <td>NaN</td>\n      <td>Southampton</td>\n      <td>True</td>\n      <td>False</td>\n    </tr>\n    <tr>\n      <th>889</th>\n      <td>True</td>\n      <td>1</td>\n      <td>male</td>\n      <td>26.0</td>\n      <td>0</td>\n      <td>0</td>\n      <td>30.0000</td>\n      <td>C</td>\n      <td>First</td>\n      <td>man</td>\n      <td>True</td>\n      <td>C</td>\n      <td>Cherbourg</td>\n      <td>True</td>\n      <td>True</td>\n    </tr>\n    <tr>\n      <th>890</th>\n      <td>False</td>\n      <td>3</td>\n      <td>male</td>\n      <td>32.0</td>\n      <td>0</td>\n      <td>0</td>\n      <td>7.7500</td>\n      <td>Q</td>\n      <td>Third</td>\n      <td>man</td>\n      <td>True</td>\n      <td>NaN</td>\n      <td>Queenstown</td>\n      <td>True</td>\n      <td>True</td>\n    </tr>\n  </tbody>\n</table>\n<p>891 rows × 15 columns</p>\n</div>"
     },
     "execution_count": 180,
     "metadata": {},
     "output_type": "execute_result"
    }
   ],
   "source": [
    "df = df.astype(dict(zip(save,save_dtype)))\n",
    "df"
   ],
   "metadata": {
    "collapsed": false,
    "ExecuteTime": {
     "end_time": "2024-01-16T13:42:29.463766900Z",
     "start_time": "2024-01-16T13:42:29.389423900Z"
    }
   },
   "id": "be72e48e799a10a8",
   "execution_count": 180
  },
  {
   "cell_type": "code",
   "outputs": [
    {
     "name": "stdout",
     "output_type": "stream",
     "text": [
      "0세 이상 10세 미만 생존률 : 61.29 %\n",
      "10세 이상 20세 미만 생존률 : 40.20 %\n",
      "20세 이상 30세 미만 생존률 : 35.00 %\n",
      "30세 이상 40세 미만 생존률 : 43.71 %\n",
      "40세 이상 50세 미만 생존률 : 38.20 %\n",
      "50세 이상 60세 미만 생존률 : 41.67 %\n",
      "60세 이상 70세 미만 생존률 : 31.58 %\n",
      "70세 이상 80세 미만 생존률 : 0.00 %\n",
      "80세 이상 90세 미만 생존률 : 100.00 %\n"
     ]
    },
    {
     "data": {
      "text/plain": "     survived pclass     sex   age  sibsp  parch      fare embarked   class  \\\n33      False      2    male  66.0      0      0   10.5000        S  Second   \n54      False      1    male  65.0      0      1   61.9792        C   First   \n96      False      1    male  71.0      0      0   34.6542        C   First   \n116     False      3    male  70.5      0      0    7.7500        Q   Third   \n170     False      1    male  61.0      0      0   33.5000        S   First   \n252     False      1    male  62.0      0      0   26.5500        S   First   \n275      True      1  female  63.0      1      0   77.9583        S   First   \n280     False      3    male  65.0      0      0    7.7500        Q   Third   \n326     False      3    male  61.0      0      0    6.2375        S   Third   \n438     False      1    male  64.0      1      4  263.0000        S   First   \n456     False      1    male  65.0      0      0   26.5500        S   First   \n483      True      3  female  63.0      0      0    9.5875        S   Third   \n493     False      1    male  71.0      0      0   49.5042        C   First   \n545     False      1    male  64.0      0      0   26.0000        S   First   \n555     False      1    male  62.0      0      0   26.5500        S   First   \n570      True      2    male  62.0      0      0   10.5000        S  Second   \n625     False      1    male  61.0      0      0   32.3208        S   First   \n630      True      1    male  80.0      0      0   30.0000        S   First   \n672     False      2    male  70.0      0      0   10.5000        S  Second   \n745     False      1    male  70.0      1      1   71.0000        S   First   \n829      True      1  female  62.0      0      0   80.0000      NaN   First   \n851     False      3    male  74.0      0      0    7.7750        S   Third   \n\n       who  adult_male deck  embark_town  alive  alone  \n33     man        True  NaN  Southampton   True   True  \n54     man        True    B    Cherbourg   True  False  \n96     man        True    A    Cherbourg   True   True  \n116    man        True  NaN   Queenstown   True   True  \n170    man        True    B  Southampton   True   True  \n252    man        True    C  Southampton   True   True  \n275  woman       False    D  Southampton   True  False  \n280    man        True  NaN   Queenstown   True   True  \n326    man        True  NaN  Southampton   True   True  \n438    man        True    C  Southampton   True  False  \n456    man        True    E  Southampton   True   True  \n483  woman       False  NaN  Southampton   True   True  \n493    man        True  NaN    Cherbourg   True   True  \n545    man        True  NaN  Southampton   True   True  \n555    man        True  NaN  Southampton   True   True  \n570    man        True  NaN  Southampton   True   True  \n625    man        True    D  Southampton   True   True  \n630    man        True    A  Southampton   True   True  \n672    man        True  NaN  Southampton   True   True  \n745    man        True    B  Southampton   True  False  \n829  woman       False    B          NaN   True   True  \n851    man        True  NaN  Southampton   True   True  ",
      "text/html": "<div>\n<style scoped>\n    .dataframe tbody tr th:only-of-type {\n        vertical-align: middle;\n    }\n\n    .dataframe tbody tr th {\n        vertical-align: top;\n    }\n\n    .dataframe thead th {\n        text-align: right;\n    }\n</style>\n<table border=\"1\" class=\"dataframe\">\n  <thead>\n    <tr style=\"text-align: right;\">\n      <th></th>\n      <th>survived</th>\n      <th>pclass</th>\n      <th>sex</th>\n      <th>age</th>\n      <th>sibsp</th>\n      <th>parch</th>\n      <th>fare</th>\n      <th>embarked</th>\n      <th>class</th>\n      <th>who</th>\n      <th>adult_male</th>\n      <th>deck</th>\n      <th>embark_town</th>\n      <th>alive</th>\n      <th>alone</th>\n    </tr>\n  </thead>\n  <tbody>\n    <tr>\n      <th>33</th>\n      <td>False</td>\n      <td>2</td>\n      <td>male</td>\n      <td>66.0</td>\n      <td>0</td>\n      <td>0</td>\n      <td>10.5000</td>\n      <td>S</td>\n      <td>Second</td>\n      <td>man</td>\n      <td>True</td>\n      <td>NaN</td>\n      <td>Southampton</td>\n      <td>True</td>\n      <td>True</td>\n    </tr>\n    <tr>\n      <th>54</th>\n      <td>False</td>\n      <td>1</td>\n      <td>male</td>\n      <td>65.0</td>\n      <td>0</td>\n      <td>1</td>\n      <td>61.9792</td>\n      <td>C</td>\n      <td>First</td>\n      <td>man</td>\n      <td>True</td>\n      <td>B</td>\n      <td>Cherbourg</td>\n      <td>True</td>\n      <td>False</td>\n    </tr>\n    <tr>\n      <th>96</th>\n      <td>False</td>\n      <td>1</td>\n      <td>male</td>\n      <td>71.0</td>\n      <td>0</td>\n      <td>0</td>\n      <td>34.6542</td>\n      <td>C</td>\n      <td>First</td>\n      <td>man</td>\n      <td>True</td>\n      <td>A</td>\n      <td>Cherbourg</td>\n      <td>True</td>\n      <td>True</td>\n    </tr>\n    <tr>\n      <th>116</th>\n      <td>False</td>\n      <td>3</td>\n      <td>male</td>\n      <td>70.5</td>\n      <td>0</td>\n      <td>0</td>\n      <td>7.7500</td>\n      <td>Q</td>\n      <td>Third</td>\n      <td>man</td>\n      <td>True</td>\n      <td>NaN</td>\n      <td>Queenstown</td>\n      <td>True</td>\n      <td>True</td>\n    </tr>\n    <tr>\n      <th>170</th>\n      <td>False</td>\n      <td>1</td>\n      <td>male</td>\n      <td>61.0</td>\n      <td>0</td>\n      <td>0</td>\n      <td>33.5000</td>\n      <td>S</td>\n      <td>First</td>\n      <td>man</td>\n      <td>True</td>\n      <td>B</td>\n      <td>Southampton</td>\n      <td>True</td>\n      <td>True</td>\n    </tr>\n    <tr>\n      <th>252</th>\n      <td>False</td>\n      <td>1</td>\n      <td>male</td>\n      <td>62.0</td>\n      <td>0</td>\n      <td>0</td>\n      <td>26.5500</td>\n      <td>S</td>\n      <td>First</td>\n      <td>man</td>\n      <td>True</td>\n      <td>C</td>\n      <td>Southampton</td>\n      <td>True</td>\n      <td>True</td>\n    </tr>\n    <tr>\n      <th>275</th>\n      <td>True</td>\n      <td>1</td>\n      <td>female</td>\n      <td>63.0</td>\n      <td>1</td>\n      <td>0</td>\n      <td>77.9583</td>\n      <td>S</td>\n      <td>First</td>\n      <td>woman</td>\n      <td>False</td>\n      <td>D</td>\n      <td>Southampton</td>\n      <td>True</td>\n      <td>False</td>\n    </tr>\n    <tr>\n      <th>280</th>\n      <td>False</td>\n      <td>3</td>\n      <td>male</td>\n      <td>65.0</td>\n      <td>0</td>\n      <td>0</td>\n      <td>7.7500</td>\n      <td>Q</td>\n      <td>Third</td>\n      <td>man</td>\n      <td>True</td>\n      <td>NaN</td>\n      <td>Queenstown</td>\n      <td>True</td>\n      <td>True</td>\n    </tr>\n    <tr>\n      <th>326</th>\n      <td>False</td>\n      <td>3</td>\n      <td>male</td>\n      <td>61.0</td>\n      <td>0</td>\n      <td>0</td>\n      <td>6.2375</td>\n      <td>S</td>\n      <td>Third</td>\n      <td>man</td>\n      <td>True</td>\n      <td>NaN</td>\n      <td>Southampton</td>\n      <td>True</td>\n      <td>True</td>\n    </tr>\n    <tr>\n      <th>438</th>\n      <td>False</td>\n      <td>1</td>\n      <td>male</td>\n      <td>64.0</td>\n      <td>1</td>\n      <td>4</td>\n      <td>263.0000</td>\n      <td>S</td>\n      <td>First</td>\n      <td>man</td>\n      <td>True</td>\n      <td>C</td>\n      <td>Southampton</td>\n      <td>True</td>\n      <td>False</td>\n    </tr>\n    <tr>\n      <th>456</th>\n      <td>False</td>\n      <td>1</td>\n      <td>male</td>\n      <td>65.0</td>\n      <td>0</td>\n      <td>0</td>\n      <td>26.5500</td>\n      <td>S</td>\n      <td>First</td>\n      <td>man</td>\n      <td>True</td>\n      <td>E</td>\n      <td>Southampton</td>\n      <td>True</td>\n      <td>True</td>\n    </tr>\n    <tr>\n      <th>483</th>\n      <td>True</td>\n      <td>3</td>\n      <td>female</td>\n      <td>63.0</td>\n      <td>0</td>\n      <td>0</td>\n      <td>9.5875</td>\n      <td>S</td>\n      <td>Third</td>\n      <td>woman</td>\n      <td>False</td>\n      <td>NaN</td>\n      <td>Southampton</td>\n      <td>True</td>\n      <td>True</td>\n    </tr>\n    <tr>\n      <th>493</th>\n      <td>False</td>\n      <td>1</td>\n      <td>male</td>\n      <td>71.0</td>\n      <td>0</td>\n      <td>0</td>\n      <td>49.5042</td>\n      <td>C</td>\n      <td>First</td>\n      <td>man</td>\n      <td>True</td>\n      <td>NaN</td>\n      <td>Cherbourg</td>\n      <td>True</td>\n      <td>True</td>\n    </tr>\n    <tr>\n      <th>545</th>\n      <td>False</td>\n      <td>1</td>\n      <td>male</td>\n      <td>64.0</td>\n      <td>0</td>\n      <td>0</td>\n      <td>26.0000</td>\n      <td>S</td>\n      <td>First</td>\n      <td>man</td>\n      <td>True</td>\n      <td>NaN</td>\n      <td>Southampton</td>\n      <td>True</td>\n      <td>True</td>\n    </tr>\n    <tr>\n      <th>555</th>\n      <td>False</td>\n      <td>1</td>\n      <td>male</td>\n      <td>62.0</td>\n      <td>0</td>\n      <td>0</td>\n      <td>26.5500</td>\n      <td>S</td>\n      <td>First</td>\n      <td>man</td>\n      <td>True</td>\n      <td>NaN</td>\n      <td>Southampton</td>\n      <td>True</td>\n      <td>True</td>\n    </tr>\n    <tr>\n      <th>570</th>\n      <td>True</td>\n      <td>2</td>\n      <td>male</td>\n      <td>62.0</td>\n      <td>0</td>\n      <td>0</td>\n      <td>10.5000</td>\n      <td>S</td>\n      <td>Second</td>\n      <td>man</td>\n      <td>True</td>\n      <td>NaN</td>\n      <td>Southampton</td>\n      <td>True</td>\n      <td>True</td>\n    </tr>\n    <tr>\n      <th>625</th>\n      <td>False</td>\n      <td>1</td>\n      <td>male</td>\n      <td>61.0</td>\n      <td>0</td>\n      <td>0</td>\n      <td>32.3208</td>\n      <td>S</td>\n      <td>First</td>\n      <td>man</td>\n      <td>True</td>\n      <td>D</td>\n      <td>Southampton</td>\n      <td>True</td>\n      <td>True</td>\n    </tr>\n    <tr>\n      <th>630</th>\n      <td>True</td>\n      <td>1</td>\n      <td>male</td>\n      <td>80.0</td>\n      <td>0</td>\n      <td>0</td>\n      <td>30.0000</td>\n      <td>S</td>\n      <td>First</td>\n      <td>man</td>\n      <td>True</td>\n      <td>A</td>\n      <td>Southampton</td>\n      <td>True</td>\n      <td>True</td>\n    </tr>\n    <tr>\n      <th>672</th>\n      <td>False</td>\n      <td>2</td>\n      <td>male</td>\n      <td>70.0</td>\n      <td>0</td>\n      <td>0</td>\n      <td>10.5000</td>\n      <td>S</td>\n      <td>Second</td>\n      <td>man</td>\n      <td>True</td>\n      <td>NaN</td>\n      <td>Southampton</td>\n      <td>True</td>\n      <td>True</td>\n    </tr>\n    <tr>\n      <th>745</th>\n      <td>False</td>\n      <td>1</td>\n      <td>male</td>\n      <td>70.0</td>\n      <td>1</td>\n      <td>1</td>\n      <td>71.0000</td>\n      <td>S</td>\n      <td>First</td>\n      <td>man</td>\n      <td>True</td>\n      <td>B</td>\n      <td>Southampton</td>\n      <td>True</td>\n      <td>False</td>\n    </tr>\n    <tr>\n      <th>829</th>\n      <td>True</td>\n      <td>1</td>\n      <td>female</td>\n      <td>62.0</td>\n      <td>0</td>\n      <td>0</td>\n      <td>80.0000</td>\n      <td>NaN</td>\n      <td>First</td>\n      <td>woman</td>\n      <td>False</td>\n      <td>B</td>\n      <td>NaN</td>\n      <td>True</td>\n      <td>True</td>\n    </tr>\n    <tr>\n      <th>851</th>\n      <td>False</td>\n      <td>3</td>\n      <td>male</td>\n      <td>74.0</td>\n      <td>0</td>\n      <td>0</td>\n      <td>7.7750</td>\n      <td>S</td>\n      <td>Third</td>\n      <td>man</td>\n      <td>True</td>\n      <td>NaN</td>\n      <td>Southampton</td>\n      <td>True</td>\n      <td>True</td>\n    </tr>\n  </tbody>\n</table>\n</div>"
     },
     "execution_count": 181,
     "metadata": {},
     "output_type": "execute_result"
    }
   ],
   "source": [
    "# find people with survied = True and age < 10\n",
    "def ageinterval(j):\n",
    "    def surviveunder10(i, j):\n",
    "        survived = df['survived'].isin([True])\n",
    "        agemask =  df['age'].between(i-j,i,inclusive='left')\n",
    "        survivedcnt = len(df[survived & agemask])\n",
    "        allpeople = len(df[agemask])\n",
    "        return survivedcnt / allpeople if allpeople != 0 else -1\n",
    "    # # find all people whose age is under ten\n",
    "    for i in range(j,int(df.age.max())+j+1,j):\n",
    "        result = surviveunder10(i, j)\n",
    "        if result >= 0:\n",
    "            print(f\"{i-j}세 이상 {i}세 미만 생존률 : {result * 100 :.2f} %\")\n",
    "\n",
    "ageinterval(10)\n",
    "\n",
    "# show people whose age is higher than 60\n",
    "age_mask = df['age'] > 60\n",
    "df[age_mask]\n"
   ],
   "metadata": {
    "collapsed": false,
    "ExecuteTime": {
     "end_time": "2024-01-16T13:42:29.553036500Z",
     "start_time": "2024-01-16T13:42:29.436851700Z"
    }
   },
   "id": "51de56b2f5c7eb53",
   "execution_count": 181
  },
  {
   "cell_type": "code",
   "outputs": [
    {
     "name": "stdout",
     "output_type": "stream",
     "text": [
      "어린이 83명 생존률 59.04%\n"
     ]
    }
   ],
   "source": [
    "# show the people who is child in who column and survied is True\n",
    "child_mask = df['who'] == 'child'\n",
    "total = df[child_mask & df['survived']].shape[0] + df[child_mask & ~df['survived']].shape[0]\n",
    "survivedchild = df[child_mask & df['survived']].shape[0]\n",
    "\n",
    "print(f\"어린이 {total}명 생존률 {survivedchild / total * 100 :.2f}%\")"
   ],
   "metadata": {
    "collapsed": false,
    "ExecuteTime": {
     "end_time": "2024-01-16T13:42:29.593904500Z",
     "start_time": "2024-01-16T13:42:29.507614700Z"
    }
   },
   "id": "fd90fa4834eed097",
   "execution_count": 182
  },
  {
   "cell_type": "code",
   "outputs": [
    {
     "name": "stdout",
     "output_type": "stream",
     "text": [
      "전체 891명 생존률 38.38%\n"
     ]
    }
   ],
   "source": [
    "# show percentage of total survived people\n",
    "total_survived = df[df['survived']].shape[0]\n",
    "print(f\"전체 {df.shape[0]}명 생존률 {total_survived / df.shape[0] * 100 :.2f}%\")"
   ],
   "metadata": {
    "collapsed": false,
    "ExecuteTime": {
     "end_time": "2024-01-16T13:42:29.649238200Z",
     "start_time": "2024-01-16T13:42:29.581940500Z"
    }
   },
   "id": "365834edfcdba094",
   "execution_count": 183
  },
  {
   "cell_type": "code",
   "outputs": [
    {
     "name": "stdout",
     "output_type": "stream",
     "text": [
      "성인 남성 537명 생존률 16.39%\n"
     ]
    }
   ],
   "source": [
    "# show percentage of adult male survival rate from adult_male\n",
    "adult_male_mask = df['adult_male']\n",
    "total_adult_male = df[adult_male_mask].shape[0]\n",
    "survived_adult_male = df[adult_male_mask & df['survived']].shape[0]\n",
    "\n",
    "print(f\"성인 남성 {total_adult_male}명 생존률 {survived_adult_male / total_adult_male * 100 :.2f}%\")"
   ],
   "metadata": {
    "collapsed": false,
    "ExecuteTime": {
     "end_time": "2024-01-16T13:42:29.686110300Z",
     "start_time": "2024-01-16T13:42:29.636277800Z"
    }
   },
   "id": "5d73bd413e6e7851",
   "execution_count": 184
  },
  {
   "cell_type": "code",
   "outputs": [
    {
     "name": "stdout",
     "output_type": "stream",
     "text": [
      "이외 354명 생존률 71.75%\n"
     ]
    }
   ],
   "source": [
    "# show percentage of non adult male survival rate from adult_male\n",
    "non_adult_male_mask = df['adult_male'] == False\n",
    "total_non_adult_male = df[non_adult_male_mask].shape[0]\n",
    "survived_non_adult_male = df[non_adult_male_mask & df['survived']].shape[0]\n",
    "\n",
    "print(f\"이외 {total_non_adult_male}명 생존률 {survived_non_adult_male / total_non_adult_male * 100 :.2f}%\")"
   ],
   "metadata": {
    "collapsed": false,
    "ExecuteTime": {
     "end_time": "2024-01-16T13:42:29.761374800Z",
     "start_time": "2024-01-16T13:42:29.690096600Z"
    }
   },
   "id": "b71a8437ef915591",
   "execution_count": 185
  },
  {
   "cell_type": "code",
   "outputs": [
    {
     "name": "stdout",
     "output_type": "stream",
     "text": [
      "여성 314명 생존률 74.20%\n"
     ]
    }
   ],
   "source": [
    "# show percentage of female survival rate by using sex columns\n",
    "female_mask = df['sex'] == 'female'\n",
    "total_female = df[female_mask].shape[0]\n",
    "survived_female = df[female_mask & df['survived']].shape[0]\n",
    "\n",
    "print(f\"여성 {total_female}명 생존률 {survived_female / total_female * 100 :.2f}%\")"
   ],
   "metadata": {
    "collapsed": false,
    "ExecuteTime": {
     "end_time": "2024-01-16T13:42:29.791274700Z",
     "start_time": "2024-01-16T13:42:29.764364200Z"
    }
   },
   "id": "a1aa9186126d5ca6",
   "execution_count": 186
  },
  {
   "cell_type": "code",
   "outputs": [
    {
     "name": "stdout",
     "output_type": "stream",
     "text": [
      "First class 216명 생존률 62.96%\n",
      "Second class 184명 생존률 47.28%\n",
      "Third class 491명 생존률 24.24%\n"
     ]
    }
   ],
   "source": [
    "# survival rate of first class people\n",
    "for x in sorted(df['class'].unique().tolist()):\n",
    "    class_mask = df['class'] == x\n",
    "    total_class_mask = df[class_mask].shape[0]\n",
    "    survived_class = df[class_mask & df['survived']].shape[0]\n",
    "    print(f\"{x} class {total_class_mask}명 생존률 {survived_class / total_class_mask * 100 :.2f}%\")"
   ],
   "metadata": {
    "collapsed": false,
    "ExecuteTime": {
     "end_time": "2024-01-16T13:42:29.806224200Z",
     "start_time": "2024-01-16T13:42:29.792269600Z"
    }
   },
   "id": "8d5a7cef92071a70",
   "execution_count": 187
  },
  {
   "cell_type": "code",
   "outputs": [
    {
     "name": "stdout",
     "output_type": "stream",
     "text": [
      "First class female 생존률 96.81%\n",
      "First class male 생존률 36.89%\n",
      "Second class female 생존률 92.11%\n",
      "Second class male 생존률 15.74%\n",
      "Third class female 생존률 50.00%\n",
      "Third class male 생존률 13.54%\n"
     ]
    }
   ],
   "source": [
    "# survival rate of first class people\n",
    "for x in sorted(df['class'].unique().tolist()):\n",
    "    class_mask = df['class'] == x\n",
    "    total_class_mask = df[class_mask].shape[0]\n",
    "    survived_class = df[class_mask & df['survived']].shape[0]\n",
    "    for y in sorted(df['sex'].unique().tolist()):\n",
    "        sex_mask = df['sex'] == y\n",
    "        total_targetsex = df[sex_mask & class_mask].shape[0]\n",
    "        survived_targetsex = df[sex_mask & class_mask & df['survived']].shape[0]\n",
    "        print(f\"{x} class {y} 생존률 {survived_targetsex / total_targetsex * 100 :.2f}%\")"
   ],
   "metadata": {
    "collapsed": false,
    "ExecuteTime": {
     "end_time": "2024-01-16T13:42:29.855580700Z",
     "start_time": "2024-01-16T13:42:29.808218300Z"
    }
   },
   "id": "417d9cc2d34583a8",
   "execution_count": 188
  },
  {
   "cell_type": "code",
   "outputs": [
    {
     "name": "stdout",
     "output_type": "stream",
     "text": [
      "나홀로 아닌 female 생존률 71.28%\n",
      "나홀로 아닌 male 생존률 27.11%\n",
      "나홀로 맞는 female 생존률 78.57%\n",
      "나홀로 맞는 male 생존률 15.57%\n"
     ]
    }
   ],
   "source": [
    "for x in sorted(df['alone'].unique().tolist()):\n",
    "    class_mask = df['alone'] == x\n",
    "    total_class_mask = df[class_mask].shape[0]\n",
    "    survived_class = df[class_mask & df['survived']].shape[0]\n",
    "    for y in sorted(df['sex'].unique().tolist()):\n",
    "        sex_mask = df['sex'] == y\n",
    "        total_targetsex = df[sex_mask & class_mask].shape[0]\n",
    "        survived_targetsex = df[sex_mask & class_mask & df['survived']].shape[0]\n",
    "        print(f\"나홀로 {'맞는' if x else '아닌'} {y} 생존률 {survived_targetsex / total_targetsex * 100 :.2f}%\")"
   ],
   "metadata": {
    "collapsed": false,
    "ExecuteTime": {
     "end_time": "2024-01-16T13:42:29.856581800Z",
     "start_time": "2024-01-16T13:42:29.836643200Z"
    }
   },
   "id": "c9843a08c055a0d1",
   "execution_count": 189
  },
  {
   "cell_type": "code",
   "outputs": [
    {
     "name": "stdout",
     "output_type": "stream",
     "text": [
      "출항지 Cherbourg, female 생존률 87.67%\n",
      "출항지 Cherbourg, male 생존률 30.53%\n",
      "출항지 Queenstown, female 생존률 75.00%\n",
      "출항지 Queenstown, male 생존률 7.32%\n",
      "출항지 Southampton, female 생존률 68.97%\n",
      "출항지 Southampton, male 생존률 17.46%\n"
     ]
    }
   ],
   "source": [
    "for x in sorted(df['embark_town'].unique().dropna().tolist()):\n",
    "    class_mask = df['embark_town'] == x\n",
    "    total_class_mask = df[class_mask].shape[0]\n",
    "    survived_class = df[class_mask & df['survived']].shape[0]\n",
    "    for y in sorted(df['sex'].unique().tolist()):\n",
    "        sex_mask = df['sex'] == y\n",
    "        total_targetsex = df[sex_mask & class_mask].shape[0]\n",
    "        survived_targetsex = df[sex_mask & class_mask & df['survived']].shape[0]\n",
    "        print(f\"출항지 {x}, {y} 생존률 {survived_targetsex / total_targetsex * 100 :.2f}%\")"
   ],
   "metadata": {
    "collapsed": false,
    "ExecuteTime": {
     "end_time": "2024-01-16T13:42:29.908402900Z",
     "start_time": "2024-01-16T13:42:29.850596200Z"
    }
   },
   "id": "4489c9e700d7e224",
   "execution_count": 190
  },
  {
   "cell_type": "code",
   "outputs": [
    {
     "data": {
      "text/plain": "     survived pclass     sex   age  sibsp  parch      fare embarked   class  \\\n258      True      1  female  35.0      0      0  512.3292        C   First   \n737      True      1    male  35.0      0      0  512.3292        C   First   \n679      True      1    male  36.0      0      1  512.3292        C   First   \n88       True      1  female  23.0      3      2  263.0000        S   First   \n27      False      1    male  19.0      3      2  263.0000        S   First   \n..        ...    ...     ...   ...    ...    ...       ...      ...     ...   \n633     False      1    male   NaN      0      0    0.0000        S   First   \n413     False      2    male   NaN      0      0    0.0000        S  Second   \n822     False      1    male  38.0      0      0    0.0000        S   First   \n732     False      2    male   NaN      0      0    0.0000        S  Second   \n674     False      2    male   NaN      0      0    0.0000        S  Second   \n\n       who  adult_male deck  embark_town  alive  alone  \n258  woman       False  NaN    Cherbourg   True   True  \n737    man        True    B    Cherbourg   True   True  \n679    man        True    B    Cherbourg   True  False  \n88   woman       False    C  Southampton   True  False  \n27     man        True    C  Southampton   True  False  \n..     ...         ...  ...          ...    ...    ...  \n633    man        True  NaN  Southampton   True   True  \n413    man        True  NaN  Southampton   True   True  \n822    man        True  NaN  Southampton   True   True  \n732    man        True  NaN  Southampton   True   True  \n674    man        True  NaN  Southampton   True   True  \n\n[891 rows x 15 columns]",
      "text/html": "<div>\n<style scoped>\n    .dataframe tbody tr th:only-of-type {\n        vertical-align: middle;\n    }\n\n    .dataframe tbody tr th {\n        vertical-align: top;\n    }\n\n    .dataframe thead th {\n        text-align: right;\n    }\n</style>\n<table border=\"1\" class=\"dataframe\">\n  <thead>\n    <tr style=\"text-align: right;\">\n      <th></th>\n      <th>survived</th>\n      <th>pclass</th>\n      <th>sex</th>\n      <th>age</th>\n      <th>sibsp</th>\n      <th>parch</th>\n      <th>fare</th>\n      <th>embarked</th>\n      <th>class</th>\n      <th>who</th>\n      <th>adult_male</th>\n      <th>deck</th>\n      <th>embark_town</th>\n      <th>alive</th>\n      <th>alone</th>\n    </tr>\n  </thead>\n  <tbody>\n    <tr>\n      <th>258</th>\n      <td>True</td>\n      <td>1</td>\n      <td>female</td>\n      <td>35.0</td>\n      <td>0</td>\n      <td>0</td>\n      <td>512.3292</td>\n      <td>C</td>\n      <td>First</td>\n      <td>woman</td>\n      <td>False</td>\n      <td>NaN</td>\n      <td>Cherbourg</td>\n      <td>True</td>\n      <td>True</td>\n    </tr>\n    <tr>\n      <th>737</th>\n      <td>True</td>\n      <td>1</td>\n      <td>male</td>\n      <td>35.0</td>\n      <td>0</td>\n      <td>0</td>\n      <td>512.3292</td>\n      <td>C</td>\n      <td>First</td>\n      <td>man</td>\n      <td>True</td>\n      <td>B</td>\n      <td>Cherbourg</td>\n      <td>True</td>\n      <td>True</td>\n    </tr>\n    <tr>\n      <th>679</th>\n      <td>True</td>\n      <td>1</td>\n      <td>male</td>\n      <td>36.0</td>\n      <td>0</td>\n      <td>1</td>\n      <td>512.3292</td>\n      <td>C</td>\n      <td>First</td>\n      <td>man</td>\n      <td>True</td>\n      <td>B</td>\n      <td>Cherbourg</td>\n      <td>True</td>\n      <td>False</td>\n    </tr>\n    <tr>\n      <th>88</th>\n      <td>True</td>\n      <td>1</td>\n      <td>female</td>\n      <td>23.0</td>\n      <td>3</td>\n      <td>2</td>\n      <td>263.0000</td>\n      <td>S</td>\n      <td>First</td>\n      <td>woman</td>\n      <td>False</td>\n      <td>C</td>\n      <td>Southampton</td>\n      <td>True</td>\n      <td>False</td>\n    </tr>\n    <tr>\n      <th>27</th>\n      <td>False</td>\n      <td>1</td>\n      <td>male</td>\n      <td>19.0</td>\n      <td>3</td>\n      <td>2</td>\n      <td>263.0000</td>\n      <td>S</td>\n      <td>First</td>\n      <td>man</td>\n      <td>True</td>\n      <td>C</td>\n      <td>Southampton</td>\n      <td>True</td>\n      <td>False</td>\n    </tr>\n    <tr>\n      <th>...</th>\n      <td>...</td>\n      <td>...</td>\n      <td>...</td>\n      <td>...</td>\n      <td>...</td>\n      <td>...</td>\n      <td>...</td>\n      <td>...</td>\n      <td>...</td>\n      <td>...</td>\n      <td>...</td>\n      <td>...</td>\n      <td>...</td>\n      <td>...</td>\n      <td>...</td>\n    </tr>\n    <tr>\n      <th>633</th>\n      <td>False</td>\n      <td>1</td>\n      <td>male</td>\n      <td>NaN</td>\n      <td>0</td>\n      <td>0</td>\n      <td>0.0000</td>\n      <td>S</td>\n      <td>First</td>\n      <td>man</td>\n      <td>True</td>\n      <td>NaN</td>\n      <td>Southampton</td>\n      <td>True</td>\n      <td>True</td>\n    </tr>\n    <tr>\n      <th>413</th>\n      <td>False</td>\n      <td>2</td>\n      <td>male</td>\n      <td>NaN</td>\n      <td>0</td>\n      <td>0</td>\n      <td>0.0000</td>\n      <td>S</td>\n      <td>Second</td>\n      <td>man</td>\n      <td>True</td>\n      <td>NaN</td>\n      <td>Southampton</td>\n      <td>True</td>\n      <td>True</td>\n    </tr>\n    <tr>\n      <th>822</th>\n      <td>False</td>\n      <td>1</td>\n      <td>male</td>\n      <td>38.0</td>\n      <td>0</td>\n      <td>0</td>\n      <td>0.0000</td>\n      <td>S</td>\n      <td>First</td>\n      <td>man</td>\n      <td>True</td>\n      <td>NaN</td>\n      <td>Southampton</td>\n      <td>True</td>\n      <td>True</td>\n    </tr>\n    <tr>\n      <th>732</th>\n      <td>False</td>\n      <td>2</td>\n      <td>male</td>\n      <td>NaN</td>\n      <td>0</td>\n      <td>0</td>\n      <td>0.0000</td>\n      <td>S</td>\n      <td>Second</td>\n      <td>man</td>\n      <td>True</td>\n      <td>NaN</td>\n      <td>Southampton</td>\n      <td>True</td>\n      <td>True</td>\n    </tr>\n    <tr>\n      <th>674</th>\n      <td>False</td>\n      <td>2</td>\n      <td>male</td>\n      <td>NaN</td>\n      <td>0</td>\n      <td>0</td>\n      <td>0.0000</td>\n      <td>S</td>\n      <td>Second</td>\n      <td>man</td>\n      <td>True</td>\n      <td>NaN</td>\n      <td>Southampton</td>\n      <td>True</td>\n      <td>True</td>\n    </tr>\n  </tbody>\n</table>\n<p>891 rows × 15 columns</p>\n</div>"
     },
     "execution_count": 191,
     "metadata": {},
     "output_type": "execute_result"
    }
   ],
   "source": [
    "# show top ten most fair paid people in df\n",
    "df_top_fare = df.sort_values(by='fare', ascending=False)\n",
    "df_top_fare"
   ],
   "metadata": {
    "collapsed": false,
    "ExecuteTime": {
     "end_time": "2024-01-16T13:42:29.910396100Z",
     "start_time": "2024-01-16T13:42:29.867539600Z"
    }
   },
   "id": "68d3a3e874f1a53",
   "execution_count": 191
  },
  {
   "cell_type": "code",
   "outputs": [
    {
     "name": "stdout",
     "output_type": "stream",
     "text": [
      "0 달러 ~ 50 달러 지불한 730명 사람의 생존률 31.92%\n",
      "50 달러 ~ 100 달러 지불한 108명 사람의 생존률 64.81%\n",
      "100 달러 ~ 150 달러 지불한 24명 사람의 생존률 79.17%\n",
      "150 달러 ~ 200 달러 지불한 9명 사람의 생존률 66.67%\n",
      "200 달러 ~ 250 달러 지불한 11명 사람의 생존률 63.64%\n",
      "250 달러 ~ 300 달러 지불한 6명 사람의 생존률 66.67%\n",
      "500 달러 ~ 550 달러 지불한 3명 사람의 생존률 100.00%\n"
     ]
    }
   ],
   "source": [
    "def interval(j):\n",
    "    def survivalrate_fare(i, j):\n",
    "        # show people who paid fair between 100 and 150 inclusive both\n",
    "        df_top_fare_100_150 = len(df_top_fare[(df_top_fare['fare'] >= j * i) & (df_top_fare['fare'] < j * i + j)])\n",
    "        # show people who survived with above condtion\n",
    "        df_top_fare_100_150_survived = len(df_top_fare[(df_top_fare['fare'] >= j * i) & (df_top_fare['fare'] < j * i + j) & (df_top_fare['survived'])])\n",
    "        return (df_top_fare_100_150_survived /  df_top_fare_100_150 if  df_top_fare_100_150 != 0 else -1), df_top_fare_100_150\n",
    "    \n",
    "    for x in range(0, (int(df.fare.max()) // j) + 1):\n",
    "        result, people = survivalrate_fare(x, j)\n",
    "        if result >= 0:\n",
    "            print(f\"{j * x} 달러 ~ {j * x + j} 달러 지불한 {people}명 사람의 생존률 {result * 100:.2f}%\")\n",
    "interval(50)\n"
   ],
   "metadata": {
    "collapsed": false,
    "ExecuteTime": {
     "end_time": "2024-01-16T13:42:29.911398100Z",
     "start_time": "2024-01-16T13:42:29.884482700Z"
    }
   },
   "id": "ee627c2268aa2247",
   "execution_count": 192
  },
  {
   "cell_type": "code",
   "outputs": [
    {
     "name": "stdout",
     "output_type": "stream",
     "text": [
      "형제 0 명 608명 생존률 34.54%\n",
      "형제 1 명 209명 생존률 53.59%\n",
      "형제 2 명 28명 생존률 46.43%\n",
      "형제 3 명 16명 생존률 25.00%\n",
      "형제 4 명 18명 생존률 16.67%\n",
      "형제 5 명 5명 생존률 0.00%\n",
      "형제 8 명 7명 생존률 0.00%\n"
     ]
    }
   ],
   "source": [
    "for x in sorted(df['sibsp'].unique().tolist()):\n",
    "    class_mask = df['sibsp'] == x\n",
    "    total_class_mask = df[class_mask].shape[0]\n",
    "    survived_class = df[class_mask & df['survived']].shape[0]\n",
    "    print(f\"형제 {x} 명 {total_class_mask}명 생존률 {survived_class / total_class_mask * 100 :.2f}%\")"
   ],
   "metadata": {
    "collapsed": false,
    "ExecuteTime": {
     "end_time": "2024-01-16T13:42:29.962742700Z",
     "start_time": "2024-01-16T13:42:29.912394800Z"
    }
   },
   "id": "55c876bc0a977b67",
   "execution_count": 193
  },
  {
   "cell_type": "code",
   "outputs": [
    {
     "name": "stdout",
     "output_type": "stream",
     "text": [
      "보호자동승 0 명 678명 생존률 34.37%\n",
      "보호자동승 1 명 118명 생존률 55.08%\n",
      "보호자동승 2 명 80명 생존률 50.00%\n",
      "보호자동승 3 명 5명 생존률 60.00%\n",
      "보호자동승 4 명 4명 생존률 0.00%\n",
      "보호자동승 5 명 5명 생존률 20.00%\n",
      "보호자동승 6 명 1명 생존률 0.00%\n"
     ]
    }
   ],
   "source": [
    "for x in sorted(df['parch'].unique().tolist()):\n",
    "    class_mask = df['parch'] == x\n",
    "    total_class_mask = df[class_mask].shape[0]\n",
    "    survived_class = df[class_mask & df['survived']].shape[0]\n",
    "    print(f\"보호자동승 {x} 명 {total_class_mask}명 생존률 {survived_class / total_class_mask * 100 :.2f}%\")\n",
    "    "
   ],
   "metadata": {
    "collapsed": false,
    "ExecuteTime": {
     "end_time": "2024-01-16T13:42:30.029085900Z",
     "start_time": "2024-01-16T13:42:29.952772Z"
    }
   },
   "id": "64bf68255d4806af",
   "execution_count": 194
  },
  {
   "cell_type": "code",
   "outputs": [
    {
     "name": "stdout",
     "output_type": "stream",
     "text": [
      "남자 비율 64.76%\n",
      "여자 비율 35.24%\n"
     ]
    }
   ],
   "source": [
    "# percentage of male and female in df\n",
    "print(f\"남자 비율 {len(df[df['sex'] == 'male']) / len(df) * 100:.2f}%\")\n",
    "print(f\"여자 비율 {len(df[df['sex'] == 'female']) / len(df) * 100:.2f}%\")"
   ],
   "metadata": {
    "collapsed": false,
    "ExecuteTime": {
     "end_time": "2024-01-16T13:42:30.053007900Z",
     "start_time": "2024-01-16T13:42:29.998617700Z"
    }
   },
   "id": "ae1f24ecb3ec7fbc",
   "execution_count": 195
  },
  {
   "cell_type": "code",
   "outputs": [],
   "source": [],
   "metadata": {
    "collapsed": false,
    "ExecuteTime": {
     "end_time": "2024-01-16T13:42:30.092873700Z",
     "start_time": "2024-01-16T13:42:30.055000600Z"
    }
   },
   "id": "ef8ae0fc56e67e6d",
   "execution_count": 195
  }
 ],
 "metadata": {
  "kernelspec": {
   "display_name": "Python 3",
   "language": "python",
   "name": "python3"
  },
  "language_info": {
   "codemirror_mode": {
    "name": "ipython",
    "version": 2
   },
   "file_extension": ".py",
   "mimetype": "text/x-python",
   "name": "python",
   "nbconvert_exporter": "python",
   "pygments_lexer": "ipython2",
   "version": "2.7.6"
  }
 },
 "nbformat": 4,
 "nbformat_minor": 5
}
