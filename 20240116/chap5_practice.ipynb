{
 "cells": [
  {
   "cell_type": "code",
   "execution_count": 51,
   "id": "initial_id",
   "metadata": {
    "collapsed": true,
    "ExecuteTime": {
     "end_time": "2024-01-16T08:30:11.962647400Z",
     "start_time": "2024-01-16T08:30:11.892735600Z"
    }
   },
   "outputs": [],
   "source": [
    "import  pandas as pd"
   ]
  },
  {
   "cell_type": "code",
   "outputs": [
    {
     "data": {
      "text/plain": "  First Name  Gender Start Date    Salary   Mgmt       Team\n0    Douglas    Male     8/6/93       NaN   True  Marketing\n1     Thomas    Male    3/31/96   61933.0   True        NaN\n2      Maria  Female        NaN  130590.0  False    Finance\n3      Jerry     NaN     3/4/05  138705.0   True    Finance\n4      Larry    Male    1/24/98  101004.0   True         IT",
      "text/html": "<div>\n<style scoped>\n    .dataframe tbody tr th:only-of-type {\n        vertical-align: middle;\n    }\n\n    .dataframe tbody tr th {\n        vertical-align: top;\n    }\n\n    .dataframe thead th {\n        text-align: right;\n    }\n</style>\n<table border=\"1\" class=\"dataframe\">\n  <thead>\n    <tr style=\"text-align: right;\">\n      <th></th>\n      <th>First Name</th>\n      <th>Gender</th>\n      <th>Start Date</th>\n      <th>Salary</th>\n      <th>Mgmt</th>\n      <th>Team</th>\n    </tr>\n  </thead>\n  <tbody>\n    <tr>\n      <th>0</th>\n      <td>Douglas</td>\n      <td>Male</td>\n      <td>8/6/93</td>\n      <td>NaN</td>\n      <td>True</td>\n      <td>Marketing</td>\n    </tr>\n    <tr>\n      <th>1</th>\n      <td>Thomas</td>\n      <td>Male</td>\n      <td>3/31/96</td>\n      <td>61933.0</td>\n      <td>True</td>\n      <td>NaN</td>\n    </tr>\n    <tr>\n      <th>2</th>\n      <td>Maria</td>\n      <td>Female</td>\n      <td>NaN</td>\n      <td>130590.0</td>\n      <td>False</td>\n      <td>Finance</td>\n    </tr>\n    <tr>\n      <th>3</th>\n      <td>Jerry</td>\n      <td>NaN</td>\n      <td>3/4/05</td>\n      <td>138705.0</td>\n      <td>True</td>\n      <td>Finance</td>\n    </tr>\n    <tr>\n      <th>4</th>\n      <td>Larry</td>\n      <td>Male</td>\n      <td>1/24/98</td>\n      <td>101004.0</td>\n      <td>True</td>\n      <td>IT</td>\n    </tr>\n  </tbody>\n</table>\n</div>"
     },
     "execution_count": 52,
     "metadata": {},
     "output_type": "execute_result"
    }
   ],
   "source": [
    "file = '../DATA/employees.csv'\n",
    "df = pd.read_csv(file)\n",
    "df.head()"
   ],
   "metadata": {
    "collapsed": false,
    "ExecuteTime": {
     "end_time": "2024-01-16T08:30:12.027537100Z",
     "start_time": "2024-01-16T08:30:11.965507700Z"
    }
   },
   "id": "1272de8fdb143196",
   "execution_count": 52
  },
  {
   "cell_type": "code",
   "outputs": [
    {
     "data": {
      "text/plain": "(1001, 6)"
     },
     "execution_count": 53,
     "metadata": {},
     "output_type": "execute_result"
    }
   ],
   "source": [
    "df.shape"
   ],
   "metadata": {
    "collapsed": false,
    "ExecuteTime": {
     "end_time": "2024-01-16T08:30:12.079583300Z",
     "start_time": "2024-01-16T08:30:12.029536700Z"
    }
   },
   "id": "7391f4659d29f704",
   "execution_count": 53
  },
  {
   "cell_type": "code",
   "outputs": [],
   "source": [
    "employees = df"
   ],
   "metadata": {
    "collapsed": false,
    "ExecuteTime": {
     "end_time": "2024-01-16T08:30:12.133585500Z",
     "start_time": "2024-01-16T08:30:12.064583800Z"
    }
   },
   "id": "ab1c1addd422d55b",
   "execution_count": 54
  },
  {
   "cell_type": "code",
   "outputs": [
    {
     "data": {
      "text/plain": "0        True\n1        True\n2       False\n3        True\n4        True\n        ...  \n996     False\n997     False\n998     False\n999      True\n1000     True\nName: Mgmt, Length: 1001, dtype: bool"
     },
     "execution_count": 55,
     "metadata": {},
     "output_type": "execute_result"
    }
   ],
   "source": [
    "employees['Mgmt'].astype(bool)"
   ],
   "metadata": {
    "collapsed": false,
    "ExecuteTime": {
     "end_time": "2024-01-16T08:30:12.146108400Z",
     "start_time": "2024-01-16T08:30:12.114585400Z"
    }
   },
   "id": "c3ef1c1f972beebb",
   "execution_count": 55
  },
  {
   "cell_type": "code",
   "outputs": [],
   "source": [
    "# change Mgmt type into bool\n",
    "employees['Mgmt'] = employees['Mgmt'].astype(bool)\n"
   ],
   "metadata": {
    "collapsed": false,
    "ExecuteTime": {
     "end_time": "2024-01-16T08:30:12.173670900Z",
     "start_time": "2024-01-16T08:30:12.149108600Z"
    }
   },
   "id": "349a8af22f7536b4",
   "execution_count": 56
  },
  {
   "cell_type": "code",
   "outputs": [],
   "source": [
    "# change na in salary into 0\n",
    "employees['Salary'] = employees['Salary'].fillna(0).astype('int')"
   ],
   "metadata": {
    "collapsed": false,
    "ExecuteTime": {
     "end_time": "2024-01-16T08:30:12.194689300Z",
     "start_time": "2024-01-16T08:30:12.174668500Z"
    }
   },
   "id": "630516c022c05912",
   "execution_count": 57
  },
  {
   "cell_type": "code",
   "outputs": [
    {
     "data": {
      "text/plain": "     First Name Gender Start Date  Salary   Mgmt          Team\n997     Russell   Male    5/20/13   96914  False       Product\n998       Larry   Male    4/20/13   60500  False  Business Dev\n999      Albert   Male    5/15/12  129949   True         Sales\n1000        NaN    NaN        NaN       0   True           NaN",
      "text/html": "<div>\n<style scoped>\n    .dataframe tbody tr th:only-of-type {\n        vertical-align: middle;\n    }\n\n    .dataframe tbody tr th {\n        vertical-align: top;\n    }\n\n    .dataframe thead th {\n        text-align: right;\n    }\n</style>\n<table border=\"1\" class=\"dataframe\">\n  <thead>\n    <tr style=\"text-align: right;\">\n      <th></th>\n      <th>First Name</th>\n      <th>Gender</th>\n      <th>Start Date</th>\n      <th>Salary</th>\n      <th>Mgmt</th>\n      <th>Team</th>\n    </tr>\n  </thead>\n  <tbody>\n    <tr>\n      <th>997</th>\n      <td>Russell</td>\n      <td>Male</td>\n      <td>5/20/13</td>\n      <td>96914</td>\n      <td>False</td>\n      <td>Product</td>\n    </tr>\n    <tr>\n      <th>998</th>\n      <td>Larry</td>\n      <td>Male</td>\n      <td>4/20/13</td>\n      <td>60500</td>\n      <td>False</td>\n      <td>Business Dev</td>\n    </tr>\n    <tr>\n      <th>999</th>\n      <td>Albert</td>\n      <td>Male</td>\n      <td>5/15/12</td>\n      <td>129949</td>\n      <td>True</td>\n      <td>Sales</td>\n    </tr>\n    <tr>\n      <th>1000</th>\n      <td>NaN</td>\n      <td>NaN</td>\n      <td>NaN</td>\n      <td>0</td>\n      <td>True</td>\n      <td>NaN</td>\n    </tr>\n  </tbody>\n</table>\n</div>"
     },
     "execution_count": 58,
     "metadata": {},
     "output_type": "execute_result"
    }
   ],
   "source": [
    "employees.tail(4)"
   ],
   "metadata": {
    "collapsed": false,
    "ExecuteTime": {
     "end_time": "2024-01-16T08:30:12.230780900Z",
     "start_time": "2024-01-16T08:30:12.199248700Z"
    }
   },
   "id": "de05b7768fba608c",
   "execution_count": 58
  },
  {
   "cell_type": "code",
   "outputs": [],
   "source": [
    "# change Gender column dtype as category\n",
    "employees['Gender'] = employees['Gender'].astype('category')\n"
   ],
   "metadata": {
    "collapsed": false,
    "ExecuteTime": {
     "end_time": "2024-01-16T08:30:12.258290400Z",
     "start_time": "2024-01-16T08:30:12.216758700Z"
    }
   },
   "id": "f2f5f45d7a23c41a",
   "execution_count": 59
  },
  {
   "cell_type": "code",
   "outputs": [
    {
     "name": "stdout",
     "output_type": "stream",
     "text": [
      "<class 'pandas.core.frame.DataFrame'>\n",
      "RangeIndex: 1001 entries, 0 to 1000\n",
      "Data columns (total 6 columns):\n",
      " #   Column      Non-Null Count  Dtype   \n",
      "---  ------      --------------  -----   \n",
      " 0   First Name  933 non-null    object  \n",
      " 1   Gender      854 non-null    category\n",
      " 2   Start Date  999 non-null    object  \n",
      " 3   Salary      1001 non-null   int32   \n",
      " 4   Mgmt        1001 non-null   bool    \n",
      " 5   Team        957 non-null    object  \n",
      "dtypes: bool(1), category(1), int32(1), object(3)\n",
      "memory usage: 29.6+ KB\n"
     ]
    }
   ],
   "source": [
    "employees.info()"
   ],
   "metadata": {
    "collapsed": false,
    "ExecuteTime": {
     "end_time": "2024-01-16T08:30:12.283291100Z",
     "start_time": "2024-01-16T08:30:12.236779200Z"
    }
   },
   "id": "7650a35492aa5bb2",
   "execution_count": 60
  },
  {
   "cell_type": "code",
   "outputs": [],
   "source": [
    "# change team col into category dtype\n",
    "employees['Team'] = employees['Team'].astype('category')"
   ],
   "metadata": {
    "collapsed": false,
    "ExecuteTime": {
     "end_time": "2024-01-16T08:30:12.325290900Z",
     "start_time": "2024-01-16T08:30:12.262290600Z"
    }
   },
   "id": "e8f7931f1854a2f7",
   "execution_count": 61
  },
  {
   "cell_type": "code",
   "outputs": [
    {
     "name": "stdout",
     "output_type": "stream",
     "text": [
      "<class 'pandas.core.frame.DataFrame'>\n",
      "RangeIndex: 1001 entries, 0 to 1000\n",
      "Data columns (total 6 columns):\n",
      " #   Column      Non-Null Count  Dtype   \n",
      "---  ------      --------------  -----   \n",
      " 0   First Name  933 non-null    object  \n",
      " 1   Gender      854 non-null    category\n",
      " 2   Start Date  999 non-null    object  \n",
      " 3   Salary      1001 non-null   int32   \n",
      " 4   Mgmt        1001 non-null   bool    \n",
      " 5   Team        957 non-null    category\n",
      "dtypes: bool(1), category(2), int32(1), object(2)\n",
      "memory usage: 23.1+ KB\n"
     ]
    }
   ],
   "source": [
    "employees.info()"
   ],
   "metadata": {
    "collapsed": false,
    "ExecuteTime": {
     "end_time": "2024-01-16T08:30:12.356833700Z",
     "start_time": "2024-01-16T08:30:12.291291300Z"
    }
   },
   "id": "e06d46be32a20e2d",
   "execution_count": 62
  },
  {
   "cell_type": "code",
   "outputs": [
    {
     "data": {
      "text/plain": "    First Name  Gender Start Date  Salary   Mgmt          Team\n2        Maria  Female        NaN  130590  False       Finance\n198      Maria  Female   12/27/90   36067   True       Product\n815      Maria     NaN    1/18/86  106562  False            HR\n844      Maria     NaN    6/19/85  148857  False         Legal\n936      Maria  Female    3/14/03   96250  False  Business Dev\n984      Maria  Female   10/15/11   43455  False   Engineering",
      "text/html": "<div>\n<style scoped>\n    .dataframe tbody tr th:only-of-type {\n        vertical-align: middle;\n    }\n\n    .dataframe tbody tr th {\n        vertical-align: top;\n    }\n\n    .dataframe thead th {\n        text-align: right;\n    }\n</style>\n<table border=\"1\" class=\"dataframe\">\n  <thead>\n    <tr style=\"text-align: right;\">\n      <th></th>\n      <th>First Name</th>\n      <th>Gender</th>\n      <th>Start Date</th>\n      <th>Salary</th>\n      <th>Mgmt</th>\n      <th>Team</th>\n    </tr>\n  </thead>\n  <tbody>\n    <tr>\n      <th>2</th>\n      <td>Maria</td>\n      <td>Female</td>\n      <td>NaN</td>\n      <td>130590</td>\n      <td>False</td>\n      <td>Finance</td>\n    </tr>\n    <tr>\n      <th>198</th>\n      <td>Maria</td>\n      <td>Female</td>\n      <td>12/27/90</td>\n      <td>36067</td>\n      <td>True</td>\n      <td>Product</td>\n    </tr>\n    <tr>\n      <th>815</th>\n      <td>Maria</td>\n      <td>NaN</td>\n      <td>1/18/86</td>\n      <td>106562</td>\n      <td>False</td>\n      <td>HR</td>\n    </tr>\n    <tr>\n      <th>844</th>\n      <td>Maria</td>\n      <td>NaN</td>\n      <td>6/19/85</td>\n      <td>148857</td>\n      <td>False</td>\n      <td>Legal</td>\n    </tr>\n    <tr>\n      <th>936</th>\n      <td>Maria</td>\n      <td>Female</td>\n      <td>3/14/03</td>\n      <td>96250</td>\n      <td>False</td>\n      <td>Business Dev</td>\n    </tr>\n    <tr>\n      <th>984</th>\n      <td>Maria</td>\n      <td>Female</td>\n      <td>10/15/11</td>\n      <td>43455</td>\n      <td>False</td>\n      <td>Engineering</td>\n    </tr>\n  </tbody>\n</table>\n</div>"
     },
     "execution_count": 63,
     "metadata": {},
     "output_type": "execute_result"
    }
   ],
   "source": [
    "# get people who's  First name is Maria\n",
    "employees[employees['First Name'] == 'Maria']"
   ],
   "metadata": {
    "collapsed": false,
    "ExecuteTime": {
     "end_time": "2024-01-16T08:30:12.393838900Z",
     "start_time": "2024-01-16T08:30:12.363833800Z"
    }
   },
   "id": "9637ebfdf6840cbf",
   "execution_count": 63
  },
  {
   "cell_type": "code",
   "outputs": [],
   "source": [
    "# save only condition which find Maria in First Name\n",
    "employees_maria = employees['First Name'] == 'Maria'"
   ],
   "metadata": {
    "collapsed": false,
    "ExecuteTime": {
     "end_time": "2024-01-16T08:30:12.456472900Z",
     "start_time": "2024-01-16T08:30:12.394838500Z"
    }
   },
   "id": "7e0dd28f377fa48",
   "execution_count": 64
  },
  {
   "cell_type": "code",
   "outputs": [
    {
     "data": {
      "text/plain": "    First Name  Gender Start Date  Salary   Mgmt          Team\n2        Maria  Female        NaN  130590  False       Finance\n198      Maria  Female   12/27/90   36067   True       Product\n815      Maria     NaN    1/18/86  106562  False            HR\n844      Maria     NaN    6/19/85  148857  False         Legal\n936      Maria  Female    3/14/03   96250  False  Business Dev\n984      Maria  Female   10/15/11   43455  False   Engineering",
      "text/html": "<div>\n<style scoped>\n    .dataframe tbody tr th:only-of-type {\n        vertical-align: middle;\n    }\n\n    .dataframe tbody tr th {\n        vertical-align: top;\n    }\n\n    .dataframe thead th {\n        text-align: right;\n    }\n</style>\n<table border=\"1\" class=\"dataframe\">\n  <thead>\n    <tr style=\"text-align: right;\">\n      <th></th>\n      <th>First Name</th>\n      <th>Gender</th>\n      <th>Start Date</th>\n      <th>Salary</th>\n      <th>Mgmt</th>\n      <th>Team</th>\n    </tr>\n  </thead>\n  <tbody>\n    <tr>\n      <th>2</th>\n      <td>Maria</td>\n      <td>Female</td>\n      <td>NaN</td>\n      <td>130590</td>\n      <td>False</td>\n      <td>Finance</td>\n    </tr>\n    <tr>\n      <th>198</th>\n      <td>Maria</td>\n      <td>Female</td>\n      <td>12/27/90</td>\n      <td>36067</td>\n      <td>True</td>\n      <td>Product</td>\n    </tr>\n    <tr>\n      <th>815</th>\n      <td>Maria</td>\n      <td>NaN</td>\n      <td>1/18/86</td>\n      <td>106562</td>\n      <td>False</td>\n      <td>HR</td>\n    </tr>\n    <tr>\n      <th>844</th>\n      <td>Maria</td>\n      <td>NaN</td>\n      <td>6/19/85</td>\n      <td>148857</td>\n      <td>False</td>\n      <td>Legal</td>\n    </tr>\n    <tr>\n      <th>936</th>\n      <td>Maria</td>\n      <td>Female</td>\n      <td>3/14/03</td>\n      <td>96250</td>\n      <td>False</td>\n      <td>Business Dev</td>\n    </tr>\n    <tr>\n      <th>984</th>\n      <td>Maria</td>\n      <td>Female</td>\n      <td>10/15/11</td>\n      <td>43455</td>\n      <td>False</td>\n      <td>Engineering</td>\n    </tr>\n  </tbody>\n</table>\n</div>"
     },
     "execution_count": 65,
     "metadata": {},
     "output_type": "execute_result"
    }
   ],
   "source": [
    "# find data using employees_maria\n",
    "employees[employees_maria]"
   ],
   "metadata": {
    "collapsed": false,
    "ExecuteTime": {
     "end_time": "2024-01-16T08:30:12.510461400Z",
     "start_time": "2024-01-16T08:30:12.434337900Z"
    }
   },
   "id": "b3a4910e473e2d74",
   "execution_count": 65
  },
  {
   "cell_type": "code",
   "outputs": [
    {
     "data": {
      "text/plain": "     First Name  Gender Start Date  Salary   Mgmt          Team\n0       Douglas    Male     8/6/93       0   True     Marketing\n1        Thomas    Male    3/31/96   61933   True           NaN\n4         Larry    Male    1/24/98  101004   True            IT\n5        Dennis    Male    4/18/87  115163  False         Legal\n6          Ruby  Female    8/17/87   65476   True       Product\n...         ...     ...        ...     ...    ...           ...\n995       Henry     NaN   11/23/14  132483  False  Distribution\n997     Russell    Male    5/20/13   96914  False       Product\n998       Larry    Male    4/20/13   60500  False  Business Dev\n999      Albert    Male    5/15/12  129949   True         Sales\n1000        NaN     NaN        NaN       0   True           NaN\n\n[899 rows x 6 columns]",
      "text/html": "<div>\n<style scoped>\n    .dataframe tbody tr th:only-of-type {\n        vertical-align: middle;\n    }\n\n    .dataframe tbody tr th {\n        vertical-align: top;\n    }\n\n    .dataframe thead th {\n        text-align: right;\n    }\n</style>\n<table border=\"1\" class=\"dataframe\">\n  <thead>\n    <tr style=\"text-align: right;\">\n      <th></th>\n      <th>First Name</th>\n      <th>Gender</th>\n      <th>Start Date</th>\n      <th>Salary</th>\n      <th>Mgmt</th>\n      <th>Team</th>\n    </tr>\n  </thead>\n  <tbody>\n    <tr>\n      <th>0</th>\n      <td>Douglas</td>\n      <td>Male</td>\n      <td>8/6/93</td>\n      <td>0</td>\n      <td>True</td>\n      <td>Marketing</td>\n    </tr>\n    <tr>\n      <th>1</th>\n      <td>Thomas</td>\n      <td>Male</td>\n      <td>3/31/96</td>\n      <td>61933</td>\n      <td>True</td>\n      <td>NaN</td>\n    </tr>\n    <tr>\n      <th>4</th>\n      <td>Larry</td>\n      <td>Male</td>\n      <td>1/24/98</td>\n      <td>101004</td>\n      <td>True</td>\n      <td>IT</td>\n    </tr>\n    <tr>\n      <th>5</th>\n      <td>Dennis</td>\n      <td>Male</td>\n      <td>4/18/87</td>\n      <td>115163</td>\n      <td>False</td>\n      <td>Legal</td>\n    </tr>\n    <tr>\n      <th>6</th>\n      <td>Ruby</td>\n      <td>Female</td>\n      <td>8/17/87</td>\n      <td>65476</td>\n      <td>True</td>\n      <td>Product</td>\n    </tr>\n    <tr>\n      <th>...</th>\n      <td>...</td>\n      <td>...</td>\n      <td>...</td>\n      <td>...</td>\n      <td>...</td>\n      <td>...</td>\n    </tr>\n    <tr>\n      <th>995</th>\n      <td>Henry</td>\n      <td>NaN</td>\n      <td>11/23/14</td>\n      <td>132483</td>\n      <td>False</td>\n      <td>Distribution</td>\n    </tr>\n    <tr>\n      <th>997</th>\n      <td>Russell</td>\n      <td>Male</td>\n      <td>5/20/13</td>\n      <td>96914</td>\n      <td>False</td>\n      <td>Product</td>\n    </tr>\n    <tr>\n      <th>998</th>\n      <td>Larry</td>\n      <td>Male</td>\n      <td>4/20/13</td>\n      <td>60500</td>\n      <td>False</td>\n      <td>Business Dev</td>\n    </tr>\n    <tr>\n      <th>999</th>\n      <td>Albert</td>\n      <td>Male</td>\n      <td>5/15/12</td>\n      <td>129949</td>\n      <td>True</td>\n      <td>Sales</td>\n    </tr>\n    <tr>\n      <th>1000</th>\n      <td>NaN</td>\n      <td>NaN</td>\n      <td>NaN</td>\n      <td>0</td>\n      <td>True</td>\n      <td>NaN</td>\n    </tr>\n  </tbody>\n</table>\n<p>899 rows × 6 columns</p>\n</div>"
     },
     "execution_count": 66,
     "metadata": {},
     "output_type": "execute_result"
    }
   ],
   "source": [
    "# list all people who's job is not Finance\n",
    "employees[employees['Team'] != 'Finance']"
   ],
   "metadata": {
    "collapsed": false,
    "ExecuteTime": {
     "end_time": "2024-01-16T08:30:12.518458Z",
     "start_time": "2024-01-16T08:30:12.487366500Z"
    }
   },
   "id": "3235eab544e98164",
   "execution_count": 66
  },
  {
   "cell_type": "code",
   "outputs": [
    {
     "data": {
      "text/plain": "     First Name  Gender Start Date  Salary  Mgmt         Team\n0       Douglas    Male     8/6/93       0  True    Marketing\n1        Thomas    Male    3/31/96   61933  True          NaN\n3         Jerry     NaN     3/4/05  138705  True      Finance\n4         Larry    Male    1/24/98  101004  True           IT\n6          Ruby  Female    8/17/87   65476  True      Product\n...         ...     ...        ...     ...   ...          ...\n992     Anthony    Male   10/16/11  112769  True      Finance\n993        Tina  Female    5/15/97   56450  True  Engineering\n994      George    Male    6/21/13   98874  True    Marketing\n999      Albert    Male    5/15/12  129949  True        Sales\n1000        NaN     NaN        NaN       0  True          NaN\n\n[536 rows x 6 columns]",
      "text/html": "<div>\n<style scoped>\n    .dataframe tbody tr th:only-of-type {\n        vertical-align: middle;\n    }\n\n    .dataframe tbody tr th {\n        vertical-align: top;\n    }\n\n    .dataframe thead th {\n        text-align: right;\n    }\n</style>\n<table border=\"1\" class=\"dataframe\">\n  <thead>\n    <tr style=\"text-align: right;\">\n      <th></th>\n      <th>First Name</th>\n      <th>Gender</th>\n      <th>Start Date</th>\n      <th>Salary</th>\n      <th>Mgmt</th>\n      <th>Team</th>\n    </tr>\n  </thead>\n  <tbody>\n    <tr>\n      <th>0</th>\n      <td>Douglas</td>\n      <td>Male</td>\n      <td>8/6/93</td>\n      <td>0</td>\n      <td>True</td>\n      <td>Marketing</td>\n    </tr>\n    <tr>\n      <th>1</th>\n      <td>Thomas</td>\n      <td>Male</td>\n      <td>3/31/96</td>\n      <td>61933</td>\n      <td>True</td>\n      <td>NaN</td>\n    </tr>\n    <tr>\n      <th>3</th>\n      <td>Jerry</td>\n      <td>NaN</td>\n      <td>3/4/05</td>\n      <td>138705</td>\n      <td>True</td>\n      <td>Finance</td>\n    </tr>\n    <tr>\n      <th>4</th>\n      <td>Larry</td>\n      <td>Male</td>\n      <td>1/24/98</td>\n      <td>101004</td>\n      <td>True</td>\n      <td>IT</td>\n    </tr>\n    <tr>\n      <th>6</th>\n      <td>Ruby</td>\n      <td>Female</td>\n      <td>8/17/87</td>\n      <td>65476</td>\n      <td>True</td>\n      <td>Product</td>\n    </tr>\n    <tr>\n      <th>...</th>\n      <td>...</td>\n      <td>...</td>\n      <td>...</td>\n      <td>...</td>\n      <td>...</td>\n      <td>...</td>\n    </tr>\n    <tr>\n      <th>992</th>\n      <td>Anthony</td>\n      <td>Male</td>\n      <td>10/16/11</td>\n      <td>112769</td>\n      <td>True</td>\n      <td>Finance</td>\n    </tr>\n    <tr>\n      <th>993</th>\n      <td>Tina</td>\n      <td>Female</td>\n      <td>5/15/97</td>\n      <td>56450</td>\n      <td>True</td>\n      <td>Engineering</td>\n    </tr>\n    <tr>\n      <th>994</th>\n      <td>George</td>\n      <td>Male</td>\n      <td>6/21/13</td>\n      <td>98874</td>\n      <td>True</td>\n      <td>Marketing</td>\n    </tr>\n    <tr>\n      <th>999</th>\n      <td>Albert</td>\n      <td>Male</td>\n      <td>5/15/12</td>\n      <td>129949</td>\n      <td>True</td>\n      <td>Sales</td>\n    </tr>\n    <tr>\n      <th>1000</th>\n      <td>NaN</td>\n      <td>NaN</td>\n      <td>NaN</td>\n      <td>0</td>\n      <td>True</td>\n      <td>NaN</td>\n    </tr>\n  </tbody>\n</table>\n<p>536 rows × 6 columns</p>\n</div>"
     },
     "execution_count": 67,
     "metadata": {},
     "output_type": "execute_result"
    }
   ],
   "source": [
    "# find poeple who's Mgmt is True\n",
    "employees[employees['Mgmt'] == True]"
   ],
   "metadata": {
    "collapsed": false,
    "ExecuteTime": {
     "end_time": "2024-01-16T08:30:12.593002600Z",
     "start_time": "2024-01-16T08:30:12.520457600Z"
    }
   },
   "id": "6c2f9e130f584ce2",
   "execution_count": 67
  },
  {
   "cell_type": "code",
   "outputs": [
    {
     "data": {
      "text/plain": "0    False\n1    False\n2     True\n3     True\n4     True\nName: Salary, dtype: bool"
     },
     "execution_count": 68,
     "metadata": {},
     "output_type": "execute_result"
    }
   ],
   "source": [
    "# save mark condition only which find Salary is more than 100000\n",
    "employees_salary_mark = employees['Salary'] > 100000\n",
    "employees_salary_mark.head()"
   ],
   "metadata": {
    "collapsed": false,
    "ExecuteTime": {
     "end_time": "2024-01-16T08:30:12.645589700Z",
     "start_time": "2024-01-16T08:30:12.554003500Z"
    }
   },
   "id": "b72e87fd46836ab4",
   "execution_count": 68
  },
  {
   "cell_type": "code",
   "outputs": [
    {
     "data": {
      "text/plain": "    First Name  Gender Start Date  Salary   Mgmt          Team\n9      Frances  Female     8/8/02  139852   True  Business Dev\n33        Jean  Female   12/18/93  119082  False  Business Dev\n36      Rachel  Female    2/16/09  142032  False  Business Dev\n38   Stephanie  Female    9/13/86   36844   True  Business Dev\n61      Denise  Female    11/6/01  106862  False  Business Dev\n66       Nancy  Female   12/15/12  125250   True  Business Dev\n92       Linda  Female    5/25/00  119009   True  Business Dev\n111     Bonnie  Female   12/17/99   42153   True  Business Dev\n114     Ashley  Female     8/4/02   58698   True  Business Dev\n118     Andrea  Female    1/12/12  120204  False  Business Dev\n134    Carolyn  Female     4/9/11  109260   True  Business Dev\n155      Marie  Female    3/16/03  104058   True  Business Dev\n164       Mary  Female    8/13/99  134645  False  Business Dev\n182    Lillian  Female    6/19/99  123940   True  Business Dev\n203      Diana  Female     1/4/13  103521   True  Business Dev\n249      Betty  Female    6/12/02  104896   True  Business Dev\n275      Debra  Female    2/22/94  104250   True  Business Dev\n279       Ruby  Female    11/8/00  105946  False  Business Dev\n317      Kathy  Female   12/18/13  132381  False  Business Dev\n324       Ruby  Female   12/10/88   76707  False  Business Dev\n368    Marilyn  Female   12/17/82  147183  False  Business Dev\n370      Linda  Female    7/15/09  144001  False  Business Dev\n401      Norma  Female    4/16/96   38872   True  Business Dev\n406       Mary  Female    8/22/10   42214   True  Business Dev\n419    Dorothy  Female    11/5/13  140136   True  Business Dev\n441     Louise  Female    5/13/03   46666   True  Business Dev\n481        NaN  Female    4/27/13   93847   True  Business Dev\n487     Cheryl  Female    12/3/14   71751  False  Business Dev\n498      Diana  Female    6/13/94   41831  False  Business Dev\n509        Ann  Female    11/4/84   90719  False  Business Dev\n537    Cynthia  Female    9/14/91   51633   True  Business Dev\n583      Diane  Female     2/2/88   49501  False  Business Dev\n590     Andrea  Female   10/30/94   87575   True  Business Dev\n638    Frances  Female   11/12/96  112467  False  Business Dev\n735    Barbara  Female   11/26/02   82884   True  Business Dev\n746     Gloria  Female    8/19/04   46602   True  Business Dev\n748     Martha  Female    7/17/97   94963   True  Business Dev\n772    Lillian  Female    8/14/09  113554   True  Business Dev\n779      Doris  Female     9/8/84  114360   True  Business Dev\n802       Jane  Female    1/12/92   51923  False  Business Dev\n822    Deborah  Female    2/26/09  118043   True  Business Dev\n841       Ruby  Female    8/13/06   48354  False  Business Dev\n852      Diana  Female   11/19/04  105066   True  Business Dev\n859      Robin  Female    10/1/12   41808  False  Business Dev\n872     Brenda  Female    1/18/15   73749  False  Business Dev\n898       Jane  Female    4/27/12   59680   True  Business Dev\n916    Marilyn  Female    1/16/96  118369   True  Business Dev\n933      Doris  Female     7/5/93  141439  False  Business Dev\n936      Maria  Female    3/14/03   96250  False  Business Dev\n950      Paula  Female    5/21/83   58423  False  Business Dev",
      "text/html": "<div>\n<style scoped>\n    .dataframe tbody tr th:only-of-type {\n        vertical-align: middle;\n    }\n\n    .dataframe tbody tr th {\n        vertical-align: top;\n    }\n\n    .dataframe thead th {\n        text-align: right;\n    }\n</style>\n<table border=\"1\" class=\"dataframe\">\n  <thead>\n    <tr style=\"text-align: right;\">\n      <th></th>\n      <th>First Name</th>\n      <th>Gender</th>\n      <th>Start Date</th>\n      <th>Salary</th>\n      <th>Mgmt</th>\n      <th>Team</th>\n    </tr>\n  </thead>\n  <tbody>\n    <tr>\n      <th>9</th>\n      <td>Frances</td>\n      <td>Female</td>\n      <td>8/8/02</td>\n      <td>139852</td>\n      <td>True</td>\n      <td>Business Dev</td>\n    </tr>\n    <tr>\n      <th>33</th>\n      <td>Jean</td>\n      <td>Female</td>\n      <td>12/18/93</td>\n      <td>119082</td>\n      <td>False</td>\n      <td>Business Dev</td>\n    </tr>\n    <tr>\n      <th>36</th>\n      <td>Rachel</td>\n      <td>Female</td>\n      <td>2/16/09</td>\n      <td>142032</td>\n      <td>False</td>\n      <td>Business Dev</td>\n    </tr>\n    <tr>\n      <th>38</th>\n      <td>Stephanie</td>\n      <td>Female</td>\n      <td>9/13/86</td>\n      <td>36844</td>\n      <td>True</td>\n      <td>Business Dev</td>\n    </tr>\n    <tr>\n      <th>61</th>\n      <td>Denise</td>\n      <td>Female</td>\n      <td>11/6/01</td>\n      <td>106862</td>\n      <td>False</td>\n      <td>Business Dev</td>\n    </tr>\n    <tr>\n      <th>66</th>\n      <td>Nancy</td>\n      <td>Female</td>\n      <td>12/15/12</td>\n      <td>125250</td>\n      <td>True</td>\n      <td>Business Dev</td>\n    </tr>\n    <tr>\n      <th>92</th>\n      <td>Linda</td>\n      <td>Female</td>\n      <td>5/25/00</td>\n      <td>119009</td>\n      <td>True</td>\n      <td>Business Dev</td>\n    </tr>\n    <tr>\n      <th>111</th>\n      <td>Bonnie</td>\n      <td>Female</td>\n      <td>12/17/99</td>\n      <td>42153</td>\n      <td>True</td>\n      <td>Business Dev</td>\n    </tr>\n    <tr>\n      <th>114</th>\n      <td>Ashley</td>\n      <td>Female</td>\n      <td>8/4/02</td>\n      <td>58698</td>\n      <td>True</td>\n      <td>Business Dev</td>\n    </tr>\n    <tr>\n      <th>118</th>\n      <td>Andrea</td>\n      <td>Female</td>\n      <td>1/12/12</td>\n      <td>120204</td>\n      <td>False</td>\n      <td>Business Dev</td>\n    </tr>\n    <tr>\n      <th>134</th>\n      <td>Carolyn</td>\n      <td>Female</td>\n      <td>4/9/11</td>\n      <td>109260</td>\n      <td>True</td>\n      <td>Business Dev</td>\n    </tr>\n    <tr>\n      <th>155</th>\n      <td>Marie</td>\n      <td>Female</td>\n      <td>3/16/03</td>\n      <td>104058</td>\n      <td>True</td>\n      <td>Business Dev</td>\n    </tr>\n    <tr>\n      <th>164</th>\n      <td>Mary</td>\n      <td>Female</td>\n      <td>8/13/99</td>\n      <td>134645</td>\n      <td>False</td>\n      <td>Business Dev</td>\n    </tr>\n    <tr>\n      <th>182</th>\n      <td>Lillian</td>\n      <td>Female</td>\n      <td>6/19/99</td>\n      <td>123940</td>\n      <td>True</td>\n      <td>Business Dev</td>\n    </tr>\n    <tr>\n      <th>203</th>\n      <td>Diana</td>\n      <td>Female</td>\n      <td>1/4/13</td>\n      <td>103521</td>\n      <td>True</td>\n      <td>Business Dev</td>\n    </tr>\n    <tr>\n      <th>249</th>\n      <td>Betty</td>\n      <td>Female</td>\n      <td>6/12/02</td>\n      <td>104896</td>\n      <td>True</td>\n      <td>Business Dev</td>\n    </tr>\n    <tr>\n      <th>275</th>\n      <td>Debra</td>\n      <td>Female</td>\n      <td>2/22/94</td>\n      <td>104250</td>\n      <td>True</td>\n      <td>Business Dev</td>\n    </tr>\n    <tr>\n      <th>279</th>\n      <td>Ruby</td>\n      <td>Female</td>\n      <td>11/8/00</td>\n      <td>105946</td>\n      <td>False</td>\n      <td>Business Dev</td>\n    </tr>\n    <tr>\n      <th>317</th>\n      <td>Kathy</td>\n      <td>Female</td>\n      <td>12/18/13</td>\n      <td>132381</td>\n      <td>False</td>\n      <td>Business Dev</td>\n    </tr>\n    <tr>\n      <th>324</th>\n      <td>Ruby</td>\n      <td>Female</td>\n      <td>12/10/88</td>\n      <td>76707</td>\n      <td>False</td>\n      <td>Business Dev</td>\n    </tr>\n    <tr>\n      <th>368</th>\n      <td>Marilyn</td>\n      <td>Female</td>\n      <td>12/17/82</td>\n      <td>147183</td>\n      <td>False</td>\n      <td>Business Dev</td>\n    </tr>\n    <tr>\n      <th>370</th>\n      <td>Linda</td>\n      <td>Female</td>\n      <td>7/15/09</td>\n      <td>144001</td>\n      <td>False</td>\n      <td>Business Dev</td>\n    </tr>\n    <tr>\n      <th>401</th>\n      <td>Norma</td>\n      <td>Female</td>\n      <td>4/16/96</td>\n      <td>38872</td>\n      <td>True</td>\n      <td>Business Dev</td>\n    </tr>\n    <tr>\n      <th>406</th>\n      <td>Mary</td>\n      <td>Female</td>\n      <td>8/22/10</td>\n      <td>42214</td>\n      <td>True</td>\n      <td>Business Dev</td>\n    </tr>\n    <tr>\n      <th>419</th>\n      <td>Dorothy</td>\n      <td>Female</td>\n      <td>11/5/13</td>\n      <td>140136</td>\n      <td>True</td>\n      <td>Business Dev</td>\n    </tr>\n    <tr>\n      <th>441</th>\n      <td>Louise</td>\n      <td>Female</td>\n      <td>5/13/03</td>\n      <td>46666</td>\n      <td>True</td>\n      <td>Business Dev</td>\n    </tr>\n    <tr>\n      <th>481</th>\n      <td>NaN</td>\n      <td>Female</td>\n      <td>4/27/13</td>\n      <td>93847</td>\n      <td>True</td>\n      <td>Business Dev</td>\n    </tr>\n    <tr>\n      <th>487</th>\n      <td>Cheryl</td>\n      <td>Female</td>\n      <td>12/3/14</td>\n      <td>71751</td>\n      <td>False</td>\n      <td>Business Dev</td>\n    </tr>\n    <tr>\n      <th>498</th>\n      <td>Diana</td>\n      <td>Female</td>\n      <td>6/13/94</td>\n      <td>41831</td>\n      <td>False</td>\n      <td>Business Dev</td>\n    </tr>\n    <tr>\n      <th>509</th>\n      <td>Ann</td>\n      <td>Female</td>\n      <td>11/4/84</td>\n      <td>90719</td>\n      <td>False</td>\n      <td>Business Dev</td>\n    </tr>\n    <tr>\n      <th>537</th>\n      <td>Cynthia</td>\n      <td>Female</td>\n      <td>9/14/91</td>\n      <td>51633</td>\n      <td>True</td>\n      <td>Business Dev</td>\n    </tr>\n    <tr>\n      <th>583</th>\n      <td>Diane</td>\n      <td>Female</td>\n      <td>2/2/88</td>\n      <td>49501</td>\n      <td>False</td>\n      <td>Business Dev</td>\n    </tr>\n    <tr>\n      <th>590</th>\n      <td>Andrea</td>\n      <td>Female</td>\n      <td>10/30/94</td>\n      <td>87575</td>\n      <td>True</td>\n      <td>Business Dev</td>\n    </tr>\n    <tr>\n      <th>638</th>\n      <td>Frances</td>\n      <td>Female</td>\n      <td>11/12/96</td>\n      <td>112467</td>\n      <td>False</td>\n      <td>Business Dev</td>\n    </tr>\n    <tr>\n      <th>735</th>\n      <td>Barbara</td>\n      <td>Female</td>\n      <td>11/26/02</td>\n      <td>82884</td>\n      <td>True</td>\n      <td>Business Dev</td>\n    </tr>\n    <tr>\n      <th>746</th>\n      <td>Gloria</td>\n      <td>Female</td>\n      <td>8/19/04</td>\n      <td>46602</td>\n      <td>True</td>\n      <td>Business Dev</td>\n    </tr>\n    <tr>\n      <th>748</th>\n      <td>Martha</td>\n      <td>Female</td>\n      <td>7/17/97</td>\n      <td>94963</td>\n      <td>True</td>\n      <td>Business Dev</td>\n    </tr>\n    <tr>\n      <th>772</th>\n      <td>Lillian</td>\n      <td>Female</td>\n      <td>8/14/09</td>\n      <td>113554</td>\n      <td>True</td>\n      <td>Business Dev</td>\n    </tr>\n    <tr>\n      <th>779</th>\n      <td>Doris</td>\n      <td>Female</td>\n      <td>9/8/84</td>\n      <td>114360</td>\n      <td>True</td>\n      <td>Business Dev</td>\n    </tr>\n    <tr>\n      <th>802</th>\n      <td>Jane</td>\n      <td>Female</td>\n      <td>1/12/92</td>\n      <td>51923</td>\n      <td>False</td>\n      <td>Business Dev</td>\n    </tr>\n    <tr>\n      <th>822</th>\n      <td>Deborah</td>\n      <td>Female</td>\n      <td>2/26/09</td>\n      <td>118043</td>\n      <td>True</td>\n      <td>Business Dev</td>\n    </tr>\n    <tr>\n      <th>841</th>\n      <td>Ruby</td>\n      <td>Female</td>\n      <td>8/13/06</td>\n      <td>48354</td>\n      <td>False</td>\n      <td>Business Dev</td>\n    </tr>\n    <tr>\n      <th>852</th>\n      <td>Diana</td>\n      <td>Female</td>\n      <td>11/19/04</td>\n      <td>105066</td>\n      <td>True</td>\n      <td>Business Dev</td>\n    </tr>\n    <tr>\n      <th>859</th>\n      <td>Robin</td>\n      <td>Female</td>\n      <td>10/1/12</td>\n      <td>41808</td>\n      <td>False</td>\n      <td>Business Dev</td>\n    </tr>\n    <tr>\n      <th>872</th>\n      <td>Brenda</td>\n      <td>Female</td>\n      <td>1/18/15</td>\n      <td>73749</td>\n      <td>False</td>\n      <td>Business Dev</td>\n    </tr>\n    <tr>\n      <th>898</th>\n      <td>Jane</td>\n      <td>Female</td>\n      <td>4/27/12</td>\n      <td>59680</td>\n      <td>True</td>\n      <td>Business Dev</td>\n    </tr>\n    <tr>\n      <th>916</th>\n      <td>Marilyn</td>\n      <td>Female</td>\n      <td>1/16/96</td>\n      <td>118369</td>\n      <td>True</td>\n      <td>Business Dev</td>\n    </tr>\n    <tr>\n      <th>933</th>\n      <td>Doris</td>\n      <td>Female</td>\n      <td>7/5/93</td>\n      <td>141439</td>\n      <td>False</td>\n      <td>Business Dev</td>\n    </tr>\n    <tr>\n      <th>936</th>\n      <td>Maria</td>\n      <td>Female</td>\n      <td>3/14/03</td>\n      <td>96250</td>\n      <td>False</td>\n      <td>Business Dev</td>\n    </tr>\n    <tr>\n      <th>950</th>\n      <td>Paula</td>\n      <td>Female</td>\n      <td>5/21/83</td>\n      <td>58423</td>\n      <td>False</td>\n      <td>Business Dev</td>\n    </tr>\n  </tbody>\n</table>\n</div>"
     },
     "execution_count": 69,
     "metadata": {},
     "output_type": "execute_result"
    }
   ],
   "source": [
    "# find people who's Gender is female and belong to Business Dev team \n",
    "\n",
    "employees[\n",
    "    (employees['Gender'] == 'Female') &\n",
    "    (employees['Team'] == 'Business Dev')\n",
    "]\n",
    "\n",
    "# save two condition into separate mask variable\n",
    "gender_mask = employees['Gender'] == 'Female'\n",
    "team_mask = employees['Team'] == 'Business Dev'\n",
    "\n",
    "# make above two condition to find people\n",
    "employees[gender_mask & team_mask]"
   ],
   "metadata": {
    "collapsed": false,
    "ExecuteTime": {
     "end_time": "2024-01-16T08:30:12.743977Z",
     "start_time": "2024-01-16T08:30:12.619548300Z"
    }
   },
   "id": "a8df5cdb0ac175c8",
   "execution_count": 69
  },
  {
   "cell_type": "code",
   "outputs": [
    {
     "data": {
      "text/plain": "    First Name  Gender Start Date  Salary  Mgmt          Team\n9      Frances  Female     8/8/02  139852  True  Business Dev\n38   Stephanie  Female    9/13/86   36844  True  Business Dev\n66       Nancy  Female   12/15/12  125250  True  Business Dev\n92       Linda  Female    5/25/00  119009  True  Business Dev\n111     Bonnie  Female   12/17/99   42153  True  Business Dev\n114     Ashley  Female     8/4/02   58698  True  Business Dev\n134    Carolyn  Female     4/9/11  109260  True  Business Dev\n155      Marie  Female    3/16/03  104058  True  Business Dev\n182    Lillian  Female    6/19/99  123940  True  Business Dev\n203      Diana  Female     1/4/13  103521  True  Business Dev\n249      Betty  Female    6/12/02  104896  True  Business Dev\n275      Debra  Female    2/22/94  104250  True  Business Dev\n401      Norma  Female    4/16/96   38872  True  Business Dev\n406       Mary  Female    8/22/10   42214  True  Business Dev\n419    Dorothy  Female    11/5/13  140136  True  Business Dev\n441     Louise  Female    5/13/03   46666  True  Business Dev\n481        NaN  Female    4/27/13   93847  True  Business Dev\n537    Cynthia  Female    9/14/91   51633  True  Business Dev\n590     Andrea  Female   10/30/94   87575  True  Business Dev\n735    Barbara  Female   11/26/02   82884  True  Business Dev\n746     Gloria  Female    8/19/04   46602  True  Business Dev\n748     Martha  Female    7/17/97   94963  True  Business Dev\n772    Lillian  Female    8/14/09  113554  True  Business Dev\n779      Doris  Female     9/8/84  114360  True  Business Dev\n822    Deborah  Female    2/26/09  118043  True  Business Dev\n852      Diana  Female   11/19/04  105066  True  Business Dev\n898       Jane  Female    4/27/12   59680  True  Business Dev\n916    Marilyn  Female    1/16/96  118369  True  Business Dev",
      "text/html": "<div>\n<style scoped>\n    .dataframe tbody tr th:only-of-type {\n        vertical-align: middle;\n    }\n\n    .dataframe tbody tr th {\n        vertical-align: top;\n    }\n\n    .dataframe thead th {\n        text-align: right;\n    }\n</style>\n<table border=\"1\" class=\"dataframe\">\n  <thead>\n    <tr style=\"text-align: right;\">\n      <th></th>\n      <th>First Name</th>\n      <th>Gender</th>\n      <th>Start Date</th>\n      <th>Salary</th>\n      <th>Mgmt</th>\n      <th>Team</th>\n    </tr>\n  </thead>\n  <tbody>\n    <tr>\n      <th>9</th>\n      <td>Frances</td>\n      <td>Female</td>\n      <td>8/8/02</td>\n      <td>139852</td>\n      <td>True</td>\n      <td>Business Dev</td>\n    </tr>\n    <tr>\n      <th>38</th>\n      <td>Stephanie</td>\n      <td>Female</td>\n      <td>9/13/86</td>\n      <td>36844</td>\n      <td>True</td>\n      <td>Business Dev</td>\n    </tr>\n    <tr>\n      <th>66</th>\n      <td>Nancy</td>\n      <td>Female</td>\n      <td>12/15/12</td>\n      <td>125250</td>\n      <td>True</td>\n      <td>Business Dev</td>\n    </tr>\n    <tr>\n      <th>92</th>\n      <td>Linda</td>\n      <td>Female</td>\n      <td>5/25/00</td>\n      <td>119009</td>\n      <td>True</td>\n      <td>Business Dev</td>\n    </tr>\n    <tr>\n      <th>111</th>\n      <td>Bonnie</td>\n      <td>Female</td>\n      <td>12/17/99</td>\n      <td>42153</td>\n      <td>True</td>\n      <td>Business Dev</td>\n    </tr>\n    <tr>\n      <th>114</th>\n      <td>Ashley</td>\n      <td>Female</td>\n      <td>8/4/02</td>\n      <td>58698</td>\n      <td>True</td>\n      <td>Business Dev</td>\n    </tr>\n    <tr>\n      <th>134</th>\n      <td>Carolyn</td>\n      <td>Female</td>\n      <td>4/9/11</td>\n      <td>109260</td>\n      <td>True</td>\n      <td>Business Dev</td>\n    </tr>\n    <tr>\n      <th>155</th>\n      <td>Marie</td>\n      <td>Female</td>\n      <td>3/16/03</td>\n      <td>104058</td>\n      <td>True</td>\n      <td>Business Dev</td>\n    </tr>\n    <tr>\n      <th>182</th>\n      <td>Lillian</td>\n      <td>Female</td>\n      <td>6/19/99</td>\n      <td>123940</td>\n      <td>True</td>\n      <td>Business Dev</td>\n    </tr>\n    <tr>\n      <th>203</th>\n      <td>Diana</td>\n      <td>Female</td>\n      <td>1/4/13</td>\n      <td>103521</td>\n      <td>True</td>\n      <td>Business Dev</td>\n    </tr>\n    <tr>\n      <th>249</th>\n      <td>Betty</td>\n      <td>Female</td>\n      <td>6/12/02</td>\n      <td>104896</td>\n      <td>True</td>\n      <td>Business Dev</td>\n    </tr>\n    <tr>\n      <th>275</th>\n      <td>Debra</td>\n      <td>Female</td>\n      <td>2/22/94</td>\n      <td>104250</td>\n      <td>True</td>\n      <td>Business Dev</td>\n    </tr>\n    <tr>\n      <th>401</th>\n      <td>Norma</td>\n      <td>Female</td>\n      <td>4/16/96</td>\n      <td>38872</td>\n      <td>True</td>\n      <td>Business Dev</td>\n    </tr>\n    <tr>\n      <th>406</th>\n      <td>Mary</td>\n      <td>Female</td>\n      <td>8/22/10</td>\n      <td>42214</td>\n      <td>True</td>\n      <td>Business Dev</td>\n    </tr>\n    <tr>\n      <th>419</th>\n      <td>Dorothy</td>\n      <td>Female</td>\n      <td>11/5/13</td>\n      <td>140136</td>\n      <td>True</td>\n      <td>Business Dev</td>\n    </tr>\n    <tr>\n      <th>441</th>\n      <td>Louise</td>\n      <td>Female</td>\n      <td>5/13/03</td>\n      <td>46666</td>\n      <td>True</td>\n      <td>Business Dev</td>\n    </tr>\n    <tr>\n      <th>481</th>\n      <td>NaN</td>\n      <td>Female</td>\n      <td>4/27/13</td>\n      <td>93847</td>\n      <td>True</td>\n      <td>Business Dev</td>\n    </tr>\n    <tr>\n      <th>537</th>\n      <td>Cynthia</td>\n      <td>Female</td>\n      <td>9/14/91</td>\n      <td>51633</td>\n      <td>True</td>\n      <td>Business Dev</td>\n    </tr>\n    <tr>\n      <th>590</th>\n      <td>Andrea</td>\n      <td>Female</td>\n      <td>10/30/94</td>\n      <td>87575</td>\n      <td>True</td>\n      <td>Business Dev</td>\n    </tr>\n    <tr>\n      <th>735</th>\n      <td>Barbara</td>\n      <td>Female</td>\n      <td>11/26/02</td>\n      <td>82884</td>\n      <td>True</td>\n      <td>Business Dev</td>\n    </tr>\n    <tr>\n      <th>746</th>\n      <td>Gloria</td>\n      <td>Female</td>\n      <td>8/19/04</td>\n      <td>46602</td>\n      <td>True</td>\n      <td>Business Dev</td>\n    </tr>\n    <tr>\n      <th>748</th>\n      <td>Martha</td>\n      <td>Female</td>\n      <td>7/17/97</td>\n      <td>94963</td>\n      <td>True</td>\n      <td>Business Dev</td>\n    </tr>\n    <tr>\n      <th>772</th>\n      <td>Lillian</td>\n      <td>Female</td>\n      <td>8/14/09</td>\n      <td>113554</td>\n      <td>True</td>\n      <td>Business Dev</td>\n    </tr>\n    <tr>\n      <th>779</th>\n      <td>Doris</td>\n      <td>Female</td>\n      <td>9/8/84</td>\n      <td>114360</td>\n      <td>True</td>\n      <td>Business Dev</td>\n    </tr>\n    <tr>\n      <th>822</th>\n      <td>Deborah</td>\n      <td>Female</td>\n      <td>2/26/09</td>\n      <td>118043</td>\n      <td>True</td>\n      <td>Business Dev</td>\n    </tr>\n    <tr>\n      <th>852</th>\n      <td>Diana</td>\n      <td>Female</td>\n      <td>11/19/04</td>\n      <td>105066</td>\n      <td>True</td>\n      <td>Business Dev</td>\n    </tr>\n    <tr>\n      <th>898</th>\n      <td>Jane</td>\n      <td>Female</td>\n      <td>4/27/12</td>\n      <td>59680</td>\n      <td>True</td>\n      <td>Business Dev</td>\n    </tr>\n    <tr>\n      <th>916</th>\n      <td>Marilyn</td>\n      <td>Female</td>\n      <td>1/16/96</td>\n      <td>118369</td>\n      <td>True</td>\n      <td>Business Dev</td>\n    </tr>\n  </tbody>\n</table>\n</div>"
     },
     "execution_count": 70,
     "metadata": {},
     "output_type": "execute_result"
    }
   ],
   "source": [
    "# make condition to get the Mgmt True\n",
    "mgmt_mask = employees['Mgmt'] == True\n",
    "\n",
    "# make above three conditions to get people\n",
    "employees[gender_mask & team_mask & mgmt_mask]"
   ],
   "metadata": {
    "collapsed": false,
    "ExecuteTime": {
     "end_time": "2024-01-16T08:30:12.809490500Z",
     "start_time": "2024-01-16T08:30:12.708945200Z"
    }
   },
   "id": "3ef02f193f0915e2",
   "execution_count": 70
  },
  {
   "cell_type": "code",
   "outputs": [
    {
     "name": "stderr",
     "output_type": "stream",
     "text": [
      "C:\\Users\\Administrator\\AppData\\Local\\Temp\\ipykernel_31820\\2123131305.py:2: UserWarning: Could not infer format, so each element will be parsed individually, falling back to `dateutil`. To ensure parsing is consistent and as-expected, please specify a format.\n",
      "  employees['Start Date'] = pd.to_datetime(employees['Start Date'])\n"
     ]
    }
   ],
   "source": [
    "# make Start Date column as datetime dtype\n",
    "employees['Start Date'] = pd.to_datetime(employees['Start Date'])\n",
    "\n"
   ],
   "metadata": {
    "collapsed": false,
    "ExecuteTime": {
     "end_time": "2024-01-16T08:30:12.907111100Z",
     "start_time": "2024-01-16T08:30:12.822489400Z"
    }
   },
   "id": "9e35b8ed911273ed",
   "execution_count": 71
  },
  {
   "cell_type": "code",
   "outputs": [
    {
     "data": {
      "text/plain": "     First Name  Gender Start Date  Salary   Mgmt         Team\n0       Douglas    Male 1993-08-06       0   True    Marketing\n7           NaN  Female 2015-07-20   45906   True      Finance\n15      Lillian  Female 2016-06-05   59414  False      Product\n25          NaN    Male 2012-10-08   37076   True           IT\n26        Craig    Male 2000-02-27   37598   True    Marketing\n...         ...     ...        ...     ...    ...          ...\n958      Gloria  Female 1987-10-24   39833  False  Engineering\n964       Bruce    Male 1980-05-07   35802   True        Sales\n967      Thomas    Male 2016-03-12  105681  False  Engineering\n989      Justin     NaN 1991-02-10   38344  False        Legal\n1000        NaN     NaN        NaT       0   True          NaN\n\n[83 rows x 6 columns]",
      "text/html": "<div>\n<style scoped>\n    .dataframe tbody tr th:only-of-type {\n        vertical-align: middle;\n    }\n\n    .dataframe tbody tr th {\n        vertical-align: top;\n    }\n\n    .dataframe thead th {\n        text-align: right;\n    }\n</style>\n<table border=\"1\" class=\"dataframe\">\n  <thead>\n    <tr style=\"text-align: right;\">\n      <th></th>\n      <th>First Name</th>\n      <th>Gender</th>\n      <th>Start Date</th>\n      <th>Salary</th>\n      <th>Mgmt</th>\n      <th>Team</th>\n    </tr>\n  </thead>\n  <tbody>\n    <tr>\n      <th>0</th>\n      <td>Douglas</td>\n      <td>Male</td>\n      <td>1993-08-06</td>\n      <td>0</td>\n      <td>True</td>\n      <td>Marketing</td>\n    </tr>\n    <tr>\n      <th>7</th>\n      <td>NaN</td>\n      <td>Female</td>\n      <td>2015-07-20</td>\n      <td>45906</td>\n      <td>True</td>\n      <td>Finance</td>\n    </tr>\n    <tr>\n      <th>15</th>\n      <td>Lillian</td>\n      <td>Female</td>\n      <td>2016-06-05</td>\n      <td>59414</td>\n      <td>False</td>\n      <td>Product</td>\n    </tr>\n    <tr>\n      <th>25</th>\n      <td>NaN</td>\n      <td>Male</td>\n      <td>2012-10-08</td>\n      <td>37076</td>\n      <td>True</td>\n      <td>IT</td>\n    </tr>\n    <tr>\n      <th>26</th>\n      <td>Craig</td>\n      <td>Male</td>\n      <td>2000-02-27</td>\n      <td>37598</td>\n      <td>True</td>\n      <td>Marketing</td>\n    </tr>\n    <tr>\n      <th>...</th>\n      <td>...</td>\n      <td>...</td>\n      <td>...</td>\n      <td>...</td>\n      <td>...</td>\n      <td>...</td>\n    </tr>\n    <tr>\n      <th>958</th>\n      <td>Gloria</td>\n      <td>Female</td>\n      <td>1987-10-24</td>\n      <td>39833</td>\n      <td>False</td>\n      <td>Engineering</td>\n    </tr>\n    <tr>\n      <th>964</th>\n      <td>Bruce</td>\n      <td>Male</td>\n      <td>1980-05-07</td>\n      <td>35802</td>\n      <td>True</td>\n      <td>Sales</td>\n    </tr>\n    <tr>\n      <th>967</th>\n      <td>Thomas</td>\n      <td>Male</td>\n      <td>2016-03-12</td>\n      <td>105681</td>\n      <td>False</td>\n      <td>Engineering</td>\n    </tr>\n    <tr>\n      <th>989</th>\n      <td>Justin</td>\n      <td>NaN</td>\n      <td>1991-02-10</td>\n      <td>38344</td>\n      <td>False</td>\n      <td>Legal</td>\n    </tr>\n    <tr>\n      <th>1000</th>\n      <td>NaN</td>\n      <td>NaN</td>\n      <td>NaT</td>\n      <td>0</td>\n      <td>True</td>\n      <td>NaN</td>\n    </tr>\n  </tbody>\n</table>\n<p>83 rows × 6 columns</p>\n</div>"
     },
     "execution_count": 72,
     "metadata": {},
     "output_type": "execute_result"
    }
   ],
   "source": [
    "# make condition variables (1) Salary is lower then 40000 (2) start date is higher than '2015-01-01'\n",
    "\n",
    "salary_mask = employees['Salary'] < 40000\n",
    "start_date_mask = employees['Start Date'] > pd.to_datetime('2015-01-01')\n",
    "\n",
    "\n",
    "# make above two conditions to get people as or operator\n",
    "employees[salary_mask | start_date_mask]\n"
   ],
   "metadata": {
    "collapsed": false,
    "ExecuteTime": {
     "end_time": "2024-01-16T08:30:12.941424600Z",
     "start_time": "2024-01-16T08:30:12.867855600Z"
    }
   },
   "id": "e4eec20b8fb24f44",
   "execution_count": 72
  },
  {
   "cell_type": "code",
   "outputs": [
    {
     "data": {
      "text/plain": "     First Name  Gender Start Date  Salary   Mgmt          Team\n0       Douglas    Male 1993-08-06       0   True     Marketing\n1        Thomas    Male 1996-03-31   61933   True           NaN\n6          Ruby  Female 1987-08-17   65476   True       Product\n7           NaN  Female 2015-07-20   45906   True       Finance\n8        Angela  Female 2005-11-22   95570   True   Engineering\n...         ...     ...        ...     ...    ...           ...\n994      George    Male 2013-06-21   98874   True     Marketing\n996     Phillip    Male 1984-01-31   42392  False       Finance\n997     Russell    Male 2013-05-20   96914  False       Product\n998       Larry    Male 2013-04-20   60500  False  Business Dev\n1000        NaN     NaN        NaT       0   True           NaN\n\n[592 rows x 6 columns]",
      "text/html": "<div>\n<style scoped>\n    .dataframe tbody tr th:only-of-type {\n        vertical-align: middle;\n    }\n\n    .dataframe tbody tr th {\n        vertical-align: top;\n    }\n\n    .dataframe thead th {\n        text-align: right;\n    }\n</style>\n<table border=\"1\" class=\"dataframe\">\n  <thead>\n    <tr style=\"text-align: right;\">\n      <th></th>\n      <th>First Name</th>\n      <th>Gender</th>\n      <th>Start Date</th>\n      <th>Salary</th>\n      <th>Mgmt</th>\n      <th>Team</th>\n    </tr>\n  </thead>\n  <tbody>\n    <tr>\n      <th>0</th>\n      <td>Douglas</td>\n      <td>Male</td>\n      <td>1993-08-06</td>\n      <td>0</td>\n      <td>True</td>\n      <td>Marketing</td>\n    </tr>\n    <tr>\n      <th>1</th>\n      <td>Thomas</td>\n      <td>Male</td>\n      <td>1996-03-31</td>\n      <td>61933</td>\n      <td>True</td>\n      <td>NaN</td>\n    </tr>\n    <tr>\n      <th>6</th>\n      <td>Ruby</td>\n      <td>Female</td>\n      <td>1987-08-17</td>\n      <td>65476</td>\n      <td>True</td>\n      <td>Product</td>\n    </tr>\n    <tr>\n      <th>7</th>\n      <td>NaN</td>\n      <td>Female</td>\n      <td>2015-07-20</td>\n      <td>45906</td>\n      <td>True</td>\n      <td>Finance</td>\n    </tr>\n    <tr>\n      <th>8</th>\n      <td>Angela</td>\n      <td>Female</td>\n      <td>2005-11-22</td>\n      <td>95570</td>\n      <td>True</td>\n      <td>Engineering</td>\n    </tr>\n    <tr>\n      <th>...</th>\n      <td>...</td>\n      <td>...</td>\n      <td>...</td>\n      <td>...</td>\n      <td>...</td>\n      <td>...</td>\n    </tr>\n    <tr>\n      <th>994</th>\n      <td>George</td>\n      <td>Male</td>\n      <td>2013-06-21</td>\n      <td>98874</td>\n      <td>True</td>\n      <td>Marketing</td>\n    </tr>\n    <tr>\n      <th>996</th>\n      <td>Phillip</td>\n      <td>Male</td>\n      <td>1984-01-31</td>\n      <td>42392</td>\n      <td>False</td>\n      <td>Finance</td>\n    </tr>\n    <tr>\n      <th>997</th>\n      <td>Russell</td>\n      <td>Male</td>\n      <td>2013-05-20</td>\n      <td>96914</td>\n      <td>False</td>\n      <td>Product</td>\n    </tr>\n    <tr>\n      <th>998</th>\n      <td>Larry</td>\n      <td>Male</td>\n      <td>2013-04-20</td>\n      <td>60500</td>\n      <td>False</td>\n      <td>Business Dev</td>\n    </tr>\n    <tr>\n      <th>1000</th>\n      <td>NaN</td>\n      <td>NaN</td>\n      <td>NaT</td>\n      <td>0</td>\n      <td>True</td>\n      <td>NaN</td>\n    </tr>\n  </tbody>\n</table>\n<p>592 rows × 6 columns</p>\n</div>"
     },
     "execution_count": 73,
     "metadata": {},
     "output_type": "execute_result"
    }
   ],
   "source": [
    "# make a condition variable which find people who's Salary is lower than 100000\n",
    "\n",
    "salary_mask = employees['Salary'] < 100000\n",
    "\n",
    "\n",
    "# make above condition to get people\n",
    "employees[salary_mask]\n"
   ],
   "metadata": {
    "collapsed": false,
    "ExecuteTime": {
     "end_time": "2024-01-16T08:30:12.992545100Z",
     "start_time": "2024-01-16T08:30:12.943444900Z"
    }
   },
   "id": "32e3393846188edd",
   "execution_count": 73
  },
  {
   "cell_type": "code",
   "outputs": [
    {
     "data": {
      "text/plain": "0       False\n1        True\n2        True\n3        True\n4        True\n        ...  \n996      True\n997      True\n998      True\n999      True\n1000     True\nName: Team, Length: 1001, dtype: bool"
     },
     "execution_count": 74,
     "metadata": {},
     "output_type": "execute_result"
    }
   ],
   "source": [
    "# make a condition variable which find people who's Salary is higher than 100000 using salary_mask\n",
    "\n",
    "employees[~salary_mask]\n",
    "\n",
    "# conert above ~salary_mask to salary_mask_inverse and express in another way\n",
    "\n",
    "salary_mask_inverse = employees['Salary'] >= 100000\n",
    "\n",
    "\n",
    "employees[salary_mask_inverse]\n",
    "\n",
    "employees[\"Team\"].eq('Marketing')\n",
    "employees[\"Team\"].ne('Marketing')\n",
    "\n"
   ],
   "metadata": {
    "collapsed": false,
    "ExecuteTime": {
     "end_time": "2024-01-16T08:30:13.050762300Z",
     "start_time": "2024-01-16T08:30:12.993824Z"
    }
   },
   "id": "7b869d58d8aad057",
   "execution_count": 74
  },
  {
   "cell_type": "code",
   "outputs": [
    {
     "data": {
      "text/plain": "    First Name  Gender Start Date  Salary   Mgmt       Team\n0      Douglas    Male 1993-08-06       0   True  Marketing\n5       Dennis    Male 1987-04-18  115163  False      Legal\n11       Julie  Female 1997-10-26  102508   True      Legal\n13        Gary    Male 2008-01-27  109831  False      Sales\n20        Lois     NaN 1995-04-22   64714   True      Legal\n..         ...     ...        ...     ...    ...        ...\n986      Donna  Female 1982-11-26   82871  False  Marketing\n989     Justin     NaN 1991-02-10   38344  False      Legal\n991       Rose  Female 2002-08-25  134505   True  Marketing\n994     George    Male 2013-06-21   98874   True  Marketing\n999     Albert    Male 2012-05-15  129949   True      Sales\n\n[280 rows x 6 columns]",
      "text/html": "<div>\n<style scoped>\n    .dataframe tbody tr th:only-of-type {\n        vertical-align: middle;\n    }\n\n    .dataframe tbody tr th {\n        vertical-align: top;\n    }\n\n    .dataframe thead th {\n        text-align: right;\n    }\n</style>\n<table border=\"1\" class=\"dataframe\">\n  <thead>\n    <tr style=\"text-align: right;\">\n      <th></th>\n      <th>First Name</th>\n      <th>Gender</th>\n      <th>Start Date</th>\n      <th>Salary</th>\n      <th>Mgmt</th>\n      <th>Team</th>\n    </tr>\n  </thead>\n  <tbody>\n    <tr>\n      <th>0</th>\n      <td>Douglas</td>\n      <td>Male</td>\n      <td>1993-08-06</td>\n      <td>0</td>\n      <td>True</td>\n      <td>Marketing</td>\n    </tr>\n    <tr>\n      <th>5</th>\n      <td>Dennis</td>\n      <td>Male</td>\n      <td>1987-04-18</td>\n      <td>115163</td>\n      <td>False</td>\n      <td>Legal</td>\n    </tr>\n    <tr>\n      <th>11</th>\n      <td>Julie</td>\n      <td>Female</td>\n      <td>1997-10-26</td>\n      <td>102508</td>\n      <td>True</td>\n      <td>Legal</td>\n    </tr>\n    <tr>\n      <th>13</th>\n      <td>Gary</td>\n      <td>Male</td>\n      <td>2008-01-27</td>\n      <td>109831</td>\n      <td>False</td>\n      <td>Sales</td>\n    </tr>\n    <tr>\n      <th>20</th>\n      <td>Lois</td>\n      <td>NaN</td>\n      <td>1995-04-22</td>\n      <td>64714</td>\n      <td>True</td>\n      <td>Legal</td>\n    </tr>\n    <tr>\n      <th>...</th>\n      <td>...</td>\n      <td>...</td>\n      <td>...</td>\n      <td>...</td>\n      <td>...</td>\n      <td>...</td>\n    </tr>\n    <tr>\n      <th>986</th>\n      <td>Donna</td>\n      <td>Female</td>\n      <td>1982-11-26</td>\n      <td>82871</td>\n      <td>False</td>\n      <td>Marketing</td>\n    </tr>\n    <tr>\n      <th>989</th>\n      <td>Justin</td>\n      <td>NaN</td>\n      <td>1991-02-10</td>\n      <td>38344</td>\n      <td>False</td>\n      <td>Legal</td>\n    </tr>\n    <tr>\n      <th>991</th>\n      <td>Rose</td>\n      <td>Female</td>\n      <td>2002-08-25</td>\n      <td>134505</td>\n      <td>True</td>\n      <td>Marketing</td>\n    </tr>\n    <tr>\n      <th>994</th>\n      <td>George</td>\n      <td>Male</td>\n      <td>2013-06-21</td>\n      <td>98874</td>\n      <td>True</td>\n      <td>Marketing</td>\n    </tr>\n    <tr>\n      <th>999</th>\n      <td>Albert</td>\n      <td>Male</td>\n      <td>2012-05-15</td>\n      <td>129949</td>\n      <td>True</td>\n      <td>Sales</td>\n    </tr>\n  </tbody>\n</table>\n<p>280 rows × 6 columns</p>\n</div>"
     },
     "execution_count": 75,
     "metadata": {},
     "output_type": "execute_result"
    }
   ],
   "source": [
    "# get people who is in Sales Legal and Marketing team\n",
    "\n",
    "team_mask = employees[\"Team\"].isin([\"Sales\", \"Legal\", \"Marketing\"])\n",
    "\n",
    "# another method by not using isin\n",
    "\n",
    "employees[team_mask]"
   ],
   "metadata": {
    "collapsed": false,
    "ExecuteTime": {
     "end_time": "2024-01-16T08:30:13.101295900Z",
     "start_time": "2024-01-16T08:30:13.013915400Z"
    }
   },
   "id": "4317b53900f4a303",
   "execution_count": 75
  },
  {
   "cell_type": "code",
   "outputs": [
    {
     "data": {
      "text/plain": "    First Name  Gender Start Date  Salary   Mgmt         Team\n19       Donna  Female 2010-07-22   81014  False      Product\n31       Joyce     NaN 2005-02-20   88657  False      Product\n35     Theresa  Female 2006-10-10   85182  False        Sales\n45       Roger    Male 1980-04-17   88010   True        Sales\n54        Sara  Female 2007-08-15   83677  False  Engineering\n..         ...     ...        ...     ...    ...          ...\n930      Nancy  Female 2001-09-10   85213   True    Marketing\n956    Beverly  Female 1986-10-17   80838  False  Engineering\n963        Ann  Female 1994-09-23   89443   True        Sales\n985    Stephen     NaN 1983-07-10   85668  False        Legal\n986      Donna  Female 1982-11-26   82871  False    Marketing\n\n[94 rows x 6 columns]",
      "text/html": "<div>\n<style scoped>\n    .dataframe tbody tr th:only-of-type {\n        vertical-align: middle;\n    }\n\n    .dataframe tbody tr th {\n        vertical-align: top;\n    }\n\n    .dataframe thead th {\n        text-align: right;\n    }\n</style>\n<table border=\"1\" class=\"dataframe\">\n  <thead>\n    <tr style=\"text-align: right;\">\n      <th></th>\n      <th>First Name</th>\n      <th>Gender</th>\n      <th>Start Date</th>\n      <th>Salary</th>\n      <th>Mgmt</th>\n      <th>Team</th>\n    </tr>\n  </thead>\n  <tbody>\n    <tr>\n      <th>19</th>\n      <td>Donna</td>\n      <td>Female</td>\n      <td>2010-07-22</td>\n      <td>81014</td>\n      <td>False</td>\n      <td>Product</td>\n    </tr>\n    <tr>\n      <th>31</th>\n      <td>Joyce</td>\n      <td>NaN</td>\n      <td>2005-02-20</td>\n      <td>88657</td>\n      <td>False</td>\n      <td>Product</td>\n    </tr>\n    <tr>\n      <th>35</th>\n      <td>Theresa</td>\n      <td>Female</td>\n      <td>2006-10-10</td>\n      <td>85182</td>\n      <td>False</td>\n      <td>Sales</td>\n    </tr>\n    <tr>\n      <th>45</th>\n      <td>Roger</td>\n      <td>Male</td>\n      <td>1980-04-17</td>\n      <td>88010</td>\n      <td>True</td>\n      <td>Sales</td>\n    </tr>\n    <tr>\n      <th>54</th>\n      <td>Sara</td>\n      <td>Female</td>\n      <td>2007-08-15</td>\n      <td>83677</td>\n      <td>False</td>\n      <td>Engineering</td>\n    </tr>\n    <tr>\n      <th>...</th>\n      <td>...</td>\n      <td>...</td>\n      <td>...</td>\n      <td>...</td>\n      <td>...</td>\n      <td>...</td>\n    </tr>\n    <tr>\n      <th>930</th>\n      <td>Nancy</td>\n      <td>Female</td>\n      <td>2001-09-10</td>\n      <td>85213</td>\n      <td>True</td>\n      <td>Marketing</td>\n    </tr>\n    <tr>\n      <th>956</th>\n      <td>Beverly</td>\n      <td>Female</td>\n      <td>1986-10-17</td>\n      <td>80838</td>\n      <td>False</td>\n      <td>Engineering</td>\n    </tr>\n    <tr>\n      <th>963</th>\n      <td>Ann</td>\n      <td>Female</td>\n      <td>1994-09-23</td>\n      <td>89443</td>\n      <td>True</td>\n      <td>Sales</td>\n    </tr>\n    <tr>\n      <th>985</th>\n      <td>Stephen</td>\n      <td>NaN</td>\n      <td>1983-07-10</td>\n      <td>85668</td>\n      <td>False</td>\n      <td>Legal</td>\n    </tr>\n    <tr>\n      <th>986</th>\n      <td>Donna</td>\n      <td>Female</td>\n      <td>1982-11-26</td>\n      <td>82871</td>\n      <td>False</td>\n      <td>Marketing</td>\n    </tr>\n  </tbody>\n</table>\n<p>94 rows × 6 columns</p>\n</div>"
     },
     "execution_count": 76,
     "metadata": {},
     "output_type": "execute_result"
    }
   ],
   "source": [
    "# get people whose Salary is ge 80000 and lt 90000\n",
    "\n",
    "salary_mask = (employees['Salary'] >= 80000) & (employees['Salary'] < 90000)\n",
    "\n",
    "employees[salary_mask]"
   ],
   "metadata": {
    "collapsed": false,
    "ExecuteTime": {
     "end_time": "2024-01-16T08:30:13.140305400Z",
     "start_time": "2024-01-16T08:30:13.057064Z"
    }
   },
   "id": "85e0228030fd845f",
   "execution_count": 76
  },
  {
   "cell_type": "code",
   "outputs": [
    {
     "data": {
      "text/plain": "    First Name  Gender Start Date  Salary   Mgmt         Team\n19       Donna  Female 2010-07-22   81014  False      Product\n31       Joyce     NaN 2005-02-20   88657  False      Product\n35     Theresa  Female 2006-10-10   85182  False        Sales\n45       Roger    Male 1980-04-17   88010   True        Sales\n54        Sara  Female 2007-08-15   83677  False  Engineering\n..         ...     ...        ...     ...    ...          ...\n930      Nancy  Female 2001-09-10   85213   True    Marketing\n956    Beverly  Female 1986-10-17   80838  False  Engineering\n963        Ann  Female 1994-09-23   89443   True        Sales\n985    Stephen     NaN 1983-07-10   85668  False        Legal\n986      Donna  Female 1982-11-26   82871  False    Marketing\n\n[94 rows x 6 columns]",
      "text/html": "<div>\n<style scoped>\n    .dataframe tbody tr th:only-of-type {\n        vertical-align: middle;\n    }\n\n    .dataframe tbody tr th {\n        vertical-align: top;\n    }\n\n    .dataframe thead th {\n        text-align: right;\n    }\n</style>\n<table border=\"1\" class=\"dataframe\">\n  <thead>\n    <tr style=\"text-align: right;\">\n      <th></th>\n      <th>First Name</th>\n      <th>Gender</th>\n      <th>Start Date</th>\n      <th>Salary</th>\n      <th>Mgmt</th>\n      <th>Team</th>\n    </tr>\n  </thead>\n  <tbody>\n    <tr>\n      <th>19</th>\n      <td>Donna</td>\n      <td>Female</td>\n      <td>2010-07-22</td>\n      <td>81014</td>\n      <td>False</td>\n      <td>Product</td>\n    </tr>\n    <tr>\n      <th>31</th>\n      <td>Joyce</td>\n      <td>NaN</td>\n      <td>2005-02-20</td>\n      <td>88657</td>\n      <td>False</td>\n      <td>Product</td>\n    </tr>\n    <tr>\n      <th>35</th>\n      <td>Theresa</td>\n      <td>Female</td>\n      <td>2006-10-10</td>\n      <td>85182</td>\n      <td>False</td>\n      <td>Sales</td>\n    </tr>\n    <tr>\n      <th>45</th>\n      <td>Roger</td>\n      <td>Male</td>\n      <td>1980-04-17</td>\n      <td>88010</td>\n      <td>True</td>\n      <td>Sales</td>\n    </tr>\n    <tr>\n      <th>54</th>\n      <td>Sara</td>\n      <td>Female</td>\n      <td>2007-08-15</td>\n      <td>83677</td>\n      <td>False</td>\n      <td>Engineering</td>\n    </tr>\n    <tr>\n      <th>...</th>\n      <td>...</td>\n      <td>...</td>\n      <td>...</td>\n      <td>...</td>\n      <td>...</td>\n      <td>...</td>\n    </tr>\n    <tr>\n      <th>930</th>\n      <td>Nancy</td>\n      <td>Female</td>\n      <td>2001-09-10</td>\n      <td>85213</td>\n      <td>True</td>\n      <td>Marketing</td>\n    </tr>\n    <tr>\n      <th>956</th>\n      <td>Beverly</td>\n      <td>Female</td>\n      <td>1986-10-17</td>\n      <td>80838</td>\n      <td>False</td>\n      <td>Engineering</td>\n    </tr>\n    <tr>\n      <th>963</th>\n      <td>Ann</td>\n      <td>Female</td>\n      <td>1994-09-23</td>\n      <td>89443</td>\n      <td>True</td>\n      <td>Sales</td>\n    </tr>\n    <tr>\n      <th>985</th>\n      <td>Stephen</td>\n      <td>NaN</td>\n      <td>1983-07-10</td>\n      <td>85668</td>\n      <td>False</td>\n      <td>Legal</td>\n    </tr>\n    <tr>\n      <th>986</th>\n      <td>Donna</td>\n      <td>Female</td>\n      <td>1982-11-26</td>\n      <td>82871</td>\n      <td>False</td>\n      <td>Marketing</td>\n    </tr>\n  </tbody>\n</table>\n<p>94 rows × 6 columns</p>\n</div>"
     },
     "execution_count": 77,
     "metadata": {},
     "output_type": "execute_result"
    }
   ],
   "source": [
    "\n",
    "# make salary_mask to use between method\n",
    "salary_mask_alternative = employees['Salary'].between(80000, 90000, inclusive='left')\n",
    "\n",
    "\n",
    "employees[salary_mask_alternative]\n"
   ],
   "metadata": {
    "collapsed": false,
    "ExecuteTime": {
     "end_time": "2024-01-16T08:30:13.208905800Z",
     "start_time": "2024-01-16T08:30:13.143812100Z"
    }
   },
   "id": "ddaed8c483787fab",
   "execution_count": 77
  },
  {
   "cell_type": "code",
   "outputs": [
    {
     "data": {
      "text/plain": "147"
     },
     "execution_count": 78,
     "metadata": {},
     "output_type": "execute_result"
    }
   ],
   "source": [
    "# find null in Gender\n",
    "\n",
    "employees['Gender'].isnull().sum()"
   ],
   "metadata": {
    "collapsed": false,
    "ExecuteTime": {
     "end_time": "2024-01-16T08:30:13.247489400Z",
     "start_time": "2024-01-16T08:30:13.172353700Z"
    }
   },
   "id": "ae77e24a73d77a87",
   "execution_count": 78
  },
  {
   "cell_type": "code",
   "outputs": [
    {
     "data": {
      "text/plain": "854"
     },
     "execution_count": 79,
     "metadata": {},
     "output_type": "execute_result"
    }
   ],
   "source": [
    "# find not null in Gender\n",
    "\n",
    "employees['Gender'].notnull().sum()"
   ],
   "metadata": {
    "collapsed": false,
    "ExecuteTime": {
     "end_time": "2024-01-16T08:30:13.314477400Z",
     "start_time": "2024-01-16T08:30:13.232954200Z"
    }
   },
   "id": "ef05c87f5f834366",
   "execution_count": 79
  },
  {
   "cell_type": "code",
   "outputs": [
    {
     "data": {
      "text/plain": "    First Name  Gender Start Date  Salary   Mgmt          Team\n0      Douglas    Male 1993-08-06       0   True     Marketing\n1       Thomas    Male 1996-03-31   61933   True           NaN\n2        Maria  Female        NaT  130590  False       Finance\n4        Larry    Male 1998-01-24  101004   True            IT\n5       Dennis    Male 1987-04-18  115163  False         Legal\n..         ...     ...        ...     ...    ...           ...\n994     George    Male 2013-06-21   98874   True     Marketing\n996    Phillip    Male 1984-01-31   42392  False       Finance\n997    Russell    Male 2013-05-20   96914  False       Product\n998      Larry    Male 2013-04-20   60500  False  Business Dev\n999     Albert    Male 2012-05-15  129949   True         Sales\n\n[854 rows x 6 columns]",
      "text/html": "<div>\n<style scoped>\n    .dataframe tbody tr th:only-of-type {\n        vertical-align: middle;\n    }\n\n    .dataframe tbody tr th {\n        vertical-align: top;\n    }\n\n    .dataframe thead th {\n        text-align: right;\n    }\n</style>\n<table border=\"1\" class=\"dataframe\">\n  <thead>\n    <tr style=\"text-align: right;\">\n      <th></th>\n      <th>First Name</th>\n      <th>Gender</th>\n      <th>Start Date</th>\n      <th>Salary</th>\n      <th>Mgmt</th>\n      <th>Team</th>\n    </tr>\n  </thead>\n  <tbody>\n    <tr>\n      <th>0</th>\n      <td>Douglas</td>\n      <td>Male</td>\n      <td>1993-08-06</td>\n      <td>0</td>\n      <td>True</td>\n      <td>Marketing</td>\n    </tr>\n    <tr>\n      <th>1</th>\n      <td>Thomas</td>\n      <td>Male</td>\n      <td>1996-03-31</td>\n      <td>61933</td>\n      <td>True</td>\n      <td>NaN</td>\n    </tr>\n    <tr>\n      <th>2</th>\n      <td>Maria</td>\n      <td>Female</td>\n      <td>NaT</td>\n      <td>130590</td>\n      <td>False</td>\n      <td>Finance</td>\n    </tr>\n    <tr>\n      <th>4</th>\n      <td>Larry</td>\n      <td>Male</td>\n      <td>1998-01-24</td>\n      <td>101004</td>\n      <td>True</td>\n      <td>IT</td>\n    </tr>\n    <tr>\n      <th>5</th>\n      <td>Dennis</td>\n      <td>Male</td>\n      <td>1987-04-18</td>\n      <td>115163</td>\n      <td>False</td>\n      <td>Legal</td>\n    </tr>\n    <tr>\n      <th>...</th>\n      <td>...</td>\n      <td>...</td>\n      <td>...</td>\n      <td>...</td>\n      <td>...</td>\n      <td>...</td>\n    </tr>\n    <tr>\n      <th>994</th>\n      <td>George</td>\n      <td>Male</td>\n      <td>2013-06-21</td>\n      <td>98874</td>\n      <td>True</td>\n      <td>Marketing</td>\n    </tr>\n    <tr>\n      <th>996</th>\n      <td>Phillip</td>\n      <td>Male</td>\n      <td>1984-01-31</td>\n      <td>42392</td>\n      <td>False</td>\n      <td>Finance</td>\n    </tr>\n    <tr>\n      <th>997</th>\n      <td>Russell</td>\n      <td>Male</td>\n      <td>2013-05-20</td>\n      <td>96914</td>\n      <td>False</td>\n      <td>Product</td>\n    </tr>\n    <tr>\n      <th>998</th>\n      <td>Larry</td>\n      <td>Male</td>\n      <td>2013-04-20</td>\n      <td>60500</td>\n      <td>False</td>\n      <td>Business Dev</td>\n    </tr>\n    <tr>\n      <th>999</th>\n      <td>Albert</td>\n      <td>Male</td>\n      <td>2012-05-15</td>\n      <td>129949</td>\n      <td>True</td>\n      <td>Sales</td>\n    </tr>\n  </tbody>\n</table>\n<p>854 rows × 6 columns</p>\n</div>"
     },
     "execution_count": 80,
     "metadata": {},
     "output_type": "execute_result"
    }
   ],
   "source": [
    "# drop data by only considering Gender and inplace as true\n",
    "\n",
    "\n",
    "employees.dropna(subset=['Gender'])"
   ],
   "metadata": {
    "collapsed": false,
    "ExecuteTime": {
     "end_time": "2024-01-16T08:30:13.397019800Z",
     "start_time": "2024-01-16T08:30:13.318477200Z"
    }
   },
   "id": "8d83405fba11e4e",
   "execution_count": 80
  },
  {
   "cell_type": "code",
   "outputs": [
    {
     "data": {
      "text/plain": "     First Name  Gender Start Date  Salary   Mgmt          Team\n0       Douglas    Male 1993-08-06       0   True     Marketing\n1        Thomas    Male 1996-03-31   61933   True           NaN\n2         Maria  Female        NaT  130590  False       Finance\n3         Jerry     NaN 2005-03-04  138705   True       Finance\n4         Larry    Male 1998-01-24  101004   True            IT\n...         ...     ...        ...     ...    ...           ...\n996     Phillip    Male 1984-01-31   42392  False       Finance\n997     Russell    Male 2013-05-20   96914  False       Product\n998       Larry    Male 2013-04-20   60500  False  Business Dev\n999      Albert    Male 2012-05-15  129949   True         Sales\n1000        NaN     NaN        NaT       0   True           NaN\n\n[1001 rows x 6 columns]",
      "text/html": "<div>\n<style scoped>\n    .dataframe tbody tr th:only-of-type {\n        vertical-align: middle;\n    }\n\n    .dataframe tbody tr th {\n        vertical-align: top;\n    }\n\n    .dataframe thead th {\n        text-align: right;\n    }\n</style>\n<table border=\"1\" class=\"dataframe\">\n  <thead>\n    <tr style=\"text-align: right;\">\n      <th></th>\n      <th>First Name</th>\n      <th>Gender</th>\n      <th>Start Date</th>\n      <th>Salary</th>\n      <th>Mgmt</th>\n      <th>Team</th>\n    </tr>\n  </thead>\n  <tbody>\n    <tr>\n      <th>0</th>\n      <td>Douglas</td>\n      <td>Male</td>\n      <td>1993-08-06</td>\n      <td>0</td>\n      <td>True</td>\n      <td>Marketing</td>\n    </tr>\n    <tr>\n      <th>1</th>\n      <td>Thomas</td>\n      <td>Male</td>\n      <td>1996-03-31</td>\n      <td>61933</td>\n      <td>True</td>\n      <td>NaN</td>\n    </tr>\n    <tr>\n      <th>2</th>\n      <td>Maria</td>\n      <td>Female</td>\n      <td>NaT</td>\n      <td>130590</td>\n      <td>False</td>\n      <td>Finance</td>\n    </tr>\n    <tr>\n      <th>3</th>\n      <td>Jerry</td>\n      <td>NaN</td>\n      <td>2005-03-04</td>\n      <td>138705</td>\n      <td>True</td>\n      <td>Finance</td>\n    </tr>\n    <tr>\n      <th>4</th>\n      <td>Larry</td>\n      <td>Male</td>\n      <td>1998-01-24</td>\n      <td>101004</td>\n      <td>True</td>\n      <td>IT</td>\n    </tr>\n    <tr>\n      <th>...</th>\n      <td>...</td>\n      <td>...</td>\n      <td>...</td>\n      <td>...</td>\n      <td>...</td>\n      <td>...</td>\n    </tr>\n    <tr>\n      <th>996</th>\n      <td>Phillip</td>\n      <td>Male</td>\n      <td>1984-01-31</td>\n      <td>42392</td>\n      <td>False</td>\n      <td>Finance</td>\n    </tr>\n    <tr>\n      <th>997</th>\n      <td>Russell</td>\n      <td>Male</td>\n      <td>2013-05-20</td>\n      <td>96914</td>\n      <td>False</td>\n      <td>Product</td>\n    </tr>\n    <tr>\n      <th>998</th>\n      <td>Larry</td>\n      <td>Male</td>\n      <td>2013-04-20</td>\n      <td>60500</td>\n      <td>False</td>\n      <td>Business Dev</td>\n    </tr>\n    <tr>\n      <th>999</th>\n      <td>Albert</td>\n      <td>Male</td>\n      <td>2012-05-15</td>\n      <td>129949</td>\n      <td>True</td>\n      <td>Sales</td>\n    </tr>\n    <tr>\n      <th>1000</th>\n      <td>NaN</td>\n      <td>NaN</td>\n      <td>NaT</td>\n      <td>0</td>\n      <td>True</td>\n      <td>NaN</td>\n    </tr>\n  </tbody>\n</table>\n<p>1001 rows × 6 columns</p>\n</div>"
     },
     "execution_count": 81,
     "metadata": {},
     "output_type": "execute_result"
    }
   ],
   "source": [
    "# drop the data which row is all filled with null\n",
    "\n",
    "employees.dropna(how='all')"
   ],
   "metadata": {
    "collapsed": false,
    "ExecuteTime": {
     "end_time": "2024-01-16T08:30:47.926452800Z",
     "start_time": "2024-01-16T08:30:47.898773500Z"
    }
   },
   "id": "44064a31822b98aa",
   "execution_count": 81
  },
  {
   "cell_type": "code",
   "outputs": [
    {
     "data": {
      "text/plain": "0      Male\n2    Female\n3       NaN\nName: Gender, dtype: category\nCategories (2, object): ['Female', 'Male']"
     },
     "execution_count": 82,
     "metadata": {},
     "output_type": "execute_result"
    }
   ],
   "source": [
    "# get unduplicated data in gender\n",
    "\n",
    "employees['Gender'].drop_duplicates()"
   ],
   "metadata": {
    "collapsed": false,
    "ExecuteTime": {
     "end_time": "2024-01-16T08:31:22.393688200Z",
     "start_time": "2024-01-16T08:31:22.362514100Z"
    }
   },
   "id": "8d4ee6ec69ed76de",
   "execution_count": 82
  },
  {
   "cell_type": "code",
   "outputs": [
    {
     "data": {
      "text/plain": "0        Marketing\n1              NaN\n2          Finance\n4               IT\n5            Legal\n6          Product\n8      Engineering\n9     Business Dev\n12              HR\n13           Sales\n40    Distribution\nName: Team, dtype: category\nCategories (10, object): ['Business Dev', 'Distribution', 'Engineering', 'Finance', ..., 'Legal', 'Marketing', 'Product', 'Sales']"
     },
     "execution_count": 83,
     "metadata": {},
     "output_type": "execute_result"
    }
   ],
   "source": [
    "# get unduplicated data in Team\n",
    "\n",
    "employees['Team'].drop_duplicates()"
   ],
   "metadata": {
    "collapsed": false,
    "ExecuteTime": {
     "end_time": "2024-01-16T08:31:42.670075400Z",
     "start_time": "2024-01-16T08:31:42.629912600Z"
    }
   },
   "id": "d4c3518fad7b8589",
   "execution_count": 83
  },
  {
   "cell_type": "code",
   "outputs": [
    {
     "data": {
      "text/plain": "0       False\n1       False\n2       False\n3        True\n4       False\n        ...  \n996      True\n997      True\n998      True\n999      True\n1000     True\nName: Team, Length: 1001, dtype: bool"
     },
     "execution_count": 84,
     "metadata": {},
     "output_type": "execute_result"
    }
   ],
   "source": [
    "# get true or false about duplicated data in Team\n",
    "\n",
    "employees['Team'].duplicated()"
   ],
   "metadata": {
    "collapsed": false,
    "ExecuteTime": {
     "end_time": "2024-01-16T08:32:11.898772800Z",
     "start_time": "2024-01-16T08:32:11.871743200Z"
    }
   },
   "id": "d8139cc223eced2e",
   "execution_count": 84
  },
  {
   "cell_type": "code",
   "outputs": [],
   "source": [
    "file_netflix = '../DATA/netflix.csv'\n",
    "\n",
    "netflix_raw_data = pd.read_csv(file_netflix)"
   ],
   "metadata": {
    "collapsed": false,
    "ExecuteTime": {
     "end_time": "2024-01-16T08:33:02.695017600Z",
     "start_time": "2024-01-16T08:33:02.642987600Z"
    }
   },
   "id": "5d293f51d737170e",
   "execution_count": 85
  },
  {
   "cell_type": "code",
   "outputs": [
    {
     "name": "stdout",
     "output_type": "stream",
     "text": [
      "<class 'pandas.core.frame.DataFrame'>\n",
      "RangeIndex: 5837 entries, 0 to 5836\n",
      "Data columns (total 4 columns):\n",
      " #   Column      Non-Null Count  Dtype \n",
      "---  ------      --------------  ----- \n",
      " 0   title       5837 non-null   object\n",
      " 1   director    3936 non-null   object\n",
      " 2   date_added  5195 non-null   object\n",
      " 3   type        5837 non-null   object\n",
      "dtypes: object(4)\n",
      "memory usage: 182.5+ KB\n"
     ]
    }
   ],
   "source": [
    "netflix_raw_data.info()"
   ],
   "metadata": {
    "collapsed": false,
    "ExecuteTime": {
     "end_time": "2024-01-16T08:33:23.905623100Z",
     "start_time": "2024-01-16T08:33:23.894622300Z"
    }
   },
   "id": "415678511dcf26a2",
   "execution_count": 87
  },
  {
   "cell_type": "code",
   "outputs": [
    {
     "data": {
      "text/plain": "                      title        director date_added     type\n0               Alias Grace             NaN 2017-11-03  TV Show\n1            A Patch of Fog  Michael Lennox 2017-04-15    Movie\n2                  Lunatics             NaN 2019-04-19  TV Show\n3                 Uriyadi 2     Vijay Kumar 2019-08-02    Movie\n4         Shrek the Musical     Jason Moore 2013-12-29    Movie\n...                     ...             ...        ...      ...\n5832            The Pursuit     John Papola 2019-08-07    Movie\n5833       Hurricane Bianca   Matt Kugelman 2017-01-01    Movie\n5834           Amar's Hands  Khaled Youssef 2019-04-26    Movie\n5835  Bill Nye: Science Guy  Jason Sussberg 2018-04-25    Movie\n5836           Age of Glory             NaN        NaT  TV Show\n\n[5837 rows x 4 columns]",
      "text/html": "<div>\n<style scoped>\n    .dataframe tbody tr th:only-of-type {\n        vertical-align: middle;\n    }\n\n    .dataframe tbody tr th {\n        vertical-align: top;\n    }\n\n    .dataframe thead th {\n        text-align: right;\n    }\n</style>\n<table border=\"1\" class=\"dataframe\">\n  <thead>\n    <tr style=\"text-align: right;\">\n      <th></th>\n      <th>title</th>\n      <th>director</th>\n      <th>date_added</th>\n      <th>type</th>\n    </tr>\n  </thead>\n  <tbody>\n    <tr>\n      <th>0</th>\n      <td>Alias Grace</td>\n      <td>NaN</td>\n      <td>2017-11-03</td>\n      <td>TV Show</td>\n    </tr>\n    <tr>\n      <th>1</th>\n      <td>A Patch of Fog</td>\n      <td>Michael Lennox</td>\n      <td>2017-04-15</td>\n      <td>Movie</td>\n    </tr>\n    <tr>\n      <th>2</th>\n      <td>Lunatics</td>\n      <td>NaN</td>\n      <td>2019-04-19</td>\n      <td>TV Show</td>\n    </tr>\n    <tr>\n      <th>3</th>\n      <td>Uriyadi 2</td>\n      <td>Vijay Kumar</td>\n      <td>2019-08-02</td>\n      <td>Movie</td>\n    </tr>\n    <tr>\n      <th>4</th>\n      <td>Shrek the Musical</td>\n      <td>Jason Moore</td>\n      <td>2013-12-29</td>\n      <td>Movie</td>\n    </tr>\n    <tr>\n      <th>...</th>\n      <td>...</td>\n      <td>...</td>\n      <td>...</td>\n      <td>...</td>\n    </tr>\n    <tr>\n      <th>5832</th>\n      <td>The Pursuit</td>\n      <td>John Papola</td>\n      <td>2019-08-07</td>\n      <td>Movie</td>\n    </tr>\n    <tr>\n      <th>5833</th>\n      <td>Hurricane Bianca</td>\n      <td>Matt Kugelman</td>\n      <td>2017-01-01</td>\n      <td>Movie</td>\n    </tr>\n    <tr>\n      <th>5834</th>\n      <td>Amar's Hands</td>\n      <td>Khaled Youssef</td>\n      <td>2019-04-26</td>\n      <td>Movie</td>\n    </tr>\n    <tr>\n      <th>5835</th>\n      <td>Bill Nye: Science Guy</td>\n      <td>Jason Sussberg</td>\n      <td>2018-04-25</td>\n      <td>Movie</td>\n    </tr>\n    <tr>\n      <th>5836</th>\n      <td>Age of Glory</td>\n      <td>NaN</td>\n      <td>NaT</td>\n      <td>TV Show</td>\n    </tr>\n  </tbody>\n</table>\n<p>5837 rows × 4 columns</p>\n</div>"
     },
     "execution_count": 89,
     "metadata": {},
     "output_type": "execute_result"
    }
   ],
   "source": [
    "# set type col as category\n",
    "\n",
    "netflix_raw_data['type'] = netflix_raw_data['type'].astype('category')\n",
    "# set date_added as datetime dtype\n",
    "\n",
    "netflix_raw_data['date_added'] = pd.to_datetime(netflix_raw_data['date_added'])\n",
    "# set director as category dtype\n",
    "\n",
    "netflix_raw_data['director'] = netflix_raw_data['director'].astype('category')\n",
    "\n",
    "netflix_raw_data"
   ],
   "metadata": {
    "collapsed": false,
    "ExecuteTime": {
     "end_time": "2024-01-16T08:35:25.650183Z",
     "start_time": "2024-01-16T08:35:25.623181800Z"
    }
   },
   "id": "64cf7f3fef29b035",
   "execution_count": 89
  },
  {
   "cell_type": "code",
   "outputs": [
    {
     "data": {
      "text/plain": "          title         director date_added     type\n1559  Limitless      Neil Burger 2019-05-16    Movie\n2564  Limitless              NaN 2016-07-01  TV Show\n4579  Limitless  Vrinda Samartha 2019-10-01    Movie",
      "text/html": "<div>\n<style scoped>\n    .dataframe tbody tr th:only-of-type {\n        vertical-align: middle;\n    }\n\n    .dataframe tbody tr th {\n        vertical-align: top;\n    }\n\n    .dataframe thead th {\n        text-align: right;\n    }\n</style>\n<table border=\"1\" class=\"dataframe\">\n  <thead>\n    <tr style=\"text-align: right;\">\n      <th></th>\n      <th>title</th>\n      <th>director</th>\n      <th>date_added</th>\n      <th>type</th>\n    </tr>\n  </thead>\n  <tbody>\n    <tr>\n      <th>1559</th>\n      <td>Limitless</td>\n      <td>Neil Burger</td>\n      <td>2019-05-16</td>\n      <td>Movie</td>\n    </tr>\n    <tr>\n      <th>2564</th>\n      <td>Limitless</td>\n      <td>NaN</td>\n      <td>2016-07-01</td>\n      <td>TV Show</td>\n    </tr>\n    <tr>\n      <th>4579</th>\n      <td>Limitless</td>\n      <td>Vrinda Samartha</td>\n      <td>2019-10-01</td>\n      <td>Movie</td>\n    </tr>\n  </tbody>\n</table>\n</div>"
     },
     "execution_count": 92,
     "metadata": {},
     "output_type": "execute_result"
    }
   ],
   "source": [
    "# find all rows which title is Limitless\n",
    "\n",
    "netflix_raw_data[netflix_raw_data['title'] == 'Limitless']"
   ],
   "metadata": {
    "collapsed": false,
    "ExecuteTime": {
     "end_time": "2024-01-16T08:37:33.600959300Z",
     "start_time": "2024-01-16T08:37:33.571954100Z"
    }
   },
   "id": "7e4e0ab1d493564e",
   "execution_count": 92
  },
  {
   "cell_type": "code",
   "outputs": [
    {
     "data": {
      "text/plain": "                                      title          director date_added  \\\n1384    Spy Kids: All the Time in the World  Robert Rodriguez 2019-02-19   \n1416                  Spy Kids 3: Game Over  Robert Rodriguez 2019-04-01   \n1460  Spy Kids 2: The Island of Lost Dreams  Robert Rodriguez 2019-03-08   \n2890                               Sin City  Robert Rodriguez 2019-10-01   \n3836                                 Shorts  Robert Rodriguez 2019-07-01   \n3883                               Spy Kids  Robert Rodriguez 2019-04-01   \n\n       type  \n1384  Movie  \n1416  Movie  \n1460  Movie  \n2890  Movie  \n3836  Movie  \n3883  Movie  ",
      "text/html": "<div>\n<style scoped>\n    .dataframe tbody tr th:only-of-type {\n        vertical-align: middle;\n    }\n\n    .dataframe tbody tr th {\n        vertical-align: top;\n    }\n\n    .dataframe thead th {\n        text-align: right;\n    }\n</style>\n<table border=\"1\" class=\"dataframe\">\n  <thead>\n    <tr style=\"text-align: right;\">\n      <th></th>\n      <th>title</th>\n      <th>director</th>\n      <th>date_added</th>\n      <th>type</th>\n    </tr>\n  </thead>\n  <tbody>\n    <tr>\n      <th>1384</th>\n      <td>Spy Kids: All the Time in the World</td>\n      <td>Robert Rodriguez</td>\n      <td>2019-02-19</td>\n      <td>Movie</td>\n    </tr>\n    <tr>\n      <th>1416</th>\n      <td>Spy Kids 3: Game Over</td>\n      <td>Robert Rodriguez</td>\n      <td>2019-04-01</td>\n      <td>Movie</td>\n    </tr>\n    <tr>\n      <th>1460</th>\n      <td>Spy Kids 2: The Island of Lost Dreams</td>\n      <td>Robert Rodriguez</td>\n      <td>2019-03-08</td>\n      <td>Movie</td>\n    </tr>\n    <tr>\n      <th>2890</th>\n      <td>Sin City</td>\n      <td>Robert Rodriguez</td>\n      <td>2019-10-01</td>\n      <td>Movie</td>\n    </tr>\n    <tr>\n      <th>3836</th>\n      <td>Shorts</td>\n      <td>Robert Rodriguez</td>\n      <td>2019-07-01</td>\n      <td>Movie</td>\n    </tr>\n    <tr>\n      <th>3883</th>\n      <td>Spy Kids</td>\n      <td>Robert Rodriguez</td>\n      <td>2019-04-01</td>\n      <td>Movie</td>\n    </tr>\n  </tbody>\n</table>\n</div>"
     },
     "execution_count": 94,
     "metadata": {},
     "output_type": "execute_result"
    }
   ],
   "source": [
    "# get all rows which director is robert rodriguez and movie type is Movie\n",
    "\n",
    "netflix_raw_data[(netflix_raw_data['director'] == 'Robert Rodriguez') & (netflix_raw_data['type'] == 'Movie')]"
   ],
   "metadata": {
    "collapsed": false,
    "ExecuteTime": {
     "end_time": "2024-01-16T08:38:29.123182500Z",
     "start_time": "2024-01-16T08:38:29.111182400Z"
    }
   },
   "id": "32e1ef50b13b5ad6",
   "execution_count": 94
  },
  {
   "cell_type": "code",
   "outputs": [
    {
     "data": {
      "text/plain": "                                title       director date_added     type\n611                            Popeye  Robert Altman 2019-11-24    Movie\n1028        The Red Sea Diving Resort    Gideon Raff 2019-07-31    Movie\n1092                     Gosford Park  Robert Altman 2019-11-01    Movie\n3473  Bangkok Love Stories: Innocence            NaN 2019-07-31  TV Show\n5117                       Ramen Shop      Eric Khoo 2019-07-31    Movie",
      "text/html": "<div>\n<style scoped>\n    .dataframe tbody tr th:only-of-type {\n        vertical-align: middle;\n    }\n\n    .dataframe tbody tr th {\n        vertical-align: top;\n    }\n\n    .dataframe thead th {\n        text-align: right;\n    }\n</style>\n<table border=\"1\" class=\"dataframe\">\n  <thead>\n    <tr style=\"text-align: right;\">\n      <th></th>\n      <th>title</th>\n      <th>director</th>\n      <th>date_added</th>\n      <th>type</th>\n    </tr>\n  </thead>\n  <tbody>\n    <tr>\n      <th>611</th>\n      <td>Popeye</td>\n      <td>Robert Altman</td>\n      <td>2019-11-24</td>\n      <td>Movie</td>\n    </tr>\n    <tr>\n      <th>1028</th>\n      <td>The Red Sea Diving Resort</td>\n      <td>Gideon Raff</td>\n      <td>2019-07-31</td>\n      <td>Movie</td>\n    </tr>\n    <tr>\n      <th>1092</th>\n      <td>Gosford Park</td>\n      <td>Robert Altman</td>\n      <td>2019-11-01</td>\n      <td>Movie</td>\n    </tr>\n    <tr>\n      <th>3473</th>\n      <td>Bangkok Love Stories: Innocence</td>\n      <td>NaN</td>\n      <td>2019-07-31</td>\n      <td>TV Show</td>\n    </tr>\n    <tr>\n      <th>5117</th>\n      <td>Ramen Shop</td>\n      <td>Eric Khoo</td>\n      <td>2019-07-31</td>\n      <td>Movie</td>\n    </tr>\n  </tbody>\n</table>\n</div>"
     },
     "execution_count": 95,
     "metadata": {},
     "output_type": "execute_result"
    }
   ],
   "source": [
    "# fimd all rows in following condition 1. date_added = 2019-07-31 2. director = Robert Altman 3. use or condition only\n",
    "\n",
    "netflix_raw_data[(netflix_raw_data['date_added'] == pd.to_datetime('2019-07-31')) | (netflix_raw_data['director'] == 'Robert Altman')]"
   ],
   "metadata": {
    "collapsed": false,
    "ExecuteTime": {
     "end_time": "2024-01-16T08:39:56.723877600Z",
     "start_time": "2024-01-16T08:39:56.698877900Z"
    }
   },
   "id": "8d194b2146667b47",
   "execution_count": 95
  },
  {
   "cell_type": "code",
   "outputs": [
    {
     "data": {
      "text/plain": "                           title          director date_added   type\n946                 The Stranger      Orson Welles 2018-07-19  Movie\n1870                    The Gift         Sam Raimi 2019-11-20  Movie\n3706                Spider-Man 3         Sam Raimi 2019-11-01  Movie\n4243        Tikli and Laxmi Bomb  Aditya Kripalani 2018-08-01  Movie\n4475  The Other Side of the Wind      Orson Welles 2018-11-02  Movie\n5115    Tottaa Pataaka Item Maal  Aditya Kripalani 2019-06-25  Movie",
      "text/html": "<div>\n<style scoped>\n    .dataframe tbody tr th:only-of-type {\n        vertical-align: middle;\n    }\n\n    .dataframe tbody tr th {\n        vertical-align: top;\n    }\n\n    .dataframe thead th {\n        text-align: right;\n    }\n</style>\n<table border=\"1\" class=\"dataframe\">\n  <thead>\n    <tr style=\"text-align: right;\">\n      <th></th>\n      <th>title</th>\n      <th>director</th>\n      <th>date_added</th>\n      <th>type</th>\n    </tr>\n  </thead>\n  <tbody>\n    <tr>\n      <th>946</th>\n      <td>The Stranger</td>\n      <td>Orson Welles</td>\n      <td>2018-07-19</td>\n      <td>Movie</td>\n    </tr>\n    <tr>\n      <th>1870</th>\n      <td>The Gift</td>\n      <td>Sam Raimi</td>\n      <td>2019-11-20</td>\n      <td>Movie</td>\n    </tr>\n    <tr>\n      <th>3706</th>\n      <td>Spider-Man 3</td>\n      <td>Sam Raimi</td>\n      <td>2019-11-01</td>\n      <td>Movie</td>\n    </tr>\n    <tr>\n      <th>4243</th>\n      <td>Tikli and Laxmi Bomb</td>\n      <td>Aditya Kripalani</td>\n      <td>2018-08-01</td>\n      <td>Movie</td>\n    </tr>\n    <tr>\n      <th>4475</th>\n      <td>The Other Side of the Wind</td>\n      <td>Orson Welles</td>\n      <td>2018-11-02</td>\n      <td>Movie</td>\n    </tr>\n    <tr>\n      <th>5115</th>\n      <td>Tottaa Pataaka Item Maal</td>\n      <td>Aditya Kripalani</td>\n      <td>2019-06-25</td>\n      <td>Movie</td>\n    </tr>\n  </tbody>\n</table>\n</div>"
     },
     "execution_count": 96,
     "metadata": {},
     "output_type": "execute_result"
    }
   ],
   "source": [
    "# find all rows (1) director = Orson Welles or Aditya Kripalani or Sam Raimi\n",
    "\n",
    "netflix_raw_data[netflix_raw_data['director'].isin(['Orson Welles', 'Aditya Kripalani', 'Sam Raimi'])]"
   ],
   "metadata": {
    "collapsed": false,
    "ExecuteTime": {
     "end_time": "2024-01-16T08:40:52.833811900Z",
     "start_time": "2024-01-16T08:40:52.802775300Z"
    }
   },
   "id": "20bd4a524243fe74",
   "execution_count": 96
  },
  {
   "cell_type": "code",
   "outputs": [
    {
     "data": {
      "text/plain": "                                          title              director  \\\n29                                   Chopsticks          Sachin Yardi   \n60                               Away From Home                   NaN   \n82                          III Smoking Barrels            Sanjib Dey   \n108                                   Jailbirds                   NaN   \n124                                     Pegasus               Han Han   \n...                                         ...                   ...   \n5671                               Satan & Adam     V. Scott Balcerek   \n5675                           Rim of the World                   McG   \n5677                              Malibu Rescue  Savage Steve Holland   \n5739  Mission Istaanbul: Darr Ke Aagey Jeet Hai        Apoorva Lakhia   \n5829                       The Kindness Diaries                   NaN   \n\n     date_added     type  \n29   2019-05-31    Movie  \n60   2019-05-08  TV Show  \n82   2019-06-01    Movie  \n108  2019-05-10  TV Show  \n124  2019-05-31    Movie  \n...         ...      ...  \n5671 2019-06-01    Movie  \n5675 2019-05-24    Movie  \n5677 2019-05-13    Movie  \n5739 2019-05-16    Movie  \n5829 2019-05-01  TV Show  \n\n[183 rows x 4 columns]",
      "text/html": "<div>\n<style scoped>\n    .dataframe tbody tr th:only-of-type {\n        vertical-align: middle;\n    }\n\n    .dataframe tbody tr th {\n        vertical-align: top;\n    }\n\n    .dataframe thead th {\n        text-align: right;\n    }\n</style>\n<table border=\"1\" class=\"dataframe\">\n  <thead>\n    <tr style=\"text-align: right;\">\n      <th></th>\n      <th>title</th>\n      <th>director</th>\n      <th>date_added</th>\n      <th>type</th>\n    </tr>\n  </thead>\n  <tbody>\n    <tr>\n      <th>29</th>\n      <td>Chopsticks</td>\n      <td>Sachin Yardi</td>\n      <td>2019-05-31</td>\n      <td>Movie</td>\n    </tr>\n    <tr>\n      <th>60</th>\n      <td>Away From Home</td>\n      <td>NaN</td>\n      <td>2019-05-08</td>\n      <td>TV Show</td>\n    </tr>\n    <tr>\n      <th>82</th>\n      <td>III Smoking Barrels</td>\n      <td>Sanjib Dey</td>\n      <td>2019-06-01</td>\n      <td>Movie</td>\n    </tr>\n    <tr>\n      <th>108</th>\n      <td>Jailbirds</td>\n      <td>NaN</td>\n      <td>2019-05-10</td>\n      <td>TV Show</td>\n    </tr>\n    <tr>\n      <th>124</th>\n      <td>Pegasus</td>\n      <td>Han Han</td>\n      <td>2019-05-31</td>\n      <td>Movie</td>\n    </tr>\n    <tr>\n      <th>...</th>\n      <td>...</td>\n      <td>...</td>\n      <td>...</td>\n      <td>...</td>\n    </tr>\n    <tr>\n      <th>5671</th>\n      <td>Satan &amp; Adam</td>\n      <td>V. Scott Balcerek</td>\n      <td>2019-06-01</td>\n      <td>Movie</td>\n    </tr>\n    <tr>\n      <th>5675</th>\n      <td>Rim of the World</td>\n      <td>McG</td>\n      <td>2019-05-24</td>\n      <td>Movie</td>\n    </tr>\n    <tr>\n      <th>5677</th>\n      <td>Malibu Rescue</td>\n      <td>Savage Steve Holland</td>\n      <td>2019-05-13</td>\n      <td>Movie</td>\n    </tr>\n    <tr>\n      <th>5739</th>\n      <td>Mission Istaanbul: Darr Ke Aagey Jeet Hai</td>\n      <td>Apoorva Lakhia</td>\n      <td>2019-05-16</td>\n      <td>Movie</td>\n    </tr>\n    <tr>\n      <th>5829</th>\n      <td>The Kindness Diaries</td>\n      <td>NaN</td>\n      <td>2019-05-01</td>\n      <td>TV Show</td>\n    </tr>\n  </tbody>\n</table>\n<p>183 rows × 4 columns</p>\n</div>"
     },
     "execution_count": 100,
     "metadata": {},
     "output_type": "execute_result"
    }
   ],
   "source": [
    "# find all movie which is added between 2019-05-01 and 2019-06-01\n",
    "netflix_raw_data[netflix_raw_data[\"date_added\"].between(pd.to_datetime('2019-05-01'), pd.to_datetime('2019-06-01'))]\n"
   ],
   "metadata": {
    "collapsed": false,
    "ExecuteTime": {
     "end_time": "2024-01-16T08:43:34.109232500Z",
     "start_time": "2024-01-16T08:43:34.072206700Z"
    }
   },
   "id": "efe16524b4c9c596",
   "execution_count": 100
  },
  {
   "cell_type": "code",
   "outputs": [
    {
     "data": {
      "text/plain": "                                   title        director date_added   type\n1                         A Patch of Fog  Michael Lennox 2017-04-15  Movie\n3                              Uriyadi 2     Vijay Kumar 2019-08-02  Movie\n4                      Shrek the Musical     Jason Moore 2013-12-29  Movie\n5                       Schubert In Love     Lars Büchel 2018-03-01  Movie\n6     We Have Always Lived in the Castle   Stacie Passon 2019-09-14  Movie\n...                                  ...             ...        ...    ...\n5830                         Bibi & Tina     Detlev Buck 2017-04-15  Movie\n5832                         The Pursuit     John Papola 2019-08-07  Movie\n5833                    Hurricane Bianca   Matt Kugelman 2017-01-01  Movie\n5834                        Amar's Hands  Khaled Youssef 2019-04-26  Movie\n5835               Bill Nye: Science Guy  Jason Sussberg 2018-04-25  Movie\n\n[3936 rows x 4 columns]",
      "text/html": "<div>\n<style scoped>\n    .dataframe tbody tr th:only-of-type {\n        vertical-align: middle;\n    }\n\n    .dataframe tbody tr th {\n        vertical-align: top;\n    }\n\n    .dataframe thead th {\n        text-align: right;\n    }\n</style>\n<table border=\"1\" class=\"dataframe\">\n  <thead>\n    <tr style=\"text-align: right;\">\n      <th></th>\n      <th>title</th>\n      <th>director</th>\n      <th>date_added</th>\n      <th>type</th>\n    </tr>\n  </thead>\n  <tbody>\n    <tr>\n      <th>1</th>\n      <td>A Patch of Fog</td>\n      <td>Michael Lennox</td>\n      <td>2017-04-15</td>\n      <td>Movie</td>\n    </tr>\n    <tr>\n      <th>3</th>\n      <td>Uriyadi 2</td>\n      <td>Vijay Kumar</td>\n      <td>2019-08-02</td>\n      <td>Movie</td>\n    </tr>\n    <tr>\n      <th>4</th>\n      <td>Shrek the Musical</td>\n      <td>Jason Moore</td>\n      <td>2013-12-29</td>\n      <td>Movie</td>\n    </tr>\n    <tr>\n      <th>5</th>\n      <td>Schubert In Love</td>\n      <td>Lars Büchel</td>\n      <td>2018-03-01</td>\n      <td>Movie</td>\n    </tr>\n    <tr>\n      <th>6</th>\n      <td>We Have Always Lived in the Castle</td>\n      <td>Stacie Passon</td>\n      <td>2019-09-14</td>\n      <td>Movie</td>\n    </tr>\n    <tr>\n      <th>...</th>\n      <td>...</td>\n      <td>...</td>\n      <td>...</td>\n      <td>...</td>\n    </tr>\n    <tr>\n      <th>5830</th>\n      <td>Bibi &amp; Tina</td>\n      <td>Detlev Buck</td>\n      <td>2017-04-15</td>\n      <td>Movie</td>\n    </tr>\n    <tr>\n      <th>5832</th>\n      <td>The Pursuit</td>\n      <td>John Papola</td>\n      <td>2019-08-07</td>\n      <td>Movie</td>\n    </tr>\n    <tr>\n      <th>5833</th>\n      <td>Hurricane Bianca</td>\n      <td>Matt Kugelman</td>\n      <td>2017-01-01</td>\n      <td>Movie</td>\n    </tr>\n    <tr>\n      <th>5834</th>\n      <td>Amar's Hands</td>\n      <td>Khaled Youssef</td>\n      <td>2019-04-26</td>\n      <td>Movie</td>\n    </tr>\n    <tr>\n      <th>5835</th>\n      <td>Bill Nye: Science Guy</td>\n      <td>Jason Sussberg</td>\n      <td>2018-04-25</td>\n      <td>Movie</td>\n    </tr>\n  </tbody>\n</table>\n<p>3936 rows × 4 columns</p>\n</div>"
     },
     "execution_count": 101,
     "metadata": {},
     "output_type": "execute_result"
    }
   ],
   "source": [
    "netflix_raw_data.dropna(subset=['director'])"
   ],
   "metadata": {
    "collapsed": false,
    "ExecuteTime": {
     "end_time": "2024-01-16T08:44:55.605389200Z",
     "start_time": "2024-01-16T08:44:55.580385Z"
    }
   },
   "id": "3aab1c5dfa3d01a6",
   "execution_count": 101
  },
  {
   "cell_type": "code",
   "outputs": [
    {
     "data": {
      "text/plain": "                                        title         director date_added  \\\n4                           Shrek the Musical      Jason Moore 2013-12-29   \n12                              Without Gorky   Cosima Spender 2017-05-31   \n30                 Anjelah Johnson: Not Fancy        Jay Karas 2015-10-02   \n38                             One Last Thing      Tim Rouhana 2019-08-25   \n70    Marvel's Iron Man & Hulk: Heroes United        Leo Riley 2014-02-16   \n...                                       ...              ...        ...   \n5748                                  Menorca     John Barnard 2017-08-27   \n5749                               Green Room  Jeremy Saulnier 2018-11-12   \n5788          Chris Brown: Welcome to My Life   Andrew Sandler 2017-10-07   \n5789                  A Very Murray Christmas    Sofia Coppola 2015-12-04   \n5812                 Little Singham in London    Prakash Satam 2019-04-22   \n\n       type  \n4     Movie  \n12    Movie  \n30    Movie  \n38    Movie  \n70    Movie  \n...     ...  \n5748  Movie  \n5749  Movie  \n5788  Movie  \n5789  Movie  \n5812  Movie  \n\n[325 rows x 4 columns]",
      "text/html": "<div>\n<style scoped>\n    .dataframe tbody tr th:only-of-type {\n        vertical-align: middle;\n    }\n\n    .dataframe tbody tr th {\n        vertical-align: top;\n    }\n\n    .dataframe thead th {\n        text-align: right;\n    }\n</style>\n<table border=\"1\" class=\"dataframe\">\n  <thead>\n    <tr style=\"text-align: right;\">\n      <th></th>\n      <th>title</th>\n      <th>director</th>\n      <th>date_added</th>\n      <th>type</th>\n    </tr>\n  </thead>\n  <tbody>\n    <tr>\n      <th>4</th>\n      <td>Shrek the Musical</td>\n      <td>Jason Moore</td>\n      <td>2013-12-29</td>\n      <td>Movie</td>\n    </tr>\n    <tr>\n      <th>12</th>\n      <td>Without Gorky</td>\n      <td>Cosima Spender</td>\n      <td>2017-05-31</td>\n      <td>Movie</td>\n    </tr>\n    <tr>\n      <th>30</th>\n      <td>Anjelah Johnson: Not Fancy</td>\n      <td>Jay Karas</td>\n      <td>2015-10-02</td>\n      <td>Movie</td>\n    </tr>\n    <tr>\n      <th>38</th>\n      <td>One Last Thing</td>\n      <td>Tim Rouhana</td>\n      <td>2019-08-25</td>\n      <td>Movie</td>\n    </tr>\n    <tr>\n      <th>70</th>\n      <td>Marvel's Iron Man &amp; Hulk: Heroes United</td>\n      <td>Leo Riley</td>\n      <td>2014-02-16</td>\n      <td>Movie</td>\n    </tr>\n    <tr>\n      <th>...</th>\n      <td>...</td>\n      <td>...</td>\n      <td>...</td>\n      <td>...</td>\n    </tr>\n    <tr>\n      <th>5748</th>\n      <td>Menorca</td>\n      <td>John Barnard</td>\n      <td>2017-08-27</td>\n      <td>Movie</td>\n    </tr>\n    <tr>\n      <th>5749</th>\n      <td>Green Room</td>\n      <td>Jeremy Saulnier</td>\n      <td>2018-11-12</td>\n      <td>Movie</td>\n    </tr>\n    <tr>\n      <th>5788</th>\n      <td>Chris Brown: Welcome to My Life</td>\n      <td>Andrew Sandler</td>\n      <td>2017-10-07</td>\n      <td>Movie</td>\n    </tr>\n    <tr>\n      <th>5789</th>\n      <td>A Very Murray Christmas</td>\n      <td>Sofia Coppola</td>\n      <td>2015-12-04</td>\n      <td>Movie</td>\n    </tr>\n    <tr>\n      <th>5812</th>\n      <td>Little Singham in London</td>\n      <td>Prakash Satam</td>\n      <td>2019-04-22</td>\n      <td>Movie</td>\n    </tr>\n  </tbody>\n</table>\n<p>325 rows × 4 columns</p>\n</div>"
     },
     "execution_count": 107,
     "metadata": {},
     "output_type": "execute_result"
    }
   ],
   "source": [
    "# find the movie which is the only one movie on date_added\n",
    "\n",
    "netflix_raw_data[~(netflix_raw_data['date_added'].duplicated(keep=False)) & (netflix_raw_data['type'] == 'Movie')]"
   ],
   "metadata": {
    "collapsed": false,
    "ExecuteTime": {
     "end_time": "2024-01-16T08:51:43.380264Z",
     "start_time": "2024-01-16T08:51:43.362258600Z"
    }
   },
   "id": "31d9606001f71023",
   "execution_count": 107
  },
  {
   "cell_type": "code",
   "outputs": [],
   "source": [],
   "metadata": {
    "collapsed": false
   },
   "id": "7046acfb668a25c9"
  }
 ],
 "metadata": {
  "kernelspec": {
   "display_name": "Python 3",
   "language": "python",
   "name": "python3"
  },
  "language_info": {
   "codemirror_mode": {
    "name": "ipython",
    "version": 2
   },
   "file_extension": ".py",
   "mimetype": "text/x-python",
   "name": "python",
   "nbconvert_exporter": "python",
   "pygments_lexer": "ipython2",
   "version": "2.7.6"
  }
 },
 "nbformat": 4,
 "nbformat_minor": 5
}
