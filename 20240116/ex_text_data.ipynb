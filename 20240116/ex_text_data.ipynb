{
 "cells": [
  {
   "cell_type": "markdown",
   "source": [
    "## [ 텍스트 데이터 처리 ]\n",
    "- 다양한 형태의 테스트 데이터를 정리하기 위한 방법\n",
    "- Series에 str 속성을 활용\n",
    "- 사용방법 : Series객체변수명.str.메서드\n"
   ],
   "metadata": {
    "collapsed": false
   },
   "id": "cd3a398fad4cddf1"
  },
  {
   "cell_type": "markdown",
   "source": [
    "- 문자열 관련 메서드들을 살펴보기\n",
    "(1) 공백 제거 관련 매서드 => strip(), rstrip(),  lstrip()"
   ],
   "metadata": {
    "collapsed": false
   },
   "id": "81fb5962898a938c"
  },
  {
   "cell_type": "code",
   "outputs": [
    {
     "name": "stdout",
     "output_type": "stream",
     "text": [
      "before : 28\n",
      "after : 13\n"
     ]
    }
   ],
   "source": [
    "msg = '       Hello, World!        '\n",
    "print(f\"before : {len(msg)}\")\n",
    "msg = msg.strip()\n",
    "print(f\"after : {len(msg)}\")\n"
   ],
   "metadata": {
    "collapsed": false,
    "ExecuteTime": {
     "end_time": "2024-01-16T07:48:51.769880600Z",
     "start_time": "2024-01-16T07:48:51.752789200Z"
    }
   },
   "id": "6048fda005193951",
   "execution_count": 73
  },
  {
   "cell_type": "markdown",
   "source": [
    "(1) 모듈 로딩"
   ],
   "metadata": {
    "collapsed": false
   },
   "id": "fdbe04444dae388c"
  },
  {
   "cell_type": "code",
   "outputs": [],
   "source": [
    "import pandas as pd\n"
   ],
   "metadata": {
    "collapsed": false,
    "ExecuteTime": {
     "end_time": "2024-01-16T07:48:51.810869800Z",
     "start_time": "2024-01-16T07:48:51.772870500Z"
    }
   },
   "id": "e7002bb91da96e22",
   "execution_count": 74
  },
  {
   "cell_type": "markdown",
   "source": [
    "(2) 데이터 준비 및 데이터확인"
   ],
   "metadata": {
    "collapsed": false
   },
   "id": "ac5e3fc19afc8b2e"
  },
  {
   "cell_type": "code",
   "outputs": [
    {
     "data": {
      "text/plain": "                                      Name             Risk\n0               MARRIOT MARQUIS CHICAGO       Risk 1 (High)\n1                              JETS PIZZA   Risk 2 (Medium)\n2                               ROOM 1520      Risk 3 (Low)\n3                MARRIOT MARQUIS CHICAGO      Risk 1 (High)\n4                            CHARTWELLS       Risk 1 (High)\n...                                    ...              ...\n153805                         WOLCOTT'S      Risk 1 (High)\n153806     DUNKIN DONUTS/BASKIN-ROBBINS     Risk 2 (Medium)\n153807                           Cafe 608     Risk 1 (High)\n153808                        mr.daniel's     Risk 1 (High)\n153809                         TEMPO CAFE     Risk 1 (High)\n\n[153810 rows x 2 columns]",
      "text/html": "<div>\n<style scoped>\n    .dataframe tbody tr th:only-of-type {\n        vertical-align: middle;\n    }\n\n    .dataframe tbody tr th {\n        vertical-align: top;\n    }\n\n    .dataframe thead th {\n        text-align: right;\n    }\n</style>\n<table border=\"1\" class=\"dataframe\">\n  <thead>\n    <tr style=\"text-align: right;\">\n      <th></th>\n      <th>Name</th>\n      <th>Risk</th>\n    </tr>\n  </thead>\n  <tbody>\n    <tr>\n      <th>0</th>\n      <td>MARRIOT MARQUIS CHICAGO</td>\n      <td>Risk 1 (High)</td>\n    </tr>\n    <tr>\n      <th>1</th>\n      <td>JETS PIZZA</td>\n      <td>Risk 2 (Medium)</td>\n    </tr>\n    <tr>\n      <th>2</th>\n      <td>ROOM 1520</td>\n      <td>Risk 3 (Low)</td>\n    </tr>\n    <tr>\n      <th>3</th>\n      <td>MARRIOT MARQUIS CHICAGO</td>\n      <td>Risk 1 (High)</td>\n    </tr>\n    <tr>\n      <th>4</th>\n      <td>CHARTWELLS</td>\n      <td>Risk 1 (High)</td>\n    </tr>\n    <tr>\n      <th>...</th>\n      <td>...</td>\n      <td>...</td>\n    </tr>\n    <tr>\n      <th>153805</th>\n      <td>WOLCOTT'S</td>\n      <td>Risk 1 (High)</td>\n    </tr>\n    <tr>\n      <th>153806</th>\n      <td>DUNKIN DONUTS/BASKIN-ROBBINS</td>\n      <td>Risk 2 (Medium)</td>\n    </tr>\n    <tr>\n      <th>153807</th>\n      <td>Cafe 608</td>\n      <td>Risk 1 (High)</td>\n    </tr>\n    <tr>\n      <th>153808</th>\n      <td>mr.daniel's</td>\n      <td>Risk 1 (High)</td>\n    </tr>\n    <tr>\n      <th>153809</th>\n      <td>TEMPO CAFE</td>\n      <td>Risk 1 (High)</td>\n    </tr>\n  </tbody>\n</table>\n<p>153810 rows × 2 columns</p>\n</div>"
     },
     "execution_count": 75,
     "metadata": {},
     "output_type": "execute_result"
    }
   ],
   "source": [
    "file = '../DATA/chicago_food_inspections.csv'\n",
    "df = pd.read_csv(file)\n",
    "df"
   ],
   "metadata": {
    "collapsed": false,
    "ExecuteTime": {
     "end_time": "2024-01-16T07:48:51.894240200Z",
     "start_time": "2024-01-16T07:48:51.791869200Z"
    }
   },
   "id": "3e39bd37097590bb",
   "execution_count": 75
  },
  {
   "cell_type": "markdown",
   "source": [
    "(3) 문자열 관련 메서드 실습"
   ],
   "metadata": {
    "collapsed": false
   },
   "id": "b4c662324e46ca31"
  },
  {
   "cell_type": "markdown",
   "source": [
    "- Name 컬럼에서 공백제거 처리"
   ],
   "metadata": {
    "collapsed": false
   },
   "id": "97a95a08421cd020"
  },
  {
   "cell_type": "code",
   "outputs": [],
   "source": [
    "df['Name'] = df['Name'].str.strip()\n",
    "\n",
    "# make risk as category dtype\n",
    "df['Risk'] = df['Risk'].astype('category')"
   ],
   "metadata": {
    "collapsed": false,
    "ExecuteTime": {
     "end_time": "2024-01-16T07:48:51.944227300Z",
     "start_time": "2024-01-16T07:48:51.929223700Z"
    }
   },
   "id": "eaee664efea52517",
   "execution_count": 76
  },
  {
   "cell_type": "code",
   "outputs": [
    {
     "name": "stdout",
     "output_type": "stream",
     "text": [
      "<class 'pandas.core.frame.DataFrame'>\n",
      "RangeIndex: 153810 entries, 0 to 153809\n",
      "Data columns (total 2 columns):\n",
      " #   Column  Non-Null Count   Dtype   \n",
      "---  ------  --------------   -----   \n",
      " 0   Name    153810 non-null  object  \n",
      " 1   Risk    153744 non-null  category\n",
      "dtypes: category(1), object(1)\n",
      "memory usage: 1.3+ MB\n"
     ]
    }
   ],
   "source": [
    "df.info()"
   ],
   "metadata": {
    "collapsed": false,
    "ExecuteTime": {
     "end_time": "2024-01-16T07:48:51.977284300Z",
     "start_time": "2024-01-16T07:48:51.938227800Z"
    }
   },
   "id": "bc780bf0131a603a",
   "execution_count": 77
  },
  {
   "cell_type": "code",
   "outputs": [
    {
     "name": "stdout",
     "output_type": "stream",
     "text": [
      "<class 'pandas.core.frame.DataFrame'>\n",
      "Index: 153744 entries, 0 to 153809\n",
      "Data columns (total 2 columns):\n",
      " #   Column  Non-Null Count   Dtype   \n",
      "---  ------  --------------   -----   \n",
      " 0   Name    153744 non-null  object  \n",
      " 1   Risk    153744 non-null  category\n",
      "dtypes: category(1), object(1)\n",
      "memory usage: 2.5+ MB\n"
     ]
    }
   ],
   "source": [
    "# drop the items which do not have risk data\n",
    "df = df.dropna(subset=['Risk'])\n",
    "df.info()"
   ],
   "metadata": {
    "collapsed": false,
    "ExecuteTime": {
     "end_time": "2024-01-16T07:48:51.977284300Z",
     "start_time": "2024-01-16T07:48:51.953771100Z"
    }
   },
   "id": "d76a2524b2038c6e",
   "execution_count": 78
  },
  {
   "cell_type": "code",
   "outputs": [
    {
     "name": "stderr",
     "output_type": "stream",
     "text": [
      "C:\\Users\\Administrator\\AppData\\Local\\Temp\\ipykernel_21088\\1149647689.py:2: SettingWithCopyWarning: \n",
      "A value is trying to be set on a copy of a slice from a DataFrame.\n",
      "Try using .loc[row_indexer,col_indexer] = value instead\n",
      "\n",
      "See the caveats in the documentation: https://pandas.pydata.org/pandas-docs/stable/user_guide/indexing.html#returning-a-view-versus-a-copy\n",
      "  df['Risk'] = df['Risk'].str.replace('All', 'Risk 4 (Extreme)')\n",
      "C:\\Users\\Administrator\\AppData\\Local\\Temp\\ipykernel_21088\\1149647689.py:3: SettingWithCopyWarning: \n",
      "A value is trying to be set on a copy of a slice from a DataFrame.\n",
      "Try using .loc[row_indexer,col_indexer] = value instead\n",
      "\n",
      "See the caveats in the documentation: https://pandas.pydata.org/pandas-docs/stable/user_guide/indexing.html#returning-a-view-versus-a-copy\n",
      "  df['Risk'] = df['Risk'].astype('category')\n",
      "C:\\Users\\Administrator\\AppData\\Local\\Temp\\ipykernel_21088\\1149647689.py:11: SettingWithCopyWarning: \n",
      "A value is trying to be set on a copy of a slice from a DataFrame.\n",
      "Try using .loc[row_indexer,col_indexer] = value instead\n",
      "\n",
      "See the caveats in the documentation: https://pandas.pydata.org/pandas-docs/stable/user_guide/indexing.html#returning-a-view-versus-a-copy\n",
      "  df['Risk_num'] = df['Risk'].cat.codes + 1\n"
     ]
    },
    {
     "data": {
      "text/plain": "                                Name             Risk  Risk_num\n0            MARRIOT MARQUIS CHICAGO    Risk 1 (High)         1\n1                         JETS PIZZA  Risk 2 (Medium)         2\n2                          ROOM 1520     Risk 3 (Low)         3\n3            MARRIOT MARQUIS CHICAGO    Risk 1 (High)         1\n4                         CHARTWELLS    Risk 1 (High)         1\n...                              ...              ...       ...\n153805                     WOLCOTT'S    Risk 1 (High)         1\n153806  DUNKIN DONUTS/BASKIN-ROBBINS  Risk 2 (Medium)         2\n153807                      Cafe 608    Risk 1 (High)         1\n153808                   mr.daniel's    Risk 1 (High)         1\n153809                    TEMPO CAFE    Risk 1 (High)         1\n\n[153744 rows x 3 columns]",
      "text/html": "<div>\n<style scoped>\n    .dataframe tbody tr th:only-of-type {\n        vertical-align: middle;\n    }\n\n    .dataframe tbody tr th {\n        vertical-align: top;\n    }\n\n    .dataframe thead th {\n        text-align: right;\n    }\n</style>\n<table border=\"1\" class=\"dataframe\">\n  <thead>\n    <tr style=\"text-align: right;\">\n      <th></th>\n      <th>Name</th>\n      <th>Risk</th>\n      <th>Risk_num</th>\n    </tr>\n  </thead>\n  <tbody>\n    <tr>\n      <th>0</th>\n      <td>MARRIOT MARQUIS CHICAGO</td>\n      <td>Risk 1 (High)</td>\n      <td>1</td>\n    </tr>\n    <tr>\n      <th>1</th>\n      <td>JETS PIZZA</td>\n      <td>Risk 2 (Medium)</td>\n      <td>2</td>\n    </tr>\n    <tr>\n      <th>2</th>\n      <td>ROOM 1520</td>\n      <td>Risk 3 (Low)</td>\n      <td>3</td>\n    </tr>\n    <tr>\n      <th>3</th>\n      <td>MARRIOT MARQUIS CHICAGO</td>\n      <td>Risk 1 (High)</td>\n      <td>1</td>\n    </tr>\n    <tr>\n      <th>4</th>\n      <td>CHARTWELLS</td>\n      <td>Risk 1 (High)</td>\n      <td>1</td>\n    </tr>\n    <tr>\n      <th>...</th>\n      <td>...</td>\n      <td>...</td>\n      <td>...</td>\n    </tr>\n    <tr>\n      <th>153805</th>\n      <td>WOLCOTT'S</td>\n      <td>Risk 1 (High)</td>\n      <td>1</td>\n    </tr>\n    <tr>\n      <th>153806</th>\n      <td>DUNKIN DONUTS/BASKIN-ROBBINS</td>\n      <td>Risk 2 (Medium)</td>\n      <td>2</td>\n    </tr>\n    <tr>\n      <th>153807</th>\n      <td>Cafe 608</td>\n      <td>Risk 1 (High)</td>\n      <td>1</td>\n    </tr>\n    <tr>\n      <th>153808</th>\n      <td>mr.daniel's</td>\n      <td>Risk 1 (High)</td>\n      <td>1</td>\n    </tr>\n    <tr>\n      <th>153809</th>\n      <td>TEMPO CAFE</td>\n      <td>Risk 1 (High)</td>\n      <td>1</td>\n    </tr>\n  </tbody>\n</table>\n<p>153744 rows × 3 columns</p>\n</div>"
     },
     "execution_count": 79,
     "metadata": {},
     "output_type": "execute_result"
    }
   ],
   "source": [
    "\n",
    "# replace the All in replace to 'Risk 4 (Extreme)'\n",
    "df['Risk'] = df['Risk'].str.replace('All', 'Risk 4 (Extreme)')\n",
    "df['Risk'] = df['Risk'].astype('category')\n",
    "\n",
    "# 기본 => 행 방향, 행 내에 1개라도 NaN 이 있을 경우 삭제\n",
    "\n",
    "# make the number in risk as new column as str.slice method\n",
    "# df['Risk_num'] = df['Risk'].str.slice(5,6).astype('int16')\n",
    "\n",
    "# make the number in risk as new column\n",
    "df['Risk_num'] = df['Risk'].cat.codes + 1\n",
    "df"
   ],
   "metadata": {
    "collapsed": false,
    "ExecuteTime": {
     "end_time": "2024-01-16T07:48:52.035285800Z",
     "start_time": "2024-01-16T07:48:51.971284700Z"
    }
   },
   "id": "24db1ddbfe8b7c2f",
   "execution_count": 79
  },
  {
   "cell_type": "code",
   "outputs": [],
   "source": [
    "#  save the name column into list\n",
    "name_list = df['Name'].tolist()"
   ],
   "metadata": {
    "collapsed": false,
    "ExecuteTime": {
     "end_time": "2024-01-16T07:54:27.843702200Z",
     "start_time": "2024-01-16T07:54:27.833700500Z"
    }
   },
   "id": "96db12832aea56e8",
   "execution_count": 80
  }
 ],
 "metadata": {
  "kernelspec": {
   "display_name": "Python 3",
   "language": "python",
   "name": "python3"
  },
  "language_info": {
   "codemirror_mode": {
    "name": "ipython",
    "version": 2
   },
   "file_extension": ".py",
   "mimetype": "text/x-python",
   "name": "python",
   "nbconvert_exporter": "python",
   "pygments_lexer": "ipython2",
   "version": "2.7.6"
  }
 },
 "nbformat": 4,
 "nbformat_minor": 5
}
