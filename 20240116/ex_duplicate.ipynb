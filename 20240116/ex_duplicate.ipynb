{
 "cells": [
  {
   "cell_type": "markdown",
   "source": [
    "## [중복데이터 처리]\n",
    "- 중복 데이터의 기준 ==> 행(row)\n",
    "- 행 단위로 모든 컬럼의 값이 완전히 똑같은 데이터는 중복데이터\n",
    "- 처리 ==> 제거"
   ],
   "metadata": {
    "collapsed": false
   },
   "id": "6c268661b53c7e5b"
  },
  {
   "cell_type": "markdown",
   "source": [
    "(1) 모듈 로딩"
   ],
   "metadata": {
    "collapsed": false
   },
   "id": "712fb896b8470f72"
  },
  {
   "cell_type": "code",
   "outputs": [],
   "source": [
    "import pandas as pd"
   ],
   "metadata": {
    "collapsed": false,
    "ExecuteTime": {
     "end_time": "2024-01-16T02:17:37.827462500Z",
     "start_time": "2024-01-16T02:17:37.810947100Z"
    }
   },
   "id": "3a90c2c380f7536f",
   "execution_count": 14
  },
  {
   "cell_type": "markdown",
   "source": [
    "(2) 데이터 준비 및 로드"
   ],
   "metadata": {
    "collapsed": false
   },
   "id": "5b9041874a9d89a1"
  },
  {
   "cell_type": "code",
   "outputs": [],
   "source": [
    "file = '../DATA/employees.csv'\n",
    "empDF = pd.read_csv(file, header=0)"
   ],
   "metadata": {
    "collapsed": false,
    "ExecuteTime": {
     "end_time": "2024-01-16T02:17:38.095516Z",
     "start_time": "2024-01-16T02:17:38.076512500Z"
    }
   },
   "id": "9237d7e0888c4111",
   "execution_count": 15
  },
  {
   "cell_type": "markdown",
   "source": [
    "(3) 데아터 확인"
   ],
   "metadata": {
    "collapsed": false
   },
   "id": "5d6abfbd549ed051"
  },
  {
   "cell_type": "code",
   "outputs": [
    {
     "name": "stdout",
     "output_type": "stream",
     "text": [
      "<class 'pandas.core.frame.DataFrame'>\n",
      "RangeIndex: 1001 entries, 0 to 1000\n",
      "Data columns (total 6 columns):\n",
      " #   Column      Non-Null Count  Dtype  \n",
      "---  ------      --------------  -----  \n",
      " 0   First Name  933 non-null    object \n",
      " 1   Gender      854 non-null    object \n",
      " 2   Start Date  999 non-null    object \n",
      " 3   Salary      999 non-null    float64\n",
      " 4   Mgmt        933 non-null    object \n",
      " 5   Team        957 non-null    object \n",
      "dtypes: float64(1), object(5)\n",
      "memory usage: 47.0+ KB\n"
     ]
    }
   ],
   "source": [
    "empDF.info()"
   ],
   "metadata": {
    "collapsed": false,
    "ExecuteTime": {
     "end_time": "2024-01-16T02:17:38.366249600Z",
     "start_time": "2024-01-16T02:17:38.350248900Z"
    }
   },
   "id": "ad9f13680d37e041",
   "execution_count": 16
  },
  {
   "cell_type": "markdown",
   "source": [
    "(4) 데이터 전처리 => 나. 중복데이터 처리 <hr>"
   ],
   "metadata": {
    "collapsed": false
   },
   "id": "c0b9b51d864e169e"
  },
  {
   "cell_type": "markdown",
   "source": [
    "- 중복 데이터 검사 => duplicated() 중복이면 True\n",
    "- 중복 데이터 제거 => drop_duplicates()"
   ],
   "metadata": {
    "collapsed": false
   },
   "id": "53ab6a714d63f05d"
  },
  {
   "cell_type": "code",
   "outputs": [
    {
     "data": {
      "text/plain": "0       False\n1       False\n2       False\n3        True\n4       False\n        ...  \n996      True\n997      True\n998      True\n999      True\n1000     True\nName: Team, Length: 1001, dtype: bool"
     },
     "execution_count": 25,
     "metadata": {},
     "output_type": "execute_result"
    }
   ],
   "source": [
    "# 행단위로 완전이 동일한 행 검사 ==> 0개\n",
    "empDF.duplicated().sum()\n",
    "\n",
    "empDF['Team'].duplicated()"
   ],
   "metadata": {
    "collapsed": false,
    "ExecuteTime": {
     "end_time": "2024-01-16T02:31:11.521083Z",
     "start_time": "2024-01-16T02:31:11.496411200Z"
    }
   },
   "id": "686a2e9abd5ee917",
   "execution_count": 25
  },
  {
   "cell_type": "code",
   "outputs": [
    {
     "data": {
      "text/plain": "990"
     },
     "execution_count": 18,
     "metadata": {},
     "output_type": "execute_result"
    }
   ],
   "source": [
    "# Team 컬럼 검사\n",
    "empDF['Team'].duplicated().sum()"
   ],
   "metadata": {
    "collapsed": false,
    "ExecuteTime": {
     "end_time": "2024-01-16T02:17:38.869230400Z",
     "start_time": "2024-01-16T02:17:38.856215500Z"
    }
   },
   "id": "3e8ddcd296b31563",
   "execution_count": 18
  },
  {
   "cell_type": "code",
   "outputs": [
    {
     "data": {
      "text/plain": "array(['Marketing', nan, 'Finance', 'IT', 'Legal', 'Product',\n       'Engineering', 'Business Dev', 'HR', 'Sales', 'Distribution'],\n      dtype=object)"
     },
     "execution_count": 19,
     "metadata": {},
     "output_type": "execute_result"
    }
   ],
   "source": [
    "# Team 컬럼 고유값 검사\n",
    "empDF['Team'].unique()"
   ],
   "metadata": {
    "collapsed": false,
    "ExecuteTime": {
     "end_time": "2024-01-16T02:17:39.299603Z",
     "start_time": "2024-01-16T02:17:39.288277200Z"
    }
   },
   "id": "3ecbace32f33fc90",
   "execution_count": 19
  },
  {
   "cell_type": "code",
   "outputs": [
    {
     "data": {
      "text/plain": "0        Marketing\n1              NaN\n2          Finance\n4               IT\n5            Legal\n6          Product\n8      Engineering\n9     Business Dev\n12              HR\n13           Sales\n40    Distribution\nName: Team, dtype: object"
     },
     "execution_count": 21,
     "metadata": {},
     "output_type": "execute_result"
    }
   ],
   "source": [
    "empTeamDF = empDF['Team'].copy()\n",
    "\n",
    "empTeamDF.drop_duplicates(inplace=False)"
   ],
   "metadata": {
    "collapsed": false,
    "ExecuteTime": {
     "end_time": "2024-01-16T02:19:45.090366200Z",
     "start_time": "2024-01-16T02:19:45.084368400Z"
    }
   },
   "id": "cb6b16ed63c37ddc",
   "execution_count": 21
  },
  {
   "cell_type": "code",
   "outputs": [
    {
     "data": {
      "text/plain": "Series([], Name: Team, dtype: object)"
     },
     "execution_count": 24,
     "metadata": {},
     "output_type": "execute_result"
    }
   ],
   "source": [
    "\n",
    "#만약 keep 옵션을 설정한다면\n",
    "empTeamDF.drop_duplicates(inplace=False, keep=False)"
   ],
   "metadata": {
    "collapsed": false,
    "ExecuteTime": {
     "end_time": "2024-01-16T02:20:10.319457900Z",
     "start_time": "2024-01-16T02:20:10.308762600Z"
    }
   },
   "id": "89374a390a8e77bd",
   "execution_count": 24
  },
  {
   "cell_type": "code",
   "outputs": [],
   "source": [],
   "metadata": {
    "collapsed": false
   },
   "id": "56069686e5f47715"
  }
 ],
 "metadata": {
  "kernelspec": {
   "display_name": "Python 3",
   "language": "python",
   "name": "python3"
  },
  "language_info": {
   "codemirror_mode": {
    "name": "ipython",
    "version": 2
   },
   "file_extension": ".py",
   "mimetype": "text/x-python",
   "name": "python",
   "nbconvert_exporter": "python",
   "pygments_lexer": "ipython2",
   "version": "2.7.6"
  }
 },
 "nbformat": 4,
 "nbformat_minor": 5
}
