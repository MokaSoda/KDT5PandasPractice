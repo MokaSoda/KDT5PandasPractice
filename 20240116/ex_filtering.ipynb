{
 "cells": [
  {
   "cell_type": "markdown",
   "source": [
    "### [데이터 필터링]\n",
    "- 원하는 데이터를 추출하기 위해서 사용하는 방법\n",
    "- 원하는 데이터 걸러내겠다는 의미\n",
    "- 다양한 조건 검사 진행 => 비교 검사 : 같다 ==, 같지 않다 !=, 크다>, 크거나 같다 >=, 작다 <, 작거나 같다 <=\n",
    "- 논리 연산자 : AND, OR, NOT\n",
    "\n"
   ],
   "metadata": {
    "collapsed": false
   },
   "id": "8f29b901dd58f509"
  },
  {
   "cell_type": "markdown",
   "source": [
    "(1) 모듈 로딩"
   ],
   "metadata": {
    "collapsed": false
   },
   "id": "3488f1077b6a1443"
  },
  {
   "cell_type": "code",
   "outputs": [],
   "source": [
    "import datetime\n",
    "import re\n",
    "\n",
    "import pandas as pd\n",
    "import numpy as np\n"
   ],
   "metadata": {
    "collapsed": false,
    "ExecuteTime": {
     "end_time": "2024-01-16T06:32:49.124866400Z",
     "start_time": "2024-01-16T06:32:49.052726700Z"
    }
   },
   "id": "bec54d709bf771be",
   "execution_count": 84
  },
  {
   "cell_type": "markdown",
   "source": [
    "(2) 데이터 준비\n"
   ],
   "metadata": {
    "collapsed": false
   },
   "id": "8640915a47f607d8"
  },
  {
   "cell_type": "code",
   "outputs": [],
   "source": [
    "file = '../DATA/employees.csv'\n"
   ],
   "metadata": {
    "collapsed": false,
    "ExecuteTime": {
     "end_time": "2024-01-16T06:32:49.155455600Z",
     "start_time": "2024-01-16T06:32:49.127864600Z"
    }
   },
   "id": "d1b20777424dafc2",
   "execution_count": 85
  },
  {
   "cell_type": "markdown",
   "source": [
    "(3)데이터 저장 및 확인"
   ],
   "metadata": {
    "collapsed": false
   },
   "id": "dce3d6e8f803844"
  },
  {
   "cell_type": "code",
   "outputs": [
    {
     "data": {
      "text/plain": "     First Name  Gender Start Date    Salary   Mgmt          Team\n0       Douglas    Male     8/6/93       NaN   True     Marketing\n1        Thomas    Male    3/31/96   61933.0   True           NaN\n2         Maria  Female        NaN  130590.0  False       Finance\n3         Jerry     NaN     3/4/05  138705.0   True       Finance\n4         Larry    Male    1/24/98  101004.0   True            IT\n...         ...     ...        ...       ...    ...           ...\n996     Phillip    Male    1/31/84   42392.0  False       Finance\n997     Russell    Male    5/20/13   96914.0  False       Product\n998       Larry    Male    4/20/13   60500.0  False  Business Dev\n999      Albert    Male    5/15/12  129949.0   True         Sales\n1000        NaN     NaN        NaN       NaN    NaN           NaN\n\n[1001 rows x 6 columns]",
      "text/html": "<div>\n<style scoped>\n    .dataframe tbody tr th:only-of-type {\n        vertical-align: middle;\n    }\n\n    .dataframe tbody tr th {\n        vertical-align: top;\n    }\n\n    .dataframe thead th {\n        text-align: right;\n    }\n</style>\n<table border=\"1\" class=\"dataframe\">\n  <thead>\n    <tr style=\"text-align: right;\">\n      <th></th>\n      <th>First Name</th>\n      <th>Gender</th>\n      <th>Start Date</th>\n      <th>Salary</th>\n      <th>Mgmt</th>\n      <th>Team</th>\n    </tr>\n  </thead>\n  <tbody>\n    <tr>\n      <th>0</th>\n      <td>Douglas</td>\n      <td>Male</td>\n      <td>8/6/93</td>\n      <td>NaN</td>\n      <td>True</td>\n      <td>Marketing</td>\n    </tr>\n    <tr>\n      <th>1</th>\n      <td>Thomas</td>\n      <td>Male</td>\n      <td>3/31/96</td>\n      <td>61933.0</td>\n      <td>True</td>\n      <td>NaN</td>\n    </tr>\n    <tr>\n      <th>2</th>\n      <td>Maria</td>\n      <td>Female</td>\n      <td>NaN</td>\n      <td>130590.0</td>\n      <td>False</td>\n      <td>Finance</td>\n    </tr>\n    <tr>\n      <th>3</th>\n      <td>Jerry</td>\n      <td>NaN</td>\n      <td>3/4/05</td>\n      <td>138705.0</td>\n      <td>True</td>\n      <td>Finance</td>\n    </tr>\n    <tr>\n      <th>4</th>\n      <td>Larry</td>\n      <td>Male</td>\n      <td>1/24/98</td>\n      <td>101004.0</td>\n      <td>True</td>\n      <td>IT</td>\n    </tr>\n    <tr>\n      <th>...</th>\n      <td>...</td>\n      <td>...</td>\n      <td>...</td>\n      <td>...</td>\n      <td>...</td>\n      <td>...</td>\n    </tr>\n    <tr>\n      <th>996</th>\n      <td>Phillip</td>\n      <td>Male</td>\n      <td>1/31/84</td>\n      <td>42392.0</td>\n      <td>False</td>\n      <td>Finance</td>\n    </tr>\n    <tr>\n      <th>997</th>\n      <td>Russell</td>\n      <td>Male</td>\n      <td>5/20/13</td>\n      <td>96914.0</td>\n      <td>False</td>\n      <td>Product</td>\n    </tr>\n    <tr>\n      <th>998</th>\n      <td>Larry</td>\n      <td>Male</td>\n      <td>4/20/13</td>\n      <td>60500.0</td>\n      <td>False</td>\n      <td>Business Dev</td>\n    </tr>\n    <tr>\n      <th>999</th>\n      <td>Albert</td>\n      <td>Male</td>\n      <td>5/15/12</td>\n      <td>129949.0</td>\n      <td>True</td>\n      <td>Sales</td>\n    </tr>\n    <tr>\n      <th>1000</th>\n      <td>NaN</td>\n      <td>NaN</td>\n      <td>NaN</td>\n      <td>NaN</td>\n      <td>NaN</td>\n      <td>NaN</td>\n    </tr>\n  </tbody>\n</table>\n<p>1001 rows × 6 columns</p>\n</div>"
     },
     "execution_count": 86,
     "metadata": {},
     "output_type": "execute_result"
    }
   ],
   "source": [
    "empdf = pd.read_csv(file)\n",
    "empdf"
   ],
   "metadata": {
    "collapsed": false,
    "ExecuteTime": {
     "end_time": "2024-01-16T06:32:49.180447100Z",
     "start_time": "2024-01-16T06:32:49.146441100Z"
    }
   },
   "id": "d22c9b3d215a954d",
   "execution_count": 86
  },
  {
   "cell_type": "markdown",
   "source": [
    "(4) 데이터 다루기"
   ],
   "metadata": {
    "collapsed": false
   },
   "id": "628f1b1f30056988"
  },
  {
   "cell_type": "markdown",
   "source": [
    "(5) 데이터 필터링"
   ],
   "metadata": {
    "collapsed": false
   },
   "id": "6c04c07a8d485626"
  },
  {
   "cell_type": "code",
   "outputs": [
    {
     "data": {
      "text/plain": "True"
     },
     "execution_count": 87,
     "metadata": {},
     "output_type": "execute_result"
    }
   ],
   "source": [
    "'Happy' == 'Happy'"
   ],
   "metadata": {
    "collapsed": false,
    "ExecuteTime": {
     "end_time": "2024-01-16T06:32:49.180447100Z",
     "start_time": "2024-01-16T06:32:49.160441400Z"
    }
   },
   "id": "d30b6356b1e5e02e",
   "execution_count": 87
  },
  {
   "cell_type": "code",
   "outputs": [
    {
     "data": {
      "text/plain": "False"
     },
     "execution_count": 88,
     "metadata": {},
     "output_type": "execute_result"
    }
   ],
   "source": [
    "'Happy' != 'Happy'"
   ],
   "metadata": {
    "collapsed": false,
    "ExecuteTime": {
     "end_time": "2024-01-16T06:32:49.258830200Z",
     "start_time": "2024-01-16T06:32:49.176444600Z"
    }
   },
   "id": "41c594943c23c960",
   "execution_count": 88
  },
  {
   "cell_type": "markdown",
   "source": [
    "- [문제] 데이터에서 이름이 Maria인 데이터만 추출"
   ],
   "metadata": {
    "collapsed": false
   },
   "id": "c03d9aedd44a3854"
  },
  {
   "cell_type": "markdown",
   "source": [
    "- bool 값으로 구성된 데이터 ==> 불린인덱싱(Boolean indexing)"
   ],
   "metadata": {
    "collapsed": false
   },
   "id": "c26b29594798e122"
  },
  {
   "cell_type": "code",
   "outputs": [
    {
     "data": {
      "text/plain": "    First Name  Gender Start Date    Salary   Mgmt          Team\n2        Maria  Female        NaN  130590.0  False       Finance\n198      Maria  Female   12/27/90   36067.0   True       Product\n815      Maria     NaN    1/18/86  106562.0  False            HR\n844      Maria     NaN    6/19/85  148857.0  False         Legal\n936      Maria  Female    3/14/03   96250.0  False  Business Dev\n984      Maria  Female   10/15/11   43455.0  False   Engineering",
      "text/html": "<div>\n<style scoped>\n    .dataframe tbody tr th:only-of-type {\n        vertical-align: middle;\n    }\n\n    .dataframe tbody tr th {\n        vertical-align: top;\n    }\n\n    .dataframe thead th {\n        text-align: right;\n    }\n</style>\n<table border=\"1\" class=\"dataframe\">\n  <thead>\n    <tr style=\"text-align: right;\">\n      <th></th>\n      <th>First Name</th>\n      <th>Gender</th>\n      <th>Start Date</th>\n      <th>Salary</th>\n      <th>Mgmt</th>\n      <th>Team</th>\n    </tr>\n  </thead>\n  <tbody>\n    <tr>\n      <th>2</th>\n      <td>Maria</td>\n      <td>Female</td>\n      <td>NaN</td>\n      <td>130590.0</td>\n      <td>False</td>\n      <td>Finance</td>\n    </tr>\n    <tr>\n      <th>198</th>\n      <td>Maria</td>\n      <td>Female</td>\n      <td>12/27/90</td>\n      <td>36067.0</td>\n      <td>True</td>\n      <td>Product</td>\n    </tr>\n    <tr>\n      <th>815</th>\n      <td>Maria</td>\n      <td>NaN</td>\n      <td>1/18/86</td>\n      <td>106562.0</td>\n      <td>False</td>\n      <td>HR</td>\n    </tr>\n    <tr>\n      <th>844</th>\n      <td>Maria</td>\n      <td>NaN</td>\n      <td>6/19/85</td>\n      <td>148857.0</td>\n      <td>False</td>\n      <td>Legal</td>\n    </tr>\n    <tr>\n      <th>936</th>\n      <td>Maria</td>\n      <td>Female</td>\n      <td>3/14/03</td>\n      <td>96250.0</td>\n      <td>False</td>\n      <td>Business Dev</td>\n    </tr>\n    <tr>\n      <th>984</th>\n      <td>Maria</td>\n      <td>Female</td>\n      <td>10/15/11</td>\n      <td>43455.0</td>\n      <td>False</td>\n      <td>Engineering</td>\n    </tr>\n  </tbody>\n</table>\n</div>"
     },
     "execution_count": 89,
     "metadata": {},
     "output_type": "execute_result"
    }
   ],
   "source": [
    "empdf[empdf['First Name'] == 'Maria']"
   ],
   "metadata": {
    "collapsed": false,
    "ExecuteTime": {
     "end_time": "2024-01-16T06:32:49.259829900Z",
     "start_time": "2024-01-16T06:32:49.192844100Z"
    }
   },
   "id": "3a459ac77cf2025e",
   "execution_count": 89
  },
  {
   "cell_type": "code",
   "outputs": [
    {
     "data": {
      "text/plain": "    First Name  Gender Start Date    Salary   Mgmt          Team\n2        Maria  Female        NaN  130590.0  False       Finance\n6         Ruby  Female    8/17/87   65476.0   True       Product\n7          NaN  Female    7/20/15   45906.0    NaN       Finance\n8       Angela  Female   11/22/05   95570.0   True   Engineering\n9      Frances  Female     8/8/02  139852.0   True  Business Dev\n..         ...     ...        ...       ...    ...           ...\n987     Gloria  Female    12/8/14  136709.0   True       Finance\n988      Alice  Female    10/5/04   47638.0  False            HR\n990      Robin  Female    7/24/87  100765.0   True            IT\n991       Rose  Female    8/25/02  134505.0   True     Marketing\n993       Tina  Female    5/15/97   56450.0   True   Engineering\n\n[431 rows x 6 columns]",
      "text/html": "<div>\n<style scoped>\n    .dataframe tbody tr th:only-of-type {\n        vertical-align: middle;\n    }\n\n    .dataframe tbody tr th {\n        vertical-align: top;\n    }\n\n    .dataframe thead th {\n        text-align: right;\n    }\n</style>\n<table border=\"1\" class=\"dataframe\">\n  <thead>\n    <tr style=\"text-align: right;\">\n      <th></th>\n      <th>First Name</th>\n      <th>Gender</th>\n      <th>Start Date</th>\n      <th>Salary</th>\n      <th>Mgmt</th>\n      <th>Team</th>\n    </tr>\n  </thead>\n  <tbody>\n    <tr>\n      <th>2</th>\n      <td>Maria</td>\n      <td>Female</td>\n      <td>NaN</td>\n      <td>130590.0</td>\n      <td>False</td>\n      <td>Finance</td>\n    </tr>\n    <tr>\n      <th>6</th>\n      <td>Ruby</td>\n      <td>Female</td>\n      <td>8/17/87</td>\n      <td>65476.0</td>\n      <td>True</td>\n      <td>Product</td>\n    </tr>\n    <tr>\n      <th>7</th>\n      <td>NaN</td>\n      <td>Female</td>\n      <td>7/20/15</td>\n      <td>45906.0</td>\n      <td>NaN</td>\n      <td>Finance</td>\n    </tr>\n    <tr>\n      <th>8</th>\n      <td>Angela</td>\n      <td>Female</td>\n      <td>11/22/05</td>\n      <td>95570.0</td>\n      <td>True</td>\n      <td>Engineering</td>\n    </tr>\n    <tr>\n      <th>9</th>\n      <td>Frances</td>\n      <td>Female</td>\n      <td>8/8/02</td>\n      <td>139852.0</td>\n      <td>True</td>\n      <td>Business Dev</td>\n    </tr>\n    <tr>\n      <th>...</th>\n      <td>...</td>\n      <td>...</td>\n      <td>...</td>\n      <td>...</td>\n      <td>...</td>\n      <td>...</td>\n    </tr>\n    <tr>\n      <th>987</th>\n      <td>Gloria</td>\n      <td>Female</td>\n      <td>12/8/14</td>\n      <td>136709.0</td>\n      <td>True</td>\n      <td>Finance</td>\n    </tr>\n    <tr>\n      <th>988</th>\n      <td>Alice</td>\n      <td>Female</td>\n      <td>10/5/04</td>\n      <td>47638.0</td>\n      <td>False</td>\n      <td>HR</td>\n    </tr>\n    <tr>\n      <th>990</th>\n      <td>Robin</td>\n      <td>Female</td>\n      <td>7/24/87</td>\n      <td>100765.0</td>\n      <td>True</td>\n      <td>IT</td>\n    </tr>\n    <tr>\n      <th>991</th>\n      <td>Rose</td>\n      <td>Female</td>\n      <td>8/25/02</td>\n      <td>134505.0</td>\n      <td>True</td>\n      <td>Marketing</td>\n    </tr>\n    <tr>\n      <th>993</th>\n      <td>Tina</td>\n      <td>Female</td>\n      <td>5/15/97</td>\n      <td>56450.0</td>\n      <td>True</td>\n      <td>Engineering</td>\n    </tr>\n  </tbody>\n</table>\n<p>431 rows × 6 columns</p>\n</div>"
     },
     "execution_count": 90,
     "metadata": {},
     "output_type": "execute_result"
    }
   ],
   "source": [
    "# gender 가 female 인 사람만 추출\n",
    "empdf[empdf['Gender'] == 'Female']"
   ],
   "metadata": {
    "collapsed": false,
    "ExecuteTime": {
     "end_time": "2024-01-16T06:32:49.282834400Z",
     "start_time": "2024-01-16T06:32:49.206331300Z"
    }
   },
   "id": "a0f7c9f0aa09d521",
   "execution_count": 90
  },
  {
   "cell_type": "code",
   "outputs": [
    {
     "data": {
      "text/plain": "    First Name Gender Start Date    Salary   Mgmt   Team\n815      Maria    NaN    1/18/86  106562.0  False     HR\n844      Maria    NaN    6/19/85  148857.0  False  Legal",
      "text/html": "<div>\n<style scoped>\n    .dataframe tbody tr th:only-of-type {\n        vertical-align: middle;\n    }\n\n    .dataframe tbody tr th {\n        vertical-align: top;\n    }\n\n    .dataframe thead th {\n        text-align: right;\n    }\n</style>\n<table border=\"1\" class=\"dataframe\">\n  <thead>\n    <tr style=\"text-align: right;\">\n      <th></th>\n      <th>First Name</th>\n      <th>Gender</th>\n      <th>Start Date</th>\n      <th>Salary</th>\n      <th>Mgmt</th>\n      <th>Team</th>\n    </tr>\n  </thead>\n  <tbody>\n    <tr>\n      <th>815</th>\n      <td>Maria</td>\n      <td>NaN</td>\n      <td>1/18/86</td>\n      <td>106562.0</td>\n      <td>False</td>\n      <td>HR</td>\n    </tr>\n    <tr>\n      <th>844</th>\n      <td>Maria</td>\n      <td>NaN</td>\n      <td>6/19/85</td>\n      <td>148857.0</td>\n      <td>False</td>\n      <td>Legal</td>\n    </tr>\n  </tbody>\n</table>\n</div>"
     },
     "execution_count": 91,
     "metadata": {},
     "output_type": "execute_result"
    }
   ],
   "source": [
    "# 이름이 Maria 이고, gender 가 지정되지 않는 nan 인 사람만 추출\n",
    "empdf[(empdf['First Name'] == 'Maria') & (empdf['Gender'].isnull())]"
   ],
   "metadata": {
    "collapsed": false,
    "ExecuteTime": {
     "end_time": "2024-01-16T06:32:49.322507100Z",
     "start_time": "2024-01-16T06:32:49.222335300Z"
    }
   },
   "id": "56a625e20306f8b5",
   "execution_count": 91
  },
  {
   "cell_type": "code",
   "outputs": [
    {
     "data": {
      "text/plain": "    First Name  Gender Start Date    Salary   Mgmt          Team\n2        Maria  Female        NaN  130590.0  False       Finance\n198      Maria  Female   12/27/90   36067.0   True       Product\n815      Maria     NaN    1/18/86  106562.0  False            HR\n844      Maria     NaN    6/19/85  148857.0  False         Legal\n936      Maria  Female    3/14/03   96250.0  False  Business Dev\n984      Maria  Female   10/15/11   43455.0  False   Engineering",
      "text/html": "<div>\n<style scoped>\n    .dataframe tbody tr th:only-of-type {\n        vertical-align: middle;\n    }\n\n    .dataframe tbody tr th {\n        vertical-align: top;\n    }\n\n    .dataframe thead th {\n        text-align: right;\n    }\n</style>\n<table border=\"1\" class=\"dataframe\">\n  <thead>\n    <tr style=\"text-align: right;\">\n      <th></th>\n      <th>First Name</th>\n      <th>Gender</th>\n      <th>Start Date</th>\n      <th>Salary</th>\n      <th>Mgmt</th>\n      <th>Team</th>\n    </tr>\n  </thead>\n  <tbody>\n    <tr>\n      <th>2</th>\n      <td>Maria</td>\n      <td>Female</td>\n      <td>NaN</td>\n      <td>130590.0</td>\n      <td>False</td>\n      <td>Finance</td>\n    </tr>\n    <tr>\n      <th>198</th>\n      <td>Maria</td>\n      <td>Female</td>\n      <td>12/27/90</td>\n      <td>36067.0</td>\n      <td>True</td>\n      <td>Product</td>\n    </tr>\n    <tr>\n      <th>815</th>\n      <td>Maria</td>\n      <td>NaN</td>\n      <td>1/18/86</td>\n      <td>106562.0</td>\n      <td>False</td>\n      <td>HR</td>\n    </tr>\n    <tr>\n      <th>844</th>\n      <td>Maria</td>\n      <td>NaN</td>\n      <td>6/19/85</td>\n      <td>148857.0</td>\n      <td>False</td>\n      <td>Legal</td>\n    </tr>\n    <tr>\n      <th>936</th>\n      <td>Maria</td>\n      <td>Female</td>\n      <td>3/14/03</td>\n      <td>96250.0</td>\n      <td>False</td>\n      <td>Business Dev</td>\n    </tr>\n    <tr>\n      <th>984</th>\n      <td>Maria</td>\n      <td>Female</td>\n      <td>10/15/11</td>\n      <td>43455.0</td>\n      <td>False</td>\n      <td>Engineering</td>\n    </tr>\n  </tbody>\n</table>\n</div>"
     },
     "execution_count": 92,
     "metadata": {},
     "output_type": "execute_result"
    }
   ],
   "source": [
    "# empMariaMask 에 maria 가 first name 인지 여부 bool df 생성하기\n",
    "empMariaMask = empdf['First Name'] == 'Maria'\n",
    "\n",
    "# 이전에 선언한 조건을 활용하여 필터링 진행\n",
    "empdf[empMariaMask]"
   ],
   "metadata": {
    "collapsed": false,
    "ExecuteTime": {
     "end_time": "2024-01-16T06:32:49.323507900Z",
     "start_time": "2024-01-16T06:32:49.239337300Z"
    }
   },
   "id": "6c44593c017b4cab",
   "execution_count": 92
  },
  {
   "cell_type": "code",
   "outputs": [
    {
     "data": {
      "text/plain": "    First Name  Gender Start Date    Salary   Mgmt          Team\n2        Maria  Female        NaN  130590.0  False       Finance\n9      Frances  Female     8/8/02  139852.0   True  Business Dev\n11       Julie  Female   10/26/97  102508.0   True         Legal\n18       Diana  Female   10/23/81  132940.0  False            IT\n30   Christina  Female     8/6/02  118780.0   True   Engineering\n..         ...     ...        ...       ...    ...           ...\n976     Denise  Female   10/19/92  137954.0   True         Legal\n977      Sarah  Female    12/4/95  124566.0  False       Product\n987     Gloria  Female    12/8/14  136709.0   True       Finance\n990      Robin  Female    7/24/87  100765.0   True            IT\n991       Rose  Female    8/25/02  134505.0   True     Marketing\n\n[176 rows x 6 columns]",
      "text/html": "<div>\n<style scoped>\n    .dataframe tbody tr th:only-of-type {\n        vertical-align: middle;\n    }\n\n    .dataframe tbody tr th {\n        vertical-align: top;\n    }\n\n    .dataframe thead th {\n        text-align: right;\n    }\n</style>\n<table border=\"1\" class=\"dataframe\">\n  <thead>\n    <tr style=\"text-align: right;\">\n      <th></th>\n      <th>First Name</th>\n      <th>Gender</th>\n      <th>Start Date</th>\n      <th>Salary</th>\n      <th>Mgmt</th>\n      <th>Team</th>\n    </tr>\n  </thead>\n  <tbody>\n    <tr>\n      <th>2</th>\n      <td>Maria</td>\n      <td>Female</td>\n      <td>NaN</td>\n      <td>130590.0</td>\n      <td>False</td>\n      <td>Finance</td>\n    </tr>\n    <tr>\n      <th>9</th>\n      <td>Frances</td>\n      <td>Female</td>\n      <td>8/8/02</td>\n      <td>139852.0</td>\n      <td>True</td>\n      <td>Business Dev</td>\n    </tr>\n    <tr>\n      <th>11</th>\n      <td>Julie</td>\n      <td>Female</td>\n      <td>10/26/97</td>\n      <td>102508.0</td>\n      <td>True</td>\n      <td>Legal</td>\n    </tr>\n    <tr>\n      <th>18</th>\n      <td>Diana</td>\n      <td>Female</td>\n      <td>10/23/81</td>\n      <td>132940.0</td>\n      <td>False</td>\n      <td>IT</td>\n    </tr>\n    <tr>\n      <th>30</th>\n      <td>Christina</td>\n      <td>Female</td>\n      <td>8/6/02</td>\n      <td>118780.0</td>\n      <td>True</td>\n      <td>Engineering</td>\n    </tr>\n    <tr>\n      <th>...</th>\n      <td>...</td>\n      <td>...</td>\n      <td>...</td>\n      <td>...</td>\n      <td>...</td>\n      <td>...</td>\n    </tr>\n    <tr>\n      <th>976</th>\n      <td>Denise</td>\n      <td>Female</td>\n      <td>10/19/92</td>\n      <td>137954.0</td>\n      <td>True</td>\n      <td>Legal</td>\n    </tr>\n    <tr>\n      <th>977</th>\n      <td>Sarah</td>\n      <td>Female</td>\n      <td>12/4/95</td>\n      <td>124566.0</td>\n      <td>False</td>\n      <td>Product</td>\n    </tr>\n    <tr>\n      <th>987</th>\n      <td>Gloria</td>\n      <td>Female</td>\n      <td>12/8/14</td>\n      <td>136709.0</td>\n      <td>True</td>\n      <td>Finance</td>\n    </tr>\n    <tr>\n      <th>990</th>\n      <td>Robin</td>\n      <td>Female</td>\n      <td>7/24/87</td>\n      <td>100765.0</td>\n      <td>True</td>\n      <td>IT</td>\n    </tr>\n    <tr>\n      <th>991</th>\n      <td>Rose</td>\n      <td>Female</td>\n      <td>8/25/02</td>\n      <td>134505.0</td>\n      <td>True</td>\n      <td>Marketing</td>\n    </tr>\n  </tbody>\n</table>\n<p>176 rows × 6 columns</p>\n</div>"
     },
     "execution_count": 93,
     "metadata": {},
     "output_type": "execute_result"
    }
   ],
   "source": [
    "# 이전에 선언한 조건과 Salary가 100000 이상인 사람 조회\n",
    "empdf[(empMariaMask) & (empdf['Salary'] >= 100000)]\n",
    "\n",
    "# 성별이 남성이고 급여가 100000 이상인 사람만 필터링\n",
    "empdf[(empdf['Gender'] == 'Male') & (empdf['Salary'] >= 100000)]\n",
    "\n",
    "# 성별이 여성이고 급여가 100000 이상인 사람만 필터\n",
    "empdf[(empdf['Gender'] == 'Female') & (empdf['Salary'] >= 100000)]"
   ],
   "metadata": {
    "collapsed": false,
    "ExecuteTime": {
     "end_time": "2024-01-16T06:32:49.367506800Z",
     "start_time": "2024-01-16T06:32:49.264829500Z"
    }
   },
   "id": "93c190395004edb5",
   "execution_count": 93
  },
  {
   "cell_type": "markdown",
   "source": [
    "[문제]  employees 데이터에서 성별이 만자이며 연봉이 100000 이상인 데이터 조회"
   ],
   "metadata": {
    "collapsed": false
   },
   "id": "ce6a4ac5538344f0"
  },
  {
   "cell_type": "code",
   "outputs": [
    {
     "data": {
      "text/plain": "    First Name Gender Start Date    Salary   Mgmt         Team\n4        Larry   Male    1/24/98  101004.0   True           IT\n5       Dennis   Male    4/18/87  115163.0  False        Legal\n12     Brandon   Male    12/1/80  112807.0   True           HR\n13        Gary   Male    1/27/08  109831.0  False        Sales\n17       Shawn   Male    12/7/86  111737.0  False      Product\n..         ...    ...        ...       ...    ...          ...\n979     Ernest   Male    7/20/13  142935.0   True      Product\n981      James   Male    1/15/93  148985.0  False        Legal\n983       John   Male   12/23/82  146907.0  False  Engineering\n992    Anthony   Male   10/16/11  112769.0   True      Finance\n999     Albert   Male    5/15/12  129949.0   True        Sales\n\n[176 rows x 6 columns]",
      "text/html": "<div>\n<style scoped>\n    .dataframe tbody tr th:only-of-type {\n        vertical-align: middle;\n    }\n\n    .dataframe tbody tr th {\n        vertical-align: top;\n    }\n\n    .dataframe thead th {\n        text-align: right;\n    }\n</style>\n<table border=\"1\" class=\"dataframe\">\n  <thead>\n    <tr style=\"text-align: right;\">\n      <th></th>\n      <th>First Name</th>\n      <th>Gender</th>\n      <th>Start Date</th>\n      <th>Salary</th>\n      <th>Mgmt</th>\n      <th>Team</th>\n    </tr>\n  </thead>\n  <tbody>\n    <tr>\n      <th>4</th>\n      <td>Larry</td>\n      <td>Male</td>\n      <td>1/24/98</td>\n      <td>101004.0</td>\n      <td>True</td>\n      <td>IT</td>\n    </tr>\n    <tr>\n      <th>5</th>\n      <td>Dennis</td>\n      <td>Male</td>\n      <td>4/18/87</td>\n      <td>115163.0</td>\n      <td>False</td>\n      <td>Legal</td>\n    </tr>\n    <tr>\n      <th>12</th>\n      <td>Brandon</td>\n      <td>Male</td>\n      <td>12/1/80</td>\n      <td>112807.0</td>\n      <td>True</td>\n      <td>HR</td>\n    </tr>\n    <tr>\n      <th>13</th>\n      <td>Gary</td>\n      <td>Male</td>\n      <td>1/27/08</td>\n      <td>109831.0</td>\n      <td>False</td>\n      <td>Sales</td>\n    </tr>\n    <tr>\n      <th>17</th>\n      <td>Shawn</td>\n      <td>Male</td>\n      <td>12/7/86</td>\n      <td>111737.0</td>\n      <td>False</td>\n      <td>Product</td>\n    </tr>\n    <tr>\n      <th>...</th>\n      <td>...</td>\n      <td>...</td>\n      <td>...</td>\n      <td>...</td>\n      <td>...</td>\n      <td>...</td>\n    </tr>\n    <tr>\n      <th>979</th>\n      <td>Ernest</td>\n      <td>Male</td>\n      <td>7/20/13</td>\n      <td>142935.0</td>\n      <td>True</td>\n      <td>Product</td>\n    </tr>\n    <tr>\n      <th>981</th>\n      <td>James</td>\n      <td>Male</td>\n      <td>1/15/93</td>\n      <td>148985.0</td>\n      <td>False</td>\n      <td>Legal</td>\n    </tr>\n    <tr>\n      <th>983</th>\n      <td>John</td>\n      <td>Male</td>\n      <td>12/23/82</td>\n      <td>146907.0</td>\n      <td>False</td>\n      <td>Engineering</td>\n    </tr>\n    <tr>\n      <th>992</th>\n      <td>Anthony</td>\n      <td>Male</td>\n      <td>10/16/11</td>\n      <td>112769.0</td>\n      <td>True</td>\n      <td>Finance</td>\n    </tr>\n    <tr>\n      <th>999</th>\n      <td>Albert</td>\n      <td>Male</td>\n      <td>5/15/12</td>\n      <td>129949.0</td>\n      <td>True</td>\n      <td>Sales</td>\n    </tr>\n  </tbody>\n</table>\n<p>176 rows × 6 columns</p>\n</div>"
     },
     "execution_count": 94,
     "metadata": {},
     "output_type": "execute_result"
    }
   ],
   "source": [
    "#[문제]  employees 데이터에서 성별이 만자이며 연봉이 100000 이상인 데이터 조회\n",
    "empdf[(empdf['Gender'] == 'Male') & (empdf['Salary'] >= 100000)]"
   ],
   "metadata": {
    "collapsed": false,
    "ExecuteTime": {
     "end_time": "2024-01-16T06:32:49.479866200Z",
     "start_time": "2024-01-16T06:32:49.330977500Z"
    }
   },
   "id": "4b4d51025cfc6f02",
   "execution_count": 94
  },
  {
   "cell_type": "code",
   "outputs": [
    {
     "name": "stderr",
     "output_type": "stream",
     "text": [
      "C:\\Users\\Administrator\\AppData\\Local\\Temp\\ipykernel_46536\\510572758.py:2: UserWarning: Could not infer format, so each element will be parsed individually, falling back to `dateutil`. To ensure parsing is consistent and as-expected, please specify a format.\n",
      "  empdf['Start Date'] = pd.to_datetime(empdf['Start Date'])\n"
     ]
    },
    {
     "data": {
      "text/plain": "    First Name  Gender Start Date    Salary   Mgmt          Team\n3        Jerry     NaN 2005-03-04  138705.0   True       Finance\n8       Angela  Female 2005-11-22   95570.0   True   Engineering\n9      Frances  Female 2002-08-08  139852.0   True  Business Dev\n13        Gary    Male 2008-01-27  109831.0  False         Sales\n16      Jeremy    Male 2010-09-21   90370.0  False            HR\n..         ...     ...        ...       ...    ...           ...\n992    Anthony    Male 2011-10-16  112769.0   True       Finance\n994     George    Male 2013-06-21   98874.0   True     Marketing\n995      Henry     NaN 2014-11-23  132483.0  False  Distribution\n997    Russell    Male 2013-05-20   96914.0  False       Product\n999     Albert    Male 2012-05-15  129949.0   True         Sales\n\n[287 rows x 6 columns]",
      "text/html": "<div>\n<style scoped>\n    .dataframe tbody tr th:only-of-type {\n        vertical-align: middle;\n    }\n\n    .dataframe tbody tr th {\n        vertical-align: top;\n    }\n\n    .dataframe thead th {\n        text-align: right;\n    }\n</style>\n<table border=\"1\" class=\"dataframe\">\n  <thead>\n    <tr style=\"text-align: right;\">\n      <th></th>\n      <th>First Name</th>\n      <th>Gender</th>\n      <th>Start Date</th>\n      <th>Salary</th>\n      <th>Mgmt</th>\n      <th>Team</th>\n    </tr>\n  </thead>\n  <tbody>\n    <tr>\n      <th>3</th>\n      <td>Jerry</td>\n      <td>NaN</td>\n      <td>2005-03-04</td>\n      <td>138705.0</td>\n      <td>True</td>\n      <td>Finance</td>\n    </tr>\n    <tr>\n      <th>8</th>\n      <td>Angela</td>\n      <td>Female</td>\n      <td>2005-11-22</td>\n      <td>95570.0</td>\n      <td>True</td>\n      <td>Engineering</td>\n    </tr>\n    <tr>\n      <th>9</th>\n      <td>Frances</td>\n      <td>Female</td>\n      <td>2002-08-08</td>\n      <td>139852.0</td>\n      <td>True</td>\n      <td>Business Dev</td>\n    </tr>\n    <tr>\n      <th>13</th>\n      <td>Gary</td>\n      <td>Male</td>\n      <td>2008-01-27</td>\n      <td>109831.0</td>\n      <td>False</td>\n      <td>Sales</td>\n    </tr>\n    <tr>\n      <th>16</th>\n      <td>Jeremy</td>\n      <td>Male</td>\n      <td>2010-09-21</td>\n      <td>90370.0</td>\n      <td>False</td>\n      <td>HR</td>\n    </tr>\n    <tr>\n      <th>...</th>\n      <td>...</td>\n      <td>...</td>\n      <td>...</td>\n      <td>...</td>\n      <td>...</td>\n      <td>...</td>\n    </tr>\n    <tr>\n      <th>992</th>\n      <td>Anthony</td>\n      <td>Male</td>\n      <td>2011-10-16</td>\n      <td>112769.0</td>\n      <td>True</td>\n      <td>Finance</td>\n    </tr>\n    <tr>\n      <th>994</th>\n      <td>George</td>\n      <td>Male</td>\n      <td>2013-06-21</td>\n      <td>98874.0</td>\n      <td>True</td>\n      <td>Marketing</td>\n    </tr>\n    <tr>\n      <th>995</th>\n      <td>Henry</td>\n      <td>NaN</td>\n      <td>2014-11-23</td>\n      <td>132483.0</td>\n      <td>False</td>\n      <td>Distribution</td>\n    </tr>\n    <tr>\n      <th>997</th>\n      <td>Russell</td>\n      <td>Male</td>\n      <td>2013-05-20</td>\n      <td>96914.0</td>\n      <td>False</td>\n      <td>Product</td>\n    </tr>\n    <tr>\n      <th>999</th>\n      <td>Albert</td>\n      <td>Male</td>\n      <td>2012-05-15</td>\n      <td>129949.0</td>\n      <td>True</td>\n      <td>Sales</td>\n    </tr>\n  </tbody>\n</table>\n<p>287 rows × 6 columns</p>\n</div>"
     },
     "execution_count": 95,
     "metadata": {},
     "output_type": "execute_result"
    }
   ],
   "source": [
    "# Start Date를 datetime 형태로 타입 변환\n",
    "empdf['Start Date'] = pd.to_datetime(empdf['Start Date'])\n",
    "\n",
    "\n",
    "# Start Date 가 2000년도 이후이면서 Salary 가 80000 을 초과하는 사람 조회\n",
    "empdf[(empdf['Start Date'].dt.year >= 2000) & (empdf['Salary'] > 80000)]"
   ],
   "metadata": {
    "collapsed": false,
    "ExecuteTime": {
     "end_time": "2024-01-16T06:32:49.710399500Z",
     "start_time": "2024-01-16T06:32:49.442860800Z"
    }
   },
   "id": "89c8b4f823295d6b",
   "execution_count": 95
  },
  {
   "cell_type": "markdown",
   "source": [
    "- 여러 개의 조건이 모두 True 이여야 하는 조건은 And\n",
    "    * 문법 : 조건1 & 조건2 & 조건3\n",
    "- 여러 개의 조건 중 하나라도 True 이면 조건을 만족하는 데이터 조회\n",
    "    * 문법 : 조건1 | 조건2 | 조건3\n",
    "- 만약 아님을 나타내고 싶을 때 조건 추가 방법\n",
    "    * 문법 : ~조건"
   ],
   "metadata": {
    "collapsed": false
   },
   "id": "2fc2132bc74dd511"
  },
  {
   "cell_type": "code",
   "outputs": [
    {
     "data": {
      "text/plain": "    First Name Gender Start Date    Salary   Mgmt         Team\n4        Larry   Male 1998-01-24  101004.0   True           IT\n5       Dennis   Male 1987-04-18  115163.0  False        Legal\n12     Brandon   Male 1980-12-01  112807.0   True           HR\n13        Gary   Male 2008-01-27  109831.0  False        Sales\n17       Shawn   Male 1986-12-07  111737.0  False      Product\n..         ...    ...        ...       ...    ...          ...\n979     Ernest   Male 2013-07-20  142935.0   True      Product\n981      James   Male 1993-01-15  148985.0  False        Legal\n983       John   Male 1982-12-23  146907.0  False  Engineering\n992    Anthony   Male 2011-10-16  112769.0   True      Finance\n999     Albert   Male 2012-05-15  129949.0   True        Sales\n\n[176 rows x 6 columns]",
      "text/html": "<div>\n<style scoped>\n    .dataframe tbody tr th:only-of-type {\n        vertical-align: middle;\n    }\n\n    .dataframe tbody tr th {\n        vertical-align: top;\n    }\n\n    .dataframe thead th {\n        text-align: right;\n    }\n</style>\n<table border=\"1\" class=\"dataframe\">\n  <thead>\n    <tr style=\"text-align: right;\">\n      <th></th>\n      <th>First Name</th>\n      <th>Gender</th>\n      <th>Start Date</th>\n      <th>Salary</th>\n      <th>Mgmt</th>\n      <th>Team</th>\n    </tr>\n  </thead>\n  <tbody>\n    <tr>\n      <th>4</th>\n      <td>Larry</td>\n      <td>Male</td>\n      <td>1998-01-24</td>\n      <td>101004.0</td>\n      <td>True</td>\n      <td>IT</td>\n    </tr>\n    <tr>\n      <th>5</th>\n      <td>Dennis</td>\n      <td>Male</td>\n      <td>1987-04-18</td>\n      <td>115163.0</td>\n      <td>False</td>\n      <td>Legal</td>\n    </tr>\n    <tr>\n      <th>12</th>\n      <td>Brandon</td>\n      <td>Male</td>\n      <td>1980-12-01</td>\n      <td>112807.0</td>\n      <td>True</td>\n      <td>HR</td>\n    </tr>\n    <tr>\n      <th>13</th>\n      <td>Gary</td>\n      <td>Male</td>\n      <td>2008-01-27</td>\n      <td>109831.0</td>\n      <td>False</td>\n      <td>Sales</td>\n    </tr>\n    <tr>\n      <th>17</th>\n      <td>Shawn</td>\n      <td>Male</td>\n      <td>1986-12-07</td>\n      <td>111737.0</td>\n      <td>False</td>\n      <td>Product</td>\n    </tr>\n    <tr>\n      <th>...</th>\n      <td>...</td>\n      <td>...</td>\n      <td>...</td>\n      <td>...</td>\n      <td>...</td>\n      <td>...</td>\n    </tr>\n    <tr>\n      <th>979</th>\n      <td>Ernest</td>\n      <td>Male</td>\n      <td>2013-07-20</td>\n      <td>142935.0</td>\n      <td>True</td>\n      <td>Product</td>\n    </tr>\n    <tr>\n      <th>981</th>\n      <td>James</td>\n      <td>Male</td>\n      <td>1993-01-15</td>\n      <td>148985.0</td>\n      <td>False</td>\n      <td>Legal</td>\n    </tr>\n    <tr>\n      <th>983</th>\n      <td>John</td>\n      <td>Male</td>\n      <td>1982-12-23</td>\n      <td>146907.0</td>\n      <td>False</td>\n      <td>Engineering</td>\n    </tr>\n    <tr>\n      <th>992</th>\n      <td>Anthony</td>\n      <td>Male</td>\n      <td>2011-10-16</td>\n      <td>112769.0</td>\n      <td>True</td>\n      <td>Finance</td>\n    </tr>\n    <tr>\n      <th>999</th>\n      <td>Albert</td>\n      <td>Male</td>\n      <td>2012-05-15</td>\n      <td>129949.0</td>\n      <td>True</td>\n      <td>Sales</td>\n    </tr>\n  </tbody>\n</table>\n<p>176 rows × 6 columns</p>\n</div>"
     },
     "execution_count": 96,
     "metadata": {},
     "output_type": "execute_result"
    }
   ],
   "source": [
    "# 남성인 사람과 Salary 가 100000 이상인 사람 조건식을 마스크에 저장\n",
    "empMaleMask = empdf['Gender'] == 'Male'\n",
    "empHighSalaryMask = empdf['Salary'] >= 100000\n",
    "\n",
    "# 여러 개의 조건이 모두 True 이여야 하는 조건은 And\n",
    "empdf[empMaleMask & empHighSalaryMask]"
   ],
   "metadata": {
    "collapsed": false,
    "ExecuteTime": {
     "end_time": "2024-01-16T06:32:49.784403300Z",
     "start_time": "2024-01-16T06:32:49.554394400Z"
    }
   },
   "id": "39bc31d13f6dad4e",
   "execution_count": 96
  },
  {
   "cell_type": "code",
   "outputs": [
    {
     "data": {
      "text/plain": "    First Name  Gender Start Date    Salary   Mgmt          Team\n0      Douglas    Male 1993-08-06       NaN   True     Marketing\n1       Thomas    Male 1996-03-31   61933.0   True           NaN\n2        Maria  Female        NaT  130590.0  False       Finance\n3        Jerry     NaN 2005-03-04  138705.0   True       Finance\n4        Larry    Male 1998-01-24  101004.0   True            IT\n..         ...     ...        ...       ...    ...           ...\n995      Henry     NaN 2014-11-23  132483.0  False  Distribution\n996    Phillip    Male 1984-01-31   42392.0  False       Finance\n997    Russell    Male 2013-05-20   96914.0  False       Product\n998      Larry    Male 2013-04-20   60500.0  False  Business Dev\n999     Albert    Male 2012-05-15  129949.0   True         Sales\n\n[656 rows x 6 columns]",
      "text/html": "<div>\n<style scoped>\n    .dataframe tbody tr th:only-of-type {\n        vertical-align: middle;\n    }\n\n    .dataframe tbody tr th {\n        vertical-align: top;\n    }\n\n    .dataframe thead th {\n        text-align: right;\n    }\n</style>\n<table border=\"1\" class=\"dataframe\">\n  <thead>\n    <tr style=\"text-align: right;\">\n      <th></th>\n      <th>First Name</th>\n      <th>Gender</th>\n      <th>Start Date</th>\n      <th>Salary</th>\n      <th>Mgmt</th>\n      <th>Team</th>\n    </tr>\n  </thead>\n  <tbody>\n    <tr>\n      <th>0</th>\n      <td>Douglas</td>\n      <td>Male</td>\n      <td>1993-08-06</td>\n      <td>NaN</td>\n      <td>True</td>\n      <td>Marketing</td>\n    </tr>\n    <tr>\n      <th>1</th>\n      <td>Thomas</td>\n      <td>Male</td>\n      <td>1996-03-31</td>\n      <td>61933.0</td>\n      <td>True</td>\n      <td>NaN</td>\n    </tr>\n    <tr>\n      <th>2</th>\n      <td>Maria</td>\n      <td>Female</td>\n      <td>NaT</td>\n      <td>130590.0</td>\n      <td>False</td>\n      <td>Finance</td>\n    </tr>\n    <tr>\n      <th>3</th>\n      <td>Jerry</td>\n      <td>NaN</td>\n      <td>2005-03-04</td>\n      <td>138705.0</td>\n      <td>True</td>\n      <td>Finance</td>\n    </tr>\n    <tr>\n      <th>4</th>\n      <td>Larry</td>\n      <td>Male</td>\n      <td>1998-01-24</td>\n      <td>101004.0</td>\n      <td>True</td>\n      <td>IT</td>\n    </tr>\n    <tr>\n      <th>...</th>\n      <td>...</td>\n      <td>...</td>\n      <td>...</td>\n      <td>...</td>\n      <td>...</td>\n      <td>...</td>\n    </tr>\n    <tr>\n      <th>995</th>\n      <td>Henry</td>\n      <td>NaN</td>\n      <td>2014-11-23</td>\n      <td>132483.0</td>\n      <td>False</td>\n      <td>Distribution</td>\n    </tr>\n    <tr>\n      <th>996</th>\n      <td>Phillip</td>\n      <td>Male</td>\n      <td>1984-01-31</td>\n      <td>42392.0</td>\n      <td>False</td>\n      <td>Finance</td>\n    </tr>\n    <tr>\n      <th>997</th>\n      <td>Russell</td>\n      <td>Male</td>\n      <td>2013-05-20</td>\n      <td>96914.0</td>\n      <td>False</td>\n      <td>Product</td>\n    </tr>\n    <tr>\n      <th>998</th>\n      <td>Larry</td>\n      <td>Male</td>\n      <td>2013-04-20</td>\n      <td>60500.0</td>\n      <td>False</td>\n      <td>Business Dev</td>\n    </tr>\n    <tr>\n      <th>999</th>\n      <td>Albert</td>\n      <td>Male</td>\n      <td>2012-05-15</td>\n      <td>129949.0</td>\n      <td>True</td>\n      <td>Sales</td>\n    </tr>\n  </tbody>\n</table>\n<p>656 rows × 6 columns</p>\n</div>"
     },
     "execution_count": 97,
     "metadata": {},
     "output_type": "execute_result"
    }
   ],
   "source": [
    "\n",
    "\n",
    "# 여러 개의 조건 중 하나라도 True 이면 조건을 만족하는 데이터 조회\n",
    "empdf[empMaleMask | empHighSalaryMask]"
   ],
   "metadata": {
    "collapsed": false,
    "ExecuteTime": {
     "end_time": "2024-01-16T06:32:49.894531200Z",
     "start_time": "2024-01-16T06:32:49.757396700Z"
    }
   },
   "id": "795c8e2b1350f091",
   "execution_count": 97
  },
  {
   "cell_type": "code",
   "outputs": [
    {
     "data": {
      "text/plain": "    First Name  Gender Start Date   Salary   Mgmt     Team\n576    Michael    Male 1993-07-30  35013.0  False  Product\n238      Kevin    Male 1982-03-25  35061.0  False    Legal\n82      Steven    Male 1980-03-30  35095.0   True       IT\n63     Matthew    Male 2013-01-02  35203.0  False       HR\n650    Cynthia  Female 1986-07-05  35381.0  False  Finance",
      "text/html": "<div>\n<style scoped>\n    .dataframe tbody tr th:only-of-type {\n        vertical-align: middle;\n    }\n\n    .dataframe tbody tr th {\n        vertical-align: top;\n    }\n\n    .dataframe thead th {\n        text-align: right;\n    }\n</style>\n<table border=\"1\" class=\"dataframe\">\n  <thead>\n    <tr style=\"text-align: right;\">\n      <th></th>\n      <th>First Name</th>\n      <th>Gender</th>\n      <th>Start Date</th>\n      <th>Salary</th>\n      <th>Mgmt</th>\n      <th>Team</th>\n    </tr>\n  </thead>\n  <tbody>\n    <tr>\n      <th>576</th>\n      <td>Michael</td>\n      <td>Male</td>\n      <td>1993-07-30</td>\n      <td>35013.0</td>\n      <td>False</td>\n      <td>Product</td>\n    </tr>\n    <tr>\n      <th>238</th>\n      <td>Kevin</td>\n      <td>Male</td>\n      <td>1982-03-25</td>\n      <td>35061.0</td>\n      <td>False</td>\n      <td>Legal</td>\n    </tr>\n    <tr>\n      <th>82</th>\n      <td>Steven</td>\n      <td>Male</td>\n      <td>1980-03-30</td>\n      <td>35095.0</td>\n      <td>True</td>\n      <td>IT</td>\n    </tr>\n    <tr>\n      <th>63</th>\n      <td>Matthew</td>\n      <td>Male</td>\n      <td>2013-01-02</td>\n      <td>35203.0</td>\n      <td>False</td>\n      <td>HR</td>\n    </tr>\n    <tr>\n      <th>650</th>\n      <td>Cynthia</td>\n      <td>Female</td>\n      <td>1986-07-05</td>\n      <td>35381.0</td>\n      <td>False</td>\n      <td>Finance</td>\n    </tr>\n  </tbody>\n</table>\n</div>"
     },
     "execution_count": 98,
     "metadata": {},
     "output_type": "execute_result"
    }
   ],
   "source": [
    "# 연봉이 가장 낮은 5명 조회\n",
    "empdf.nsmallest(5, 'Salary')"
   ],
   "metadata": {
    "collapsed": false,
    "ExecuteTime": {
     "end_time": "2024-01-16T06:32:50.034888Z",
     "start_time": "2024-01-16T06:32:49.897640800Z"
    }
   },
   "id": "9913311fd21cf4e5",
   "execution_count": 98
  },
  {
   "cell_type": "code",
   "outputs": [
    {
     "data": {
      "text/plain": "    First Name  Gender Start Date    Salary   Mgmt     Team\n644  Katherine  Female 1996-08-13  149908.0  False  Finance\n429       Rose  Female 2015-05-28  149903.0  False       HR\n828    Cynthia  Female 2006-07-12  149684.0  False  Product\n186        NaN  Female 2005-02-23  149654.0    NaN    Sales\n160      Kathy  Female 2000-03-18  149563.0   True  Finance",
      "text/html": "<div>\n<style scoped>\n    .dataframe tbody tr th:only-of-type {\n        vertical-align: middle;\n    }\n\n    .dataframe tbody tr th {\n        vertical-align: top;\n    }\n\n    .dataframe thead th {\n        text-align: right;\n    }\n</style>\n<table border=\"1\" class=\"dataframe\">\n  <thead>\n    <tr style=\"text-align: right;\">\n      <th></th>\n      <th>First Name</th>\n      <th>Gender</th>\n      <th>Start Date</th>\n      <th>Salary</th>\n      <th>Mgmt</th>\n      <th>Team</th>\n    </tr>\n  </thead>\n  <tbody>\n    <tr>\n      <th>644</th>\n      <td>Katherine</td>\n      <td>Female</td>\n      <td>1996-08-13</td>\n      <td>149908.0</td>\n      <td>False</td>\n      <td>Finance</td>\n    </tr>\n    <tr>\n      <th>429</th>\n      <td>Rose</td>\n      <td>Female</td>\n      <td>2015-05-28</td>\n      <td>149903.0</td>\n      <td>False</td>\n      <td>HR</td>\n    </tr>\n    <tr>\n      <th>828</th>\n      <td>Cynthia</td>\n      <td>Female</td>\n      <td>2006-07-12</td>\n      <td>149684.0</td>\n      <td>False</td>\n      <td>Product</td>\n    </tr>\n    <tr>\n      <th>186</th>\n      <td>NaN</td>\n      <td>Female</td>\n      <td>2005-02-23</td>\n      <td>149654.0</td>\n      <td>NaN</td>\n      <td>Sales</td>\n    </tr>\n    <tr>\n      <th>160</th>\n      <td>Kathy</td>\n      <td>Female</td>\n      <td>2000-03-18</td>\n      <td>149563.0</td>\n      <td>True</td>\n      <td>Finance</td>\n    </tr>\n  </tbody>\n</table>\n</div>"
     },
     "execution_count": 99,
     "metadata": {},
     "output_type": "execute_result"
    }
   ],
   "source": [
    "# 연봉이 가장 높은 5명 조회\n",
    "empdf.nlargest(5, 'Salary')"
   ],
   "metadata": {
    "collapsed": false,
    "ExecuteTime": {
     "end_time": "2024-01-16T06:32:50.185349700Z",
     "start_time": "2024-01-16T06:32:50.004841400Z"
    }
   },
   "id": "d02aed2ce72ab336",
   "execution_count": 99
  },
  {
   "cell_type": "markdown",
   "source": [
    "- [문제] employees 데이터에서 입사일이 1993년 1월 1일 이전이거나 또는 Mgmt 가 False 이거나 NaN 인 사람 조회\n"
   ],
   "metadata": {
    "collapsed": false
   },
   "id": "73136c062a7fe9ee"
  },
  {
   "cell_type": "code",
   "outputs": [
    {
     "name": "stderr",
     "output_type": "stream",
     "text": [
      "C:\\Users\\Administrator\\AppData\\Local\\Temp\\ipykernel_46536\\920631513.py:2: FutureWarning: Downcasting object dtype arrays on .fillna, .ffill, .bfill is deprecated and will change in a future version. Call result.infer_objects(copy=False) instead. To opt-in to the future behavior, set `pd.set_option('future.no_silent_downcasting', True)`\n",
      "  empdf['Mgmt'] = empdf['Mgmt'].fillna(False)\n"
     ]
    },
    {
     "data": {
      "text/plain": "     First Name  Gender Start Date    Salary   Mgmt          Team\n2         Maria  Female        NaT  130590.0  False       Finance\n5        Dennis    Male 1987-04-18  115163.0  False         Legal\n6          Ruby  Female 1987-08-17   65476.0   True       Product\n7           NaN  Female 2015-07-20   45906.0  False       Finance\n10       Louise  Female 1980-08-12   63241.0   True           NaN\n...         ...     ...        ...       ...    ...           ...\n995       Henry     NaN 2014-11-23  132483.0  False  Distribution\n996     Phillip    Male 1984-01-31   42392.0  False       Finance\n997     Russell    Male 2013-05-20   96914.0  False       Product\n998       Larry    Male 2013-04-20   60500.0  False  Business Dev\n1000        NaN     NaN        NaT       NaN  False           NaN\n\n[679 rows x 6 columns]",
      "text/html": "<div>\n<style scoped>\n    .dataframe tbody tr th:only-of-type {\n        vertical-align: middle;\n    }\n\n    .dataframe tbody tr th {\n        vertical-align: top;\n    }\n\n    .dataframe thead th {\n        text-align: right;\n    }\n</style>\n<table border=\"1\" class=\"dataframe\">\n  <thead>\n    <tr style=\"text-align: right;\">\n      <th></th>\n      <th>First Name</th>\n      <th>Gender</th>\n      <th>Start Date</th>\n      <th>Salary</th>\n      <th>Mgmt</th>\n      <th>Team</th>\n    </tr>\n  </thead>\n  <tbody>\n    <tr>\n      <th>2</th>\n      <td>Maria</td>\n      <td>Female</td>\n      <td>NaT</td>\n      <td>130590.0</td>\n      <td>False</td>\n      <td>Finance</td>\n    </tr>\n    <tr>\n      <th>5</th>\n      <td>Dennis</td>\n      <td>Male</td>\n      <td>1987-04-18</td>\n      <td>115163.0</td>\n      <td>False</td>\n      <td>Legal</td>\n    </tr>\n    <tr>\n      <th>6</th>\n      <td>Ruby</td>\n      <td>Female</td>\n      <td>1987-08-17</td>\n      <td>65476.0</td>\n      <td>True</td>\n      <td>Product</td>\n    </tr>\n    <tr>\n      <th>7</th>\n      <td>NaN</td>\n      <td>Female</td>\n      <td>2015-07-20</td>\n      <td>45906.0</td>\n      <td>False</td>\n      <td>Finance</td>\n    </tr>\n    <tr>\n      <th>10</th>\n      <td>Louise</td>\n      <td>Female</td>\n      <td>1980-08-12</td>\n      <td>63241.0</td>\n      <td>True</td>\n      <td>NaN</td>\n    </tr>\n    <tr>\n      <th>...</th>\n      <td>...</td>\n      <td>...</td>\n      <td>...</td>\n      <td>...</td>\n      <td>...</td>\n      <td>...</td>\n    </tr>\n    <tr>\n      <th>995</th>\n      <td>Henry</td>\n      <td>NaN</td>\n      <td>2014-11-23</td>\n      <td>132483.0</td>\n      <td>False</td>\n      <td>Distribution</td>\n    </tr>\n    <tr>\n      <th>996</th>\n      <td>Phillip</td>\n      <td>Male</td>\n      <td>1984-01-31</td>\n      <td>42392.0</td>\n      <td>False</td>\n      <td>Finance</td>\n    </tr>\n    <tr>\n      <th>997</th>\n      <td>Russell</td>\n      <td>Male</td>\n      <td>2013-05-20</td>\n      <td>96914.0</td>\n      <td>False</td>\n      <td>Product</td>\n    </tr>\n    <tr>\n      <th>998</th>\n      <td>Larry</td>\n      <td>Male</td>\n      <td>2013-04-20</td>\n      <td>60500.0</td>\n      <td>False</td>\n      <td>Business Dev</td>\n    </tr>\n    <tr>\n      <th>1000</th>\n      <td>NaN</td>\n      <td>NaN</td>\n      <td>NaT</td>\n      <td>NaN</td>\n      <td>False</td>\n      <td>NaN</td>\n    </tr>\n  </tbody>\n</table>\n<p>679 rows × 6 columns</p>\n</div>"
     },
     "execution_count": 100,
     "metadata": {},
     "output_type": "execute_result"
    }
   ],
   "source": [
    "# empdf 의 Mgmt의 데이터유형을 Bool 로 전환 이떄 NaN 인 경우 False 로 가정\n",
    "empdf['Mgmt'] = empdf['Mgmt'].fillna(False)\n",
    "empdf['Mgmt'] = empdf['Mgmt'].astype('bool')\n",
    "\n",
    "\n",
    "# [문제] employees 데이터에서 입사일이 1993년 1월 1일 이전이지만 날짜 데이터가 있는 경우 또는 Mgmt 가 False 이\n",
    "empdf[(empdf[\"Start Date\"] <= pd.to_datetime('1993-01-01', format='%Y-%m-%d')) | (empdf['Mgmt']== False)]\n"
   ],
   "metadata": {
    "collapsed": false,
    "ExecuteTime": {
     "end_time": "2024-01-16T06:32:50.215000700Z",
     "start_time": "2024-01-16T06:32:50.107413800Z"
    }
   },
   "id": "f6b877a3b99e4f39",
   "execution_count": 100
  },
  {
   "cell_type": "code",
   "outputs": [
    {
     "data": {
      "text/plain": "     First Name  Gender Start Date    Salary   Mgmt          Team\n0       Douglas    Male 1993-08-06       NaN   True     Marketing\n1        Thomas    Male 1996-03-31   61933.0   True           NaN\n2         Maria  Female        NaT  130590.0  False       Finance\n3         Jerry     NaN 2005-03-04  138705.0   True       Finance\n4         Larry    Male 1998-01-24  101004.0   True            IT\n...         ...     ...        ...       ...    ...           ...\n996     Phillip    Male 1984-01-31   42392.0  False       Finance\n997     Russell    Male 2013-05-20   96914.0  False       Product\n998       Larry    Male 2013-04-20   60500.0  False  Business Dev\n999      Albert    Male 2012-05-15  129949.0   True         Sales\n1000        NaN     NaN        NaT       NaN  False           NaN\n\n[1001 rows x 6 columns]",
      "text/html": "<div>\n<style scoped>\n    .dataframe tbody tr th:only-of-type {\n        vertical-align: middle;\n    }\n\n    .dataframe tbody tr th {\n        vertical-align: top;\n    }\n\n    .dataframe thead th {\n        text-align: right;\n    }\n</style>\n<table border=\"1\" class=\"dataframe\">\n  <thead>\n    <tr style=\"text-align: right;\">\n      <th></th>\n      <th>First Name</th>\n      <th>Gender</th>\n      <th>Start Date</th>\n      <th>Salary</th>\n      <th>Mgmt</th>\n      <th>Team</th>\n    </tr>\n  </thead>\n  <tbody>\n    <tr>\n      <th>0</th>\n      <td>Douglas</td>\n      <td>Male</td>\n      <td>1993-08-06</td>\n      <td>NaN</td>\n      <td>True</td>\n      <td>Marketing</td>\n    </tr>\n    <tr>\n      <th>1</th>\n      <td>Thomas</td>\n      <td>Male</td>\n      <td>1996-03-31</td>\n      <td>61933.0</td>\n      <td>True</td>\n      <td>NaN</td>\n    </tr>\n    <tr>\n      <th>2</th>\n      <td>Maria</td>\n      <td>Female</td>\n      <td>NaT</td>\n      <td>130590.0</td>\n      <td>False</td>\n      <td>Finance</td>\n    </tr>\n    <tr>\n      <th>3</th>\n      <td>Jerry</td>\n      <td>NaN</td>\n      <td>2005-03-04</td>\n      <td>138705.0</td>\n      <td>True</td>\n      <td>Finance</td>\n    </tr>\n    <tr>\n      <th>4</th>\n      <td>Larry</td>\n      <td>Male</td>\n      <td>1998-01-24</td>\n      <td>101004.0</td>\n      <td>True</td>\n      <td>IT</td>\n    </tr>\n    <tr>\n      <th>...</th>\n      <td>...</td>\n      <td>...</td>\n      <td>...</td>\n      <td>...</td>\n      <td>...</td>\n      <td>...</td>\n    </tr>\n    <tr>\n      <th>996</th>\n      <td>Phillip</td>\n      <td>Male</td>\n      <td>1984-01-31</td>\n      <td>42392.0</td>\n      <td>False</td>\n      <td>Finance</td>\n    </tr>\n    <tr>\n      <th>997</th>\n      <td>Russell</td>\n      <td>Male</td>\n      <td>2013-05-20</td>\n      <td>96914.0</td>\n      <td>False</td>\n      <td>Product</td>\n    </tr>\n    <tr>\n      <th>998</th>\n      <td>Larry</td>\n      <td>Male</td>\n      <td>2013-04-20</td>\n      <td>60500.0</td>\n      <td>False</td>\n      <td>Business Dev</td>\n    </tr>\n    <tr>\n      <th>999</th>\n      <td>Albert</td>\n      <td>Male</td>\n      <td>2012-05-15</td>\n      <td>129949.0</td>\n      <td>True</td>\n      <td>Sales</td>\n    </tr>\n    <tr>\n      <th>1000</th>\n      <td>NaN</td>\n      <td>NaN</td>\n      <td>NaT</td>\n      <td>NaN</td>\n      <td>False</td>\n      <td>NaN</td>\n    </tr>\n  </tbody>\n</table>\n<p>1001 rows × 6 columns</p>\n</div>"
     },
     "execution_count": 101,
     "metadata": {},
     "output_type": "execute_result"
    }
   ],
   "source": [
    "# change Team dtype as category\n",
    "empdf['Team'] = empdf['Team'].astype('category')\n",
    "# change Gender dtype as category\n",
    "empdf['Gender'] = empdf['Gender'].astype('category')\n",
    "empdf"
   ],
   "metadata": {
    "collapsed": false,
    "ExecuteTime": {
     "end_time": "2024-01-16T06:32:50.292876200Z",
     "start_time": "2024-01-16T06:32:50.225999800Z"
    }
   },
   "id": "7ba74a3d79149a23",
   "execution_count": 101
  },
  {
   "cell_type": "code",
   "outputs": [
    {
     "data": {
      "text/plain": "     First Name  Gender Start Date    Salary   Mgmt     Team\n2         Maria  Female        NaT  130590.0  False  Finance\n1000        NaN     NaN        NaT       NaN  False      NaN",
      "text/html": "<div>\n<style scoped>\n    .dataframe tbody tr th:only-of-type {\n        vertical-align: middle;\n    }\n\n    .dataframe tbody tr th {\n        vertical-align: top;\n    }\n\n    .dataframe thead th {\n        text-align: right;\n    }\n</style>\n<table border=\"1\" class=\"dataframe\">\n  <thead>\n    <tr style=\"text-align: right;\">\n      <th></th>\n      <th>First Name</th>\n      <th>Gender</th>\n      <th>Start Date</th>\n      <th>Salary</th>\n      <th>Mgmt</th>\n      <th>Team</th>\n    </tr>\n  </thead>\n  <tbody>\n    <tr>\n      <th>2</th>\n      <td>Maria</td>\n      <td>Female</td>\n      <td>NaT</td>\n      <td>130590.0</td>\n      <td>False</td>\n      <td>Finance</td>\n    </tr>\n    <tr>\n      <th>1000</th>\n      <td>NaN</td>\n      <td>NaN</td>\n      <td>NaT</td>\n      <td>NaN</td>\n      <td>False</td>\n      <td>NaN</td>\n    </tr>\n  </tbody>\n</table>\n</div>"
     },
     "execution_count": 102,
     "metadata": {},
     "output_type": "execute_result"
    }
   ],
   "source": [
    "# show the people who doesn't have Start Date in empdf\n",
    "empdf[empdf['Start Date'].isnull()]"
   ],
   "metadata": {
    "collapsed": false,
    "ExecuteTime": {
     "end_time": "2024-01-16T06:33:35.699588500Z",
     "start_time": "2024-01-16T06:33:35.664541100Z"
    }
   },
   "id": "2dd407a4ac6f9841",
   "execution_count": 102
  },
  {
   "cell_type": "markdown",
   "source": [
    "Equality\n",
    "employees[\"Team\"] == \"Marketing\"\n",
    "employees[\"Team\"].eq(\"Marketing\")\n",
    "Inequality\n",
    "employees[\"Team\"] != \"Marketing\"\n",
    "employees[\"Team\"].ne(\"Marketing\")\n",
    "Less than\n",
    "employees[\"Salary\"] < 100000\n",
    "employees[\"Salary\"].lt(100000)\n",
    "Less than or\n",
    "equal to\n",
    "employees[\"Salary\"] <= 100000\n",
    "employees[\"Salary\"].le(100000)\n",
    "Greater than\n",
    "employees[\"Salary\"] > 100000\n",
    "employees[\"Salary\"].gt(100000)\n",
    "Greater than\n",
    "or equal to\n",
    "employees[\"Salary\"] >= 100000\n",
    "employees[\"Salary\"].ge(100000)"
   ],
   "metadata": {
    "collapsed": false
   },
   "id": "c83896613f15e74d"
  },
  {
   "cell_type": "code",
   "outputs": [
    {
     "data": {
      "text/plain": "    First Name  Gender Start Date    Salary   Mgmt     Team\n4        Larry    Male 1998-01-24  101004.0   True       IT\n5       Dennis    Male 1987-04-18  115163.0  False    Legal\n6         Ruby  Female 1987-08-17   65476.0   True  Product\n11       Julie  Female 1997-10-26  102508.0   True    Legal\n15     Lillian  Female 2016-06-05   59414.0  False  Product\n..         ...     ...        ...       ...    ...      ...\n981      James    Male 1993-01-15  148985.0  False    Legal\n985    Stephen     NaN 1983-07-10   85668.0  False    Legal\n989     Justin     NaN 1991-02-10   38344.0  False    Legal\n990      Robin  Female 1987-07-24  100765.0   True       IT\n997    Russell    Male 2013-05-20   96914.0  False  Product\n\n[289 rows x 6 columns]",
      "text/html": "<div>\n<style scoped>\n    .dataframe tbody tr th:only-of-type {\n        vertical-align: middle;\n    }\n\n    .dataframe tbody tr th {\n        vertical-align: top;\n    }\n\n    .dataframe thead th {\n        text-align: right;\n    }\n</style>\n<table border=\"1\" class=\"dataframe\">\n  <thead>\n    <tr style=\"text-align: right;\">\n      <th></th>\n      <th>First Name</th>\n      <th>Gender</th>\n      <th>Start Date</th>\n      <th>Salary</th>\n      <th>Mgmt</th>\n      <th>Team</th>\n    </tr>\n  </thead>\n  <tbody>\n    <tr>\n      <th>4</th>\n      <td>Larry</td>\n      <td>Male</td>\n      <td>1998-01-24</td>\n      <td>101004.0</td>\n      <td>True</td>\n      <td>IT</td>\n    </tr>\n    <tr>\n      <th>5</th>\n      <td>Dennis</td>\n      <td>Male</td>\n      <td>1987-04-18</td>\n      <td>115163.0</td>\n      <td>False</td>\n      <td>Legal</td>\n    </tr>\n    <tr>\n      <th>6</th>\n      <td>Ruby</td>\n      <td>Female</td>\n      <td>1987-08-17</td>\n      <td>65476.0</td>\n      <td>True</td>\n      <td>Product</td>\n    </tr>\n    <tr>\n      <th>11</th>\n      <td>Julie</td>\n      <td>Female</td>\n      <td>1997-10-26</td>\n      <td>102508.0</td>\n      <td>True</td>\n      <td>Legal</td>\n    </tr>\n    <tr>\n      <th>15</th>\n      <td>Lillian</td>\n      <td>Female</td>\n      <td>2016-06-05</td>\n      <td>59414.0</td>\n      <td>False</td>\n      <td>Product</td>\n    </tr>\n    <tr>\n      <th>...</th>\n      <td>...</td>\n      <td>...</td>\n      <td>...</td>\n      <td>...</td>\n      <td>...</td>\n      <td>...</td>\n    </tr>\n    <tr>\n      <th>981</th>\n      <td>James</td>\n      <td>Male</td>\n      <td>1993-01-15</td>\n      <td>148985.0</td>\n      <td>False</td>\n      <td>Legal</td>\n    </tr>\n    <tr>\n      <th>985</th>\n      <td>Stephen</td>\n      <td>NaN</td>\n      <td>1983-07-10</td>\n      <td>85668.0</td>\n      <td>False</td>\n      <td>Legal</td>\n    </tr>\n    <tr>\n      <th>989</th>\n      <td>Justin</td>\n      <td>NaN</td>\n      <td>1991-02-10</td>\n      <td>38344.0</td>\n      <td>False</td>\n      <td>Legal</td>\n    </tr>\n    <tr>\n      <th>990</th>\n      <td>Robin</td>\n      <td>Female</td>\n      <td>1987-07-24</td>\n      <td>100765.0</td>\n      <td>True</td>\n      <td>IT</td>\n    </tr>\n    <tr>\n      <th>997</th>\n      <td>Russell</td>\n      <td>Male</td>\n      <td>2013-05-20</td>\n      <td>96914.0</td>\n      <td>False</td>\n      <td>Product</td>\n    </tr>\n  </tbody>\n</table>\n<p>289 rows × 6 columns</p>\n</div>"
     },
     "execution_count": 105,
     "metadata": {},
     "output_type": "execute_result"
    }
   ],
   "source": [
    "# get 'IT' 'Legal' Team people by using isin\n",
    "empdf[empdf['Team'].isin(['IT', 'Legal','Product'])]"
   ],
   "metadata": {
    "collapsed": false,
    "ExecuteTime": {
     "end_time": "2024-01-16T06:39:12.455028600Z",
     "start_time": "2024-01-16T06:39:12.418503400Z"
    }
   },
   "id": "b929c99e15f4faf7",
   "execution_count": 105
  },
  {
   "cell_type": "code",
   "outputs": [
    {
     "data": {
      "text/plain": "    First Name  Gender Start Date   Salary   Mgmt          Team\n1       Thomas    Male 1996-03-31  61933.0   True           NaN\n6         Ruby  Female 1987-08-17  65476.0   True       Product\n10      Louise  Female 1980-08-12  63241.0   True           NaN\n15     Lillian  Female 2016-06-05  59414.0  False       Product\n20        Lois     NaN 1995-04-22  64714.0   True         Legal\n..         ...     ...        ...      ...    ...           ...\n970      Alice  Female 1988-09-03  63571.0   True       Product\n974      Harry    Male 2011-08-30  67656.0   True            IT\n978       Sean    Male 1983-01-17  66146.0  False            HR\n993       Tina  Female 1997-05-15  56450.0   True   Engineering\n998      Larry    Male 2013-04-20  60500.0  False  Business Dev\n\n[173 rows x 6 columns]",
      "text/html": "<div>\n<style scoped>\n    .dataframe tbody tr th:only-of-type {\n        vertical-align: middle;\n    }\n\n    .dataframe tbody tr th {\n        vertical-align: top;\n    }\n\n    .dataframe thead th {\n        text-align: right;\n    }\n</style>\n<table border=\"1\" class=\"dataframe\">\n  <thead>\n    <tr style=\"text-align: right;\">\n      <th></th>\n      <th>First Name</th>\n      <th>Gender</th>\n      <th>Start Date</th>\n      <th>Salary</th>\n      <th>Mgmt</th>\n      <th>Team</th>\n    </tr>\n  </thead>\n  <tbody>\n    <tr>\n      <th>1</th>\n      <td>Thomas</td>\n      <td>Male</td>\n      <td>1996-03-31</td>\n      <td>61933.0</td>\n      <td>True</td>\n      <td>NaN</td>\n    </tr>\n    <tr>\n      <th>6</th>\n      <td>Ruby</td>\n      <td>Female</td>\n      <td>1987-08-17</td>\n      <td>65476.0</td>\n      <td>True</td>\n      <td>Product</td>\n    </tr>\n    <tr>\n      <th>10</th>\n      <td>Louise</td>\n      <td>Female</td>\n      <td>1980-08-12</td>\n      <td>63241.0</td>\n      <td>True</td>\n      <td>NaN</td>\n    </tr>\n    <tr>\n      <th>15</th>\n      <td>Lillian</td>\n      <td>Female</td>\n      <td>2016-06-05</td>\n      <td>59414.0</td>\n      <td>False</td>\n      <td>Product</td>\n    </tr>\n    <tr>\n      <th>20</th>\n      <td>Lois</td>\n      <td>NaN</td>\n      <td>1995-04-22</td>\n      <td>64714.0</td>\n      <td>True</td>\n      <td>Legal</td>\n    </tr>\n    <tr>\n      <th>...</th>\n      <td>...</td>\n      <td>...</td>\n      <td>...</td>\n      <td>...</td>\n      <td>...</td>\n      <td>...</td>\n    </tr>\n    <tr>\n      <th>970</th>\n      <td>Alice</td>\n      <td>Female</td>\n      <td>1988-09-03</td>\n      <td>63571.0</td>\n      <td>True</td>\n      <td>Product</td>\n    </tr>\n    <tr>\n      <th>974</th>\n      <td>Harry</td>\n      <td>Male</td>\n      <td>2011-08-30</td>\n      <td>67656.0</td>\n      <td>True</td>\n      <td>IT</td>\n    </tr>\n    <tr>\n      <th>978</th>\n      <td>Sean</td>\n      <td>Male</td>\n      <td>1983-01-17</td>\n      <td>66146.0</td>\n      <td>False</td>\n      <td>HR</td>\n    </tr>\n    <tr>\n      <th>993</th>\n      <td>Tina</td>\n      <td>Female</td>\n      <td>1997-05-15</td>\n      <td>56450.0</td>\n      <td>True</td>\n      <td>Engineering</td>\n    </tr>\n    <tr>\n      <th>998</th>\n      <td>Larry</td>\n      <td>Male</td>\n      <td>2013-04-20</td>\n      <td>60500.0</td>\n      <td>False</td>\n      <td>Business Dev</td>\n    </tr>\n  </tbody>\n</table>\n<p>173 rows × 6 columns</p>\n</div>"
     },
     "execution_count": 107,
     "metadata": {},
     "output_type": "execute_result"
    }
   ],
   "source": [
    "# get people who's salary is in between 50000 and 70000 using between pd method\n",
    "# 이떄 둘 다 포함함 both\n",
    "empdf[empdf['Salary'].between(50000, 70000)]\n"
   ],
   "metadata": {
    "collapsed": false,
    "ExecuteTime": {
     "end_time": "2024-01-16T06:40:06.336365200Z",
     "start_time": "2024-01-16T06:40:06.316836400Z"
    }
   },
   "id": "d28999f6528e5eab",
   "execution_count": 107
  },
  {
   "cell_type": "markdown",
   "source": [
    "- 구간 지정 검사 불린 메서드 => df.between(low, high, inclusive='neither')\n",
    "- Literal[\"both\", \"neither\", \"left\", \"right\"] \n"
   ],
   "metadata": {
    "collapsed": false
   },
   "id": "292d49a2c9e1d26"
  },
  {
   "cell_type": "code",
   "outputs": [
    {
     "data": {
      "text/plain": "    First Name  Gender Start Date   Salary   Mgmt         Team\n19       Donna  Female 2010-07-22  81014.0  False      Product\n31       Joyce     NaN 2005-02-20  88657.0  False      Product\n35     Theresa  Female 2006-10-10  85182.0  False        Sales\n45       Roger    Male 1980-04-17  88010.0   True        Sales\n54        Sara  Female 2007-08-15  83677.0  False  Engineering\n..         ...     ...        ...      ...    ...          ...\n930      Nancy  Female 2001-09-10  85213.0   True    Marketing\n956    Beverly  Female 1986-10-17  80838.0  False  Engineering\n963        Ann  Female 1994-09-23  89443.0   True        Sales\n985    Stephen     NaN 1983-07-10  85668.0  False        Legal\n986      Donna  Female 1982-11-26  82871.0  False    Marketing\n\n[94 rows x 6 columns]",
      "text/html": "<div>\n<style scoped>\n    .dataframe tbody tr th:only-of-type {\n        vertical-align: middle;\n    }\n\n    .dataframe tbody tr th {\n        vertical-align: top;\n    }\n\n    .dataframe thead th {\n        text-align: right;\n    }\n</style>\n<table border=\"1\" class=\"dataframe\">\n  <thead>\n    <tr style=\"text-align: right;\">\n      <th></th>\n      <th>First Name</th>\n      <th>Gender</th>\n      <th>Start Date</th>\n      <th>Salary</th>\n      <th>Mgmt</th>\n      <th>Team</th>\n    </tr>\n  </thead>\n  <tbody>\n    <tr>\n      <th>19</th>\n      <td>Donna</td>\n      <td>Female</td>\n      <td>2010-07-22</td>\n      <td>81014.0</td>\n      <td>False</td>\n      <td>Product</td>\n    </tr>\n    <tr>\n      <th>31</th>\n      <td>Joyce</td>\n      <td>NaN</td>\n      <td>2005-02-20</td>\n      <td>88657.0</td>\n      <td>False</td>\n      <td>Product</td>\n    </tr>\n    <tr>\n      <th>35</th>\n      <td>Theresa</td>\n      <td>Female</td>\n      <td>2006-10-10</td>\n      <td>85182.0</td>\n      <td>False</td>\n      <td>Sales</td>\n    </tr>\n    <tr>\n      <th>45</th>\n      <td>Roger</td>\n      <td>Male</td>\n      <td>1980-04-17</td>\n      <td>88010.0</td>\n      <td>True</td>\n      <td>Sales</td>\n    </tr>\n    <tr>\n      <th>54</th>\n      <td>Sara</td>\n      <td>Female</td>\n      <td>2007-08-15</td>\n      <td>83677.0</td>\n      <td>False</td>\n      <td>Engineering</td>\n    </tr>\n    <tr>\n      <th>...</th>\n      <td>...</td>\n      <td>...</td>\n      <td>...</td>\n      <td>...</td>\n      <td>...</td>\n      <td>...</td>\n    </tr>\n    <tr>\n      <th>930</th>\n      <td>Nancy</td>\n      <td>Female</td>\n      <td>2001-09-10</td>\n      <td>85213.0</td>\n      <td>True</td>\n      <td>Marketing</td>\n    </tr>\n    <tr>\n      <th>956</th>\n      <td>Beverly</td>\n      <td>Female</td>\n      <td>1986-10-17</td>\n      <td>80838.0</td>\n      <td>False</td>\n      <td>Engineering</td>\n    </tr>\n    <tr>\n      <th>963</th>\n      <td>Ann</td>\n      <td>Female</td>\n      <td>1994-09-23</td>\n      <td>89443.0</td>\n      <td>True</td>\n      <td>Sales</td>\n    </tr>\n    <tr>\n      <th>985</th>\n      <td>Stephen</td>\n      <td>NaN</td>\n      <td>1983-07-10</td>\n      <td>85668.0</td>\n      <td>False</td>\n      <td>Legal</td>\n    </tr>\n    <tr>\n      <th>986</th>\n      <td>Donna</td>\n      <td>Female</td>\n      <td>1982-11-26</td>\n      <td>82871.0</td>\n      <td>False</td>\n      <td>Marketing</td>\n    </tr>\n  </tbody>\n</table>\n<p>94 rows × 6 columns</p>\n</div>"
     },
     "execution_count": 109,
     "metadata": {},
     "output_type": "execute_result"
    }
   ],
   "source": [
    "# get people who's salary is in between 80000 and 90000 using between method\n",
    "empdf[empdf['Salary'].between(80000, 90000, inclusive='neither')]\n",
    "\n",
    "\n",
    "# express above as althmetric method\n",
    "empdf[(empdf['Salary'] > 80000) & (empdf['Salary'] < 90000)]\n"
   ],
   "metadata": {
    "collapsed": false,
    "ExecuteTime": {
     "end_time": "2024-01-16T06:43:14.987013800Z",
     "start_time": "2024-01-16T06:43:14.966490800Z"
    }
   },
   "id": "fd3a80d069665ee3",
   "execution_count": 109
  },
  {
   "cell_type": "code",
   "outputs": [
    {
     "data": {
      "text/plain": "    First Name  Gender Start Date    Salary   Mgmt   Team\n186        NaN  Female 2005-02-23  149654.0  False  Sales",
      "text/html": "<div>\n<style scoped>\n    .dataframe tbody tr th:only-of-type {\n        vertical-align: middle;\n    }\n\n    .dataframe tbody tr th {\n        vertical-align: top;\n    }\n\n    .dataframe thead th {\n        text-align: right;\n    }\n</style>\n<table border=\"1\" class=\"dataframe\">\n  <thead>\n    <tr style=\"text-align: right;\">\n      <th></th>\n      <th>First Name</th>\n      <th>Gender</th>\n      <th>Start Date</th>\n      <th>Salary</th>\n      <th>Mgmt</th>\n      <th>Team</th>\n    </tr>\n  </thead>\n  <tbody>\n    <tr>\n      <th>186</th>\n      <td>NaN</td>\n      <td>Female</td>\n      <td>2005-02-23</td>\n      <td>149654.0</td>\n      <td>False</td>\n      <td>Sales</td>\n    </tr>\n  </tbody>\n</table>\n</div>"
     },
     "execution_count": 110,
     "metadata": {},
     "output_type": "execute_result"
    }
   ],
   "source": [
    "# get person who get the highest salary in sales team\n",
    "empdf[empdf['Team'] == 'Sales'].nlargest(1, 'Salary')"
   ],
   "metadata": {
    "collapsed": false,
    "ExecuteTime": {
     "end_time": "2024-01-16T06:45:17.645861100Z",
     "start_time": "2024-01-16T06:45:17.620858800Z"
    }
   },
   "id": "76e35a1d1e1bc716",
   "execution_count": 110
  },
  {
   "cell_type": "code",
   "outputs": [
    {
     "data": {
      "text/plain": "0       DOUGLAS\n1        THOMAS\n2         MARIA\n3         JERRY\n4         LARRY\n         ...   \n996     PHILLIP\n997     RUSSELL\n998       LARRY\n999      ALBERT\n1000        NaN\nName: First Name, Length: 1001, dtype: object"
     },
     "execution_count": 112,
     "metadata": {},
     "output_type": "execute_result"
    }
   ],
   "source": [
    "# make first name upper case\n",
    "# 문자열일 경우 str 내용에 대한 접근 방법\n",
    "empdf['First Name'].str.upper()"
   ],
   "metadata": {
    "collapsed": false,
    "ExecuteTime": {
     "end_time": "2024-01-16T06:48:11.889382500Z",
     "start_time": "2024-01-16T06:48:11.878382900Z"
    }
   },
   "id": "2cf4292761c7e33f",
   "execution_count": 112
  },
  {
   "cell_type": "code",
   "outputs": [
    {
     "data": {
      "text/plain": "    First Name Gender Start Date    Salary   Mgmt          Team\n0      Douglas   Male 1993-08-06       NaN   True     Marketing\n1       Thomas   Male 1996-03-31   61933.0   True           NaN\n3        Jerry    NaN 2005-03-04  138705.0   True       Finance\n4        Larry   Male 1998-01-24  101004.0   True            IT\n5       Dennis   Male 1987-04-18  115163.0  False         Legal\n..         ...    ...        ...       ...    ...           ...\n995      Henry    NaN 2014-11-23  132483.0  False  Distribution\n996    Phillip   Male 1984-01-31   42392.0  False       Finance\n997    Russell   Male 2013-05-20   96914.0  False       Product\n998      Larry   Male 2013-04-20   60500.0  False  Business Dev\n999     Albert   Male 2012-05-15  129949.0   True         Sales\n\n[999 rows x 6 columns]",
      "text/html": "<div>\n<style scoped>\n    .dataframe tbody tr th:only-of-type {\n        vertical-align: middle;\n    }\n\n    .dataframe tbody tr th {\n        vertical-align: top;\n    }\n\n    .dataframe thead th {\n        text-align: right;\n    }\n</style>\n<table border=\"1\" class=\"dataframe\">\n  <thead>\n    <tr style=\"text-align: right;\">\n      <th></th>\n      <th>First Name</th>\n      <th>Gender</th>\n      <th>Start Date</th>\n      <th>Salary</th>\n      <th>Mgmt</th>\n      <th>Team</th>\n    </tr>\n  </thead>\n  <tbody>\n    <tr>\n      <th>0</th>\n      <td>Douglas</td>\n      <td>Male</td>\n      <td>1993-08-06</td>\n      <td>NaN</td>\n      <td>True</td>\n      <td>Marketing</td>\n    </tr>\n    <tr>\n      <th>1</th>\n      <td>Thomas</td>\n      <td>Male</td>\n      <td>1996-03-31</td>\n      <td>61933.0</td>\n      <td>True</td>\n      <td>NaN</td>\n    </tr>\n    <tr>\n      <th>3</th>\n      <td>Jerry</td>\n      <td>NaN</td>\n      <td>2005-03-04</td>\n      <td>138705.0</td>\n      <td>True</td>\n      <td>Finance</td>\n    </tr>\n    <tr>\n      <th>4</th>\n      <td>Larry</td>\n      <td>Male</td>\n      <td>1998-01-24</td>\n      <td>101004.0</td>\n      <td>True</td>\n      <td>IT</td>\n    </tr>\n    <tr>\n      <th>5</th>\n      <td>Dennis</td>\n      <td>Male</td>\n      <td>1987-04-18</td>\n      <td>115163.0</td>\n      <td>False</td>\n      <td>Legal</td>\n    </tr>\n    <tr>\n      <th>...</th>\n      <td>...</td>\n      <td>...</td>\n      <td>...</td>\n      <td>...</td>\n      <td>...</td>\n      <td>...</td>\n    </tr>\n    <tr>\n      <th>995</th>\n      <td>Henry</td>\n      <td>NaN</td>\n      <td>2014-11-23</td>\n      <td>132483.0</td>\n      <td>False</td>\n      <td>Distribution</td>\n    </tr>\n    <tr>\n      <th>996</th>\n      <td>Phillip</td>\n      <td>Male</td>\n      <td>1984-01-31</td>\n      <td>42392.0</td>\n      <td>False</td>\n      <td>Finance</td>\n    </tr>\n    <tr>\n      <th>997</th>\n      <td>Russell</td>\n      <td>Male</td>\n      <td>2013-05-20</td>\n      <td>96914.0</td>\n      <td>False</td>\n      <td>Product</td>\n    </tr>\n    <tr>\n      <th>998</th>\n      <td>Larry</td>\n      <td>Male</td>\n      <td>2013-04-20</td>\n      <td>60500.0</td>\n      <td>False</td>\n      <td>Business Dev</td>\n    </tr>\n    <tr>\n      <th>999</th>\n      <td>Albert</td>\n      <td>Male</td>\n      <td>2012-05-15</td>\n      <td>129949.0</td>\n      <td>True</td>\n      <td>Sales</td>\n    </tr>\n  </tbody>\n</table>\n<p>999 rows × 6 columns</p>\n</div>"
     },
     "execution_count": 113,
     "metadata": {},
     "output_type": "execute_result"
    }
   ],
   "source": [
    "# get people who's Gender is Male\n",
    "empdf[empdf['Gender'] == 'Male']"
   ],
   "metadata": {
    "collapsed": false,
    "ExecuteTime": {
     "end_time": "2024-01-16T06:49:34.605066300Z",
     "start_time": "2024-01-16T06:49:34.580023700Z"
    }
   },
   "id": "e9dc23b07eeaf9e5",
   "execution_count": 113
  },
  {
   "cell_type": "code",
   "outputs": [
    {
     "data": {
      "text/plain": "    First Name Gender Start Date    Salary   Mgmt   Team\n981      James   Male 1993-01-15  148985.0  False  Legal",
      "text/html": "<div>\n<style scoped>\n    .dataframe tbody tr th:only-of-type {\n        vertical-align: middle;\n    }\n\n    .dataframe tbody tr th {\n        vertical-align: top;\n    }\n\n    .dataframe thead th {\n        text-align: right;\n    }\n</style>\n<table border=\"1\" class=\"dataframe\">\n  <thead>\n    <tr style=\"text-align: right;\">\n      <th></th>\n      <th>First Name</th>\n      <th>Gender</th>\n      <th>Start Date</th>\n      <th>Salary</th>\n      <th>Mgmt</th>\n      <th>Team</th>\n    </tr>\n  </thead>\n  <tbody>\n    <tr>\n      <th>981</th>\n      <td>James</td>\n      <td>Male</td>\n      <td>1993-01-15</td>\n      <td>148985.0</td>\n      <td>False</td>\n      <td>Legal</td>\n    </tr>\n  </tbody>\n</table>\n</div>"
     },
     "execution_count": 115,
     "metadata": {},
     "output_type": "execute_result"
    }
   ],
   "source": [
    "# get the person who's Salary is the highest in Gender Male\n",
    "empdf[(empdf['Gender'] == 'Male')].nlargest(1, 'Salary')"
   ],
   "metadata": {
    "collapsed": false,
    "ExecuteTime": {
     "end_time": "2024-01-16T07:00:42.775763200Z",
     "start_time": "2024-01-16T07:00:42.757251100Z"
    }
   },
   "id": "d2b4b6e03e8902f5",
   "execution_count": 115
  },
  {
   "cell_type": "code",
   "outputs": [
    {
     "data": {
      "text/plain": "    First Name  Gender Start Date    Salary  Mgmt Team\n287       Lois  Female 2011-11-09  147183.0  True   IT",
      "text/html": "<div>\n<style scoped>\n    .dataframe tbody tr th:only-of-type {\n        vertical-align: middle;\n    }\n\n    .dataframe tbody tr th {\n        vertical-align: top;\n    }\n\n    .dataframe thead th {\n        text-align: right;\n    }\n</style>\n<table border=\"1\" class=\"dataframe\">\n  <thead>\n    <tr style=\"text-align: right;\">\n      <th></th>\n      <th>First Name</th>\n      <th>Gender</th>\n      <th>Start Date</th>\n      <th>Salary</th>\n      <th>Mgmt</th>\n      <th>Team</th>\n    </tr>\n  </thead>\n  <tbody>\n    <tr>\n      <th>287</th>\n      <td>Lois</td>\n      <td>Female</td>\n      <td>2011-11-09</td>\n      <td>147183.0</td>\n      <td>True</td>\n      <td>IT</td>\n    </tr>\n  </tbody>\n</table>\n</div>"
     },
     "execution_count": 116,
     "metadata": {},
     "output_type": "execute_result"
    }
   ],
   "source": [
    "# get the person who's Salary is the highest in Team IT\n",
    "empdf[(empdf['Team'] == 'IT')].nlargest(1, 'Salary')"
   ],
   "metadata": {
    "collapsed": false,
    "ExecuteTime": {
     "end_time": "2024-01-16T07:01:09.902691100Z",
     "start_time": "2024-01-16T07:01:09.878290100Z"
    }
   },
   "id": "1991115bf0d51b34",
   "execution_count": 116
  },
  {
   "cell_type": "code",
   "outputs": [],
   "source": [],
   "metadata": {
    "collapsed": false
   },
   "id": "93aaae9c48b69818"
  }
 ],
 "metadata": {
  "kernelspec": {
   "display_name": "Python 3",
   "language": "python",
   "name": "python3"
  },
  "language_info": {
   "codemirror_mode": {
    "name": "ipython",
    "version": 2
   },
   "file_extension": ".py",
   "mimetype": "text/x-python",
   "name": "python",
   "nbconvert_exporter": "python",
   "pygments_lexer": "ipython2",
   "version": "2.7.6"
  }
 },
 "nbformat": 4,
 "nbformat_minor": 5
}
