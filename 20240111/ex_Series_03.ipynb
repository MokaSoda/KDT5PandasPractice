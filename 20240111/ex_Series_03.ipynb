{
 "cells": [
  {
   "cell_type": "markdown",
   "source": [
    "### [Series] 객체 원소 인덱싱과 슬라이싱\n"
   ],
   "metadata": {
    "collapsed": false
   },
   "id": "35bd0de5b45c7779"
  },
  {
   "cell_type": "code",
   "outputs": [],
   "source": [
    "from pandas import Series as ss"
   ],
   "metadata": {
    "collapsed": false,
    "ExecuteTime": {
     "end_time": "2024-01-11T04:57:17.805385600Z",
     "start_time": "2024-01-11T04:57:17.798708200Z"
    }
   },
   "id": "f1767d209a08c49d",
   "execution_count": 5
  },
  {
   "cell_type": "markdown",
   "source": [
    "1. 데이터 준비"
   ],
   "metadata": {
    "collapsed": false
   },
   "id": "86ae629a66f7abc8"
  },
  {
   "cell_type": "code",
   "outputs": [],
   "source": [
    "datas = {\n",
    "    'name' : '홍길동',\n",
    "    'age' : 12,\n",
    "    'job' : '도적',\n",
    "}"
   ],
   "metadata": {
    "collapsed": false,
    "ExecuteTime": {
     "end_time": "2024-01-11T04:58:22.720726400Z",
     "start_time": "2024-01-11T04:58:22.708121500Z"
    }
   },
   "id": "c0e7eb133ef7b730",
   "execution_count": 8
  },
  {
   "cell_type": "markdown",
   "source": [
    "2. Series 객체 생성"
   ],
   "metadata": {
    "collapsed": false
   },
   "id": "17dc79cfd1793a0d"
  },
  {
   "cell_type": "code",
   "outputs": [],
   "source": [
    "series = ss(datas, name='정보')\n"
   ],
   "metadata": {
    "collapsed": false,
    "ExecuteTime": {
     "end_time": "2024-01-11T04:59:09.234055Z",
     "start_time": "2024-01-11T04:59:09.226627300Z"
    }
   },
   "id": "3f7c29e92f830312",
   "execution_count": 10
  },
  {
   "cell_type": "markdown",
   "source": [
    "3. 인덱싱으로 원소 읽기"
   ],
   "metadata": {
    "collapsed": false
   },
   "id": "3253511d32b39f24"
  },
  {
   "cell_type": "code",
   "outputs": [
    {
     "data": {
      "text/plain": "12"
     },
     "execution_count": 12,
     "metadata": {},
     "output_type": "execute_result"
    }
   ],
   "source": [
    "series['age']"
   ],
   "metadata": {
    "collapsed": false,
    "ExecuteTime": {
     "end_time": "2024-01-11T04:59:45.739603200Z",
     "start_time": "2024-01-11T04:59:45.723833400Z"
    }
   },
   "id": "352abc77d6ecb03a",
   "execution_count": 12
  },
  {
   "cell_type": "code",
   "outputs": [
    {
     "data": {
      "text/plain": "'도적'"
     },
     "execution_count": 14,
     "metadata": {},
     "output_type": "execute_result"
    }
   ],
   "source": [
    "series['job']"
   ],
   "metadata": {
    "collapsed": false,
    "ExecuteTime": {
     "end_time": "2024-01-11T04:59:56.064893400Z",
     "start_time": "2024-01-11T04:59:56.041711Z"
    }
   },
   "id": "2d86504a74b5df8b",
   "execution_count": 14
  },
  {
   "cell_type": "code",
   "outputs": [
    {
     "data": {
      "text/plain": "'홍길동'"
     },
     "execution_count": 16,
     "metadata": {},
     "output_type": "execute_result"
    }
   ],
   "source": [
    "series['name']"
   ],
   "metadata": {
    "collapsed": false,
    "ExecuteTime": {
     "end_time": "2024-01-11T05:00:05.528501Z",
     "start_time": "2024-01-11T05:00:05.518633700Z"
    }
   },
   "id": "d650f35f7d0f1858",
   "execution_count": 16
  },
  {
   "cell_type": "markdown",
   "source": [
    "이름과 직업 데이터 읽기 (슬라이싱과 인덱싱 사용)"
   ],
   "metadata": {
    "collapsed": false
   },
   "id": "59d40b31e934a289"
  },
  {
   "cell_type": "code",
   "outputs": [
    {
     "data": {
      "text/plain": "name    홍길동\njob      도적\nName: 정보, dtype: object"
     },
     "execution_count": 23,
     "metadata": {},
     "output_type": "execute_result"
    }
   ],
   "source": [
    "series.iloc[0:3:2]"
   ],
   "metadata": {
    "collapsed": false,
    "ExecuteTime": {
     "end_time": "2024-01-11T05:02:58.857272300Z",
     "start_time": "2024-01-11T05:02:58.846721200Z"
    }
   },
   "id": "2a9550d049024759",
   "execution_count": 23
  },
  {
   "cell_type": "code",
   "outputs": [
    {
     "data": {
      "text/plain": "name    홍길동\njob      도적\nName: 정보, dtype: object"
     },
     "execution_count": 27,
     "metadata": {},
     "output_type": "execute_result"
    }
   ],
   "source": [
    "series[['name', 'job']]"
   ],
   "metadata": {
    "collapsed": false,
    "ExecuteTime": {
     "end_time": "2024-01-11T05:06:38.109662100Z",
     "start_time": "2024-01-11T05:06:38.087762Z"
    }
   },
   "id": "318a93aa00e1dcc9",
   "execution_count": 27
  },
  {
   "cell_type": "code",
   "outputs": [
    {
     "data": {
      "text/plain": "name    홍길동\nage      12\njob      도적\nName: 정보, dtype: object"
     },
     "execution_count": 28,
     "metadata": {},
     "output_type": "execute_result"
    }
   ],
   "source": [
    "series['name':'job']"
   ],
   "metadata": {
    "collapsed": false,
    "ExecuteTime": {
     "end_time": "2024-01-11T05:14:42.270668300Z",
     "start_time": "2024-01-11T05:14:42.254035300Z"
    }
   },
   "id": "fc4434398028e6ed",
   "execution_count": 28
  },
  {
   "cell_type": "code",
   "outputs": [],
   "source": [],
   "metadata": {
    "collapsed": false
   },
   "id": "941c908f2befa6ed"
  }
 ],
 "metadata": {
  "kernelspec": {
   "display_name": "Python 3",
   "language": "python",
   "name": "python3"
  },
  "language_info": {
   "codemirror_mode": {
    "name": "ipython",
    "version": 2
   },
   "file_extension": ".py",
   "mimetype": "text/x-python",
   "name": "python",
   "nbconvert_exporter": "python",
   "pygments_lexer": "ipython2",
   "version": "2.7.6"
  }
 },
 "nbformat": 4,
 "nbformat_minor": 5
}
