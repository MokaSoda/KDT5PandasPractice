{
 "cells": [
  {
   "cell_type": "markdown",
   "source": [
    "# 시리즈 (Series) 살펴보기\n",
    "- 판다스에서 데이터를 저장하는 자료 구조 중 하나\n",
    "- 동일한 타입의 데이터를 연속된 메모리 공간에 저장 함\n",
    "- 구성 : 인덱스 + 데이터\n",
    "- 생성 : Series() 생성자 메서드"
   ],
   "metadata": {
    "collapsed": false
   },
   "id": "a88653d30bdb98b"
  },
  {
   "cell_type": "markdown",
   "source": [
    "## (1) 모듈 로딩\n"
   ],
   "metadata": {
    "collapsed": false
   },
   "id": "fec08ae106442a40"
  },
  {
   "cell_type": "code",
   "outputs": [],
   "source": [
    "import pandas as pd\n"
   ],
   "metadata": {
    "collapsed": false,
    "ExecuteTime": {
     "end_time": "2024-01-11T01:47:24.837309700Z",
     "start_time": "2024-01-11T01:47:24.479793300Z"
    }
   },
   "id": "d1157404d9997a52",
   "execution_count": 61
  },
  {
   "cell_type": "markdown",
   "source": [
    "## (2) 시리즈 객체 생성\n",
    "\n",
    "- 객체 생성에 사용되는 메서드 => 생성자(Constructor)  \n",
    "데이터 타입과 동일한 이름의 메서드 => Series()\n"
   ],
   "metadata": {
    "collapsed": false
   },
   "id": "740739e2e1a7eea5"
  },
  {
   "cell_type": "code",
   "outputs": [
    {
     "name": "stdout",
     "output_type": "stream",
     "text": [
      "0    10\n",
      "1    20\n",
      "2    30\n",
      "dtype: int64\n"
     ]
    }
   ],
   "source": [
    "ss1 = pd.Series([10, 20, 30])\n",
    "print(ss1)"
   ],
   "metadata": {
    "collapsed": false,
    "ExecuteTime": {
     "end_time": "2024-01-11T01:57:43.332350200Z",
     "start_time": "2024-01-11T01:57:43.323158400Z"
    }
   },
   "id": "4696edf4956c9dd3",
   "execution_count": 63
  },
  {
   "cell_type": "code",
   "outputs": [
    {
     "name": "stdout",
     "output_type": "stream",
     "text": [
      "<class 'pandas.core.series.Series'>\n"
     ]
    }
   ],
   "source": [
    "print(type(ss1))"
   ],
   "metadata": {
    "collapsed": false,
    "ExecuteTime": {
     "end_time": "2024-01-11T01:57:50.749817400Z",
     "start_time": "2024-01-11T01:57:50.714176700Z"
    }
   },
   "id": "8fb02f79db68b1d",
   "execution_count": 64
  },
  {
   "cell_type": "markdown",
   "source": [
    "- Series 객체의 속성(Attribute)/필드(field) 살펴보기\n",
    "    * 기본 : data, index, dtype\n",
    "    * 읽기 : 객체변수명.속성명\n",
    "    * 쓰기 : 객체변수명.속성명 = 새로운값 (하지만 모든 속성이 가능한 것은 아님)"
   ],
   "metadata": {
    "collapsed": false
   },
   "id": "e32699182d33eced"
  },
  {
   "cell_type": "code",
   "outputs": [
    {
     "data": {
      "text/plain": "RangeIndex(start=0, stop=3, step=1)"
     },
     "execution_count": 66,
     "metadata": {},
     "output_type": "execute_result"
    }
   ],
   "source": [
    "ss1.index"
   ],
   "metadata": {
    "collapsed": false,
    "ExecuteTime": {
     "end_time": "2024-01-11T02:01:06.571582Z",
     "start_time": "2024-01-11T02:01:06.558078800Z"
    }
   },
   "id": "14168ccf3b8f64a4",
   "execution_count": 66
  },
  {
   "cell_type": "code",
   "outputs": [
    {
     "data": {
      "text/plain": "array([10, 20, 30], dtype=int64)"
     },
     "execution_count": 74,
     "metadata": {},
     "output_type": "execute_result"
    }
   ],
   "source": [
    "ss1.values"
   ],
   "metadata": {
    "collapsed": false,
    "ExecuteTime": {
     "end_time": "2024-01-11T02:01:42.264938100Z",
     "start_time": "2024-01-11T02:01:42.250433Z"
    }
   },
   "id": "a7e8feab06c1118d",
   "execution_count": 74
  },
  {
   "cell_type": "code",
   "outputs": [
    {
     "name": "stdout",
     "output_type": "stream",
     "text": [
      "0      11\n",
      "1    22.0\n",
      "2      12\n",
      "dtype: object\n"
     ]
    }
   ],
   "source": [
    "ss2 = pd.Series([11,22.,'12'])\n",
    "print(ss2)\n",
    "# 타입이 다를 경우 가장 손실이 작은 형으로 변환됨"
   ],
   "metadata": {
    "collapsed": false,
    "ExecuteTime": {
     "end_time": "2024-01-11T02:05:50.044406400Z",
     "start_time": "2024-01-11T02:05:50.035088800Z"
    }
   },
   "id": "3c1fbd592df9c7e5",
   "execution_count": 93
  },
  {
   "cell_type": "markdown",
   "source": [
    "### 시리즈 객체의 인덱스 변경"
   ],
   "metadata": {
    "collapsed": false
   },
   "id": "ba4409b0ecc1c1fa"
  },
  {
   "cell_type": "code",
   "outputs": [
    {
     "ename": "TypeError",
     "evalue": "'Index' object is not callable",
     "output_type": "error",
     "traceback": [
      "\u001B[1;31m---------------------------------------------------------------------------\u001B[0m",
      "\u001B[1;31mTypeError\u001B[0m                                 Traceback (most recent call last)",
      "Cell \u001B[1;32mIn[97], line 2\u001B[0m\n\u001B[0;32m      1\u001B[0m ss1\u001B[38;5;241m.\u001B[39mindex \u001B[38;5;241m=\u001B[39m \u001B[38;5;124m'\u001B[39m\u001B[38;5;124m가\u001B[39m\u001B[38;5;124m'\u001B[39m,\u001B[38;5;124m'\u001B[39m\u001B[38;5;124m나\u001B[39m\u001B[38;5;124m'\u001B[39m,\u001B[38;5;124m'\u001B[39m\u001B[38;5;124m다\u001B[39m\u001B[38;5;124m'\u001B[39m\n\u001B[1;32m----> 2\u001B[0m \u001B[43mss1\u001B[49m\u001B[38;5;241;43m.\u001B[39;49m\u001B[43mindex\u001B[49m\u001B[43m(\u001B[49m\u001B[43m[\u001B[49m\u001B[38;5;124;43m'\u001B[39;49m\u001B[38;5;124;43m라\u001B[39;49m\u001B[38;5;124;43m'\u001B[39;49m\u001B[43m,\u001B[49m\u001B[38;5;124;43m'\u001B[39;49m\u001B[38;5;124;43m마\u001B[39;49m\u001B[38;5;124;43m'\u001B[39;49m\u001B[43m,\u001B[49m\u001B[38;5;124;43m'\u001B[39;49m\u001B[38;5;124;43m바\u001B[39;49m\u001B[38;5;124;43m'\u001B[39;49m\u001B[43m]\u001B[49m\u001B[43m)\u001B[49m\n",
      "\u001B[1;31mTypeError\u001B[0m: 'Index' object is not callable"
     ]
    }
   ],
   "source": [
    "ss1.index = '가','나','다'"
   ],
   "metadata": {
    "collapsed": false,
    "ExecuteTime": {
     "end_time": "2024-01-11T02:07:50.878999200Z",
     "start_time": "2024-01-11T02:07:50.858217300Z"
    }
   },
   "id": "a1c14543542b0e8c",
   "execution_count": 97
  },
  {
   "cell_type": "code",
   "outputs": [
    {
     "name": "stdout",
     "output_type": "stream",
     "text": [
      "가    11.0\n",
      "나    22.0\n",
      "다    33.0\n",
      "dtype: float64\n"
     ]
    }
   ],
   "source": [
    "print(ss1)"
   ],
   "metadata": {
    "collapsed": false,
    "ExecuteTime": {
     "end_time": "2024-01-11T02:07:21.421930400Z",
     "start_time": "2024-01-11T02:07:21.400484600Z"
    }
   },
   "id": "1ba80182dc2ec871",
   "execution_count": 96
  },
  {
   "cell_type": "code",
   "outputs": [
    {
     "name": "stdout",
     "output_type": "stream",
     "text": [
      "가    11.0\n",
      "나    22.0\n",
      "다    33.0\n",
      "dtype: float64\n"
     ]
    }
   ],
   "source": [
    "# ss1.values = 1,2,3\n",
    "# 모든 속성에서 위와 같이 사용 가능한 것은 아님\n",
    "\n",
    "print(ss1)"
   ],
   "metadata": {
    "collapsed": false,
    "ExecuteTime": {
     "end_time": "2024-01-11T02:10:02.637294800Z",
     "start_time": "2024-01-11T02:10:02.624356400Z"
    }
   },
   "id": "8fe3b3e046532dbe",
   "execution_count": 100
  },
  {
   "cell_type": "markdown",
   "source": [
    "- 시리즈 객체의 요소 데이터/값 읽기\n",
    "    * 읽기 : 객체변수명[인덱스]\n",
    "    * 쓰기 : 객체변수명[인덱스] = '새로운 값'\n"
   ],
   "metadata": {
    "collapsed": false
   },
   "id": "5ac03c2122f92d69"
  },
  {
   "cell_type": "code",
   "outputs": [
    {
     "name": "stdout",
     "output_type": "stream",
     "text": [
      "가     7.0\n",
      "나    18.0\n",
      "다    30.0\n",
      "A    57.0\n",
      "dtype: float64\n"
     ]
    }
   ],
   "source": [
    "# 이렇게 새로운 데이터가 추가되는 것을 확인해볼 수 있음\n",
    "import random\n",
    "ss1['A'] = 110\n",
    "for x in ss1.index:\n",
    "    ss1[x] = random.randint(1,100)\n",
    "print(ss1)"
   ],
   "metadata": {
    "collapsed": false,
    "ExecuteTime": {
     "end_time": "2024-01-11T02:15:23.267184Z",
     "start_time": "2024-01-11T02:15:23.244197100Z"
    }
   },
   "id": "ec48f7b659ce5c7",
   "execution_count": 105
  },
  {
   "cell_type": "code",
   "outputs": [
    {
     "data": {
      "text/plain": "Index(['가', '나', '다', 'A'], dtype='object')"
     },
     "execution_count": 107,
     "metadata": {},
     "output_type": "execute_result"
    }
   ],
   "source": [
    "ss1.index"
   ],
   "metadata": {
    "collapsed": false,
    "ExecuteTime": {
     "end_time": "2024-01-11T02:15:47.283654800Z",
     "start_time": "2024-01-11T02:15:47.268058500Z"
    }
   },
   "id": "50ced3ac66884359",
   "execution_count": 107
  },
  {
   "cell_type": "code",
   "outputs": [
    {
     "data": {
      "text/plain": "7.0"
     },
     "execution_count": 110,
     "metadata": {},
     "output_type": "execute_result"
    }
   ],
   "source": [
    "# ss1[0]\n",
    "# 가능하나 권장되지 않는 방법\n",
    "ss1.iloc[0]\n",
    "# 위 방법으로 접근하는 것을 권장함\n"
   ],
   "metadata": {
    "collapsed": false,
    "ExecuteTime": {
     "end_time": "2024-01-11T02:17:21.503981900Z",
     "start_time": "2024-01-11T02:17:21.483051300Z"
    }
   },
   "id": "f20d5f35c0fdf345",
   "execution_count": 110
  },
  {
   "cell_type": "code",
   "outputs": [
    {
     "data": {
      "text/plain": "7.0"
     },
     "execution_count": 112,
     "metadata": {},
     "output_type": "execute_result"
    }
   ],
   "source": [
    "# 아니면 다음과 같이 직접 인덱스로 접근가능함\n",
    "ss1['가']"
   ],
   "metadata": {
    "collapsed": false,
    "ExecuteTime": {
     "end_time": "2024-01-11T02:18:15.653737600Z",
     "start_time": "2024-01-11T02:18:15.636748400Z"
    }
   },
   "id": "1da5efea862d44a2",
   "execution_count": 112
  },
  {
   "cell_type": "code",
   "outputs": [],
   "source": [
    "ss1.index = [11,22,33,44]"
   ],
   "metadata": {
    "collapsed": false,
    "ExecuteTime": {
     "end_time": "2024-01-11T02:18:50.531319200Z",
     "start_time": "2024-01-11T02:18:50.521896300Z"
    }
   },
   "id": "84d3c6c69aa1b05",
   "execution_count": 113
  },
  {
   "cell_type": "code",
   "outputs": [
    {
     "data": {
      "text/plain": "11     7.0\n22    18.0\n33    30.0\n44    57.0\ndtype: float64"
     },
     "execution_count": 114,
     "metadata": {},
     "output_type": "execute_result"
    }
   ],
   "source": [
    "ss1"
   ],
   "metadata": {
    "collapsed": false,
    "ExecuteTime": {
     "end_time": "2024-01-11T02:18:52.358172300Z",
     "start_time": "2024-01-11T02:18:52.336910500Z"
    }
   },
   "id": "3dca516f1e3786be",
   "execution_count": 114
  },
  {
   "cell_type": "code",
   "outputs": [
    {
     "data": {
      "text/plain": "7.0"
     },
     "execution_count": 116,
     "metadata": {},
     "output_type": "execute_result"
    }
   ],
   "source": [
    "ss1[11]"
   ],
   "metadata": {
    "collapsed": false,
    "ExecuteTime": {
     "end_time": "2024-01-11T02:19:35.440622300Z",
     "start_time": "2024-01-11T02:19:35.416464400Z"
    }
   },
   "id": "9d9caf0a0c3e8de8",
   "execution_count": 116
  },
  {
   "cell_type": "code",
   "outputs": [
    {
     "data": {
      "text/plain": "7.0"
     },
     "execution_count": 122,
     "metadata": {},
     "output_type": "execute_result"
    }
   ],
   "source": [
    "# ss1[0]\n",
    "# 만약 인덱스가 정수형일 경우 직접 주소와 충돌이 발생\n",
    "# 판다스에서는 이 경우 항상 인덱스로 인식\n",
    "# 꼭 인덱스로 접근하고 싶다면\n",
    "ss1.iloc[0]"
   ],
   "metadata": {
    "collapsed": false,
    "ExecuteTime": {
     "end_time": "2024-01-11T02:30:09.408404800Z",
     "start_time": "2024-01-11T02:30:09.388437800Z"
    }
   },
   "id": "e588d0d031b5a294",
   "execution_count": 122
  },
  {
   "cell_type": "code",
   "outputs": [],
   "source": [
    "ss1.index = [1,2,3,4]\n"
   ],
   "metadata": {
    "collapsed": false,
    "ExecuteTime": {
     "end_time": "2024-01-11T04:15:40.852515100Z",
     "start_time": "2024-01-11T04:15:40.837930400Z"
    }
   },
   "id": "f6221044faf60d7f",
   "execution_count": 124
  },
  {
   "cell_type": "code",
   "outputs": [],
   "source": [],
   "metadata": {
    "collapsed": false
   },
   "id": "e6dc3c00a4471ce1"
  }
 ],
 "metadata": {
  "kernelspec": {
   "display_name": "Python 3 (ipykernel)",
   "language": "python",
   "name": "python3"
  },
  "language_info": {
   "codemirror_mode": {
    "name": "ipython",
    "version": 3
   },
   "file_extension": ".py",
   "mimetype": "text/x-python",
   "name": "python",
   "nbconvert_exporter": "python",
   "pygments_lexer": "ipython3",
   "version": "3.9.13"
  }
 },
 "nbformat": 4,
 "nbformat_minor": 5
}
