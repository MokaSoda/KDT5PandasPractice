{
 "cells": [
  {
   "cell_type": "markdown",
   "source": [
    "# [ DataFrame 살펴보기] \n",
    "* 데이터를 테이블 즉, 표 형태로 저장하는 자료구조\n",
    "* 구성 : 행 + 열\n",
    "* 생성 : pandas.DataFrame() 생성자 메서드"
   ],
   "metadata": {
    "collapsed": false
   },
   "id": "37f81e93f639553a"
  },
  {
   "cell_type": "markdown",
   "source": [
    "(1) 모듈로딩 ---------------------------"
   ],
   "metadata": {
    "collapsed": false
   },
   "id": "7a97ec682abe6667"
  },
  {
   "cell_type": "code",
   "execution_count": 57,
   "id": "initial_id",
   "metadata": {
    "collapsed": true,
    "ExecuteTime": {
     "end_time": "2024-01-11T07:25:24.100200Z",
     "start_time": "2024-01-11T07:25:23.973459700Z"
    }
   },
   "outputs": [],
   "source": [
    "import pandas as pd"
   ]
  },
  {
   "cell_type": "markdown",
   "source": [
    "(2) 데이터 준비 -------------"
   ],
   "metadata": {
    "collapsed": false
   },
   "id": "8b8a761b4b4a256d"
  },
  {
   "cell_type": "code",
   "outputs": [],
   "source": [
    "data = [\n",
    "    [11,22,33],\n",
    "    [44,55,66],\n",
    "    [77,88,99]\n",
    "]\n"
   ],
   "metadata": {
    "collapsed": false,
    "ExecuteTime": {
     "end_time": "2024-01-11T07:25:24.118736300Z",
     "start_time": "2024-01-11T07:25:24.103200Z"
    }
   },
   "id": "f39e38c61dea2246",
   "execution_count": 58
  },
  {
   "cell_type": "markdown",
   "source": [
    "(3) DataFrame으로 저장하기 즉, DataFrame 객체 생성 ----"
   ],
   "metadata": {
    "collapsed": false
   },
   "id": "3b7372cea16ac6ce"
  },
  {
   "cell_type": "code",
   "outputs": [
    {
     "data": {
      "text/plain": "    0   1   2\n0  11  22  33\n1  44  55  66\n2  77  88  99",
      "text/html": "<div>\n<style scoped>\n    .dataframe tbody tr th:only-of-type {\n        vertical-align: middle;\n    }\n\n    .dataframe tbody tr th {\n        vertical-align: top;\n    }\n\n    .dataframe thead th {\n        text-align: right;\n    }\n</style>\n<table border=\"1\" class=\"dataframe\">\n  <thead>\n    <tr style=\"text-align: right;\">\n      <th></th>\n      <th>0</th>\n      <th>1</th>\n      <th>2</th>\n    </tr>\n  </thead>\n  <tbody>\n    <tr>\n      <th>0</th>\n      <td>11</td>\n      <td>22</td>\n      <td>33</td>\n    </tr>\n    <tr>\n      <th>1</th>\n      <td>44</td>\n      <td>55</td>\n      <td>66</td>\n    </tr>\n    <tr>\n      <th>2</th>\n      <td>77</td>\n      <td>88</td>\n      <td>99</td>\n    </tr>\n  </tbody>\n</table>\n</div>"
     },
     "execution_count": 59,
     "metadata": {},
     "output_type": "execute_result"
    }
   ],
   "source": [
    "df1 = pd.DataFrame(data=data)\n",
    "df1"
   ],
   "metadata": {
    "collapsed": false,
    "ExecuteTime": {
     "end_time": "2024-01-11T07:25:24.163274700Z",
     "start_time": "2024-01-11T07:25:24.122735100Z"
    }
   },
   "id": "ce37247d9ac1fbc4",
   "execution_count": 59
  },
  {
   "cell_type": "markdown",
   "source": [
    "(4) DataFrame의 속성 읽기 ==> 객체변수명.속성명"
   ],
   "metadata": {
    "collapsed": false
   },
   "id": "72edd6b386bd1990"
  },
  {
   "cell_type": "code",
   "outputs": [
    {
     "data": {
      "text/plain": "RangeIndex(start=0, stop=3, step=1)"
     },
     "execution_count": 60,
     "metadata": {},
     "output_type": "execute_result"
    }
   ],
   "source": [
    "df1.index"
   ],
   "metadata": {
    "collapsed": false,
    "ExecuteTime": {
     "end_time": "2024-01-11T07:25:24.165275Z",
     "start_time": "2024-01-11T07:25:24.135253700Z"
    }
   },
   "id": "de9416c963ef22d",
   "execution_count": 60
  },
  {
   "cell_type": "code",
   "outputs": [
    {
     "data": {
      "text/plain": "RangeIndex(start=0, stop=3, step=1)"
     },
     "execution_count": 61,
     "metadata": {},
     "output_type": "execute_result"
    }
   ],
   "source": [
    "df1.columns"
   ],
   "metadata": {
    "collapsed": false,
    "ExecuteTime": {
     "end_time": "2024-01-11T07:25:24.216029600Z",
     "start_time": "2024-01-11T07:25:24.167481400Z"
    }
   },
   "id": "2ace18a34544763f",
   "execution_count": 61
  },
  {
   "cell_type": "code",
   "outputs": [
    {
     "data": {
      "text/plain": "array([[11, 22, 33],\n       [44, 55, 66],\n       [77, 88, 99]], dtype=int64)"
     },
     "execution_count": 62,
     "metadata": {},
     "output_type": "execute_result"
    }
   ],
   "source": [
    "\n",
    "df1.values"
   ],
   "metadata": {
    "collapsed": false,
    "ExecuteTime": {
     "end_time": "2024-01-11T07:25:24.305166600Z",
     "start_time": "2024-01-11T07:25:24.184120800Z"
    }
   },
   "id": "90656cb7ca233d25",
   "execution_count": 62
  },
  {
   "cell_type": "code",
   "outputs": [
    {
     "data": {
      "text/plain": "(3, 3)"
     },
     "execution_count": 63,
     "metadata": {},
     "output_type": "execute_result"
    }
   ],
   "source": [
    "# df1의 행렬 튜플 데이터\n",
    "df1.shape"
   ],
   "metadata": {
    "collapsed": false,
    "ExecuteTime": {
     "end_time": "2024-01-11T07:25:24.309837Z",
     "start_time": "2024-01-11T07:25:24.245754700Z"
    }
   },
   "id": "9849db18590441c5",
   "execution_count": 63
  },
  {
   "cell_type": "code",
   "outputs": [
    {
     "data": {
      "text/plain": "2"
     },
     "execution_count": 64,
     "metadata": {},
     "output_type": "execute_result"
    }
   ],
   "source": [
    "# 데이터프레임의 차원수\n",
    "df1.ndim"
   ],
   "metadata": {
    "collapsed": false,
    "ExecuteTime": {
     "end_time": "2024-01-11T07:25:24.359539600Z",
     "start_time": "2024-01-11T07:25:24.314037Z"
    }
   },
   "id": "3cd5013c96ff027f",
   "execution_count": 64
  },
  {
   "cell_type": "code",
   "outputs": [
    {
     "data": {
      "text/plain": "0    int64\n1    int64\n2    int64\ndtype: object"
     },
     "execution_count": 65,
     "metadata": {},
     "output_type": "execute_result"
    }
   ],
   "source": [
    "# coulmn 별 데이터 타입\n",
    "df1.dtypes"
   ],
   "metadata": {
    "collapsed": false,
    "ExecuteTime": {
     "end_time": "2024-01-11T07:25:24.412481400Z",
     "start_time": "2024-01-11T07:25:24.361625900Z"
    }
   },
   "id": "aab0658dc0404664",
   "execution_count": 65
  },
  {
   "cell_type": "markdown",
   "source": [
    "(5) 원소 읽기 -===> 행과 열 지정"
   ],
   "metadata": {
    "collapsed": false
   },
   "id": "11ea567c9f16ed2d"
  },
  {
   "cell_type": "code",
   "outputs": [
    {
     "data": {
      "text/plain": "0    11\n1    44\n2    77\nName: 0, dtype: int64"
     },
     "execution_count": 66,
     "metadata": {},
     "output_type": "execute_result"
    }
   ],
   "source": [
    "# 컬럼 즉 열 (columnn) 읽기 ==> 객체변수명[인덱스]\n",
    "df1[0]"
   ],
   "metadata": {
    "collapsed": false,
    "ExecuteTime": {
     "end_time": "2024-01-11T07:25:24.440047300Z",
     "start_time": "2024-01-11T07:25:24.400260100Z"
    }
   },
   "id": "5b8ba4528ca9f077",
   "execution_count": 66
  },
  {
   "cell_type": "code",
   "outputs": [
    {
     "data": {
      "text/plain": "0    33\n1    66\n2    99\nName: 2, dtype: int64"
     },
     "execution_count": 67,
     "metadata": {},
     "output_type": "execute_result"
    }
   ],
   "source": [
    "df1[2]"
   ],
   "metadata": {
    "collapsed": false,
    "ExecuteTime": {
     "end_time": "2024-01-11T07:25:24.498275900Z",
     "start_time": "2024-01-11T07:25:24.443036900Z"
    }
   },
   "id": "bda14335e2bdbcc2",
   "execution_count": 67
  },
  {
   "cell_type": "code",
   "outputs": [],
   "source": [
    "## 컬럼변경 ==============>\n",
    "df1.columns = ['a', 'b', 'c']"
   ],
   "metadata": {
    "collapsed": false,
    "ExecuteTime": {
     "end_time": "2024-01-11T07:25:24.500274800Z",
     "start_time": "2024-01-11T07:25:24.463456Z"
    }
   },
   "id": "89bece99aa96844e",
   "execution_count": 68
  },
  {
   "cell_type": "code",
   "outputs": [
    {
     "data": {
      "text/plain": "    a   b   c\n0  11  22  33\n1  44  55  66\n2  77  88  99",
      "text/html": "<div>\n<style scoped>\n    .dataframe tbody tr th:only-of-type {\n        vertical-align: middle;\n    }\n\n    .dataframe tbody tr th {\n        vertical-align: top;\n    }\n\n    .dataframe thead th {\n        text-align: right;\n    }\n</style>\n<table border=\"1\" class=\"dataframe\">\n  <thead>\n    <tr style=\"text-align: right;\">\n      <th></th>\n      <th>a</th>\n      <th>b</th>\n      <th>c</th>\n    </tr>\n  </thead>\n  <tbody>\n    <tr>\n      <th>0</th>\n      <td>11</td>\n      <td>22</td>\n      <td>33</td>\n    </tr>\n    <tr>\n      <th>1</th>\n      <td>44</td>\n      <td>55</td>\n      <td>66</td>\n    </tr>\n    <tr>\n      <th>2</th>\n      <td>77</td>\n      <td>88</td>\n      <td>99</td>\n    </tr>\n  </tbody>\n</table>\n</div>"
     },
     "execution_count": 69,
     "metadata": {},
     "output_type": "execute_result"
    }
   ],
   "source": [
    "df1"
   ],
   "metadata": {
    "collapsed": false,
    "ExecuteTime": {
     "end_time": "2024-01-11T07:25:24.501262700Z",
     "start_time": "2024-01-11T07:25:24.480566300Z"
    }
   },
   "id": "a333a6bcdf2281f8",
   "execution_count": 69
  },
  {
   "cell_type": "code",
   "outputs": [
    {
     "data": {
      "text/plain": "0    11\n1    44\n2    77\nName: a, dtype: int64"
     },
     "execution_count": 70,
     "metadata": {},
     "output_type": "execute_result"
    }
   ],
   "source": [
    "df1['a']"
   ],
   "metadata": {
    "collapsed": false,
    "ExecuteTime": {
     "end_time": "2024-01-11T07:25:24.545251100Z",
     "start_time": "2024-01-11T07:25:24.505335200Z"
    }
   },
   "id": "3036d7c42ebe532",
   "execution_count": 70
  },
  {
   "cell_type": "code",
   "outputs": [
    {
     "data": {
      "text/plain": "0    11\n1    44\n2    77\nName: a, dtype: int64"
     },
     "execution_count": 71,
     "metadata": {},
     "output_type": "execute_result"
    }
   ],
   "source": [
    "df1.a\n",
    "\n",
    "# 단 columns 가 정수일 경우에는 숫자 접근 불가능"
   ],
   "metadata": {
    "collapsed": false,
    "ExecuteTime": {
     "end_time": "2024-01-11T07:25:24.562490400Z",
     "start_time": "2024-01-11T07:25:24.523300800Z"
    }
   },
   "id": "656fd36cfe03ad92",
   "execution_count": 71
  },
  {
   "cell_type": "code",
   "outputs": [],
   "source": [
    "cereals = pd.read_csv('../DATA/cereals.csv')"
   ],
   "metadata": {
    "collapsed": false,
    "ExecuteTime": {
     "end_time": "2024-01-11T07:25:24.625919Z",
     "start_time": "2024-01-11T07:25:24.550336100Z"
    }
   },
   "id": "4d72160e7096196e",
   "execution_count": 72
  },
  {
   "cell_type": "code",
   "outputs": [
    {
     "data": {
      "text/plain": "Name            100% Natural Bran\nManufacturer          Quaker Oats\nType                         Cold\nCalories                      120\nFiber                         2.0\nSugars                          8\nName: 1, dtype: object"
     },
     "execution_count": 73,
     "metadata": {},
     "output_type": "execute_result"
    }
   ],
   "source": [
    "cereals.iloc[1]"
   ],
   "metadata": {
    "collapsed": false,
    "ExecuteTime": {
     "end_time": "2024-01-11T07:25:24.627267200Z",
     "start_time": "2024-01-11T07:25:24.569696600Z"
    }
   },
   "id": "a4be932bbee42a59",
   "execution_count": 73
  },
  {
   "cell_type": "markdown",
   "source": [
    "- 행(row) 읽기 ===> 방법 2가지\n",
    "    * 위치 인덱스로 읽기: 객체변수명.iloc['인덱스']\n",
    "    * 레이블 인덱스로 읽기 : 객체변수명.loc[인덱스]"
   ],
   "metadata": {
    "collapsed": false
   },
   "id": "ad8b678cf6162bb5"
  },
  {
   "cell_type": "code",
   "outputs": [],
   "source": [
    "df1.index = ['one', 'two', 'three']"
   ],
   "metadata": {
    "collapsed": false,
    "ExecuteTime": {
     "end_time": "2024-01-11T07:25:24.671136800Z",
     "start_time": "2024-01-11T07:25:24.631250800Z"
    }
   },
   "id": "eda10a9f0f6aac43",
   "execution_count": 74
  },
  {
   "cell_type": "code",
   "outputs": [
    {
     "data": {
      "text/plain": "        a   b   c\none    11  22  33\ntwo    44  55  66\nthree  77  88  99",
      "text/html": "<div>\n<style scoped>\n    .dataframe tbody tr th:only-of-type {\n        vertical-align: middle;\n    }\n\n    .dataframe tbody tr th {\n        vertical-align: top;\n    }\n\n    .dataframe thead th {\n        text-align: right;\n    }\n</style>\n<table border=\"1\" class=\"dataframe\">\n  <thead>\n    <tr style=\"text-align: right;\">\n      <th></th>\n      <th>a</th>\n      <th>b</th>\n      <th>c</th>\n    </tr>\n  </thead>\n  <tbody>\n    <tr>\n      <th>one</th>\n      <td>11</td>\n      <td>22</td>\n      <td>33</td>\n    </tr>\n    <tr>\n      <th>two</th>\n      <td>44</td>\n      <td>55</td>\n      <td>66</td>\n    </tr>\n    <tr>\n      <th>three</th>\n      <td>77</td>\n      <td>88</td>\n      <td>99</td>\n    </tr>\n  </tbody>\n</table>\n</div>"
     },
     "execution_count": 75,
     "metadata": {},
     "output_type": "execute_result"
    }
   ],
   "source": [
    "df1"
   ],
   "metadata": {
    "collapsed": false,
    "ExecuteTime": {
     "end_time": "2024-01-11T07:25:24.690319300Z",
     "start_time": "2024-01-11T07:25:24.651851700Z"
    }
   },
   "id": "57ca9936bf56e1ee",
   "execution_count": 75
  },
  {
   "cell_type": "code",
   "outputs": [
    {
     "data": {
      "text/plain": "a    11\nb    22\nc    33\nName: one, dtype: int64"
     },
     "execution_count": 76,
     "metadata": {},
     "output_type": "execute_result"
    }
   ],
   "source": [
    "df1.loc['one']"
   ],
   "metadata": {
    "collapsed": false,
    "ExecuteTime": {
     "end_time": "2024-01-11T07:25:24.710306700Z",
     "start_time": "2024-01-11T07:25:24.665963Z"
    }
   },
   "id": "3e8c79a9e7dd2326",
   "execution_count": 76
  },
  {
   "cell_type": "code",
   "outputs": [
    {
     "data": {
      "text/plain": "one      22\ntwo      55\nthree    88\nName: b, dtype: int64"
     },
     "execution_count": 77,
     "metadata": {},
     "output_type": "execute_result"
    }
   ],
   "source": [
    "df1['b']"
   ],
   "metadata": {
    "collapsed": false,
    "ExecuteTime": {
     "end_time": "2024-01-11T07:25:24.713317300Z",
     "start_time": "2024-01-11T07:25:24.680799600Z"
    }
   },
   "id": "8f53d74f6b290a1c",
   "execution_count": 77
  },
  {
   "cell_type": "code",
   "outputs": [
    {
     "data": {
      "text/plain": "a    44\nb    55\nc    66\nName: two, dtype: int64"
     },
     "execution_count": 78,
     "metadata": {},
     "output_type": "execute_result"
    }
   ],
   "source": [
    "df1.iloc[1]"
   ],
   "metadata": {
    "collapsed": false,
    "ExecuteTime": {
     "end_time": "2024-01-11T07:25:24.790479400Z",
     "start_time": "2024-01-11T07:25:24.699455200Z"
    }
   },
   "id": "9fa4c9ed2f2ad3c8",
   "execution_count": 78
  },
  {
   "cell_type": "code",
   "outputs": [
    {
     "data": {
      "text/plain": "pandas.core.series.Series"
     },
     "execution_count": 79,
     "metadata": {},
     "output_type": "execute_result"
    }
   ],
   "source": [
    "type(df1.iloc[1])"
   ],
   "metadata": {
    "collapsed": false,
    "ExecuteTime": {
     "end_time": "2024-01-11T07:25:24.794990300Z",
     "start_time": "2024-01-11T07:25:24.718815400Z"
    }
   },
   "id": "de79e861e076b7a4",
   "execution_count": 79
  },
  {
   "cell_type": "markdown",
   "source": [
    "(6) 모든 원소를 한번에 한개씩만 출력\n",
    "\n",
    "- 객체변수명.iloc[행인덱스, 열인댁스] / 객체변수명.loc[행레이블, 열레이블/열인댁스(만약 레이블이 없을 경우)]\n",
    "- iloc, loc 의 경우 1개의 변수만 입력할 경우 자동으로 행과 열 중 하나를 출력해줌\n",
    "- 다만 2개의 인덱스를 동시에 입력할 경우 반드시 행 다음 열을 입력하여야 함"
   ],
   "metadata": {
    "collapsed": false
   },
   "id": "bd0a3df55070aa82"
  },
  {
   "cell_type": "markdown",
   "source": [
    "iloc 를 이용하여 모두 출력할 경우  \n",
    "행열의 번호가 필요\n",
    ".shape\n",
    "iloc를 활용한 모든 원소 출력 ===> 행과 열의 번호\n"
   ],
   "metadata": {
    "collapsed": false
   },
   "id": "cced08af4398a1d1"
  },
  {
   "cell_type": "code",
   "outputs": [
    {
     "name": "stdout",
     "output_type": "stream",
     "text": [
      "11\n",
      "22\n",
      "33\n",
      "44\n",
      "55\n",
      "66\n",
      "77\n",
      "88\n",
      "99\n"
     ]
    }
   ],
   "source": [
    "for x in range(df1.shape[0]):\n",
    "    for y in range(df1.shape[1]):\n",
    "        print(df1.iloc[x, y])"
   ],
   "metadata": {
    "collapsed": false,
    "ExecuteTime": {
     "end_time": "2024-01-11T07:25:24.835404500Z",
     "start_time": "2024-01-11T07:25:24.800073600Z"
    }
   },
   "id": "17b3bf7f7b5eabe7",
   "execution_count": 80
  },
  {
   "cell_type": "markdown",
   "source": [
    "loc를 활용한 모든 원소 출력 ===> 행 레이블/이름과 열 레이블/이름"
   ],
   "metadata": {
    "collapsed": false
   },
   "id": "f20e88267e1eb84d"
  },
  {
   "cell_type": "code",
   "outputs": [
    {
     "name": "stdout",
     "output_type": "stream",
     "text": [
      "one\n",
      "---- 11\n",
      "---- 22\n",
      "---- 33\n",
      "two\n",
      "---- 44\n",
      "---- 55\n",
      "---- 66\n",
      "three\n",
      "---- 77\n",
      "---- 88\n",
      "---- 99\n"
     ]
    }
   ],
   "source": [
    "for x in df1.index:\n",
    "    print(x)\n",
    "    for y in df1.loc[x]:\n",
    "        print('----',y)"
   ],
   "metadata": {
    "collapsed": false,
    "ExecuteTime": {
     "end_time": "2024-01-11T07:25:24.888678400Z",
     "start_time": "2024-01-11T07:25:24.819215900Z"
    }
   },
   "id": "cf4d0a1c88e299a1",
   "execution_count": 81
  },
  {
   "cell_type": "markdown",
   "source": [
    "#### [문제] one, three 행을 선택 후 저장"
   ],
   "metadata": {
    "collapsed": false
   },
   "id": "244ad5a98ab7eea0"
  },
  {
   "cell_type": "code",
   "outputs": [],
   "source": [
    "save = df1.iloc[0:3:2]"
   ],
   "metadata": {
    "collapsed": false,
    "ExecuteTime": {
     "end_time": "2024-01-11T07:28:05.532100400Z",
     "start_time": "2024-01-11T07:28:05.515708800Z"
    }
   },
   "id": "fed9a795c3ef6cc2",
   "execution_count": 82
  },
  {
   "cell_type": "code",
   "outputs": [
    {
     "data": {
      "text/plain": "        a   b   c\none    11  22  33\nthree  77  88  99",
      "text/html": "<div>\n<style scoped>\n    .dataframe tbody tr th:only-of-type {\n        vertical-align: middle;\n    }\n\n    .dataframe tbody tr th {\n        vertical-align: top;\n    }\n\n    .dataframe thead th {\n        text-align: right;\n    }\n</style>\n<table border=\"1\" class=\"dataframe\">\n  <thead>\n    <tr style=\"text-align: right;\">\n      <th></th>\n      <th>a</th>\n      <th>b</th>\n      <th>c</th>\n    </tr>\n  </thead>\n  <tbody>\n    <tr>\n      <th>one</th>\n      <td>11</td>\n      <td>22</td>\n      <td>33</td>\n    </tr>\n    <tr>\n      <th>three</th>\n      <td>77</td>\n      <td>88</td>\n      <td>99</td>\n    </tr>\n  </tbody>\n</table>\n</div>"
     },
     "execution_count": 83,
     "metadata": {},
     "output_type": "execute_result"
    }
   ],
   "source": [
    "save"
   ],
   "metadata": {
    "collapsed": false,
    "ExecuteTime": {
     "end_time": "2024-01-11T07:28:07.497701700Z",
     "start_time": "2024-01-11T07:28:07.484600Z"
    }
   },
   "id": "9dcb0450248f72f5",
   "execution_count": 83
  },
  {
   "cell_type": "code",
   "outputs": [
    {
     "data": {
      "text/plain": "        a   b   c\none    11  22  33\nthree  77  88  99",
      "text/html": "<div>\n<style scoped>\n    .dataframe tbody tr th:only-of-type {\n        vertical-align: middle;\n    }\n\n    .dataframe tbody tr th {\n        vertical-align: top;\n    }\n\n    .dataframe thead th {\n        text-align: right;\n    }\n</style>\n<table border=\"1\" class=\"dataframe\">\n  <thead>\n    <tr style=\"text-align: right;\">\n      <th></th>\n      <th>a</th>\n      <th>b</th>\n      <th>c</th>\n    </tr>\n  </thead>\n  <tbody>\n    <tr>\n      <th>one</th>\n      <td>11</td>\n      <td>22</td>\n      <td>33</td>\n    </tr>\n    <tr>\n      <th>three</th>\n      <td>77</td>\n      <td>88</td>\n      <td>99</td>\n    </tr>\n  </tbody>\n</table>\n</div>"
     },
     "execution_count": 84,
     "metadata": {},
     "output_type": "execute_result"
    }
   ],
   "source": [
    "df1.loc[['one','three']]"
   ],
   "metadata": {
    "collapsed": false,
    "ExecuteTime": {
     "end_time": "2024-01-11T07:33:57.709177300Z",
     "start_time": "2024-01-11T07:33:57.695622300Z"
    }
   },
   "id": "65e74834c3447265",
   "execution_count": 84
  },
  {
   "cell_type": "code",
   "outputs": [
    {
     "data": {
      "text/plain": "False"
     },
     "execution_count": 85,
     "metadata": {},
     "output_type": "execute_result"
    }
   ],
   "source": [],
   "metadata": {
    "collapsed": false,
    "ExecuteTime": {
     "end_time": "2024-01-11T07:36:23.360488Z",
     "start_time": "2024-01-11T07:36:23.336301500Z"
    }
   },
   "id": "a108cd64818de604",
   "execution_count": 85
  },
  {
   "cell_type": "code",
   "outputs": [],
   "source": [],
   "metadata": {
    "collapsed": false,
    "ExecuteTime": {
     "end_time": "2024-01-11T07:25:24.996222100Z",
     "start_time": "2024-01-11T07:25:24.980114Z"
    }
   },
   "id": "fded719965a02851",
   "execution_count": 81
  },
  {
   "cell_type": "code",
   "outputs": [],
   "source": [],
   "metadata": {
    "collapsed": false,
    "ExecuteTime": {
     "end_time": "2024-01-11T07:25:25.025250300Z",
     "start_time": "2024-01-11T07:25:24.998237900Z"
    }
   },
   "id": "cb11209e02d4cf70",
   "execution_count": 81
  },
  {
   "cell_type": "code",
   "outputs": [],
   "source": [],
   "metadata": {
    "collapsed": false,
    "ExecuteTime": {
     "end_time": "2024-01-11T07:25:25.045323700Z",
     "start_time": "2024-01-11T07:25:25.022734800Z"
    }
   },
   "id": "f5f9dc139d76a5a7",
   "execution_count": 81
  }
 ],
 "metadata": {
  "kernelspec": {
   "display_name": "Python 3",
   "language": "python",
   "name": "python3"
  },
  "language_info": {
   "codemirror_mode": {
    "name": "ipython",
    "version": 2
   },
   "file_extension": ".py",
   "mimetype": "text/x-python",
   "name": "python",
   "nbconvert_exporter": "python",
   "pygments_lexer": "ipython2",
   "version": "2.7.6"
  }
 },
 "nbformat": 4,
 "nbformat_minor": 5
}
