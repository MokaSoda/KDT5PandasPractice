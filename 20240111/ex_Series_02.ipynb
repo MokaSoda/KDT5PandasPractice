{
 "cells": [
  {
   "cell_type": "markdown",
   "source": [
    "## [다양한 Series 객체 생성 ]\n",
    "\n",
    "(1) 모듈 로딩\n"
   ],
   "metadata": {
    "collapsed": false
   },
   "id": "fd3873544b5717b9"
  },
  {
   "cell_type": "code",
   "outputs": [],
   "source": [
    "import pandas as pd\n"
   ],
   "metadata": {
    "collapsed": false,
    "ExecuteTime": {
     "end_time": "2024-01-11T04:37:36.122152300Z",
     "start_time": "2024-01-11T04:37:35.505491900Z"
    }
   },
   "id": "8d39fa9de8a0b9c3",
   "execution_count": 2
  },
  {
   "cell_type": "markdown",
   "source": [
    "#### (2) Series 객체 생성 - 방법 1\n",
    "\n",
    "- Series(데이터, 인덱스)"
   ],
   "metadata": {
    "collapsed": false
   },
   "id": "685e8198a469e4d5"
  },
  {
   "cell_type": "code",
   "outputs": [
    {
     "data": {
      "text/plain": "-1    1\n-2    2\n-3    3\n-4    4\n-5    5\ndtype: int64"
     },
     "execution_count": 3,
     "metadata": {},
     "output_type": "execute_result"
    }
   ],
   "source": [
    "tables = pd.Series((1,2,3,4,5),(-1,-2,-3,-4,-5))\n",
    "\n",
    "tables"
   ],
   "metadata": {
    "collapsed": false,
    "ExecuteTime": {
     "end_time": "2024-01-11T04:37:36.135527800Z",
     "start_time": "2024-01-11T04:37:36.123182Z"
    }
   },
   "id": "c12c4b0d824fc6e6",
   "execution_count": 3
  },
  {
   "cell_type": "markdown",
   "source": [
    "#### (2) Series 객체 생성 - 방법 2\n",
    "\n",
    "- Series(데이터, 인덱스, 데이터의이름지정가능)\n"
   ],
   "metadata": {
    "collapsed": false
   },
   "id": "a187c915d409a5de"
  },
  {
   "cell_type": "code",
   "outputs": [],
   "source": [
    "result_with_name = pd.Series([1,2,3,4,5],index = ['일','이','삼','사','오'],name='랜덤')"
   ],
   "metadata": {
    "collapsed": false,
    "ExecuteTime": {
     "end_time": "2024-01-11T04:37:36.167606400Z",
     "start_time": "2024-01-11T04:37:36.138603500Z"
    }
   },
   "id": "fb4bba1a390174a7",
   "execution_count": 4
  },
  {
   "cell_type": "markdown",
   "source": [
    "#### (2) Series 객체 생성 - 방법 3\n",
    "\n",
    "- Series(데이터, 인덱스, 데이터의이름지정가능, dtype='uint8')\n"
   ],
   "metadata": {
    "collapsed": false
   },
   "id": "e5da4831d2a5067d"
  },
  {
   "cell_type": "code",
   "outputs": [],
   "source": [
    "result_with_dtype = pd.Series([1,2,3,4], index=['1','2','3','4'], name='숫자', dtype='uint8')"
   ],
   "metadata": {
    "collapsed": false,
    "ExecuteTime": {
     "end_time": "2024-01-11T04:38:09.716950400Z",
     "start_time": "2024-01-11T04:38:09.707597100Z"
    }
   },
   "id": "119110f0b4a9a3b9",
   "execution_count": 7
  },
  {
   "cell_type": "markdown",
   "source": [
    "#### (2) Series 객체 생성 - 방법 4 => 저장되는 데이터가 딕셔너리일 경우\n",
    "\n",
    "- Series(데이터, 인덱스, 데이터의이름지정가능, dtype='uint8'\n",
    "- 딕셔너리의 키를 label, 딕셔너리의 values를 values로 대입됨\n"
   ],
   "metadata": {
    "collapsed": false
   },
   "id": "b59a86aa8a9bf8dc"
  },
  {
   "cell_type": "code",
   "outputs": [],
   "source": [
    "datas = {\n",
    "    'name' : '홍길동',\n",
    "    'age' : 12,\n",
    "    'job' : '무직',\n",
    "}\n",
    "\n",
    "result_by_dict = pd.Series(datas, name='내용', dtype='object')"
   ],
   "metadata": {
    "collapsed": false,
    "ExecuteTime": {
     "end_time": "2024-01-11T04:44:39.016720800Z",
     "start_time": "2024-01-11T04:44:39.008417100Z"
    }
   },
   "id": "da6b2cb80fae673a",
   "execution_count": 9
  },
  {
   "cell_type": "code",
   "outputs": [
    {
     "data": {
      "text/plain": "(Index(['name', 'age', 'job'], dtype='object'),\n array(['홍길동', 12, '무직'], dtype=object))"
     },
     "execution_count": 10,
     "metadata": {},
     "output_type": "execute_result"
    }
   ],
   "source": [
    "result_by_dict.index, result_by_dict.values"
   ],
   "metadata": {
    "collapsed": false,
    "ExecuteTime": {
     "end_time": "2024-01-11T04:46:04.415490600Z",
     "start_time": "2024-01-11T04:46:04.406614Z"
    }
   },
   "id": "7617337f9e1b822c",
   "execution_count": 10
  },
  {
   "cell_type": "code",
   "outputs": [],
   "source": [],
   "metadata": {
    "collapsed": false
   },
   "id": "b9d4f017dc921529"
  },
  {
   "cell_type": "markdown",
   "source": [
    "#### (2) Series 객체 생성 - 방법 5 => 저장되는 데이터가 세트일 경우\n",
    "\n",
    "- 세트의 경우 순서가 없으며 중복이 되지 않음\n",
    "- 따라서 세트로 Series 를 만들 수 없음\n",
    "- 다만 형변환 하면 가능\n"
   ],
   "metadata": {
    "collapsed": false
   },
   "id": "3b18c69fd3eb9b3"
  },
  {
   "cell_type": "code",
   "outputs": [],
   "source": [
    "data_set = {'alpha', 'beta', 'gamma'}\n",
    "\n",
    "# 반드시 세트를 형변환 시킨 후 사용 가능\n",
    "result_by_set = pd.Series(list(data_set))"
   ],
   "metadata": {
    "collapsed": false,
    "ExecuteTime": {
     "end_time": "2024-01-11T04:54:30.674378100Z",
     "start_time": "2024-01-11T04:54:30.662406800Z"
    }
   },
   "id": "d3739ad7011a5721",
   "execution_count": 49
  },
  {
   "cell_type": "code",
   "outputs": [],
   "source": [],
   "metadata": {
    "collapsed": false,
    "ExecuteTime": {
     "end_time": "2024-01-11T04:54:23.080414400Z",
     "start_time": "2024-01-11T04:54:23.062598700Z"
    }
   },
   "id": "c699acd73de2ae33",
   "execution_count": 45
  },
  {
   "cell_type": "code",
   "outputs": [],
   "source": [],
   "metadata": {
    "collapsed": false
   },
   "id": "b87d068137092891"
  }
 ],
 "metadata": {
  "kernelspec": {
   "display_name": "Python 3",
   "language": "python",
   "name": "python3"
  },
  "language_info": {
   "codemirror_mode": {
    "name": "ipython",
    "version": 2
   },
   "file_extension": ".py",
   "mimetype": "text/x-python",
   "name": "python",
   "nbconvert_exporter": "python",
   "pygments_lexer": "ipython2",
   "version": "2.7.6"
  }
 },
 "nbformat": 4,
 "nbformat_minor": 5
}
