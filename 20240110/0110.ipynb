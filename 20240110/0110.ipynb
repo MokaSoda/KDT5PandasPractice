{
 "cells": [
  {
   "cell_type": "markdown",
   "source": [
    "# 2024 01 10 판다스 연습"
   ],
   "metadata": {
    "collapsed": false
   },
   "id": "fc76d6c724073a56"
  },
  {
   "cell_type": "markdown",
   "source": [
    "## 파일 읽기 연습\n",
    "1. 파일 열기 : open()\n",
    "2. 파일 읽기 : io객체.read()\n",
    "3. 파일 닫기 : io객체.close()\n",
    "\n"
   ],
   "metadata": {
    "collapsed": false
   },
   "id": "fd2eee0acf02d110"
  },
  {
   "cell_type": "code",
   "execution_count": 10,
   "id": "initial_id",
   "metadata": {
    "collapsed": true,
    "ExecuteTime": {
     "end_time": "2024-01-10T01:28:59.901773400Z",
     "start_time": "2024-01-10T01:28:59.891427100Z"
    }
   },
   "outputs": [
    {
     "name": "stdout",
     "output_type": "stream",
     "text": [
      "<class '_io.TextIOWrapper'>\n",
      "<_io.TextIOWrapper name='message.txt' mode='r' encoding='utf-8'>\n",
      "<class 'str'> 한글 테스트\n",
      "<class 'str'> \n",
      "<class 'str'> \n",
      "<class 'str'> 테스트\n",
      "<class 'str'> \n",
      "<class 'str'> \n",
      "<class 'str'> ㅎㅎㅎㅎㅎ\n",
      "<class 'str'> \n",
      "<class 'str'> \n",
      "<class 'str'> ajdolasoidnp"
     ]
    }
   ],
   "source": [
    "# 파일 입출력 연습 => 출력 즉, 읽기(Read)\n",
    "# - 사용 내장 함수 : open()\n",
    "#  read 시 기본적으로 전체를 읽으나 안에 숫자를 지정할 경우 해당 숫자만큼 텍스트 출력\n",
    "# 이후 다시 실행시 이전 마지막 포인터에서부터 다시 읽기 시작함\n",
    "encodingConfig = {\n",
    "    'file' : 'message.txt',\n",
    "    'mode' : 'r',\n",
    "    'encoding' : 'utf-8', #한글을 읽기 위해서 유니코드 모드로 열어야 함  \n",
    "}\n",
    "\n",
    "with open(**encodingConfig) as file:\n",
    "    print(type(file))\n",
    "    print(file)\n",
    "    # 지정된 숫자 만큼 문자단위로 읽기\n",
    "    # 읽은 후 포인터가 그대로 유지됨\n",
    "    # print(file.read(3))\n",
    "    \n",
    "    \n",
    "    # print(file.readline(지정된 숫자만큼 읽기))\n",
    "    # 해당 스크립트를 활용하여 모두 읽을 수 있음\n",
    "    # result_list = []\n",
    "    # while 1:\n",
    "    #     result = file.readline()\n",
    "    #     if not result:\n",
    "    #         break\n",
    "    #     else:\n",
    "    #         result_list.append(result.strip(\"\\n\"))\n",
    "    #         print(type(result), result, end='')\n",
    "    \n",
    "    # file.readlines()\n",
    "    # 한번에 리스트로 한줄식 저장한 것을 반환\n",
    "    result = file.readlines()"
   ]
  },
  {
   "cell_type": "markdown",
   "source": [
    "## 파일 쓰기 연습\n",
    "- 사용 내장 함수 : open(file, mode='w', encoding='utf8')\n",
    "- mode = 'w' 은 파일을 새로 만들거나 완전히 덮어쓴다"
   ],
   "metadata": {
    "collapsed": false
   },
   "id": "26b5831b7378e7ea"
  },
  {
   "cell_type": "code",
   "outputs": [],
   "source": [
    "filename = 'mydata.txt'\n",
    "existfile = 'message.txt'\n",
    "writeConfig = {\n",
    "    'mode':'w',\n",
    "    'encoding':'utf-8'\n",
    "}\n",
    "\n",
    "\n",
    "# (1) open => 쓰기\n",
    "file = open(filename, **writeConfig)\n",
    "\n",
    "# (2) write\n",
    "file.write(\"ATEST\")\n",
    "file.write(\"\\nBTest\")\n",
    "file.write('''\n",
    "멀티라인 테스트\n",
    "이렇게 엔터가\n",
    "그대로 들어감''')\n",
    "\n",
    "file.writelines([x + \"\\n\" for x in ['a','bb','리스트에서 쓴다고 해도', '줄바꿈이 자동으로 안됨' , '수동으로 추가']])\n",
    "\n",
    "\n",
    "# (3) close\n",
    "file.close()\n"
   ],
   "metadata": {
    "collapsed": false,
    "ExecuteTime": {
     "end_time": "2024-01-10T02:12:27.443180800Z",
     "start_time": "2024-01-10T02:12:27.424520Z"
    }
   },
   "id": "5fd6ca682fe37231",
   "execution_count": 64
  },
  {
   "cell_type": "markdown",
   "source": [],
   "metadata": {
    "collapsed": false
   },
   "id": "1e0e110bdf8a404c"
  },
  {
   "cell_type": "markdown",
   "source": [
    "## 파일 입출력 정리\n",
    "- 자동 내장 함수(기본값) : open(file, mode='rt', encoding='시스템기본값')\n",
    "- encoding 설정 : 파일에 적용된 인코딩으로 따로 설정\n"
   ],
   "metadata": {
    "collapsed": false
   },
   "id": "a64313ce1497eaa1"
  },
  {
   "cell_type": "markdown",
   "source": [
    "## 파일에 삭제없이 추가하기\n",
    "- open(file, mode='a')"
   ],
   "metadata": {
    "collapsed": false
   },
   "id": "b1952f5bc3d7a3d"
  },
  {
   "cell_type": "code",
   "outputs": [],
   "source": [
    "with open('append.txt', mode='a', encoding='utf-8') as fileappend:\n",
    "    fileappend.write(\"TESt\\n\")\n"
   ],
   "metadata": {
    "collapsed": false,
    "ExecuteTime": {
     "end_time": "2024-01-10T01:48:01.980587300Z",
     "start_time": "2024-01-10T01:48:01.965704900Z"
    }
   },
   "id": "26caf9611d23271",
   "execution_count": 39
  },
  {
   "cell_type": "markdown",
   "source": [
    "## 파일을 close 없이 닫기 (with)\n",
    "- 입출력 코드 작성 시 권장하는 문법\n",
    "- open() / close() 함께 동작하는 경우의 IO에 권장\n",
    "- ex) 파일 입출력, 데이터베이스 등\n",
    "- 문법 with open() as tt :\n",
    "- close 를 알아서 처리해줌\n"
   ],
   "metadata": {
    "collapsed": false
   },
   "id": "6d3396fa1748faef"
  },
  {
   "cell_type": "code",
   "outputs": [
    {
     "name": "stdout",
     "output_type": "stream",
     "text": [
      "사과\n"
     ]
    }
   ],
   "source": [
    "filename = 'withopen.txt'\n",
    "withOpenWriteDict = {\n",
    "    'mode' : 'w',\n",
    "    'encoding' : 'utf-8',\n",
    "}\n",
    "\n",
    "withOpenReadDict = {\n",
    "    'mode' : 'r',\n",
    "    'encoding' : 'utf-8',\n",
    "}\n",
    "\n",
    "with open(filename, **withOpenWriteDict) as file:\n",
    "    file.write(\"사과\\n\")    \n",
    "# 자동으로 닫혀짐\n",
    "\n",
    "\n",
    "with open(filename, **withOpenReadDict) as file:\n",
    "    print(file.read())\n",
    "# 자동으로 닫혀짐\n"
   ],
   "metadata": {
    "collapsed": false,
    "ExecuteTime": {
     "end_time": "2024-01-10T01:53:16.466801900Z",
     "start_time": "2024-01-10T01:53:16.456399100Z"
    }
   },
   "id": "e2c436711fc825ed",
   "execution_count": 42
  },
  {
   "cell_type": "code",
   "outputs": [],
   "source": [
    "# 파일을 하나 선택 후 복사본 생성 파일\n",
    "# message.txt >> message_copy.txt\n",
    "# 원본 파일에 내용 읽은 후 새 파일 바로 저장\n",
    "\n",
    "filename = 'message.txt'\n",
    "with open(filename, 'rb') as src:\n",
    "    with open(f\"_copy.\".join(filename.split('.')), 'wb') as target:\n",
    "        target.write(src.read())\n",
    "\n",
    "\n"
   ],
   "metadata": {
    "collapsed": false,
    "ExecuteTime": {
     "end_time": "2024-01-10T02:11:59.592814Z",
     "start_time": "2024-01-10T02:11:59.578198Z"
    }
   },
   "id": "6a1e30da648e4aee",
   "execution_count": 62
  },
  {
   "cell_type": "markdown",
   "source": [
    "## 파일 데이터 접근 관련 메서드들\n",
    "\n"
   ],
   "metadata": {
    "collapsed": false
   },
   "id": "f6698abc179af348"
  },
  {
   "cell_type": "code",
   "outputs": [
    {
     "name": "stdout",
     "output_type": "stream",
     "text": [
      "asds\n",
      "a남남나\n",
      "\n",
      "현제 위치 : 23\n",
      "asdokasds\n",
      "a남남나\n",
      "\n",
      "True message.txt\n"
     ]
    }
   ],
   "source": [
    "filename = 'message.txt'\n",
    "\n",
    "with open(filename, mode='r', encoding='utf-8') as f:\n",
    "    f.seek(5)\n",
    "    print(f.read(10))\n",
    "    print(f\"현제 위치 : {f.tell()}\")\n",
    "    \n",
    "    f.seek(0)\n",
    "    print(f.read())\n",
    "# del f\n",
    "print(f.closed, f.name)\n"
   ],
   "metadata": {
    "collapsed": false,
    "ExecuteTime": {
     "end_time": "2024-01-10T02:15:21.229650900Z",
     "start_time": "2024-01-10T02:15:21.211670400Z"
    }
   },
   "id": "690cb3f150c045ed",
   "execution_count": 71
  },
  {
   "cell_type": "code",
   "outputs": [],
   "source": [],
   "metadata": {
    "collapsed": false
   },
   "id": "e98daad7a8e01a7f"
  }
 ],
 "metadata": {
  "kernelspec": {
   "display_name": "Python 3",
   "language": "python",
   "name": "python3"
  },
  "language_info": {
   "codemirror_mode": {
    "name": "ipython",
    "version": 2
   },
   "file_extension": ".py",
   "mimetype": "text/x-python",
   "name": "python",
   "nbconvert_exporter": "python",
   "pygments_lexer": "ipython2",
   "version": "2.7.6"
  }
 },
 "nbformat": 4,
 "nbformat_minor": 5
}
