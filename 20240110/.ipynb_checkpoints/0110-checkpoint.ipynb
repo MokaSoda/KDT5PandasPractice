{
 "cells": [
  {
   "cell_type": "markdown",
   "source": [
    "# 2024 01 10 판다스 연습"
   ],
   "metadata": {
    "collapsed": false
   },
   "id": "fc76d6c724073a56"
  },
  {
   "cell_type": "markdown",
   "source": [
    "## 파일 읽기 연습\n",
    "1. 파일 열기 : open()\n",
    "2. 파일 읽기 : io객체.read()\n",
    "3. 파일 닫기 : io객체.close()\n",
    "\n"
   ],
   "metadata": {
    "collapsed": false
   },
   "id": "fd2eee0acf02d110"
  },
  {
   "cell_type": "code",
   "execution_count": null,
   "id": "initial_id",
   "metadata": {
    "collapsed": true,
    "is_executing": true
   },
   "outputs": [],
   "source": [
    "# 파일 입출력 연습 => 출력 즉, 읽기(Read)\n",
    "# - 사용 내장 함수 : open()\n",
    "#  read 시 기본적으로 전체를 읽으나 안에 숫자를 지정할 경우 해당 숫자만큼 텍스트 출력\n",
    "# 이후 다시 실행시 이전 마지막 포인터에서부터 다시 읽기 시작함\n",
    "encodingConfig = {\n",
    "    'file' : 'message.txt',\n",
    "    'mode' : 'r',\n",
    "    'encoding' : 'utf-8', #한글을 읽기 위해서 유니코드 모드로 열어야 함  \n",
    "}\n",
    "\n",
    "with open(**encodingConfig) as file:\n",
    "    print(type(file))\n",
    "    print(file)\n",
    "    # 지정된 숫자 만큼 문자단위로 읽기\n",
    "    # 읽은 후 포인터가 그대로 유지됨\n",
    "    # print(file.read(3))\n",
    "    \n",
    "    \n",
    "    # print(file.readline(지정된 숫자만큼 읽기))\n",
    "    # 해당 스크립트를 활용하여 모두 읽을 수 있음\n",
    "    # result_list = []\n",
    "    # while 1:\n",
    "    #     result = file.readline()\n",
    "    #     if not result:\n",
    "    #         break\n",
    "    #     else:\n",
    "    #         result_list.append(result.strip(\"\\n\"))\n",
    "    #         print(type(result), result, end='')\n",
    "    \n",
    "    # file.readlines()\n",
    "    # 한번에 리스트로 한줄식 저장한 것을 반환\n",
    "    result = file.readlines()"
   ]
  },
  {
   "cell_type": "markdown",
   "source": [
    "## 파일 쓰기 연습\n",
    "- 사용 내장 함수 : open(file, mode='w', encoding='utf8')\n",
    "- mode = 'w' 은 파일을 새로 만들거나 완전히 덮어쓴다"
   ],
   "metadata": {
    "collapsed": false
   },
   "id": "26b5831b7378e7ea"
  },
  {
   "cell_type": "code",
   "outputs": [],
   "source": [
    "filename = 'mydata.txt'\n",
    "existfile = 'message.txt'\n",
    "writeConfig = {\n",
    "    'mode':'w',\n",
    "    'encoding':'utf-8'\n",
    "}\n",
    "\n",
    "\n",
    "# (1) open => 쓰기\n",
    "file = open(filename, **writeConfig)\n",
    "\n",
    "# (2) write\n",
    "file.write(\"ATEST\")\n",
    "file.write(\"\\nBTest\")\n",
    "file.write('''\n",
    "멀티라인 테스트\n",
    "이렇게 엔터가\n",
    "그대로 들어감''')\n",
    "\n",
    "file.writelines([x + \"\\n\" for x in ['a','bb','리스트에서 쓴다고 해도', '줄바꿈이 자동으로 안됨' , '수동으로 추가']])\n",
    "\n",
    "\n",
    "# (3) close\n",
    "file.close()\n"
   ],
   "metadata": {
    "collapsed": false,
    "ExecuteTime": {
     "end_time": "2024-01-10T02:12:27.443180800Z",
     "start_time": "2024-01-10T02:12:27.424520Z"
    }
   },
   "id": "5fd6ca682fe37231",
   "execution_count": 64
  },
  {
   "cell_type": "markdown",
   "source": [],
   "metadata": {
    "collapsed": false
   },
   "id": "1e0e110bdf8a404c"
  },
  {
   "cell_type": "markdown",
   "source": [
    "## 파일 입출력 정리\n",
    "- 자동 내장 함수(기본값) : open(file, mode='rt', encoding='시스템기본값')\n",
    "- encoding 설정 : 파일에 적용된 인코딩으로 따로 설정\n"
   ],
   "metadata": {
    "collapsed": false
   },
   "id": "a64313ce1497eaa1"
  },
  {
   "cell_type": "markdown",
   "source": [
    "## 파일에 삭제없이 추가하기\n",
    "- open(file, mode='a')"
   ],
   "metadata": {
    "collapsed": false
   },
   "id": "b1952f5bc3d7a3d"
  },
  {
   "cell_type": "code",
   "outputs": [],
   "source": [
    "with open('append.txt', mode='a', encoding='utf-8') as fileappend:\n",
    "    fileappend.write(\"TESt\\n\")\n"
   ],
   "metadata": {
    "collapsed": false,
    "ExecuteTime": {
     "end_time": "2024-01-10T01:48:01.980587300Z",
     "start_time": "2024-01-10T01:48:01.965704900Z"
    }
   },
   "id": "26caf9611d23271",
   "execution_count": 39
  },
  {
   "cell_type": "markdown",
   "source": [
    "## 파일을 close 없이 닫기 (with)\n",
    "- 입출력 코드 작성 시 권장하는 문법\n",
    "- open() / close() 함께 동작하는 경우의 IO에 권장\n",
    "- ex) 파일 입출력, 데이터베이스 등\n",
    "- 문법 with open() as tt :\n",
    "- close 를 알아서 처리해줌\n"
   ],
   "metadata": {
    "collapsed": false
   },
   "id": "6d3396fa1748faef"
  },
  {
   "cell_type": "code",
   "outputs": [
    {
     "name": "stdout",
     "output_type": "stream",
     "text": [
      "사과\n"
     ]
    }
   ],
   "source": [
    "filename = 'withopen.txt'\n",
    "withOpenWriteDict = {\n",
    "    'mode' : 'w',\n",
    "    'encoding' : 'utf-8',\n",
    "}\n",
    "\n",
    "withOpenReadDict = {\n",
    "    'mode' : 'r',\n",
    "    'encoding' : 'utf-8',\n",
    "}\n",
    "\n",
    "with open(filename, **withOpenWriteDict) as file:\n",
    "    file.write(\"사과\\n\")    \n",
    "# 자동으로 닫혀짐\n",
    "\n",
    "\n",
    "with open(filename, **withOpenReadDict) as file:\n",
    "    print(file.read())\n",
    "# 자동으로 닫혀짐\n"
   ],
   "metadata": {
    "collapsed": false,
    "ExecuteTime": {
     "end_time": "2024-01-10T01:53:16.466801900Z",
     "start_time": "2024-01-10T01:53:16.456399100Z"
    }
   },
   "id": "e2c436711fc825ed",
   "execution_count": 42
  },
  {
   "cell_type": "code",
   "outputs": [],
   "source": [
    "# 파일을 하나 선택 후 복사본 생성 파일\n",
    "# message.txt >> message_copy.txt\n",
    "# 원본 파일에 내용 읽은 후 새 파일 바로 저장\n",
    "\n",
    "filename = 'message.txt'\n",
    "with open(filename, 'rb') as src:\n",
    "    with open(f\"_copy.\".join(filename.split('.')), 'wb') as target:\n",
    "        target.write(src.read())\n",
    "\n",
    "\n"
   ],
   "metadata": {
    "collapsed": false,
    "ExecuteTime": {
     "end_time": "2024-01-10T02:11:59.592814Z",
     "start_time": "2024-01-10T02:11:59.578198Z"
    }
   },
   "id": "6a1e30da648e4aee",
   "execution_count": 62
  },
  {
   "cell_type": "markdown",
   "source": [
    "## 파일 데이터 접근 관련 메서드들\n",
    "\n"
   ],
   "metadata": {
    "collapsed": false
   },
   "id": "f6698abc179af348"
  },
  {
   "cell_type": "code",
   "outputs": [
    {
     "name": "stdout",
     "output_type": "stream",
     "text": [
      "asds\n",
      "a남남나\n",
      "\n",
      "현제 위치 : 23\n",
      "asdokasds\n",
      "a남남나\n",
      "\n",
      "True message.txt\n"
     ]
    }
   ],
   "source": [
    "filename = 'message.txt'\n",
    "\n",
    "with open(filename, mode='r', encoding='utf-8') as f:\n",
    "    f.seek(5)\n",
    "    print(f.read(10))\n",
    "    print(f\"현제 위치 : {f.tell()}\")\n",
    "    \n",
    "    f.seek(0)\n",
    "    print(f.read())\n",
    "# del f\n",
    "print(f.closed, f.name)\n"
   ],
   "metadata": {
    "collapsed": false,
    "ExecuteTime": {
     "end_time": "2024-01-10T02:15:21.229650900Z",
     "start_time": "2024-01-10T02:15:21.211670400Z"
    }
   },
   "id": "690cb3f150c045ed",
   "execution_count": 71
  },
  {
   "cell_type": "markdown",
   "source": [
    "## 모듈과 패키지\n",
    "- 모듈 : 특정 기능/목정의 변수, 함수, 클래스를 저장한 하나의 파이선 파일\n",
    "- 패키지: 특정 기능/목적의 모듈을 담고 있는 단위\n",
    "- 문법 : import 모듈명 import 패키지명.모듈명\n"
   ],
   "metadata": {
    "collapsed": false
   },
   "id": "87ab070b0bfa1e3d"
  },
  {
   "cell_type": "code",
   "outputs": [
    {
     "name": "stdout",
     "output_type": "stream",
     "text": [
      "3.141592653589793 8.0\n",
      "3.141592653589793 8.0\n",
      "10!\n",
      "None\n"
     ]
    }
   ],
   "source": [
    "import math #내장 모듈, math 모듈 내 모든 변수, 함수, 클래스 다 사용\n",
    "import math as m #별명 지정\n",
    "from math import factorial as ft #모듈 내에서 특정 함수만 가져오기\n",
    "\n",
    "# 사용자 정의 함수\n",
    "# 만약 모듈의 이름과 충돌할 경우 이 함수가 우선됨,\n",
    "# import 시 주의해야할 사항임\n",
    "def ft(x):\n",
    "    print(f\"{x}!\")\n",
    "\n",
    "# 모듈 내의 요수 (변수, 함수, 클래스) 사용방법\n",
    "# 모듈명.변수\n",
    "# 모듈명.함수\n",
    "print(math.pi, math.pow(2,3))\n",
    "print(m.pi, m.pow(2,3))\n",
    "\n",
    "# 모듈 내의 함수 1개를 직접 import 한 경우 바로 사용 가능\n",
    "print(ft(10))\n",
    "\n",
    "\n"
   ],
   "metadata": {
    "collapsed": false,
    "ExecuteTime": {
     "end_time": "2024-01-10T04:20:27.084656100Z",
     "start_time": "2024-01-10T04:20:27.074076500Z"
    }
   },
   "id": "e98daad7a8e01a7f",
   "execution_count": 75
  },
  {
   "cell_type": "code",
   "outputs": [
    {
     "name": "stdout",
     "output_type": "stream",
     "text": [
      "3.141592653589793 2.718281828459045\n",
      "243.0\n"
     ]
    }
   ],
   "source": [
    "# asterik (*) 방식의 import 사용\n",
    "# 모듈내의 모든 변수, 함수, 클래스 포함\n",
    "# 모듈명 없이 사용 가능 \n",
    "from math import * \n",
    "\n",
    "print(pi, e)\n",
    "print(pow(3,5))"
   ],
   "metadata": {
    "collapsed": false,
    "ExecuteTime": {
     "end_time": "2024-01-10T04:25:25.835308500Z",
     "start_time": "2024-01-10T04:25:25.797902200Z"
    }
   },
   "id": "a691afe0f90996a2",
   "execution_count": 76
  },
  {
   "cell_type": "markdown",
   "source": [
    "## 함수\n",
    "- 외부 funcs.py second.py 참조"
   ],
   "metadata": {
    "collapsed": false
   },
   "id": "e84444e4559b2937"
  },
  {
   "cell_type": "code",
   "outputs": [
    {
     "name": "stdout",
     "output_type": "stream",
     "text": [
      "<_io.BufferedReader name=1744>\n"
     ]
    },
    {
     "ename": "TypeError",
     "evalue": "a bytes-like object is required, not '_io.BufferedReader'",
     "output_type": "error",
     "traceback": [
      "\u001B[1;31m---------------------------------------------------------------------------\u001B[0m",
      "\u001B[1;31mTypeError\u001B[0m                                 Traceback (most recent call last)",
      "Cell \u001B[1;32mIn[93], line 13\u001B[0m\n\u001B[0;32m      8\u001B[0m result_open \u001B[38;5;241m=\u001B[39m request\u001B[38;5;241m.\u001B[39murlopen(url\u001B[38;5;241m=\u001B[39m\u001B[38;5;124m\"\u001B[39m\u001B[38;5;124mhttps://myip.wtf/text\u001B[39m\u001B[38;5;124m\"\u001B[39m)\n\u001B[0;32m     10\u001B[0m result_text \u001B[38;5;241m=\u001B[39m \u001B[38;5;28mprint\u001B[39m(result_open\u001B[38;5;241m.\u001B[39mfp)\n\u001B[1;32m---> 13\u001B[0m test \u001B[38;5;241m=\u001B[39m \u001B[43mio\u001B[49m\u001B[38;5;241;43m.\u001B[39;49m\u001B[43mBytesIO\u001B[49m\u001B[43m(\u001B[49m\u001B[43mresult_open\u001B[49m\u001B[38;5;241;43m.\u001B[39;49m\u001B[43mfp\u001B[49m\u001B[43m)\u001B[49m\n\u001B[0;32m     14\u001B[0m test\u001B[38;5;241m.\u001B[39mread()\n",
      "\u001B[1;31mTypeError\u001B[0m: a bytes-like object is required, not '_io.BufferedReader'"
     ]
    }
   ],
   "source": [
    "# import urllib\n",
    "# urllib 는 패키지명이므로 이 내부의 모듈을 import 해야함\n",
    "# 패키지명.모듈명\n",
    "\n",
    "import urllib.request as request\n",
    "import io\n",
    "\n",
    "result_open = request.urlopen(url=\"https://myip.wtf/text\")\n",
    "\n",
    "result_text = print(result_open.fp)\n",
    "\n",
    "\n",
    "test = io.BytesIO(result_open.fp)\n",
    "print()"
   ],
   "metadata": {
    "collapsed": false,
    "ExecuteTime": {
     "end_time": "2024-01-10T05:13:33.753519Z",
     "start_time": "2024-01-10T05:13:32.304359200Z"
    }
   },
   "id": "11aa6c9221f8a3ff",
   "execution_count": 93
  },
  {
   "cell_type": "markdown",
   "source": [
    "## 입력받은 내용을 파일에 저장하는 프로그램\n",
    "- 조건 : 'x', 'X' 입력 시 입력 받기 중단\n"
   ],
   "metadata": {
    "collapsed": false
   },
   "id": "9f2f1ea316b1ec02"
  },
  {
   "cell_type": "code",
   "outputs": [
    {
     "name": "stdout",
     "output_type": "stream",
     "text": [
      "2024-01-10 14:40:30.508792\n",
      "Wed Jan 10 14:40:30 2024\n"
     ]
    }
   ],
   "source": [
    "import time\n",
    "from datetime import datetime as dt\n",
    "\n",
    "print(dt.now())\n",
    "\n",
    "print(time.ctime(time.time()))"
   ],
   "metadata": {
    "collapsed": false,
    "ExecuteTime": {
     "end_time": "2024-01-10T05:40:30.523906500Z",
     "start_time": "2024-01-10T05:40:30.508792900Z"
    }
   },
   "id": "c5f8bff25b7724bd",
   "execution_count": 115
  },
  {
   "cell_type": "code",
   "outputs": [],
   "source": [
    "from datetime import datetime as dt\n",
    "import time\n",
    "\n",
    "with open(\"입력받은거저장.txt\", mode='a', encoding='utf-8') as f:\n",
    "    while 1:\n",
    "        user = input(\"메시지 입력, 종료시 x or X 입력 : \")    \n",
    "        time.sleep(1)\n",
    "        # 종료 검사\n",
    "        if user.lower() == 'x':\n",
    "            input(\"종료합니다. 엔터를 눌러 끄세요\")\n",
    "            f.write(\"종료 시간 = {}\".format(dt.now().strftime(\"%Y-%m-%d %H:%M:%S\")))\n",
    "            break\n",
    "        else:\n",
    "            f.write(dt.now().strftime(\"%Y-%m-%d %H:%M:%S\") + \" : \")\n",
    "            f.write(user + \"\\n\")\n",
    "\n",
    "    "
   ],
   "metadata": {
    "collapsed": false,
    "ExecuteTime": {
     "end_time": "2024-01-10T05:44:19.929908100Z",
     "start_time": "2024-01-10T05:44:04.648372900Z"
    }
   },
   "id": "68d2721084534e97",
   "execution_count": 118
  },
  {
   "cell_type": "code",
   "outputs": [],
   "source": [
    "from datetime import date\n",
    "from datetime import datetime\n",
    "today = date.today()\n",
    "print(today.year, today.month, today.day)\n",
    "print()\n"
   ],
   "metadata": {
    "collapsed": false
   },
   "id": "6a43f09d53af38f3"
  },
  {
   "cell_type": "markdown",
   "source": [
    "## 클래스 진입"
   ],
   "metadata": {
    "collapsed": false
   },
   "id": "b3d14e30d39a9140"
  },
  {
   "cell_type": "code",
   "outputs": [
    {
     "name": "stdout",
     "output_type": "stream",
     "text": [
      "init Car\n",
      "111가 1111차량 주행중\n",
      "111가 1111차량 좌회전\n",
      "111가 1111차량 우회전\n",
      "111가 1111차량 정지\n"
     ]
    }
   ],
   "source": [
    "# 자동차 관리 프로그램\n",
    "# 자동차의 구성요소\n",
    "# 엔진, 연료, 브랜드, 색상, 연료\n",
    "# 전진, 후진, 좌회전, 우회전, 정지\n",
    "# \n",
    "# \n",
    "# engine = '휘발유 엔진'\n",
    "# foods = '휘발유'\n",
    "# maker = '현대'\n",
    "# color = '흰색'\n",
    "# number = '111가1111'\n",
    "\n",
    "# 자동차 클래스\n",
    "# -역할 : 자동차 관련 데이터와 기능을 모두 저장 관리하는 클래스\n",
    "# -문법 :\n",
    "# class 클래스명 :\n",
    "# <----> 클래스 관련 코드\n",
    "\n",
    "class Car:\n",
    "    test = 'test'\n",
    "    # 클래스 생성시 필수로 사용하는 메서드\n",
    "    # __init__ 힙 메모리에 속성들을 값을\n",
    "    # 저장해주는 역활\n",
    "    # __new__ \n",
    "    def __init__(self, engine_, foods_, maker_, color_, number_):\n",
    "        # 자동차 클래스가 가지는 속성 메모리 힙에 저장\n",
    "        print(\"init Car\")\n",
    "        self.engine = engine_\n",
    "        self.foods = foods_\n",
    "        self.maker = maker_\n",
    "        self.color = color_\n",
    "        self.number = number_\n",
    "        self.current = '초기 정지'\n",
    "    # 자동차의 기능\n",
    "\n",
    "    def go(self):\n",
    "        self.current = self.number + \"차량 \" + '주행중'\n",
    "        print(self.current)\n",
    "        print(self.test)\n",
    "\n",
    "    def stop(self):\n",
    "        self.current = self.number + \"차량 \" + '정지'\n",
    "        print(self.current)\n",
    "\n",
    "    def turnLeft(self):\n",
    "        if self.current.find(\"정지\") <0:\n",
    "            self.current = self.number + \"차량 \" + '좌회전'\n",
    "            print(self.current)\n",
    "        else:\n",
    "            print('정지중이므로 회전할 수 없습니다.')\n",
    "        \n",
    "    def turnRight(self):\n",
    "        if self.current.find(\"정지\") <0:\n",
    "            self.current = self.number + \"차량 \" + '우회전'\n",
    "            print(self.current)\n",
    "        else:\n",
    "            print('정지중이므로 회전할 수 없습니다.')\n",
    "\n",
    "\n",
    "car = Car('휘발유엔진', '현대', '휘발유', '검정색', '111가 1111')\n",
    "car.go()\n",
    "car.turnLeft()\n",
    "car.turnRight()\n",
    "car.stop()"
   ],
   "metadata": {
    "collapsed": false,
    "ExecuteTime": {
     "end_time": "2024-01-10T07:33:51.471774700Z",
     "start_time": "2024-01-10T07:33:51.450171Z"
    }
   },
   "id": "27393f99e3080b09",
   "execution_count": 131
  },
  {
   "cell_type": "code",
   "outputs": [],
   "source": [],
   "metadata": {
    "collapsed": false
   },
   "id": "350864e80e9f1f93"
  }
 ],
 "metadata": {
  "kernelspec": {
   "display_name": "Python 3",
   "language": "python",
   "name": "python3"
  },
  "language_info": {
   "codemirror_mode": {
    "name": "ipython",
    "version": 2
   },
   "file_extension": ".py",
   "mimetype": "text/x-python",
   "name": "python",
   "nbconvert_exporter": "python",
   "pygments_lexer": "ipython2",
   "version": "2.7.6"
  }
 },
 "nbformat": 4,
 "nbformat_minor": 5
}
