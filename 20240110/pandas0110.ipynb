{
 "cells": [
  {
   "cell_type": "markdown",
   "source": [
    "# Pandas\n"
   ],
   "metadata": {
    "collapsed": false
   },
   "id": "fe848f48e83186e8"
  },
  {
   "cell_type": "markdown",
   "source": [
    "## 판다스 버전 확인\n"
   ],
   "metadata": {
    "collapsed": false
   },
   "id": "1192f4a884fbe18f"
  },
  {
   "cell_type": "code",
   "outputs": [
    {
     "name": "stdout",
     "output_type": "stream",
     "text": [
      "2.1.4\n"
     ]
    }
   ],
   "source": [
    "import os\n",
    "import pandas as pd\n",
    "\n",
    "# 버전 확인 -------------\n",
    "print(pd.__version__)\n",
    "\n",
    "\n",
    "# 데이터 파일 확인\n",
    "# 경로의 상대성\n",
    "filename = '../DATA/used_cars.csv'\n",
    "\n",
    "# pd.read_csv\n",
    "result = pd.read_csv(filename)\n",
    "result.to_csv('./output.csv')\n",
    "\n",
    "\n",
    "# os.listdir('../DATA')"
   ],
   "metadata": {
    "collapsed": false,
    "ExecuteTime": {
     "end_time": "2024-01-11T00:10:49.491629300Z",
     "start_time": "2024-01-11T00:10:47.672706500Z"
    }
   },
   "id": "22ec7069dacebba7",
   "execution_count": 1
  },
  {
   "cell_type": "code",
   "outputs": [],
   "source": [],
   "metadata": {
    "collapsed": false
   },
   "id": "951363f3348ce894"
  }
 ],
 "metadata": {
  "kernelspec": {
   "display_name": "Python 3",
   "language": "python",
   "name": "python3"
  },
  "language_info": {
   "codemirror_mode": {
    "name": "ipython",
    "version": 2
   },
   "file_extension": ".py",
   "mimetype": "text/x-python",
   "name": "python",
   "nbconvert_exporter": "python",
   "pygments_lexer": "ipython2",
   "version": "2.7.6"
  }
 },
 "nbformat": 4,
 "nbformat_minor": 5
}
