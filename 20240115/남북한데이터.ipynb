{
 "cells": [
  {
   "cell_type": "code",
   "execution_count": 16,
   "id": "initial_id",
   "metadata": {
    "collapsed": true,
    "ExecuteTime": {
     "end_time": "2024-01-16T05:06:44.788487500Z",
     "start_time": "2024-01-16T05:06:44.780482900Z"
    }
   },
   "outputs": [],
   "source": [
    "import numpy as np\n",
    "import pandas as pd"
   ]
  },
  {
   "cell_type": "code",
   "outputs": [],
   "source": [
    "filename = '../DATA/남북한발전전력량.xlsx'\n",
    "test = pd.read_excel(filename, sheet_name=0, index_col=[0,1])"
   ],
   "metadata": {
    "collapsed": false,
    "ExecuteTime": {
     "end_time": "2024-01-16T05:06:44.824515100Z",
     "start_time": "2024-01-16T05:06:44.790488300Z"
    }
   },
   "id": "b82cc3bc564a7110",
   "execution_count": 17
  },
  {
   "cell_type": "code",
   "outputs": [
    {
     "name": "stdout",
     "output_type": "stream",
     "text": [
      "<class 'pandas.core.frame.DataFrame'>\n",
      "MultiIndex: 9 entries, ('남한', '합계') to ('북한', '원자력')\n",
      "Data columns (total 27 columns):\n",
      " #   Column  Non-Null Count  Dtype \n",
      "---  ------  --------------  ----- \n",
      " 0   1990    9 non-null      object\n",
      " 1   1991    9 non-null      object\n",
      " 2   1992    9 non-null      object\n",
      " 3   1993    9 non-null      object\n",
      " 4   1994    9 non-null      object\n",
      " 5   1995    9 non-null      object\n",
      " 6   1996    9 non-null      object\n",
      " 7   1997    9 non-null      object\n",
      " 8   1998    9 non-null      object\n",
      " 9   1999    9 non-null      object\n",
      " 10  2000    9 non-null      object\n",
      " 11  2001    9 non-null      object\n",
      " 12  2002    9 non-null      object\n",
      " 13  2003    9 non-null      object\n",
      " 14  2004    9 non-null      object\n",
      " 15  2005    9 non-null      object\n",
      " 16  2006    9 non-null      object\n",
      " 17  2007    9 non-null      object\n",
      " 18  2008    9 non-null      object\n",
      " 19  2009    9 non-null      object\n",
      " 20  2010    9 non-null      object\n",
      " 21  2011    9 non-null      object\n",
      " 22  2012    9 non-null      object\n",
      " 23  2013    9 non-null      object\n",
      " 24  2014    9 non-null      object\n",
      " 25  2015    9 non-null      object\n",
      " 26  2016    9 non-null      object\n",
      "dtypes: object(27)\n",
      "memory usage: 2.4+ KB\n"
     ]
    }
   ],
   "source": [
    "test.info()"
   ],
   "metadata": {
    "collapsed": false,
    "ExecuteTime": {
     "end_time": "2024-01-16T05:06:44.846220900Z",
     "start_time": "2024-01-16T05:06:44.825514400Z"
    }
   },
   "id": "ea271784957d5be5",
   "execution_count": 18
  },
  {
   "cell_type": "code",
   "outputs": [],
   "source": [
    "test = test.T\n",
    "test[('북한','신재생')] = np.NAN\n"
   ],
   "metadata": {
    "collapsed": false,
    "ExecuteTime": {
     "end_time": "2024-01-16T05:06:44.856255900Z",
     "start_time": "2024-01-16T05:06:44.836555Z"
    }
   },
   "id": "8490babe779a6064",
   "execution_count": 19
  },
  {
   "cell_type": "code",
   "outputs": [],
   "source": [],
   "metadata": {
    "collapsed": false,
    "ExecuteTime": {
     "end_time": "2024-01-16T05:06:44.867286100Z",
     "start_time": "2024-01-16T05:06:44.851253Z"
    }
   },
   "id": "b04372bad78b066c",
   "execution_count": 19
  },
  {
   "cell_type": "code",
   "outputs": [],
   "source": [
    "test = test.T"
   ],
   "metadata": {
    "collapsed": false,
    "ExecuteTime": {
     "end_time": "2024-01-16T05:06:44.886878900Z",
     "start_time": "2024-01-16T05:06:44.869289500Z"
    }
   },
   "id": "dcae7e1f374fd013",
   "execution_count": 20
  },
  {
   "cell_type": "code",
   "outputs": [],
   "source": [
    "# for x in test.columns:\n",
    "#     test[x] = test[x].apply(lambda x : np.nan if type(x) == str else x)\n",
    "test = test.apply(lambda x : pd.to_numeric(x, errors='coerce')).fillna(0).astype(\"float64\")\n"
   ],
   "metadata": {
    "collapsed": false,
    "ExecuteTime": {
     "end_time": "2024-01-16T05:06:44.898474Z",
     "start_time": "2024-01-16T05:06:44.887878200Z"
    }
   },
   "id": "20b3becde96aeffc",
   "execution_count": 21
  },
  {
   "cell_type": "code",
   "outputs": [
    {
     "name": "stdout",
     "output_type": "stream",
     "text": [
      "<class 'pandas.core.frame.DataFrame'>\n",
      "MultiIndex: 10 entries, ('남한', '합계') to ('북한', '신재생')\n",
      "Data columns (total 28 columns):\n",
      " #   Column  Non-Null Count  Dtype  \n",
      "---  ------  --------------  -----  \n",
      " 0   1990    10 non-null     float64\n",
      " 1   1991    10 non-null     float64\n",
      " 2   1992    10 non-null     float64\n",
      " 3   1993    10 non-null     float64\n",
      " 4   1994    10 non-null     float64\n",
      " 5   1995    10 non-null     float64\n",
      " 6   1996    10 non-null     float64\n",
      " 7   1997    10 non-null     float64\n",
      " 8   1998    10 non-null     float64\n",
      " 9   1999    10 non-null     float64\n",
      " 10  2000    10 non-null     float64\n",
      " 11  2001    10 non-null     float64\n",
      " 12  2002    10 non-null     float64\n",
      " 13  2003    10 non-null     float64\n",
      " 14  2004    10 non-null     float64\n",
      " 15  2005    10 non-null     float64\n",
      " 16  2006    10 non-null     float64\n",
      " 17  2007    10 non-null     float64\n",
      " 18  2008    10 non-null     float64\n",
      " 19  2009    10 non-null     float64\n",
      " 20  2010    10 non-null     float64\n",
      " 21  2011    10 non-null     float64\n",
      " 22  2012    10 non-null     float64\n",
      " 23  2013    10 non-null     float64\n",
      " 24  2014    10 non-null     float64\n",
      " 25  2015    10 non-null     float64\n",
      " 26  2016    10 non-null     float64\n",
      " 27  년도총합계   10 non-null     float64\n",
      "dtypes: float64(28)\n",
      "memory usage: 3.0+ KB\n"
     ]
    }
   ],
   "source": [
    "test[\"년도총합계\"] =  np.NAN\n",
    "for x in test.index:\n",
    "    test.loc[x, \"년도총합계\"] = test.loc[x].sum()\n",
    "\n",
    "test.info()"
   ],
   "metadata": {
    "collapsed": false,
    "ExecuteTime": {
     "end_time": "2024-01-16T05:06:44.922032700Z",
     "start_time": "2024-01-16T05:06:44.905000200Z"
    }
   },
   "id": "17864b4f4e8995c9",
   "execution_count": 22
  },
  {
   "cell_type": "code",
   "outputs": [
    {
     "data": {
      "text/plain": "                    1990    1991    1992    1993    1994    1995    1996  \\\n전력량 (억㎾h) 발전 전력별                                                           \n남한        합계      1077.0  1186.0  1310.0  1444.0  1650.0  1847.0  2055.0   \n          수력        64.0    51.0    49.0    60.0    41.0    55.0    52.0   \n          화력       484.0   573.0   696.0   803.0  1022.0  1122.0  1264.0   \n          원자력      529.0   563.0   565.0   581.0   587.0   670.0   739.0   \n          신재생        0.0     0.0     0.0     0.0     0.0     0.0     0.0   \n북한        합계       277.0   263.0   247.0   221.0   231.0   230.0   213.0   \n          수력       156.0   150.0   142.0   133.0   138.0   142.0   125.0   \n          화력       121.0   113.0   105.0    88.0    93.0    88.0    88.0   \n          원자력        0.0     0.0     0.0     0.0     0.0     0.0     0.0   \n          신재생        0.0     0.0     0.0     0.0     0.0     0.0     0.0   \n\n                    1997    1998    1999  ...    2008    2009    2010    2011  \\\n전력량 (억㎾h) 발전 전력별                          ...                                   \n남한        합계      2244.0  2153.0  2393.0  ...  4224.0  4336.0  4747.0  4969.0   \n          수력        54.0    61.0    61.0  ...    56.0    56.0    65.0    78.0   \n          화력      1420.0  1195.0  1302.0  ...  2658.0  2802.0  3196.0  3343.0   \n          원자력      771.0   897.0  1031.0  ...  1510.0  1478.0  1486.0  1547.0   \n          신재생        0.0     0.0     0.0  ...     0.0     0.0     0.0     0.0   \n북한        합계       193.0   170.0   186.0  ...   255.0   235.0   237.0   211.0   \n          수력       107.0   102.0   103.0  ...   141.0   125.0   134.0   132.0   \n          화력        86.0    68.0    83.0  ...   114.0   110.0   103.0    79.0   \n          원자력        0.0     0.0     0.0  ...     0.0     0.0     0.0     0.0   \n          신재생        0.0     0.0     0.0  ...     0.0     0.0     0.0     0.0   \n\n                    2012    2013    2014    2015    2016    년도총합계  \n전력량 (억㎾h) 발전 전력별                                                   \n남한        합계      5096.0  5171.0  5220.0  5281.0  5404.0  88523.0  \n          수력        77.0    84.0    78.0    58.0    66.0   1599.0  \n          화력      3430.0  3581.0  3427.0  3402.0  3523.0  55136.0  \n          원자력     1503.0  1388.0  1564.0  1648.0  1620.0  31067.0  \n          신재생       86.0   118.0   151.0   173.0   195.0    723.0  \n북한        합계       215.0   221.0   216.0   190.0   239.0   5914.0  \n          수력       135.0   139.0   130.0   100.0   128.0   3408.0  \n          화력        80.0    82.0    86.0    90.0   111.0   2506.0  \n          원자력        0.0     0.0     0.0     0.0     0.0      0.0  \n          신재생        0.0     0.0     0.0     0.0     0.0      0.0  \n\n[10 rows x 28 columns]",
      "text/html": "<div>\n<style scoped>\n    .dataframe tbody tr th:only-of-type {\n        vertical-align: middle;\n    }\n\n    .dataframe tbody tr th {\n        vertical-align: top;\n    }\n\n    .dataframe thead th {\n        text-align: right;\n    }\n</style>\n<table border=\"1\" class=\"dataframe\">\n  <thead>\n    <tr style=\"text-align: right;\">\n      <th></th>\n      <th></th>\n      <th>1990</th>\n      <th>1991</th>\n      <th>1992</th>\n      <th>1993</th>\n      <th>1994</th>\n      <th>1995</th>\n      <th>1996</th>\n      <th>1997</th>\n      <th>1998</th>\n      <th>1999</th>\n      <th>...</th>\n      <th>2008</th>\n      <th>2009</th>\n      <th>2010</th>\n      <th>2011</th>\n      <th>2012</th>\n      <th>2013</th>\n      <th>2014</th>\n      <th>2015</th>\n      <th>2016</th>\n      <th>년도총합계</th>\n    </tr>\n    <tr>\n      <th>전력량 (억㎾h)</th>\n      <th>발전 전력별</th>\n      <th></th>\n      <th></th>\n      <th></th>\n      <th></th>\n      <th></th>\n      <th></th>\n      <th></th>\n      <th></th>\n      <th></th>\n      <th></th>\n      <th></th>\n      <th></th>\n      <th></th>\n      <th></th>\n      <th></th>\n      <th></th>\n      <th></th>\n      <th></th>\n      <th></th>\n      <th></th>\n      <th></th>\n    </tr>\n  </thead>\n  <tbody>\n    <tr>\n      <th rowspan=\"5\" valign=\"top\">남한</th>\n      <th>합계</th>\n      <td>1077.0</td>\n      <td>1186.0</td>\n      <td>1310.0</td>\n      <td>1444.0</td>\n      <td>1650.0</td>\n      <td>1847.0</td>\n      <td>2055.0</td>\n      <td>2244.0</td>\n      <td>2153.0</td>\n      <td>2393.0</td>\n      <td>...</td>\n      <td>4224.0</td>\n      <td>4336.0</td>\n      <td>4747.0</td>\n      <td>4969.0</td>\n      <td>5096.0</td>\n      <td>5171.0</td>\n      <td>5220.0</td>\n      <td>5281.0</td>\n      <td>5404.0</td>\n      <td>88523.0</td>\n    </tr>\n    <tr>\n      <th>수력</th>\n      <td>64.0</td>\n      <td>51.0</td>\n      <td>49.0</td>\n      <td>60.0</td>\n      <td>41.0</td>\n      <td>55.0</td>\n      <td>52.0</td>\n      <td>54.0</td>\n      <td>61.0</td>\n      <td>61.0</td>\n      <td>...</td>\n      <td>56.0</td>\n      <td>56.0</td>\n      <td>65.0</td>\n      <td>78.0</td>\n      <td>77.0</td>\n      <td>84.0</td>\n      <td>78.0</td>\n      <td>58.0</td>\n      <td>66.0</td>\n      <td>1599.0</td>\n    </tr>\n    <tr>\n      <th>화력</th>\n      <td>484.0</td>\n      <td>573.0</td>\n      <td>696.0</td>\n      <td>803.0</td>\n      <td>1022.0</td>\n      <td>1122.0</td>\n      <td>1264.0</td>\n      <td>1420.0</td>\n      <td>1195.0</td>\n      <td>1302.0</td>\n      <td>...</td>\n      <td>2658.0</td>\n      <td>2802.0</td>\n      <td>3196.0</td>\n      <td>3343.0</td>\n      <td>3430.0</td>\n      <td>3581.0</td>\n      <td>3427.0</td>\n      <td>3402.0</td>\n      <td>3523.0</td>\n      <td>55136.0</td>\n    </tr>\n    <tr>\n      <th>원자력</th>\n      <td>529.0</td>\n      <td>563.0</td>\n      <td>565.0</td>\n      <td>581.0</td>\n      <td>587.0</td>\n      <td>670.0</td>\n      <td>739.0</td>\n      <td>771.0</td>\n      <td>897.0</td>\n      <td>1031.0</td>\n      <td>...</td>\n      <td>1510.0</td>\n      <td>1478.0</td>\n      <td>1486.0</td>\n      <td>1547.0</td>\n      <td>1503.0</td>\n      <td>1388.0</td>\n      <td>1564.0</td>\n      <td>1648.0</td>\n      <td>1620.0</td>\n      <td>31067.0</td>\n    </tr>\n    <tr>\n      <th>신재생</th>\n      <td>0.0</td>\n      <td>0.0</td>\n      <td>0.0</td>\n      <td>0.0</td>\n      <td>0.0</td>\n      <td>0.0</td>\n      <td>0.0</td>\n      <td>0.0</td>\n      <td>0.0</td>\n      <td>0.0</td>\n      <td>...</td>\n      <td>0.0</td>\n      <td>0.0</td>\n      <td>0.0</td>\n      <td>0.0</td>\n      <td>86.0</td>\n      <td>118.0</td>\n      <td>151.0</td>\n      <td>173.0</td>\n      <td>195.0</td>\n      <td>723.0</td>\n    </tr>\n    <tr>\n      <th rowspan=\"5\" valign=\"top\">북한</th>\n      <th>합계</th>\n      <td>277.0</td>\n      <td>263.0</td>\n      <td>247.0</td>\n      <td>221.0</td>\n      <td>231.0</td>\n      <td>230.0</td>\n      <td>213.0</td>\n      <td>193.0</td>\n      <td>170.0</td>\n      <td>186.0</td>\n      <td>...</td>\n      <td>255.0</td>\n      <td>235.0</td>\n      <td>237.0</td>\n      <td>211.0</td>\n      <td>215.0</td>\n      <td>221.0</td>\n      <td>216.0</td>\n      <td>190.0</td>\n      <td>239.0</td>\n      <td>5914.0</td>\n    </tr>\n    <tr>\n      <th>수력</th>\n      <td>156.0</td>\n      <td>150.0</td>\n      <td>142.0</td>\n      <td>133.0</td>\n      <td>138.0</td>\n      <td>142.0</td>\n      <td>125.0</td>\n      <td>107.0</td>\n      <td>102.0</td>\n      <td>103.0</td>\n      <td>...</td>\n      <td>141.0</td>\n      <td>125.0</td>\n      <td>134.0</td>\n      <td>132.0</td>\n      <td>135.0</td>\n      <td>139.0</td>\n      <td>130.0</td>\n      <td>100.0</td>\n      <td>128.0</td>\n      <td>3408.0</td>\n    </tr>\n    <tr>\n      <th>화력</th>\n      <td>121.0</td>\n      <td>113.0</td>\n      <td>105.0</td>\n      <td>88.0</td>\n      <td>93.0</td>\n      <td>88.0</td>\n      <td>88.0</td>\n      <td>86.0</td>\n      <td>68.0</td>\n      <td>83.0</td>\n      <td>...</td>\n      <td>114.0</td>\n      <td>110.0</td>\n      <td>103.0</td>\n      <td>79.0</td>\n      <td>80.0</td>\n      <td>82.0</td>\n      <td>86.0</td>\n      <td>90.0</td>\n      <td>111.0</td>\n      <td>2506.0</td>\n    </tr>\n    <tr>\n      <th>원자력</th>\n      <td>0.0</td>\n      <td>0.0</td>\n      <td>0.0</td>\n      <td>0.0</td>\n      <td>0.0</td>\n      <td>0.0</td>\n      <td>0.0</td>\n      <td>0.0</td>\n      <td>0.0</td>\n      <td>0.0</td>\n      <td>...</td>\n      <td>0.0</td>\n      <td>0.0</td>\n      <td>0.0</td>\n      <td>0.0</td>\n      <td>0.0</td>\n      <td>0.0</td>\n      <td>0.0</td>\n      <td>0.0</td>\n      <td>0.0</td>\n      <td>0.0</td>\n    </tr>\n    <tr>\n      <th>신재생</th>\n      <td>0.0</td>\n      <td>0.0</td>\n      <td>0.0</td>\n      <td>0.0</td>\n      <td>0.0</td>\n      <td>0.0</td>\n      <td>0.0</td>\n      <td>0.0</td>\n      <td>0.0</td>\n      <td>0.0</td>\n      <td>...</td>\n      <td>0.0</td>\n      <td>0.0</td>\n      <td>0.0</td>\n      <td>0.0</td>\n      <td>0.0</td>\n      <td>0.0</td>\n      <td>0.0</td>\n      <td>0.0</td>\n      <td>0.0</td>\n      <td>0.0</td>\n    </tr>\n  </tbody>\n</table>\n<p>10 rows × 28 columns</p>\n</div>"
     },
     "execution_count": 23,
     "metadata": {},
     "output_type": "execute_result"
    }
   ],
   "source": [
    "test"
   ],
   "metadata": {
    "collapsed": false,
    "ExecuteTime": {
     "end_time": "2024-01-16T05:06:44.951170800Z",
     "start_time": "2024-01-16T05:06:44.932548700Z"
    }
   },
   "id": "35039f86d0cd8773",
   "execution_count": 23
  },
  {
   "cell_type": "markdown",
   "source": [
    "- 행 추가\n",
    "    * 단일 인덱스 => loc[새로운 행레이블/이름] = 새로운 값\n",
    "    * 멀티 인덱스 => loc[새로운 행레이블/이름, 열레이블] = 새로운 값"
   ],
   "metadata": {
    "collapsed": false
   },
   "id": "2c540049d51c8437"
  },
  {
   "cell_type": "code",
   "outputs": [
    {
     "data": {
      "text/plain": "                    1990    1991    1992    1993    1994    1995    1996  \\\n전력량 (억㎾h) 발전 전력별                                                           \n남한        합계      1077.0  1186.0  1310.0  1444.0  1650.0  1847.0  2055.0   \n          수력        64.0    51.0    49.0    60.0    41.0    55.0    52.0   \n          화력       484.0   573.0   696.0   803.0  1022.0  1122.0  1264.0   \n          원자력      529.0   563.0   565.0   581.0   587.0   670.0   739.0   \n          신재생        0.0     0.0     0.0     0.0     0.0     0.0     0.0   \n북한        합계       277.0   263.0   247.0   221.0   231.0   230.0   213.0   \n          수력       156.0   150.0   142.0   133.0   138.0   142.0   125.0   \n          화력       121.0   113.0   105.0    88.0    93.0    88.0    88.0   \n          원자력        0.0     0.0     0.0     0.0     0.0     0.0     0.0   \n          신재생        0.0     0.0     0.0     0.0     0.0     0.0     0.0   \n남한        새인덱스      10.0   102.0    10.0    10.0   102.0    10.0    10.0   \n\n                    1997    1998    1999  ...    2008    2009    2010    2011  \\\n전력량 (억㎾h) 발전 전력별                          ...                                   \n남한        합계      2244.0  2153.0  2393.0  ...  4224.0  4336.0  4747.0  4969.0   \n          수력        54.0    61.0    61.0  ...    56.0    56.0    65.0    78.0   \n          화력      1420.0  1195.0  1302.0  ...  2658.0  2802.0  3196.0  3343.0   \n          원자력      771.0   897.0  1031.0  ...  1510.0  1478.0  1486.0  1547.0   \n          신재생        0.0     0.0     0.0  ...     0.0     0.0     0.0     0.0   \n북한        합계       193.0   170.0   186.0  ...   255.0   235.0   237.0   211.0   \n          수력       107.0   102.0   103.0  ...   141.0   125.0   134.0   132.0   \n          화력        86.0    68.0    83.0  ...   114.0   110.0   103.0    79.0   \n          원자력        0.0     0.0     0.0  ...     0.0     0.0     0.0     0.0   \n          신재생        0.0     0.0     0.0  ...     0.0     0.0     0.0     0.0   \n남한        새인덱스      10.0    10.0    10.0  ...    10.0    10.0    10.0    10.0   \n\n                    2012    2013    2014    2015    2016    년도총합계  \n전력량 (억㎾h) 발전 전력별                                                   \n남한        합계      5096.0  5171.0  5220.0  5281.0  5404.0  88523.0  \n          수력        77.0    84.0    78.0    58.0    66.0   1599.0  \n          화력      3430.0  3581.0  3427.0  3402.0  3523.0  55136.0  \n          원자력     1503.0  1388.0  1564.0  1648.0  1620.0  31067.0  \n          신재생       86.0   118.0   151.0   173.0   195.0    723.0  \n북한        합계       215.0   221.0   216.0   190.0   239.0   5914.0  \n          수력       135.0   139.0   130.0   100.0   128.0   3408.0  \n          화력        80.0    82.0    86.0    90.0   111.0   2506.0  \n          원자력        0.0     0.0     0.0     0.0     0.0      0.0  \n          신재생        0.0     0.0     0.0     0.0     0.0      0.0  \n남한        새인덱스      10.0    10.0    10.0    10.0    10.0     10.0  \n\n[11 rows x 28 columns]",
      "text/html": "<div>\n<style scoped>\n    .dataframe tbody tr th:only-of-type {\n        vertical-align: middle;\n    }\n\n    .dataframe tbody tr th {\n        vertical-align: top;\n    }\n\n    .dataframe thead th {\n        text-align: right;\n    }\n</style>\n<table border=\"1\" class=\"dataframe\">\n  <thead>\n    <tr style=\"text-align: right;\">\n      <th></th>\n      <th></th>\n      <th>1990</th>\n      <th>1991</th>\n      <th>1992</th>\n      <th>1993</th>\n      <th>1994</th>\n      <th>1995</th>\n      <th>1996</th>\n      <th>1997</th>\n      <th>1998</th>\n      <th>1999</th>\n      <th>...</th>\n      <th>2008</th>\n      <th>2009</th>\n      <th>2010</th>\n      <th>2011</th>\n      <th>2012</th>\n      <th>2013</th>\n      <th>2014</th>\n      <th>2015</th>\n      <th>2016</th>\n      <th>년도총합계</th>\n    </tr>\n    <tr>\n      <th>전력량 (억㎾h)</th>\n      <th>발전 전력별</th>\n      <th></th>\n      <th></th>\n      <th></th>\n      <th></th>\n      <th></th>\n      <th></th>\n      <th></th>\n      <th></th>\n      <th></th>\n      <th></th>\n      <th></th>\n      <th></th>\n      <th></th>\n      <th></th>\n      <th></th>\n      <th></th>\n      <th></th>\n      <th></th>\n      <th></th>\n      <th></th>\n      <th></th>\n    </tr>\n  </thead>\n  <tbody>\n    <tr>\n      <th rowspan=\"5\" valign=\"top\">남한</th>\n      <th>합계</th>\n      <td>1077.0</td>\n      <td>1186.0</td>\n      <td>1310.0</td>\n      <td>1444.0</td>\n      <td>1650.0</td>\n      <td>1847.0</td>\n      <td>2055.0</td>\n      <td>2244.0</td>\n      <td>2153.0</td>\n      <td>2393.0</td>\n      <td>...</td>\n      <td>4224.0</td>\n      <td>4336.0</td>\n      <td>4747.0</td>\n      <td>4969.0</td>\n      <td>5096.0</td>\n      <td>5171.0</td>\n      <td>5220.0</td>\n      <td>5281.0</td>\n      <td>5404.0</td>\n      <td>88523.0</td>\n    </tr>\n    <tr>\n      <th>수력</th>\n      <td>64.0</td>\n      <td>51.0</td>\n      <td>49.0</td>\n      <td>60.0</td>\n      <td>41.0</td>\n      <td>55.0</td>\n      <td>52.0</td>\n      <td>54.0</td>\n      <td>61.0</td>\n      <td>61.0</td>\n      <td>...</td>\n      <td>56.0</td>\n      <td>56.0</td>\n      <td>65.0</td>\n      <td>78.0</td>\n      <td>77.0</td>\n      <td>84.0</td>\n      <td>78.0</td>\n      <td>58.0</td>\n      <td>66.0</td>\n      <td>1599.0</td>\n    </tr>\n    <tr>\n      <th>화력</th>\n      <td>484.0</td>\n      <td>573.0</td>\n      <td>696.0</td>\n      <td>803.0</td>\n      <td>1022.0</td>\n      <td>1122.0</td>\n      <td>1264.0</td>\n      <td>1420.0</td>\n      <td>1195.0</td>\n      <td>1302.0</td>\n      <td>...</td>\n      <td>2658.0</td>\n      <td>2802.0</td>\n      <td>3196.0</td>\n      <td>3343.0</td>\n      <td>3430.0</td>\n      <td>3581.0</td>\n      <td>3427.0</td>\n      <td>3402.0</td>\n      <td>3523.0</td>\n      <td>55136.0</td>\n    </tr>\n    <tr>\n      <th>원자력</th>\n      <td>529.0</td>\n      <td>563.0</td>\n      <td>565.0</td>\n      <td>581.0</td>\n      <td>587.0</td>\n      <td>670.0</td>\n      <td>739.0</td>\n      <td>771.0</td>\n      <td>897.0</td>\n      <td>1031.0</td>\n      <td>...</td>\n      <td>1510.0</td>\n      <td>1478.0</td>\n      <td>1486.0</td>\n      <td>1547.0</td>\n      <td>1503.0</td>\n      <td>1388.0</td>\n      <td>1564.0</td>\n      <td>1648.0</td>\n      <td>1620.0</td>\n      <td>31067.0</td>\n    </tr>\n    <tr>\n      <th>신재생</th>\n      <td>0.0</td>\n      <td>0.0</td>\n      <td>0.0</td>\n      <td>0.0</td>\n      <td>0.0</td>\n      <td>0.0</td>\n      <td>0.0</td>\n      <td>0.0</td>\n      <td>0.0</td>\n      <td>0.0</td>\n      <td>...</td>\n      <td>0.0</td>\n      <td>0.0</td>\n      <td>0.0</td>\n      <td>0.0</td>\n      <td>86.0</td>\n      <td>118.0</td>\n      <td>151.0</td>\n      <td>173.0</td>\n      <td>195.0</td>\n      <td>723.0</td>\n    </tr>\n    <tr>\n      <th rowspan=\"5\" valign=\"top\">북한</th>\n      <th>합계</th>\n      <td>277.0</td>\n      <td>263.0</td>\n      <td>247.0</td>\n      <td>221.0</td>\n      <td>231.0</td>\n      <td>230.0</td>\n      <td>213.0</td>\n      <td>193.0</td>\n      <td>170.0</td>\n      <td>186.0</td>\n      <td>...</td>\n      <td>255.0</td>\n      <td>235.0</td>\n      <td>237.0</td>\n      <td>211.0</td>\n      <td>215.0</td>\n      <td>221.0</td>\n      <td>216.0</td>\n      <td>190.0</td>\n      <td>239.0</td>\n      <td>5914.0</td>\n    </tr>\n    <tr>\n      <th>수력</th>\n      <td>156.0</td>\n      <td>150.0</td>\n      <td>142.0</td>\n      <td>133.0</td>\n      <td>138.0</td>\n      <td>142.0</td>\n      <td>125.0</td>\n      <td>107.0</td>\n      <td>102.0</td>\n      <td>103.0</td>\n      <td>...</td>\n      <td>141.0</td>\n      <td>125.0</td>\n      <td>134.0</td>\n      <td>132.0</td>\n      <td>135.0</td>\n      <td>139.0</td>\n      <td>130.0</td>\n      <td>100.0</td>\n      <td>128.0</td>\n      <td>3408.0</td>\n    </tr>\n    <tr>\n      <th>화력</th>\n      <td>121.0</td>\n      <td>113.0</td>\n      <td>105.0</td>\n      <td>88.0</td>\n      <td>93.0</td>\n      <td>88.0</td>\n      <td>88.0</td>\n      <td>86.0</td>\n      <td>68.0</td>\n      <td>83.0</td>\n      <td>...</td>\n      <td>114.0</td>\n      <td>110.0</td>\n      <td>103.0</td>\n      <td>79.0</td>\n      <td>80.0</td>\n      <td>82.0</td>\n      <td>86.0</td>\n      <td>90.0</td>\n      <td>111.0</td>\n      <td>2506.0</td>\n    </tr>\n    <tr>\n      <th>원자력</th>\n      <td>0.0</td>\n      <td>0.0</td>\n      <td>0.0</td>\n      <td>0.0</td>\n      <td>0.0</td>\n      <td>0.0</td>\n      <td>0.0</td>\n      <td>0.0</td>\n      <td>0.0</td>\n      <td>0.0</td>\n      <td>...</td>\n      <td>0.0</td>\n      <td>0.0</td>\n      <td>0.0</td>\n      <td>0.0</td>\n      <td>0.0</td>\n      <td>0.0</td>\n      <td>0.0</td>\n      <td>0.0</td>\n      <td>0.0</td>\n      <td>0.0</td>\n    </tr>\n    <tr>\n      <th>신재생</th>\n      <td>0.0</td>\n      <td>0.0</td>\n      <td>0.0</td>\n      <td>0.0</td>\n      <td>0.0</td>\n      <td>0.0</td>\n      <td>0.0</td>\n      <td>0.0</td>\n      <td>0.0</td>\n      <td>0.0</td>\n      <td>...</td>\n      <td>0.0</td>\n      <td>0.0</td>\n      <td>0.0</td>\n      <td>0.0</td>\n      <td>0.0</td>\n      <td>0.0</td>\n      <td>0.0</td>\n      <td>0.0</td>\n      <td>0.0</td>\n      <td>0.0</td>\n    </tr>\n    <tr>\n      <th>남한</th>\n      <th>새인덱스</th>\n      <td>10.0</td>\n      <td>102.0</td>\n      <td>10.0</td>\n      <td>10.0</td>\n      <td>102.0</td>\n      <td>10.0</td>\n      <td>10.0</td>\n      <td>10.0</td>\n      <td>10.0</td>\n      <td>10.0</td>\n      <td>...</td>\n      <td>10.0</td>\n      <td>10.0</td>\n      <td>10.0</td>\n      <td>10.0</td>\n      <td>10.0</td>\n      <td>10.0</td>\n      <td>10.0</td>\n      <td>10.0</td>\n      <td>10.0</td>\n      <td>10.0</td>\n    </tr>\n  </tbody>\n</table>\n<p>11 rows × 28 columns</p>\n</div>"
     },
     "execution_count": 26,
     "metadata": {},
     "output_type": "execute_result"
    }
   ],
   "source": [
    "test.loc[('남한','새인덱스'), : ] = 102\n",
    "test"
   ],
   "metadata": {
    "collapsed": false,
    "ExecuteTime": {
     "end_time": "2024-01-16T05:11:54.803285400Z",
     "start_time": "2024-01-16T05:11:54.792668900Z"
    }
   },
   "id": "8530dc5c553b680b",
   "execution_count": 26
  },
  {
   "cell_type": "code",
   "outputs": [],
   "source": [],
   "metadata": {
    "collapsed": false
   },
   "id": "7361689440607a4b"
  }
 ],
 "metadata": {
  "kernelspec": {
   "display_name": "Python 3",
   "language": "python",
   "name": "python3"
  },
  "language_info": {
   "codemirror_mode": {
    "name": "ipython",
    "version": 2
   },
   "file_extension": ".py",
   "mimetype": "text/x-python",
   "name": "python",
   "nbconvert_exporter": "python",
   "pygments_lexer": "ipython2",
   "version": "2.7.6"
  }
 },
 "nbformat": 4,
 "nbformat_minor": 5
}
