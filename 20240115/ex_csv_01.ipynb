{
 "cells": [
  {
   "cell_type": "markdown",
   "id": "51dad9dd-22b0-4758-a53c-1b44778a059b",
   "metadata": {},
   "source": [
    "## [데이터 파일 다루기]"
   ]
  },
  {
   "cell_type": "markdown",
   "id": "938d760c-e49d-4c2d-a30b-5c35f883a897",
   "metadata": {},
   "source": [
    "### (1) 모듈 로딩 <hr>"
   ]
  },
  {
   "cell_type": "code",
   "execution_count": 12,
   "id": "d7155397-e025-46e7-96ee-81f22db0a4d8",
   "metadata": {
    "ExecuteTime": {
     "end_time": "2024-01-15T01:17:19.640114Z",
     "start_time": "2024-01-15T01:17:19.552974900Z"
    }
   },
   "outputs": [],
   "source": [
    "import pandas as pd"
   ]
  },
  {
   "cell_type": "markdown",
   "id": "5000fc54-3ca8-4b32-8566-5b936cb4f7b6",
   "metadata": {},
   "source": [
    "### (2) 데이터 준비 <hr> "
   ]
  },
  {
   "cell_type": "markdown",
   "id": "d3451663-ad5b-4fc7-bf77-7be871474608",
   "metadata": {},
   "source": [
    "- 파일 이름 => 경로 + 파일명\n",
    "- 경로 => 2가지 종류\n",
    "    * 절대경로 : 드라이브부터 파일까지의 전체 경로(ex:C:\\Users\\data\\a.txt)\n",
    "    * 상대경로 : 현재 파일을 기준으로 경로 설정\n",
    "     - ./ : 현재 위치 의미\n",
    "     - (예:./a.csv,a.csv => 현재 파일과 동일한 폴더/위치에 존재)\n",
    "     - ../: 한 단계 위로 올라간 위치 의미\n",
    "     - (예:../Data/b.csb => 현재 파일이 존재하는 폴더 밖에 존재하는 파일)"
   ]
  },
  {
   "cell_type": "code",
   "execution_count": 13,
   "id": "71fecf0c-b362-4192-8b25-2ecc484eb716",
   "metadata": {
    "ExecuteTime": {
     "end_time": "2024-01-15T01:17:19.671695700Z",
     "start_time": "2024-01-15T01:17:19.644289700Z"
    }
   },
   "outputs": [],
   "source": [
    "file='./test.csv'         #file='test.txt'를 써도 결과는 같다...."
   ]
  },
  {
   "cell_type": "code",
   "execution_count": 14,
   "id": "a5db141a-d313-4b3a-b378-ca414e2afebc",
   "metadata": {
    "ExecuteTime": {
     "end_time": "2024-01-15T01:17:19.718637500Z",
     "start_time": "2024-01-15T01:17:19.674874200Z"
    }
   },
   "outputs": [],
   "source": [
    "file2= '../DATA/movies.csv'"
   ]
  },
  {
   "cell_type": "markdown",
   "id": "e207008f-b37d-4f26-9ded-68e6b4bfd818",
   "metadata": {},
   "source": [
    "### (3)데이터 저장 : CSV => DataFrame"
   ]
  },
  {
   "cell_type": "code",
   "execution_count": 15,
   "id": "0a8b9229-77b5-4042-a535-79588a40d30e",
   "metadata": {
    "ExecuteTime": {
     "end_time": "2024-01-15T01:17:19.719760600Z",
     "start_time": "2024-01-15T01:17:19.693714100Z"
    }
   },
   "outputs": [],
   "source": [
    "movieDF=pd.read_csv(file2)"
   ]
  },
  {
   "cell_type": "markdown",
   "id": "6a04eee4-a1ee-4dfd-8765-df5dec751dd4",
   "metadata": {},
   "source": [
    "### (4)데이터 확인"
   ]
  },
  {
   "cell_type": "code",
   "execution_count": 16,
   "id": "108b21cf-0520-413c-aa36-6e112247117a",
   "metadata": {
    "ExecuteTime": {
     "end_time": "2024-01-15T01:17:19.771929800Z",
     "start_time": "2024-01-15T01:17:19.709307200Z"
    }
   },
   "outputs": [
    {
     "name": "stdout",
     "output_type": "stream",
     "text": [
      "<class 'pandas.core.frame.DataFrame'>\n",
      "RangeIndex: 782 entries, 0 to 781\n",
      "Data columns (total 5 columns):\n",
      " #   Column  Non-Null Count  Dtype \n",
      "---  ------  --------------  ----- \n",
      " 0   Rank    782 non-null    int64 \n",
      " 1   Title   782 non-null    object\n",
      " 2   Studio  782 non-null    object\n",
      " 3   Gross   782 non-null    object\n",
      " 4   Year    782 non-null    int64 \n",
      "dtypes: int64(2), object(3)\n",
      "memory usage: 30.7+ KB\n"
     ]
    }
   ],
   "source": [
    "# 전체적인 데이터 정보 확인 => info() 메서드\n",
    "movieDF.info()"
   ]
  },
  {
   "cell_type": "code",
   "execution_count": 17,
   "id": "c3743fe7-285c-4114-83d8-71c8752b9bb1",
   "metadata": {
    "ExecuteTime": {
     "end_time": "2024-01-15T01:17:19.772963400Z",
     "start_time": "2024-01-15T01:17:19.727054500Z"
    }
   },
   "outputs": [
    {
     "name": "stdout",
     "output_type": "stream",
     "text": [
      "   Rank                         Title       Studio       Gross  Year\n",
      "0     1             Avengers: Endgame  Buena Vista  $2,796.30   2019\n",
      "1     2                        Avatar          Fox  $2,789.70   2009\n",
      "2     3                       Titanic    Paramount  $2,187.50   1997\n",
      "3     4  Star Wars: The Force Awakens  Buena Vista  $2,068.20   2015\n",
      "4     5        Avengers: Infinity War  Buena Vista  $2,048.40   2018\n",
      "\n",
      "     Rank                     Title           Studio     Gross  Year\n",
      "777   778                 Yogi Bear  Warner Brothers  $201.60   2010\n",
      "778   779       Garfield: The Movie              Fox  $200.80   2004\n",
      "779   780               Cats & Dogs  Warner Brothers  $200.70   2001\n",
      "780   781  The Hunt for Red October        Paramount  $200.50   1990\n",
      "781   782                  Valkyrie              MGM  $200.30   2008\n"
     ]
    }
   ],
   "source": [
    "# 실제 저장된 데이터 확인 => head(),tail()\n",
    "print(movieDF.head(),movieDF.tail(),sep='\\n\\n')  #줄바꿈 두번....."
   ]
  },
  {
   "cell_type": "markdown",
   "id": "b0d8809a-7c35-43cd-a7c4-2a60ae024977",
   "metadata": {},
   "source": [
    "### read_csv 파일 매개변수 살펴보기<hr>"
   ]
  },
  {
   "cell_type": "markdown",
   "id": "edfb095e-8cb6-470f-b0d4-25cfb7d778fb",
   "metadata": {},
   "source": [
    "- header 파라미터 : DataFrame의 컬럼명 설정하는 파라미터\n",
    "    * 기본값:csv 파일의 첫번째 라인의 데이터를 컬럼명으로 설정\n",
    "    * None: csv 파일의 첫번째 라인이 컬럼명 아님 의미=> 컬럼명 미지정을 의미\n",
    "    * 행번호 :csv 파일의 행번호 라인이 컬럼명으로 설정, 그 이전 행 번호 데이터는 사라짐!"
   ]
  },
  {
   "cell_type": "code",
   "execution_count": 18,
   "id": "247b5275-bd2c-4055-b96d-ae7e73199076",
   "metadata": {
    "ExecuteTime": {
     "end_time": "2024-01-15T01:17:19.809791600Z",
     "start_time": "2024-01-15T01:17:19.740635700Z"
    }
   },
   "outputs": [
    {
     "data": {
      "text/plain": "       1             Avengers: Endgame      Buena Vista  $2,796.30   2019\n0      2                        Avatar              Fox  $2,789.70   2009\n1      3                       Titanic        Paramount  $2,187.50   1997\n2      4  Star Wars: The Force Awakens      Buena Vista  $2,068.20   2015\n3      5        Avengers: Infinity War      Buena Vista  $2,048.40   2018\n4      6                Jurassic World        Universal  $1,671.70   2015\n..   ...                           ...              ...         ...   ...\n776  778                     Yogi Bear  Warner Brothers    $201.60   2010\n777  779           Garfield: The Movie              Fox    $200.80   2004\n778  780                   Cats & Dogs  Warner Brothers    $200.70   2001\n779  781      The Hunt for Red October        Paramount    $200.50   1990\n780  782                      Valkyrie              MGM    $200.30   2008\n\n[781 rows x 5 columns]",
      "text/html": "<div>\n<style scoped>\n    .dataframe tbody tr th:only-of-type {\n        vertical-align: middle;\n    }\n\n    .dataframe tbody tr th {\n        vertical-align: top;\n    }\n\n    .dataframe thead th {\n        text-align: right;\n    }\n</style>\n<table border=\"1\" class=\"dataframe\">\n  <thead>\n    <tr style=\"text-align: right;\">\n      <th></th>\n      <th>1</th>\n      <th>Avengers: Endgame</th>\n      <th>Buena Vista</th>\n      <th>$2,796.30</th>\n      <th>2019</th>\n    </tr>\n  </thead>\n  <tbody>\n    <tr>\n      <th>0</th>\n      <td>2</td>\n      <td>Avatar</td>\n      <td>Fox</td>\n      <td>$2,789.70</td>\n      <td>2009</td>\n    </tr>\n    <tr>\n      <th>1</th>\n      <td>3</td>\n      <td>Titanic</td>\n      <td>Paramount</td>\n      <td>$2,187.50</td>\n      <td>1997</td>\n    </tr>\n    <tr>\n      <th>2</th>\n      <td>4</td>\n      <td>Star Wars: The Force Awakens</td>\n      <td>Buena Vista</td>\n      <td>$2,068.20</td>\n      <td>2015</td>\n    </tr>\n    <tr>\n      <th>3</th>\n      <td>5</td>\n      <td>Avengers: Infinity War</td>\n      <td>Buena Vista</td>\n      <td>$2,048.40</td>\n      <td>2018</td>\n    </tr>\n    <tr>\n      <th>4</th>\n      <td>6</td>\n      <td>Jurassic World</td>\n      <td>Universal</td>\n      <td>$1,671.70</td>\n      <td>2015</td>\n    </tr>\n    <tr>\n      <th>...</th>\n      <td>...</td>\n      <td>...</td>\n      <td>...</td>\n      <td>...</td>\n      <td>...</td>\n    </tr>\n    <tr>\n      <th>776</th>\n      <td>778</td>\n      <td>Yogi Bear</td>\n      <td>Warner Brothers</td>\n      <td>$201.60</td>\n      <td>2010</td>\n    </tr>\n    <tr>\n      <th>777</th>\n      <td>779</td>\n      <td>Garfield: The Movie</td>\n      <td>Fox</td>\n      <td>$200.80</td>\n      <td>2004</td>\n    </tr>\n    <tr>\n      <th>778</th>\n      <td>780</td>\n      <td>Cats &amp; Dogs</td>\n      <td>Warner Brothers</td>\n      <td>$200.70</td>\n      <td>2001</td>\n    </tr>\n    <tr>\n      <th>779</th>\n      <td>781</td>\n      <td>The Hunt for Red October</td>\n      <td>Paramount</td>\n      <td>$200.50</td>\n      <td>1990</td>\n    </tr>\n    <tr>\n      <th>780</th>\n      <td>782</td>\n      <td>Valkyrie</td>\n      <td>MGM</td>\n      <td>$200.30</td>\n      <td>2008</td>\n    </tr>\n  </tbody>\n</table>\n<p>781 rows × 5 columns</p>\n</div>"
     },
     "execution_count": 18,
     "metadata": {},
     "output_type": "execute_result"
    }
   ],
   "source": [
    "pd.read_csv(file2,header=1) #header는 왼쪽 인덱스 번호로 열이름을 삼겠다...."
   ]
  },
  {
   "cell_type": "markdown",
   "id": "770186c4-d4e2-48cc-9d5a-610ab0e47cb7",
   "metadata": {},
   "source": [
    "### index_col 파라미터 : 컬럼 중에서 행 인덱스로 설정, set_index()와 동일 역할"
   ]
  },
  {
   "cell_type": "code",
   "execution_count": 19,
   "id": "e3830bb6-58c3-49e8-8ad1-3a911f047e0c",
   "metadata": {
    "ExecuteTime": {
     "end_time": "2024-01-15T01:17:19.813946100Z",
     "start_time": "2024-01-15T01:17:19.776081300Z"
    }
   },
   "outputs": [
    {
     "data": {
      "text/plain": "                             Title           Studio       Gross  Year\nRank                                                                 \n1                Avengers: Endgame      Buena Vista  $2,796.30   2019\n2                           Avatar              Fox  $2,789.70   2009\n3                          Titanic        Paramount  $2,187.50   1997\n4     Star Wars: The Force Awakens      Buena Vista  $2,068.20   2015\n5           Avengers: Infinity War      Buena Vista  $2,048.40   2018\n...                            ...              ...         ...   ...\n778                      Yogi Bear  Warner Brothers    $201.60   2010\n779            Garfield: The Movie              Fox    $200.80   2004\n780                    Cats & Dogs  Warner Brothers    $200.70   2001\n781       The Hunt for Red October        Paramount    $200.50   1990\n782                       Valkyrie              MGM    $200.30   2008\n\n[782 rows x 4 columns]",
      "text/html": "<div>\n<style scoped>\n    .dataframe tbody tr th:only-of-type {\n        vertical-align: middle;\n    }\n\n    .dataframe tbody tr th {\n        vertical-align: top;\n    }\n\n    .dataframe thead th {\n        text-align: right;\n    }\n</style>\n<table border=\"1\" class=\"dataframe\">\n  <thead>\n    <tr style=\"text-align: right;\">\n      <th></th>\n      <th>Title</th>\n      <th>Studio</th>\n      <th>Gross</th>\n      <th>Year</th>\n    </tr>\n    <tr>\n      <th>Rank</th>\n      <th></th>\n      <th></th>\n      <th></th>\n      <th></th>\n    </tr>\n  </thead>\n  <tbody>\n    <tr>\n      <th>1</th>\n      <td>Avengers: Endgame</td>\n      <td>Buena Vista</td>\n      <td>$2,796.30</td>\n      <td>2019</td>\n    </tr>\n    <tr>\n      <th>2</th>\n      <td>Avatar</td>\n      <td>Fox</td>\n      <td>$2,789.70</td>\n      <td>2009</td>\n    </tr>\n    <tr>\n      <th>3</th>\n      <td>Titanic</td>\n      <td>Paramount</td>\n      <td>$2,187.50</td>\n      <td>1997</td>\n    </tr>\n    <tr>\n      <th>4</th>\n      <td>Star Wars: The Force Awakens</td>\n      <td>Buena Vista</td>\n      <td>$2,068.20</td>\n      <td>2015</td>\n    </tr>\n    <tr>\n      <th>5</th>\n      <td>Avengers: Infinity War</td>\n      <td>Buena Vista</td>\n      <td>$2,048.40</td>\n      <td>2018</td>\n    </tr>\n    <tr>\n      <th>...</th>\n      <td>...</td>\n      <td>...</td>\n      <td>...</td>\n      <td>...</td>\n    </tr>\n    <tr>\n      <th>778</th>\n      <td>Yogi Bear</td>\n      <td>Warner Brothers</td>\n      <td>$201.60</td>\n      <td>2010</td>\n    </tr>\n    <tr>\n      <th>779</th>\n      <td>Garfield: The Movie</td>\n      <td>Fox</td>\n      <td>$200.80</td>\n      <td>2004</td>\n    </tr>\n    <tr>\n      <th>780</th>\n      <td>Cats &amp; Dogs</td>\n      <td>Warner Brothers</td>\n      <td>$200.70</td>\n      <td>2001</td>\n    </tr>\n    <tr>\n      <th>781</th>\n      <td>The Hunt for Red October</td>\n      <td>Paramount</td>\n      <td>$200.50</td>\n      <td>1990</td>\n    </tr>\n    <tr>\n      <th>782</th>\n      <td>Valkyrie</td>\n      <td>MGM</td>\n      <td>$200.30</td>\n      <td>2008</td>\n    </tr>\n  </tbody>\n</table>\n<p>782 rows × 4 columns</p>\n</div>"
     },
     "execution_count": 19,
     "metadata": {},
     "output_type": "execute_result"
    }
   ],
   "source": [
    "# pd.read_csv(file2,index_col=['Rank','Title']) 멀티 인덱스, 인덱스를 index_ column에서 col = 가져옴....\n",
    "pd.read_csv(file2,index_col='Rank')  "
   ]
  },
  {
   "cell_type": "markdown",
   "id": "61b92dd0-c50c-47b4-b9c2-7c20585afb85",
   "metadata": {},
   "source": [
    "- sep/delimiter:Csv파일에서 데이터 구분자 설정\n",
    "    - 기본값:쉼표(,)"
   ]
  },
  {
   "cell_type": "code",
   "execution_count": 20,
   "id": "c6cf73ef-65e5-4fa1-88cf-04f33378f190",
   "metadata": {
    "scrolled": true,
    "ExecuteTime": {
     "end_time": "2024-01-15T01:17:19.941190800Z",
     "start_time": "2024-01-15T01:17:19.817153800Z"
    }
   },
   "outputs": [
    {
     "ename": "ParserError",
     "evalue": "Error tokenizing data. C error: Expected 1 fields in line 5, saw 4\n",
     "output_type": "error",
     "traceback": [
      "\u001B[1;31m---------------------------------------------------------------------------\u001B[0m",
      "\u001B[1;31mParserError\u001B[0m                               Traceback (most recent call last)",
      "Cell \u001B[1;32mIn[20], line 1\u001B[0m\n\u001B[1;32m----> 1\u001B[0m \u001B[43mpd\u001B[49m\u001B[38;5;241;43m.\u001B[39;49m\u001B[43mread_csv\u001B[49m\u001B[43m(\u001B[49m\u001B[43mfile\u001B[49m\u001B[43m,\u001B[49m\u001B[43m \u001B[49m\u001B[43mheader\u001B[49m\u001B[38;5;241;43m=\u001B[39;49m\u001B[38;5;28;43;01mNone\u001B[39;49;00m\u001B[43m,\u001B[49m\u001B[43msep\u001B[49m\u001B[38;5;241;43m=\u001B[39;49m\u001B[38;5;124;43m'\u001B[39;49m\u001B[38;5;124;43m;\u001B[39;49m\u001B[38;5;124;43m'\u001B[39;49m\u001B[43m)\u001B[49m  \u001B[38;5;66;03m#첫번째 줄이 열이 되었다....... ';'가 없어서 구분할게 없게 되었다....\u001B[39;00m\n",
      "File \u001B[1;32m~\\PycharmProjects\\PandasPractice\\.venv\\lib\\site-packages\\pandas\\io\\parsers\\readers.py:1024\u001B[0m, in \u001B[0;36mread_csv\u001B[1;34m(filepath_or_buffer, sep, delimiter, header, names, index_col, usecols, dtype, engine, converters, true_values, false_values, skipinitialspace, skiprows, skipfooter, nrows, na_values, keep_default_na, na_filter, verbose, skip_blank_lines, parse_dates, infer_datetime_format, keep_date_col, date_parser, date_format, dayfirst, cache_dates, iterator, chunksize, compression, thousands, decimal, lineterminator, quotechar, quoting, doublequote, escapechar, comment, encoding, encoding_errors, dialect, on_bad_lines, delim_whitespace, low_memory, memory_map, float_precision, storage_options, dtype_backend)\u001B[0m\n\u001B[0;32m   1011\u001B[0m kwds_defaults \u001B[38;5;241m=\u001B[39m _refine_defaults_read(\n\u001B[0;32m   1012\u001B[0m     dialect,\n\u001B[0;32m   1013\u001B[0m     delimiter,\n\u001B[1;32m   (...)\u001B[0m\n\u001B[0;32m   1020\u001B[0m     dtype_backend\u001B[38;5;241m=\u001B[39mdtype_backend,\n\u001B[0;32m   1021\u001B[0m )\n\u001B[0;32m   1022\u001B[0m kwds\u001B[38;5;241m.\u001B[39mupdate(kwds_defaults)\n\u001B[1;32m-> 1024\u001B[0m \u001B[38;5;28;01mreturn\u001B[39;00m \u001B[43m_read\u001B[49m\u001B[43m(\u001B[49m\u001B[43mfilepath_or_buffer\u001B[49m\u001B[43m,\u001B[49m\u001B[43m \u001B[49m\u001B[43mkwds\u001B[49m\u001B[43m)\u001B[49m\n",
      "File \u001B[1;32m~\\PycharmProjects\\PandasPractice\\.venv\\lib\\site-packages\\pandas\\io\\parsers\\readers.py:624\u001B[0m, in \u001B[0;36m_read\u001B[1;34m(filepath_or_buffer, kwds)\u001B[0m\n\u001B[0;32m    621\u001B[0m     \u001B[38;5;28;01mreturn\u001B[39;00m parser\n\u001B[0;32m    623\u001B[0m \u001B[38;5;28;01mwith\u001B[39;00m parser:\n\u001B[1;32m--> 624\u001B[0m     \u001B[38;5;28;01mreturn\u001B[39;00m \u001B[43mparser\u001B[49m\u001B[38;5;241;43m.\u001B[39;49m\u001B[43mread\u001B[49m\u001B[43m(\u001B[49m\u001B[43mnrows\u001B[49m\u001B[43m)\u001B[49m\n",
      "File \u001B[1;32m~\\PycharmProjects\\PandasPractice\\.venv\\lib\\site-packages\\pandas\\io\\parsers\\readers.py:1921\u001B[0m, in \u001B[0;36mTextFileReader.read\u001B[1;34m(self, nrows)\u001B[0m\n\u001B[0;32m   1914\u001B[0m nrows \u001B[38;5;241m=\u001B[39m validate_integer(\u001B[38;5;124m\"\u001B[39m\u001B[38;5;124mnrows\u001B[39m\u001B[38;5;124m\"\u001B[39m, nrows)\n\u001B[0;32m   1915\u001B[0m \u001B[38;5;28;01mtry\u001B[39;00m:\n\u001B[0;32m   1916\u001B[0m     \u001B[38;5;66;03m# error: \"ParserBase\" has no attribute \"read\"\u001B[39;00m\n\u001B[0;32m   1917\u001B[0m     (\n\u001B[0;32m   1918\u001B[0m         index,\n\u001B[0;32m   1919\u001B[0m         columns,\n\u001B[0;32m   1920\u001B[0m         col_dict,\n\u001B[1;32m-> 1921\u001B[0m     ) \u001B[38;5;241m=\u001B[39m \u001B[38;5;28;43mself\u001B[39;49m\u001B[38;5;241;43m.\u001B[39;49m\u001B[43m_engine\u001B[49m\u001B[38;5;241;43m.\u001B[39;49m\u001B[43mread\u001B[49m\u001B[43m(\u001B[49m\u001B[43m  \u001B[49m\u001B[38;5;66;43;03m# type: ignore[attr-defined]\u001B[39;49;00m\n\u001B[0;32m   1922\u001B[0m \u001B[43m        \u001B[49m\u001B[43mnrows\u001B[49m\n\u001B[0;32m   1923\u001B[0m \u001B[43m    \u001B[49m\u001B[43m)\u001B[49m\n\u001B[0;32m   1924\u001B[0m \u001B[38;5;28;01mexcept\u001B[39;00m \u001B[38;5;167;01mException\u001B[39;00m:\n\u001B[0;32m   1925\u001B[0m     \u001B[38;5;28mself\u001B[39m\u001B[38;5;241m.\u001B[39mclose()\n",
      "File \u001B[1;32m~\\PycharmProjects\\PandasPractice\\.venv\\lib\\site-packages\\pandas\\io\\parsers\\c_parser_wrapper.py:234\u001B[0m, in \u001B[0;36mCParserWrapper.read\u001B[1;34m(self, nrows)\u001B[0m\n\u001B[0;32m    232\u001B[0m \u001B[38;5;28;01mtry\u001B[39;00m:\n\u001B[0;32m    233\u001B[0m     \u001B[38;5;28;01mif\u001B[39;00m \u001B[38;5;28mself\u001B[39m\u001B[38;5;241m.\u001B[39mlow_memory:\n\u001B[1;32m--> 234\u001B[0m         chunks \u001B[38;5;241m=\u001B[39m \u001B[38;5;28;43mself\u001B[39;49m\u001B[38;5;241;43m.\u001B[39;49m\u001B[43m_reader\u001B[49m\u001B[38;5;241;43m.\u001B[39;49m\u001B[43mread_low_memory\u001B[49m\u001B[43m(\u001B[49m\u001B[43mnrows\u001B[49m\u001B[43m)\u001B[49m\n\u001B[0;32m    235\u001B[0m         \u001B[38;5;66;03m# destructive to chunks\u001B[39;00m\n\u001B[0;32m    236\u001B[0m         data \u001B[38;5;241m=\u001B[39m _concatenate_chunks(chunks)\n",
      "File \u001B[1;32mparsers.pyx:838\u001B[0m, in \u001B[0;36mpandas._libs.parsers.TextReader.read_low_memory\u001B[1;34m()\u001B[0m\n",
      "File \u001B[1;32mparsers.pyx:905\u001B[0m, in \u001B[0;36mpandas._libs.parsers.TextReader._read_rows\u001B[1;34m()\u001B[0m\n",
      "File \u001B[1;32mparsers.pyx:874\u001B[0m, in \u001B[0;36mpandas._libs.parsers.TextReader._tokenize_rows\u001B[1;34m()\u001B[0m\n",
      "File \u001B[1;32mparsers.pyx:891\u001B[0m, in \u001B[0;36mpandas._libs.parsers.TextReader._check_tokenize_status\u001B[1;34m()\u001B[0m\n",
      "File \u001B[1;32mparsers.pyx:2061\u001B[0m, in \u001B[0;36mpandas._libs.parsers.raise_parser_error\u001B[1;34m()\u001B[0m\n",
      "\u001B[1;31mParserError\u001B[0m: Error tokenizing data. C error: Expected 1 fields in line 5, saw 4\n"
     ]
    }
   ],
   "source": [
    "pd.read_csv(file, header=None,sep=';')  #첫번째 줄이 열이 되었다....... ';'가 없어서 구분할게 없게 되었다...."
   ]
  },
  {
   "cell_type": "markdown",
   "id": "4a234202-2c41-4dc7-8b2c-ca29e47137be",
   "metadata": {},
   "source": [
    "- skip_rows: csv 파일에 읽어 들이지 않을 행 번호를 지정하기 => 앞부분\n",
    "- skipfooter: csv 파일에 읽어 들이지 않을 행 번호를 지정하기 => 끝부분"
   ]
  },
  {
   "cell_type": "code",
   "execution_count": null,
   "id": "72c5119e-608f-4f35-b35b-47e679d8f4d7",
   "metadata": {
    "ExecuteTime": {
     "start_time": "2024-01-15T01:17:19.881589700Z"
    }
   },
   "outputs": [],
   "source": [
    "pd.read_csv(file,sep=';',skiprows=3,header=None)   #skiprows=3은 위에서 세줄을 데이터프레임 만들때 삭제하라는 의미....."
   ]
  },
  {
   "cell_type": "code",
   "execution_count": 21,
   "id": "3a86908b-3d1f-4ee8-8aab-1e05ab82bfc4",
   "metadata": {
    "ExecuteTime": {
     "end_time": "2024-01-15T01:17:20.098736400Z",
     "start_time": "2024-01-15T01:17:19.946434Z"
    }
   },
   "outputs": [
    {
     "name": "stderr",
     "output_type": "stream",
     "text": [
      "C:\\Users\\Administrator\\AppData\\Local\\Temp\\ipykernel_10216\\73624907.py:1: ParserWarning: Falling back to the 'python' engine because the 'c' engine does not support skipfooter; you can avoid this warning by specifying engine='python'.\n",
      "  pd.read_csv(file,sep=';',skiprows=3,header=None,skipfooter=2)\n"
     ]
    },
    {
     "data": {
      "text/plain": "    0   1   2   3\n0  10  20  30  40",
      "text/html": "<div>\n<style scoped>\n    .dataframe tbody tr th:only-of-type {\n        vertical-align: middle;\n    }\n\n    .dataframe tbody tr th {\n        vertical-align: top;\n    }\n\n    .dataframe thead th {\n        text-align: right;\n    }\n</style>\n<table border=\"1\" class=\"dataframe\">\n  <thead>\n    <tr style=\"text-align: right;\">\n      <th></th>\n      <th>0</th>\n      <th>1</th>\n      <th>2</th>\n      <th>3</th>\n    </tr>\n  </thead>\n  <tbody>\n    <tr>\n      <th>0</th>\n      <td>10</td>\n      <td>20</td>\n      <td>30</td>\n      <td>40</td>\n    </tr>\n  </tbody>\n</table>\n</div>"
     },
     "execution_count": 21,
     "metadata": {},
     "output_type": "execute_result"
    }
   ],
   "source": [
    "pd.read_csv(file,sep=';',skiprows=3,header=None,skipfooter=2)"
   ]
  },
  {
   "cell_type": "code",
   "execution_count": 23,
   "id": "24b7b9c2-4207-4b36-b88e-5ae63637db60",
   "metadata": {
    "ExecuteTime": {
     "end_time": "2024-01-15T01:18:37.857257200Z",
     "start_time": "2024-01-15T01:18:37.832027600Z"
    }
   },
   "outputs": [
    {
     "data": {
      "text/plain": "    0   1   2   3\n0  10  20  30  40",
      "text/html": "<div>\n<style scoped>\n    .dataframe tbody tr th:only-of-type {\n        vertical-align: middle;\n    }\n\n    .dataframe tbody tr th {\n        vertical-align: top;\n    }\n\n    .dataframe thead th {\n        text-align: right;\n    }\n</style>\n<table border=\"1\" class=\"dataframe\">\n  <thead>\n    <tr style=\"text-align: right;\">\n      <th></th>\n      <th>0</th>\n      <th>1</th>\n      <th>2</th>\n      <th>3</th>\n    </tr>\n  </thead>\n  <tbody>\n    <tr>\n      <th>0</th>\n      <td>10</td>\n      <td>20</td>\n      <td>30</td>\n      <td>40</td>\n    </tr>\n  </tbody>\n</table>\n</div>"
     },
     "execution_count": 23,
     "metadata": {},
     "output_type": "execute_result"
    }
   ],
   "source": [
    "pd.read_csv(file,sep=';',skiprows=3,header=None,skipfooter=2,engine='python')"
   ]
  },
  {
   "cell_type": "markdown",
   "source": [
    "- usecols : 컬럼에서 특정 컬럼만 선택해서 로딩하기\n",
    "    * usecols = [0,2,....]\n",
    "    * usecols = ['컬럼명1', '컬럼명2']"
   ],
   "metadata": {
    "collapsed": false
   },
   "id": "3db9d33de5b94ac2"
  },
  {
   "cell_type": "code",
   "outputs": [
    {
     "data": {
      "text/plain": "    0   2\n0  10  30\n1   1   3\n2  11  33",
      "text/html": "<div>\n<style scoped>\n    .dataframe tbody tr th:only-of-type {\n        vertical-align: middle;\n    }\n\n    .dataframe tbody tr th {\n        vertical-align: top;\n    }\n\n    .dataframe thead th {\n        text-align: right;\n    }\n</style>\n<table border=\"1\" class=\"dataframe\">\n  <thead>\n    <tr style=\"text-align: right;\">\n      <th></th>\n      <th>0</th>\n      <th>2</th>\n    </tr>\n  </thead>\n  <tbody>\n    <tr>\n      <th>0</th>\n      <td>10</td>\n      <td>30</td>\n    </tr>\n    <tr>\n      <th>1</th>\n      <td>1</td>\n      <td>3</td>\n    </tr>\n    <tr>\n      <th>2</th>\n      <td>11</td>\n      <td>33</td>\n    </tr>\n  </tbody>\n</table>\n</div>"
     },
     "execution_count": 24,
     "metadata": {},
     "output_type": "execute_result"
    }
   ],
   "source": [
    "pd.read_csv(file, sep=\";\", skiprows=3 ,header=None, usecols=[0,2])"
   ],
   "metadata": {
    "collapsed": false,
    "ExecuteTime": {
     "end_time": "2024-01-15T01:19:42.540394800Z",
     "start_time": "2024-01-15T01:19:42.504156600Z"
    }
   },
   "id": "70dd349655b5926c",
   "execution_count": 24
  },
  {
   "cell_type": "code",
   "outputs": [
    {
     "data": {
      "text/plain": "     Rank  Year\n0       1  2019\n1       2  2009\n2       3  1997\n3       4  2015\n4       5  2018\n..    ...   ...\n777   778  2010\n778   779  2004\n779   780  2001\n780   781  1990\n781   782  2008\n\n[782 rows x 2 columns]",
      "text/html": "<div>\n<style scoped>\n    .dataframe tbody tr th:only-of-type {\n        vertical-align: middle;\n    }\n\n    .dataframe tbody tr th {\n        vertical-align: top;\n    }\n\n    .dataframe thead th {\n        text-align: right;\n    }\n</style>\n<table border=\"1\" class=\"dataframe\">\n  <thead>\n    <tr style=\"text-align: right;\">\n      <th></th>\n      <th>Rank</th>\n      <th>Year</th>\n    </tr>\n  </thead>\n  <tbody>\n    <tr>\n      <th>0</th>\n      <td>1</td>\n      <td>2019</td>\n    </tr>\n    <tr>\n      <th>1</th>\n      <td>2</td>\n      <td>2009</td>\n    </tr>\n    <tr>\n      <th>2</th>\n      <td>3</td>\n      <td>1997</td>\n    </tr>\n    <tr>\n      <th>3</th>\n      <td>4</td>\n      <td>2015</td>\n    </tr>\n    <tr>\n      <th>4</th>\n      <td>5</td>\n      <td>2018</td>\n    </tr>\n    <tr>\n      <th>...</th>\n      <td>...</td>\n      <td>...</td>\n    </tr>\n    <tr>\n      <th>777</th>\n      <td>778</td>\n      <td>2010</td>\n    </tr>\n    <tr>\n      <th>778</th>\n      <td>779</td>\n      <td>2004</td>\n    </tr>\n    <tr>\n      <th>779</th>\n      <td>780</td>\n      <td>2001</td>\n    </tr>\n    <tr>\n      <th>780</th>\n      <td>781</td>\n      <td>1990</td>\n    </tr>\n    <tr>\n      <th>781</th>\n      <td>782</td>\n      <td>2008</td>\n    </tr>\n  </tbody>\n</table>\n<p>782 rows × 2 columns</p>\n</div>"
     },
     "execution_count": 25,
     "metadata": {},
     "output_type": "execute_result"
    }
   ],
   "source": [
    "pd.read_csv(file2, usecols=['Rank', 'Year'])"
   ],
   "metadata": {
    "collapsed": false,
    "ExecuteTime": {
     "end_time": "2024-01-15T01:20:20.650485Z",
     "start_time": "2024-01-15T01:20:20.438525500Z"
    }
   },
   "id": "3c71b8ae7d58187e",
   "execution_count": 25
  },
  {
   "cell_type": "markdown",
   "source": [],
   "metadata": {
    "collapsed": false
   },
   "id": "5a283a5c194d6751"
  }
 ],
 "metadata": {
  "kernelspec": {
   "display_name": "Python 3 (ipykernel)",
   "language": "python",
   "name": "python3"
  },
  "language_info": {
   "codemirror_mode": {
    "name": "ipython",
    "version": 3
   },
   "file_extension": ".py",
   "mimetype": "text/x-python",
   "name": "python",
   "nbconvert_exporter": "python",
   "pygments_lexer": "ipython3",
   "version": "3.8.18"
  }
 },
 "nbformat": 4,
 "nbformat_minor": 5
}
