{
 "cells": [
  {
   "cell_type": "code",
   "execution_count": 21,
   "id": "initial_id",
   "metadata": {
    "collapsed": true,
    "ExecuteTime": {
     "end_time": "2024-01-15T12:40:04.749733600Z",
     "start_time": "2024-01-15T12:40:04.738483200Z"
    }
   },
   "outputs": [],
   "source": [
    "import pandas as pd"
   ]
  },
  {
   "cell_type": "code",
   "outputs": [
    {
     "data": {
      "text/plain": "                                              prizes\n0  {'year': '2019', 'category': 'chemistry', 'lau...\n1  {'year': '2019', 'category': 'economics', 'lau...\n2  {'year': '2019', 'category': 'literature', 'la...\n3  {'year': '2019', 'category': 'peace', 'laureat...\n4  {'year': '2019', 'category': 'physics', 'overa...",
      "text/html": "<div>\n<style scoped>\n    .dataframe tbody tr th:only-of-type {\n        vertical-align: middle;\n    }\n\n    .dataframe tbody tr th {\n        vertical-align: top;\n    }\n\n    .dataframe thead th {\n        text-align: right;\n    }\n</style>\n<table border=\"1\" class=\"dataframe\">\n  <thead>\n    <tr style=\"text-align: right;\">\n      <th></th>\n      <th>prizes</th>\n    </tr>\n  </thead>\n  <tbody>\n    <tr>\n      <th>0</th>\n      <td>{'year': '2019', 'category': 'chemistry', 'lau...</td>\n    </tr>\n    <tr>\n      <th>1</th>\n      <td>{'year': '2019', 'category': 'economics', 'lau...</td>\n    </tr>\n    <tr>\n      <th>2</th>\n      <td>{'year': '2019', 'category': 'literature', 'la...</td>\n    </tr>\n    <tr>\n      <th>3</th>\n      <td>{'year': '2019', 'category': 'peace', 'laureat...</td>\n    </tr>\n    <tr>\n      <th>4</th>\n      <td>{'year': '2019', 'category': 'physics', 'overa...</td>\n    </tr>\n  </tbody>\n</table>\n</div>"
     },
     "execution_count": 22,
     "metadata": {},
     "output_type": "execute_result"
    }
   ],
   "source": [
    "\n",
    "nobel = pd.read_json('../DATA/nobel.json')\n",
    "nobel.head()"
   ],
   "metadata": {
    "collapsed": false,
    "ExecuteTime": {
     "end_time": "2024-01-15T12:40:04.788951200Z",
     "start_time": "2024-01-15T12:40:04.750706400Z"
    }
   },
   "id": "4405729dd4fa2c6d",
   "execution_count": 22
  },
  {
   "cell_type": "code",
   "outputs": [
    {
     "data": {
      "text/plain": "{'year': '2019',\n 'category': 'literature',\n 'laureates': [{'id': '980',\n   'firstname': 'Peter',\n   'surname': 'Handke',\n   'motivation': '\"for an influential work that with linguistic ingenuity has explored the periphery and the specificity of human experience\"',\n   'share': '1'}]}"
     },
     "execution_count": 23,
     "metadata": {},
     "output_type": "execute_result"
    }
   ],
   "source": [
    "nobel.loc[2, 'prizes']"
   ],
   "metadata": {
    "collapsed": false,
    "ExecuteTime": {
     "end_time": "2024-01-15T12:40:04.802244900Z",
     "start_time": "2024-01-15T12:40:04.766648200Z"
    }
   },
   "id": "294fce8996b9c1b",
   "execution_count": 23
  },
  {
   "cell_type": "code",
   "outputs": [],
   "source": [
    "type(nobel.loc[2, 'prizes'])\n",
    "chemi = nobel.loc[0, 'prizes']"
   ],
   "metadata": {
    "collapsed": false,
    "ExecuteTime": {
     "end_time": "2024-01-15T12:40:04.830396100Z",
     "start_time": "2024-01-15T12:40:04.782839300Z"
    }
   },
   "id": "44312650e7cefc3b",
   "execution_count": 24
  },
  {
   "cell_type": "code",
   "outputs": [
    {
     "data": {
      "text/plain": "    id   firstname      surname  \\\n0  976        John   Goodenough   \n1  977  M. Stanley  Whittingham   \n2  978       Akira      Yoshino   \n\n                                       motivation share  \n0  \"for the development of lithium-ion batteries\"     3  \n1  \"for the development of lithium-ion batteries\"     3  \n2  \"for the development of lithium-ion batteries\"     3  ",
      "text/html": "<div>\n<style scoped>\n    .dataframe tbody tr th:only-of-type {\n        vertical-align: middle;\n    }\n\n    .dataframe tbody tr th {\n        vertical-align: top;\n    }\n\n    .dataframe thead th {\n        text-align: right;\n    }\n</style>\n<table border=\"1\" class=\"dataframe\">\n  <thead>\n    <tr style=\"text-align: right;\">\n      <th></th>\n      <th>id</th>\n      <th>firstname</th>\n      <th>surname</th>\n      <th>motivation</th>\n      <th>share</th>\n    </tr>\n  </thead>\n  <tbody>\n    <tr>\n      <th>0</th>\n      <td>976</td>\n      <td>John</td>\n      <td>Goodenough</td>\n      <td>\"for the development of lithium-ion batteries\"</td>\n      <td>3</td>\n    </tr>\n    <tr>\n      <th>1</th>\n      <td>977</td>\n      <td>M. Stanley</td>\n      <td>Whittingham</td>\n      <td>\"for the development of lithium-ion batteries\"</td>\n      <td>3</td>\n    </tr>\n    <tr>\n      <th>2</th>\n      <td>978</td>\n      <td>Akira</td>\n      <td>Yoshino</td>\n      <td>\"for the development of lithium-ion batteries\"</td>\n      <td>3</td>\n    </tr>\n  </tbody>\n</table>\n</div>"
     },
     "execution_count": 25,
     "metadata": {},
     "output_type": "execute_result"
    }
   ],
   "source": [
    "pd.json_normalize(data=chemi,record_path='laureates')"
   ],
   "metadata": {
    "collapsed": false,
    "ExecuteTime": {
     "end_time": "2024-01-15T12:40:04.844664600Z",
     "start_time": "2024-01-15T12:40:04.801201Z"
    }
   },
   "id": "9a7cca8beab159be",
   "execution_count": 25
  },
  {
   "cell_type": "code",
   "outputs": [
    {
     "data": {
      "text/plain": "    id   firstname      surname  \\\n0  976        John   Goodenough   \n1  977  M. Stanley  Whittingham   \n2  978       Akira      Yoshino   \n\n                                       motivation share  year   category  \n0  \"for the development of lithium-ion batteries\"     3  2019  chemistry  \n1  \"for the development of lithium-ion batteries\"     3  2019  chemistry  \n2  \"for the development of lithium-ion batteries\"     3  2019  chemistry  ",
      "text/html": "<div>\n<style scoped>\n    .dataframe tbody tr th:only-of-type {\n        vertical-align: middle;\n    }\n\n    .dataframe tbody tr th {\n        vertical-align: top;\n    }\n\n    .dataframe thead th {\n        text-align: right;\n    }\n</style>\n<table border=\"1\" class=\"dataframe\">\n  <thead>\n    <tr style=\"text-align: right;\">\n      <th></th>\n      <th>id</th>\n      <th>firstname</th>\n      <th>surname</th>\n      <th>motivation</th>\n      <th>share</th>\n      <th>year</th>\n      <th>category</th>\n    </tr>\n  </thead>\n  <tbody>\n    <tr>\n      <th>0</th>\n      <td>976</td>\n      <td>John</td>\n      <td>Goodenough</td>\n      <td>\"for the development of lithium-ion batteries\"</td>\n      <td>3</td>\n      <td>2019</td>\n      <td>chemistry</td>\n    </tr>\n    <tr>\n      <th>1</th>\n      <td>977</td>\n      <td>M. Stanley</td>\n      <td>Whittingham</td>\n      <td>\"for the development of lithium-ion batteries\"</td>\n      <td>3</td>\n      <td>2019</td>\n      <td>chemistry</td>\n    </tr>\n    <tr>\n      <th>2</th>\n      <td>978</td>\n      <td>Akira</td>\n      <td>Yoshino</td>\n      <td>\"for the development of lithium-ion batteries\"</td>\n      <td>3</td>\n      <td>2019</td>\n      <td>chemistry</td>\n    </tr>\n  </tbody>\n</table>\n</div>"
     },
     "execution_count": 26,
     "metadata": {},
     "output_type": "execute_result"
    }
   ],
   "source": [
    "pd.json_normalize(\n",
    "    data = chemi,\n",
    "    record_path='laureates',\n",
    "    meta = [\"year\", \"category\"]\n",
    ")"
   ],
   "metadata": {
    "collapsed": false,
    "ExecuteTime": {
     "end_time": "2024-01-15T12:40:04.844664600Z",
     "start_time": "2024-01-15T12:40:04.813450600Z"
    }
   },
   "id": "238b296b7a7de7ef",
   "execution_count": 26
  },
  {
   "cell_type": "code",
   "outputs": [
    {
     "data": {
      "text/plain": "57.9"
     },
     "execution_count": 27,
     "metadata": {},
     "output_type": "execute_result"
    }
   ],
   "source": [
    "cheese_consumption = {\n",
    "    \"France\": 57.9,\n",
    "    \"Germany\": 53.2,\n",
    "    \"Luxembourg\": 53.2\n",
    "}\n",
    "\n",
    "cheese_consumption.setdefault(\"France\", 100)"
   ],
   "metadata": {
    "collapsed": false,
    "ExecuteTime": {
     "end_time": "2024-01-15T12:40:04.860973800Z",
     "start_time": "2024-01-15T12:40:04.830396100Z"
    }
   },
   "id": "222269567762824b",
   "execution_count": 27
  },
  {
   "cell_type": "code",
   "outputs": [
    {
     "data": {
      "text/plain": "57.9"
     },
     "execution_count": 28,
     "metadata": {},
     "output_type": "execute_result"
    }
   ],
   "source": [
    "cheese_consumption['France']"
   ],
   "metadata": {
    "collapsed": false,
    "ExecuteTime": {
     "end_time": "2024-01-15T12:40:04.900138400Z",
     "start_time": "2024-01-15T12:40:04.844664600Z"
    }
   },
   "id": "485a6be5030d43dc",
   "execution_count": 28
  },
  {
   "cell_type": "code",
   "outputs": [
    {
     "data": {
      "text/plain": "48"
     },
     "execution_count": 29,
     "metadata": {},
     "output_type": "execute_result"
    }
   ],
   "source": [
    "cheese_consumption.setdefault('Italy', \n",
    "                              48)"
   ],
   "metadata": {
    "collapsed": false,
    "ExecuteTime": {
     "end_time": "2024-01-15T12:40:04.923710600Z",
     "start_time": "2024-01-15T12:40:04.859960900Z"
    }
   },
   "id": "617689d60affa1f3",
   "execution_count": 29
  },
  {
   "cell_type": "code",
   "outputs": [
    {
     "data": {
      "text/plain": "{'France': 57.9, 'Germany': 53.2, 'Luxembourg': 53.2, 'Italy': 48}"
     },
     "execution_count": 30,
     "metadata": {},
     "output_type": "execute_result"
    }
   ],
   "source": [
    "cheese_consumption"
   ],
   "metadata": {
    "collapsed": false,
    "ExecuteTime": {
     "end_time": "2024-01-15T12:40:04.952153100Z",
     "start_time": "2024-01-15T12:40:04.875222300Z"
    }
   },
   "id": "23d952a19ecb7cf1",
   "execution_count": 30
  },
  {
   "cell_type": "code",
   "outputs": [
    {
     "ename": "KeyError",
     "evalue": "\"Key 'laureates' not found. If specifying a record_path, all elements of data should have the path.\"",
     "output_type": "error",
     "traceback": [
      "\u001B[1;31m---------------------------------------------------------------------------\u001B[0m",
      "\u001B[1;31mKeyError\u001B[0m                                  Traceback (most recent call last)",
      "File \u001B[1;32m~\\PycharmProjects\\PandasPractice\\.venv\\lib\\site-packages\\pandas\\io\\json\\_normalize.py:398\u001B[0m, in \u001B[0;36mjson_normalize.<locals>._pull_field\u001B[1;34m(js, spec, extract_record)\u001B[0m\n\u001B[0;32m    397\u001B[0m     \u001B[38;5;28;01melse\u001B[39;00m:\n\u001B[1;32m--> 398\u001B[0m         result \u001B[38;5;241m=\u001B[39m \u001B[43mresult\u001B[49m\u001B[43m[\u001B[49m\u001B[43mspec\u001B[49m\u001B[43m]\u001B[49m\n\u001B[0;32m    399\u001B[0m \u001B[38;5;28;01mexcept\u001B[39;00m \u001B[38;5;167;01mKeyError\u001B[39;00m \u001B[38;5;28;01mas\u001B[39;00m e:\n",
      "\u001B[1;31mKeyError\u001B[0m: 'laureates'",
      "\nThe above exception was the direct cause of the following exception:\n",
      "\u001B[1;31mKeyError\u001B[0m                                  Traceback (most recent call last)",
      "Cell \u001B[1;32mIn[31], line 1\u001B[0m\n\u001B[1;32m----> 1\u001B[0m \u001B[43mpd\u001B[49m\u001B[38;5;241;43m.\u001B[39;49m\u001B[43mjson_normalize\u001B[49m\u001B[43m(\u001B[49m\n\u001B[0;32m      2\u001B[0m \u001B[43m    \u001B[49m\u001B[43mdata\u001B[49m\u001B[43m \u001B[49m\u001B[38;5;241;43m=\u001B[39;49m\u001B[43m \u001B[49m\u001B[43mnobel\u001B[49m\u001B[43m[\u001B[49m\u001B[38;5;124;43m\"\u001B[39;49m\u001B[38;5;124;43mprizes\u001B[39;49m\u001B[38;5;124;43m\"\u001B[39;49m\u001B[43m]\u001B[49m\u001B[43m,\u001B[49m\n\u001B[0;32m      3\u001B[0m \u001B[43m    \u001B[49m\u001B[43mrecord_path\u001B[49m\u001B[43m \u001B[49m\u001B[38;5;241;43m=\u001B[39;49m\u001B[43m \u001B[49m\u001B[38;5;124;43m\"\u001B[39;49m\u001B[38;5;124;43mlaureates\u001B[39;49m\u001B[38;5;124;43m\"\u001B[39;49m\u001B[43m,\u001B[49m\n\u001B[0;32m      4\u001B[0m \u001B[43m    \u001B[49m\u001B[43mmeta\u001B[49m\u001B[43m \u001B[49m\u001B[38;5;241;43m=\u001B[39;49m\u001B[43m \u001B[49m\u001B[43m[\u001B[49m\u001B[38;5;124;43m\"\u001B[39;49m\u001B[38;5;124;43myear\u001B[39;49m\u001B[38;5;124;43m\"\u001B[39;49m\u001B[43m,\u001B[49m\u001B[43m \u001B[49m\u001B[38;5;124;43m\"\u001B[39;49m\u001B[38;5;124;43mcategory\u001B[39;49m\u001B[38;5;124;43m\"\u001B[39;49m\u001B[43m]\u001B[49m\n\u001B[0;32m      5\u001B[0m \u001B[43m)\u001B[49m\n",
      "File \u001B[1;32m~\\PycharmProjects\\PandasPractice\\.venv\\lib\\site-packages\\pandas\\io\\json\\_normalize.py:517\u001B[0m, in \u001B[0;36mjson_normalize\u001B[1;34m(data, record_path, meta, meta_prefix, record_prefix, errors, sep, max_level)\u001B[0m\n\u001B[0;32m    514\u001B[0m                 meta_vals[key]\u001B[38;5;241m.\u001B[39mappend(meta_val)\n\u001B[0;32m    515\u001B[0m             records\u001B[38;5;241m.\u001B[39mextend(recs)\n\u001B[1;32m--> 517\u001B[0m \u001B[43m_recursive_extract\u001B[49m\u001B[43m(\u001B[49m\u001B[43mdata\u001B[49m\u001B[43m,\u001B[49m\u001B[43m \u001B[49m\u001B[43mrecord_path\u001B[49m\u001B[43m,\u001B[49m\u001B[43m \u001B[49m\u001B[43m{\u001B[49m\u001B[43m}\u001B[49m\u001B[43m,\u001B[49m\u001B[43m \u001B[49m\u001B[43mlevel\u001B[49m\u001B[38;5;241;43m=\u001B[39;49m\u001B[38;5;241;43m0\u001B[39;49m\u001B[43m)\u001B[49m\n\u001B[0;32m    519\u001B[0m result \u001B[38;5;241m=\u001B[39m DataFrame(records)\n\u001B[0;32m    521\u001B[0m \u001B[38;5;28;01mif\u001B[39;00m record_prefix \u001B[38;5;129;01mis\u001B[39;00m \u001B[38;5;129;01mnot\u001B[39;00m \u001B[38;5;28;01mNone\u001B[39;00m:\n",
      "File \u001B[1;32m~\\PycharmProjects\\PandasPractice\\.venv\\lib\\site-packages\\pandas\\io\\json\\_normalize.py:499\u001B[0m, in \u001B[0;36mjson_normalize.<locals>._recursive_extract\u001B[1;34m(data, path, seen_meta, level)\u001B[0m\n\u001B[0;32m    497\u001B[0m \u001B[38;5;28;01melse\u001B[39;00m:\n\u001B[0;32m    498\u001B[0m     \u001B[38;5;28;01mfor\u001B[39;00m obj \u001B[38;5;129;01min\u001B[39;00m data:\n\u001B[1;32m--> 499\u001B[0m         recs \u001B[38;5;241m=\u001B[39m \u001B[43m_pull_records\u001B[49m\u001B[43m(\u001B[49m\u001B[43mobj\u001B[49m\u001B[43m,\u001B[49m\u001B[43m \u001B[49m\u001B[43mpath\u001B[49m\u001B[43m[\u001B[49m\u001B[38;5;241;43m0\u001B[39;49m\u001B[43m]\u001B[49m\u001B[43m)\u001B[49m\n\u001B[0;32m    500\u001B[0m         recs \u001B[38;5;241m=\u001B[39m [\n\u001B[0;32m    501\u001B[0m             nested_to_record(r, sep\u001B[38;5;241m=\u001B[39msep, max_level\u001B[38;5;241m=\u001B[39mmax_level)\n\u001B[0;32m    502\u001B[0m             \u001B[38;5;28;01mif\u001B[39;00m \u001B[38;5;28misinstance\u001B[39m(r, \u001B[38;5;28mdict\u001B[39m)\n\u001B[0;32m    503\u001B[0m             \u001B[38;5;28;01melse\u001B[39;00m r\n\u001B[0;32m    504\u001B[0m             \u001B[38;5;28;01mfor\u001B[39;00m r \u001B[38;5;129;01min\u001B[39;00m recs\n\u001B[0;32m    505\u001B[0m         ]\n\u001B[0;32m    507\u001B[0m         \u001B[38;5;66;03m# For repeating the metadata later\u001B[39;00m\n",
      "File \u001B[1;32m~\\PycharmProjects\\PandasPractice\\.venv\\lib\\site-packages\\pandas\\io\\json\\_normalize.py:421\u001B[0m, in \u001B[0;36mjson_normalize.<locals>._pull_records\u001B[1;34m(js, spec)\u001B[0m\n\u001B[0;32m    415\u001B[0m \u001B[38;5;28;01mdef\u001B[39;00m \u001B[38;5;21m_pull_records\u001B[39m(js: \u001B[38;5;28mdict\u001B[39m[\u001B[38;5;28mstr\u001B[39m, Any], spec: \u001B[38;5;28mlist\u001B[39m \u001B[38;5;241m|\u001B[39m \u001B[38;5;28mstr\u001B[39m) \u001B[38;5;241m-\u001B[39m\u001B[38;5;241m>\u001B[39m \u001B[38;5;28mlist\u001B[39m:\n\u001B[0;32m    416\u001B[0m \u001B[38;5;250m    \u001B[39m\u001B[38;5;124;03m\"\"\"\u001B[39;00m\n\u001B[0;32m    417\u001B[0m \u001B[38;5;124;03m    Internal function to pull field for records, and similar to\u001B[39;00m\n\u001B[0;32m    418\u001B[0m \u001B[38;5;124;03m    _pull_field, but require to return list. And will raise error\u001B[39;00m\n\u001B[0;32m    419\u001B[0m \u001B[38;5;124;03m    if has non iterable value.\u001B[39;00m\n\u001B[0;32m    420\u001B[0m \u001B[38;5;124;03m    \"\"\"\u001B[39;00m\n\u001B[1;32m--> 421\u001B[0m     result \u001B[38;5;241m=\u001B[39m \u001B[43m_pull_field\u001B[49m\u001B[43m(\u001B[49m\u001B[43mjs\u001B[49m\u001B[43m,\u001B[49m\u001B[43m \u001B[49m\u001B[43mspec\u001B[49m\u001B[43m,\u001B[49m\u001B[43m \u001B[49m\u001B[43mextract_record\u001B[49m\u001B[38;5;241;43m=\u001B[39;49m\u001B[38;5;28;43;01mTrue\u001B[39;49;00m\u001B[43m)\u001B[49m\n\u001B[0;32m    423\u001B[0m     \u001B[38;5;66;03m# GH 31507 GH 30145, GH 26284 if result is not list, raise TypeError if not\u001B[39;00m\n\u001B[0;32m    424\u001B[0m     \u001B[38;5;66;03m# null, otherwise return an empty list\u001B[39;00m\n\u001B[0;32m    425\u001B[0m     \u001B[38;5;28;01mif\u001B[39;00m \u001B[38;5;129;01mnot\u001B[39;00m \u001B[38;5;28misinstance\u001B[39m(result, \u001B[38;5;28mlist\u001B[39m):\n",
      "File \u001B[1;32m~\\PycharmProjects\\PandasPractice\\.venv\\lib\\site-packages\\pandas\\io\\json\\_normalize.py:401\u001B[0m, in \u001B[0;36mjson_normalize.<locals>._pull_field\u001B[1;34m(js, spec, extract_record)\u001B[0m\n\u001B[0;32m    399\u001B[0m \u001B[38;5;28;01mexcept\u001B[39;00m \u001B[38;5;167;01mKeyError\u001B[39;00m \u001B[38;5;28;01mas\u001B[39;00m e:\n\u001B[0;32m    400\u001B[0m     \u001B[38;5;28;01mif\u001B[39;00m extract_record:\n\u001B[1;32m--> 401\u001B[0m         \u001B[38;5;28;01mraise\u001B[39;00m \u001B[38;5;167;01mKeyError\u001B[39;00m(\n\u001B[0;32m    402\u001B[0m             \u001B[38;5;124mf\u001B[39m\u001B[38;5;124m\"\u001B[39m\u001B[38;5;124mKey \u001B[39m\u001B[38;5;132;01m{\u001B[39;00me\u001B[38;5;132;01m}\u001B[39;00m\u001B[38;5;124m not found. If specifying a record_path, all elements of \u001B[39m\u001B[38;5;124m\"\u001B[39m\n\u001B[0;32m    403\u001B[0m             \u001B[38;5;124mf\u001B[39m\u001B[38;5;124m\"\u001B[39m\u001B[38;5;124mdata should have the path.\u001B[39m\u001B[38;5;124m\"\u001B[39m\n\u001B[0;32m    404\u001B[0m         ) \u001B[38;5;28;01mfrom\u001B[39;00m \u001B[38;5;21;01me\u001B[39;00m\n\u001B[0;32m    405\u001B[0m     \u001B[38;5;28;01mif\u001B[39;00m errors \u001B[38;5;241m==\u001B[39m \u001B[38;5;124m\"\u001B[39m\u001B[38;5;124mignore\u001B[39m\u001B[38;5;124m\"\u001B[39m:\n\u001B[0;32m    406\u001B[0m         \u001B[38;5;28;01mreturn\u001B[39;00m np\u001B[38;5;241m.\u001B[39mnan\n",
      "\u001B[1;31mKeyError\u001B[0m: \"Key 'laureates' not found. If specifying a record_path, all elements of data should have the path.\""
     ]
    }
   ],
   "source": [],
   "metadata": {
    "collapsed": false,
    "ExecuteTime": {
     "end_time": "2024-01-15T12:40:04.966106400Z",
     "start_time": "2024-01-15T12:40:04.896157900Z"
    }
   },
   "id": "698d69165cda6097",
   "execution_count": 31
  },
  {
   "cell_type": "code",
   "outputs": [],
   "source": [
    "def add_key(entry):\n",
    "    entry.setdefault(\"laureates\", [])"
   ],
   "metadata": {
    "collapsed": false,
    "ExecuteTime": {
     "end_time": "2024-01-15T12:40:36.918587500Z",
     "start_time": "2024-01-15T12:40:36.907335900Z"
    }
   },
   "id": "9b4907ba019603da",
   "execution_count": 32
  },
  {
   "cell_type": "code",
   "outputs": [
    {
     "data": {
      "text/plain": "0      None\n1      None\n2      None\n3      None\n4      None\n       ... \n641    None\n642    None\n643    None\n644    None\n645    None\nName: prizes, Length: 646, dtype: object"
     },
     "execution_count": 33,
     "metadata": {},
     "output_type": "execute_result"
    }
   ],
   "source": [
    "nobel[\"prizes\"].apply(add_key)"
   ],
   "metadata": {
    "collapsed": false,
    "ExecuteTime": {
     "end_time": "2024-01-15T12:40:37.106496500Z",
     "start_time": "2024-01-15T12:40:37.095212300Z"
    }
   },
   "id": "d5f13b8f76e6afab",
   "execution_count": 33
  },
  {
   "cell_type": "code",
   "outputs": [],
   "source": [
    "winners = pd.json_normalize(\n",
    "    data = nobel[\"prizes\"],\n",
    "    record_path = \"laureates\",\n",
    "    meta = [\"year\", \"category\"]\n",
    ")\n"
   ],
   "metadata": {
    "collapsed": false,
    "ExecuteTime": {
     "end_time": "2024-01-15T12:40:37.274312700Z",
     "start_time": "2024-01-15T12:40:37.247832200Z"
    }
   },
   "id": "aa2653fa6f09d1ab",
   "execution_count": 34
  },
  {
   "cell_type": "code",
   "outputs": [
    {
     "data": {
      "text/plain": "      id       firstname      surname  \\\n0    976            John   Goodenough   \n1    977      M. Stanley  Whittingham   \n2    978           Akira      Yoshino   \n3    982         Abhijit     Banerjee   \n4    983          Esther        Duflo   \n..   ...             ...          ...   \n945  569           Sully    Prudhomme   \n946  462           Henry       Dunant   \n947  463        Frédéric        Passy   \n948    1  Wilhelm Conrad      Röntgen   \n949  293            Emil  von Behring   \n\n                                            motivation share  year    category  \n0       \"for the development of lithium-ion batteries\"     3  2019   chemistry  \n1       \"for the development of lithium-ion batteries\"     3  2019   chemistry  \n2       \"for the development of lithium-ion batteries\"     3  2019   chemistry  \n3    \"for their experimental approach to alleviatin...     3  2019   economics  \n4    \"for their experimental approach to alleviatin...     3  2019   economics  \n..                                                 ...   ...   ...         ...  \n945  \"in special recognition of his poetic composit...     1  1901  literature  \n946  \"for his humanitarian efforts to help wounded ...     2  1901       peace  \n947  \"for his lifelong work for international peace...     2  1901       peace  \n948  \"in recognition of the extraordinary services ...     1  1901     physics  \n949  \"for his work on serum therapy, especially its...     1  1901    medicine  \n\n[950 rows x 7 columns]",
      "text/html": "<div>\n<style scoped>\n    .dataframe tbody tr th:only-of-type {\n        vertical-align: middle;\n    }\n\n    .dataframe tbody tr th {\n        vertical-align: top;\n    }\n\n    .dataframe thead th {\n        text-align: right;\n    }\n</style>\n<table border=\"1\" class=\"dataframe\">\n  <thead>\n    <tr style=\"text-align: right;\">\n      <th></th>\n      <th>id</th>\n      <th>firstname</th>\n      <th>surname</th>\n      <th>motivation</th>\n      <th>share</th>\n      <th>year</th>\n      <th>category</th>\n    </tr>\n  </thead>\n  <tbody>\n    <tr>\n      <th>0</th>\n      <td>976</td>\n      <td>John</td>\n      <td>Goodenough</td>\n      <td>\"for the development of lithium-ion batteries\"</td>\n      <td>3</td>\n      <td>2019</td>\n      <td>chemistry</td>\n    </tr>\n    <tr>\n      <th>1</th>\n      <td>977</td>\n      <td>M. Stanley</td>\n      <td>Whittingham</td>\n      <td>\"for the development of lithium-ion batteries\"</td>\n      <td>3</td>\n      <td>2019</td>\n      <td>chemistry</td>\n    </tr>\n    <tr>\n      <th>2</th>\n      <td>978</td>\n      <td>Akira</td>\n      <td>Yoshino</td>\n      <td>\"for the development of lithium-ion batteries\"</td>\n      <td>3</td>\n      <td>2019</td>\n      <td>chemistry</td>\n    </tr>\n    <tr>\n      <th>3</th>\n      <td>982</td>\n      <td>Abhijit</td>\n      <td>Banerjee</td>\n      <td>\"for their experimental approach to alleviatin...</td>\n      <td>3</td>\n      <td>2019</td>\n      <td>economics</td>\n    </tr>\n    <tr>\n      <th>4</th>\n      <td>983</td>\n      <td>Esther</td>\n      <td>Duflo</td>\n      <td>\"for their experimental approach to alleviatin...</td>\n      <td>3</td>\n      <td>2019</td>\n      <td>economics</td>\n    </tr>\n    <tr>\n      <th>...</th>\n      <td>...</td>\n      <td>...</td>\n      <td>...</td>\n      <td>...</td>\n      <td>...</td>\n      <td>...</td>\n      <td>...</td>\n    </tr>\n    <tr>\n      <th>945</th>\n      <td>569</td>\n      <td>Sully</td>\n      <td>Prudhomme</td>\n      <td>\"in special recognition of his poetic composit...</td>\n      <td>1</td>\n      <td>1901</td>\n      <td>literature</td>\n    </tr>\n    <tr>\n      <th>946</th>\n      <td>462</td>\n      <td>Henry</td>\n      <td>Dunant</td>\n      <td>\"for his humanitarian efforts to help wounded ...</td>\n      <td>2</td>\n      <td>1901</td>\n      <td>peace</td>\n    </tr>\n    <tr>\n      <th>947</th>\n      <td>463</td>\n      <td>Frédéric</td>\n      <td>Passy</td>\n      <td>\"for his lifelong work for international peace...</td>\n      <td>2</td>\n      <td>1901</td>\n      <td>peace</td>\n    </tr>\n    <tr>\n      <th>948</th>\n      <td>1</td>\n      <td>Wilhelm Conrad</td>\n      <td>Röntgen</td>\n      <td>\"in recognition of the extraordinary services ...</td>\n      <td>1</td>\n      <td>1901</td>\n      <td>physics</td>\n    </tr>\n    <tr>\n      <th>949</th>\n      <td>293</td>\n      <td>Emil</td>\n      <td>von Behring</td>\n      <td>\"for his work on serum therapy, especially its...</td>\n      <td>1</td>\n      <td>1901</td>\n      <td>medicine</td>\n    </tr>\n  </tbody>\n</table>\n<p>950 rows × 7 columns</p>\n</div>"
     },
     "execution_count": 35,
     "metadata": {},
     "output_type": "execute_result"
    }
   ],
   "source": [
    "winners"
   ],
   "metadata": {
    "collapsed": false,
    "ExecuteTime": {
     "end_time": "2024-01-15T12:40:38.281156400Z",
     "start_time": "2024-01-15T12:40:38.263398300Z"
    }
   },
   "id": "5d0b774268680586",
   "execution_count": 35
  },
  {
   "cell_type": "code",
   "outputs": [
    {
     "data": {
      "text/plain": "    id   firstname      surname  \\\n0  976        John   Goodenough   \n1  977  M. Stanley  Whittingham   \n\n                                       motivation share  year   category  \n0  \"for the development of lithium-ion batteries\"     3  2019  chemistry  \n1  \"for the development of lithium-ion batteries\"     3  2019  chemistry  ",
      "text/html": "<div>\n<style scoped>\n    .dataframe tbody tr th:only-of-type {\n        vertical-align: middle;\n    }\n\n    .dataframe tbody tr th {\n        vertical-align: top;\n    }\n\n    .dataframe thead th {\n        text-align: right;\n    }\n</style>\n<table border=\"1\" class=\"dataframe\">\n  <thead>\n    <tr style=\"text-align: right;\">\n      <th></th>\n      <th>id</th>\n      <th>firstname</th>\n      <th>surname</th>\n      <th>motivation</th>\n      <th>share</th>\n      <th>year</th>\n      <th>category</th>\n    </tr>\n  </thead>\n  <tbody>\n    <tr>\n      <th>0</th>\n      <td>976</td>\n      <td>John</td>\n      <td>Goodenough</td>\n      <td>\"for the development of lithium-ion batteries\"</td>\n      <td>3</td>\n      <td>2019</td>\n      <td>chemistry</td>\n    </tr>\n    <tr>\n      <th>1</th>\n      <td>977</td>\n      <td>M. Stanley</td>\n      <td>Whittingham</td>\n      <td>\"for the development of lithium-ion batteries\"</td>\n      <td>3</td>\n      <td>2019</td>\n      <td>chemistry</td>\n    </tr>\n  </tbody>\n</table>\n</div>"
     },
     "execution_count": 36,
     "metadata": {},
     "output_type": "execute_result"
    }
   ],
   "source": [
    "winners.head(2)"
   ],
   "metadata": {
    "collapsed": false,
    "ExecuteTime": {
     "end_time": "2024-01-15T12:40:47.389422700Z",
     "start_time": "2024-01-15T12:40:47.373028700Z"
    }
   },
   "id": "4cb15d6d11ecc7b5",
   "execution_count": 36
  },
  {
   "cell_type": "code",
   "outputs": [
    {
     "data": {
      "text/plain": "'[{\"id\":\"976\",\"firstname\":\"John\",\"surname\":\"Goodenough\",\"motivation\":\"\\\\\"for the development of lithium-ion batteries\\\\\"\",\"share\":\"3\",\"year\":\"2019\",\"category\":\"chemistry\"},{\"id\":\"977\",\"firstname\":\"M. Stanley\",\"surname\":\"Whittingham\",\"motivation\":\"\\\\\"for the development of lithium-ion batteries\\\\\"\",\"share\":\"3\",\"year\":\"2019\",\"category\":\"chemistry\"}]'"
     },
     "execution_count": 37,
     "metadata": {},
     "output_type": "execute_result"
    }
   ],
   "source": [
    "winners.head(2).to_json(orient='records')"
   ],
   "metadata": {
    "collapsed": false,
    "ExecuteTime": {
     "end_time": "2024-01-15T12:41:06.221035400Z",
     "start_time": "2024-01-15T12:41:06.201688900Z"
    }
   },
   "id": "8c986f9324f398ab",
   "execution_count": 37
  },
  {
   "cell_type": "code",
   "outputs": [
    {
     "data": {
      "text/plain": "'{\"columns\":[\"id\",\"firstname\",\"surname\",\"motivation\",\"share\",\"year\",\"category\"],\"index\":[0,1],\"data\":[[\"976\",\"John\",\"Goodenough\",\"\\\\\"for the development of lithium-ion batteries\\\\\"\",\"3\",\"2019\",\"chemistry\"],[\"977\",\"M. Stanley\",\"Whittingham\",\"\\\\\"for the development of lithium-ion batteries\\\\\"\",\"3\",\"2019\",\"chemistry\"]]}'"
     },
     "execution_count": 38,
     "metadata": {},
     "output_type": "execute_result"
    }
   ],
   "source": [
    "winners.head(2).to_json(orient='split')"
   ],
   "metadata": {
    "collapsed": false,
    "ExecuteTime": {
     "end_time": "2024-01-15T12:41:20.431304300Z",
     "start_time": "2024-01-15T12:41:20.406885Z"
    }
   },
   "id": "7e5e339f20320713",
   "execution_count": 38
  },
  {
   "cell_type": "code",
   "outputs": [
    {
     "data": {
      "text/plain": "   Year of Birth  Gender Ethnicity Child's First Name  Count  Rank\n0           2011  FEMALE  HISPANIC          GERALDINE     13    75\n1           2011  FEMALE  HISPANIC                GIA     21    67\n2           2011  FEMALE  HISPANIC             GIANNA     49    42\n3           2011  FEMALE  HISPANIC            GISELLE     38    51\n4           2011  FEMALE  HISPANIC              GRACE     36    53",
      "text/html": "<div>\n<style scoped>\n    .dataframe tbody tr th:only-of-type {\n        vertical-align: middle;\n    }\n\n    .dataframe tbody tr th {\n        vertical-align: top;\n    }\n\n    .dataframe thead th {\n        text-align: right;\n    }\n</style>\n<table border=\"1\" class=\"dataframe\">\n  <thead>\n    <tr style=\"text-align: right;\">\n      <th></th>\n      <th>Year of Birth</th>\n      <th>Gender</th>\n      <th>Ethnicity</th>\n      <th>Child's First Name</th>\n      <th>Count</th>\n      <th>Rank</th>\n    </tr>\n  </thead>\n  <tbody>\n    <tr>\n      <th>0</th>\n      <td>2011</td>\n      <td>FEMALE</td>\n      <td>HISPANIC</td>\n      <td>GERALDINE</td>\n      <td>13</td>\n      <td>75</td>\n    </tr>\n    <tr>\n      <th>1</th>\n      <td>2011</td>\n      <td>FEMALE</td>\n      <td>HISPANIC</td>\n      <td>GIA</td>\n      <td>21</td>\n      <td>67</td>\n    </tr>\n    <tr>\n      <th>2</th>\n      <td>2011</td>\n      <td>FEMALE</td>\n      <td>HISPANIC</td>\n      <td>GIANNA</td>\n      <td>49</td>\n      <td>42</td>\n    </tr>\n    <tr>\n      <th>3</th>\n      <td>2011</td>\n      <td>FEMALE</td>\n      <td>HISPANIC</td>\n      <td>GISELLE</td>\n      <td>38</td>\n      <td>51</td>\n    </tr>\n    <tr>\n      <th>4</th>\n      <td>2011</td>\n      <td>FEMALE</td>\n      <td>HISPANIC</td>\n      <td>GRACE</td>\n      <td>36</td>\n      <td>53</td>\n    </tr>\n  </tbody>\n</table>\n</div>"
     },
     "execution_count": 39,
     "metadata": {},
     "output_type": "execute_result"
    }
   ],
   "source": [
    "url = \"https://data.cityofnewyork.us/api/views/25th-nujf/rows.csv\"\n",
    "baby_names = pd.read_csv(url)\n",
    "baby_names.head()"
   ],
   "metadata": {
    "collapsed": false,
    "ExecuteTime": {
     "end_time": "2024-01-15T12:41:45.502287300Z",
     "start_time": "2024-01-15T12:41:39.993742900Z"
    }
   },
   "id": "eb73ac2859efc5df",
   "execution_count": 39
  },
  {
   "cell_type": "code",
   "outputs": [
    {
     "data": {
      "text/plain": "\",Year of Birth,Gender,Ethnicity,Child's First Name,Count,Rank\\r\\n0,2011,FEMALE,HISPANIC,GERALDINE,13,75\\r\\n1,2011,FEMALE,HISPANIC,GIA,21,67\\r\\n2,2011,FEMALE,HISPANIC,GIANNA,49,42\\r\\n3,2011,FEMALE,HISPANIC,GISELLE,38,51\\r\\n4,2011,FEMALE,HISPANIC,GRACE,36,53\\r\\n5,2011,FEMALE,HISPANIC,GUADALUPE,26,62\\r\\n6,2011,FEMALE,HISPANIC,HAILEY,126,8\\r\\n7,2011,FEMALE,HISPANIC,HALEY,14,74\\r\\n8,2011,FEMALE,HISPANIC,HANNAH,17,71\\r\\n9,2011,FEMALE,HISPANIC,HAYLEE,17,71\\r\\n\""
     },
     "execution_count": 40,
     "metadata": {},
     "output_type": "execute_result"
    }
   ],
   "source": [
    "baby_names.head(10).to_csv()\n"
   ],
   "metadata": {
    "collapsed": false,
    "ExecuteTime": {
     "end_time": "2024-01-15T12:41:52.199785700Z",
     "start_time": "2024-01-15T12:41:52.189273900Z"
    }
   },
   "id": "769737cde908d2f0",
   "execution_count": 40
  },
  {
   "cell_type": "code",
   "outputs": [
    {
     "data": {
      "text/plain": "\"Year of Birth,Gender,Ethnicity,Child's First Name,Count,Rank\\r\\n2011,FEMALE,HISPANIC,GERALDINE,13,75\\r\\n2011,FEMALE,HISPANIC,GIA,21,67\\r\\n2011,FEMALE,HISPANIC,GIANNA,49,42\\r\\n2011,FEMALE,HISPANIC,GISELLE,38,51\\r\\n2011,FEMALE,HISPANIC,GRACE,36,53\\r\\n2011,FEMALE,HISPANIC,GUADALUPE,26,62\\r\\n2011,FEMALE,HISPANIC,HAILEY,126,8\\r\\n2011,FEMALE,HISPANIC,HALEY,14,74\\r\\n2011,FEMALE,HISPANIC,HANNAH,17,71\\r\\n2011,FEMALE,HISPANIC,HAYLEE,17,71\\r\\n\""
     },
     "execution_count": 41,
     "metadata": {},
     "output_type": "execute_result"
    }
   ],
   "source": [
    "baby_names.head(10).to_csv(index = False)\n"
   ],
   "metadata": {
    "collapsed": false,
    "ExecuteTime": {
     "end_time": "2024-01-15T12:42:05.092603700Z",
     "start_time": "2024-01-15T12:42:05.071670900Z"
    }
   },
   "id": "ed99890c75518a97",
   "execution_count": 41
  },
  {
   "cell_type": "code",
   "outputs": [
    {
     "data": {
      "text/plain": "  First Name Last Name           City Gender\n0    Brandon     James          Miami      M\n1       Sean   Hawkins         Denver      M\n2       Judy       Day    Los Angeles      F\n3     Ashley      Ruiz  San Francisco      F\n4  Stephanie     Gomez       Portland      F",
      "text/html": "<div>\n<style scoped>\n    .dataframe tbody tr th:only-of-type {\n        vertical-align: middle;\n    }\n\n    .dataframe tbody tr th {\n        vertical-align: top;\n    }\n\n    .dataframe thead th {\n        text-align: right;\n    }\n</style>\n<table border=\"1\" class=\"dataframe\">\n  <thead>\n    <tr style=\"text-align: right;\">\n      <th></th>\n      <th>First Name</th>\n      <th>Last Name</th>\n      <th>City</th>\n      <th>Gender</th>\n    </tr>\n  </thead>\n  <tbody>\n    <tr>\n      <th>0</th>\n      <td>Brandon</td>\n      <td>James</td>\n      <td>Miami</td>\n      <td>M</td>\n    </tr>\n    <tr>\n      <th>1</th>\n      <td>Sean</td>\n      <td>Hawkins</td>\n      <td>Denver</td>\n      <td>M</td>\n    </tr>\n    <tr>\n      <th>2</th>\n      <td>Judy</td>\n      <td>Day</td>\n      <td>Los Angeles</td>\n      <td>F</td>\n    </tr>\n    <tr>\n      <th>3</th>\n      <td>Ashley</td>\n      <td>Ruiz</td>\n      <td>San Francisco</td>\n      <td>F</td>\n    </tr>\n    <tr>\n      <th>4</th>\n      <td>Stephanie</td>\n      <td>Gomez</td>\n      <td>Portland</td>\n      <td>F</td>\n    </tr>\n  </tbody>\n</table>\n</div>"
     },
     "execution_count": 42,
     "metadata": {},
     "output_type": "execute_result"
    }
   ],
   "source": [
    "pd.read_excel(\"../DATA/Single Worksheet.xlsx\")"
   ],
   "metadata": {
    "collapsed": false,
    "ExecuteTime": {
     "end_time": "2024-01-15T12:42:42.693246Z",
     "start_time": "2024-01-15T12:42:42.514491400Z"
    }
   },
   "id": "d3584144f67313fe",
   "execution_count": 42
  },
  {
   "cell_type": "code",
   "outputs": [
    {
     "data": {
      "text/plain": "              Last Name\nCity                   \nMiami             James\nDenver          Hawkins\nLos Angeles         Day\nSan Francisco      Ruiz\nPortland          Gomez",
      "text/html": "<div>\n<style scoped>\n    .dataframe tbody tr th:only-of-type {\n        vertical-align: middle;\n    }\n\n    .dataframe tbody tr th {\n        vertical-align: top;\n    }\n\n    .dataframe thead th {\n        text-align: right;\n    }\n</style>\n<table border=\"1\" class=\"dataframe\">\n  <thead>\n    <tr style=\"text-align: right;\">\n      <th></th>\n      <th>Last Name</th>\n    </tr>\n    <tr>\n      <th>City</th>\n      <th></th>\n    </tr>\n  </thead>\n  <tbody>\n    <tr>\n      <th>Miami</th>\n      <td>James</td>\n    </tr>\n    <tr>\n      <th>Denver</th>\n      <td>Hawkins</td>\n    </tr>\n    <tr>\n      <th>Los Angeles</th>\n      <td>Day</td>\n    </tr>\n    <tr>\n      <th>San Francisco</th>\n      <td>Ruiz</td>\n    </tr>\n    <tr>\n      <th>Portland</th>\n      <td>Gomez</td>\n    </tr>\n  </tbody>\n</table>\n</div>"
     },
     "execution_count": 44,
     "metadata": {},
     "output_type": "execute_result"
    }
   ],
   "source": [
    "pd.read_excel(\n",
    "    \"../DATA/Single Worksheet.xlsx\",\n",
    "    usecols= [\"City\", \"Last Name\"],\n",
    "    index_col= \"City\"\n",
    ")"
   ],
   "metadata": {
    "collapsed": false,
    "ExecuteTime": {
     "end_time": "2024-01-15T12:43:24.114111400Z",
     "start_time": "2024-01-15T12:43:24.098328900Z"
    }
   },
   "id": "9bc63abbd8a47c02",
   "execution_count": 44
  },
  {
   "cell_type": "code",
   "outputs": [
    {
     "data": {
      "text/plain": "  First Name  Last Name     City Gender\n0     Robert     Miller  Seattle      M\n1       Tara     Garcia  Phoenix      F\n2    Raphael  Rodriguez  Orlando      M",
      "text/html": "<div>\n<style scoped>\n    .dataframe tbody tr th:only-of-type {\n        vertical-align: middle;\n    }\n\n    .dataframe tbody tr th {\n        vertical-align: top;\n    }\n\n    .dataframe thead th {\n        text-align: right;\n    }\n</style>\n<table border=\"1\" class=\"dataframe\">\n  <thead>\n    <tr style=\"text-align: right;\">\n      <th></th>\n      <th>First Name</th>\n      <th>Last Name</th>\n      <th>City</th>\n      <th>Gender</th>\n    </tr>\n  </thead>\n  <tbody>\n    <tr>\n      <th>0</th>\n      <td>Robert</td>\n      <td>Miller</td>\n      <td>Seattle</td>\n      <td>M</td>\n    </tr>\n    <tr>\n      <th>1</th>\n      <td>Tara</td>\n      <td>Garcia</td>\n      <td>Phoenix</td>\n      <td>F</td>\n    </tr>\n    <tr>\n      <th>2</th>\n      <td>Raphael</td>\n      <td>Rodriguez</td>\n      <td>Orlando</td>\n      <td>M</td>\n    </tr>\n  </tbody>\n</table>\n</div>"
     },
     "execution_count": 48,
     "metadata": {},
     "output_type": "execute_result"
    }
   ],
   "source": [
    "pd.read_excel(\n",
    "    \"../DATA/Multiple Worksheets.xlsx\",\n",
    "    sheet_name=None\n",
    ")['Data 3']"
   ],
   "metadata": {
    "collapsed": false,
    "ExecuteTime": {
     "end_time": "2024-01-15T12:44:20.279935500Z",
     "start_time": "2024-01-15T12:44:20.258209200Z"
    }
   },
   "id": "91ff9a7037f3c3e0",
   "execution_count": 48
  },
  {
   "cell_type": "code",
   "outputs": [
    {
     "ename": "AttributeError",
     "evalue": "'OpenpyxlWriter' object has no attribute 'save'",
     "output_type": "error",
     "traceback": [
      "\u001B[1;31m---------------------------------------------------------------------------\u001B[0m",
      "\u001B[1;31mAttributeError\u001B[0m                            Traceback (most recent call last)",
      "Cell \u001B[1;32mIn[73], line 9\u001B[0m\n\u001B[0;32m      5\u001B[0m excel_file\n\u001B[0;32m      6\u001B[0m girls\u001B[38;5;241m.\u001B[39mto_excel(\n\u001B[0;32m      7\u001B[0m     excel_writer\u001B[38;5;241m=\u001B[39mexcel_file, sheet_name\u001B[38;5;241m=\u001B[39m\u001B[38;5;124m\"\u001B[39m\u001B[38;5;124mGirls\u001B[39m\u001B[38;5;124m\"\u001B[39m, index\u001B[38;5;241m=\u001B[39m\u001B[38;5;28;01mFalse\u001B[39;00m\n\u001B[0;32m      8\u001B[0m )\n\u001B[1;32m----> 9\u001B[0m \u001B[43mexcel_file\u001B[49m\u001B[38;5;241;43m.\u001B[39;49m\u001B[43msave\u001B[49m()\n",
      "\u001B[1;31mAttributeError\u001B[0m: 'OpenpyxlWriter' object has no attribute 'save'"
     ]
    }
   ],
   "source": [
    "baby_names.head()\n",
    "girls = baby_names[baby_names[\"Gender\"] == \"FEMALE\"]\n",
    "boys = baby_names[baby_names[\"Gender\"] == \"MALE\"]\n",
    "excel_file = pd.ExcelWriter(\"Baby_Names.xlsx\")\n",
    "excel_file\n",
    "girls.to_excel(\n",
    "    excel_writer=excel_file, sheet_name=\"Girls\", index=False\n",
    ")\n"
   ],
   "metadata": {
    "collapsed": false,
    "ExecuteTime": {
     "end_time": "2024-01-15T13:01:59.685716700Z",
     "start_time": "2024-01-15T13:01:58.805746300Z"
    }
   },
   "id": "815c3e2f14cc5984",
   "execution_count": 73
  },
  {
   "cell_type": "code",
   "outputs": [
    {
     "data": {
      "text/plain": "                                               shows\n0  {'show': 'The X-Files', 'runtime': 60, 'networ...\n1  {'show': 'Lost', 'runtime': 60, 'network': 'AB...\n2  {'show': 'Buffy the Vampire Slayer', 'runtime'...",
      "text/html": "<div>\n<style scoped>\n    .dataframe tbody tr th:only-of-type {\n        vertical-align: middle;\n    }\n\n    .dataframe tbody tr th {\n        vertical-align: top;\n    }\n\n    .dataframe thead th {\n        text-align: right;\n    }\n</style>\n<table border=\"1\" class=\"dataframe\">\n  <thead>\n    <tr style=\"text-align: right;\">\n      <th></th>\n      <th>shows</th>\n    </tr>\n  </thead>\n  <tbody>\n    <tr>\n      <th>0</th>\n      <td>{'show': 'The X-Files', 'runtime': 60, 'networ...</td>\n    </tr>\n    <tr>\n      <th>1</th>\n      <td>{'show': 'Lost', 'runtime': 60, 'network': 'AB...</td>\n    </tr>\n    <tr>\n      <th>2</th>\n      <td>{'show': 'Buffy the Vampire Slayer', 'runtime'...</td>\n    </tr>\n  </tbody>\n</table>\n</div>"
     },
     "execution_count": 61,
     "metadata": {},
     "output_type": "execute_result"
    }
   ],
   "source": [
    "tvshow = pd.read_json(\"../DATA/tv_shows.json\",orient='records')\n",
    "tvshow"
   ],
   "metadata": {
    "collapsed": false,
    "ExecuteTime": {
     "end_time": "2024-01-15T12:54:38.202713400Z",
     "start_time": "2024-01-15T12:54:38.158131800Z"
    }
   },
   "id": "a3655baac5110cca",
   "execution_count": 61
  },
  {
   "cell_type": "code",
   "outputs": [
    {
     "data": {
      "text/plain": "shows    {'show': 'The X-Files', 'runtime': 60, 'networ...\nName: 0, dtype: object"
     },
     "execution_count": 54,
     "metadata": {},
     "output_type": "execute_result"
    }
   ],
   "source": [
    "tvshow.iloc[0]"
   ],
   "metadata": {
    "collapsed": false,
    "ExecuteTime": {
     "end_time": "2024-01-15T12:48:43.692635400Z",
     "start_time": "2024-01-15T12:48:43.682409500Z"
    }
   },
   "id": "51b248f867418dee",
   "execution_count": 54
  },
  {
   "cell_type": "code",
   "outputs": [
    {
     "data": {
      "text/plain": "     season  episode              name             air_date  \\\n0         1        1             Pilot  1993-09-11 01:00:00   \n1         1        2       Deep Throat  1993-09-18 01:00:00   \n2         1        3           Squeeze  1993-09-25 01:00:00   \n3         1        4           Conduit  1993-10-02 01:00:00   \n4         1        5  The Jersey Devil  1993-10-09 01:00:00   \n..      ...      ...               ...                  ...   \n477       7       18       Dirty Girls  2003-04-16 00:00:00   \n478       7       19      Empty Places  2003-04-30 00:00:00   \n479       7       20           Touched  2003-05-07 00:00:00   \n480       7       21       End of Days  2003-05-14 00:00:00   \n481       7       22            Chosen  2003-05-21 00:00:00   \n\n                         show runtime network  \n0                 The X-Files      60     FOX  \n1                 The X-Files      60     FOX  \n2                 The X-Files      60     FOX  \n3                 The X-Files      60     FOX  \n4                 The X-Files      60     FOX  \n..                        ...     ...     ...  \n477  Buffy the Vampire Slayer      60     UPN  \n478  Buffy the Vampire Slayer      60     UPN  \n479  Buffy the Vampire Slayer      60     UPN  \n480  Buffy the Vampire Slayer      60     UPN  \n481  Buffy the Vampire Slayer      60     UPN  \n\n[482 rows x 7 columns]",
      "text/html": "<div>\n<style scoped>\n    .dataframe tbody tr th:only-of-type {\n        vertical-align: middle;\n    }\n\n    .dataframe tbody tr th {\n        vertical-align: top;\n    }\n\n    .dataframe thead th {\n        text-align: right;\n    }\n</style>\n<table border=\"1\" class=\"dataframe\">\n  <thead>\n    <tr style=\"text-align: right;\">\n      <th></th>\n      <th>season</th>\n      <th>episode</th>\n      <th>name</th>\n      <th>air_date</th>\n      <th>show</th>\n      <th>runtime</th>\n      <th>network</th>\n    </tr>\n  </thead>\n  <tbody>\n    <tr>\n      <th>0</th>\n      <td>1</td>\n      <td>1</td>\n      <td>Pilot</td>\n      <td>1993-09-11 01:00:00</td>\n      <td>The X-Files</td>\n      <td>60</td>\n      <td>FOX</td>\n    </tr>\n    <tr>\n      <th>1</th>\n      <td>1</td>\n      <td>2</td>\n      <td>Deep Throat</td>\n      <td>1993-09-18 01:00:00</td>\n      <td>The X-Files</td>\n      <td>60</td>\n      <td>FOX</td>\n    </tr>\n    <tr>\n      <th>2</th>\n      <td>1</td>\n      <td>3</td>\n      <td>Squeeze</td>\n      <td>1993-09-25 01:00:00</td>\n      <td>The X-Files</td>\n      <td>60</td>\n      <td>FOX</td>\n    </tr>\n    <tr>\n      <th>3</th>\n      <td>1</td>\n      <td>4</td>\n      <td>Conduit</td>\n      <td>1993-10-02 01:00:00</td>\n      <td>The X-Files</td>\n      <td>60</td>\n      <td>FOX</td>\n    </tr>\n    <tr>\n      <th>4</th>\n      <td>1</td>\n      <td>5</td>\n      <td>The Jersey Devil</td>\n      <td>1993-10-09 01:00:00</td>\n      <td>The X-Files</td>\n      <td>60</td>\n      <td>FOX</td>\n    </tr>\n    <tr>\n      <th>...</th>\n      <td>...</td>\n      <td>...</td>\n      <td>...</td>\n      <td>...</td>\n      <td>...</td>\n      <td>...</td>\n      <td>...</td>\n    </tr>\n    <tr>\n      <th>477</th>\n      <td>7</td>\n      <td>18</td>\n      <td>Dirty Girls</td>\n      <td>2003-04-16 00:00:00</td>\n      <td>Buffy the Vampire Slayer</td>\n      <td>60</td>\n      <td>UPN</td>\n    </tr>\n    <tr>\n      <th>478</th>\n      <td>7</td>\n      <td>19</td>\n      <td>Empty Places</td>\n      <td>2003-04-30 00:00:00</td>\n      <td>Buffy the Vampire Slayer</td>\n      <td>60</td>\n      <td>UPN</td>\n    </tr>\n    <tr>\n      <th>479</th>\n      <td>7</td>\n      <td>20</td>\n      <td>Touched</td>\n      <td>2003-05-07 00:00:00</td>\n      <td>Buffy the Vampire Slayer</td>\n      <td>60</td>\n      <td>UPN</td>\n    </tr>\n    <tr>\n      <th>480</th>\n      <td>7</td>\n      <td>21</td>\n      <td>End of Days</td>\n      <td>2003-05-14 00:00:00</td>\n      <td>Buffy the Vampire Slayer</td>\n      <td>60</td>\n      <td>UPN</td>\n    </tr>\n    <tr>\n      <th>481</th>\n      <td>7</td>\n      <td>22</td>\n      <td>Chosen</td>\n      <td>2003-05-21 00:00:00</td>\n      <td>Buffy the Vampire Slayer</td>\n      <td>60</td>\n      <td>UPN</td>\n    </tr>\n  </tbody>\n</table>\n<p>482 rows × 7 columns</p>\n</div>"
     },
     "execution_count": 68,
     "metadata": {},
     "output_type": "execute_result"
    }
   ],
   "source": [
    "tvshow_normalized = pd.json_normalize(\n",
    "    data=tvshow['shows'],\n",
    "    record_path='episodes',\n",
    "    meta = [\n",
    "        'show',\n",
    "        'runtime',\n",
    "        'network'\n",
    "    ]\n",
    ")\n",
    "tvshow_normalized"
   ],
   "metadata": {
    "collapsed": false,
    "ExecuteTime": {
     "end_time": "2024-01-15T12:58:13.972213300Z",
     "start_time": "2024-01-15T12:58:13.942852800Z"
    }
   },
   "id": "764922b60bd8dacf",
   "execution_count": 68
  },
  {
   "cell_type": "code",
   "outputs": [],
   "source": [
    "xfiles = tvshow_normalized[tvshow_normalized[\"show\"] == \"The X-Files\"]\n"
   ],
   "metadata": {
    "collapsed": false,
    "ExecuteTime": {
     "end_time": "2024-01-15T13:02:21.675446100Z",
     "start_time": "2024-01-15T13:02:21.652417100Z"
    }
   },
   "id": "e69f33d95bf599ca",
   "execution_count": 74
  },
  {
   "cell_type": "code",
   "outputs": [],
   "source": [],
   "metadata": {
    "collapsed": false
   },
   "id": "7e7d6eaf51631d56"
  }
 ],
 "metadata": {
  "kernelspec": {
   "display_name": "Python 3",
   "language": "python",
   "name": "python3"
  },
  "language_info": {
   "codemirror_mode": {
    "name": "ipython",
    "version": 2
   },
   "file_extension": ".py",
   "mimetype": "text/x-python",
   "name": "python",
   "nbconvert_exporter": "python",
   "pygments_lexer": "ipython2",
   "version": "2.7.6"
  }
 },
 "nbformat": 4,
 "nbformat_minor": 5
}
