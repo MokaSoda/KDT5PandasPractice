{
 "cells": [
  {
   "cell_type": "markdown",
   "source": [
    "## save Html to DataFrame"
   ],
   "metadata": {
    "collapsed": false
   },
   "id": "6ee224855719ee31"
  },
  {
   "cell_type": "markdown",
   "source": [
    "### 1. 모듈 로딩\n"
   ],
   "metadata": {
    "collapsed": false
   },
   "id": "5de274495cead519"
  },
  {
   "cell_type": "code",
   "outputs": [],
   "source": [
    "import pandas as pd\n",
    "import lxml"
   ],
   "metadata": {
    "collapsed": false,
    "ExecuteTime": {
     "end_time": "2024-01-15T05:34:45.606779800Z",
     "start_time": "2024-01-15T05:34:45.552776300Z"
    }
   },
   "id": "d73fa43837554799",
   "execution_count": 24
  },
  {
   "cell_type": "markdown",
   "source": [
    "### 2. 데이터 로딩"
   ],
   "metadata": {
    "collapsed": false
   },
   "id": "2288e5f8a39b4bc"
  },
  {
   "cell_type": "code",
   "outputs": [],
   "source": [
    "file = '../DATA/test.html'\n",
    "testDF = pd.read_html(file, encoding='utf-8', index_col=0, header=0)"
   ],
   "metadata": {
    "collapsed": false,
    "ExecuteTime": {
     "end_time": "2024-01-15T05:34:45.626776800Z",
     "start_time": "2024-01-15T05:34:45.611775600Z"
    }
   },
   "id": "47d1448f0127b40f",
   "execution_count": 25
  },
  {
   "cell_type": "code",
   "outputs": [
    {
     "data": {
      "text/plain": "       이름  전공\n번호           \n1     홍길동  의적\n2     마징가  로봇\n4     베트맨  박쥐\n5   스파이더맨  거미",
      "text/html": "<div>\n<style scoped>\n    .dataframe tbody tr th:only-of-type {\n        vertical-align: middle;\n    }\n\n    .dataframe tbody tr th {\n        vertical-align: top;\n    }\n\n    .dataframe thead th {\n        text-align: right;\n    }\n</style>\n<table border=\"1\" class=\"dataframe\">\n  <thead>\n    <tr style=\"text-align: right;\">\n      <th></th>\n      <th>이름</th>\n      <th>전공</th>\n    </tr>\n    <tr>\n      <th>번호</th>\n      <th></th>\n      <th></th>\n    </tr>\n  </thead>\n  <tbody>\n    <tr>\n      <th>1</th>\n      <td>홍길동</td>\n      <td>의적</td>\n    </tr>\n    <tr>\n      <th>2</th>\n      <td>마징가</td>\n      <td>로봇</td>\n    </tr>\n    <tr>\n      <th>4</th>\n      <td>베트맨</td>\n      <td>박쥐</td>\n    </tr>\n    <tr>\n      <th>5</th>\n      <td>스파이더맨</td>\n      <td>거미</td>\n    </tr>\n  </tbody>\n</table>\n</div>"
     },
     "execution_count": 26,
     "metadata": {},
     "output_type": "execute_result"
    }
   ],
   "source": [
    "testDF[0]"
   ],
   "metadata": {
    "collapsed": false,
    "ExecuteTime": {
     "end_time": "2024-01-15T05:34:45.647094600Z",
     "start_time": "2024-01-15T05:34:45.629090300Z"
    }
   },
   "id": "aa7774e351261a1",
   "execution_count": 26
  },
  {
   "cell_type": "code",
   "outputs": [
    {
     "data": {
      "text/plain": "       가격  수량\n과일명          \n사과   1000  32\n바나나  3000  10\n수박   5800   2",
      "text/html": "<div>\n<style scoped>\n    .dataframe tbody tr th:only-of-type {\n        vertical-align: middle;\n    }\n\n    .dataframe tbody tr th {\n        vertical-align: top;\n    }\n\n    .dataframe thead th {\n        text-align: right;\n    }\n</style>\n<table border=\"1\" class=\"dataframe\">\n  <thead>\n    <tr style=\"text-align: right;\">\n      <th></th>\n      <th>가격</th>\n      <th>수량</th>\n    </tr>\n    <tr>\n      <th>과일명</th>\n      <th></th>\n      <th></th>\n    </tr>\n  </thead>\n  <tbody>\n    <tr>\n      <th>사과</th>\n      <td>1000</td>\n      <td>32</td>\n    </tr>\n    <tr>\n      <th>바나나</th>\n      <td>3000</td>\n      <td>10</td>\n    </tr>\n    <tr>\n      <th>수박</th>\n      <td>5800</td>\n      <td>2</td>\n    </tr>\n  </tbody>\n</table>\n</div>"
     },
     "execution_count": 27,
     "metadata": {},
     "output_type": "execute_result"
    }
   ],
   "source": [
    "testDF[1]"
   ],
   "metadata": {
    "collapsed": false,
    "ExecuteTime": {
     "end_time": "2024-01-15T05:34:45.689493300Z",
     "start_time": "2024-01-15T05:34:45.643096Z"
    }
   },
   "id": "b923585941fe9c13",
   "execution_count": 27
  },
  {
   "cell_type": "code",
   "outputs": [],
   "source": [],
   "metadata": {
    "collapsed": false,
    "ExecuteTime": {
     "end_time": "2024-01-15T05:34:45.720494500Z",
     "start_time": "2024-01-15T05:34:45.655093700Z"
    }
   },
   "id": "cd85157f78802948",
   "execution_count": 27
  }
 ],
 "metadata": {
  "kernelspec": {
   "display_name": "Python 3",
   "language": "python",
   "name": "python3"
  },
  "language_info": {
   "codemirror_mode": {
    "name": "ipython",
    "version": 2
   },
   "file_extension": ".py",
   "mimetype": "text/x-python",
   "name": "python",
   "nbconvert_exporter": "python",
   "pygments_lexer": "ipython2",
   "version": "2.7.6"
  }
 },
 "nbformat": 4,
 "nbformat_minor": 5
}
