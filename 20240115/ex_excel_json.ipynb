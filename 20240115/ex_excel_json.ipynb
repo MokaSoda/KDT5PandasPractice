{
 "cells": [
  {
   "cell_type": "markdown",
   "source": [
    "# [엑셀 => 데이터프레임 저장 다루기]\n"
   ],
   "metadata": {
    "collapsed": false
   },
   "id": "e62b5425f705b875"
  },
  {
   "cell_type": "markdown",
   "source": [
    "(1) 모듈 로딩"
   ],
   "metadata": {
    "collapsed": false
   },
   "id": "f99690cb807a818"
  },
  {
   "cell_type": "code",
   "outputs": [],
   "source": [
    "import pandas as pd\n"
   ],
   "metadata": {
    "collapsed": false,
    "ExecuteTime": {
     "end_time": "2024-01-15T04:09:13.629580500Z",
     "start_time": "2024-01-15T04:09:12.408988200Z"
    }
   },
   "id": "1ba58839f1856419",
   "execution_count": 2
  },
  {
   "cell_type": "markdown",
   "source": [
    "(2) 데이터 준비"
   ],
   "metadata": {
    "collapsed": false
   },
   "id": "a228b46e2fd5f2e"
  },
  {
   "cell_type": "code",
   "outputs": [],
   "source": [
    "filename = '../DATA/Single Worksheet.xlsx'\n",
    "filename2 = '../DATA/Multiple Worksheets.xlsx'"
   ],
   "metadata": {
    "collapsed": false,
    "ExecuteTime": {
     "end_time": "2024-01-15T04:09:13.632580100Z",
     "start_time": "2024-01-15T04:09:13.554326400Z"
    }
   },
   "id": "3d4faa5d5c3dc1f4",
   "execution_count": 3
  },
  {
   "cell_type": "markdown",
   "source": [
    "(3) Excel => DataFrame 저장하기"
   ],
   "metadata": {
    "collapsed": false
   },
   "id": "f670eba83c994ee4"
  },
  {
   "cell_type": "code",
   "outputs": [
    {
     "data": {
      "text/plain": "  First Name Last Name           City Gender\n0    Brandon     James          Miami      M\n1       Sean   Hawkins         Denver      M\n2       Judy       Day    Los Angeles      F\n3     Ashley      Ruiz  San Francisco      F\n4  Stephanie     Gomez       Portland      F",
      "text/html": "<div>\n<style scoped>\n    .dataframe tbody tr th:only-of-type {\n        vertical-align: middle;\n    }\n\n    .dataframe tbody tr th {\n        vertical-align: top;\n    }\n\n    .dataframe thead th {\n        text-align: right;\n    }\n</style>\n<table border=\"1\" class=\"dataframe\">\n  <thead>\n    <tr style=\"text-align: right;\">\n      <th></th>\n      <th>First Name</th>\n      <th>Last Name</th>\n      <th>City</th>\n      <th>Gender</th>\n    </tr>\n  </thead>\n  <tbody>\n    <tr>\n      <th>0</th>\n      <td>Brandon</td>\n      <td>James</td>\n      <td>Miami</td>\n      <td>M</td>\n    </tr>\n    <tr>\n      <th>1</th>\n      <td>Sean</td>\n      <td>Hawkins</td>\n      <td>Denver</td>\n      <td>M</td>\n    </tr>\n    <tr>\n      <th>2</th>\n      <td>Judy</td>\n      <td>Day</td>\n      <td>Los Angeles</td>\n      <td>F</td>\n    </tr>\n    <tr>\n      <th>3</th>\n      <td>Ashley</td>\n      <td>Ruiz</td>\n      <td>San Francisco</td>\n      <td>F</td>\n    </tr>\n    <tr>\n      <th>4</th>\n      <td>Stephanie</td>\n      <td>Gomez</td>\n      <td>Portland</td>\n      <td>F</td>\n    </tr>\n  </tbody>\n</table>\n</div>"
     },
     "execution_count": 4,
     "metadata": {},
     "output_type": "execute_result"
    }
   ],
   "source": [
    "pd.read_excel(filename)"
   ],
   "metadata": {
    "collapsed": false,
    "ExecuteTime": {
     "end_time": "2024-01-15T04:09:14.355102400Z",
     "start_time": "2024-01-15T04:09:13.571174800Z"
    }
   },
   "id": "d8cd5b87f050e170",
   "execution_count": 4
  },
  {
   "cell_type": "code",
   "outputs": [
    {
     "data": {
      "text/plain": "           1       3\n0  Last Name  Gender\n1      James       M\n2    Hawkins       M\n3        Day       F\n4       Ruiz       F\n5      Gomez       F",
      "text/html": "<div>\n<style scoped>\n    .dataframe tbody tr th:only-of-type {\n        vertical-align: middle;\n    }\n\n    .dataframe tbody tr th {\n        vertical-align: top;\n    }\n\n    .dataframe thead th {\n        text-align: right;\n    }\n</style>\n<table border=\"1\" class=\"dataframe\">\n  <thead>\n    <tr style=\"text-align: right;\">\n      <th></th>\n      <th>1</th>\n      <th>3</th>\n    </tr>\n  </thead>\n  <tbody>\n    <tr>\n      <th>0</th>\n      <td>Last Name</td>\n      <td>Gender</td>\n    </tr>\n    <tr>\n      <th>1</th>\n      <td>James</td>\n      <td>M</td>\n    </tr>\n    <tr>\n      <th>2</th>\n      <td>Hawkins</td>\n      <td>M</td>\n    </tr>\n    <tr>\n      <th>3</th>\n      <td>Day</td>\n      <td>F</td>\n    </tr>\n    <tr>\n      <th>4</th>\n      <td>Ruiz</td>\n      <td>F</td>\n    </tr>\n    <tr>\n      <th>5</th>\n      <td>Gomez</td>\n      <td>F</td>\n    </tr>\n  </tbody>\n</table>\n</div>"
     },
     "execution_count": 5,
     "metadata": {},
     "output_type": "execute_result"
    }
   ],
   "source": [
    "pd.read_excel(filename, header=None, usecols=[1,3])"
   ],
   "metadata": {
    "collapsed": false,
    "ExecuteTime": {
     "end_time": "2024-01-15T04:09:14.441713500Z",
     "start_time": "2024-01-15T04:09:14.331851400Z"
    }
   },
   "id": "2c8764823f765974",
   "execution_count": 5
  },
  {
   "cell_type": "code",
   "outputs": [
    {
     "data": {
      "text/plain": "  First Name Last Name           City Gender\n0    Brandon     James          Miami      M\n1       Sean   Hawkins         Denver      M\n2       Judy       Day    Los Angeles      F\n3     Ashley      Ruiz  San Francisco      F\n4  Stephanie     Gomez       Portland      F",
      "text/html": "<div>\n<style scoped>\n    .dataframe tbody tr th:only-of-type {\n        vertical-align: middle;\n    }\n\n    .dataframe tbody tr th {\n        vertical-align: top;\n    }\n\n    .dataframe thead th {\n        text-align: right;\n    }\n</style>\n<table border=\"1\" class=\"dataframe\">\n  <thead>\n    <tr style=\"text-align: right;\">\n      <th></th>\n      <th>First Name</th>\n      <th>Last Name</th>\n      <th>City</th>\n      <th>Gender</th>\n    </tr>\n  </thead>\n  <tbody>\n    <tr>\n      <th>0</th>\n      <td>Brandon</td>\n      <td>James</td>\n      <td>Miami</td>\n      <td>M</td>\n    </tr>\n    <tr>\n      <th>1</th>\n      <td>Sean</td>\n      <td>Hawkins</td>\n      <td>Denver</td>\n      <td>M</td>\n    </tr>\n    <tr>\n      <th>2</th>\n      <td>Judy</td>\n      <td>Day</td>\n      <td>Los Angeles</td>\n      <td>F</td>\n    </tr>\n    <tr>\n      <th>3</th>\n      <td>Ashley</td>\n      <td>Ruiz</td>\n      <td>San Francisco</td>\n      <td>F</td>\n    </tr>\n    <tr>\n      <th>4</th>\n      <td>Stephanie</td>\n      <td>Gomez</td>\n      <td>Portland</td>\n      <td>F</td>\n    </tr>\n  </tbody>\n</table>\n</div>"
     },
     "execution_count": 6,
     "metadata": {},
     "output_type": "execute_result"
    }
   ],
   "source": [
    "pd.read_excel(filename2, sheet_name='Data 1')"
   ],
   "metadata": {
    "collapsed": false,
    "ExecuteTime": {
     "end_time": "2024-01-15T04:09:14.704784100Z",
     "start_time": "2024-01-15T04:09:14.400516300Z"
    }
   },
   "id": "50ed23b3143abddb",
   "execution_count": 6
  },
  {
   "cell_type": "markdown",
   "source": [
    "## [JSON ==> DataFrame 저장 ]"
   ],
   "metadata": {
    "collapsed": false
   },
   "id": "7413e6317a7f305c"
  },
  {
   "cell_type": "markdown",
   "source": [
    "(1) Prepare Data and Load it"
   ],
   "metadata": {
    "collapsed": false
   },
   "id": "158b47076e94cd82"
  },
  {
   "cell_type": "code",
   "outputs": [],
   "source": [
    "nobel_DF = pd.read_json('../DATA/nobel.json')"
   ],
   "metadata": {
    "collapsed": false,
    "ExecuteTime": {
     "end_time": "2024-01-15T04:09:14.925037100Z",
     "start_time": "2024-01-15T04:09:14.462217300Z"
    }
   },
   "id": "122e0e6420feb8ea",
   "execution_count": 7
  },
  {
   "cell_type": "code",
   "outputs": [
    {
     "name": "stdout",
     "output_type": "stream",
     "text": [
      "<class 'pandas.core.frame.DataFrame'>\n",
      "Index: 646 entries, 0 to 645\n",
      "Data columns (total 1 columns):\n",
      " #   Column  Non-Null Count  Dtype \n",
      "---  ------  --------------  ----- \n",
      " 0   prizes  646 non-null    object\n",
      "dtypes: object(1)\n",
      "memory usage: 10.1+ KB\n"
     ]
    }
   ],
   "source": [
    "nobel_DF.info()"
   ],
   "metadata": {
    "collapsed": false,
    "ExecuteTime": {
     "end_time": "2024-01-15T04:09:14.929395600Z",
     "start_time": "2024-01-15T04:09:14.615445300Z"
    }
   },
   "id": "b3e49951295c9258",
   "execution_count": 8
  },
  {
   "cell_type": "markdown",
   "source": [
    "(2) Check Data"
   ],
   "metadata": {
    "collapsed": false
   },
   "id": "2d492166a0a9ff5e"
  },
  {
   "cell_type": "code",
   "outputs": [
    {
     "data": {
      "text/plain": "(                                              prizes\n 0  {'year': '2019', 'category': 'chemistry', 'lau...\n 1  {'year': '2019', 'category': 'economics', 'lau...\n 2  {'year': '2019', 'category': 'literature', 'la...,\n                                                 prizes\n 643  {'year': '1901', 'category': 'peace', 'laureat...\n 644  {'year': '1901', 'category': 'physics', 'laure...\n 645  {'year': '1901', 'category': 'medicine', 'laur...)"
     },
     "execution_count": 9,
     "metadata": {},
     "output_type": "execute_result"
    }
   ],
   "source": [
    "nobel_DF.head(3), nobel_DF.tail(3)"
   ],
   "metadata": {
    "collapsed": false,
    "ExecuteTime": {
     "end_time": "2024-01-15T04:09:15.091355700Z",
     "start_time": "2024-01-15T04:09:14.632411200Z"
    }
   },
   "id": "fb80b2b25668f591",
   "execution_count": 9
  },
  {
   "cell_type": "markdown",
   "source": [
    "(3) extract data"
   ],
   "metadata": {
    "collapsed": false
   },
   "id": "744a302f509d8714"
  },
  {
   "cell_type": "code",
   "outputs": [
    {
     "data": {
      "text/plain": "dict"
     },
     "execution_count": 10,
     "metadata": {},
     "output_type": "execute_result"
    }
   ],
   "source": [
    "data2019 = nobel_DF.iloc[0]['prizes']\n",
    "type(data2019)"
   ],
   "metadata": {
    "collapsed": false,
    "ExecuteTime": {
     "end_time": "2024-01-15T04:09:15.138739600Z",
     "start_time": "2024-01-15T04:09:14.684787500Z"
    }
   },
   "id": "a46fbdabffcb91fa",
   "execution_count": 10
  },
  {
   "cell_type": "code",
   "outputs": [
    {
     "name": "stdout",
     "output_type": "stream",
     "text": [
      "[year]\n",
      " ====> 2019\n",
      "[category]\n",
      " ====> chemistry\n",
      "[id]\n",
      " ====> 976\n",
      "[firstname]\n",
      " ====> John\n",
      "[surname]\n",
      " ====> Goodenough\n",
      "[motivation]\n",
      " ====> \"for the development of lithium-ion batteries\"\n",
      "[share]\n",
      " ====> 3\n",
      "[id]\n",
      " ====> 977\n",
      "[firstname]\n",
      " ====> M. Stanley\n",
      "[surname]\n",
      " ====> Whittingham\n",
      "[motivation]\n",
      " ====> \"for the development of lithium-ion batteries\"\n",
      "[share]\n",
      " ====> 3\n",
      "[id]\n",
      " ====> 978\n",
      "[firstname]\n",
      " ====> Akira\n",
      "[surname]\n",
      " ====> Yoshino\n",
      "[motivation]\n",
      " ====> \"for the development of lithium-ion batteries\"\n",
      "[share]\n",
      " ====> 3\n"
     ]
    }
   ],
   "source": [
    "for k, v in data2019.items():\n",
    "    if type(v) == type(list()):\n",
    "        for ddd in v:\n",
    "            for kk, vv in ddd.items():\n",
    "                print(f\"[{kk}]\\n ====> {vv}\")\n",
    "    else:\n",
    "        print(f\"[{k}]\\n ====> {v}\")\n",
    "        "
   ],
   "metadata": {
    "collapsed": false,
    "ExecuteTime": {
     "end_time": "2024-01-15T04:09:15.214618300Z",
     "start_time": "2024-01-15T04:09:14.721888900Z"
    }
   },
   "id": "d6cdc2c5528f3b27",
   "execution_count": 11
  },
  {
   "cell_type": "markdown",
   "source": [
    "- json 중첩 데이터의 다중 반복문 처리 ==> 달일 리스트 형태 처리 : 평탄화 / 정규화\n",
    "- json_normalize()"
   ],
   "metadata": {
    "collapsed": false
   },
   "id": "aaa680ed67b84cdf"
  },
  {
   "cell_type": "code",
   "outputs": [
    {
     "data": {
      "text/plain": "      firstname      surname                                      motivation  \\\nid                                                                             \n976        John   Goodenough  \"for the development of lithium-ion batteries\"   \n977  M. Stanley  Whittingham  \"for the development of lithium-ion batteries\"   \n978       Akira      Yoshino  \"for the development of lithium-ion batteries\"   \n\n    share  year   category  \nid                          \n976     3  2019  chemistry  \n977     3  2019  chemistry  \n978     3  2019  chemistry  ",
      "text/html": "<div>\n<style scoped>\n    .dataframe tbody tr th:only-of-type {\n        vertical-align: middle;\n    }\n\n    .dataframe tbody tr th {\n        vertical-align: top;\n    }\n\n    .dataframe thead th {\n        text-align: right;\n    }\n</style>\n<table border=\"1\" class=\"dataframe\">\n  <thead>\n    <tr style=\"text-align: right;\">\n      <th></th>\n      <th>firstname</th>\n      <th>surname</th>\n      <th>motivation</th>\n      <th>share</th>\n      <th>year</th>\n      <th>category</th>\n    </tr>\n    <tr>\n      <th>id</th>\n      <th></th>\n      <th></th>\n      <th></th>\n      <th></th>\n      <th></th>\n      <th></th>\n    </tr>\n  </thead>\n  <tbody>\n    <tr>\n      <th>976</th>\n      <td>John</td>\n      <td>Goodenough</td>\n      <td>\"for the development of lithium-ion batteries\"</td>\n      <td>3</td>\n      <td>2019</td>\n      <td>chemistry</td>\n    </tr>\n    <tr>\n      <th>977</th>\n      <td>M. Stanley</td>\n      <td>Whittingham</td>\n      <td>\"for the development of lithium-ion batteries\"</td>\n      <td>3</td>\n      <td>2019</td>\n      <td>chemistry</td>\n    </tr>\n    <tr>\n      <th>978</th>\n      <td>Akira</td>\n      <td>Yoshino</td>\n      <td>\"for the development of lithium-ion batteries\"</td>\n      <td>3</td>\n      <td>2019</td>\n      <td>chemistry</td>\n    </tr>\n  </tbody>\n</table>\n</div>"
     },
     "execution_count": 12,
     "metadata": {},
     "output_type": "execute_result"
    }
   ],
   "source": [
    "pd.json_normalize(data2019, record_path='laureates', meta=['year', 'category']).set_index('id')"
   ],
   "metadata": {
    "collapsed": false,
    "ExecuteTime": {
     "end_time": "2024-01-15T04:09:15.218380200Z",
     "start_time": "2024-01-15T04:09:14.743598200Z"
    }
   },
   "id": "2484fd46d6afb8df",
   "execution_count": 12
  },
  {
   "cell_type": "markdown",
   "source": [
    "- 모든 행에 대한 정규화/평탄화 진행하기"
   ],
   "metadata": {
    "collapsed": false
   },
   "id": "fb6aaa68adbb798c"
  },
  {
   "cell_type": "code",
   "outputs": [
    {
     "data": {
      "text/plain": "0      {'year': '2019', 'category': 'chemistry', 'lau...\n1      {'year': '2019', 'category': 'economics', 'lau...\n2      {'year': '2019', 'category': 'literature', 'la...\n3      {'year': '2019', 'category': 'peace', 'laureat...\n4      {'year': '2019', 'category': 'physics', 'overa...\n                             ...                        \n641    {'year': '1901', 'category': 'chemistry', 'lau...\n642    {'year': '1901', 'category': 'literature', 'la...\n643    {'year': '1901', 'category': 'peace', 'laureat...\n644    {'year': '1901', 'category': 'physics', 'laure...\n645    {'year': '1901', 'category': 'medicine', 'laur...\nName: prizes, Length: 646, dtype: object"
     },
     "execution_count": 13,
     "metadata": {},
     "output_type": "execute_result"
    }
   ],
   "source": [
    "# 컬럼 읽기 => DF객체변수명['컬럼명'], DF객체변수명.컼컮명\n",
    "nobel_DF.prizes"
   ],
   "metadata": {
    "collapsed": false,
    "ExecuteTime": {
     "end_time": "2024-01-15T04:09:15.251559100Z",
     "start_time": "2024-01-15T04:09:14.806388400Z"
    }
   },
   "id": "806ab23e75dd17ac",
   "execution_count": 13
  },
  {
   "cell_type": "code",
   "outputs": [],
   "source": [
    "# 모든 행의 record_path 에 해당하는 키(key)가 존제해야함\n",
    "# 따라서 없는 행에 record_path 에 해당하는 키를 추가해야함\n",
    "# pd.json_normalize(nobel_DF.prizes, record_path='laureates', meta=['year', 'category'])\n",
    "\n",
    "for data in nobel_DF.prizes:\n",
    "    # if 'laureates' not in data.keys():\n",
    "    #     data['laureates'] = []\n",
    "    data.setdefault('laureates', [])\n",
    "        "
   ],
   "metadata": {
    "collapsed": false,
    "ExecuteTime": {
     "end_time": "2024-01-15T04:14:38.143372100Z",
     "start_time": "2024-01-15T04:14:38.119365900Z"
    }
   },
   "id": "5033d2f0106cefa4",
   "execution_count": 24
  },
  {
   "cell_type": "code",
   "outputs": [],
   "source": [
    "nobel_DF.prizes\n",
    "nobel_normalized = pd.json_normalize(nobel_DF.prizes, record_path='laureates', meta=['year', 'category'])"
   ],
   "metadata": {
    "collapsed": false,
    "ExecuteTime": {
     "end_time": "2024-01-15T04:17:51.241362800Z",
     "start_time": "2024-01-15T04:17:51.220534Z"
    }
   },
   "id": "8e4b25bb721a3ff3",
   "execution_count": 26
  },
  {
   "cell_type": "code",
   "outputs": [
    {
     "data": {
      "text/plain": "      id       firstname      surname  \\\n0    976            John   Goodenough   \n1    977      M. Stanley  Whittingham   \n2    978           Akira      Yoshino   \n3    982         Abhijit     Banerjee   \n4    983          Esther        Duflo   \n..   ...             ...          ...   \n945  569           Sully    Prudhomme   \n946  462           Henry       Dunant   \n947  463        Frédéric        Passy   \n948    1  Wilhelm Conrad      Röntgen   \n949  293            Emil  von Behring   \n\n                                            motivation share  year    category  \n0       \"for the development of lithium-ion batteries\"     3  2019   chemistry  \n1       \"for the development of lithium-ion batteries\"     3  2019   chemistry  \n2       \"for the development of lithium-ion batteries\"     3  2019   chemistry  \n3    \"for their experimental approach to alleviatin...     3  2019   economics  \n4    \"for their experimental approach to alleviatin...     3  2019   economics  \n..                                                 ...   ...   ...         ...  \n945  \"in special recognition of his poetic composit...     1  1901  literature  \n946  \"for his humanitarian efforts to help wounded ...     2  1901       peace  \n947  \"for his lifelong work for international peace...     2  1901       peace  \n948  \"in recognition of the extraordinary services ...     1  1901     physics  \n949  \"for his work on serum therapy, especially its...     1  1901    medicine  \n\n[950 rows x 7 columns]",
      "text/html": "<div>\n<style scoped>\n    .dataframe tbody tr th:only-of-type {\n        vertical-align: middle;\n    }\n\n    .dataframe tbody tr th {\n        vertical-align: top;\n    }\n\n    .dataframe thead th {\n        text-align: right;\n    }\n</style>\n<table border=\"1\" class=\"dataframe\">\n  <thead>\n    <tr style=\"text-align: right;\">\n      <th></th>\n      <th>id</th>\n      <th>firstname</th>\n      <th>surname</th>\n      <th>motivation</th>\n      <th>share</th>\n      <th>year</th>\n      <th>category</th>\n    </tr>\n  </thead>\n  <tbody>\n    <tr>\n      <th>0</th>\n      <td>976</td>\n      <td>John</td>\n      <td>Goodenough</td>\n      <td>\"for the development of lithium-ion batteries\"</td>\n      <td>3</td>\n      <td>2019</td>\n      <td>chemistry</td>\n    </tr>\n    <tr>\n      <th>1</th>\n      <td>977</td>\n      <td>M. Stanley</td>\n      <td>Whittingham</td>\n      <td>\"for the development of lithium-ion batteries\"</td>\n      <td>3</td>\n      <td>2019</td>\n      <td>chemistry</td>\n    </tr>\n    <tr>\n      <th>2</th>\n      <td>978</td>\n      <td>Akira</td>\n      <td>Yoshino</td>\n      <td>\"for the development of lithium-ion batteries\"</td>\n      <td>3</td>\n      <td>2019</td>\n      <td>chemistry</td>\n    </tr>\n    <tr>\n      <th>3</th>\n      <td>982</td>\n      <td>Abhijit</td>\n      <td>Banerjee</td>\n      <td>\"for their experimental approach to alleviatin...</td>\n      <td>3</td>\n      <td>2019</td>\n      <td>economics</td>\n    </tr>\n    <tr>\n      <th>4</th>\n      <td>983</td>\n      <td>Esther</td>\n      <td>Duflo</td>\n      <td>\"for their experimental approach to alleviatin...</td>\n      <td>3</td>\n      <td>2019</td>\n      <td>economics</td>\n    </tr>\n    <tr>\n      <th>...</th>\n      <td>...</td>\n      <td>...</td>\n      <td>...</td>\n      <td>...</td>\n      <td>...</td>\n      <td>...</td>\n      <td>...</td>\n    </tr>\n    <tr>\n      <th>945</th>\n      <td>569</td>\n      <td>Sully</td>\n      <td>Prudhomme</td>\n      <td>\"in special recognition of his poetic composit...</td>\n      <td>1</td>\n      <td>1901</td>\n      <td>literature</td>\n    </tr>\n    <tr>\n      <th>946</th>\n      <td>462</td>\n      <td>Henry</td>\n      <td>Dunant</td>\n      <td>\"for his humanitarian efforts to help wounded ...</td>\n      <td>2</td>\n      <td>1901</td>\n      <td>peace</td>\n    </tr>\n    <tr>\n      <th>947</th>\n      <td>463</td>\n      <td>Frédéric</td>\n      <td>Passy</td>\n      <td>\"for his lifelong work for international peace...</td>\n      <td>2</td>\n      <td>1901</td>\n      <td>peace</td>\n    </tr>\n    <tr>\n      <th>948</th>\n      <td>1</td>\n      <td>Wilhelm Conrad</td>\n      <td>Röntgen</td>\n      <td>\"in recognition of the extraordinary services ...</td>\n      <td>1</td>\n      <td>1901</td>\n      <td>physics</td>\n    </tr>\n    <tr>\n      <th>949</th>\n      <td>293</td>\n      <td>Emil</td>\n      <td>von Behring</td>\n      <td>\"for his work on serum therapy, especially its...</td>\n      <td>1</td>\n      <td>1901</td>\n      <td>medicine</td>\n    </tr>\n  </tbody>\n</table>\n<p>950 rows × 7 columns</p>\n</div>"
     },
     "execution_count": 27,
     "metadata": {},
     "output_type": "execute_result"
    }
   ],
   "source": [
    "nobel_normalized"
   ],
   "metadata": {
    "collapsed": false,
    "ExecuteTime": {
     "end_time": "2024-01-15T04:17:57.988685400Z",
     "start_time": "2024-01-15T04:17:57.967685800Z"
    }
   },
   "id": "b7066f14cda098b",
   "execution_count": 27
  },
  {
   "cell_type": "code",
   "outputs": [
    {
     "ename": "AttributeError",
     "evalue": "'Series' object has no attribute 'setdefault'",
     "output_type": "error",
     "traceback": [
      "\u001B[1;31m---------------------------------------------------------------------------\u001B[0m",
      "\u001B[1;31mAttributeError\u001B[0m                            Traceback (most recent call last)",
      "\u001B[1;32m~\\AppData\\Local\\Temp\\ipykernel_17180\\514566591.py\u001B[0m in \u001B[0;36m?\u001B[1;34m()\u001B[0m\n\u001B[1;32m----> 1\u001B[1;33m \u001B[0mnobel_DF\u001B[0m\u001B[1;33m.\u001B[0m\u001B[0mapply\u001B[0m\u001B[1;33m(\u001B[0m\u001B[1;32mlambda\u001B[0m \u001B[0mx\u001B[0m\u001B[1;33m:\u001B[0m\u001B[0mx\u001B[0m\u001B[1;33m.\u001B[0m\u001B[0msetdefault\u001B[0m\u001B[1;33m(\u001B[0m\u001B[1;34m'laureates'\u001B[0m\u001B[1;33m,\u001B[0m \u001B[1;33m[\u001B[0m\u001B[1;33m]\u001B[0m\u001B[1;33m)\u001B[0m\u001B[1;33m,\u001B[0m \u001B[0maxis\u001B[0m\u001B[1;33m=\u001B[0m\u001B[1;36m0\u001B[0m\u001B[1;33m)\u001B[0m\u001B[1;33m\u001B[0m\u001B[1;33m\u001B[0m\u001B[0m\n\u001B[0m",
      "\u001B[1;32m~\\PycharmProjects\\PandasPractice\\.venv\\lib\\site-packages\\pandas\\core\\frame.py\u001B[0m in \u001B[0;36m?\u001B[1;34m(self, func, axis, raw, result_type, args, by_row, engine, engine_kwargs, **kwargs)\u001B[0m\n\u001B[0;32m  10314\u001B[0m             \u001B[0mengine_kwargs\u001B[0m\u001B[1;33m=\u001B[0m\u001B[0mengine_kwargs\u001B[0m\u001B[1;33m,\u001B[0m\u001B[1;33m\u001B[0m\u001B[1;33m\u001B[0m\u001B[0m\n\u001B[0;32m  10315\u001B[0m             \u001B[0margs\u001B[0m\u001B[1;33m=\u001B[0m\u001B[0margs\u001B[0m\u001B[1;33m,\u001B[0m\u001B[1;33m\u001B[0m\u001B[1;33m\u001B[0m\u001B[0m\n\u001B[0;32m  10316\u001B[0m             \u001B[0mkwargs\u001B[0m\u001B[1;33m=\u001B[0m\u001B[0mkwargs\u001B[0m\u001B[1;33m,\u001B[0m\u001B[1;33m\u001B[0m\u001B[1;33m\u001B[0m\u001B[0m\n\u001B[0;32m  10317\u001B[0m         )\n\u001B[1;32m> 10318\u001B[1;33m         \u001B[1;32mreturn\u001B[0m \u001B[0mop\u001B[0m\u001B[1;33m.\u001B[0m\u001B[0mapply\u001B[0m\u001B[1;33m(\u001B[0m\u001B[1;33m)\u001B[0m\u001B[1;33m.\u001B[0m\u001B[0m__finalize__\u001B[0m\u001B[1;33m(\u001B[0m\u001B[0mself\u001B[0m\u001B[1;33m,\u001B[0m \u001B[0mmethod\u001B[0m\u001B[1;33m=\u001B[0m\u001B[1;34m\"apply\"\u001B[0m\u001B[1;33m)\u001B[0m\u001B[1;33m\u001B[0m\u001B[1;33m\u001B[0m\u001B[0m\n\u001B[0m",
      "\u001B[1;32m~\\PycharmProjects\\PandasPractice\\.venv\\lib\\site-packages\\pandas\\core\\apply.py\u001B[0m in \u001B[0;36m?\u001B[1;34m(self)\u001B[0m\n\u001B[0;32m    912\u001B[0m         \u001B[1;31m# raw\u001B[0m\u001B[1;33m\u001B[0m\u001B[1;33m\u001B[0m\u001B[0m\n\u001B[0;32m    913\u001B[0m         \u001B[1;32melif\u001B[0m \u001B[0mself\u001B[0m\u001B[1;33m.\u001B[0m\u001B[0mraw\u001B[0m\u001B[1;33m:\u001B[0m\u001B[1;33m\u001B[0m\u001B[1;33m\u001B[0m\u001B[0m\n\u001B[0;32m    914\u001B[0m             \u001B[1;32mreturn\u001B[0m \u001B[0mself\u001B[0m\u001B[1;33m.\u001B[0m\u001B[0mapply_raw\u001B[0m\u001B[1;33m(\u001B[0m\u001B[0mengine\u001B[0m\u001B[1;33m=\u001B[0m\u001B[0mself\u001B[0m\u001B[1;33m.\u001B[0m\u001B[0mengine\u001B[0m\u001B[1;33m,\u001B[0m \u001B[0mengine_kwargs\u001B[0m\u001B[1;33m=\u001B[0m\u001B[0mself\u001B[0m\u001B[1;33m.\u001B[0m\u001B[0mengine_kwargs\u001B[0m\u001B[1;33m)\u001B[0m\u001B[1;33m\u001B[0m\u001B[1;33m\u001B[0m\u001B[0m\n\u001B[0;32m    915\u001B[0m \u001B[1;33m\u001B[0m\u001B[0m\n\u001B[1;32m--> 916\u001B[1;33m         \u001B[1;32mreturn\u001B[0m \u001B[0mself\u001B[0m\u001B[1;33m.\u001B[0m\u001B[0mapply_standard\u001B[0m\u001B[1;33m(\u001B[0m\u001B[1;33m)\u001B[0m\u001B[1;33m\u001B[0m\u001B[1;33m\u001B[0m\u001B[0m\n\u001B[0m",
      "\u001B[1;32m~\\PycharmProjects\\PandasPractice\\.venv\\lib\\site-packages\\pandas\\core\\apply.py\u001B[0m in \u001B[0;36m?\u001B[1;34m(self)\u001B[0m\n\u001B[0;32m   1061\u001B[0m     \u001B[1;32mdef\u001B[0m \u001B[0mapply_standard\u001B[0m\u001B[1;33m(\u001B[0m\u001B[0mself\u001B[0m\u001B[1;33m)\u001B[0m\u001B[1;33m:\u001B[0m\u001B[1;33m\u001B[0m\u001B[1;33m\u001B[0m\u001B[0m\n\u001B[0;32m   1062\u001B[0m         \u001B[1;32mif\u001B[0m \u001B[0mself\u001B[0m\u001B[1;33m.\u001B[0m\u001B[0mengine\u001B[0m \u001B[1;33m==\u001B[0m \u001B[1;34m\"python\"\u001B[0m\u001B[1;33m:\u001B[0m\u001B[1;33m\u001B[0m\u001B[1;33m\u001B[0m\u001B[0m\n\u001B[1;32m-> 1063\u001B[1;33m             \u001B[0mresults\u001B[0m\u001B[1;33m,\u001B[0m \u001B[0mres_index\u001B[0m \u001B[1;33m=\u001B[0m \u001B[0mself\u001B[0m\u001B[1;33m.\u001B[0m\u001B[0mapply_series_generator\u001B[0m\u001B[1;33m(\u001B[0m\u001B[1;33m)\u001B[0m\u001B[1;33m\u001B[0m\u001B[1;33m\u001B[0m\u001B[0m\n\u001B[0m\u001B[0;32m   1064\u001B[0m         \u001B[1;32melse\u001B[0m\u001B[1;33m:\u001B[0m\u001B[1;33m\u001B[0m\u001B[1;33m\u001B[0m\u001B[0m\n\u001B[0;32m   1065\u001B[0m             \u001B[0mresults\u001B[0m\u001B[1;33m,\u001B[0m \u001B[0mres_index\u001B[0m \u001B[1;33m=\u001B[0m \u001B[0mself\u001B[0m\u001B[1;33m.\u001B[0m\u001B[0mapply_series_numba\u001B[0m\u001B[1;33m(\u001B[0m\u001B[1;33m)\u001B[0m\u001B[1;33m\u001B[0m\u001B[1;33m\u001B[0m\u001B[0m\n\u001B[0;32m   1066\u001B[0m \u001B[1;33m\u001B[0m\u001B[0m\n",
      "\u001B[1;32m~\\PycharmProjects\\PandasPractice\\.venv\\lib\\site-packages\\pandas\\core\\apply.py\u001B[0m in \u001B[0;36m?\u001B[1;34m(self)\u001B[0m\n\u001B[0;32m   1081\u001B[0m                 \u001B[0mresults\u001B[0m\u001B[1;33m[\u001B[0m\u001B[0mi\u001B[0m\u001B[1;33m]\u001B[0m \u001B[1;33m=\u001B[0m \u001B[0mself\u001B[0m\u001B[1;33m.\u001B[0m\u001B[0mfunc\u001B[0m\u001B[1;33m(\u001B[0m\u001B[0mv\u001B[0m\u001B[1;33m,\u001B[0m \u001B[1;33m*\u001B[0m\u001B[0mself\u001B[0m\u001B[1;33m.\u001B[0m\u001B[0margs\u001B[0m\u001B[1;33m,\u001B[0m \u001B[1;33m**\u001B[0m\u001B[0mself\u001B[0m\u001B[1;33m.\u001B[0m\u001B[0mkwargs\u001B[0m\u001B[1;33m)\u001B[0m\u001B[1;33m\u001B[0m\u001B[1;33m\u001B[0m\u001B[0m\n\u001B[0;32m   1082\u001B[0m                 \u001B[1;32mif\u001B[0m \u001B[0misinstance\u001B[0m\u001B[1;33m(\u001B[0m\u001B[0mresults\u001B[0m\u001B[1;33m[\u001B[0m\u001B[0mi\u001B[0m\u001B[1;33m]\u001B[0m\u001B[1;33m,\u001B[0m \u001B[0mABCSeries\u001B[0m\u001B[1;33m)\u001B[0m\u001B[1;33m:\u001B[0m\u001B[1;33m\u001B[0m\u001B[1;33m\u001B[0m\u001B[0m\n\u001B[0;32m   1083\u001B[0m                     \u001B[1;31m# If we have a view on v, we need to make a copy because\u001B[0m\u001B[1;33m\u001B[0m\u001B[1;33m\u001B[0m\u001B[0m\n\u001B[0;32m   1084\u001B[0m                     \u001B[1;31m#  series_generator will swap out the underlying data\u001B[0m\u001B[1;33m\u001B[0m\u001B[1;33m\u001B[0m\u001B[0m\n\u001B[1;32m-> 1085\u001B[1;33m                     \u001B[0mresults\u001B[0m\u001B[1;33m[\u001B[0m\u001B[0mi\u001B[0m\u001B[1;33m]\u001B[0m \u001B[1;33m=\u001B[0m \u001B[0mresults\u001B[0m\u001B[1;33m[\u001B[0m\u001B[0mi\u001B[0m\u001B[1;33m]\u001B[0m\u001B[1;33m.\u001B[0m\u001B[0mcopy\u001B[0m\u001B[1;33m(\u001B[0m\u001B[0mdeep\u001B[0m\u001B[1;33m=\u001B[0m\u001B[1;32mFalse\u001B[0m\u001B[1;33m)\u001B[0m\u001B[1;33m\u001B[0m\u001B[1;33m\u001B[0m\u001B[0m\n\u001B[0m\u001B[0;32m   1086\u001B[0m \u001B[1;33m\u001B[0m\u001B[0m\n\u001B[0;32m   1087\u001B[0m         \u001B[1;32mreturn\u001B[0m \u001B[0mresults\u001B[0m\u001B[1;33m,\u001B[0m \u001B[0mres_index\u001B[0m\u001B[1;33m\u001B[0m\u001B[1;33m\u001B[0m\u001B[0m\n",
      "\u001B[1;32m~\\AppData\\Local\\Temp\\ipykernel_17180\\514566591.py\u001B[0m in \u001B[0;36m?\u001B[1;34m(x)\u001B[0m\n\u001B[1;32m----> 1\u001B[1;33m \u001B[0mnobel_DF\u001B[0m\u001B[1;33m.\u001B[0m\u001B[0mapply\u001B[0m\u001B[1;33m(\u001B[0m\u001B[1;32mlambda\u001B[0m \u001B[0mx\u001B[0m\u001B[1;33m:\u001B[0m\u001B[0mx\u001B[0m\u001B[1;33m.\u001B[0m\u001B[0msetdefault\u001B[0m\u001B[1;33m(\u001B[0m\u001B[1;34m'laureates'\u001B[0m\u001B[1;33m,\u001B[0m \u001B[1;33m[\u001B[0m\u001B[1;33m]\u001B[0m\u001B[1;33m)\u001B[0m\u001B[1;33m,\u001B[0m \u001B[0maxis\u001B[0m\u001B[1;33m=\u001B[0m\u001B[1;36m0\u001B[0m\u001B[1;33m)\u001B[0m\u001B[1;33m\u001B[0m\u001B[1;33m\u001B[0m\u001B[0m\n\u001B[0m",
      "\u001B[1;32m~\\PycharmProjects\\PandasPractice\\.venv\\lib\\site-packages\\pandas\\core\\generic.py\u001B[0m in \u001B[0;36m?\u001B[1;34m(self, name)\u001B[0m\n\u001B[0;32m   6289\u001B[0m             \u001B[1;32mand\u001B[0m \u001B[0mname\u001B[0m \u001B[1;32mnot\u001B[0m \u001B[1;32min\u001B[0m \u001B[0mself\u001B[0m\u001B[1;33m.\u001B[0m\u001B[0m_accessors\u001B[0m\u001B[1;33m\u001B[0m\u001B[1;33m\u001B[0m\u001B[0m\n\u001B[0;32m   6290\u001B[0m             \u001B[1;32mand\u001B[0m \u001B[0mself\u001B[0m\u001B[1;33m.\u001B[0m\u001B[0m_info_axis\u001B[0m\u001B[1;33m.\u001B[0m\u001B[0m_can_hold_identifiers_and_holds_name\u001B[0m\u001B[1;33m(\u001B[0m\u001B[0mname\u001B[0m\u001B[1;33m)\u001B[0m\u001B[1;33m\u001B[0m\u001B[1;33m\u001B[0m\u001B[0m\n\u001B[0;32m   6291\u001B[0m         ):\n\u001B[0;32m   6292\u001B[0m             \u001B[1;32mreturn\u001B[0m \u001B[0mself\u001B[0m\u001B[1;33m[\u001B[0m\u001B[0mname\u001B[0m\u001B[1;33m]\u001B[0m\u001B[1;33m\u001B[0m\u001B[1;33m\u001B[0m\u001B[0m\n\u001B[1;32m-> 6293\u001B[1;33m         \u001B[1;32mreturn\u001B[0m \u001B[0mobject\u001B[0m\u001B[1;33m.\u001B[0m\u001B[0m__getattribute__\u001B[0m\u001B[1;33m(\u001B[0m\u001B[0mself\u001B[0m\u001B[1;33m,\u001B[0m \u001B[0mname\u001B[0m\u001B[1;33m)\u001B[0m\u001B[1;33m\u001B[0m\u001B[1;33m\u001B[0m\u001B[0m\n\u001B[0m",
      "\u001B[1;31mAttributeError\u001B[0m: 'Series' object has no attribute 'setdefault'"
     ]
    }
   ],
   "source": [
    "# nobel_DF.apply(lambda x:x.setdefault('laureates', []), axis=0)"
   ],
   "metadata": {
    "collapsed": false,
    "ExecuteTime": {
     "end_time": "2024-01-15T04:21:19.311033300Z",
     "start_time": "2024-01-15T04:21:19.282598800Z"
    }
   },
   "id": "db2344fc00a32b55",
   "execution_count": 29
  },
  {
   "cell_type": "markdown",
   "source": [
    "- (7) JSON의 다양한 방식의 DataFrame 저장하기 => orient 파라미터"
   ],
   "metadata": {
    "collapsed": false
   },
   "id": "b7d00705ce582553"
  },
  {
   "cell_type": "code",
   "outputs": [],
   "source": [
    "# 데이터 => 키 : {값}\n",
    "json_data = '''\n",
    "[\n",
    "    { \"id\": \"1\", \"name\": \"test1\", \"age\": 22},\n",
    "    { \"id\": \"2\", \"name\": \"test2\", \"age\": 23},\n",
    "    { \"id\": \"3\", \"name\": \"test3\", \"age\": 24},\n",
    "    { \"id\": \"4\", \"name\": \"test4\", \"age\": 25}\n",
    "]'''"
   ],
   "metadata": {
    "collapsed": false,
    "ExecuteTime": {
     "end_time": "2024-01-15T04:25:29.352347900Z",
     "start_time": "2024-01-15T04:25:29.334339400Z"
    }
   },
   "id": "f768137827e238fb",
   "execution_count": 34
  },
  {
   "cell_type": "markdown",
   "source": [
    "\n",
    "- orient = \"record\" 설정 => JSON 파일 데이터를 행 단위로 읽어서 DataFrame에 저장"
   ],
   "metadata": {
    "collapsed": false
   },
   "id": "db71a9ce00fde0bc"
  },
  {
   "cell_type": "code",
   "outputs": [
    {
     "name": "stderr",
     "output_type": "stream",
     "text": [
      "C:\\Users\\Administrator\\AppData\\Local\\Temp\\ipykernel_17180\\2704247045.py:1: FutureWarning: Passing literal json to 'read_json' is deprecated and will be removed in a future version. To read from a literal string, wrap it in a 'StringIO' object.\n",
      "  df = pd.read_json(json_data, orient='records')\n"
     ]
    },
    {
     "data": {
      "text/plain": "   id   name  age\n0   1  test1   22\n1   2  test2   23\n2   3  test3   24\n3   4  test4   25",
      "text/html": "<div>\n<style scoped>\n    .dataframe tbody tr th:only-of-type {\n        vertical-align: middle;\n    }\n\n    .dataframe tbody tr th {\n        vertical-align: top;\n    }\n\n    .dataframe thead th {\n        text-align: right;\n    }\n</style>\n<table border=\"1\" class=\"dataframe\">\n  <thead>\n    <tr style=\"text-align: right;\">\n      <th></th>\n      <th>id</th>\n      <th>name</th>\n      <th>age</th>\n    </tr>\n  </thead>\n  <tbody>\n    <tr>\n      <th>0</th>\n      <td>1</td>\n      <td>test1</td>\n      <td>22</td>\n    </tr>\n    <tr>\n      <th>1</th>\n      <td>2</td>\n      <td>test2</td>\n      <td>23</td>\n    </tr>\n    <tr>\n      <th>2</th>\n      <td>3</td>\n      <td>test3</td>\n      <td>24</td>\n    </tr>\n    <tr>\n      <th>3</th>\n      <td>4</td>\n      <td>test4</td>\n      <td>25</td>\n    </tr>\n  </tbody>\n</table>\n</div>"
     },
     "execution_count": 35,
     "metadata": {},
     "output_type": "execute_result"
    }
   ],
   "source": [
    "df = pd.read_json(json_data, orient='records')\n",
    "df"
   ],
   "metadata": {
    "collapsed": false,
    "ExecuteTime": {
     "end_time": "2024-01-15T04:25:30.412316900Z",
     "start_time": "2024-01-15T04:25:30.398178700Z"
    }
   },
   "id": "fe37555e6a32111d",
   "execution_count": 35
  },
  {
   "cell_type": "code",
   "outputs": [
    {
     "name": "stderr",
     "output_type": "stream",
     "text": [
      "C:\\Users\\Administrator\\AppData\\Local\\Temp\\ipykernel_17180\\688710320.py:10: FutureWarning: Passing literal json to 'read_json' is deprecated and will be removed in a future version. To read from a literal string, wrap it in a 'StringIO' object.\n",
      "  df2 = pd.read_json(json_data2, orient='index')\n"
     ]
    },
    {
     "data": {
      "text/plain": "     name  age\nstd1  가나다   22\nstd2  가나다   22\nstd3  가나다   22\nstd4  가나다   22",
      "text/html": "<div>\n<style scoped>\n    .dataframe tbody tr th:only-of-type {\n        vertical-align: middle;\n    }\n\n    .dataframe tbody tr th {\n        vertical-align: top;\n    }\n\n    .dataframe thead th {\n        text-align: right;\n    }\n</style>\n<table border=\"1\" class=\"dataframe\">\n  <thead>\n    <tr style=\"text-align: right;\">\n      <th></th>\n      <th>name</th>\n      <th>age</th>\n    </tr>\n  </thead>\n  <tbody>\n    <tr>\n      <th>std1</th>\n      <td>가나다</td>\n      <td>22</td>\n    </tr>\n    <tr>\n      <th>std2</th>\n      <td>가나다</td>\n      <td>22</td>\n    </tr>\n    <tr>\n      <th>std3</th>\n      <td>가나다</td>\n      <td>22</td>\n    </tr>\n    <tr>\n      <th>std4</th>\n      <td>가나다</td>\n      <td>22</td>\n    </tr>\n  </tbody>\n</table>\n</div>"
     },
     "execution_count": 37,
     "metadata": {},
     "output_type": "execute_result"
    }
   ],
   "source": [
    "json_data2 = '''\n",
    "{\n",
    "    \"std1\": {\"name\":\"가나다\", \"age\": 22},\n",
    "    \"std2\": {\"name\":\"가나다\", \"age\": 22},\n",
    "    \"std3\": {\"name\":\"가나다\", \"age\": 22},\n",
    "    \"std4\": {\"name\":\"가나다\", \"age\": 22}\n",
    "}\n",
    "'''\n",
    "\n",
    "df2 = pd.read_json(json_data2, orient='index')\n",
    "df2"
   ],
   "metadata": {
    "collapsed": false,
    "ExecuteTime": {
     "end_time": "2024-01-15T04:31:52.615832Z",
     "start_time": "2024-01-15T04:31:52.584224600Z"
    }
   },
   "id": "f41752c1eaf238aa",
   "execution_count": 37
  },
  {
   "cell_type": "code",
   "outputs": [
    {
     "name": "stderr",
     "output_type": "stream",
     "text": [
      "C:\\Users\\Administrator\\AppData\\Local\\Temp\\ipykernel_17180\\805640869.py:1: FutureWarning: Passing literal json to 'read_json' is deprecated and will be removed in a future version. To read from a literal string, wrap it in a 'StringIO' object.\n",
      "  df22 = pd.read_json(json_data2, orient='columns')\n"
     ]
    },
    {
     "data": {
      "text/plain": "     std1 std2 std3 std4\nname  가나다  가나다  가나다  가나다\nage    22   22   22   22",
      "text/html": "<div>\n<style scoped>\n    .dataframe tbody tr th:only-of-type {\n        vertical-align: middle;\n    }\n\n    .dataframe tbody tr th {\n        vertical-align: top;\n    }\n\n    .dataframe thead th {\n        text-align: right;\n    }\n</style>\n<table border=\"1\" class=\"dataframe\">\n  <thead>\n    <tr style=\"text-align: right;\">\n      <th></th>\n      <th>std1</th>\n      <th>std2</th>\n      <th>std3</th>\n      <th>std4</th>\n    </tr>\n  </thead>\n  <tbody>\n    <tr>\n      <th>name</th>\n      <td>가나다</td>\n      <td>가나다</td>\n      <td>가나다</td>\n      <td>가나다</td>\n    </tr>\n    <tr>\n      <th>age</th>\n      <td>22</td>\n      <td>22</td>\n      <td>22</td>\n      <td>22</td>\n    </tr>\n  </tbody>\n</table>\n</div>"
     },
     "execution_count": 41,
     "metadata": {},
     "output_type": "execute_result"
    }
   ],
   "source": [
    "df22 = pd.read_json(json_data2, orient='columns')\n",
    "df22"
   ],
   "metadata": {
    "collapsed": false,
    "ExecuteTime": {
     "end_time": "2024-01-15T04:45:12.732963900Z",
     "start_time": "2024-01-15T04:45:12.707964500Z"
    }
   },
   "id": "d8aa5dbaee3355",
   "execution_count": 41
  },
  {
   "cell_type": "code",
   "outputs": [
    {
     "name": "stderr",
     "output_type": "stream",
     "text": [
      "C:\\Users\\Administrator\\AppData\\Local\\Temp\\ipykernel_17180\\2754054162.py:12: FutureWarning: Passing literal json to 'read_json' is deprecated and will be removed in a future version. To read from a literal string, wrap it in a 'StringIO' object.\n",
      "  pd.read_json(json_data3, orient='values')\n"
     ]
    },
    {
     "data": {
      "text/plain": "   0    1   2\n0  1  가나다  33\n1  1  가나다  33\n2  1  가나다  33\n3  1  가나다  33\n4  1  가나다  33\n5  1  가나다  33\n6  1  가나다  33",
      "text/html": "<div>\n<style scoped>\n    .dataframe tbody tr th:only-of-type {\n        vertical-align: middle;\n    }\n\n    .dataframe tbody tr th {\n        vertical-align: top;\n    }\n\n    .dataframe thead th {\n        text-align: right;\n    }\n</style>\n<table border=\"1\" class=\"dataframe\">\n  <thead>\n    <tr style=\"text-align: right;\">\n      <th></th>\n      <th>0</th>\n      <th>1</th>\n      <th>2</th>\n    </tr>\n  </thead>\n  <tbody>\n    <tr>\n      <th>0</th>\n      <td>1</td>\n      <td>가나다</td>\n      <td>33</td>\n    </tr>\n    <tr>\n      <th>1</th>\n      <td>1</td>\n      <td>가나다</td>\n      <td>33</td>\n    </tr>\n    <tr>\n      <th>2</th>\n      <td>1</td>\n      <td>가나다</td>\n      <td>33</td>\n    </tr>\n    <tr>\n      <th>3</th>\n      <td>1</td>\n      <td>가나다</td>\n      <td>33</td>\n    </tr>\n    <tr>\n      <th>4</th>\n      <td>1</td>\n      <td>가나다</td>\n      <td>33</td>\n    </tr>\n    <tr>\n      <th>5</th>\n      <td>1</td>\n      <td>가나다</td>\n      <td>33</td>\n    </tr>\n    <tr>\n      <th>6</th>\n      <td>1</td>\n      <td>가나다</td>\n      <td>33</td>\n    </tr>\n  </tbody>\n</table>\n</div>"
     },
     "execution_count": 44,
     "metadata": {},
     "output_type": "execute_result"
    }
   ],
   "source": [
    "json_data3 = '''\n",
    "[\n",
    "    [\"1\",\"가나다\",33],\n",
    "    [\"1\",\"가나다\",33],\n",
    "    [\"1\",\"가나다\",33],\n",
    "    [\"1\",\"가나다\",33],\n",
    "    [\"1\",\"가나다\",33],\n",
    "    [\"1\",\"가나다\",33],\n",
    "    [\"1\",\"가나다\",33]\n",
    "]\n",
    "'''\n",
    "pd.read_json(json_data3, orient='values')"
   ],
   "metadata": {
    "collapsed": false,
    "ExecuteTime": {
     "end_time": "2024-01-15T04:48:50.845998600Z",
     "start_time": "2024-01-15T04:48:50.819949500Z"
    }
   },
   "id": "452010d8a2ebde83",
   "execution_count": 44
  },
  {
   "cell_type": "code",
   "outputs": [],
   "source": [],
   "metadata": {
    "collapsed": false
   },
   "id": "c226eef52ff5fdfa"
  }
 ],
 "metadata": {
  "kernelspec": {
   "display_name": "Python 3",
   "language": "python",
   "name": "python3"
  },
  "language_info": {
   "codemirror_mode": {
    "name": "ipython",
    "version": 2
   },
   "file_extension": ".py",
   "mimetype": "text/x-python",
   "name": "python",
   "nbconvert_exporter": "python",
   "pygments_lexer": "ipython2",
   "version": "2.7.6"
  }
 },
 "nbformat": 4,
 "nbformat_minor": 5
}
