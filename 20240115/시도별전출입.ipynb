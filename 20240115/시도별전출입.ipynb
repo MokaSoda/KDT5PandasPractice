{
 "cells": [
  {
   "cell_type": "code",
   "execution_count": 24,
   "id": "initial_id",
   "metadata": {
    "collapsed": true,
    "ExecuteTime": {
     "end_time": "2024-01-16T04:59:47.402717Z",
     "start_time": "2024-01-16T04:59:47.388213600Z"
    }
   },
   "outputs": [],
   "source": [
    "import pandas as pd\n",
    "import numpy as np"
   ]
  },
  {
   "cell_type": "code",
   "outputs": [
    {
     "data": {
      "text/plain": "'1983'"
     },
     "execution_count": 32,
     "metadata": {},
     "output_type": "execute_result"
    }
   ],
   "source": [
    "file = '../DATA/시도별 전출입 인구수.xlsx'\n",
    "\n",
    "test = pd.read_excel(file,index_col=[0,1], header=[0], skiprows=[1])\n",
    "test = test.apply(lambda x :pd.to_numeric(x, errors='coerce', downcast='unsigned'), axis='columns').fillna(0).astype('int64')\n",
    "\n",
    "test.loc[(\"전국\", \"서울특별시\")].sort_values(ascending=False).index[0]\n",
    "\n"
   ],
   "metadata": {
    "collapsed": false,
    "ExecuteTime": {
     "end_time": "2024-01-16T05:03:38.351891400Z",
     "start_time": "2024-01-16T05:03:38.149177800Z"
    }
   },
   "id": "6b3f221cc7e69d01",
   "execution_count": 32
  },
  {
   "cell_type": "code",
   "outputs": [
    {
     "data": {
      "text/plain": "                    1970     1971     1972     1973     1974     1975  \\\n전출지별    전입지별                                                            \n전국      전국       4046536  4210164  3687938  4860418  5297969  9011440   \n        서울특별시    1742813  1671705  1349333  1831858  2050392  3396662   \n        부산광역시     448577   389797   362202   482061   680984   805979   \n        대구광역시          0        0        0        0        0        0   \n        인천광역시          0        0        0        0        0        0   \n...                  ...      ...      ...      ...      ...      ...   \n제주특별자치도 전라북도         139      202      141      210      219      415   \n        전라남도         631      965      857      952     1133     2808   \n        경상북도         374      619      468      576      625     1123   \n        경상남도         474      479      440      571     1208     1517   \n        제주특별자치도     9290    12427    12210    16158    19580    34221   \n\n                    1976     1977     1978     1979  ...     2008     2009  \\\n전출지별    전입지별                                         ...                     \n전국      전국       6773250  7397623  8410276  7324380  ...  8808256  8487275   \n        서울특별시    2756510  2893403  3307439  2589667  ...  2025358  1873188   \n        부산광역시     724664   785117   895337   809483  ...   514502   519310   \n        대구광역시          0        0        0        0  ...   409938   398626   \n        인천광역시          0        0        0        0  ...   565585   478169   \n...                  ...      ...      ...      ...  ...      ...      ...   \n제주특별자치도 전라북도         392      408      363      354  ...      668      579   \n        전라남도        2608     2652     2722     2178  ...     1143     1123   \n        경상북도        1141     1004     1009      818  ...      761      704   \n        경상남도         863     1122     1331     1290  ...     1517     1474   \n        제주특별자치도    23291    31028    30719    30064  ...    59564    55673   \n\n                    2010     2011     2012     2013     2014     2015  \\\n전출지별    전입지별                                                            \n전국      전국       8226594  8127195  7506691  7411784  7629098  7755286   \n        서울특별시    1733015  1721748  1555281  1520090  1573594  1589431   \n        부산광역시     519334   508043   461042   478451   485710   507031   \n        대구광역시     370817   370563   348642   351873   350213   351424   \n        인천광역시     462051   499567   468666   461613   452297   473223   \n...                  ...      ...      ...      ...      ...      ...   \n제주특별자치도 전라북도         672      561      551      516      609      683   \n        전라남도        1002     1026      966     1001      928     1062   \n        경상북도         738      756      699      781      728      903   \n        경상남도        1324     1367     1227     1278     1223     1500   \n        제주특별자치도    55507    59846    54280    60607    59673    59036   \n\n                    2016     2017  \n전출지별    전입지별                       \n전국      전국       7378430  7154226  \n        서울특별시    1515602  1472937  \n        부산광역시     459015   439073  \n        대구광역시     328228   321182  \n        인천광역시     441646   409465  \n...                  ...      ...  \n제주특별자치도 전라북도         733      768  \n        전라남도        1127     1102  \n        경상북도         931      994  \n        경상남도        1448     1501  \n        제주특별자치도    66444    63275  \n\n[324 rows x 48 columns]",
      "text/html": "<div>\n<style scoped>\n    .dataframe tbody tr th:only-of-type {\n        vertical-align: middle;\n    }\n\n    .dataframe tbody tr th {\n        vertical-align: top;\n    }\n\n    .dataframe thead th {\n        text-align: right;\n    }\n</style>\n<table border=\"1\" class=\"dataframe\">\n  <thead>\n    <tr style=\"text-align: right;\">\n      <th></th>\n      <th></th>\n      <th>1970</th>\n      <th>1971</th>\n      <th>1972</th>\n      <th>1973</th>\n      <th>1974</th>\n      <th>1975</th>\n      <th>1976</th>\n      <th>1977</th>\n      <th>1978</th>\n      <th>1979</th>\n      <th>...</th>\n      <th>2008</th>\n      <th>2009</th>\n      <th>2010</th>\n      <th>2011</th>\n      <th>2012</th>\n      <th>2013</th>\n      <th>2014</th>\n      <th>2015</th>\n      <th>2016</th>\n      <th>2017</th>\n    </tr>\n    <tr>\n      <th>전출지별</th>\n      <th>전입지별</th>\n      <th></th>\n      <th></th>\n      <th></th>\n      <th></th>\n      <th></th>\n      <th></th>\n      <th></th>\n      <th></th>\n      <th></th>\n      <th></th>\n      <th></th>\n      <th></th>\n      <th></th>\n      <th></th>\n      <th></th>\n      <th></th>\n      <th></th>\n      <th></th>\n      <th></th>\n      <th></th>\n      <th></th>\n    </tr>\n  </thead>\n  <tbody>\n    <tr>\n      <th rowspan=\"5\" valign=\"top\">전국</th>\n      <th>전국</th>\n      <td>4046536</td>\n      <td>4210164</td>\n      <td>3687938</td>\n      <td>4860418</td>\n      <td>5297969</td>\n      <td>9011440</td>\n      <td>6773250</td>\n      <td>7397623</td>\n      <td>8410276</td>\n      <td>7324380</td>\n      <td>...</td>\n      <td>8808256</td>\n      <td>8487275</td>\n      <td>8226594</td>\n      <td>8127195</td>\n      <td>7506691</td>\n      <td>7411784</td>\n      <td>7629098</td>\n      <td>7755286</td>\n      <td>7378430</td>\n      <td>7154226</td>\n    </tr>\n    <tr>\n      <th>서울특별시</th>\n      <td>1742813</td>\n      <td>1671705</td>\n      <td>1349333</td>\n      <td>1831858</td>\n      <td>2050392</td>\n      <td>3396662</td>\n      <td>2756510</td>\n      <td>2893403</td>\n      <td>3307439</td>\n      <td>2589667</td>\n      <td>...</td>\n      <td>2025358</td>\n      <td>1873188</td>\n      <td>1733015</td>\n      <td>1721748</td>\n      <td>1555281</td>\n      <td>1520090</td>\n      <td>1573594</td>\n      <td>1589431</td>\n      <td>1515602</td>\n      <td>1472937</td>\n    </tr>\n    <tr>\n      <th>부산광역시</th>\n      <td>448577</td>\n      <td>389797</td>\n      <td>362202</td>\n      <td>482061</td>\n      <td>680984</td>\n      <td>805979</td>\n      <td>724664</td>\n      <td>785117</td>\n      <td>895337</td>\n      <td>809483</td>\n      <td>...</td>\n      <td>514502</td>\n      <td>519310</td>\n      <td>519334</td>\n      <td>508043</td>\n      <td>461042</td>\n      <td>478451</td>\n      <td>485710</td>\n      <td>507031</td>\n      <td>459015</td>\n      <td>439073</td>\n    </tr>\n    <tr>\n      <th>대구광역시</th>\n      <td>0</td>\n      <td>0</td>\n      <td>0</td>\n      <td>0</td>\n      <td>0</td>\n      <td>0</td>\n      <td>0</td>\n      <td>0</td>\n      <td>0</td>\n      <td>0</td>\n      <td>...</td>\n      <td>409938</td>\n      <td>398626</td>\n      <td>370817</td>\n      <td>370563</td>\n      <td>348642</td>\n      <td>351873</td>\n      <td>350213</td>\n      <td>351424</td>\n      <td>328228</td>\n      <td>321182</td>\n    </tr>\n    <tr>\n      <th>인천광역시</th>\n      <td>0</td>\n      <td>0</td>\n      <td>0</td>\n      <td>0</td>\n      <td>0</td>\n      <td>0</td>\n      <td>0</td>\n      <td>0</td>\n      <td>0</td>\n      <td>0</td>\n      <td>...</td>\n      <td>565585</td>\n      <td>478169</td>\n      <td>462051</td>\n      <td>499567</td>\n      <td>468666</td>\n      <td>461613</td>\n      <td>452297</td>\n      <td>473223</td>\n      <td>441646</td>\n      <td>409465</td>\n    </tr>\n    <tr>\n      <th>...</th>\n      <th>...</th>\n      <td>...</td>\n      <td>...</td>\n      <td>...</td>\n      <td>...</td>\n      <td>...</td>\n      <td>...</td>\n      <td>...</td>\n      <td>...</td>\n      <td>...</td>\n      <td>...</td>\n      <td>...</td>\n      <td>...</td>\n      <td>...</td>\n      <td>...</td>\n      <td>...</td>\n      <td>...</td>\n      <td>...</td>\n      <td>...</td>\n      <td>...</td>\n      <td>...</td>\n      <td>...</td>\n    </tr>\n    <tr>\n      <th rowspan=\"5\" valign=\"top\">제주특별자치도</th>\n      <th>전라북도</th>\n      <td>139</td>\n      <td>202</td>\n      <td>141</td>\n      <td>210</td>\n      <td>219</td>\n      <td>415</td>\n      <td>392</td>\n      <td>408</td>\n      <td>363</td>\n      <td>354</td>\n      <td>...</td>\n      <td>668</td>\n      <td>579</td>\n      <td>672</td>\n      <td>561</td>\n      <td>551</td>\n      <td>516</td>\n      <td>609</td>\n      <td>683</td>\n      <td>733</td>\n      <td>768</td>\n    </tr>\n    <tr>\n      <th>전라남도</th>\n      <td>631</td>\n      <td>965</td>\n      <td>857</td>\n      <td>952</td>\n      <td>1133</td>\n      <td>2808</td>\n      <td>2608</td>\n      <td>2652</td>\n      <td>2722</td>\n      <td>2178</td>\n      <td>...</td>\n      <td>1143</td>\n      <td>1123</td>\n      <td>1002</td>\n      <td>1026</td>\n      <td>966</td>\n      <td>1001</td>\n      <td>928</td>\n      <td>1062</td>\n      <td>1127</td>\n      <td>1102</td>\n    </tr>\n    <tr>\n      <th>경상북도</th>\n      <td>374</td>\n      <td>619</td>\n      <td>468</td>\n      <td>576</td>\n      <td>625</td>\n      <td>1123</td>\n      <td>1141</td>\n      <td>1004</td>\n      <td>1009</td>\n      <td>818</td>\n      <td>...</td>\n      <td>761</td>\n      <td>704</td>\n      <td>738</td>\n      <td>756</td>\n      <td>699</td>\n      <td>781</td>\n      <td>728</td>\n      <td>903</td>\n      <td>931</td>\n      <td>994</td>\n    </tr>\n    <tr>\n      <th>경상남도</th>\n      <td>474</td>\n      <td>479</td>\n      <td>440</td>\n      <td>571</td>\n      <td>1208</td>\n      <td>1517</td>\n      <td>863</td>\n      <td>1122</td>\n      <td>1331</td>\n      <td>1290</td>\n      <td>...</td>\n      <td>1517</td>\n      <td>1474</td>\n      <td>1324</td>\n      <td>1367</td>\n      <td>1227</td>\n      <td>1278</td>\n      <td>1223</td>\n      <td>1500</td>\n      <td>1448</td>\n      <td>1501</td>\n    </tr>\n    <tr>\n      <th>제주특별자치도</th>\n      <td>9290</td>\n      <td>12427</td>\n      <td>12210</td>\n      <td>16158</td>\n      <td>19580</td>\n      <td>34221</td>\n      <td>23291</td>\n      <td>31028</td>\n      <td>30719</td>\n      <td>30064</td>\n      <td>...</td>\n      <td>59564</td>\n      <td>55673</td>\n      <td>55507</td>\n      <td>59846</td>\n      <td>54280</td>\n      <td>60607</td>\n      <td>59673</td>\n      <td>59036</td>\n      <td>66444</td>\n      <td>63275</td>\n    </tr>\n  </tbody>\n</table>\n<p>324 rows × 48 columns</p>\n</div>"
     },
     "execution_count": 33,
     "metadata": {},
     "output_type": "execute_result"
    }
   ],
   "source": [
    "test\n"
   ],
   "metadata": {
    "collapsed": false,
    "ExecuteTime": {
     "end_time": "2024-01-16T05:03:39.391942300Z",
     "start_time": "2024-01-16T05:03:39.377940300Z"
    }
   },
   "id": "f31235b17a9d02c5",
   "execution_count": 33
  },
  {
   "cell_type": "code",
   "outputs": [
    {
     "data": {
      "text/plain": "'2016'"
     },
     "execution_count": 34,
     "metadata": {},
     "output_type": "execute_result"
    }
   ],
   "source": [
    "test.loc[(\"전국\", \"제주특별자치도\")].sort_values(ascending=False).index[0]"
   ],
   "metadata": {
    "collapsed": false,
    "ExecuteTime": {
     "end_time": "2024-01-16T05:03:39.799832800Z",
     "start_time": "2024-01-16T05:03:39.770936500Z"
    }
   },
   "id": "17b3cfe4272d8c2e",
   "execution_count": 34
  },
  {
   "cell_type": "code",
   "outputs": [
    {
     "data": {
      "text/plain": "'1975'"
     },
     "execution_count": 35,
     "metadata": {},
     "output_type": "execute_result"
    }
   ],
   "source": [
    "test.loc[(\"제주특별자치도\", \"서울특별시\")].sort_values(ascending=False).index[0]"
   ],
   "metadata": {
    "collapsed": false,
    "ExecuteTime": {
     "end_time": "2024-01-16T05:03:39.947531900Z",
     "start_time": "2024-01-16T05:03:39.936531600Z"
    }
   },
   "id": "e6fc600f18987fbd",
   "execution_count": 35
  },
  {
   "cell_type": "code",
   "outputs": [
    {
     "data": {
      "text/plain": "'2016'"
     },
     "execution_count": 36,
     "metadata": {},
     "output_type": "execute_result"
    }
   ],
   "source": [
    "test.loc[(\"서울특별시\", \"제주특별자치도\")].sort_values(ascending=False).index[0]"
   ],
   "metadata": {
    "collapsed": false,
    "ExecuteTime": {
     "end_time": "2024-01-16T05:03:40.339732300Z",
     "start_time": "2024-01-16T05:03:40.327413100Z"
    }
   },
   "id": "767706c8cf0f0887",
   "execution_count": 36
  },
  {
   "cell_type": "code",
   "outputs": [
    {
     "name": "stdout",
     "output_type": "stream",
     "text": [
      "<class 'pandas.core.frame.DataFrame'>\n",
      "MultiIndex: 324 entries, ('전국', '전국') to ('제주특별자치도', '제주특별자치도')\n",
      "Data columns (total 48 columns):\n",
      " #   Column  Non-Null Count  Dtype\n",
      "---  ------  --------------  -----\n",
      " 0   1970    324 non-null    int64\n",
      " 1   1971    324 non-null    int64\n",
      " 2   1972    324 non-null    int64\n",
      " 3   1973    324 non-null    int64\n",
      " 4   1974    324 non-null    int64\n",
      " 5   1975    324 non-null    int64\n",
      " 6   1976    324 non-null    int64\n",
      " 7   1977    324 non-null    int64\n",
      " 8   1978    324 non-null    int64\n",
      " 9   1979    324 non-null    int64\n",
      " 10  1980    324 non-null    int64\n",
      " 11  1981    324 non-null    int64\n",
      " 12  1982    324 non-null    int64\n",
      " 13  1983    324 non-null    int64\n",
      " 14  1984    324 non-null    int64\n",
      " 15  1985    324 non-null    int64\n",
      " 16  1986    324 non-null    int64\n",
      " 17  1987    324 non-null    int64\n",
      " 18  1988    324 non-null    int64\n",
      " 19  1989    324 non-null    int64\n",
      " 20  1990    324 non-null    int64\n",
      " 21  1991    324 non-null    int64\n",
      " 22  1992    324 non-null    int64\n",
      " 23  1993    324 non-null    int64\n",
      " 24  1994    324 non-null    int64\n",
      " 25  1995    324 non-null    int64\n",
      " 26  1996    324 non-null    int64\n",
      " 27  1997    324 non-null    int64\n",
      " 28  1998    324 non-null    int64\n",
      " 29  1999    324 non-null    int64\n",
      " 30  2000    324 non-null    int64\n",
      " 31  2001    324 non-null    int64\n",
      " 32  2002    324 non-null    int64\n",
      " 33  2003    324 non-null    int64\n",
      " 34  2004    324 non-null    int64\n",
      " 35  2005    324 non-null    int64\n",
      " 36  2006    324 non-null    int64\n",
      " 37  2007    324 non-null    int64\n",
      " 38  2008    324 non-null    int64\n",
      " 39  2009    324 non-null    int64\n",
      " 40  2010    324 non-null    int64\n",
      " 41  2011    324 non-null    int64\n",
      " 42  2012    324 non-null    int64\n",
      " 43  2013    324 non-null    int64\n",
      " 44  2014    324 non-null    int64\n",
      " 45  2015    324 non-null    int64\n",
      " 46  2016    324 non-null    int64\n",
      " 47  2017    324 non-null    int64\n",
      "dtypes: int64(48)\n",
      "memory usage: 131.8+ KB\n"
     ]
    }
   ],
   "source": [
    "test.info()"
   ],
   "metadata": {
    "collapsed": false,
    "ExecuteTime": {
     "end_time": "2024-01-16T05:03:40.750730300Z",
     "start_time": "2024-01-16T05:03:40.727752400Z"
    }
   },
   "id": "213478955c8861e2",
   "execution_count": 37
  },
  {
   "cell_type": "code",
   "outputs": [],
   "source": [],
   "metadata": {
    "collapsed": false,
    "ExecuteTime": {
     "end_time": "2024-01-16T04:59:48.405662300Z",
     "start_time": "2024-01-16T04:59:48.394186700Z"
    }
   },
   "id": "5eb7239be774e0c1",
   "execution_count": 30
  },
  {
   "cell_type": "code",
   "outputs": [],
   "source": [],
   "metadata": {
    "collapsed": false,
    "ExecuteTime": {
     "end_time": "2024-01-16T04:59:48.462249500Z",
     "start_time": "2024-01-16T04:59:48.450250800Z"
    }
   },
   "id": "ef250480b8d8bae1",
   "execution_count": 30
  },
  {
   "cell_type": "code",
   "outputs": [],
   "source": [],
   "metadata": {
    "collapsed": false
   },
   "id": "51e38e4ab2030340"
  }
 ],
 "metadata": {
  "kernelspec": {
   "display_name": "Python 3",
   "language": "python",
   "name": "python3"
  },
  "language_info": {
   "codemirror_mode": {
    "name": "ipython",
    "version": 2
   },
   "file_extension": ".py",
   "mimetype": "text/x-python",
   "name": "python",
   "nbconvert_exporter": "python",
   "pygments_lexer": "ipython2",
   "version": "2.7.6"
  }
 },
 "nbformat": 4,
 "nbformat_minor": 5
}
